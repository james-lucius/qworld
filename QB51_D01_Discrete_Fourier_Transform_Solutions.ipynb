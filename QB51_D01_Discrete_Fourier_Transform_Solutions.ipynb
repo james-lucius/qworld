{
  "cells": [
    {
      "cell_type": "markdown",
      "metadata": {
        "id": "view-in-github",
        "colab_type": "text"
      },
      "source": [
        "<a href=\"https://colab.research.google.com/github/james-lucius/qworld/blob/main/QB51_D01_Discrete_Fourier_Transform_Solutions.ipynb\" target=\"_parent\"><img src=\"https://colab.research.google.com/assets/colab-badge.svg\" alt=\"Open In Colab\"/></a>"
      ]
    },
    {
      "cell_type": "markdown",
      "metadata": {
        "id": "jm_SKB8E94O_"
      },
      "source": [
        "<a href=\"https://qworld.net\" target=\"_blank\" align=\"left\"><img src=\"https://gitlab.com/qworld/qeducation/qbook101/raw/main/qworld/images/header.jpg\" align=\"left\"></a>\n",
        "$ \\newcommand{\\bra}[1]{\\langle #1|} $\n",
        "$ \\newcommand{\\ket}[1]{|#1\\rangle} $\n",
        "$ \\newcommand{\\braket}[2]{\\langle #1|#2\\rangle} $\n",
        "$ \\newcommand{\\dot}[2]{ #1 \\cdot #2} $\n",
        "$ \\newcommand{\\biginner}[2]{\\left\\langle #1,#2\\right\\rangle} $\n",
        "$ \\newcommand{\\mymatrix}[2]{\\left( \\begin{array}{#1} #2\\end{array} \\right)} $\n",
        "$ \\newcommand{\\myvector}[1]{\\mymatrix{c}{#1}} $\n",
        "$ \\newcommand{\\myrvector}[1]{\\mymatrix{r}{#1}} $\n",
        "$ \\newcommand{\\mypar}[1]{\\left( #1 \\right)} $\n",
        "$ \\newcommand{\\mybigpar}[1]{ \\Big( #1 \\Big)} $\n",
        "$ \\newcommand{\\sqrttwo}{\\frac{1}{\\sqrt{2}}} $\n",
        "$ \\newcommand{\\dsqrttwo}{\\dfrac{1}{\\sqrt{2}}} $\n",
        "$ \\newcommand{\\onehalf}{\\frac{1}{2}} $\n",
        "$ \\newcommand{\\donehalf}{\\dfrac{1}{2}} $\n",
        "$ \\newcommand{\\hadamard}{ \\mymatrix{rr}{ \\sqrttwo & \\sqrttwo \\\\ \\sqrttwo & -\\sqrttwo }} $\n",
        "$ \\newcommand{\\vzero}{\\myvector{1\\\\0}} $\n",
        "$ \\newcommand{\\vone}{\\myvector{0\\\\1}} $\n",
        "$ \\newcommand{\\stateplus}{\\myvector{ \\sqrttwo \\\\  \\sqrttwo } } $\n",
        "$ \\newcommand{\\stateminus}{ \\myrvector{ \\sqrttwo \\\\ -\\sqrttwo } } $\n",
        "$ \\newcommand{\\myarray}[2]{ \\begin{array}{#1}#2\\end{array}} $\n",
        "$ \\newcommand{\\X}{ \\mymatrix{cc}{0 & 1 \\\\ 1 & 0}  } $\n",
        "$ \\newcommand{\\Z}{ \\mymatrix{rr}{1 & 0 \\\\ 0 & -1}  } $\n",
        "$ \\newcommand{\\Htwo}{ \\mymatrix{rrrr}{ \\frac{1}{2} & \\frac{1}{2} & \\frac{1}{2} & \\frac{1}{2} \\\\ \\frac{1}{2} & -\\frac{1}{2} & \\frac{1}{2} & -\\frac{1}{2} \\\\ \\frac{1}{2} & \\frac{1}{2} & -\\frac{1}{2} & -\\frac{1}{2} \\\\ \\frac{1}{2} & -\\frac{1}{2} & -\\frac{1}{2} & \\frac{1}{2} } } $\n",
        "$ \\newcommand{\\CNOT}{ \\mymatrix{cccc}{1 & 0 & 0 & 0 \\\\ 0 & 1 & 0 & 0 \\\\ 0 & 0 & 0 & 1 \\\\ 0 & 0 & 1 & 0} } $\n",
        "$ \\newcommand{\\norm}[1]{ \\left\\lVert #1 \\right\\rVert } $\n",
        "$ \\newcommand{\\pstate}[1]{ \\lceil \\mspace{-1mu} #1 \\mspace{-1.5mu} \\rfloor } $\n",
        "$ \\newcommand{\\Y}{ \\mymatrix{rr}{0 & -i \\\\ i & 0} } $\n",
        "$ \\newcommand{\\S}{ \\mymatrix{rr}{1 & 0 \\\\ 0 & i} } $\n",
        "$ \\newcommand{\\T}{ \\mymatrix{rr}{1 & 0 \\\\ 0 & e^{i \\frac{\\pi}{4}}} } $\n",
        "$ \\newcommand{\\Sdg}{ \\mymatrix{rr}{1 & 0 \\\\ 0 & -i} } $\n",
        "$ \\newcommand{\\Tdg}{ \\mymatrix{rr}{1 & 0 \\\\ 0 & e^{-i \\frac{\\pi}{4}}} } $\n",
        "$ \\newcommand{\\qgate}[1]{ \\mathop{\\\\textit{#1} } }$"
      ]
    },
    {
      "cell_type": "markdown",
      "metadata": {
        "id": "FdecGVBm94PA"
      },
      "source": [
        "_prepared by Özlem Salehi_"
      ]
    },
    {
      "cell_type": "markdown",
      "metadata": {
        "id": "wAQSDK6Z94PB"
      },
      "source": [
        "<font size=\"28px\" style=\"font-size:28px;\" align=\"left\"><b><font color=\"blue\"> Solutions for </font>Discrete Fourier Transform</b></font>\n",
        "<br>\n",
        "<br><br>"
      ]
    },
    {
      "cell_type": "markdown",
      "metadata": {
        "id": "A-0vIyUg94PB"
      },
      "source": [
        "<a name=\"task1\"></a>\n",
        "### Task 1 (on paper)\n",
        "\n",
        "Given $x=\\myvector{1 \\\\ 2}$, apply $DFT$ to obtain $y$."
      ]
    },
    {
      "cell_type": "markdown",
      "metadata": {
        "id": "zTYpUPmA94PB"
      },
      "source": [
        "<h3>Solution </h3>"
      ]
    },
    {
      "cell_type": "markdown",
      "metadata": {
        "id": "v-Qg3Sul94PB"
      },
      "source": [
        "In this example $N=2$, $x_0=1$ and $x_1=2$. Hence, we have\n",
        "\n",
        "$$y_k=\\frac{1}{\\sqrt{2}} \\sum_{j=0}^{1}e^{\\frac{2\\pi i j k}{2}}x_j.$$"
      ]
    },
    {
      "cell_type": "markdown",
      "metadata": {
        "id": "bl-IZQoJ94PB"
      },
      "source": [
        "Replacing $k=0$,\n",
        "\n",
        "$$\n",
        "y_0=\\frac{1}{\\sqrt{2}} \\sum_{j=0}^{1}e^{\\frac{2\\pi ij\\cdot 0}{2} }x_j= \\frac{1}{\\sqrt{2}}  (x_0+x_1) = \\frac{3}{\\sqrt{2}}\n",
        "$$"
      ]
    },
    {
      "cell_type": "markdown",
      "metadata": {
        "id": "SNYB5ElQ94PB"
      },
      "source": [
        "and $k=1$,\n",
        "\n",
        "$$\n",
        "y_1=\\frac{1}{\\sqrt{2}} \\sum_{j=0}^{1}e^{\\frac{2\\pi ij\\cdot 1}{2}}x_j= \\frac{1}{\\sqrt{2}} \\biggl( e^{\\frac{2\\pi i \\cdot0 \\cdot1}{2}} x_0 +  e^{\\frac{2\\pi i \\cdot 1 \\cdot 1}{2}} x_1 \\biggr)  = \\frac{1+  2e^{\\pi i}}{\\sqrt{2}}=\\frac{-1}{\\sqrt{2}}.\n",
        "$$\n",
        "\n"
      ]
    },
    {
      "cell_type": "markdown",
      "metadata": {
        "id": "NJr5hO2_94PB"
      },
      "source": [
        "We can conclude that $y=\\myvector{\\frac{3}{\\sqrt{2}} \\\\ \\frac{-1}{\\sqrt{2}} }  $."
      ]
    },
    {
      "cell_type": "markdown",
      "metadata": {
        "id": "pdHwDxuG94PB"
      },
      "source": [
        "<a name=\"task2\"></a>\n",
        "### Task 2\n",
        "\n",
        "Create the following list in Python (1 0 0 0 0 1 0 0 0 0 1 0 0 0 0) where every 5'th value is a 1.\n",
        "\n",
        "Then compute its $DFT$ using python and visualize."
      ]
    },
    {
      "cell_type": "markdown",
      "metadata": {
        "id": "-RhODKR594PB"
      },
      "source": [
        "<h3>Solution </h3>"
      ]
    },
    {
      "cell_type": "code",
      "execution_count": 1,
      "metadata": {
        "id": "_-gboXWp94PB"
      },
      "outputs": [],
      "source": [
        "#Create an empty list\n",
        "x=[]\n",
        "#Number of elements in the list\n",
        "N=100\n",
        "#We set every fifth number as a 1\n",
        "for i in range(N):\n",
        "    if i%5==0:\n",
        "        x.append(1)\n",
        "    else:\n",
        "        x.append(0)"
      ]
    },
    {
      "cell_type": "code",
      "execution_count": 2,
      "metadata": {
        "id": "Wheg7cgz94PC"
      },
      "outputs": [],
      "source": [
        "from cmath import exp\n",
        "from math import pi\n",
        "from math import sqrt\n",
        "\n",
        "#We calculate Fourier Transform of the list\n",
        "y=[]\n",
        "for k in range(N):\n",
        "    s=0\n",
        "    for j in range(N):\n",
        "        s+= exp(2*pi*1j*j*k/N)*x[j]\n",
        "    s*=1/sqrt(N)\n",
        "    y.append(s)"
      ]
    },
    {
      "cell_type": "code",
      "execution_count": 3,
      "metadata": {
        "id": "LJuoKKRg94PC",
        "outputId": "67a4fd07-7aac-4bf0-baea-c43d79f1534f",
        "colab": {
          "base_uri": "https://localhost:8080/"
        }
      },
      "outputs": [
        {
          "output_type": "execute_result",
          "data": {
            "text/plain": [
              "[(2+0j),\n",
              " (-6.66133814775094e-17+6.106226635438361e-17j),\n",
              " (1.1102230246251566e-17+0j),\n",
              " (2.886579864025407e-16-6.66133814775094e-17j),\n",
              " (9.992007221626409e-17+1.9984014443252818e-16j),\n",
              " (2.1672546146854842e-16+2.664535259100376e-16j),\n",
              " (-8.271161533457416e-16+3.3306690738754696e-16j),\n",
              " (2.220446049250313e-16+4.1078251911130794e-16j),\n",
              " (-1.5543122344752193e-16+9.992007221626409e-17j),\n",
              " (1.2212453270876722e-15+2.0539125955565397e-16j),\n",
              " 3.0010036385476035e-16j,\n",
              " (-9.992007221626409e-17+6.494804694057166e-16j),\n",
              " (-9.2148511043888e-16-1.7763568394002506e-16j),\n",
              " (5.88418203051333e-16-3.4416913763379854e-16j),\n",
              " (2.3259172365897033e-15-3.9968028886505636e-16j),\n",
              " (8.819313895770708e-16-8.881784197001252e-16j),\n",
              " (-3.3861802251067277e-16+7.660538869913581e-16j),\n",
              " (-1.4765966227514583e-15-1.0436096431476472e-15j),\n",
              " (-7.216449660063518e-16+1.2101430968414207e-15j),\n",
              " (2.1871393585115587e-15+3.3306690738754696e-16j),\n",
              " (2-6.430014676160192e-15j),\n",
              " (5.440092820663267e-16+3.0531133177191805e-15j),\n",
              " (2.7311486405778852e-15+3.530509218307998e-15j),\n",
              " (-2.353672812205332e-15-9.2148511043888e-16j),\n",
              " (8.271161533457416e-16+1.3988810110276974e-15j),\n",
              " (3.064711901051325e-16-2.686739719592879e-15j),\n",
              " (-1.6986412276764896e-15-1.3766765505351941e-15j),\n",
              " (3.042011087472929e-15-2.1094237467877976e-16j),\n",
              " (2.4424906541753444e-15+1.965094753586527e-15j),\n",
              " (3.608224830031759e-15+6.661338147750939e-16j),\n",
              " 6.762278661585109e-15j,\n",
              " (-2.40918396343659e-15+2.3703261575747094e-15j),\n",
              " (7.105427357601002e-16+4.1078251911130794e-16j),\n",
              " (1.865174681370263e-15+4.429789868254375e-15j),\n",
              " (-6.550315845288424e-16-1.5210055437364646e-15j),\n",
              " (5.055442075501088e-15-4.884981308350689e-15j),\n",
              " (-1.3100631690576848e-15+1.4988010832439613e-15j),\n",
              " (2.2426505097428165e-15-7.549516567451065e-16j),\n",
              " (-1.0547118733938987e-15+4.152234112098085e-15j),\n",
              " (1.4988010832439613e-15-1.0547118733938988e-16j),\n",
              " (2-1.2860029352320383e-14j),\n",
              " (-5.917488721252085e-15-3.9968028886505636e-16j),\n",
              " (7.22755189030977e-15+4.3742787170231174e-15j),\n",
              " (-6.661338147750939e-16-3.3195668436292183e-15j),\n",
              " (7.882583474838612e-16+1.4543921622589552e-15j),\n",
              " (3.5270458481846582e-15-3.0087043967341744e-15j),\n",
              " (-8.715250743307479e-16+6.772360450213455e-15j),\n",
              " (-1.9317880628477726e-15-3.153033389935445e-15j),\n",
              " (3.68594044175552e-15-5.995204332975846e-16j),\n",
              " (2.020605904817785e-15-2.192690473634684e-15j),\n",
              " -7.0260110098474e-15j,\n",
              " (5.107025913275721e-16+1.7541523789077474e-15j),\n",
              " (3.9968028886505635e-15+2.231548279496565e-15j),\n",
              " (-4.773959005888173e-15-3.83026943495679e-15j),\n",
              " (2.686739719592879e-15+6.583622536027179e-15j),\n",
              " (-1.4513927354689009e-15+3.164135620181696e-15j),\n",
              " (3.3861802251067277e-16+7.838174553853606e-15j),\n",
              " (6.750155989720952e-15-5.639932965095796e-15j),\n",
              " (-2.098321516541546e-15+7.01660951563099e-15j),\n",
              " (5.950795411990839e-15+4.846123502488809e-15j),\n",
              " (2-1.822422992484043e-14j),\n",
              " (-4.2299497238218466e-15+1.6653345369377348e-16j),\n",
              " (-5.451195050909519e-15+1.1046719095020308e-14j),\n",
              " (-6.750155989720952e-15-3.2307490016592057e-15j),\n",
              " (1.5654144647214709e-15+3.2418512319054574e-15j),\n",
              " (4.194107549626324e-15-7.382983113757291e-15j),\n",
              " (-5.42343947529389e-15-3.197442310920451e-15j),\n",
              " (1.006972283335017e-14-5.540012892879532e-15j),\n",
              " (2.153832667772804e-15-5.384581669432009e-15j),\n",
              " (-7.771561172376096e-16+3.702593787124897e-15j),\n",
              " -6.958717333957957e-15j,\n",
              " (3.33066907387547e-17+6.5947247662734305e-15j),\n",
              " (3.5194069880617465e-15+3.0087043967341744e-15j),\n",
              " (-1.9939605522267814e-14-3.3639757646142244e-15j),\n",
              " (6.256106743762757e-15+5.473399511402022e-15j),\n",
              " (-2.2960901208505914e-15-1.332267629550188e-16j),\n",
              " (-8.487655023259322e-15+4.340972026284362e-15j),\n",
              " (5.351274978693255e-15-1.3489209749195652e-14j),\n",
              " (-3.963496197911809e-15+5.5955240441107896e-15j),\n",
              " (1.1457501614131616e-14+2.431388423929093e-15j),\n",
              " (2-2.5720058704640766e-14j),\n",
              " (-8.426592756904939e-15+3.83026943495679e-15j),\n",
              " (1.5210055437364646e-15+4.407585407761872e-15j),\n",
              " (5.151434834260727e-15-1.0502709812953982e-14j),\n",
              " (1.1562972801471006e-14+1.0880185641326535e-15j),\n",
              " (3.758682315823567e-16+1.3766765505351941e-15j),\n",
              " (-3.2807090377673377e-15-2.7200464103316335e-15j),\n",
              " (1.3211653993039363e-15-4.007905118896815e-15j),\n",
              " (-2.231548279496565e-15+1.3322676295501878e-15j),\n",
              " (5.2735593669694936e-15-4.063416270128073e-15j),\n",
              " 1.1405051787754072e-14j,\n",
              " (-5.373479439185758e-15-1.219024881038422e-14j),\n",
              " (6.572520305780927e-15+7.549516567451065e-16j),\n",
              " (4.4408920985006264e-17+6.1728400169158705e-15j),\n",
              " (1.5487611193520935e-15-4.407585407761872e-15j),\n",
              " (-1.0890144218115874e-14+3.641531520770514e-15j),\n",
              " (-3.3861802251067274e-15+5.540012892879532e-15j),\n",
              " (3.0309088572266774e-15+3.885780586188048e-16j),\n",
              " (-1.2345680033831741e-14+7.238654120556021e-15j),\n",
              " (1.2501111257279264e-14+1.2856382625159314e-14j)]"
            ]
          },
          "metadata": {},
          "execution_count": 3
        }
      ],
      "source": [
        "y"
      ]
    },
    {
      "cell_type": "code",
      "execution_count": 4,
      "metadata": {
        "id": "8YgxcWOF94PC",
        "outputId": "ac5ca2ae-b795-43c7-db25-3559986032f5",
        "colab": {
          "base_uri": "https://localhost:8080/",
          "height": 519
        }
      },
      "outputs": [
        {
          "output_type": "stream",
          "name": "stderr",
          "text": [
            "/usr/local/lib/python3.11/dist-packages/matplotlib/cbook.py:1709: ComplexWarning: Casting complex values to real discards the imaginary part\n",
            "  return math.isfinite(val)\n",
            "/usr/local/lib/python3.11/dist-packages/matplotlib/cbook.py:1345: ComplexWarning: Casting complex values to real discards the imaginary part\n",
            "  return np.asarray(x, float)\n"
          ]
        },
        {
          "output_type": "display_data",
          "data": {
            "text/plain": [
              "<Figure size 640x480 with 1 Axes>"
            ],
            "image/png": "[encoded data removed]"
          },
          "metadata": {}
        }
      ],
      "source": [
        "import matplotlib.pyplot as plt\n",
        "#Visualizing the trasformed list\n",
        "plt.plot(y)\n",
        "plt.show()"
      ]
    },
    {
      "cell_type": "markdown",
      "metadata": {
        "id": "obzP6jFy94PC"
      },
      "source": [
        "<a name=\"task3\"></a>\n",
        "### Task 3\n",
        "\n",
        "Repeat Task 2 where this time every 6'th value is a 1 and the rest is 0."
      ]
    },
    {
      "cell_type": "markdown",
      "metadata": {
        "id": "w63G3bDX94PC"
      },
      "source": [
        "<h3>Solution </h3>"
      ]
    },
    {
      "cell_type": "code",
      "execution_count": 5,
      "metadata": {
        "id": "VIRBmanJ94PC"
      },
      "outputs": [],
      "source": [
        "#Create an empty list\n",
        "x=[]\n",
        "#Number of elements in the list\n",
        "N=100\n",
        "#We set every sixth number as a 1\n",
        "for i in range(N):\n",
        "    if i%6==0:\n",
        "        x.append(1)\n",
        "    else:\n",
        "        x.append(0)"
      ]
    },
    {
      "cell_type": "code",
      "execution_count": 6,
      "metadata": {
        "id": "yaFd8UbH94PC"
      },
      "outputs": [],
      "source": [
        "from cmath import exp\n",
        "from math import pi\n",
        "from math import sqrt\n",
        "\n",
        "#We calculate Fourier Transform of the list\n",
        "y=[]\n",
        "for k in range(N):\n",
        "    s=0\n",
        "    for j in range(N):\n",
        "        s+= exp(2*pi*1j*j*k/N)*x[j]\n",
        "    s*=1/sqrt(N)\n",
        "    y.append(s)"
      ]
    },
    {
      "cell_type": "code",
      "execution_count": 7,
      "metadata": {
        "id": "6f6Gv7OS94PC",
        "outputId": "9976ec9c-72d8-4259-9002-2a8424dd34d5",
        "colab": {
          "base_uri": "https://localhost:8080/",
          "height": 450
        }
      },
      "outputs": [
        {
          "output_type": "display_data",
          "data": {
            "text/plain": [
              "<Figure size 640x480 with 1 Axes>"
            ],
            "image/png": "[encoded data removed]"
          },
          "metadata": {}
        }
      ],
      "source": [
        "import matplotlib.pyplot as plt\n",
        "#Visualizing the trasformed list\n",
        "plt.plot(y)\n",
        "plt.show()"
      ]
    }
  ],
  "metadata": {
    "kernelspec": {
      "display_name": "Python 3 (ipykernel)",
      "language": "python",
      "name": "python3"
    },
    "language_info": {
      "codemirror_mode": {
        "name": "ipython",
        "version": 3
      },
      "file_extension": ".py",
      "mimetype": "text/x-python",
      "name": "python",
      "nbconvert_exporter": "python",
      "pygments_lexer": "ipython3",
      "version": "3.11.4"
    },
    "colab": {
      "provenance": [],
      "include_colab_link": true
    }
  },
  "nbformat": 4,
  "nbformat_minor": 0
}