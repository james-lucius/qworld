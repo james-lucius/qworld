{
  "cells": [
    {
      "cell_type": "markdown",
      "metadata": {
        "id": "view-in-github",
        "colab_type": "text"
      },
      "source": [
        "<a href=\"https://colab.research.google.com/github/james-lucius/qworld/blob/main/QB_D2_D00_Cirq_Introduction.ipynb\" target=\"_parent\"><img src=\"https://colab.research.google.com/assets/colab-badge.svg\" alt=\"Open In Colab\"/></a>"
      ]
    },
    {
      "cell_type": "markdown",
      "metadata": {
        "id": "2V-Ld-gN-ODD"
      },
      "source": [
        "<a href=\"https://qworld.net\" target=\"_blank\" align=\"left\"><img src=\"https://gitlab.com/qworld/qeducation/qbook101/raw/main/qworld/images/header.jpg\" align=\"left\"></a>\n",
        "$ \\newcommand{\\bra}[1]{\\langle #1|} $\n",
        "$ \\newcommand{\\ket}[1]{|#1\\rangle} $\n",
        "$ \\newcommand{\\braket}[2]{\\langle #1|#2\\rangle} $\n",
        "$ \\newcommand{\\dot}[2]{ #1 \\cdot #2} $\n",
        "$ \\newcommand{\\biginner}[2]{\\left\\langle #1,#2\\right\\rangle} $\n",
        "$ \\newcommand{\\mymatrix}[2]{\\left( \\begin{array}{#1} #2\\end{array} \\right)} $\n",
        "$ \\newcommand{\\myvector}[1]{\\mymatrix{c}{#1}} $\n",
        "$ \\newcommand{\\myrvector}[1]{\\mymatrix{r}{#1}} $\n",
        "$ \\newcommand{\\mypar}[1]{\\left( #1 \\right)} $\n",
        "$ \\newcommand{\\mybigpar}[1]{ \\Big( #1 \\Big)} $\n",
        "$ \\newcommand{\\sqrttwo}{\\frac{1}{\\sqrt{2}}} $\n",
        "$ \\newcommand{\\dsqrttwo}{\\dfrac{1}{\\sqrt{2}}} $\n",
        "$ \\newcommand{\\onehalf}{\\frac{1}{2}} $\n",
        "$ \\newcommand{\\donehalf}{\\dfrac{1}{2}} $\n",
        "$ \\newcommand{\\hadamard}{ \\mymatrix{rr}{ \\sqrttwo & \\sqrttwo \\\\ \\sqrttwo & -\\sqrttwo }} $\n",
        "$ \\newcommand{\\vzero}{\\myvector{1\\\\0}} $\n",
        "$ \\newcommand{\\vone}{\\myvector{0\\\\1}} $\n",
        "$ \\newcommand{\\stateplus}{\\myvector{ \\sqrttwo \\\\  \\sqrttwo } } $\n",
        "$ \\newcommand{\\stateminus}{ \\myrvector{ \\sqrttwo \\\\ -\\sqrttwo } } $\n",
        "$ \\newcommand{\\myarray}[2]{ \\begin{array}{#1}#2\\end{array}} $\n",
        "$ \\newcommand{\\X}{ \\mymatrix{cc}{0 & 1 \\\\ 1 & 0}  } $\n",
        "$ \\newcommand{\\I}{ \\mymatrix{rr}{1 & 0 \\\\ 0 & 1}  } $\n",
        "$ \\newcommand{\\Z}{ \\mymatrix{rr}{1 & 0 \\\\ 0 & -1}  } $\n",
        "$ \\newcommand{\\Htwo}{ \\mymatrix{rrrr}{ \\frac{1}{2} & \\frac{1}{2} & \\frac{1}{2} & \\frac{1}{2} \\\\ \\frac{1}{2} & -\\frac{1}{2} & \\frac{1}{2} & -\\frac{1}{2} \\\\ \\frac{1}{2} & \\frac{1}{2} & -\\frac{1}{2} & -\\frac{1}{2} \\\\ \\frac{1}{2} & -\\frac{1}{2} & -\\frac{1}{2} & \\frac{1}{2} } } $\n",
        "$ \\newcommand{\\CNOT}{ \\mymatrix{cccc}{1 & 0 & 0 & 0 \\\\ 0 & 1 & 0 & 0 \\\\ 0 & 0 & 0 & 1 \\\\ 0 & 0 & 1 & 0} } $\n",
        "$ \\newcommand{\\norm}[1]{ \\left\\lVert #1 \\right\\rVert } $\n",
        "$ \\newcommand{\\pstate}[1]{ \\lceil \\mspace{-1mu} #1 \\mspace{-1.5mu} \\rfloor } $\n",
        "$ \\newcommand{\\greenbit}[1] {\\mathbf{{\\color{green}#1}}} $\n",
        "$ \\newcommand{\\bluebit}[1] {\\mathbf{{\\color{blue}#1}}} $\n",
        "$ \\newcommand{\\redbit}[1] {\\mathbf{{\\color{red}#1}}} $\n",
        "$ \\newcommand{\\brownbit}[1] {\\mathbf{{\\color{brown}#1}}} $\n",
        "$ \\newcommand{\\blackbit}[1] {\\mathbf{{\\color{black}#1}}} $"
      ]
    },
    {
      "cell_type": "markdown",
      "metadata": {
        "id": "vZ5iBIk9-ODH"
      },
      "source": [
        "_prepared by Özlem Salehi_"
      ]
    },
    {
      "cell_type": "markdown",
      "metadata": {
        "id": "xEfSQZVQ-ODI"
      },
      "source": [
        "<font size=\"28px\" style=\"font-size:28px;\" align=\"left\"><b> Introduction to Cirq </b></font>\n",
        "<br><br><br>"
      ]
    },
    {
      "cell_type": "markdown",
      "metadata": {
        "jp-MarkdownHeadingCollapsed": true,
        "id": "TLwCOFrB-ODI"
      },
      "source": [
        "##### <font color=\"#08b806\">Please execute the following cell, it is necessary to distinguish between your local environment and Google Colab's"
      ]
    },
    {
      "cell_type": "code",
      "execution_count": 1,
      "metadata": {
        "id": "bG2Z_jsb-ODI",
        "outputId": "39d5853f-f6c4-40c0-d85d-cdcfb6db67a8",
        "colab": {
          "base_uri": "https://localhost:8080/"
        }
      },
      "outputs": [
        {
          "output_type": "stream",
          "name": "stdout",
          "text": [
            "Collecting cirq\n",
            "  Downloading cirq-1.5.0-py3-none-any.whl.metadata (15 kB)\n",
            "Collecting cirq-aqt==1.5.0 (from cirq)\n",
            "  Downloading cirq_aqt-1.5.0-py3-none-any.whl.metadata (4.8 kB)\n",
            "Collecting cirq-core==1.5.0 (from cirq)\n",
            "  Downloading cirq_core-1.5.0-py3-none-any.whl.metadata (4.9 kB)\n",
            "Collecting cirq-google==1.5.0 (from cirq)\n",
            "  Downloading cirq_google-1.5.0-py3-none-any.whl.metadata (4.9 kB)\n",
            "Collecting cirq-ionq==1.5.0 (from cirq)\n",
            "  Downloading cirq_ionq-1.5.0-py3-none-any.whl.metadata (4.7 kB)\n",
            "Collecting cirq-pasqal==1.5.0 (from cirq)\n",
            "  Downloading cirq_pasqal-1.5.0-py3-none-any.whl.metadata (4.8 kB)\n",
            "Collecting cirq-web==1.5.0 (from cirq)\n",
            "  Downloading cirq_web-1.5.0-py3-none-any.whl.metadata (5.5 kB)\n",
            "Requirement already satisfied: requests~=2.32 in /usr/local/lib/python3.11/dist-packages (from cirq-aqt==1.5.0->cirq) (2.32.3)\n",
            "Requirement already satisfied: attrs>=21.3.0 in /usr/local/lib/python3.11/dist-packages (from cirq-core==1.5.0->cirq) (25.3.0)\n",
            "Collecting duet>=0.2.8 (from cirq-core==1.5.0->cirq)\n",
            "  Downloading duet-0.2.9-py3-none-any.whl.metadata (2.3 kB)\n",
            "Requirement already satisfied: matplotlib~=3.7 in /usr/local/lib/python3.11/dist-packages (from cirq-core==1.5.0->cirq) (3.10.0)\n",
            "Requirement already satisfied: networkx~=3.1 in /usr/local/lib/python3.11/dist-packages (from cirq-core==1.5.0->cirq) (3.5)\n",
            "Requirement already satisfied: numpy>=1.25 in /usr/local/lib/python3.11/dist-packages (from cirq-core==1.5.0->cirq) (2.0.2)\n",
            "Requirement already satisfied: pandas~=2.0 in /usr/local/lib/python3.11/dist-packages (from cirq-core==1.5.0->cirq) (2.2.2)\n",
            "Requirement already satisfied: sortedcontainers~=2.0 in /usr/local/lib/python3.11/dist-packages (from cirq-core==1.5.0->cirq) (2.4.0)\n",
            "Requirement already satisfied: scipy~=1.11 in /usr/local/lib/python3.11/dist-packages (from cirq-core==1.5.0->cirq) (1.15.3)\n",
            "Requirement already satisfied: sympy in /usr/local/lib/python3.11/dist-packages (from cirq-core==1.5.0->cirq) (1.13.1)\n",
            "Requirement already satisfied: typing_extensions>=4.2 in /usr/local/lib/python3.11/dist-packages (from cirq-core==1.5.0->cirq) (4.13.2)\n",
            "Requirement already satisfied: tqdm>=4.12 in /usr/local/lib/python3.11/dist-packages (from cirq-core==1.5.0->cirq) (4.67.1)\n",
            "Requirement already satisfied: google-api-core>=1.14.0 in /usr/local/lib/python3.11/dist-packages (from google-api-core[grpc]>=1.14.0->cirq-google==1.5.0->cirq) (2.24.2)\n",
            "Requirement already satisfied: proto-plus>=1.20.0 in /usr/local/lib/python3.11/dist-packages (from cirq-google==1.5.0->cirq) (1.26.1)\n",
            "Requirement already satisfied: protobuf<6.0,>=4.25 in /usr/local/lib/python3.11/dist-packages (from cirq-google==1.5.0->cirq) (5.29.5)\n",
            "Collecting typedunits (from cirq-google==1.5.0->cirq)\n",
            "  Downloading typedunits-0.0.1.dev20250509200845-cp311-cp311-manylinux_2_17_x86_64.manylinux2014_x86_64.whl.metadata (4.8 kB)\n",
            "Requirement already satisfied: googleapis-common-protos<2.0.0,>=1.56.2 in /usr/local/lib/python3.11/dist-packages (from google-api-core>=1.14.0->google-api-core[grpc]>=1.14.0->cirq-google==1.5.0->cirq) (1.70.0)\n",
            "Requirement already satisfied: google-auth<3.0.0,>=2.14.1 in /usr/local/lib/python3.11/dist-packages (from google-api-core>=1.14.0->google-api-core[grpc]>=1.14.0->cirq-google==1.5.0->cirq) (2.38.0)\n",
            "Requirement already satisfied: grpcio<2.0dev,>=1.33.2 in /usr/local/lib/python3.11/dist-packages (from google-api-core[grpc]>=1.14.0->cirq-google==1.5.0->cirq) (1.71.0)\n",
            "Requirement already satisfied: grpcio-status<2.0.dev0,>=1.33.2 in /usr/local/lib/python3.11/dist-packages (from google-api-core[grpc]>=1.14.0->cirq-google==1.5.0->cirq) (1.71.0)\n",
            "Requirement already satisfied: contourpy>=1.0.1 in /usr/local/lib/python3.11/dist-packages (from matplotlib~=3.7->cirq-core==1.5.0->cirq) (1.3.2)\n",
            "Requirement already satisfied: cycler>=0.10 in /usr/local/lib/python3.11/dist-packages (from matplotlib~=3.7->cirq-core==1.5.0->cirq) (0.12.1)\n",
            "Requirement already satisfied: fonttools>=4.22.0 in /usr/local/lib/python3.11/dist-packages (from matplotlib~=3.7->cirq-core==1.5.0->cirq) (4.58.1)\n",
            "Requirement already satisfied: kiwisolver>=1.3.1 in /usr/local/lib/python3.11/dist-packages (from matplotlib~=3.7->cirq-core==1.5.0->cirq) (1.4.8)\n",
            "Requirement already satisfied: packaging>=20.0 in /usr/local/lib/python3.11/dist-packages (from matplotlib~=3.7->cirq-core==1.5.0->cirq) (24.2)\n",
            "Requirement already satisfied: pillow>=8 in /usr/local/lib/python3.11/dist-packages (from matplotlib~=3.7->cirq-core==1.5.0->cirq) (11.2.1)\n",
            "Requirement already satisfied: pyparsing>=2.3.1 in /usr/local/lib/python3.11/dist-packages (from matplotlib~=3.7->cirq-core==1.5.0->cirq) (3.2.3)\n",
            "Requirement already satisfied: python-dateutil>=2.7 in /usr/local/lib/python3.11/dist-packages (from matplotlib~=3.7->cirq-core==1.5.0->cirq) (2.9.0.post0)\n",
            "Requirement already satisfied: pytz>=2020.1 in /usr/local/lib/python3.11/dist-packages (from pandas~=2.0->cirq-core==1.5.0->cirq) (2025.2)\n",
            "Requirement already satisfied: tzdata>=2022.7 in /usr/local/lib/python3.11/dist-packages (from pandas~=2.0->cirq-core==1.5.0->cirq) (2025.2)\n",
            "Requirement already satisfied: charset-normalizer<4,>=2 in /usr/local/lib/python3.11/dist-packages (from requests~=2.32->cirq-aqt==1.5.0->cirq) (3.4.2)\n",
            "Requirement already satisfied: idna<4,>=2.5 in /usr/local/lib/python3.11/dist-packages (from requests~=2.32->cirq-aqt==1.5.0->cirq) (3.10)\n",
            "Requirement already satisfied: urllib3<3,>=1.21.1 in /usr/local/lib/python3.11/dist-packages (from requests~=2.32->cirq-aqt==1.5.0->cirq) (2.4.0)\n",
            "Requirement already satisfied: certifi>=2017.4.17 in /usr/local/lib/python3.11/dist-packages (from requests~=2.32->cirq-aqt==1.5.0->cirq) (2025.4.26)\n",
            "Requirement already satisfied: mpmath<1.4,>=1.1.0 in /usr/local/lib/python3.11/dist-packages (from sympy->cirq-core==1.5.0->cirq) (1.3.0)\n",
            "Requirement already satisfied: cython>=3.0.0 in /usr/local/lib/python3.11/dist-packages (from typedunits->cirq-google==1.5.0->cirq) (3.0.12)\n",
            "Requirement already satisfied: cachetools<6.0,>=2.0.0 in /usr/local/lib/python3.11/dist-packages (from google-auth<3.0.0,>=2.14.1->google-api-core>=1.14.0->google-api-core[grpc]>=1.14.0->cirq-google==1.5.0->cirq) (5.5.2)\n",
            "Requirement already satisfied: pyasn1-modules>=0.2.1 in /usr/local/lib/python3.11/dist-packages (from google-auth<3.0.0,>=2.14.1->google-api-core>=1.14.0->google-api-core[grpc]>=1.14.0->cirq-google==1.5.0->cirq) (0.4.2)\n",
            "Requirement already satisfied: rsa<5,>=3.1.4 in /usr/local/lib/python3.11/dist-packages (from google-auth<3.0.0,>=2.14.1->google-api-core>=1.14.0->google-api-core[grpc]>=1.14.0->cirq-google==1.5.0->cirq) (4.9.1)\n",
            "Requirement already satisfied: six>=1.5 in /usr/local/lib/python3.11/dist-packages (from python-dateutil>=2.7->matplotlib~=3.7->cirq-core==1.5.0->cirq) (1.17.0)\n",
            "Requirement already satisfied: pyasn1<0.7.0,>=0.6.1 in /usr/local/lib/python3.11/dist-packages (from pyasn1-modules>=0.2.1->google-auth<3.0.0,>=2.14.1->google-api-core>=1.14.0->google-api-core[grpc]>=1.14.0->cirq-google==1.5.0->cirq) (0.6.1)\n",
            "Downloading cirq-1.5.0-py3-none-any.whl (10 kB)\n",
            "Downloading cirq_aqt-1.5.0-py3-none-any.whl (31 kB)\n",
            "Downloading cirq_core-1.5.0-py3-none-any.whl (2.0 MB)\n",
            "\u001b[2K   \u001b[90m━━━━━━━━━━━━━━━━━━━━━━━━━━━━━━━━━━━━━━━━\u001b[0m \u001b[32m2.0/2.0 MB\u001b[0m \u001b[31m26.4 MB/s\u001b[0m eta \u001b[36m0:00:00\u001b[0m\n",
            "\u001b[?25hDownloading cirq_google-1.5.0-py3-none-any.whl (597 kB)\n",
            "\u001b[2K   \u001b[90m━━━━━━━━━━━━━━━━━━━━━━━━━━━━━━━━━━━━━━━━\u001b[0m \u001b[32m597.5/597.5 kB\u001b[0m \u001b[31m28.0 MB/s\u001b[0m eta \u001b[36m0:00:00\u001b[0m\n",
            "\u001b[?25hDownloading cirq_ionq-1.5.0-py3-none-any.whl (72 kB)\n",
            "\u001b[2K   \u001b[90m━━━━━━━━━━━━━━━━━━━━━━━━━━━━━━━━━━━━━━━━\u001b[0m \u001b[32m72.0/72.0 kB\u001b[0m \u001b[31m4.8 MB/s\u001b[0m eta \u001b[36m0:00:00\u001b[0m\n",
            "\u001b[?25hDownloading cirq_pasqal-1.5.0-py3-none-any.whl (33 kB)\n",
            "Downloading cirq_web-1.5.0-py3-none-any.whl (425 kB)\n",
            "\u001b[2K   \u001b[90m━━━━━━━━━━━━━━━━━━━━━━━━━━━━━━━━━━━━━━━━\u001b[0m \u001b[32m425.1/425.1 kB\u001b[0m \u001b[31m16.6 MB/s\u001b[0m eta \u001b[36m0:00:00\u001b[0m\n",
            "\u001b[?25hDownloading duet-0.2.9-py3-none-any.whl (29 kB)\n",
            "Downloading typedunits-0.0.1.dev20250509200845-cp311-cp311-manylinux_2_17_x86_64.manylinux2014_x86_64.whl (2.8 MB)\n",
            "\u001b[2K   \u001b[90m━━━━━━━━━━━━━━━━━━━━━━━━━━━━━━━━━━━━━━━━\u001b[0m \u001b[32m2.8/2.8 MB\u001b[0m \u001b[31m42.0 MB/s\u001b[0m eta \u001b[36m0:00:00\u001b[0m\n",
            "\u001b[?25hInstalling collected packages: typedunits, duet, cirq-core, cirq-web, cirq-pasqal, cirq-ionq, cirq-aqt, cirq-google, cirq\n",
            "Successfully installed cirq-1.5.0 cirq-aqt-1.5.0 cirq-core-1.5.0 cirq-google-1.5.0 cirq-ionq-1.5.0 cirq-pasqal-1.5.0 cirq-web-1.5.0 duet-0.2.9 typedunits-0.0.1.dev20250509200845\n"
          ]
        }
      ],
      "source": [
        "import IPython\n",
        "\n",
        "def in_colab():\n",
        "    try:\n",
        "        import google.colab\n",
        "        return True\n",
        "    except:\n",
        "        return False\n",
        "\n",
        "SolutionToTask1 = lambda: IPython.display.display(IPython.display.Javascript('window.open(\"{url}\");'.format(url='https://colab.research.google.com/drive/1eowbpp0b8CTq1zY_C-Uos13Jp4kbDWG5?usp=sharing#scrollTo=matched-system' if in_colab() else 'QB_D2_D00_Cirq_Introduction_Solutions.ipynb#task1')))\n",
        "SolutionToTask2 = lambda: IPython.display.display(IPython.display.Javascript('window.open(\"{url}\");'.format(url='https://colab.research.google.com/drive/1eowbpp0b8CTq1zY_C-Uos13Jp4kbDWG5?usp=sharing#scrollTo=urban-hebrew' if in_colab() else 'QB_D2_D00_Cirq_Introduction_Solutions.ipynb#task2')))\n",
        "SolutionToTask3 = lambda: IPython.display.display(IPython.display.Javascript('window.open(\"{url}\");'.format(url='https://colab.research.google.com/drive/1eowbpp0b8CTq1zY_C-Uos13Jp4kbDWG5?usp=sharing#scrollTo=proved-wednesday' if in_colab() else 'QB_D2_D00_Cirq_Introduction_Solutions.ipynb#task3')))\n",
        "SolutionToTask4 = lambda: IPython.display.display(IPython.display.Javascript('window.open(\"{url}\");'.format(url='https://colab.research.google.com/drive/1eowbpp0b8CTq1zY_C-Uos13Jp4kbDWG5?usp=sharing#scrollTo=moved-bracket' if in_colab() else 'QB_D2_D00_Cirq_Introduction_Solutions.ipynb#task4')))\n",
        "\n",
        "if in_colab():\n",
        "    !pip install cirq"
      ]
    },
    {
      "cell_type": "markdown",
      "metadata": {
        "id": "5Q04cF-v-ODJ"
      },
      "source": [
        "##### You can import Cirq using the following command:"
      ]
    },
    {
      "cell_type": "code",
      "execution_count": 2,
      "metadata": {
        "id": "SZhsOHND-ODK"
      },
      "outputs": [],
      "source": [
        "import cirq"
      ]
    },
    {
      "cell_type": "markdown",
      "metadata": {
        "id": "cfy6Awb5-ODK"
      },
      "source": [
        "<hr>\n",
        "<h2>Creating qubits</h2>"
      ]
    },
    {
      "cell_type": "markdown",
      "metadata": {
        "id": "zOXNt6S7-ODK"
      },
      "source": [
        "There are different ways to create qubits in Cirq. Here, we will introduce two of them."
      ]
    },
    {
      "cell_type": "markdown",
      "metadata": {
        "id": "S-DoNmzW-ODL"
      },
      "source": [
        "<b>Named qubits</b>"
      ]
    },
    {
      "cell_type": "markdown",
      "metadata": {
        "id": "oEf5tss1-ODL"
      },
      "source": [
        "<i>Named qubit</i> is the simplest way to create qubits. The qubits are identified by their name."
      ]
    },
    {
      "cell_type": "code",
      "execution_count": 3,
      "metadata": {
        "id": "oqPhGMem-ODL",
        "outputId": "8b5c48b0-a7e2-4068-f0db-a88050387b1f",
        "colab": {
          "base_uri": "https://localhost:8080/"
        }
      },
      "outputs": [
        {
          "output_type": "stream",
          "name": "stdout",
          "text": [
            "source\n",
            "target\n"
          ]
        }
      ],
      "source": [
        "# Let's create two qubits named source and target\n",
        "s = cirq.NamedQubit('source')\n",
        "t = cirq.NamedQubit('target')\n",
        "print(s)\n",
        "print(t)"
      ]
    },
    {
      "cell_type": "markdown",
      "metadata": {
        "id": "2ZdCZtk2-ODL"
      },
      "source": [
        "<b>Lined qubits</b>"
      ]
    },
    {
      "cell_type": "markdown",
      "metadata": {
        "id": "eBvE8_Lg-ODL"
      },
      "source": [
        "<i>Lined qubit</i> creates a qubit located on a 1-D line and each qubit is identified by its $x$ coordinate."
      ]
    },
    {
      "cell_type": "code",
      "execution_count": 4,
      "metadata": {
        "id": "4Z5wIx5C-ODL",
        "outputId": "0c3d4ebe-efa9-4129-fb34-b012ed9413f7",
        "colab": {
          "base_uri": "https://localhost:8080/"
        }
      },
      "outputs": [
        {
          "output_type": "stream",
          "name": "stdout",
          "text": [
            "q(4)\n"
          ]
        }
      ],
      "source": [
        "# Returns the 4th qubit on the line\n",
        "q4 = cirq.LineQubit(4)\n",
        "print(q4)\n",
        "# Note that 4 is not the number of qubits."
      ]
    },
    {
      "cell_type": "markdown",
      "metadata": {
        "id": "cCf2HFVk-ODM"
      },
      "source": [
        "To create a list of qubits, range function should be used."
      ]
    },
    {
      "cell_type": "code",
      "execution_count": 5,
      "metadata": {
        "id": "CI5NEr9L-ODM",
        "outputId": "76d87428-0270-4dad-bb77-f36310c2d82b",
        "colab": {
          "base_uri": "https://localhost:8080/"
        }
      },
      "outputs": [
        {
          "output_type": "stream",
          "name": "stdout",
          "text": [
            "q(2)\n"
          ]
        }
      ],
      "source": [
        "# Returns a list of 4 qubits, starting at index 0 and ending at index 3\n",
        "qlist = cirq.LineQubit.range(4)\n",
        "\n",
        "# List can be subscriptable\n",
        "print(qlist[2])\n",
        "\n",
        "# Qubits in the list can be stored individually as well\n",
        "qubit0, qubit1, qubit2 = cirq.LineQubit.range(3)"
      ]
    },
    {
      "cell_type": "markdown",
      "metadata": {
        "id": "h8OA5vZR-ODM"
      },
      "source": [
        "<hr>\n",
        "<h2>Creating Circiuts</h2>"
      ]
    },
    {
      "cell_type": "markdown",
      "metadata": {
        "id": "T0PcTB85-ODM"
      },
      "source": [
        "A quantum circuit is created by the following command."
      ]
    },
    {
      "cell_type": "code",
      "execution_count": 6,
      "metadata": {
        "id": "VfsYlaDQ-ODM"
      },
      "outputs": [],
      "source": [
        "# Creates a circuit object\n",
        "circuit = cirq.Circuit()"
      ]
    },
    {
      "cell_type": "markdown",
      "metadata": {
        "id": "SQcncSlP-ODM"
      },
      "source": [
        "<hr>\n",
        "<h2>Gates</h2>"
      ]
    },
    {
      "cell_type": "markdown",
      "metadata": {
        "id": "SKkE9KT3-ODM"
      },
      "source": [
        "Here are some <i>gates</i> and how we apply them in Cirq. Gates are applied to qubits forming _operations_ and operations are appended to quantum circuits. Qubits do not belong to circuits."
      ]
    },
    {
      "cell_type": "code",
      "execution_count": 7,
      "metadata": {
        "id": "AhdMy56n-ODM"
      },
      "outputs": [],
      "source": [
        "# Let's import the gates.\n",
        "from cirq import X, Z, H, CX, CZ, SWAP, CCX\n",
        "\n",
        "# Apply NOT gate to qubit 2\n",
        "circuit.append(X(qlist[2]))\n",
        "\n",
        "# Apply Z gate to qubit 2\n",
        "circuit.append(Z(qlist[2]))\n",
        "\n",
        "# Apply H gate to qubit 3\n",
        "circuit.append(H(qlist[3]))\n",
        "\n",
        "# Apply CNOT gate where qubit 2 is control and qubit 0 is target\n",
        "circuit.append(CX(qlist[2], qlist[0]))\n",
        "\n",
        "# Apply CZ gate where qubit 0 is control and qubit 1 is target\n",
        "circuit.append(CZ(qlist[0], qlist[1]))\n",
        "\n",
        "# Apply SWAP gates to qubits 1 and 3\n",
        "circuit.append(SWAP(qlist[1], qlist[3]))\n",
        "\n",
        "# Apply CCNOT gate where qubit 0 and 1 are the control and qubit 2 is the target\n",
        "circuit.append(CCX(qlist[0], qlist[1], qlist[2]))"
      ]
    },
    {
      "cell_type": "markdown",
      "metadata": {
        "id": "1rAk0Hc_-ODM"
      },
      "source": [
        "Let's draw our circuit to visualize the operations."
      ]
    },
    {
      "cell_type": "code",
      "execution_count": 8,
      "metadata": {
        "id": "FTNdjCqu-ODM",
        "outputId": "14967c16-ea2a-418c-a9c5-3520fe16253b",
        "colab": {
          "base_uri": "https://localhost:8080/"
        }
      },
      "outputs": [
        {
          "output_type": "stream",
          "name": "stdout",
          "text": [
            "0: ───────────X───@───────@───\n",
            "              │   │       │\n",
            "1: ───────────┼───@───×───@───\n",
            "              │       │   │\n",
            "2: ───X───Z───@───────┼───X───\n",
            "                      │\n",
            "3: ───H───────────────×───────\n"
          ]
        }
      ],
      "source": [
        "print(circuit)"
      ]
    },
    {
      "cell_type": "markdown",
      "metadata": {
        "id": "ys7lzl_w-ODM"
      },
      "source": [
        "### Task 1\n",
        "    \n",
        "Create a quantum circuit with 10 qubits.\n",
        "\n",
        "1. Apply $H$ gate to qubit 0\n",
        "2. Apply nine $CNOT$ gates where qubit $0$ is the control and qubit $i$ is the target for $i=1,\\dots,9$.\n",
        "\n",
        "Draw your circuit."
      ]
    },
    {
      "cell_type": "code",
      "execution_count": 10,
      "metadata": {
        "id": "EOnIfX13-ODN",
        "outputId": "3374e4d2-0536-47dd-9c17-bc6482e19cd2",
        "colab": {
          "base_uri": "https://localhost:8080/"
        }
      },
      "outputs": [
        {
          "output_type": "stream",
          "name": "stdout",
          "text": [
            "0: ───H───@───@───@───@───@───@───@───@───@───\n",
            "          │   │   │   │   │   │   │   │   │\n",
            "1: ───────X───┼───┼───┼───┼───┼───┼───┼───┼───\n",
            "              │   │   │   │   │   │   │   │\n",
            "2: ───────────X───┼───┼───┼───┼───┼───┼───┼───\n",
            "                  │   │   │   │   │   │   │\n",
            "3: ───────────────X───┼───┼───┼───┼───┼───┼───\n",
            "                      │   │   │   │   │   │\n",
            "4: ───────────────────X───┼───┼───┼───┼───┼───\n",
            "                          │   │   │   │   │\n",
            "5: ───────────────────────X───┼───┼───┼───┼───\n",
            "                              │   │   │   │\n",
            "6: ───────────────────────────X───┼───┼───┼───\n",
            "                                  │   │   │\n",
            "7: ───────────────────────────────X───┼───┼───\n",
            "                                      │   │\n",
            "8: ───────────────────────────────────X───┼───\n",
            "                                          │\n",
            "9: ───────────────────────────────────────X───\n"
          ]
        }
      ],
      "source": [
        "import cirq\n",
        "from cirq import H, CX\n",
        "\n",
        "#\n",
        "# Your solution here\n",
        "#\n",
        "qlist = cirq.LineQubit.range(10)\n",
        "circuit = cirq.Circuit()\n",
        "circuit.append(H(qlist[0]))\n",
        "for i in range(1, 10):\n",
        "  circuit.append(CX(qlist[0], qlist[i]))\n",
        "print(circuit)"
      ]
    },
    {
      "cell_type": "markdown",
      "metadata": {
        "id": "ZJaMJAWg-ODN"
      },
      "source": [
        "To check out our solution, run the next cell:"
      ]
    },
    {
      "cell_type": "code",
      "execution_count": 11,
      "metadata": {
        "id": "5dSMXgAm-ODN",
        "outputId": "0312fd1f-b5e2-4298-b3ee-7b261b57b379",
        "colab": {
          "base_uri": "https://localhost:8080/",
          "height": 37
        }
      },
      "outputs": [
        {
          "output_type": "display_data",
          "data": {
            "text/plain": [
              "<IPython.core.display.Javascript object>"
            ],
            "application/javascript": [
              "window.open(\"https://colab.research.google.com/drive/1eowbpp0b8CTq1zY_C-Uos13Jp4kbDWG5?usp=sharing#scrollTo=matched-system\");"
            ]
          },
          "metadata": {}
        }
      ],
      "source": [
        "SolutionToTask1()  # show solution for task 1"
      ]
    },
    {
      "cell_type": "markdown",
      "metadata": {
        "id": "uPQ9F_m0-ODN"
      },
      "source": [
        "<h2> More about gates </h2>"
      ]
    },
    {
      "cell_type": "markdown",
      "metadata": {
        "id": "49rPPHDB-ODN"
      },
      "source": [
        "It is possible to apply a gate to multiple qubits at once by using the keyword <i>on_each</i> and using `*` before the qubits. (`*` is used in Python to unpack a list)"
      ]
    },
    {
      "cell_type": "code",
      "execution_count": 12,
      "metadata": {
        "id": "4LtHFAv9-ODN",
        "outputId": "0db9d7ff-0201-4c38-c96c-28ad1fe19436",
        "colab": {
          "base_uri": "https://localhost:8080/"
        }
      },
      "outputs": [
        {
          "output_type": "stream",
          "name": "stdout",
          "text": [
            "0: ───H───\n",
            "\n",
            "1: ───H───\n",
            "\n",
            "2: ───H───\n",
            "\n",
            "3: ───H───\n"
          ]
        }
      ],
      "source": [
        "circuit2 = cirq.Circuit()\n",
        "qlist = cirq.LineQubit.range(4)\n",
        "circuit2.append(H.on_each(*qlist))\n",
        "print(circuit2)"
      ]
    },
    {
      "cell_type": "markdown",
      "metadata": {
        "id": "C_Rk-Cvt-ODN"
      },
      "source": [
        "<i>controlled</i> function creates the controlled version of a gate."
      ]
    },
    {
      "cell_type": "code",
      "execution_count": 13,
      "metadata": {
        "id": "8J05iESj-ODN",
        "outputId": "78a82de4-8a21-486e-c8f8-968eaf55a304",
        "colab": {
          "base_uri": "https://localhost:8080/"
        }
      },
      "outputs": [
        {
          "output_type": "stream",
          "name": "stdout",
          "text": [
            "0: ───H───@───\n",
            "          │\n",
            "1: ───H───@───\n",
            "          │\n",
            "2: ───H───H───\n",
            "          │\n",
            "3: ───H───@───\n"
          ]
        }
      ],
      "source": [
        "CCCH =  H(qlist[2]).controlled_by(qlist[0],qlist[1],qlist[3])\n",
        "circuit2.append(CCCH)\n",
        "print(circuit2)"
      ]
    },
    {
      "cell_type": "markdown",
      "metadata": {
        "id": "LW4aa3OY-ODN"
      },
      "source": [
        "It is also possible to first define the operation and then specify the qubits."
      ]
    },
    {
      "cell_type": "code",
      "execution_count": 14,
      "metadata": {
        "id": "gT6bEp-J-ODN",
        "outputId": "d559f0f3-52cf-4bb9-eeb5-531f469ebb7f",
        "colab": {
          "base_uri": "https://localhost:8080/"
        }
      },
      "outputs": [
        {
          "output_type": "stream",
          "name": "stdout",
          "text": [
            "0: ───H───@───@───\n",
            "          │   │\n",
            "1: ───H───@───@───\n",
            "          │   │\n",
            "2: ───H───H───@───\n",
            "          │   │\n",
            "3: ───H───@───Z───\n"
          ]
        }
      ],
      "source": [
        "CCCZ = Z.controlled(3)\n",
        "circuit2.append(CCCZ(*qlist[0:4]))\n",
        "print(circuit2)"
      ]
    },
    {
      "cell_type": "markdown",
      "metadata": {
        "id": "uO_HzKQh-ODN"
      },
      "source": [
        "One can define new gates by arithmetic operations as well"
      ]
    },
    {
      "cell_type": "code",
      "execution_count": 15,
      "metadata": {
        "id": "uK3J8io0-ODN",
        "outputId": "774ce7c3-f310-4841-ac66-9b812fb26540",
        "colab": {
          "base_uri": "https://localhost:8080/"
        }
      },
      "outputs": [
        {
          "output_type": "stream",
          "name": "stdout",
          "text": [
            "0: ───H───@───@───────────\n",
            "          │   │\n",
            "1: ───H───@───@───X^0.5───\n",
            "          │   │\n",
            "2: ───H───H───@───────────\n",
            "          │   │\n",
            "3: ───H───@───Z───────────\n"
          ]
        }
      ],
      "source": [
        "ROOTX = X**0.5\n",
        "circuit2.append(ROOTX(qlist[1]))\n",
        "print(circuit2)"
      ]
    },
    {
      "cell_type": "markdown",
      "metadata": {
        "id": "9dsnhr13-ODN"
      },
      "source": [
        "### Task 2\n",
        "    \n",
        "Create a quantum circuit with 10 qubits.\n",
        "\n",
        "1. Apply $H$ gates to all qubits.\n",
        "2. Apply $X$ gate to qubit 0 controlled by qubits 1-9\n",
        "2. Apply $H$ gates to all qubits.\n",
        "\n",
        "Draw your circuit."
      ]
    },
    {
      "cell_type": "code",
      "execution_count": 16,
      "metadata": {
        "id": "eNtGlfuk-ODS",
        "outputId": "14b8b4de-69de-4c76-8785-2a162f4fb54c",
        "colab": {
          "base_uri": "https://localhost:8080/"
        }
      },
      "outputs": [
        {
          "output_type": "stream",
          "name": "stdout",
          "text": [
            "0: ───H───X───H───\n",
            "          │\n",
            "1: ───H───@───H───\n",
            "          │\n",
            "2: ───H───@───H───\n",
            "          │\n",
            "3: ───H───@───H───\n",
            "          │\n",
            "4: ───H───@───H───\n",
            "          │\n",
            "5: ───H───@───H───\n",
            "          │\n",
            "6: ───H───@───H───\n",
            "          │\n",
            "7: ───H───@───H───\n",
            "          │\n",
            "8: ───H───@───H───\n",
            "          │\n",
            "9: ───H───@───H───\n"
          ]
        }
      ],
      "source": [
        "import cirq\n",
        "from cirq import H, X\n",
        "\n",
        "#\n",
        "# Your solution here\n",
        "#\n",
        "qlist = cirq.LineQubit.range(10)\n",
        "circuit = cirq.Circuit()\n",
        "circuit.append(H.on_each(*qlist))\n",
        "circuit.append(X(qlist[0]).controlled_by(*qlist[1:]))\n",
        "circuit.append(H.on_each(*qlist))\n",
        "print(circuit)"
      ]
    },
    {
      "cell_type": "markdown",
      "metadata": {
        "id": "ptDBstHR-ODS"
      },
      "source": [
        "To check out our solution, run the next cell:"
      ]
    },
    {
      "cell_type": "code",
      "execution_count": null,
      "metadata": {
        "id": "bTkU8lQL-ODS"
      },
      "outputs": [],
      "source": [
        "SolutionToTask2()  # show solution for task 2"
      ]
    },
    {
      "cell_type": "markdown",
      "metadata": {
        "id": "UlqWpxLB-ODS"
      },
      "source": [
        "<hr>\n",
        "<h2>Running Circuits</h2>"
      ]
    },
    {
      "cell_type": "markdown",
      "metadata": {
        "id": "zXwrwwwJ-ODS"
      },
      "source": [
        "One way to get results from your circuit is to measure and run it for multiple times.\n",
        "\n",
        "Let's first create a simple circuit and measure it."
      ]
    },
    {
      "cell_type": "code",
      "execution_count": 18,
      "metadata": {
        "id": "NgddfYah-ODT"
      },
      "outputs": [],
      "source": [
        "import cirq\n",
        "from cirq import H, measure\n",
        "\n",
        "# Create quantum and classical registers with 2 qubits\n",
        "qlist = cirq.LineQubit.range(2)\n",
        "\n",
        "# Create a new circuit\n",
        "circuit = cirq.Circuit()\n",
        "\n",
        "# Apply H gate to qubit 0\n",
        "circuit.append(H(qlist[0]))\n",
        "\n",
        "# Measure both qubits, result is the label\n",
        "circuit.append(measure(*qlist, key='result'))"
      ]
    },
    {
      "cell_type": "markdown",
      "metadata": {
        "id": "rO8EDiz9-ODT"
      },
      "source": [
        "Cirq can simulate circuits with up to 20 qubits. We initalize the <i>simulator</i> and run our circuit for multiple times to take samples."
      ]
    },
    {
      "cell_type": "code",
      "execution_count": 19,
      "metadata": {
        "id": "5ShYyPPx-ODT",
        "outputId": "a5c280db-65ac-429b-e0de-400398c00176",
        "colab": {
          "base_uri": "https://localhost:8080/"
        }
      },
      "outputs": [
        {
          "output_type": "stream",
          "name": "stdout",
          "text": [
            "Counter({0: 504, 2: 496})\n"
          ]
        }
      ],
      "source": [
        "# This is the local simulator\n",
        "s = cirq.Simulator()\n",
        "\n",
        "# circuit is the circuit to be simulated\n",
        "# shots is the how many times we want to run the circuit\n",
        "samples=s.run(circuit, repetitions=1000)\n",
        "\n",
        "# Get the results as a dictionary\n",
        "print(samples.histogram(key='result'))"
      ]
    },
    {
      "cell_type": "markdown",
      "metadata": {
        "id": "eomdkKGE-ODT"
      },
      "source": [
        "Note that the outputs are in decimal form (i.e., 2 instead of 10). We can obtain the state representation as follows."
      ]
    },
    {
      "cell_type": "code",
      "execution_count": 20,
      "metadata": {
        "id": "V0OHN_jE-ODT",
        "outputId": "df20169f-f15c-4359-a17d-9d5487db7c37",
        "colab": {
          "base_uri": "https://localhost:8080/"
        }
      },
      "outputs": [
        {
          "output_type": "stream",
          "name": "stdout",
          "text": [
            "Counter({'00': 504, '10': 496})\n"
          ]
        }
      ],
      "source": [
        "def bitstring(bits):\n",
        "    return \"\".join(str(int(b)) for b in bits)\n",
        "\n",
        "counts = samples.histogram(key=\"result\",fold_func=bitstring)\n",
        "print(counts)"
      ]
    },
    {
      "cell_type": "markdown",
      "metadata": {
        "id": "Vghs6m9s-ODT"
      },
      "source": [
        "Cirq also provides the list of all measurement outcomes as well."
      ]
    },
    {
      "cell_type": "code",
      "execution_count": 21,
      "metadata": {
        "id": "ADtf9R6r-ODT",
        "outputId": "41665e43-281e-4592-e8c6-74e4fbdb755e",
        "colab": {
          "base_uri": "https://localhost:8080/"
        }
      },
      "outputs": [
        {
          "output_type": "stream",
          "name": "stdout",
          "text": [
            "[[0 0]\n",
            " [1 0]\n",
            " [1 0]\n",
            " ...\n",
            " [1 0]\n",
            " [1 0]\n",
            " [1 0]]\n"
          ]
        }
      ],
      "source": [
        "result = samples.measurements[\"result\"]\n",
        "print(result)"
      ]
    },
    {
      "cell_type": "markdown",
      "metadata": {
        "id": "BG4OwEKd-ODT"
      },
      "source": [
        "It is also possible to measure only some of the qubits. Let's only measure qlist[0] this time."
      ]
    },
    {
      "cell_type": "code",
      "execution_count": null,
      "metadata": {
        "id": "LavinUDm-ODT"
      },
      "outputs": [],
      "source": [
        "import cirq\n",
        "from cirq import H, measure\n",
        "\n",
        "# Create quantum and classical registers with 2 qubits\n",
        "qlist = cirq.LineQubit.range(2)\n",
        "\n",
        "# Create a new circuit\n",
        "circuit = cirq.Circuit()\n",
        "\n",
        "# Apply H gate to qubit 0\n",
        "circuit.append(H(qlist[0]))\n",
        "\n",
        "# Measure both qubits, result is the label\n",
        "circuit.append(measure(qlist[0], key='result'))\n",
        "\n",
        "# This is the local simulator\n",
        "s = cirq.Simulator()\n",
        "\n",
        "samples=s.run(circuit, repetitions=1000)\n",
        "\n",
        "def bitstring(bits):\n",
        "    return \"\".join(str(int(b)) for b in bits)\n",
        "\n",
        "counts = samples.histogram(key=\"result\",fold_func=bitstring)\n",
        "print(counts)"
      ]
    },
    {
      "cell_type": "markdown",
      "metadata": {
        "id": "_6CAAOTz-ODT"
      },
      "source": [
        "<a id=\"task3\"></a>\n",
        "### Task 3\n",
        "    \n",
        "Implement the circuit in Task 1. Measure all the qubits and simulate your circuit for 1000 times."
      ]
    },
    {
      "cell_type": "code",
      "execution_count": null,
      "metadata": {
        "id": "YeigKOoc-ODT"
      },
      "outputs": [],
      "source": [
        "import cirq\n",
        "from cirq import H, CX, measure\n",
        "\n",
        "#\n",
        "# Your solution here\n",
        "#\n"
      ]
    },
    {
      "cell_type": "markdown",
      "metadata": {
        "id": "93jK3Zz2-ODT"
      },
      "source": [
        "To check out our solution, run the next cell:"
      ]
    },
    {
      "cell_type": "code",
      "execution_count": null,
      "metadata": {
        "id": "pxMA8yhV-ODT"
      },
      "outputs": [],
      "source": [
        "SolutionToTask3()  # show solution for task 3"
      ]
    },
    {
      "cell_type": "markdown",
      "metadata": {
        "id": "Iq1KCGEk-ODT"
      },
      "source": [
        "<hr>"
      ]
    },
    {
      "cell_type": "markdown",
      "metadata": {
        "id": "dEBveI6T-ODT"
      },
      "source": [
        "## Debugging the Circuits - State Representation"
      ]
    },
    {
      "cell_type": "markdown",
      "metadata": {
        "id": "a1KnZc_u-ODU"
      },
      "source": [
        "It is possible to get the exact quantum state from the simulator. You shouldn't measure your circuit before getting the state.\n",
        "\n",
        "We will use the _simulate_ function in Cirq to obtain the exact quantum state."
      ]
    },
    {
      "cell_type": "code",
      "execution_count": null,
      "metadata": {
        "id": "hJq3Fjus-ODU"
      },
      "outputs": [],
      "source": [
        "import cirq\n",
        "from cirq import H, measure\n",
        "\n",
        "# Create quantum and classical registers with 2 qubits\n",
        "qlist = cirq.LineQubit.range(2)\n",
        "\n",
        "# Create a new circuit\n",
        "circuit = cirq.Circuit()\n",
        "\n",
        "# Apply H gate to qubit 0\n",
        "circuit.append(H(qlist[0]))\n",
        "\n",
        "# Simulate the circuit\n",
        "results=s.simulate(circuit)\n",
        "print(results)"
      ]
    },
    {
      "cell_type": "markdown",
      "metadata": {
        "id": "gJTiW5wu-ODU"
      },
      "source": [
        "Note that since we did not apply any gate on qlist[1], it is not visible in the output. Let's check the following circuit."
      ]
    },
    {
      "cell_type": "code",
      "execution_count": null,
      "metadata": {
        "id": "Xs7D0COM-ODU"
      },
      "outputs": [],
      "source": [
        "import cirq\n",
        "from cirq import H, I, measure\n",
        "\n",
        "# Create quantum and classical registers with 2 qubits\n",
        "qlist = cirq.LineQubit.range(2)\n",
        "\n",
        "# Create a new circuit\n",
        "circuit = cirq.Circuit()\n",
        "\n",
        "# Apply H gate to qubit 0\n",
        "circuit.append(H(qlist[0]))\n",
        "# Apply Identity to qubit 1\n",
        "circuit.append(I(qlist[1]))\n",
        "\n",
        "# Simulate the circuit\n",
        "results=s.simulate(circuit)\n",
        "print(results)"
      ]
    },
    {
      "cell_type": "markdown",
      "metadata": {
        "id": "6yIV_7MC-ODU"
      },
      "source": [
        "If you use simulator after the measurement, you will observe that the quantum state has collapsed to one of the states."
      ]
    },
    {
      "cell_type": "code",
      "execution_count": null,
      "metadata": {
        "id": "ZYJh4h95-ODU"
      },
      "outputs": [],
      "source": [
        "circuit.append(measure(*qlist))\n",
        "results=s.simulate(circuit)\n",
        "print(results)"
      ]
    },
    {
      "cell_type": "markdown",
      "metadata": {
        "id": "9MYHrXu7-ODU"
      },
      "source": [
        "If we use the simulate method when there are greater than or equal to 4 qubits, then the quantum state is represented in vector form instead of Dirac notation."
      ]
    },
    {
      "cell_type": "code",
      "execution_count": null,
      "metadata": {
        "id": "qfn0rA_k-ODU"
      },
      "outputs": [],
      "source": [
        "import cirq\n",
        "from cirq import H, measure\n",
        "\n",
        "# Create quantum and classical registers with 4 qubits\n",
        "qlist = cirq.LineQubit.range(4)\n",
        "\n",
        "# Create a new circuit\n",
        "circuit = cirq.Circuit()\n",
        "\n",
        "# Apply H gate to all qubits\n",
        "circuit.append(H.on_each(*qlist))\n",
        "\n",
        "# Simulate the circuit\n",
        "results=s.simulate(circuit)\n",
        "print(results)"
      ]
    },
    {
      "cell_type": "markdown",
      "metadata": {
        "id": "VrEMpvz8-ODU"
      },
      "source": [
        "### Task 4\n",
        "    \n",
        "Create a quantum circuit with 4 qubits. Apply Hadamard gate to each qubit and $CZ$ gate to qubits 0 and 1. Use the simulator without measuring the circuit. Check the entries with negative sign."
      ]
    },
    {
      "cell_type": "code",
      "execution_count": null,
      "metadata": {
        "id": "J5b1-TuQ-ODU"
      },
      "outputs": [],
      "source": [
        "import cirq\n",
        "from cirq import H, CZ\n",
        "\n",
        "#\n",
        "# Your solution here\n",
        "#"
      ]
    },
    {
      "cell_type": "markdown",
      "metadata": {
        "id": "3pQo7jrO-ODU"
      },
      "source": [
        "To check out our solution, run the next cell:"
      ]
    },
    {
      "cell_type": "code",
      "execution_count": null,
      "metadata": {
        "id": "5Cy-wKDA-ODU"
      },
      "outputs": [],
      "source": [
        "SolutionToTask4()  # show solution for task 4"
      ]
    },
    {
      "cell_type": "markdown",
      "metadata": {
        "id": "KyuTwGId-ODU"
      },
      "source": [
        "<hr>\n",
        "<h2>Unitary Matrix Representation</h2>"
      ]
    },
    {
      "cell_type": "markdown",
      "metadata": {
        "id": "1oHdd4Qk-ODU"
      },
      "source": [
        "It is possible to obtain <i>unitary</i> matrix representation of gates and circuits."
      ]
    },
    {
      "cell_type": "code",
      "execution_count": null,
      "metadata": {
        "id": "TDyafCh8-ODU"
      },
      "outputs": [],
      "source": [
        "from cirq import CX, X\n",
        "\n",
        "ROOTX = X**0.5\n",
        "\n",
        "print('Unitary matrix representation of the CNOT gate')\n",
        "print(cirq.unitary(CX))\n",
        "print('Unitary matrix representation of the CROOTX gate we have created')\n",
        "print(cirq.unitary(ROOTX))"
      ]
    },
    {
      "cell_type": "code",
      "execution_count": null,
      "metadata": {
        "id": "zhFljmA_-ODU"
      },
      "outputs": [],
      "source": [
        "print('Unitary matrix representation of H operator on 2 qubits.')\n",
        "qlist= cirq.LineQubit.range(2)\n",
        "circuit = cirq.Circuit()\n",
        "circuit.append(cirq.H.on_each(*qlist))\n",
        "print(cirq.unitary(circuit))"
      ]
    }
  ],
  "metadata": {
    "kernelspec": {
      "display_name": "Python 3 (ipykernel)",
      "language": "python",
      "name": "python3"
    },
    "language_info": {
      "codemirror_mode": {
        "name": "ipython",
        "version": 3
      },
      "file_extension": ".py",
      "mimetype": "text/x-python",
      "name": "python",
      "nbconvert_exporter": "python",
      "pygments_lexer": "ipython3",
      "version": "3.11.4"
    },
    "colab": {
      "provenance": [],
      "collapsed_sections": [
        "TLwCOFrB-ODI"
      ],
      "include_colab_link": true
    }
  },
  "nbformat": 4,
  "nbformat_minor": 0
}