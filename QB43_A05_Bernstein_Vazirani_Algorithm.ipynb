{
  "cells": [
    {
      "cell_type": "markdown",
      "metadata": {
        "id": "view-in-github",
        "colab_type": "text"
      },
      "source": [
        "<a href=\"https://colab.research.google.com/github/james-lucius/qworld/blob/main/QB43_A05_Bernstein_Vazirani_Algorithm.ipynb\" target=\"_parent\"><img src=\"https://colab.research.google.com/assets/colab-badge.svg\" alt=\"Open In Colab\"/></a>"
      ]
    },
    {
      "cell_type": "markdown",
      "metadata": {
        "id": "ntcYBk1t4M_N"
      },
      "source": [
        "<a href=\"https://qworld.net\" target=\"_blank\" align=\"left\"><img src=\"https://gitlab.com/qworld/qeducation/qbook101/raw/main/qworld/images/header.jpg\" align=\"left\"></a>\n",
        "$ \\newcommand{\\bra}[1]{\\langle #1|} $\n",
        "$ \\newcommand{\\ket}[1]{|#1\\rangle} $\n",
        "$ \\newcommand{\\braket}[2]{\\langle #1|#2\\rangle} $\n",
        "$ \\newcommand{\\dot}[2]{ #1 \\cdot #2} $\n",
        "$ \\newcommand{\\biginner}[2]{\\left\\langle #1,#2\\right\\rangle} $\n",
        "$ \\newcommand{\\mymatrix}[2]{\\left( \\begin{array}{#1} #2\\end{array} \\right)} $\n",
        "$ \\newcommand{\\myvector}[1]{\\mymatrix{c}{#1}} $\n",
        "$ \\newcommand{\\myrvector}[1]{\\mymatrix{r}{#1}} $\n",
        "$ \\newcommand{\\mypar}[1]{\\left( #1 \\right)} $\n",
        "$ \\newcommand{\\mybigpar}[1]{ \\Big( #1 \\Big)} $\n",
        "$ \\newcommand{\\sqrttwo}{\\frac{1}{\\sqrt{2}}} $\n",
        "$ \\newcommand{\\dsqrttwo}{\\dfrac{1}{\\sqrt{2}}} $\n",
        "$ \\newcommand{\\onehalf}{\\frac{1}{2}} $\n",
        "$ \\newcommand{\\donehalf}{\\dfrac{1}{2}} $\n",
        "$ \\newcommand{\\hadamard}{ \\mymatrix{rr}{ \\sqrttwo & \\sqrttwo \\\\ \\sqrttwo & -\\sqrttwo }} $\n",
        "$ \\newcommand{\\vzero}{\\myvector{1\\\\0}} $\n",
        "$ \\newcommand{\\vone}{\\myvector{0\\\\1}} $\n",
        "$ \\newcommand{\\stateplus}{\\myvector{ \\sqrttwo \\\\  \\sqrttwo } } $\n",
        "$ \\newcommand{\\stateminus}{ \\myrvector{ \\sqrttwo \\\\ -\\sqrttwo } } $\n",
        "$ \\newcommand{\\myarray}[2]{ \\begin{array}{#1}#2\\end{array}} $\n",
        "$ \\newcommand{\\X}{ \\mymatrix{cc}{0 & 1 \\\\ 1 & 0}  } $\n",
        "$ \\newcommand{\\I}{ \\mymatrix{rr}{1 & 0 \\\\ 0 & 1}  } $\n",
        "$ \\newcommand{\\Z}{ \\mymatrix{rr}{1 & 0 \\\\ 0 & -1}  } $\n",
        "$ \\newcommand{\\Htwo}{ \\mymatrix{rrrr}{ \\frac{1}{2} & \\frac{1}{2} & \\frac{1}{2} & \\frac{1}{2} \\\\ \\frac{1}{2} & -\\frac{1}{2} & \\frac{1}{2} & -\\frac{1}{2} \\\\ \\frac{1}{2} & \\frac{1}{2} & -\\frac{1}{2} & -\\frac{1}{2} \\\\ \\frac{1}{2} & -\\frac{1}{2} & -\\frac{1}{2} & \\frac{1}{2} } } $\n",
        "$ \\newcommand{\\CNOT}{ \\mymatrix{cccc}{1 & 0 & 0 & 0 \\\\ 0 & 1 & 0 & 0 \\\\ 0 & 0 & 0 & 1 \\\\ 0 & 0 & 1 & 0} } $\n",
        "$ \\newcommand{\\norm}[1]{ \\left\\lVert #1 \\right\\rVert } $\n",
        "$ \\newcommand{\\pstate}[1]{ \\lceil \\mspace{-1mu} #1 \\mspace{-1.5mu} \\rfloor } $\n",
        "$ \\newcommand{\\greenbit}[1] {\\mathbf{{\\color{green}#1}}} $\n",
        "$ \\newcommand{\\bluebit}[1] {\\mathbf{{\\color{blue}#1}}} $\n",
        "$ \\newcommand{\\redbit}[1] {\\mathbf{{\\color{red}#1}}} $\n",
        "$ \\newcommand{\\brownbit}[1] {\\mathbf{{\\color{brown}#1}}} $\n",
        "$ \\newcommand{\\blackbit}[1] {\\mathbf{{\\color{black}#1}}} $"
      ]
    },
    {
      "cell_type": "markdown",
      "metadata": {
        "id": "qHiumdbO4M_O"
      },
      "source": [
        "_prepared by Berat Yenilen, Utku Birkan, Arda Çınar, Cenk Tüysüz and Özlem Salehi_"
      ]
    },
    {
      "cell_type": "markdown",
      "metadata": {
        "id": "1cPAILPe4M_P"
      },
      "source": [
        "<font size=\"28px\" style=\"font-size:28px;\" align=\"left\"><b> Bernstein-Vazirani Algorithm </b></font>\n",
        "<br>\n",
        "<br><br>"
      ]
    },
    {
      "cell_type": "markdown",
      "metadata": {
        "jp-MarkdownHeadingCollapsed": true,
        "id": "8Pf0ZuPX4M_P"
      },
      "source": [
        "##### <font color=\"#08b806\">Please execute the following cell, it is necessary to distinguish between your local environment and Google Colab's"
      ]
    },
    {
      "cell_type": "code",
      "execution_count": null,
      "metadata": {
        "id": "VdoT3Yf64M_P"
      },
      "outputs": [],
      "source": [
        "import IPython\n",
        "\n",
        "def in_colab():\n",
        "    try:\n",
        "        import google.colab\n",
        "        return True\n",
        "    except:\n",
        "        return False\n",
        "\n",
        "path_files = \"./\" if in_colab() else \"../qworld/include/\"\n",
        "\n",
        "SolutionToTask1 = lambda: IPython.display.display(IPython.display.Javascript('window.open(\"{url}\");'.format(url='https://colab.research.google.com/drive/1MTX2WFOGUCtrfPqbDTQJtY4y9YZziB3c?usp=sharing#scrollTo=4sVb8ypg2jTt' if in_colab() else 'QB43_A05_Bernstein_Vazirani_Algorithm_Solutions.ipynb#task1')))\n",
        "SolutionToTask2 = lambda: IPython.display.display(IPython.display.Javascript('window.open(\"{url}\");'.format(url='https://colab.research.google.com/drive/1MTX2WFOGUCtrfPqbDTQJtY4y9YZziB3c?usp=sharing#scrollTo=5jAJgEjQ2jTu' if in_colab() else 'QB43_A05_Bernstein_Vazirani_Algorithm_Solutions.ipynb#task2')))\n",
        "SolutionToTask3 = lambda: IPython.display.display(IPython.display.Javascript('window.open(\"{url}\");'.format(url='https://colab.research.google.com/drive/1MTX2WFOGUCtrfPqbDTQJtY4y9YZziB3c?usp=sharing#scrollTo=1AEo8L0F2jTu' if in_colab() else 'QB43_A05_Bernstein_Vazirani_Algorithm_Solutions.ipynb#task3')))\n",
        "SolutionToTask4 = lambda: IPython.display.display(IPython.display.Javascript('window.open(\"{url}\");'.format(url='https://colab.research.google.com/drive/1MTX2WFOGUCtrfPqbDTQJtY4y9YZziB3c?usp=sharing#scrollTo=EE4d-Yhw2jTu' if in_colab() else 'QB43_A05_Bernstein_Vazirani_Algorithm_Solutions.ipynb#task4')))\n",
        "\n",
        "if in_colab():\n",
        "    url = \"https://gitlab.com/qworld/qeducation/qbook101/raw/main/qworld/include/oracle.py\"\n",
        "    !wget --no-cache -O oracle.py {url}\n",
        "\n",
        "    !pip install qiskit[visualization]==0.43.3\n",
        "    !pip install qiskit-aer"
      ]
    },
    {
      "cell_type": "markdown",
      "metadata": {
        "id": "EXhq-rPv4M_P"
      },
      "source": [
        "##### Let $x \\cdot s$ represent the inner product of the bit strings modulo 2.\n",
        "\n",
        "For instance if $x = 1000$ and $s = 1010$, then $x\\cdot s = 1\\cdot 1 + 0\\cdot 0 + 0\\cdot 1 + 0 \\cdot0 = 1 \\pmod 2 = 1$"
      ]
    },
    {
      "cell_type": "markdown",
      "metadata": {
        "id": "QL2-Rg4j4M_P"
      },
      "source": [
        "## Problem\n",
        "\n",
        "Given an oracle function $f:\\{0,1\\}^n \\rightarrow \\{0,1\\}$, which is defined as $ f(\\mathbf{x}) = x \\cdot s $, find the secret string (sequence of bits) $s$.\n",
        "\n",
        "\n",
        "This might come across as a bit of an artificially created problem, because it is. It was specifically designed to be solved using a quantum computer in order to show there can be advantages in using quantum algorithms over probabilistic algorithms."
      ]
    },
    {
      "cell_type": "markdown",
      "metadata": {
        "id": "BehBXalb4M_P"
      },
      "source": [
        "Let's start by giving an example of such an $f$.\n",
        "\n",
        "\\begin{align*}\n",
        "\tf(00)&=0\\\\\n",
        "\tf(01)&=1\\\\\n",
        "\tf(10)&=0\\\\\n",
        "\tf(11)&=1\\\\\n",
        "\t\\end{align*}\n",
        "    \n",
        "In this example, $s$ is $01$, as $f(00)=00\\cdot 01=0$, $f(01)=01\\cdot 01 = 1$, $f(10)=10\\cdot01=0$ and $f(11)=11\\cdot01=1$.\n",
        "    \n",
        "  "
      ]
    },
    {
      "cell_type": "markdown",
      "metadata": {
        "id": "YH7MFfGi4M_P"
      },
      "source": [
        "Note that now the unitary operator $U_f$ takes the following form: $ U_f: \\ket{x}\\ket{y} \\mapsto \\ket{x}\\ket{y \\oplus ( x \\cdot s)} $.\n",
        "\n"
      ]
    },
    {
      "cell_type": "markdown",
      "metadata": {
        "id": "6JwQPwuh4M_P"
      },
      "source": [
        "### Task 1\n",
        "\n",
        "- Using how many queries can you solve the problem clasically? How many queries if you use a probabilistic algorithm?\n",
        "- How many queries do you think we need to make if we are to solve the problem with a quantum computer?"
      ]
    },
    {
      "cell_type": "markdown",
      "metadata": {
        "id": "zeAkDX1x4M_P"
      },
      "source": [
        "To check out our solution, run the next cell:"
      ]
    },
    {
      "cell_type": "code",
      "execution_count": null,
      "metadata": {
        "id": "uDvs9ZqM4M_Q"
      },
      "outputs": [],
      "source": [
        "SolutionToTask1()  # show solution for task 1"
      ]
    },
    {
      "cell_type": "markdown",
      "metadata": {
        "id": "6XtILAKJ4M_Q"
      },
      "source": [
        "### Task 2\n",
        "\n",
        "What can we say about the $f:\\{0,1\\}^n \\rightarrow \\{0,1\\}$ function if $s = 0^n$?"
      ]
    },
    {
      "cell_type": "markdown",
      "metadata": {
        "id": "jhuNv7qJ4M_Q"
      },
      "source": [
        "To check out our solution, run the next cell:"
      ]
    },
    {
      "cell_type": "code",
      "execution_count": null,
      "metadata": {
        "id": "QOWBG9Fp4M_Q"
      },
      "outputs": [],
      "source": [
        "SolutionToTask2()  # show solution for task 2"
      ]
    },
    {
      "cell_type": "markdown",
      "metadata": {
        "id": "WM8r0aU64M_Q"
      },
      "source": [
        "## Algorithm\n",
        "\n",
        "We use exactly the same algorithm as Deutsch-Jozsa.\n",
        "\n",
        " <img src=\"https://gitlab.com/qworld/qeducation/qbook101/raw/main/qbook101/images/ch4/deutschjozsa.png\" width=\"60%\" align=\"center\">\n",
        "\n",
        "We construct a circuit with $n+1$ qubits.\n",
        "\n",
        "- Set the $n+1$'st qubit to state $\\ket{-}$ by applying $X$ and $H$ gates.\n",
        "- Apply $H$ to first $n$ qubits.\n",
        "- Apply $U_f$.\n",
        "- Apply $H$ to first $n$ qubits.\n",
        "- Measure the first $n$ qubits to obtain $s$."
      ]
    },
    {
      "cell_type": "markdown",
      "metadata": {
        "id": "JR8wPw9T4M_Q"
      },
      "source": [
        "## Analysis\n",
        "\n",
        " <img src=\"https://gitlab.com/qworld/qeducation/qbook101/raw/main/qbook101/images/ch4/deutschjozsa2.png\" width=\"60%\" align=\"center\">\n",
        "\n",
        "As we have the same circuit as Deustch-Jozsa, the initialization is the same.\n",
        "\n",
        "$$ \\ket{\\psi_2} = \\frac{1}{\\sqrt{2^n}}\\sum_{x=0}^{2^n-1} \\ket{x} \\otimes \\ket{-} $$"
      ]
    },
    {
      "cell_type": "markdown",
      "metadata": {
        "id": "gw7a7NA44M_Q"
      },
      "source": [
        "From now on we can ignore the output qubit and focus on our input qubits. After applying $U_f$ we then get the state:\n",
        "\n",
        "$$ \\ket{\\psi_{3,0}}= \\frac{1}{\\sqrt{2^n}} \\sum_{x=0}^{2^n-1} (-1)^{f(x)} \\ket{x} $$"
      ]
    },
    {
      "cell_type": "markdown",
      "metadata": {
        "id": "jvctUGek4M_Q"
      },
      "source": [
        "Let's replace $f(x) = x \\cdot s$, and rewrite our state as follows:\n",
        "\n",
        "$$ \\ket{\\psi_{3,0}} = \\frac{1}{\\sqrt{2^n}} \\sum_{x=0}^{2^n-1} (-1)^{x \\cdot s} \\ket{x} $$"
      ]
    },
    {
      "cell_type": "markdown",
      "metadata": {
        "id": "jImWlmzL4M_Q"
      },
      "source": [
        "From the previous notebook we know the following expression: $$ H^{\\otimes n} \\ket{x} = \\frac{1}{\\sqrt{2^n}} \\sum_{x=0}^{2^n-1} (-1)^{x \\cdot z} \\ket{z}. $$"
      ]
    },
    {
      "cell_type": "markdown",
      "metadata": {
        "id": "GAuvAkI84M_Q"
      },
      "source": [
        "We also know that the $H^{\\otimes n}$ operator is its own inverse. Thus, we can say that $H^{\\otimes n}\\ket{a} = \\ket{b} \\Longleftrightarrow H^{\\otimes n}\\ket{b} = \\ket{a}$. So in fact, $\\ket{\\psi_3}$ is the state obtained after applying $H^{\\otimes n}$ to $\\ket{s}$.\n",
        "\n",
        "Hence after applying $H^{\\otimes n}$ to the input qubits, we get the final state as\n",
        "\n",
        "$$\\ket{\\psi_{4,0}} = \\ket{s}.$$\n",
        "\n",
        "We measure the first $n$ qubits and we observe the string $s$ with probability 1.\n",
        "\n",
        "Note that this is also an exact algorithm without any errors like the other algorithms we have seen so far."
      ]
    },
    {
      "cell_type": "markdown",
      "metadata": {
        "id": "0Owg6i9A4M_Q"
      },
      "source": [
        "### Task 3\n",
        "\n",
        "Given an oracle function `bv_oracle()` that constructs a 6 qubit oracle circuit ($s$ has length 5) for $f$, construct a circuit that implements the algorithm described above to find out $s$.\n",
        "\n",
        "Note that qubit 5 is the output qubit.\n",
        "\n",
        "Run the following cell to load function `bv_oracle()`."
      ]
    },
    {
      "cell_type": "code",
      "execution_count": null,
      "metadata": {
        "id": "cLCHHFSY4M_Q"
      },
      "outputs": [],
      "source": [
        "quantum_file = path_files+\"oracle.py\"\n",
        "%run $quantum_file"
      ]
    },
    {
      "cell_type": "code",
      "execution_count": null,
      "metadata": {
        "id": "MKLqPtIh4M_Q"
      },
      "outputs": [],
      "source": [
        "from qiskit import QuantumCircuit, execute, Aer\n",
        "\n",
        "n=5\n",
        "\n",
        "#Create quantum circuit\n",
        "bv_circuit = QuantumCircuit(n+1, n)\n",
        "\n",
        "#Your code here\n",
        "\n",
        "bv_circuit.draw(output=\"mpl\")"
      ]
    },
    {
      "cell_type": "code",
      "execution_count": null,
      "metadata": {
        "id": "K_Svjj_y4M_Q"
      },
      "outputs": [],
      "source": [
        "job = execute(bv_circuit, Aer.get_backend('qasm_simulator'),shots=10000)\n",
        "counts = job.result().get_counts()\n",
        "print(counts)"
      ]
    },
    {
      "cell_type": "markdown",
      "metadata": {
        "id": "TN0x9-yU4M_Q"
      },
      "source": [
        "To check out our solution, run the next cell:"
      ]
    },
    {
      "cell_type": "code",
      "execution_count": null,
      "metadata": {
        "id": "wl-BZ8E64M_R"
      },
      "outputs": [],
      "source": [
        "SolutionToTask3()  # show solution for task 3"
      ]
    },
    {
      "cell_type": "markdown",
      "metadata": {
        "id": "HQ1rg62x4M_R"
      },
      "source": [
        "### Task 4\n",
        "\n",
        "Given $\\textbf{s} = 0110$, implement a function that returns an oracle for the function  $ f(\\mathbf{x}) = \\mathbf{x} \\cdot \\mathbf{s} $. Note that $n=4$ and you will need a cirucit with 5 qubits where qubit 4 is the output qubit."
      ]
    },
    {
      "cell_type": "code",
      "execution_count": null,
      "metadata": {
        "id": "RDPEUP4V4M_R"
      },
      "outputs": [],
      "source": [
        "from qiskit import QuantumCircuit\n",
        "\n",
        "def oracle():\n",
        "\n",
        "    #Your code here"
      ]
    },
    {
      "cell_type": "markdown",
      "metadata": {
        "id": "-SuMHwfL4M_R"
      },
      "source": [
        "To check out our solution, run the next cell:"
      ]
    },
    {
      "cell_type": "code",
      "execution_count": null,
      "metadata": {
        "id": "MNsNusNq4M_R"
      },
      "outputs": [],
      "source": [
        "SolutionToTask4()  # show solution for task 4"
      ]
    },
    {
      "cell_type": "markdown",
      "metadata": {
        "id": "S-0lMROA4M_R"
      },
      "source": [
        "Recall from Task 1 that we need at least $n$ queries both using the deterministic and probabilistic approaches. Now finally, we have an algorithm which provides speedup in the query model also against probabilistic algorithms, although not exponential."
      ]
    }
  ],
  "metadata": {
    "kernelspec": {
      "display_name": "Python 3 (ipykernel)",
      "language": "python",
      "name": "python3"
    },
    "language_info": {
      "codemirror_mode": {
        "name": "ipython",
        "version": 3
      },
      "file_extension": ".py",
      "mimetype": "text/x-python",
      "name": "python",
      "nbconvert_exporter": "python",
      "pygments_lexer": "ipython3",
      "version": "3.11.4"
    },
    "colab": {
      "provenance": [],
      "collapsed_sections": [
        "8Pf0ZuPX4M_P"
      ],
      "include_colab_link": true
    }
  },
  "nbformat": 4,
  "nbformat_minor": 0
}