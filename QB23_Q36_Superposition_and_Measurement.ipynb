{
  "cells": [
    {
      "cell_type": "markdown",
      "metadata": {
        "id": "view-in-github",
        "colab_type": "text"
      },
      "source": [
        "<a href=\"https://colab.research.google.com/github/james-lucius/qworld/blob/main/QB23_Q36_Superposition_and_Measurement.ipynb\" target=\"_parent\"><img src=\"https://colab.research.google.com/assets/colab-badge.svg\" alt=\"Open In Colab\"/></a>"
      ]
    },
    {
      "cell_type": "markdown",
      "metadata": {
        "id": "-EZYj-p0AeGX"
      },
      "source": [
        "<a href=\"https://qworld.net\" target=\"_blank\" align=\"left\"><img src=\"https://gitlab.com/qworld/qeducation/qbook101/raw/main/qworld/images/header.jpg\" align=\"left\"></a>\n",
        "$ \\newcommand{\\bra}[1]{\\langle #1|} $\n",
        "$ \\newcommand{\\ket}[1]{|#1\\rangle} $\n",
        "$ \\newcommand{\\braket}[2]{\\langle #1|#2\\rangle} $\n",
        "$ \\newcommand{\\dot}[2]{ #1 \\cdot #2} $\n",
        "$ \\newcommand{\\biginner}[2]{\\left\\langle #1,#2\\right\\rangle} $\n",
        "$ \\newcommand{\\mymatrix}[2]{\\left( \\begin{array}{#1} #2\\end{array} \\right)} $\n",
        "$ \\newcommand{\\myvector}[1]{\\mymatrix{c}{#1}} $\n",
        "$ \\newcommand{\\myrvector}[1]{\\mymatrix{r}{#1}} $\n",
        "$ \\newcommand{\\mypar}[1]{\\left( #1 \\right)} $\n",
        "$ \\newcommand{\\mybigpar}[1]{ \\Big( #1 \\Big)} $\n",
        "$ \\newcommand{\\sqrttwo}{\\frac{1}{\\sqrt{2}}} $\n",
        "$ \\newcommand{\\dsqrttwo}{\\dfrac{1}{\\sqrt{2}}} $\n",
        "$ \\newcommand{\\onehalf}{\\frac{1}{2}} $\n",
        "$ \\newcommand{\\donehalf}{\\dfrac{1}{2}} $\n",
        "$ \\newcommand{\\hadamard}{ \\mymatrix{rr}{ \\sqrttwo & \\sqrttwo \\\\ \\sqrttwo & -\\sqrttwo }} $\n",
        "$ \\newcommand{\\vzero}{\\myvector{1\\\\0}} $\n",
        "$ \\newcommand{\\vone}{\\myvector{0\\\\1}} $\n",
        "$ \\newcommand{\\stateplus}{\\myvector{ \\sqrttwo \\\\  \\sqrttwo } } $\n",
        "$ \\newcommand{\\stateminus}{ \\myrvector{ \\sqrttwo \\\\ -\\sqrttwo } } $\n",
        "$ \\newcommand{\\myarray}[2]{ \\begin{array}{#1}#2\\end{array}} $\n",
        "$ \\newcommand{\\X}{ \\mymatrix{cc}{0 & 1 \\\\ 1 & 0}  } $\n",
        "$ \\newcommand{\\I}{ \\mymatrix{rr}{1 & 0 \\\\ 0 & 1}  } $\n",
        "$ \\newcommand{\\Z}{ \\mymatrix{rr}{1 & 0 \\\\ 0 & -1}  } $\n",
        "$ \\newcommand{\\Htwo}{ \\mymatrix{rrrr}{ \\frac{1}{2} & \\frac{1}{2} & \\frac{1}{2} & \\frac{1}{2} \\\\ \\frac{1}{2} & -\\frac{1}{2} & \\frac{1}{2} & -\\frac{1}{2} \\\\ \\frac{1}{2} & \\frac{1}{2} & -\\frac{1}{2} & -\\frac{1}{2} \\\\ \\frac{1}{2} & -\\frac{1}{2} & -\\frac{1}{2} & \\frac{1}{2} } } $\n",
        "$ \\newcommand{\\CNOT}{ \\mymatrix{cccc}{1 & 0 & 0 & 0 \\\\ 0 & 1 & 0 & 0 \\\\ 0 & 0 & 0 & 1 \\\\ 0 & 0 & 1 & 0} } $\n",
        "$ \\newcommand{\\norm}[1]{ \\left\\lVert #1 \\right\\rVert } $\n",
        "$ \\newcommand{\\pstate}[1]{ \\lceil \\mspace{-1mu} #1 \\mspace{-1.5mu} \\rfloor } $\n",
        "$ \\newcommand{\\greenbit}[1] {\\mathbf{{\\color{green}#1}}} $\n",
        "$ \\newcommand{\\bluebit}[1] {\\mathbf{{\\color{blue}#1}}} $\n",
        "$ \\newcommand{\\redbit}[1] {\\mathbf{{\\color{red}#1}}} $\n",
        "$ \\newcommand{\\brownbit}[1] {\\mathbf{{\\color{brown}#1}}} $\n",
        "$ \\newcommand{\\blackbit}[1] {\\mathbf{{\\color{black}#1}}} $"
      ]
    },
    {
      "cell_type": "markdown",
      "metadata": {
        "id": "w7bBRJYbAeGa"
      },
      "source": [
        "_prepared by Abuzer Yakaryilmaz_"
      ]
    },
    {
      "cell_type": "markdown",
      "metadata": {
        "id": "QwwkSEiMAeGa"
      },
      "source": [
        "<font size=\"28px\" style=\"font-size:28px;\" align=\"left\"><b> Superposition </b></font>\n",
        "<br>\n",
        "<br><br>\n",
        "[<img src=\"https://gitlab.com/qworld/qeducation/qbook101/raw/main/qworld/images/watch_lecture.jpg\" align=\"left\">](https://youtu.be/uJZtxWHAlPI)\n",
        "<br><br><br>"
      ]
    },
    {
      "cell_type": "markdown",
      "metadata": {
        "jp-MarkdownHeadingCollapsed": true,
        "id": "bwNhlQXWAeGa"
      },
      "source": [
        "##### <font color=\"#08b806\">Please execute the following cell, it is necessary to distinguish between your local environment and Google Colab's"
      ]
    },
    {
      "cell_type": "code",
      "execution_count": 1,
      "metadata": {
        "id": "c71hfML1AeGb",
        "outputId": "082d5219-b5f7-432e-fae5-0557d434dcfc",
        "colab": {
          "base_uri": "https://localhost:8080/"
        }
      },
      "outputs": [
        {
          "output_type": "stream",
          "name": "stdout",
          "text": [
            "Requirement already satisfied: qiskit==0.43.3 in /usr/local/lib/python3.11/dist-packages (from qiskit[visualization]==0.43.3) (0.43.3)\n",
            "Requirement already satisfied: qiskit-terra==0.24.2 in /usr/local/lib/python3.11/dist-packages (from qiskit==0.43.3->qiskit[visualization]==0.43.3) (0.24.2)\n",
            "Requirement already satisfied: qiskit-aer==0.12.2 in /usr/local/lib/python3.11/dist-packages (from qiskit==0.43.3->qiskit[visualization]==0.43.3) (0.12.2)\n",
            "Requirement already satisfied: qiskit-ibmq-provider==0.20.2 in /usr/local/lib/python3.11/dist-packages (from qiskit==0.43.3->qiskit[visualization]==0.43.3) (0.20.2)\n",
            "Requirement already satisfied: matplotlib>=2.1 in /usr/local/lib/python3.11/dist-packages (from qiskit[visualization]==0.43.3) (3.10.0)\n",
            "Requirement already satisfied: ipywidgets>=7.3.0 in /usr/local/lib/python3.11/dist-packages (from qiskit[visualization]==0.43.3) (7.7.1)\n",
            "Requirement already satisfied: pydot in /usr/local/lib/python3.11/dist-packages (from qiskit[visualization]==0.43.3) (3.0.4)\n",
            "Requirement already satisfied: pillow>=4.2.1 in /usr/local/lib/python3.11/dist-packages (from qiskit[visualization]==0.43.3) (11.2.1)\n",
            "Requirement already satisfied: pylatexenc>=1.4 in /usr/local/lib/python3.11/dist-packages (from qiskit[visualization]==0.43.3) (2.10)\n",
            "Requirement already satisfied: seaborn>=0.9.0 in /usr/local/lib/python3.11/dist-packages (from qiskit[visualization]==0.43.3) (0.13.2)\n",
            "Requirement already satisfied: pygments>=2.4 in /usr/local/lib/python3.11/dist-packages (from qiskit[visualization]==0.43.3) (2.19.1)\n",
            "Requirement already satisfied: numpy>=1.16.3 in /usr/local/lib/python3.11/dist-packages (from qiskit-aer==0.12.2->qiskit==0.43.3->qiskit[visualization]==0.43.3) (1.23.5)\n",
            "Requirement already satisfied: scipy>=1.0 in /usr/local/lib/python3.11/dist-packages (from qiskit-aer==0.12.2->qiskit==0.43.3->qiskit[visualization]==0.43.3) (1.15.3)\n",
            "Requirement already satisfied: requests>=2.19 in /usr/local/lib/python3.11/dist-packages (from qiskit-ibmq-provider==0.20.2->qiskit==0.43.3->qiskit[visualization]==0.43.3) (2.32.3)\n",
            "Requirement already satisfied: requests-ntlm<=1.1.0 in /usr/local/lib/python3.11/dist-packages (from qiskit-ibmq-provider==0.20.2->qiskit==0.43.3->qiskit[visualization]==0.43.3) (1.1.0)\n",
            "Requirement already satisfied: urllib3>=1.21.1 in /usr/local/lib/python3.11/dist-packages (from qiskit-ibmq-provider==0.20.2->qiskit==0.43.3->qiskit[visualization]==0.43.3) (2.4.0)\n",
            "Requirement already satisfied: python-dateutil>=2.8.0 in /usr/local/lib/python3.11/dist-packages (from qiskit-ibmq-provider==0.20.2->qiskit==0.43.3->qiskit[visualization]==0.43.3) (2.9.0.post0)\n",
            "Requirement already satisfied: websocket-client>=1.5.1 in /usr/local/lib/python3.11/dist-packages (from qiskit-ibmq-provider==0.20.2->qiskit==0.43.3->qiskit[visualization]==0.43.3) (1.8.0)\n",
            "Requirement already satisfied: websockets>=10.0 in /usr/local/lib/python3.11/dist-packages (from qiskit-ibmq-provider==0.20.2->qiskit==0.43.3->qiskit[visualization]==0.43.3) (15.0.1)\n",
            "Requirement already satisfied: rustworkx>=0.12.0 in /usr/local/lib/python3.11/dist-packages (from qiskit-terra==0.24.2->qiskit==0.43.3->qiskit[visualization]==0.43.3) (0.16.0)\n",
            "Requirement already satisfied: ply>=3.10 in /usr/local/lib/python3.11/dist-packages (from qiskit-terra==0.24.2->qiskit==0.43.3->qiskit[visualization]==0.43.3) (3.11)\n",
            "Requirement already satisfied: psutil>=5 in /usr/local/lib/python3.11/dist-packages (from qiskit-terra==0.24.2->qiskit==0.43.3->qiskit[visualization]==0.43.3) (5.9.5)\n",
            "Requirement already satisfied: sympy>=1.3 in /usr/local/lib/python3.11/dist-packages (from qiskit-terra==0.24.2->qiskit==0.43.3->qiskit[visualization]==0.43.3) (1.13.1)\n",
            "Requirement already satisfied: dill>=0.3 in /usr/local/lib/python3.11/dist-packages (from qiskit-terra==0.24.2->qiskit==0.43.3->qiskit[visualization]==0.43.3) (0.3.7)\n",
            "Requirement already satisfied: stevedore>=3.0.0 in /usr/local/lib/python3.11/dist-packages (from qiskit-terra==0.24.2->qiskit==0.43.3->qiskit[visualization]==0.43.3) (5.4.1)\n",
            "Requirement already satisfied: symengine<0.10,>=0.9 in /usr/local/lib/python3.11/dist-packages (from qiskit-terra==0.24.2->qiskit==0.43.3->qiskit[visualization]==0.43.3) (0.9.2)\n",
            "Requirement already satisfied: ipykernel>=4.5.1 in /usr/local/lib/python3.11/dist-packages (from ipywidgets>=7.3.0->qiskit[visualization]==0.43.3) (6.17.1)\n",
            "Requirement already satisfied: ipython-genutils~=0.2.0 in /usr/local/lib/python3.11/dist-packages (from ipywidgets>=7.3.0->qiskit[visualization]==0.43.3) (0.2.0)\n",
            "Requirement already satisfied: traitlets>=4.3.1 in /usr/local/lib/python3.11/dist-packages (from ipywidgets>=7.3.0->qiskit[visualization]==0.43.3) (5.7.1)\n",
            "Requirement already satisfied: widgetsnbextension~=3.6.0 in /usr/local/lib/python3.11/dist-packages (from ipywidgets>=7.3.0->qiskit[visualization]==0.43.3) (3.6.10)\n",
            "Requirement already satisfied: ipython>=4.0.0 in /usr/local/lib/python3.11/dist-packages (from ipywidgets>=7.3.0->qiskit[visualization]==0.43.3) (7.34.0)\n",
            "Requirement already satisfied: jupyterlab-widgets>=1.0.0 in /usr/local/lib/python3.11/dist-packages (from ipywidgets>=7.3.0->qiskit[visualization]==0.43.3) (3.0.15)\n",
            "Requirement already satisfied: contourpy>=1.0.1 in /usr/local/lib/python3.11/dist-packages (from matplotlib>=2.1->qiskit[visualization]==0.43.3) (1.3.2)\n",
            "Requirement already satisfied: cycler>=0.10 in /usr/local/lib/python3.11/dist-packages (from matplotlib>=2.1->qiskit[visualization]==0.43.3) (0.12.1)\n",
            "Requirement already satisfied: fonttools>=4.22.0 in /usr/local/lib/python3.11/dist-packages (from matplotlib>=2.1->qiskit[visualization]==0.43.3) (4.58.2)\n",
            "Requirement already satisfied: kiwisolver>=1.3.1 in /usr/local/lib/python3.11/dist-packages (from matplotlib>=2.1->qiskit[visualization]==0.43.3) (1.4.8)\n",
            "Requirement already satisfied: packaging>=20.0 in /usr/local/lib/python3.11/dist-packages (from matplotlib>=2.1->qiskit[visualization]==0.43.3) (24.2)\n",
            "Requirement already satisfied: pyparsing>=2.3.1 in /usr/local/lib/python3.11/dist-packages (from matplotlib>=2.1->qiskit[visualization]==0.43.3) (3.2.3)\n",
            "Requirement already satisfied: pandas>=1.2 in /usr/local/lib/python3.11/dist-packages (from seaborn>=0.9.0->qiskit[visualization]==0.43.3) (2.2.2)\n",
            "Requirement already satisfied: debugpy>=1.0 in /usr/local/lib/python3.11/dist-packages (from ipykernel>=4.5.1->ipywidgets>=7.3.0->qiskit[visualization]==0.43.3) (1.8.0)\n",
            "Requirement already satisfied: jupyter-client>=6.1.12 in /usr/local/lib/python3.11/dist-packages (from ipykernel>=4.5.1->ipywidgets>=7.3.0->qiskit[visualization]==0.43.3) (6.1.12)\n",
            "Requirement already satisfied: matplotlib-inline>=0.1 in /usr/local/lib/python3.11/dist-packages (from ipykernel>=4.5.1->ipywidgets>=7.3.0->qiskit[visualization]==0.43.3) (0.1.7)\n",
            "Requirement already satisfied: nest-asyncio in /usr/local/lib/python3.11/dist-packages (from ipykernel>=4.5.1->ipywidgets>=7.3.0->qiskit[visualization]==0.43.3) (1.6.0)\n",
            "Requirement already satisfied: pyzmq>=17 in /usr/local/lib/python3.11/dist-packages (from ipykernel>=4.5.1->ipywidgets>=7.3.0->qiskit[visualization]==0.43.3) (24.0.1)\n",
            "Requirement already satisfied: tornado>=6.1 in /usr/local/lib/python3.11/dist-packages (from ipykernel>=4.5.1->ipywidgets>=7.3.0->qiskit[visualization]==0.43.3) (6.4.2)\n",
            "Requirement already satisfied: setuptools>=18.5 in /usr/local/lib/python3.11/dist-packages (from ipython>=4.0.0->ipywidgets>=7.3.0->qiskit[visualization]==0.43.3) (75.2.0)\n",
            "Requirement already satisfied: jedi>=0.16 in /usr/local/lib/python3.11/dist-packages (from ipython>=4.0.0->ipywidgets>=7.3.0->qiskit[visualization]==0.43.3) (0.19.2)\n",
            "Requirement already satisfied: decorator in /usr/local/lib/python3.11/dist-packages (from ipython>=4.0.0->ipywidgets>=7.3.0->qiskit[visualization]==0.43.3) (4.4.2)\n",
            "Requirement already satisfied: pickleshare in /usr/local/lib/python3.11/dist-packages (from ipython>=4.0.0->ipywidgets>=7.3.0->qiskit[visualization]==0.43.3) (0.7.5)\n",
            "Requirement already satisfied: prompt-toolkit!=3.0.0,!=3.0.1,<3.1.0,>=2.0.0 in /usr/local/lib/python3.11/dist-packages (from ipython>=4.0.0->ipywidgets>=7.3.0->qiskit[visualization]==0.43.3) (3.0.51)\n",
            "Requirement already satisfied: backcall in /usr/local/lib/python3.11/dist-packages (from ipython>=4.0.0->ipywidgets>=7.3.0->qiskit[visualization]==0.43.3) (0.2.0)\n",
            "Requirement already satisfied: pexpect>4.3 in /usr/local/lib/python3.11/dist-packages (from ipython>=4.0.0->ipywidgets>=7.3.0->qiskit[visualization]==0.43.3) (4.9.0)\n",
            "Requirement already satisfied: pytz>=2020.1 in /usr/local/lib/python3.11/dist-packages (from pandas>=1.2->seaborn>=0.9.0->qiskit[visualization]==0.43.3) (2025.2)\n",
            "Requirement already satisfied: tzdata>=2022.7 in /usr/local/lib/python3.11/dist-packages (from pandas>=1.2->seaborn>=0.9.0->qiskit[visualization]==0.43.3) (2025.2)\n",
            "Requirement already satisfied: six>=1.5 in /usr/local/lib/python3.11/dist-packages (from python-dateutil>=2.8.0->qiskit-ibmq-provider==0.20.2->qiskit==0.43.3->qiskit[visualization]==0.43.3) (1.17.0)\n",
            "Requirement already satisfied: charset-normalizer<4,>=2 in /usr/local/lib/python3.11/dist-packages (from requests>=2.19->qiskit-ibmq-provider==0.20.2->qiskit==0.43.3->qiskit[visualization]==0.43.3) (3.4.2)\n",
            "Requirement already satisfied: idna<4,>=2.5 in /usr/local/lib/python3.11/dist-packages (from requests>=2.19->qiskit-ibmq-provider==0.20.2->qiskit==0.43.3->qiskit[visualization]==0.43.3) (3.10)\n",
            "Requirement already satisfied: certifi>=2017.4.17 in /usr/local/lib/python3.11/dist-packages (from requests>=2.19->qiskit-ibmq-provider==0.20.2->qiskit==0.43.3->qiskit[visualization]==0.43.3) (2025.4.26)\n",
            "Requirement already satisfied: ntlm-auth>=1.0.2 in /usr/local/lib/python3.11/dist-packages (from requests-ntlm<=1.1.0->qiskit-ibmq-provider==0.20.2->qiskit==0.43.3->qiskit[visualization]==0.43.3) (1.5.0)\n",
            "Requirement already satisfied: cryptography>=1.3 in /usr/local/lib/python3.11/dist-packages (from requests-ntlm<=1.1.0->qiskit-ibmq-provider==0.20.2->qiskit==0.43.3->qiskit[visualization]==0.43.3) (43.0.3)\n",
            "Requirement already satisfied: pbr>=2.0.0 in /usr/local/lib/python3.11/dist-packages (from stevedore>=3.0.0->qiskit-terra==0.24.2->qiskit==0.43.3->qiskit[visualization]==0.43.3) (6.1.1)\n",
            "Requirement already satisfied: mpmath<1.4,>=1.1.0 in /usr/local/lib/python3.11/dist-packages (from sympy>=1.3->qiskit-terra==0.24.2->qiskit==0.43.3->qiskit[visualization]==0.43.3) (1.3.0)\n",
            "Requirement already satisfied: notebook>=4.4.1 in /usr/local/lib/python3.11/dist-packages (from widgetsnbextension~=3.6.0->ipywidgets>=7.3.0->qiskit[visualization]==0.43.3) (6.5.7)\n",
            "Requirement already satisfied: cffi>=1.12 in /usr/local/lib/python3.11/dist-packages (from cryptography>=1.3->requests-ntlm<=1.1.0->qiskit-ibmq-provider==0.20.2->qiskit==0.43.3->qiskit[visualization]==0.43.3) (1.17.1)\n",
            "Requirement already satisfied: parso<0.9.0,>=0.8.4 in /usr/local/lib/python3.11/dist-packages (from jedi>=0.16->ipython>=4.0.0->ipywidgets>=7.3.0->qiskit[visualization]==0.43.3) (0.8.4)\n",
            "Requirement already satisfied: jupyter-core>=4.6.0 in /usr/local/lib/python3.11/dist-packages (from jupyter-client>=6.1.12->ipykernel>=4.5.1->ipywidgets>=7.3.0->qiskit[visualization]==0.43.3) (5.8.1)\n",
            "Requirement already satisfied: jinja2 in /usr/local/lib/python3.11/dist-packages (from notebook>=4.4.1->widgetsnbextension~=3.6.0->ipywidgets>=7.3.0->qiskit[visualization]==0.43.3) (3.1.6)\n",
            "Requirement already satisfied: argon2-cffi in /usr/local/lib/python3.11/dist-packages (from notebook>=4.4.1->widgetsnbextension~=3.6.0->ipywidgets>=7.3.0->qiskit[visualization]==0.43.3) (25.1.0)\n",
            "Requirement already satisfied: nbformat in /usr/local/lib/python3.11/dist-packages (from notebook>=4.4.1->widgetsnbextension~=3.6.0->ipywidgets>=7.3.0->qiskit[visualization]==0.43.3) (5.10.4)\n",
            "Requirement already satisfied: nbconvert>=5 in /usr/local/lib/python3.11/dist-packages (from notebook>=4.4.1->widgetsnbextension~=3.6.0->ipywidgets>=7.3.0->qiskit[visualization]==0.43.3) (7.16.6)\n",
            "Requirement already satisfied: Send2Trash>=1.8.0 in /usr/local/lib/python3.11/dist-packages (from notebook>=4.4.1->widgetsnbextension~=3.6.0->ipywidgets>=7.3.0->qiskit[visualization]==0.43.3) (1.8.3)\n",
            "Requirement already satisfied: terminado>=0.8.3 in /usr/local/lib/python3.11/dist-packages (from notebook>=4.4.1->widgetsnbextension~=3.6.0->ipywidgets>=7.3.0->qiskit[visualization]==0.43.3) (0.18.1)\n",
            "Requirement already satisfied: prometheus-client in /usr/local/lib/python3.11/dist-packages (from notebook>=4.4.1->widgetsnbextension~=3.6.0->ipywidgets>=7.3.0->qiskit[visualization]==0.43.3) (0.22.1)\n",
            "Requirement already satisfied: nbclassic>=0.4.7 in /usr/local/lib/python3.11/dist-packages (from notebook>=4.4.1->widgetsnbextension~=3.6.0->ipywidgets>=7.3.0->qiskit[visualization]==0.43.3) (1.3.1)\n",
            "Requirement already satisfied: ptyprocess>=0.5 in /usr/local/lib/python3.11/dist-packages (from pexpect>4.3->ipython>=4.0.0->ipywidgets>=7.3.0->qiskit[visualization]==0.43.3) (0.7.0)\n",
            "Requirement already satisfied: wcwidth in /usr/local/lib/python3.11/dist-packages (from prompt-toolkit!=3.0.0,!=3.0.1,<3.1.0,>=2.0.0->ipython>=4.0.0->ipywidgets>=7.3.0->qiskit[visualization]==0.43.3) (0.2.13)\n",
            "Requirement already satisfied: pycparser in /usr/local/lib/python3.11/dist-packages (from cffi>=1.12->cryptography>=1.3->requests-ntlm<=1.1.0->qiskit-ibmq-provider==0.20.2->qiskit==0.43.3->qiskit[visualization]==0.43.3) (2.22)\n",
            "Requirement already satisfied: platformdirs>=2.5 in /usr/local/lib/python3.11/dist-packages (from jupyter-core>=4.6.0->jupyter-client>=6.1.12->ipykernel>=4.5.1->ipywidgets>=7.3.0->qiskit[visualization]==0.43.3) (4.3.8)\n",
            "Requirement already satisfied: notebook-shim>=0.2.3 in /usr/local/lib/python3.11/dist-packages (from nbclassic>=0.4.7->notebook>=4.4.1->widgetsnbextension~=3.6.0->ipywidgets>=7.3.0->qiskit[visualization]==0.43.3) (0.2.4)\n",
            "Requirement already satisfied: beautifulsoup4 in /usr/local/lib/python3.11/dist-packages (from nbconvert>=5->notebook>=4.4.1->widgetsnbextension~=3.6.0->ipywidgets>=7.3.0->qiskit[visualization]==0.43.3) (4.13.4)\n",
            "Requirement already satisfied: bleach!=5.0.0 in /usr/local/lib/python3.11/dist-packages (from bleach[css]!=5.0.0->nbconvert>=5->notebook>=4.4.1->widgetsnbextension~=3.6.0->ipywidgets>=7.3.0->qiskit[visualization]==0.43.3) (6.2.0)\n",
            "Requirement already satisfied: defusedxml in /usr/local/lib/python3.11/dist-packages (from nbconvert>=5->notebook>=4.4.1->widgetsnbextension~=3.6.0->ipywidgets>=7.3.0->qiskit[visualization]==0.43.3) (0.7.1)\n",
            "Requirement already satisfied: jupyterlab-pygments in /usr/local/lib/python3.11/dist-packages (from nbconvert>=5->notebook>=4.4.1->widgetsnbextension~=3.6.0->ipywidgets>=7.3.0->qiskit[visualization]==0.43.3) (0.3.0)\n",
            "Requirement already satisfied: markupsafe>=2.0 in /usr/local/lib/python3.11/dist-packages (from nbconvert>=5->notebook>=4.4.1->widgetsnbextension~=3.6.0->ipywidgets>=7.3.0->qiskit[visualization]==0.43.3) (3.0.2)\n",
            "Requirement already satisfied: mistune<4,>=2.0.3 in /usr/local/lib/python3.11/dist-packages (from nbconvert>=5->notebook>=4.4.1->widgetsnbextension~=3.6.0->ipywidgets>=7.3.0->qiskit[visualization]==0.43.3) (3.1.3)\n",
            "Requirement already satisfied: nbclient>=0.5.0 in /usr/local/lib/python3.11/dist-packages (from nbconvert>=5->notebook>=4.4.1->widgetsnbextension~=3.6.0->ipywidgets>=7.3.0->qiskit[visualization]==0.43.3) (0.10.2)\n",
            "Requirement already satisfied: pandocfilters>=1.4.1 in /usr/local/lib/python3.11/dist-packages (from nbconvert>=5->notebook>=4.4.1->widgetsnbextension~=3.6.0->ipywidgets>=7.3.0->qiskit[visualization]==0.43.3) (1.5.1)\n",
            "Requirement already satisfied: fastjsonschema>=2.15 in /usr/local/lib/python3.11/dist-packages (from nbformat->notebook>=4.4.1->widgetsnbextension~=3.6.0->ipywidgets>=7.3.0->qiskit[visualization]==0.43.3) (2.21.1)\n",
            "Requirement already satisfied: jsonschema>=2.6 in /usr/local/lib/python3.11/dist-packages (from nbformat->notebook>=4.4.1->widgetsnbextension~=3.6.0->ipywidgets>=7.3.0->qiskit[visualization]==0.43.3) (4.24.0)\n",
            "Requirement already satisfied: argon2-cffi-bindings in /usr/local/lib/python3.11/dist-packages (from argon2-cffi->notebook>=4.4.1->widgetsnbextension~=3.6.0->ipywidgets>=7.3.0->qiskit[visualization]==0.43.3) (21.2.0)\n",
            "Requirement already satisfied: webencodings in /usr/local/lib/python3.11/dist-packages (from bleach!=5.0.0->bleach[css]!=5.0.0->nbconvert>=5->notebook>=4.4.1->widgetsnbextension~=3.6.0->ipywidgets>=7.3.0->qiskit[visualization]==0.43.3) (0.5.1)\n",
            "Requirement already satisfied: tinycss2<1.5,>=1.1.0 in /usr/local/lib/python3.11/dist-packages (from bleach[css]!=5.0.0->nbconvert>=5->notebook>=4.4.1->widgetsnbextension~=3.6.0->ipywidgets>=7.3.0->qiskit[visualization]==0.43.3) (1.4.0)\n",
            "Requirement already satisfied: attrs>=22.2.0 in /usr/local/lib/python3.11/dist-packages (from jsonschema>=2.6->nbformat->notebook>=4.4.1->widgetsnbextension~=3.6.0->ipywidgets>=7.3.0->qiskit[visualization]==0.43.3) (25.3.0)\n",
            "Requirement already satisfied: jsonschema-specifications>=2023.03.6 in /usr/local/lib/python3.11/dist-packages (from jsonschema>=2.6->nbformat->notebook>=4.4.1->widgetsnbextension~=3.6.0->ipywidgets>=7.3.0->qiskit[visualization]==0.43.3) (2025.4.1)\n",
            "Requirement already satisfied: referencing>=0.28.4 in /usr/local/lib/python3.11/dist-packages (from jsonschema>=2.6->nbformat->notebook>=4.4.1->widgetsnbextension~=3.6.0->ipywidgets>=7.3.0->qiskit[visualization]==0.43.3) (0.36.2)\n",
            "Requirement already satisfied: rpds-py>=0.7.1 in /usr/local/lib/python3.11/dist-packages (from jsonschema>=2.6->nbformat->notebook>=4.4.1->widgetsnbextension~=3.6.0->ipywidgets>=7.3.0->qiskit[visualization]==0.43.3) (0.25.1)\n",
            "Requirement already satisfied: jupyter-server<3,>=1.8 in /usr/local/lib/python3.11/dist-packages (from notebook-shim>=0.2.3->nbclassic>=0.4.7->notebook>=4.4.1->widgetsnbextension~=3.6.0->ipywidgets>=7.3.0->qiskit[visualization]==0.43.3) (1.16.0)\n",
            "Requirement already satisfied: soupsieve>1.2 in /usr/local/lib/python3.11/dist-packages (from beautifulsoup4->nbconvert>=5->notebook>=4.4.1->widgetsnbextension~=3.6.0->ipywidgets>=7.3.0->qiskit[visualization]==0.43.3) (2.7)\n",
            "Requirement already satisfied: typing-extensions>=4.0.0 in /usr/local/lib/python3.11/dist-packages (from beautifulsoup4->nbconvert>=5->notebook>=4.4.1->widgetsnbextension~=3.6.0->ipywidgets>=7.3.0->qiskit[visualization]==0.43.3) (4.14.0)\n",
            "Requirement already satisfied: anyio>=3.1.0 in /usr/local/lib/python3.11/dist-packages (from jupyter-server<3,>=1.8->notebook-shim>=0.2.3->nbclassic>=0.4.7->notebook>=4.4.1->widgetsnbextension~=3.6.0->ipywidgets>=7.3.0->qiskit[visualization]==0.43.3) (4.9.0)\n",
            "Requirement already satisfied: sniffio>=1.1 in /usr/local/lib/python3.11/dist-packages (from anyio>=3.1.0->jupyter-server<3,>=1.8->notebook-shim>=0.2.3->nbclassic>=0.4.7->notebook>=4.4.1->widgetsnbextension~=3.6.0->ipywidgets>=7.3.0->qiskit[visualization]==0.43.3) (1.3.1)\n",
            "Requirement already satisfied: qiskit-aer in /usr/local/lib/python3.11/dist-packages (0.12.2)\n",
            "Requirement already satisfied: qiskit-terra>=0.21.0 in /usr/local/lib/python3.11/dist-packages (from qiskit-aer) (0.24.2)\n",
            "Requirement already satisfied: numpy>=1.16.3 in /usr/local/lib/python3.11/dist-packages (from qiskit-aer) (1.23.5)\n",
            "Requirement already satisfied: scipy>=1.0 in /usr/local/lib/python3.11/dist-packages (from qiskit-aer) (1.15.3)\n",
            "Requirement already satisfied: rustworkx>=0.12.0 in /usr/local/lib/python3.11/dist-packages (from qiskit-terra>=0.21.0->qiskit-aer) (0.16.0)\n",
            "Requirement already satisfied: ply>=3.10 in /usr/local/lib/python3.11/dist-packages (from qiskit-terra>=0.21.0->qiskit-aer) (3.11)\n",
            "Requirement already satisfied: psutil>=5 in /usr/local/lib/python3.11/dist-packages (from qiskit-terra>=0.21.0->qiskit-aer) (5.9.5)\n",
            "Requirement already satisfied: sympy>=1.3 in /usr/local/lib/python3.11/dist-packages (from qiskit-terra>=0.21.0->qiskit-aer) (1.13.1)\n",
            "Requirement already satisfied: dill>=0.3 in /usr/local/lib/python3.11/dist-packages (from qiskit-terra>=0.21.0->qiskit-aer) (0.3.7)\n",
            "Requirement already satisfied: python-dateutil>=2.8.0 in /usr/local/lib/python3.11/dist-packages (from qiskit-terra>=0.21.0->qiskit-aer) (2.9.0.post0)\n",
            "Requirement already satisfied: stevedore>=3.0.0 in /usr/local/lib/python3.11/dist-packages (from qiskit-terra>=0.21.0->qiskit-aer) (5.4.1)\n",
            "Requirement already satisfied: symengine<0.10,>=0.9 in /usr/local/lib/python3.11/dist-packages (from qiskit-terra>=0.21.0->qiskit-aer) (0.9.2)\n",
            "Requirement already satisfied: six>=1.5 in /usr/local/lib/python3.11/dist-packages (from python-dateutil>=2.8.0->qiskit-terra>=0.21.0->qiskit-aer) (1.17.0)\n",
            "Requirement already satisfied: pbr>=2.0.0 in /usr/local/lib/python3.11/dist-packages (from stevedore>=3.0.0->qiskit-terra>=0.21.0->qiskit-aer) (6.1.1)\n",
            "Requirement already satisfied: mpmath<1.4,>=1.1.0 in /usr/local/lib/python3.11/dist-packages (from sympy>=1.3->qiskit-terra>=0.21.0->qiskit-aer) (1.3.0)\n",
            "Requirement already satisfied: setuptools in /usr/local/lib/python3.11/dist-packages (from pbr>=2.0.0->stevedore>=3.0.0->qiskit-terra>=0.21.0->qiskit-aer) (75.2.0)\n"
          ]
        }
      ],
      "source": [
        "import IPython\n",
        "\n",
        "def in_colab():\n",
        "    try:\n",
        "        import google.colab\n",
        "        return True\n",
        "    except:\n",
        "        return False\n",
        "\n",
        "SolutionToTask3 = lambda: IPython.display.display(IPython.display.Javascript('window.open(\"{url}\");'.format(url='https://colab.research.google.com/drive/1r9baG8GzInmlSkNWAqq7xbrjt300g-nJ?usp=sharing#scrollTo=LBptY1Lx_m1M' if in_colab() else 'QB23_Q36_Superposition_and_Measurement_Solutions.ipynb#task3')))\n",
        "SolutionToTask4 = lambda: IPython.display.display(IPython.display.Javascript('window.open(\"{url}\");'.format(url='https://colab.research.google.com/drive/1r9baG8GzInmlSkNWAqq7xbrjt300g-nJ?usp=sharing#scrollTo=DnAV7iGg_m1O' if in_colab() else 'QB23_Q36_Superposition_and_Measurement_Solutions.ipynb#task4')))\n",
        "SolutionToTask5 = lambda: IPython.display.display(IPython.display.Javascript('window.open(\"{url}\");'.format(url='https://colab.research.google.com/drive/1r9baG8GzInmlSkNWAqq7xbrjt300g-nJ?usp=sharing#scrollTo=cYxjsfg-_m1P' if in_colab() else 'QB23_Q36_Superposition_and_Measurement_Solutions.ipynb#task5')))\n",
        "\n",
        "if in_colab():\n",
        "    !pip install qiskit[visualization]==0.43.3\n",
        "    !pip install qiskit-aer"
      ]
    },
    {
      "cell_type": "markdown",
      "metadata": {
        "id": "fSFTwfyJAeGc"
      },
      "source": [
        "##### There is no classical counterpart of the concept \"superposition\".\n",
        "\n",
        "But, we can still use a classical analogy that might help us to give some intuitions.\n",
        "\n",
        "<h3> Probability distribution </h3>\n",
        "\n",
        "Suppose that Asja starts in $ \\myvector{1\\\\0} $ and secretly applies the probabilistic operator $ \\mymatrix{cc}{ 0.3 & 0.6 \\\\ 0.7 & 0.4 } $.\n",
        "\n",
        "Because she applies her operator secretly, our information about her state is probabilistic, which is calculated as\n",
        "\n",
        "$$\n",
        "    \\myvector{0.3 \\\\ 0.7} = \\mymatrix{cc}{ 0.3 & 0.6 \\\\ 0.7 & 0.4 } \\myvector{1\\\\0}.\n",
        "$$\n",
        "\n",
        "Asja is either in state 0 or in state 1.\n",
        "\n",
        "However, from our point of view, Asja is in state 0 with probability $ 0.3 $ and in state 1 with probability $ 0.7 $.\n",
        "\n",
        "We can say that Asja is in a probability distribution of states 0 and 1, being in both states at the same time but with different weights.\n",
        "\n",
        "On the other hand, if we observe Asja's state, then our information about Asja becomes deterministic: either $ \\myvector{1 \\\\ 0} $ or $ \\myvector{0 \\\\ 1} $.\n",
        "\n",
        "We can say that, after observing Asja's state, the probabilistic state $ \\myvector{0.3 \\\\ 0.7}  $ collapses to either $ \\myvector{1 \\\\ 0} $ or $ \\myvector{0 \\\\ 1} $."
      ]
    },
    {
      "cell_type": "markdown",
      "metadata": {
        "id": "ObTgpcNSAeGc"
      },
      "source": [
        "<h3> The third experiment </h3>\n",
        "\n",
        "Remember the following experiment. We trace it step by step by matrix-vector multiplication.\n",
        "\n",
        "<img src=\"https://gitlab.com/qworld/qeducation/qbook101/raw/main/qbook101/images/ch2/photon/photon7.jpg\" width=\"65%\">"
      ]
    },
    {
      "cell_type": "markdown",
      "metadata": {
        "id": "ghjraCxIAeGc"
      },
      "source": [
        "<b> The initial Step </b>\n",
        "\n",
        "The photon is in state $ \\ket{v_0} = \\vzero $."
      ]
    },
    {
      "cell_type": "markdown",
      "metadata": {
        "id": "QzhdOTuNAeGd"
      },
      "source": [
        "<b> The first step </b>\n",
        "\n",
        "Hadamard is applied:\n",
        "\n",
        "$ \\ket{v_1} = \\hadamard \\vzero = \\stateplus $.\n",
        "\n",
        "At this point, the photon is in a <b>superposition</b> of state $ \\ket{0} $ and state $ \\ket{1} $, <u>being in both states with the amplitudes</u> $ \\frac{1}{\\sqrt{2}} $ and $ \\frac{1}{\\sqrt{2}} $, respectively.\n",
        "\n",
        "The state of photon is $ \\ket{v_1} = \\stateplus $, and we can also represent it as follows:\n",
        "$ \\ket{v_1} =  \\frac{1}{\\sqrt{2}} \\ket{0} + \\frac{1}{\\sqrt{2}} \\ket{1} $."
      ]
    },
    {
      "cell_type": "markdown",
      "metadata": {
        "id": "exja7BS3AeGd"
      },
      "source": [
        "<b> The second step </b>\n",
        "\n",
        "Hadamard is applied again:\n",
        "\n",
        "We write the effect of Hadamard on states $ \\ket{0} $ and $ \\ket{1} $ as follows:\n",
        "\n",
        "$ H \\ket{0} = \\frac{1}{\\sqrt{2}} \\ket{0} + \\frac{1}{\\sqrt{2}} \\ket{1} $ &nbsp;&nbsp;&nbsp;&nbsp;&nbsp; <i>(These are the transition amplitudes of the first column.)</i>\n",
        "\n",
        "$ H \\ket{1} = \\frac{1}{\\sqrt{2}} \\ket{0} - \\frac{1}{\\sqrt{2}} \\ket{1} $ &nbsp;&nbsp;&nbsp;&nbsp;&nbsp; <i>(These are the transition amplitudes of the second column.)</i>\n",
        "\n",
        "This representation helps us to see clearly why the state $ \\ket{1} $ disappears.\n",
        "\n",
        "Now, let's see the effect of Hadamard on the quantum state $ \\ket{v_1} =  \\frac{1}{\\sqrt{2}} \\ket{0} + \\frac{1}{\\sqrt{2}} \\ket{1} $:\n",
        "\n",
        "$ \\ket{v_2} = H \\ket{v_1} = H \\mybigpar{ \\frac{1}{\\sqrt{2}} \\ket{0} + \\frac{1}{\\sqrt{2}} \\ket{1} } = \\frac{1}{\\sqrt{2}} H \\ket{0} + \\frac{1}{\\sqrt{2}} H \\ket{1} $\n",
        "\n",
        "We can replace $ H\\ket{0} $ and $ H\\ket{1} $ as described above. $ \\ket{v_2} $ is formed by the summation of the following terms:"
      ]
    },
    {
      "cell_type": "markdown",
      "metadata": {
        "id": "J_oay5aiAeGd"
      },
      "source": [
        "$~~~~~~~~ \\dsqrttwo H \\ket{0} = $ <font color=\"green\">$\\donehalf \\ket{0} $</font> <font color=\"red\">$ + \\donehalf \\ket{1}  $</font>\n",
        "\n",
        "$~~~~~~~~ \\dsqrttwo H \\ket{1} = $ <font color=\"green\">$\\donehalf \\ket{0} $</font> <font color=\"red\">$ - \\donehalf \\ket{1}  $</font>\n",
        "<br>\n",
        "<font size=\"+1\">$ \\mathbf{+}\\_\\_\\_\\_\\_\\_\\_\\_\\_\\_\\_\\_\\_\\_\\_\\_\\_\\_\\_ $</font>\n",
        "\n",
        "$ ~~ $ <font color=\"green\"> $\\mypar{ \\donehalf+\\donehalf } \\ket{0} $</font> +\n",
        "<font color=\"red\"> $\\mypar{ \\donehalf-\\donehalf }  \\ket{1} $ </font> $ = \\mathbf{\\ket{0}} $.\n",
        "\n",
        "<font color=\"green\">The amplitude of $ \\ket{0} $ becomes 1,</font> <font color=\"red\"> but the amplitude of $ \\ket{1} $ becomes 0 because of cancellation.</font>"
      ]
    },
    {
      "cell_type": "markdown",
      "metadata": {
        "id": "vUv2gocsAeGd"
      },
      "source": [
        "The photon was in both states at the same time with <u>certain amplitudes</u>.\n",
        "\n",
        "After the second Hadamard, the \"outcomes\" are <u>interfered with each other</u>.\n",
        "\n",
        "The interference can be constructive or destructive.\n",
        "\n",
        "In our examples, <font color=\"green\"><b>the outcome $ \\ket{0} $s are interfered constructively</b></font>, but <font color=\"red\"><b>the outcome $ \\ket{1} $s are interfered destructively</b></font>."
      ]
    },
    {
      "cell_type": "markdown",
      "metadata": {
        "id": "X_71wXWMAeGd"
      },
      "source": [
        "<h3> Observations </h3>\n",
        "\n",
        "<u>Probabilistic systems</u>: If there is a nonzero transition to a state, then it contributes to the probability of this state positively.\n",
        "\n",
        "<u>Quantum systems</u>: If there is a nonzero transition to a state, then we cannot know its contribution without knowing the other transitions to this state.\n",
        "\n",
        "If it is the only transition, then it contributes to the amplitude (and probability) of the state, and it does not matter whether the sign of the transition is positive or negative.\n",
        "\n",
        "If there is more than one transition, then depending on the summation of all transitions, we can determine whether a specific transition contributes or not.\n",
        "\n",
        "As a simple rule, if the final amplitude of the state and nonzero transition have the same sign, then it is a positive contribution; and, if they have the opposite signs, then it is a negative contribution."
      ]
    },
    {
      "cell_type": "markdown",
      "metadata": {
        "id": "w2c2Rj8nAeGd"
      },
      "source": [
        "<h3> Task 1 </h3>\n",
        "\n",
        "[on paper]\n",
        "\n",
        "Start in state $ \\ket{u_0} =  \\ket{1} $.\n",
        "\n",
        "Apply Hadamard operator to $ \\ket{u_0} $, i.e, find $ \\ket{u_1} = H \\ket{u_0} $.\n",
        "\n",
        "Apply Hadamard operator to $\\ket{u_1}$, i.e, find $ \\ket{u_2} = H \\ket{u_1} $.\n",
        "\n",
        "Observe the constructive and destructive interferences, when calculating $ \\ket{u_2} $."
      ]
    },
    {
      "cell_type": "markdown",
      "metadata": {
        "id": "tsLw3Tn8AeGd"
      },
      "source": [
        "<h3> Being in a superposition </h3>\n",
        "\n",
        "A quantum system can be in more than one state with nonzero amplitudes.\n",
        "\n",
        "Then, we say that our system is in a superposition of these states.\n",
        "\n",
        "When evolving from a superposition, the resulting transitions may affect each other constructively and destructively.\n",
        "\n",
        "This happens because of having opposite sign transition amplitudes.\n",
        "\n",
        "Otherwise, all nonzero transitions are added up to each other as in probabilistic systems."
      ]
    },
    {
      "cell_type": "markdown",
      "metadata": {
        "id": "om_C8S7jAeGd"
      },
      "source": [
        "<hr>\n",
        "<h2> Measurement </h2>\n",
        "\n",
        "We can measure a quantum system, and then the system is observed in one of its states. This is the most basic type of measurement in quantum computing. (There are more generic measurement operators, but we will not mention about them.)\n",
        "\n",
        "The probability of the system to be observed in a specified state is the square value of its amplitude.\n",
        "<ul>\n",
        "    <li> If the amplitude of a state is zero, then this state cannot be observed. </li>\n",
        "    <li> If the amplitude of a state is nonzero, then this state can be observed. </li>\n",
        "</ul>\n",
        "\n",
        "For example, if the system is in quantum state\n",
        "\n",
        "$$\n",
        "    \\myrvector{ -\\frac{\\sqrt{2}}{\\sqrt{3}} \\\\ \\frac{1}{\\sqrt{3}} },\n",
        "$$\n",
        "\n",
        "then, after a measurement, we can observe the system in state $\\ket{0} $ with probability $ \\frac{2}{3} $ and in state $\\ket{1}$ with probability $ \\frac{1}{3} $.\n",
        "\n"
      ]
    },
    {
      "cell_type": "markdown",
      "metadata": {
        "id": "p71bJaMcAeGd"
      },
      "source": [
        "<h4> Collapsing </h4>\n",
        "\n",
        "After the measurement, the system collapses to the observed state, and so the system is no longer in a superposition. Thus, the information kept in a superposition is lost.\n",
        "- In the above example, when the system is observed in state $\\ket{0}$, then the new state becomes $ \\myvector{1 \\\\ 0} $.\n",
        "- If it is observed in state $\\ket{1}$, then the new state becomes $ \\myvector{0 \\\\ 1} $."
      ]
    },
    {
      "cell_type": "markdown",
      "metadata": {
        "id": "Eu8Xbw2AAeGd"
      },
      "source": [
        "<h3> The second experiment of the quantum coin flipping </h3>"
      ]
    },
    {
      "cell_type": "markdown",
      "metadata": {
        "id": "oxYg90FjAeGe"
      },
      "source": [
        "Remember the experiment set-up."
      ]
    },
    {
      "cell_type": "markdown",
      "metadata": {
        "id": "aQiHD1uoAeGe"
      },
      "source": [
        "<img src=\"https://gitlab.com/qworld/qeducation/qbook101/raw/main/qbook101/images/ch2/photon/photon5.jpg\" width=\"65%\">"
      ]
    },
    {
      "cell_type": "markdown",
      "metadata": {
        "id": "liyb5kqiAeGe"
      },
      "source": [
        "In this experiment, after the first quantum coin-flipping, we make a measurement.\n",
        "\n",
        "If the measurement outcome is state $ \\ket{0} $, then we apply a second Hadamard.\n",
        "\n",
        "First, we trace the experiment analytically."
      ]
    },
    {
      "cell_type": "markdown",
      "metadata": {
        "id": "hmXwM_YCAeGe"
      },
      "source": [
        "<table width=\"100%\"><tr>\n",
        "<td width=\"400px\" style=\"background-color:white;text-align:center;vertical-align:middle;\" cellpadding=0>\n",
        "    <img src=\"https://gitlab.com/qworld/qeducation/qbook101/raw/main/qbook101/images/ch2/tracing-2nd-exp.png\">\n",
        "    <br><br>\n",
        "    <font size=\"-2\"><a href=\"https://gitlab.com/qworld/qeducation/qbook101/raw/main/qbook101/images/ch2/tracing-2nd-exp.txt\" target=\"_blank\">the tex code of the image</a></font>\n",
        "</td>\n",
        "<td width=\"*\" style=\"background-color:white;text-align:left;vertical-align:top;\">\n",
        "    <b> The first Hadamard </b>\n",
        "    <br><br>\n",
        "    We start in state $ \\ket{0} = \\vzero $. Then, we apply Hadamard operator:\n",
        "    <br><br>\n",
        "    $ \\stateplus = \\hadamard \\vzero $ <hr>\n",
        "    <!---------->\n",
        "    <b> The first measurement </b>\n",
        "    <br><br>\n",
        "    Due to the photon detector A, the photon cannot be in superposition, and so it forces the photon to be observed in state $\\ket{0}$ or state $ \\ket{1} $. This is a measurement.\n",
        "    <br><br>\n",
        "    Since the amplitudes are $ \\sqrttwo $, we observe each state with equal probability.\n",
        "    <br><br>\n",
        "    Thus, with probability $ \\frac{1}{2} $, the new quantum state is $ \\ket{0} = \\vzero $.\n",
        "    <br><br>\n",
        "    And, with probability $ \\frac{1}{2} $, the new quantum state is $ \\ket{1} = \\vone $. <hr>\n",
        "    <!---------->\n",
        "    <b> The second Hadamard </b>\n",
        "    <br><br>\n",
        "    If the photon is in state $ \\ket{0} $, then another Hadamard operator is applied.\n",
        "    <br><br>\n",
        "    In other words, with probability $ \\frac{1}{2} $, the computation continues and another Hadamard is applied:\n",
        "    <br><br>\n",
        "    $ \\stateplus = \\hadamard \\vzero $ <hr>\n",
        "    <b> The second measurement </b>\n",
        "    <br><br>\n",
        "    Due to photon detectors B1 and B2, we make another measurement.\n",
        "    <br><br>\n",
        "    Thus, we observe state $ \\ket{0} $ with probability $ \\frac{1}{4} $ and state $ \\ket{1} $ with probability $ \\frac{1}{4} $.\n",
        "    <br><br>\n",
        "    At the end, the state $ \\ket{0} $ can be observed with probability $ \\frac{1}{4} $, and the state $ \\ket{1} $ can be observed with probability $ \\frac{3}{4} $.\n",
        "</td>\n",
        "</tr></table>"
      ]
    },
    {
      "cell_type": "markdown",
      "metadata": {
        "id": "TTBFt_o-AeGe"
      },
      "source": [
        "<h3> Implementing the second experiment </h3>"
      ]
    },
    {
      "cell_type": "markdown",
      "metadata": {
        "id": "7NA5iQaGAeGe"
      },
      "source": [
        "By using the simulator, we can implement the second experiment.\n",
        "\n",
        "For this purpose, qiskit provides a conditional operator based on the value of a classical register.\n",
        "\n",
        "In the following example, the last operator (x-gate) on the quantum register will be executed if the value of the classical register is 1.\n",
        "\n",
        "    q = QuantumRegister(1)\n",
        "    c = ClassicalRegister(1)\n",
        "    qc = QuantumCircuit(q,c)\n",
        "    ...\n",
        "    qc.measure(q,c)\n",
        "    qc.x(q[0]).c_if(c,1)\n",
        "    \n",
        "In our experiment, we use such classical control after the first measurement."
      ]
    },
    {
      "cell_type": "code",
      "execution_count": 2,
      "metadata": {
        "scrolled": true,
        "id": "j8bLQf33AeGe",
        "outputId": "21f79eda-451f-4aad-b664-eda1f98cad79",
        "colab": {
          "base_uri": "https://localhost:8080/",
          "height": 211
        }
      },
      "outputs": [
        {
          "output_type": "display_data",
          "data": {
            "text/plain": [
              "<Figure size 436.286x200.667 with 1 Axes>"
            ],
            "image/png": "[encoded data removed]"
          },
          "metadata": {}
        }
      ],
      "source": [
        "# import all necessary objects and methods for quantum circuits\n",
        "from qiskit import QuantumRegister, ClassicalRegister, QuantumCircuit, execute, Aer\n",
        "\n",
        "# define a quantum register with a single qubit\n",
        "q = QuantumRegister(1,\"q\")\n",
        "# define a classical register with a single bit\n",
        "c = ClassicalRegister(1,\"c\")\n",
        "# define a quantum circuit\n",
        "qc = QuantumCircuit(q,c)\n",
        "\n",
        "# apply the first Hadamard\n",
        "qc.h(q[0])\n",
        "\n",
        "# the first measurement\n",
        "qc.measure(q,c)\n",
        "\n",
        "# apply the second Hadamard if the measurement outcome is 0\n",
        "qc.h(q[0]).c_if(c,0)\n",
        "\n",
        "# the second measurement\n",
        "qc.measure(q[0],c)\n",
        "\n",
        "# draw the circuit\n",
        "display(qc.draw(output=\"mpl\"))"
      ]
    },
    {
      "cell_type": "markdown",
      "metadata": {
        "id": "TwR1qbo-AeGe"
      },
      "source": [
        "<h3> Task 2 </h3>\n",
        "\n",
        "If we execute this circuit 1000 times, what are the expected numbers of observing the outcomes '0' and '1'?\n",
        "\n",
        "Test your result by executing the following code."
      ]
    },
    {
      "cell_type": "code",
      "execution_count": 3,
      "metadata": {
        "id": "LS4jPStkAeGe",
        "outputId": "887efa89-11ea-4a15-92a4-068f8146f8d0",
        "colab": {
          "base_uri": "https://localhost:8080/"
        }
      },
      "outputs": [
        {
          "output_type": "stream",
          "name": "stdout",
          "text": [
            "{'1': 727, '0': 273}\n"
          ]
        }
      ],
      "source": [
        "job = execute(qc,Aer.get_backend('qasm_simulator'),shots=1000)\n",
        "counts = job.result().get_counts(qc)\n",
        "print(counts)"
      ]
    },
    {
      "cell_type": "markdown",
      "metadata": {
        "id": "uSvsyNazAeGe"
      },
      "source": [
        "<h3> Task 3 </h3>\n",
        "\n",
        "Repeat the second experiment with the following modifications.\n",
        "\n",
        "Start in state $ \\ket{1} $.\n",
        "\n",
        "Apply a Hadamard gate.\n",
        "\n",
        "Make a measurement.\n",
        "\n",
        "If the measurement outcome is 0, stop.\n",
        "\n",
        "Otherwise, apply a second Hadamard, and then make a measurement.\n",
        "\n",
        "Execute your circuit 1000 times.\n",
        "\n",
        "Calculate the expected values of observing '0' and '1', and then compare your result with the simulator result."
      ]
    },
    {
      "cell_type": "code",
      "execution_count": 5,
      "metadata": {
        "id": "h67l62DTAeGe",
        "outputId": "225ad770-1366-4a67-a855-3dbac5cee9c7",
        "colab": {
          "base_uri": "https://localhost:8080/",
          "height": 228
        }
      },
      "outputs": [
        {
          "output_type": "display_data",
          "data": {
            "text/plain": [
              "<Figure size 519.897x200.667 with 1 Axes>"
            ],
            "image/png": "[encoded data removed]"
          },
          "metadata": {}
        },
        {
          "output_type": "stream",
          "name": "stdout",
          "text": [
            "{'1': 266, '0': 734}\n"
          ]
        }
      ],
      "source": [
        "# import all necessary objects and methods for quantum circuits\n",
        "from qiskit import QuantumCircuit, execute, Aer\n",
        "\n",
        "#\n",
        "# your code is here\n",
        "#\n",
        "qc = QuantumCircuit(1, 1)\n",
        "qc.x(0)\n",
        "qc.h(0)\n",
        "qc.measure(0, 0)\n",
        "qc.h(0).c_if(0, 1)\n",
        "qc.measure(0, 0)\n",
        "display(qc.draw(output = 'mpl'))\n",
        "\n",
        "job = execute(qc, Aer.get_backend('qasm_simulator'), shots = 1000)\n",
        "counts = job.result().get_counts(qc)\n",
        "print(counts)"
      ]
    },
    {
      "cell_type": "markdown",
      "metadata": {
        "id": "DSEqqT8iAeGe"
      },
      "source": [
        "To check out our solution, run the next cell:"
      ]
    },
    {
      "cell_type": "code",
      "execution_count": 6,
      "metadata": {
        "id": "_phCk6tbAeGe",
        "outputId": "e649118d-b982-4204-bda3-b8c5133f9b71",
        "colab": {
          "base_uri": "https://localhost:8080/",
          "height": 37
        }
      },
      "outputs": [
        {
          "output_type": "display_data",
          "data": {
            "text/plain": [
              "<IPython.core.display.Javascript object>"
            ],
            "application/javascript": [
              "window.open(\"https://colab.research.google.com/drive/1r9baG8GzInmlSkNWAqq7xbrjt300g-nJ?usp=sharing#scrollTo=LBptY1Lx_m1M\");"
            ]
          },
          "metadata": {}
        }
      ],
      "source": [
        "SolutionToTask3()  # show solution for task 3"
      ]
    },
    {
      "cell_type": "markdown",
      "metadata": {
        "id": "QEhP-zqlAeGe"
      },
      "source": [
        "<h3> Task 4 </h3>\n",
        "\n",
        "Design the following quantum circuit.\n",
        "\n",
        "Start in state $ \\ket{0} $.\n",
        "\n",
        "    Repeat 3 times:\n",
        "        if the classical bit is 0:\n",
        "            apply a Hadamard operator\n",
        "        make a measurement\n",
        "\n",
        "Execute your circuit 1000 times.\n",
        "\n",
        "Calculate the expected values of observing '0' and '1', and then compare your result with the simulator result."
      ]
    },
    {
      "cell_type": "code",
      "execution_count": 7,
      "metadata": {
        "id": "QjeLSjQ8AeGe",
        "outputId": "4ba676cd-2e08-4bb5-f800-6d5a8d4f10c1",
        "colab": {
          "base_uri": "https://localhost:8080/",
          "height": 228
        }
      },
      "outputs": [
        {
          "output_type": "display_data",
          "data": {
            "text/plain": [
              "<Figure size 603.508x200.667 with 1 Axes>"
            ],
            "image/png": "[encoded data removed]"
          },
          "metadata": {}
        },
        {
          "output_type": "stream",
          "name": "stdout",
          "text": [
            "{'0': 125, '1': 875}\n"
          ]
        }
      ],
      "source": [
        "# import all necessary objects and methods for quantum circuits\n",
        "from qiskit import QuantumCircuit, execute, Aer\n",
        "\n",
        "#\n",
        "# your code is here\n",
        "#\n",
        "qc = QuantumCircuit(1, 1)\n",
        "for i in range(3):\n",
        "  qc.h(0).c_if(0, 0)\n",
        "  qc.measure(0, 0)\n",
        "\n",
        "display(qc.draw(output = 'mpl'))\n",
        "\n",
        "job = execute(qc, Aer.get_backend('qasm_simulator'), shots = 1000)\n",
        "counts = job.result().get_counts(qc)\n",
        "print(counts)"
      ]
    },
    {
      "cell_type": "markdown",
      "metadata": {
        "id": "foXK3HsAAeGf"
      },
      "source": [
        "To check out our solution, run the next cell:"
      ]
    },
    {
      "cell_type": "code",
      "execution_count": null,
      "metadata": {
        "id": "TADXTxCNAeGf"
      },
      "outputs": [],
      "source": [
        "SolutionToTask4()  # show solution for task 4"
      ]
    },
    {
      "cell_type": "markdown",
      "metadata": {
        "id": "QsUk0JV9AeGf"
      },
      "source": [
        "---\n",
        "\n",
        "<h3> Extra: Task 5 </h3>\n",
        "\n",
        "Design the following randomly created quantum circuit.\n",
        "\n",
        "Start in state $ \\ket{0} $.\n",
        "\n",
        "    apply a Hadamard operator\n",
        "    make a measurement\n",
        "    REPEAT 4 times:\n",
        "        randomly pick x in {0,1}\n",
        "        if the classical bit is x:\n",
        "            apply a Hadamard operator\n",
        "        make a measurement\n",
        "        \n",
        "Draw your circuit, and guess the expected frequency of observing '0' and '1' if the circuit is executed 10000 times.\n",
        "\n",
        "Then, execute your circuit 10000 times, and compare your result with the simulator result.\n",
        "\n",
        "Repeat execution a few more times."
      ]
    },
    {
      "cell_type": "code",
      "execution_count": 9,
      "metadata": {
        "id": "rl4j0hkwAeGf",
        "outputId": "524ac1e5-d64e-4f8a-8535-c609f4f89b7d",
        "colab": {
          "base_uri": "https://localhost:8080/",
          "height": 228
        }
      },
      "outputs": [
        {
          "output_type": "display_data",
          "data": {
            "text/plain": [
              "<Figure size 937.953x200.667 with 1 Axes>"
            ],
            "image/png": "[encoded data removed]"
          },
          "metadata": {}
        },
        {
          "output_type": "stream",
          "name": "stdout",
          "text": [
            "{'0': 3434, '1': 6566}\n"
          ]
        }
      ],
      "source": [
        "# import all necessary objects and methods for quantum circuits\n",
        "from qiskit import QuantumCircuit, execute, Aer\n",
        "# import randrange for random choices\n",
        "from random import randrange\n",
        "\n",
        "#\n",
        "# your code is here\n",
        "#\n",
        "qc = QuantumCircuit(1, 1)\n",
        "qc.h(0)\n",
        "qc.measure(0, 0)\n",
        "for i in range(4):\n",
        "  qc.h(0).c_if(0, randrange(2))\n",
        "  qc.measure(0, 0)\n",
        "\n",
        "display(qc.draw(output = 'mpl'))\n",
        "\n",
        "job = execute(qc, Aer.get_backend('qasm_simulator'), shots = 10000)\n",
        "counts = job.result().get_counts(qc)\n",
        "print(counts)"
      ]
    },
    {
      "cell_type": "markdown",
      "metadata": {
        "id": "RiiQx9PBAeGf"
      },
      "source": [
        "To check out our solution, run the next cell:"
      ]
    },
    {
      "cell_type": "code",
      "execution_count": null,
      "metadata": {
        "id": "a1wJG4VgAeGf"
      },
      "outputs": [],
      "source": [
        "SolutionToTask5()  # show solution for task 5"
      ]
    }
  ],
  "metadata": {
    "kernelspec": {
      "display_name": "Python 3 (ipykernel)",
      "language": "python",
      "name": "python3"
    },
    "language_info": {
      "codemirror_mode": {
        "name": "ipython",
        "version": 3
      },
      "file_extension": ".py",
      "mimetype": "text/x-python",
      "name": "python",
      "nbconvert_exporter": "python",
      "pygments_lexer": "ipython3",
      "version": "3.11.4"
    },
    "colab": {
      "provenance": [],
      "collapsed_sections": [
        "bwNhlQXWAeGa"
      ],
      "include_colab_link": true
    }
  },
  "nbformat": 4,
  "nbformat_minor": 0
}