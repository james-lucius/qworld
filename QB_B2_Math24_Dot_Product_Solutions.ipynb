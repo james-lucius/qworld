{
  "cells": [
    {
      "cell_type": "markdown",
      "metadata": {
        "id": "view-in-github",
        "colab_type": "text"
      },
      "source": [
        "<a href=\"https://colab.research.google.com/github/james-lucius/qworld/blob/main/QB_B2_Math24_Dot_Product_Solutions.ipynb\" target=\"_parent\"><img src=\"https://colab.research.google.com/assets/colab-badge.svg\" alt=\"Open In Colab\"/></a>"
      ]
    },
    {
      "cell_type": "markdown",
      "metadata": {
        "id": "8BDyJvUYfmNG"
      },
      "source": [
        "<a href=\"https://qworld.net\" target=\"_blank\" align=\"left\"><img src=\"https://gitlab.com/qworld/qeducation/qbook101/raw/main/qworld/images/header.jpg\"  align=\"left\"></a>\n",
        "$ \\newcommand{\\bra}[1]{\\langle #1|} $\n",
        "$ \\newcommand{\\ket}[1]{|#1\\rangle} $\n",
        "$ \\newcommand{\\braket}[2]{\\langle #1|#2\\rangle} $\n",
        "$ \\newcommand{\\dot}[2]{ #1 \\cdot #2} $\n",
        "$ \\newcommand{\\biginner}[2]{\\left\\langle #1,#2\\right\\rangle} $\n",
        "$ \\newcommand{\\mymatrix}[2]{\\left( \\begin{array}{#1} #2\\end{array} \\right)} $\n",
        "$ \\newcommand{\\myvector}[1]{\\mymatrix{c}{#1}} $\n",
        "$ \\newcommand{\\myrvector}[1]{\\mymatrix{r}{#1}} $\n",
        "$ \\newcommand{\\mypar}[1]{\\left( #1 \\right)} $\n",
        "$ \\newcommand{\\mybigpar}[1]{ \\Big( #1 \\Big)} $\n",
        "$ \\newcommand{\\sqrttwo}{\\frac{1}{\\sqrt{2}}} $\n",
        "$ \\newcommand{\\dsqrttwo}{\\dfrac{1}{\\sqrt{2}}} $\n",
        "$ \\newcommand{\\onehalf}{\\frac{1}{2}} $\n",
        "$ \\newcommand{\\donehalf}{\\dfrac{1}{2}} $\n",
        "$ \\newcommand{\\hadamard}{ \\mymatrix{rr}{ \\sqrttwo & \\sqrttwo \\\\ \\sqrttwo & -\\sqrttwo }} $\n",
        "$ \\newcommand{\\vzero}{\\myvector{1\\\\0}} $\n",
        "$ \\newcommand{\\vone}{\\myvector{0\\\\1}} $\n",
        "$ \\newcommand{\\stateplus}{\\myvector{ \\sqrttwo \\\\  \\sqrttwo } } $\n",
        "$ \\newcommand{\\stateminus}{ \\myrvector{ \\sqrttwo \\\\ -\\sqrttwo } } $\n",
        "$ \\newcommand{\\myarray}[2]{ \\begin{array}{#1}#2\\end{array}} $\n",
        "$ \\newcommand{\\X}{ \\mymatrix{cc}{0 & 1 \\\\ 1 & 0}  } $\n",
        "$ \\newcommand{\\I}{ \\mymatrix{rr}{1 & 0 \\\\ 0 & 1}  } $\n",
        "$ \\newcommand{\\Z}{ \\mymatrix{rr}{1 & 0 \\\\ 0 & -1}  } $\n",
        "$ \\newcommand{\\Htwo}{ \\mymatrix{rrrr}{ \\frac{1}{2} & \\frac{1}{2} & \\frac{1}{2} & \\frac{1}{2} \\\\ \\frac{1}{2} & -\\frac{1}{2} & \\frac{1}{2} & -\\frac{1}{2} \\\\ \\frac{1}{2} & \\frac{1}{2} & -\\frac{1}{2} & -\\frac{1}{2} \\\\ \\frac{1}{2} & -\\frac{1}{2} & -\\frac{1}{2} & \\frac{1}{2} } } $\n",
        "$ \\newcommand{\\CNOT}{ \\mymatrix{cccc}{1 & 0 & 0 & 0 \\\\ 0 & 1 & 0 & 0 \\\\ 0 & 0 & 0 & 1 \\\\ 0 & 0 & 1 & 0} } $\n",
        "$ \\newcommand{\\norm}[1]{ \\left\\lVert #1 \\right\\rVert } $\n",
        "$ \\newcommand{\\pstate}[1]{ \\lceil \\mspace{-1mu} #1 \\mspace{-1.5mu} \\rfloor } $\n",
        "$ \\newcommand{\\greenbit}[1] {\\mathbf{{\\color{green}#1}}} $\n",
        "$ \\newcommand{\\bluebit}[1] {\\mathbf{{\\color{blue}#1}}} $\n",
        "$ \\newcommand{\\redbit}[1] {\\mathbf{{\\color{red}#1}}} $\n",
        "$ \\newcommand{\\brownbit}[1] {\\mathbf{{\\color{brown}#1}}} $\n",
        "$ \\newcommand{\\blackbit}[1] {\\mathbf{{\\color{black}#1}}} $"
      ]
    },
    {
      "cell_type": "markdown",
      "metadata": {
        "id": "VG8dJnuTfmNI"
      },
      "source": [
        "_prepared by Abuzer Yakaryilmaz_"
      ]
    },
    {
      "cell_type": "markdown",
      "metadata": {
        "id": "Wjp44ggAfmNI"
      },
      "source": [
        "<font size=\"28px\" style=\"font-size:28px;\" align=\"left\"><b><font color=\"blue\"> Solutions for </font> Vectors: Dot (Scalar) Products</b></font>\n",
        "<br>\n",
        "<br><br>"
      ]
    },
    {
      "cell_type": "markdown",
      "metadata": {
        "jp-MarkdownHeadingCollapsed": true,
        "id": "lvMWBl5GfmNI"
      },
      "source": [
        "##### <font color=\"#08b806\">Please execute the following cell, it is necessary to distinguish between your local environment and Google Colab's"
      ]
    },
    {
      "cell_type": "code",
      "execution_count": 1,
      "metadata": {
        "id": "CFAL73EtfmNI",
        "outputId": "6188b98b-8a66-47e3-9771-40e22caab1ff",
        "colab": {
          "base_uri": "https://localhost:8080/"
        }
      },
      "outputs": [
        {
          "output_type": "stream",
          "name": "stdout",
          "text": [
            "--2025-05-31 01:40:27--  https://gitlab.com/qworld/qeducation/qbook101/raw/main/qworld/include/bronze_math.py\n",
            "Resolving gitlab.com (gitlab.com)... 172.65.251.78, 2606:4700:90:0:f22e:fbec:5bed:a9b9\n",
            "Connecting to gitlab.com (gitlab.com)|172.65.251.78|:443... connected.\n",
            "HTTP request sent, awaiting response... 200 OK\n",
            "Length: 2235 (2.2K) [text/plain]\n",
            "Saving to: ‘bronze_math.py’\n",
            "\n",
            "\rbronze_math.py        0%[                    ]       0  --.-KB/s               \rbronze_math.py      100%[===================>]   2.18K  --.-KB/s    in 0s      \n",
            "\n",
            "2025-05-31 01:40:27 (31.8 MB/s) - ‘bronze_math.py’ saved [2235/2235]\n",
            "\n",
            "--2025-05-31 01:40:28--  https://gitlab.com/qworld/qeducation/qbook101/raw/main/qworld/include/drawing.py\n",
            "Resolving gitlab.com (gitlab.com)... 172.65.251.78, 2606:4700:90:0:f22e:fbec:5bed:a9b9\n",
            "Connecting to gitlab.com (gitlab.com)|172.65.251.78|:443... connected.\n",
            "HTTP request sent, awaiting response... 200 OK\n",
            "Length: 6260 (6.1K) [text/plain]\n",
            "Saving to: ‘drawing.py’\n",
            "\n",
            "drawing.py          100%[===================>]   6.11K  --.-KB/s    in 0s      \n",
            "\n",
            "2025-05-31 01:40:28 (65.2 MB/s) - ‘drawing.py’ saved [6260/6260]\n",
            "\n"
          ]
        }
      ],
      "source": [
        "import IPython\n",
        "\n",
        "def in_colab():\n",
        "    try:\n",
        "        import google.colab\n",
        "        return True\n",
        "    except:\n",
        "        return False\n",
        "\n",
        "path_files = \"./\" if in_colab() else \"../../../qworld/include/\"\n",
        "\n",
        "if in_colab():\n",
        "    url = \"https://gitlab.com/qworld/qeducation/qbook101/raw/main/qworld/include/bronze_math.py\"\n",
        "    !wget --no-cache -O bronze_math.py {url}\n",
        "\n",
        "    url = \"https://gitlab.com/qworld/qeducation/qbook101/raw/main/qworld/include/drawing.py\"\n",
        "    !wget --no-cache -O drawing.py {url}"
      ]
    },
    {
      "cell_type": "markdown",
      "metadata": {
        "id": "CWVmKRhlfmNJ"
      },
      "source": [
        "<a id=\"task1\"></a>\n",
        "### Task 1\n",
        "\n",
        "Find the dot product of the following vectors in Python:\n",
        "\n",
        "$$\n",
        "    v = \\myrvector{-3 \\\\ 4 \\\\ -5 \\\\ 6} ~~~~\\mbox{and}~~~~ u = \\myrvector{4 \\\\ 3 \\\\ 6 \\\\ 5}.\n",
        "$$\n",
        "\n",
        "Your outcome should be $0$."
      ]
    },
    {
      "cell_type": "markdown",
      "metadata": {
        "id": "P7OlfxoafmNJ"
      },
      "source": [
        "<h3>Solution</h3>"
      ]
    },
    {
      "cell_type": "code",
      "execution_count": 2,
      "metadata": {
        "id": "_6ST5JdzfmNJ",
        "outputId": "b31b56be-d9d2-48bc-a1df-559fad96a96e",
        "colab": {
          "base_uri": "https://localhost:8080/"
        }
      },
      "outputs": [
        {
          "output_type": "stream",
          "name": "stdout",
          "text": [
            "[-3, 4, -5, 6] [4, 3, 6, 5] 0\n"
          ]
        }
      ],
      "source": [
        "# let's define the vectors\n",
        "v=[-3,4,-5,6]\n",
        "u=[4,3,6,5]\n",
        "\n",
        "vu = 0\n",
        "\n",
        "for i in range(len(v)):\n",
        "    vu = vu + v[i]*u[i]\n",
        "\n",
        "print(v,u,vu)"
      ]
    },
    {
      "cell_type": "markdown",
      "metadata": {
        "id": "nkWd4l_WfmNJ"
      },
      "source": [
        "<a id=\"task2\"></a>\n",
        "<h3> Task 2 </h3>\n",
        "\n",
        "Let $ u = \\myrvector{ -3 \\\\ -4 } $ be a 2 dimensional vector.\n",
        "\n",
        "Find $ \\dot{u}{u} $ in Python."
      ]
    },
    {
      "cell_type": "markdown",
      "metadata": {
        "id": "DeOxByZyfmNJ"
      },
      "source": [
        "<h3>Solution</h3>"
      ]
    },
    {
      "cell_type": "code",
      "execution_count": 3,
      "metadata": {
        "id": "Th3nw3NQfmNK",
        "outputId": "7682d9af-aa07-4470-8c5c-b2215f389bf4",
        "colab": {
          "base_uri": "https://localhost:8080/"
        }
      },
      "outputs": [
        {
          "output_type": "stream",
          "name": "stdout",
          "text": [
            "[-3, -4] [-3, -4] 25\n"
          ]
        }
      ],
      "source": [
        "u = [-3,-4]\n",
        "\n",
        "uu = u[0]*u[0] + u[1]*u[1]\n",
        "\n",
        "print(u,u,uu)"
      ]
    },
    {
      "cell_type": "markdown",
      "metadata": {
        "id": "lBseWhD-fmNK"
      },
      "source": [
        "<a id=\"task3\"></a>\n",
        "<h3> Task 3 </h3>\n",
        "\n",
        "Verify that (i) $ u $ is orthogonal to $ -v $, (ii) $ -u $ is orthogonal to $ v $, and (iii) $ -u $ is orthogonal to $ -v $."
      ]
    },
    {
      "cell_type": "code",
      "execution_count": 4,
      "metadata": {
        "id": "RvSHoHwefmNK",
        "outputId": "be6688b6-7eee-499f-87c2-a5a27743d4b2",
        "colab": {
          "base_uri": "https://localhost:8080/",
          "height": 619
        }
      },
      "outputs": [
        {
          "output_type": "display_data",
          "data": {
            "text/plain": [
              "<Figure size 700x700 with 1 Axes>"
            ],
            "image/png": "[encoded data removed]"
          },
          "metadata": {}
        }
      ],
      "source": [
        "bronze_math_file = path_files+\"bronze_math.py\"\n",
        "%run $bronze_math_file\n",
        "\n",
        "dot_product(\"example3\")"
      ]
    },
    {
      "cell_type": "markdown",
      "metadata": {
        "id": "2UdCj5RkfmNK"
      },
      "source": [
        "<h3>Solution</h3>"
      ]
    },
    {
      "cell_type": "code",
      "execution_count": 5,
      "metadata": {
        "id": "m4iR82v7fmNK",
        "outputId": "61c12292-d4fe-44cc-e643-5afb2247e7ca",
        "colab": {
          "base_uri": "https://localhost:8080/"
        }
      },
      "outputs": [
        {
          "output_type": "stream",
          "name": "stdout",
          "text": [
            "the dot product of  u and -v ( [-3, -4]  and  [4, -3] ) is 0\n",
            "the dot product of -u and  v ( [3, 4]    and  [-4, 3] ) is 0\n",
            "the dot product of -u and -v ( [3, 4]    and  [4, -3] ) is 0\n"
          ]
        }
      ],
      "source": [
        "u = [-3,-4]\n",
        "neg_u=[3,4]\n",
        "\n",
        "v=[-4,3]\n",
        "neg_v=[4,-3]\n",
        "\n",
        "# let's define a function for inner product\n",
        "def dot(v_one,v_two):\n",
        "    summation = 0\n",
        "    for i in range(len(v_one)):\n",
        "        summation = summation + v_one[i]*v_two[i] # adding up pairwise multiplications\n",
        "    return summation # return the inner product\n",
        "\n",
        "print(\"the dot product of  u and -v (\",u,\" and \",neg_v,\") is\",dot(u,neg_v))\n",
        "print(\"the dot product of -u and  v (\",neg_u,\"   and \",v,\") is\",dot(neg_u,v))\n",
        "print(\"the dot product of -u and -v (\",neg_u,\"   and \",neg_v,\") is\",dot(neg_u,neg_v))"
      ]
    },
    {
      "cell_type": "markdown",
      "metadata": {
        "id": "aeG8g_bQfmNK"
      },
      "source": [
        "<a id=\"task4\"></a>\n",
        "<h3> Task 4 </h3>\n",
        "\n",
        "Find the dot product of $ v $ and $ u $ in Python.\n",
        "\n",
        "$$\n",
        "    v = \\myrvector{-1 \\\\ 2 \\\\ -3 \\\\ 4} ~~~~\\mbox{and}~~~~ u = \\myrvector{-2 \\\\ -1 \\\\ 5 \\\\ 2}.\n",
        "$$\n",
        "\n",
        "Find the dot product of $ -2v $ and $ 3u $ in Python.\n",
        "\n",
        "Compare both results."
      ]
    },
    {
      "cell_type": "markdown",
      "metadata": {
        "id": "diqAfPHlfmNK"
      },
      "source": [
        "<h3>Solution</h3>"
      ]
    },
    {
      "cell_type": "code",
      "execution_count": 6,
      "metadata": {
        "id": "EHF1nJwhfmNK",
        "outputId": "655d933d-1a02-40c1-cc7d-e08ad59fb75b",
        "colab": {
          "base_uri": "https://localhost:8080/"
        }
      },
      "outputs": [
        {
          "output_type": "stream",
          "name": "stdout",
          "text": [
            "the dot product of v and u is -7\n",
            "the dot product of -2v and 3u is 42\n"
          ]
        }
      ],
      "source": [
        "# let's define a function for inner product\n",
        "def dot(v_one,v_two):\n",
        "    summation = 0\n",
        "    for i in range(len(v_one)):\n",
        "        summation = summation + v_one[i]*v_two[i] # adding up pairwise multiplications\n",
        "    return summation # return the inner product\n",
        "\n",
        "v = [-1,2,-3,4]\n",
        "v_neg_two=[2,-4,6,-8]\n",
        "\n",
        "u=[-2,-1,5,2]\n",
        "u_three=[-6,-3,15,6]\n",
        "\n",
        "print(\"the dot product of v and u is\",dot(v,u))\n",
        "\n",
        "print(\"the dot product of -2v and 3u is\",dot(v_neg_two,u_three))"
      ]
    },
    {
      "cell_type": "markdown",
      "metadata": {
        "id": "TJrYMp3XfmNK"
      },
      "source": [
        "Observe that:\n",
        "\n",
        "$\\dot{v}{u} = -7 $\n",
        "\n",
        "$ \\dot{(-2v)}{(3u)} = 42 = (-6) (-7) = (-2)(3) (\\dot{v}{u}) $\n",
        "\n",
        "$ \\dot{(-2v)}{(3u)} = (-2)(3) (\\dot{v}{u}) $"
      ]
    }
  ],
  "metadata": {
    "kernelspec": {
      "display_name": "Python 3 (ipykernel)",
      "language": "python",
      "name": "python3"
    },
    "language_info": {
      "codemirror_mode": {
        "name": "ipython",
        "version": 3
      },
      "file_extension": ".py",
      "mimetype": "text/x-python",
      "name": "python",
      "nbconvert_exporter": "python",
      "pygments_lexer": "ipython3",
      "version": "3.11.4"
    },
    "colab": {
      "provenance": [],
      "collapsed_sections": [
        "lvMWBl5GfmNI"
      ],
      "include_colab_link": true
    }
  },
  "nbformat": 4,
  "nbformat_minor": 0
}