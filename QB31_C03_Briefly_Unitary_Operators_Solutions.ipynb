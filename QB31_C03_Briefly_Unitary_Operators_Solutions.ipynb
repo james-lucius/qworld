{
  "cells": [
    {
      "cell_type": "markdown",
      "metadata": {
        "id": "view-in-github",
        "colab_type": "text"
      },
      "source": [
        "<a href=\"https://colab.research.google.com/github/james-lucius/qworld/blob/main/QB31_C03_Briefly_Unitary_Operators_Solutions.ipynb\" target=\"_parent\"><img src=\"https://colab.research.google.com/assets/colab-badge.svg\" alt=\"Open In Colab\"/></a>"
      ]
    },
    {
      "cell_type": "markdown",
      "metadata": {
        "id": "khgQr8P2tOcC"
      },
      "source": [
        "<a href=\"https://qworld.net\" target=\"_blank\" align=\"left\"><img src=\"https://gitlab.com/qworld/qeducation/qbook101/raw/main/qworld/images/header.jpg\" align=\"left\"></a>\n",
        "$ \\newcommand{\\bra}[1]{\\langle #1|} $\n",
        "$ \\newcommand{\\ket}[1]{|#1\\rangle} $\n",
        "$ \\newcommand{\\braket}[2]{\\langle #1|#2\\rangle} $\n",
        "$ \\newcommand{\\dot}[2]{ #1 \\cdot #2} $\n",
        "$ \\newcommand{\\biginner}[2]{\\left\\langle #1,#2\\right\\rangle} $\n",
        "$ \\newcommand{\\mymatrix}[2]{\\left( \\begin{array}{#1} #2\\end{array} \\right)} $\n",
        "$ \\newcommand{\\myvector}[1]{\\mymatrix{c}{#1}} $\n",
        "$ \\newcommand{\\myrvector}[1]{\\mymatrix{r}{#1}} $\n",
        "$ \\newcommand{\\mypar}[1]{\\left( #1 \\right)} $\n",
        "$ \\newcommand{\\mybigpar}[1]{ \\Big( #1 \\Big)} $\n",
        "$ \\newcommand{\\sqrttwo}{\\frac{1}{\\sqrt{2}}} $\n",
        "$ \\newcommand{\\dsqrttwo}{\\dfrac{1}{\\sqrt{2}}} $\n",
        "$ \\newcommand{\\onehalf}{\\frac{1}{2}} $\n",
        "$ \\newcommand{\\donehalf}{\\dfrac{1}{2}} $\n",
        "$ \\newcommand{\\hadamard}{ \\mymatrix{rr}{ \\sqrttwo & \\sqrttwo \\\\ \\sqrttwo & -\\sqrttwo }} $\n",
        "$ \\newcommand{\\vzero}{\\myvector{1\\\\0}} $\n",
        "$ \\newcommand{\\vone}{\\myvector{0\\\\1}} $\n",
        "$ \\newcommand{\\stateplus}{\\myvector{ \\sqrttwo \\\\  \\sqrttwo } } $\n",
        "$ \\newcommand{\\stateminus}{ \\myrvector{ \\sqrttwo \\\\ -\\sqrttwo } } $\n",
        "$ \\newcommand{\\myarray}[2]{ \\begin{array}{#1}#2\\end{array}} $\n",
        "$ \\newcommand{\\X}{ \\mymatrix{cc}{0 & 1 \\\\ 1 & 0}  } $\n",
        "$ \\newcommand{\\Z}{ \\mymatrix{rr}{1 & 0 \\\\ 0 & -1}  } $\n",
        "$ \\newcommand{\\Htwo}{ \\mymatrix{rrrr}{ \\frac{1}{2} & \\frac{1}{2} & \\frac{1}{2} & \\frac{1}{2} \\\\ \\frac{1}{2} & -\\frac{1}{2} & \\frac{1}{2} & -\\frac{1}{2} \\\\ \\frac{1}{2} & \\frac{1}{2} & -\\frac{1}{2} & -\\frac{1}{2} \\\\ \\frac{1}{2} & -\\frac{1}{2} & -\\frac{1}{2} & \\frac{1}{2} } } $\n",
        "$ \\newcommand{\\CNOT}{ \\mymatrix{cccc}{1 & 0 & 0 & 0 \\\\ 0 & 1 & 0 & 0 \\\\ 0 & 0 & 0 & 1 \\\\ 0 & 0 & 1 & 0} } $\n",
        "$ \\newcommand{\\norm}[1]{ \\left\\lVert #1 \\right\\rVert } $\n",
        "$ \\newcommand{\\pstate}[1]{ \\lceil \\mspace{-1mu} #1 \\mspace{-1.5mu} \\rfloor } $\n",
        "$ \\newcommand{\\Y}{ \\mymatrix{rr}{0 & -i \\\\ i & 0} } $\n",
        "$ \\newcommand{\\S}{ \\mymatrix{rr}{1 & 0 \\\\ 0 & i} } $\n",
        "$ \\newcommand{\\T}{ \\mymatrix{rr}{1 & 0 \\\\ 0 & e^{i \\frac{\\pi}{4}}} } $\n",
        "$ \\newcommand{\\Sdg}{ \\mymatrix{rr}{1 & 0 \\\\ 0 & -i} } $\n",
        "$ \\newcommand{\\Tdg}{ \\mymatrix{rr}{1 & 0 \\\\ 0 & e^{-i \\frac{\\pi}{4}}} } $\n",
        "$ \\newcommand{\\qgate}[1]{ \\mathop{\\\\textit{#1} } }$"
      ]
    },
    {
      "cell_type": "markdown",
      "metadata": {
        "id": "LX88OVmutOcF"
      },
      "source": [
        "_prepared by Maksim Dimitrijev_"
      ]
    },
    {
      "cell_type": "markdown",
      "metadata": {
        "id": "zBkId2bitOcF"
      },
      "source": [
        "<font size=\"28px\" style=\"font-size:28px;\" align=\"left\"><b> <font color=\"blue\"> Solutions for </font>Briefly unitary operators</b></font>\n",
        "<br>\n",
        "<br><br>"
      ]
    },
    {
      "cell_type": "markdown",
      "metadata": {
        "jp-MarkdownHeadingCollapsed": true,
        "id": "QYP_2eCrtOcF"
      },
      "source": [
        "##### <font color=\"#08b806\">Please execute the following cell, it is necessary to distinguish between your local environment and Google Colab's"
      ]
    },
    {
      "cell_type": "code",
      "execution_count": 2,
      "metadata": {
        "id": "qZcjSntttOcG",
        "outputId": "d360928e-4344-4fef-8a9f-4c882de1dec0",
        "colab": {
          "base_uri": "https://localhost:8080/"
        }
      },
      "outputs": [
        {
          "output_type": "stream",
          "name": "stdout",
          "text": [
            "--2025-06-30 19:36:16--  https://gitlab.com/qworld/qeducation/qbook101/raw/main/qworld/include/random_complex_quantum_state.py\n",
            "Resolving gitlab.com (gitlab.com)... 172.65.251.78, 2606:4700:90:0:f22e:fbec:5bed:a9b9\n",
            "Connecting to gitlab.com (gitlab.com)|172.65.251.78|:443... connected.\n",
            "HTTP request sent, awaiting response... 200 OK\n",
            "Length: 870 [text/plain]\n",
            "Saving to: ‘random_complex_quantum_state.py’\n",
            "\n",
            "random_complex_quan 100%[===================>]     870  --.-KB/s    in 0s      \n",
            "\n",
            "2025-06-30 19:36:16 (571 MB/s) - ‘random_complex_quantum_state.py’ saved [870/870]\n",
            "\n",
            "--2025-06-30 19:36:16--  https://gitlab.com/qworld/qeducation/qbook101/raw/main/qworld/include/is_quantum_state.py\n",
            "Resolving gitlab.com (gitlab.com)... 172.65.251.78, 2606:4700:90:0:f22e:fbec:5bed:a9b9\n",
            "Connecting to gitlab.com (gitlab.com)|172.65.251.78|:443... connected.\n",
            "HTTP request sent, awaiting response... 200 OK\n",
            "Length: 675 [text/plain]\n",
            "Saving to: ‘is_quantum_state.py’\n",
            "\n",
            "is_quantum_state.py 100%[===================>]     675  --.-KB/s    in 0s      \n",
            "\n",
            "2025-06-30 19:36:16 (347 MB/s) - ‘is_quantum_state.py’ saved [675/675]\n",
            "\n"
          ]
        }
      ],
      "source": [
        "import IPython\n",
        "\n",
        "def in_colab():\n",
        "    try:\n",
        "        import google.colab\n",
        "        return True\n",
        "    except:\n",
        "        return False\n",
        "\n",
        "path_files = \"./\" if in_colab() else \"../qworld/include/\"\n",
        "\n",
        "if in_colab():\n",
        "    url = \"https://gitlab.com/qworld/qeducation/qbook101/raw/main/qworld/include/random_complex_quantum_state.py\"\n",
        "    !wget --no-cache -O random_complex_quantum_state.py {url}\n",
        "\n",
        "    url = \"https://gitlab.com/qworld/qeducation/qbook101/raw/main/qworld/include/is_quantum_state.py\"\n",
        "    !wget --no-cache -O is_quantum_state.py {url}"
      ]
    },
    {
      "cell_type": "markdown",
      "metadata": {
        "id": "agzOJ-EGtOcH"
      },
      "source": [
        "<a name=\"task1\"></a>\n",
        "### Task 1\n",
        "\n",
        "Verify that $Y^{\\dagger} = Y$ and that $YY = I$."
      ]
    },
    {
      "cell_type": "markdown",
      "metadata": {
        "id": "qY8MB4w7tOcH"
      },
      "source": [
        "<h3> Solution </h3>"
      ]
    },
    {
      "cell_type": "markdown",
      "metadata": {
        "id": "_AdE56wVtOcI"
      },
      "source": [
        "$\\overline{i} = -i, \\overline{-i} = i$.\n",
        "\n",
        "$Y^{\\dagger} = \\Y.$\n",
        "\n",
        "$\\Y \\Y = \\mymatrix{cc}{0 \\cdot 0 + -i \\cdot i & 0 \\cdot -i + -i \\cdot 0 \\\\ i \\cdot 0 + 0 \\cdot i & i \\cdot -i + 0 \\cdot 0} = \\mymatrix{cc}{-i^2 & 0 \\\\ 0 & -i^2} = \\mymatrix{cc}{1 & 0 \\\\ 0 & 1}$."
      ]
    },
    {
      "cell_type": "markdown",
      "metadata": {
        "id": "g2n_RuHTtOcI"
      },
      "source": [
        "<a name=\"task2\"></a>\n",
        "<h3> Task 2</h3>\n",
        "\n",
        "Randomly create a 2-dimensional quantum state, where both amplitudes are complex numbers (you can use your solution from previous notebook, Task 3). After that apply the mentioned operator to the generated state and verify that the resulting state is a valid quantum state.\n",
        "\n",
        "<b>Repeat several times:</b>\n",
        "<ul>\n",
        "    <li> Randomly pick a quantum state. </li>\n",
        "    <li> Apply the mentioned operator to the state. </li>\n",
        "    <li> Check whether the resulting quantum state is valid. </li>"
      ]
    },
    {
      "cell_type": "markdown",
      "metadata": {
        "id": "dQohLtejtOcI"
      },
      "source": [
        "<h3> Solution </h3>"
      ]
    },
    {
      "cell_type": "code",
      "execution_count": 3,
      "metadata": {
        "id": "JhCo-eestOcJ"
      },
      "outputs": [],
      "source": [
        "# random_complex_quantum_state_file = path_files+\"random_complex_quantum_state.py\"\n",
        "# %run $random_complex_quantum_state_file      # same code as the next one\n",
        "from random import randrange\n",
        "def random_complex_quantum_state():\n",
        "    # quantum state\n",
        "    quantum_state=[0,0]\n",
        "    length_square = 0\n",
        "    while length_square == 0:\n",
        "        first_entry_real = randrange(-100,101)\n",
        "        first_entry_imag = randrange(-100,101)\n",
        "        second_entry_real = randrange(-100,101)\n",
        "        second_entry_imag = randrange(-100,101)\n",
        "        length_square = first_entry_real**2+first_entry_imag**2+second_entry_real**2+second_entry_imag**2\n",
        "    first_entry_real = first_entry_real / length_square**0.5\n",
        "    first_entry_imag = first_entry_imag / length_square**0.5\n",
        "    second_entry_real = second_entry_real / length_square**0.5\n",
        "    second_entry_imag = second_entry_imag / length_square**0.5\n",
        "    quantum_state[0] = complex(first_entry_real, first_entry_imag)\n",
        "    quantum_state[1] = complex(second_entry_real, second_entry_imag)\n",
        "    return quantum_state"
      ]
    },
    {
      "cell_type": "code",
      "execution_count": 4,
      "metadata": {
        "id": "Ys1eTOx0tOcJ",
        "outputId": "8ea7f539-6a6a-43bf-971c-dcfdcbd448e0",
        "colab": {
          "base_uri": "https://localhost:8080/"
        }
      },
      "outputs": [
        {
          "output_type": "stream",
          "name": "stdout",
          "text": [
            "[(0.6290762324328719+0.36420202930324164j), (-0.4856027057376555-0.4856027057376555j)]\n",
            "summation of entry squares is 1.0\n",
            "Is it valid? True\n",
            "[(-0.16688313705508329+0.7454113455127054j), (-0.3782684439915221-0.5229004961059276j)]\n",
            "summation of entry squares is 1.0\n",
            "Is it valid? True\n",
            "[(-0.6952263086715583-0.44853310236874727j), (0.5606663779609341-0.03363998267765605j)]\n",
            "summation of entry squares is 1.0\n",
            "Is it valid? True\n",
            "[(0.6945135020410448+0.6347704050912776j), (-0.3285870332237201+0.08214675830593003j)]\n",
            "summation of entry squares is 0.9999999999999999\n",
            "Is it valid? True\n",
            "[(-0.5962238718045388+0.0062760407558372505j), (0.5083593012228173-0.6213280348278878j)]\n",
            "summation of entry squares is 1.0\n",
            "Is it valid? True\n",
            "[(-0.10912193659808249+0.4037511654129052j), (-0.7092925878875361+0.5674340703100289j)]\n",
            "summation of entry squares is 1.0\n",
            "Is it valid? True\n",
            "[(-0.4405356154817214+0.7455218108152207j), (-0.016943677518527746-0.49983848679656845j)]\n",
            "summation of entry squares is 1.0\n",
            "Is it valid? True\n",
            "[(-0.5114635160611115+0.21919864974047637j), (-0.6941290575115086+0.45666385362599243j)]\n",
            "summation of entry squares is 0.9999999999999998\n",
            "Is it valid? True\n",
            "[(0.920441427037547-0.18784518919133614j), (-0.05635355675740084+0.33812134054440507j)]\n",
            "summation of entry squares is 1.0\n",
            "Is it valid? True\n",
            "[(-0.07423832462159248-0.14847664924318496j), (-0.2969532984863699+0.9403521118735046j)]\n",
            "summation of entry squares is 1.0\n",
            "Is it valid? True\n"
          ]
        }
      ],
      "source": [
        "# is_quantum_state_file = path_files+\"is_quantum_state.py\"\n",
        "# %run $is_quantum_state_file      # same code as the next one\n",
        "\n",
        "# testing whether a given quantum state is valid\n",
        "def is_quantum_state(quantum_state):\n",
        "    length_square = 0\n",
        "    for i in range(len(quantum_state)):\n",
        "        length_square += abs(quantum_state[i])**2\n",
        "    print(\"summation of entry squares is\",length_square)\n",
        "    # there might be precision problem\n",
        "    # the length may be very close to 1 but not exactly 1\n",
        "    # so we use the following trick\n",
        "    if (length_square - 1)**2 < 0.00000001: return True\n",
        "    return False\n",
        "for i in range(10):\n",
        "    new_state = random_complex_quantum_state()\n",
        "    print(new_state)\n",
        "    print(\"Is it valid?\",is_quantum_state(new_state))\n"
      ]
    },
    {
      "cell_type": "markdown",
      "metadata": {
        "id": "h1uFkz8FtOcJ"
      },
      "source": [
        "Apply the operator $ M $:"
      ]
    },
    {
      "cell_type": "code",
      "execution_count": 5,
      "metadata": {
        "id": "uIN-KBU9tOcJ",
        "outputId": "53cef776-6b87-472c-d6ac-acc34c1064c7",
        "colab": {
          "base_uri": "https://localhost:8080/"
        }
      },
      "outputs": [
        {
          "output_type": "stream",
          "name": "stdout",
          "text": [
            "[(-0.3039328358222556+0.36964804356760816j), (-0.2875040338859174+0.829654497785076j)]\n",
            "summation of entry squares is 1.0\n",
            "Is it valid? True\n",
            "[(0.035270022661217315-0.27334267562443393j), (0.5907728795753894+0.7583054872161714j)]\n",
            "summation of entry squares is 1.0\n",
            "Is it valid? True\n",
            "[(0.6122590648838083+0.6666820928734802j), (0.3265381679380311+0.27211513994835923j)]\n",
            "summation of entry squares is 1.0000000000000002\n",
            "Is it valid? True\n",
            "[(0.13460728901903227-0.7838895066402469j), (-0.5701014593747251+0.2058699714408729j)]\n",
            "summation of entry squares is 1.0000000000000002\n",
            "Is it valid? True\n",
            "[(-0.11981419244826497+0.047925676979306j), (0.4193496735689272-0.8986064433619869j)]\n",
            "summation of entry squares is 1.0000000000000002\n",
            "Is it valid? True\n",
            "[(-0.4075912855753441+0.34776137209639457j), (0.2580165018779702-0.8039644623733853j)]\n",
            "summation of entry squares is 0.9999999999999996\n",
            "Is it valid? True\n",
            "[(0.2304415489282211+0.18525693149131495j), (-0.9353215809439562-0.19429385497869622j)]\n",
            "summation of entry squares is 0.9999999999999998\n",
            "Is it valid? True\n",
            "[(0.1176025417539368-0.1609297939790713j), (-0.16711940143980492+0.9655787638744282j)]\n",
            "summation of entry squares is 1.0000000000000002\n",
            "Is it valid? True\n",
            "[(0.08235104152037598+0.23136721189058002j), (0.2156812992200322-0.9450762384005048j)]\n",
            "summation of entry squares is 1.0\n",
            "Is it valid? True\n",
            "[(0.0691775761616549+0.9531132715605781j), (-0.038431986756474856-0.2920830993492094j)]\n",
            "summation of entry squares is 0.9999999999999999\n",
            "Is it valid? True\n"
          ]
        }
      ],
      "source": [
        "for i in range(10):\n",
        "    initial_state = random_complex_quantum_state()\n",
        "    new_state = [0,0]\n",
        "    new_state[0] = initial_state[0] * complex(1/2,1/2) + initial_state[1] * complex(1/2,-1/2)\n",
        "    new_state[1] = initial_state[0] * complex(1/2,-1/2) + initial_state[1] * complex(1/2,1/2)\n",
        "    print(new_state)\n",
        "    print(\"Is it valid?\",is_quantum_state(new_state))"
      ]
    },
    {
      "cell_type": "markdown",
      "metadata": {
        "id": "LcGuNRL6tOcJ"
      },
      "source": [
        "<a name=\"task3\"></a>\n",
        "<h3> Task 3</h3>\n",
        "\n",
        "Repeat Task 2, but with Hadamard operator."
      ]
    },
    {
      "cell_type": "markdown",
      "metadata": {
        "id": "dp3Q1DwZtOcJ"
      },
      "source": [
        "<h3> Solution </h3>"
      ]
    },
    {
      "cell_type": "code",
      "execution_count": 6,
      "metadata": {
        "id": "4mJLEyHBtOcJ"
      },
      "outputs": [],
      "source": [
        "# random_complex_quantum_state_file = path_files+\"random_complex_quantum_state.py\"\n",
        "# %run $random_complex_quantum_state_file      # same code as the next one\n",
        "from random import randrange\n",
        "def random_complex_quantum_state():\n",
        "    # quantum state\n",
        "    quantum_state=[0,0]\n",
        "    length_square = 0\n",
        "    while length_square == 0:\n",
        "        first_entry_real = randrange(-100,101)\n",
        "        first_entry_imag = randrange(-100,101)\n",
        "        second_entry_real = randrange(-100,101)\n",
        "        second_entry_imag = randrange(-100,101)\n",
        "        length_square = first_entry_real**2+first_entry_imag**2+second_entry_real**2+second_entry_imag**2\n",
        "    first_entry_real = first_entry_real / length_square**0.5\n",
        "    first_entry_imag = first_entry_imag / length_square**0.5\n",
        "    second_entry_real = second_entry_real / length_square**0.5\n",
        "    second_entry_imag = second_entry_imag / length_square**0.5\n",
        "    quantum_state[0] = complex(first_entry_real, first_entry_imag)\n",
        "    quantum_state[1] = complex(second_entry_real, second_entry_imag)\n",
        "    return quantum_state"
      ]
    },
    {
      "cell_type": "code",
      "execution_count": 7,
      "metadata": {
        "id": "V-uEVDdAtOcJ",
        "outputId": "94288608-b142-4308-af9b-b468b024815e",
        "colab": {
          "base_uri": "https://localhost:8080/"
        }
      },
      "outputs": [
        {
          "output_type": "stream",
          "name": "stdout",
          "text": [
            "[(-0.460365093501803+0.34744535358626644j), (-0.12160587375519324+0.8078104470880694j)]\n",
            "summation of entry squares is 1.0\n",
            "Is it valid? True\n",
            "[(0.029228328834448866-0.3994538274041345j), (-0.029228328834448866+0.9158209701460645j)]\n",
            "summation of entry squares is 1.0\n",
            "Is it valid? True\n",
            "[(0.8172370818045691+0.22847488308514835j), (-0.5184622346932213-0.10544994603929923j)]\n",
            "summation of entry squares is 1.0000000000000002\n",
            "Is it valid? True\n",
            "[(-0.5340425644714129+0.4672872439124862j), (0.5507313946111445+0.43947252701293343j)]\n",
            "summation of entry squares is 1.0000000000000004\n",
            "Is it valid? True\n",
            "[(-0.6513362951124013+0j), (-0.4804939881976731-0.5872704300193782j)]\n",
            "summation of entry squares is 1.0\n",
            "Is it valid? True\n",
            "[(0.011854466952761744-0.05927233476380872j), (-0.7942492858350368+0.6045778145908489j)]\n",
            "summation of entry squares is 1.0\n",
            "Is it valid? True\n",
            "[(-0.6425738834722269+0.7298370034499366j), (0.2221243053978068-0.07139709816358077j)]\n",
            "summation of entry squares is 1.0\n",
            "Is it valid? True\n",
            "[(0.7048516300223985-0.6956977127493803j), (-0.018307834546036322+0.13730875909527243j)]\n",
            "summation of entry squares is 0.9999999999999999\n",
            "Is it valid? True\n",
            "[(-0.020574868641134933-0.6481083621957504j), (0.7201204024397226-0.2468984236936192j)]\n",
            "summation of entry squares is 1.0\n",
            "Is it valid? True\n",
            "[(0.061672413033045353-0.9045287244846651j), (0.4214281557258099-0.020557471011015117j)]\n",
            "summation of entry squares is 1.0\n",
            "Is it valid? True\n"
          ]
        }
      ],
      "source": [
        "# is_quantum_state_file = path_files+\"is_quantum_state.py\"\n",
        "# %run $is_quantum_state_file      # same code as the next one\n",
        "\n",
        "# testing whether a given quantum state is valid\n",
        "def is_quantum_state(quantum_state):\n",
        "    length_square = 0\n",
        "    for i in range(len(quantum_state)):\n",
        "        length_square += abs(quantum_state[i])**2\n",
        "    print(\"summation of entry squares is\",length_square)\n",
        "    # there might be precision problem\n",
        "    # the length may be very close to 1 but not exactly 1\n",
        "    # so we use the following trick\n",
        "    if (length_square - 1)**2 < 0.00000001: return True\n",
        "    return False\n",
        "for i in range(10):\n",
        "    new_state = random_complex_quantum_state()\n",
        "    print(new_state)\n",
        "    print(\"Is it valid?\",is_quantum_state(new_state))\n"
      ]
    },
    {
      "cell_type": "markdown",
      "metadata": {
        "id": "w6Q3BmgYtOcK"
      },
      "source": [
        "Apply Hadamard:"
      ]
    },
    {
      "cell_type": "code",
      "execution_count": 8,
      "metadata": {
        "id": "7VxMRzRDtOcK",
        "outputId": "a41c516d-6ae8-4fe1-f16f-ea54368e5a6e",
        "colab": {
          "base_uri": "https://localhost:8080/"
        }
      },
      "outputs": [
        {
          "output_type": "stream",
          "name": "stdout",
          "text": [
            "[(0.33105980383013833+0.15681780181427607j), (-0.6098470070555179+0.7027760747973111j)]\n",
            "summation of entry squares is 0.9999999999999999\n",
            "Is it valid? True\n",
            "[(-0.3867925318577395+0.07032591488322532j), (0.17581478720806337+0.9025159076680589j)]\n",
            "summation of entry squares is 0.9999999999999998\n",
            "Is it valid? True\n",
            "[(0.19511034476253974-0.1024329310003333j), (0.5365534480969842-0.8145856893836034j)]\n",
            "summation of entry squares is 0.9999999999999998\n",
            "Is it valid? True\n",
            "[(0.6825333001950217+0.2830016122759846j), (-0.21641299762281171-0.6381408904262398j)]\n",
            "summation of entry squares is 0.9999999999999996\n",
            "Is it valid? True\n",
            "[(-0.26836532958765047+0.0070622455154644714j), (-0.26836532958765047+0.9251541625258477j)]\n",
            "summation of entry squares is 0.9999999999999999\n",
            "Is it valid? True\n",
            "[(0.4360354357950884+0.5769084227442708j), (-0.6775319848508297-0.13416474947541188j)]\n",
            "summation of entry squares is 0.9999999999999998\n",
            "Is it valid? True\n",
            "[(-0.5957026607956786-0.10669301387385288j), (-0.27562361917412+0.7468510971169702j)]\n",
            "summation of entry squares is 0.9999999999999998\n",
            "Is it valid? True\n",
            "[(0.03187486939055084+0.387051985456689j), (0.787764629223614+0.4781230408582629j)]\n",
            "summation of entry squares is 0.9999999999999999\n",
            "Is it valid? True\n",
            "[(-0.37804981419578415-0.28834307862390307j), (0.4805717977065052+0.736876756483308j)]\n",
            "summation of entry squares is 0.9999999999999998\n",
            "Is it valid? True\n",
            "[(-0.17238260432509367+0.029979583360885798j), (0.7569844798623678-0.629571250578603j)]\n",
            "summation of entry squares is 0.9999999999999998\n",
            "Is it valid? True\n"
          ]
        }
      ],
      "source": [
        "for i in range(10):\n",
        "    initial_state = random_complex_quantum_state()\n",
        "    new_state = [0,0]\n",
        "    new_state[0] = initial_state[0] * (1/(2**0.5)) + initial_state[1] * (1/(2**0.5))\n",
        "    new_state[1] = initial_state[0] * (1/(2**0.5)) + initial_state[1] * (-1/(2**0.5))\n",
        "    print(new_state)\n",
        "    print(\"Is it valid?\",is_quantum_state(new_state))"
      ]
    },
    {
      "cell_type": "markdown",
      "metadata": {
        "id": "bJAtlsaetOcK"
      },
      "source": [
        "<a name=\"task4\"></a>\n",
        "<h3> Task 4</h3>\n",
        "\n",
        "Repeat Task 2 with the following two basic single-qubit unitary operators.\n",
        "\n",
        "$\n",
        "S = \\S ~~ \\mbox{ and } ~~ T = \\T.\n",
        "$"
      ]
    },
    {
      "cell_type": "markdown",
      "metadata": {
        "id": "y5kLwfc0tOcK"
      },
      "source": [
        "<h3> Solution </h3>"
      ]
    },
    {
      "cell_type": "code",
      "execution_count": 9,
      "metadata": {
        "id": "E5zag0vptOcK"
      },
      "outputs": [],
      "source": [
        "# random_complex_quantum_state_file = path_files+\"random_complex_quantum_state.py\"\n",
        "# %run $random_complex_quantum_state_file      # same code as the next one\n",
        "from random import randrange\n",
        "def random_complex_quantum_state():\n",
        "    # quantum state\n",
        "    quantum_state=[0,0]\n",
        "    length_square = 0\n",
        "    while length_square == 0:\n",
        "        first_entry_real = randrange(-100,101)\n",
        "        first_entry_imag = randrange(-100,101)\n",
        "        second_entry_real = randrange(-100,101)\n",
        "        second_entry_imag = randrange(-100,101)\n",
        "        length_square = first_entry_real**2+first_entry_imag**2+second_entry_real**2+second_entry_imag**2\n",
        "    first_entry_real = first_entry_real / length_square**0.5\n",
        "    first_entry_imag = first_entry_imag / length_square**0.5\n",
        "    second_entry_real = second_entry_real / length_square**0.5\n",
        "    second_entry_imag = second_entry_imag / length_square**0.5\n",
        "    quantum_state[0] = complex(first_entry_real, first_entry_imag)\n",
        "    quantum_state[1] = complex(second_entry_real, second_entry_imag)\n",
        "    return quantum_state"
      ]
    },
    {
      "cell_type": "code",
      "execution_count": 10,
      "metadata": {
        "id": "SJuFseGntOcK",
        "outputId": "1f29961e-7611-44d5-912b-8a5d065b6a5a",
        "colab": {
          "base_uri": "https://localhost:8080/"
        }
      },
      "outputs": [
        {
          "output_type": "stream",
          "name": "stdout",
          "text": [
            "[(-0.643750273331526+0.09796199811566701j), (0.6997285579690501-0.293885994347001j)]\n",
            "summation of entry squares is 1.0000000000000002\n",
            "Is it valid? True\n",
            "[(-0.34426277604059696-0.6885255520811939j), (0.05238781374530824-0.6361377383358857j)]\n",
            "summation of entry squares is 1.0\n",
            "Is it valid? True\n",
            "[(0.08873565094161139+0.6803066572190206j), (-0.6507281069051501-0.3253640534525751j)]\n",
            "summation of entry squares is 1.0\n",
            "Is it valid? True\n",
            "[(-0.5684708432103733+0.7013601312335775j), (0.08859285868213611-0.42081607874014654j)]\n",
            "summation of entry squares is 1.0\n",
            "Is it valid? True\n",
            "[(-0.6351628451408928+0.5246997416381288j), (0.5661234054516654-0.027615775875690994j)]\n",
            "summation of entry squares is 1.0000000000000002\n",
            "Is it valid? True\n",
            "[(0.39941150919713303-0.6425315582736488j), (-0.12156002453825789+0.6425315582736488j)]\n",
            "summation of entry squares is 1.0\n",
            "Is it valid? True\n",
            "[(0.6733673519904658+0.0928782554469608j), (0.5263101141994445-0.5108304049582844j)]\n",
            "summation of entry squares is 0.9999999999999998\n",
            "Is it valid? True\n",
            "[(-0.224196086938067-0.10088823912213014j), (0.9640431738336881-0.10088823912213014j)]\n",
            "summation of entry squares is 1.0\n",
            "Is it valid? True\n",
            "[(-0.184769596816516-0.3191474854103458j), (-0.5039170822268618-0.7810714774516359j)]\n",
            "summation of entry squares is 0.9999999999999998\n",
            "Is it valid? True\n",
            "[(-0.4296439349549621-0.6444659024324432j), (0.17746162530748436-0.6071055602624464j)]\n",
            "summation of entry squares is 1.0\n",
            "Is it valid? True\n"
          ]
        }
      ],
      "source": [
        "# is_quantum_state_file = path_files+\"is_quantum_state.py\"\n",
        "# %run $is_quantum_state_file      # same code as the next one\n",
        "\n",
        "# testing whether a given quantum state is valid\n",
        "def is_quantum_state(quantum_state):\n",
        "    length_square = 0\n",
        "    for i in range(len(quantum_state)):\n",
        "        length_square += abs(quantum_state[i])**2\n",
        "    print(\"summation of entry squares is\",length_square)\n",
        "    # there might be precision problem\n",
        "    # the length may be very close to 1 but not exactly 1\n",
        "    # so we use the following trick\n",
        "    if (length_square - 1)**2 < 0.00000001: return True\n",
        "    return False\n",
        "for i in range(10):\n",
        "    new_state = random_complex_quantum_state()\n",
        "    print(new_state)\n",
        "    print(\"Is it valid?\",is_quantum_state(new_state))\n"
      ]
    },
    {
      "cell_type": "markdown",
      "metadata": {
        "id": "sqYhBlQutOcK"
      },
      "source": [
        "Apply the operators $S$ and $T$:"
      ]
    },
    {
      "cell_type": "code",
      "execution_count": 11,
      "metadata": {
        "id": "NST32964tOcK",
        "outputId": "e8ba1d1b-1f6c-4e0b-cbcd-8746a3a6b1b7",
        "colab": {
          "base_uri": "https://localhost:8080/"
        }
      },
      "outputs": [
        {
          "output_type": "stream",
          "name": "stdout",
          "text": [
            "First operator:\n",
            "[(0.5878399177170479-0.0097973319619508j), (0.2351359670868192-0.7739892249941132j)]\n",
            "summation of entry squares is 1.0\n",
            "Is it valid? True\n",
            "[(-0.9172721214940268+0.01079143672345914j), (-0.3345345384272333-0.21582873446918277j)]\n",
            "summation of entry squares is 1.0000000000000002\n",
            "Is it valid? True\n",
            "[(0.34187040335385305-0.09767725810110087j), (-0.7814180648088069+0.5128056050307795j)]\n",
            "summation of entry squares is 0.9999999999999998\n",
            "Is it valid? True\n",
            "[(-0.38411438354886274-0.7020021492444732j), (-0.5165676192553671-0.3046424421249601j)]\n",
            "summation of entry squares is 1.0\n",
            "Is it valid? True\n",
            "[(-0.06732560010702143+0.6956978677725548j), (0.5685272897926255-0.4338760895785826j)]\n",
            "summation of entry squares is 1.0\n",
            "Is it valid? True\n",
            "[(0.6047965553176661+0.35667489159759797j), (-0.4419667135013714-0.5582737433701533j)]\n",
            "summation of entry squares is 1.0\n",
            "Is it valid? True\n",
            "[(0.09264328199585975+0.34530677834820456j), (-0.5895481581554711+0.7243020228767217j)]\n",
            "summation of entry squares is 1.0\n",
            "Is it valid? True\n",
            "[(0.4605329889234857+0.4402153570592143j), (-0.6230740438376571+0.4537604449687285j)]\n",
            "summation of entry squares is 1.0\n",
            "Is it valid? True\n",
            "[(0.37333930864863313+0.22924343513512563j), (-0.6156823686486231-0.654981243243216j)]\n",
            "summation of entry squares is 1.0\n",
            "Is it valid? True\n",
            "[(0.16090359734182594+0.7964728068420384j), (0.5470722309622081+0.20112949667728242j)]\n",
            "summation of entry squares is 1.0\n",
            "Is it valid? True\n",
            "Second operator:\n",
            "[(0.8082491450986278-0.2583064278150254j), (0.32405685387949296-0.41832793864443635j)]\n",
            "summation of entry squares is 1.0\n",
            "Is it valid? True\n",
            "[(-0.36759504581789804-0.6616710824722164j), (-0.09241918209010319+0.6469342746307225j)]\n",
            "summation of entry squares is 0.9999999999999999\n",
            "Is it valid? True\n",
            "[(-0.9198491220167341+0.04043292844029601j), (-0.1858375862418642-0.3430847746003647j)]\n",
            "summation of entry squares is 1.0\n",
            "Is it valid? True\n",
            "[(0.36469308921056254-0.6078218153509376j), (-0.608325127994991-0.3570604012144513j)]\n",
            "summation of entry squares is 0.9999999999999998\n",
            "Is it valid? True\n",
            "[(-0.06560904417401638+0.5904813975661475j), (-0.7074871506498747+0.38273895035157157j)]\n",
            "summation of entry squares is 1.0\n",
            "Is it valid? True\n",
            "[(-0.12866829448973877+0.03216707362243469j), (-0.9628951993158373-0.23503741085662166j)]\n",
            "summation of entry squares is 0.9999999999999998\n",
            "Is it valid? True\n",
            "[(0.19618860395296597-0.6030983010405991j), (-0.7090454937051722+0.3082806494370314j)]\n",
            "summation of entry squares is 1.0\n",
            "Is it valid? True\n",
            "[(-0.3615297908008471-0.5005797103396344j), (0.47195107694073757-0.6292681025876501j)]\n",
            "summation of entry squares is 1.0\n",
            "Is it valid? True\n",
            "[(-0.12914990391200273+0.6780369955380143j), (0.07990742624004715-0.7191668361604242j)]\n",
            "summation of entry squares is 0.9999999999999998\n",
            "Is it valid? True\n",
            "[(0.3811816603576311+0.4537876909019418j), (-0.042783513794099726+0.804330059329075j)]\n",
            "summation of entry squares is 1.0\n",
            "Is it valid? True\n"
          ]
        }
      ],
      "source": [
        "print('First operator:')\n",
        "for i in range(10):\n",
        "    initial_state = random_complex_quantum_state()\n",
        "    new_state = [0,0]\n",
        "    new_state[0] = initial_state[0] * 1 + initial_state[1] * 0\n",
        "    new_state[1] = initial_state[0] * 0 + initial_state[1] * complex(0,1)\n",
        "    print(new_state)\n",
        "    print(\"Is it valid?\",is_quantum_state(new_state))\n",
        "\n",
        "# e^(i*pi/4) = 1/sqrt(2) * (1+i)\n",
        "print('Second operator:')\n",
        "for i in range(10):\n",
        "    initial_state = random_complex_quantum_state()\n",
        "    new_state = [0,0]\n",
        "    new_state[0] = initial_state[0] * 1 + initial_state[1] * 0\n",
        "    new_state[1] = initial_state[0] * 0 + initial_state[1] * complex(1/(2**0.5),1/(2**0.5))\n",
        "    print(new_state)\n",
        "    print(\"Is it valid?\",is_quantum_state(new_state))"
      ]
    }
  ],
  "metadata": {
    "kernelspec": {
      "display_name": "Python 3 (ipykernel)",
      "language": "python",
      "name": "python3"
    },
    "language_info": {
      "codemirror_mode": {
        "name": "ipython",
        "version": 3
      },
      "file_extension": ".py",
      "mimetype": "text/x-python",
      "name": "python",
      "nbconvert_exporter": "python",
      "pygments_lexer": "ipython3",
      "version": "3.11.4"
    },
    "colab": {
      "provenance": [],
      "collapsed_sections": [
        "QYP_2eCrtOcF"
      ],
      "include_colab_link": true
    }
  },
  "nbformat": 4,
  "nbformat_minor": 0
}