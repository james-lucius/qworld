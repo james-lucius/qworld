{
  "cells": [
    {
      "cell_type": "markdown",
      "metadata": {
        "id": "view-in-github",
        "colab_type": "text"
      },
      "source": [
        "<a href=\"https://colab.research.google.com/github/james-lucius/qworld/blob/main/QB25_Q76_Quantum_Teleportation_Solutions.ipynb\" target=\"_parent\"><img src=\"https://colab.research.google.com/assets/colab-badge.svg\" alt=\"Open In Colab\"/></a>"
      ]
    },
    {
      "cell_type": "markdown",
      "metadata": {
        "id": "9o5IMsS9VWCC"
      },
      "source": [
        "<a href=\"https://qworld.net\" target=\"_blank\" align=\"left\"><img src=\"https://gitlab.com/qworld/qeducation/qbook101/raw/main/qworld/images/header.jpg\" align=\"left\"></a>\n",
        "$ \\newcommand{\\bra}[1]{\\langle #1|} $\n",
        "$ \\newcommand{\\ket}[1]{|#1\\rangle} $\n",
        "$ \\newcommand{\\braket}[2]{\\langle #1|#2\\rangle} $\n",
        "$ \\newcommand{\\dot}[2]{ #1 \\cdot #2} $\n",
        "$ \\newcommand{\\biginner}[2]{\\left\\langle #1,#2\\right\\rangle} $\n",
        "$ \\newcommand{\\mymatrix}[2]{\\left( \\begin{array}{#1} #2\\end{array} \\right)} $\n",
        "$ \\newcommand{\\myvector}[1]{\\mymatrix{c}{#1}} $\n",
        "$ \\newcommand{\\myrvector}[1]{\\mymatrix{r}{#1}} $\n",
        "$ \\newcommand{\\mypar}[1]{\\left( #1 \\right)} $\n",
        "$ \\newcommand{\\mybigpar}[1]{ \\Big( #1 \\Big)} $\n",
        "$ \\newcommand{\\sqrttwo}{\\frac{1}{\\sqrt{2}}} $\n",
        "$ \\newcommand{\\dsqrttwo}{\\dfrac{1}{\\sqrt{2}}} $\n",
        "$ \\newcommand{\\onehalf}{\\frac{1}{2}} $\n",
        "$ \\newcommand{\\donehalf}{\\dfrac{1}{2}} $\n",
        "$ \\newcommand{\\hadamard}{ \\mymatrix{rr}{ \\sqrttwo & \\sqrttwo \\\\ \\sqrttwo & -\\sqrttwo }} $\n",
        "$ \\newcommand{\\vzero}{\\myvector{1\\\\0}} $\n",
        "$ \\newcommand{\\vone}{\\myvector{0\\\\1}} $\n",
        "$ \\newcommand{\\stateplus}{\\myvector{ \\sqrttwo \\\\  \\sqrttwo } } $\n",
        "$ \\newcommand{\\stateminus}{ \\myrvector{ \\sqrttwo \\\\ -\\sqrttwo } } $\n",
        "$ \\newcommand{\\myarray}[2]{ \\begin{array}{#1}#2\\end{array}} $\n",
        "$ \\newcommand{\\X}{ \\mymatrix{cc}{0 & 1 \\\\ 1 & 0}  } $\n",
        "$ \\newcommand{\\I}{ \\mymatrix{rr}{1 & 0 \\\\ 0 & 1}  } $\n",
        "$ \\newcommand{\\Z}{ \\mymatrix{rr}{1 & 0 \\\\ 0 & -1}  } $\n",
        "$ \\newcommand{\\Htwo}{ \\mymatrix{rrrr}{ \\frac{1}{2} & \\frac{1}{2} & \\frac{1}{2} & \\frac{1}{2} \\\\ \\frac{1}{2} & -\\frac{1}{2} & \\frac{1}{2} & -\\frac{1}{2} \\\\ \\frac{1}{2} & \\frac{1}{2} & -\\frac{1}{2} & -\\frac{1}{2} \\\\ \\frac{1}{2} & -\\frac{1}{2} & -\\frac{1}{2} & \\frac{1}{2} } } $\n",
        "$ \\newcommand{\\CNOT}{ \\mymatrix{cccc}{1 & 0 & 0 & 0 \\\\ 0 & 1 & 0 & 0 \\\\ 0 & 0 & 0 & 1 \\\\ 0 & 0 & 1 & 0} } $\n",
        "$ \\newcommand{\\norm}[1]{ \\left\\lVert #1 \\right\\rVert } $\n",
        "$ \\newcommand{\\pstate}[1]{ \\lceil \\mspace{-1mu} #1 \\mspace{-1.5mu} \\rfloor } $\n",
        "$ \\newcommand{\\greenbit}[1] {\\mathbf{{\\color{green}#1}}} $\n",
        "$ \\newcommand{\\bluebit}[1] {\\mathbf{{\\color{blue}#1}}} $\n",
        "$ \\newcommand{\\redbit}[1] {\\mathbf{{\\color{red}#1}}} $\n",
        "$ \\newcommand{\\brownbit}[1] {\\mathbf{{\\color{brown}#1}}} $\n",
        "$ \\newcommand{\\blackbit}[1] {\\mathbf{{\\color{black}#1}}} $"
      ]
    },
    {
      "cell_type": "markdown",
      "metadata": {
        "id": "rv3fqUoyVWCF"
      },
      "source": [
        "_prepared by Abuzer Yakaryilmaz_"
      ]
    },
    {
      "cell_type": "markdown",
      "metadata": {
        "id": "FTIFtSsXVWCG"
      },
      "source": [
        "<font size=\"28px\" style=\"font-size:28px;\" align=\"left\"><b> <font color=\"blue\"> Solutions for </font>Quantum Teleportation </b></font>\n",
        "<br>\n",
        "<br><br>"
      ]
    },
    {
      "cell_type": "markdown",
      "metadata": {
        "jp-MarkdownHeadingCollapsed": true,
        "id": "Set1hh4qVWCG"
      },
      "source": [
        "##### <font color=\"#08b806\">Please execute the following cell, it is necessary to distinguish between your local environment and Google Colab's"
      ]
    },
    {
      "cell_type": "code",
      "execution_count": 1,
      "metadata": {
        "id": "L4kTCEuIVWCG",
        "outputId": "5b744929-155c-4682-fdf1-3e56bfdf8941",
        "colab": {
          "base_uri": "https://localhost:8080/"
        }
      },
      "outputs": [
        {
          "output_type": "stream",
          "name": "stdout",
          "text": [
            "Requirement already satisfied: qiskit==0.43.3 in /usr/local/lib/python3.11/dist-packages (from qiskit[visualization]==0.43.3) (0.43.3)\n",
            "Requirement already satisfied: qiskit-terra==0.24.2 in /usr/local/lib/python3.11/dist-packages (from qiskit==0.43.3->qiskit[visualization]==0.43.3) (0.24.2)\n",
            "Requirement already satisfied: qiskit-aer==0.12.2 in /usr/local/lib/python3.11/dist-packages (from qiskit==0.43.3->qiskit[visualization]==0.43.3) (0.12.2)\n",
            "Requirement already satisfied: qiskit-ibmq-provider==0.20.2 in /usr/local/lib/python3.11/dist-packages (from qiskit==0.43.3->qiskit[visualization]==0.43.3) (0.20.2)\n",
            "Requirement already satisfied: matplotlib>=2.1 in /usr/local/lib/python3.11/dist-packages (from qiskit[visualization]==0.43.3) (3.10.0)\n",
            "Requirement already satisfied: ipywidgets>=7.3.0 in /usr/local/lib/python3.11/dist-packages (from qiskit[visualization]==0.43.3) (7.7.1)\n",
            "Requirement already satisfied: pydot in /usr/local/lib/python3.11/dist-packages (from qiskit[visualization]==0.43.3) (3.0.4)\n",
            "Requirement already satisfied: pillow>=4.2.1 in /usr/local/lib/python3.11/dist-packages (from qiskit[visualization]==0.43.3) (11.2.1)\n",
            "Requirement already satisfied: pylatexenc>=1.4 in /usr/local/lib/python3.11/dist-packages (from qiskit[visualization]==0.43.3) (2.10)\n",
            "Requirement already satisfied: seaborn>=0.9.0 in /usr/local/lib/python3.11/dist-packages (from qiskit[visualization]==0.43.3) (0.13.2)\n",
            "Requirement already satisfied: pygments>=2.4 in /usr/local/lib/python3.11/dist-packages (from qiskit[visualization]==0.43.3) (2.19.1)\n",
            "Requirement already satisfied: numpy>=1.16.3 in /usr/local/lib/python3.11/dist-packages (from qiskit-aer==0.12.2->qiskit==0.43.3->qiskit[visualization]==0.43.3) (1.23.5)\n",
            "Requirement already satisfied: scipy>=1.0 in /usr/local/lib/python3.11/dist-packages (from qiskit-aer==0.12.2->qiskit==0.43.3->qiskit[visualization]==0.43.3) (1.15.3)\n",
            "Requirement already satisfied: requests>=2.19 in /usr/local/lib/python3.11/dist-packages (from qiskit-ibmq-provider==0.20.2->qiskit==0.43.3->qiskit[visualization]==0.43.3) (2.32.3)\n",
            "Requirement already satisfied: requests-ntlm<=1.1.0 in /usr/local/lib/python3.11/dist-packages (from qiskit-ibmq-provider==0.20.2->qiskit==0.43.3->qiskit[visualization]==0.43.3) (1.1.0)\n",
            "Requirement already satisfied: urllib3>=1.21.1 in /usr/local/lib/python3.11/dist-packages (from qiskit-ibmq-provider==0.20.2->qiskit==0.43.3->qiskit[visualization]==0.43.3) (2.4.0)\n",
            "Requirement already satisfied: python-dateutil>=2.8.0 in /usr/local/lib/python3.11/dist-packages (from qiskit-ibmq-provider==0.20.2->qiskit==0.43.3->qiskit[visualization]==0.43.3) (2.9.0.post0)\n",
            "Requirement already satisfied: websocket-client>=1.5.1 in /usr/local/lib/python3.11/dist-packages (from qiskit-ibmq-provider==0.20.2->qiskit==0.43.3->qiskit[visualization]==0.43.3) (1.8.0)\n",
            "Requirement already satisfied: websockets>=10.0 in /usr/local/lib/python3.11/dist-packages (from qiskit-ibmq-provider==0.20.2->qiskit==0.43.3->qiskit[visualization]==0.43.3) (15.0.1)\n",
            "Requirement already satisfied: rustworkx>=0.12.0 in /usr/local/lib/python3.11/dist-packages (from qiskit-terra==0.24.2->qiskit==0.43.3->qiskit[visualization]==0.43.3) (0.16.0)\n",
            "Requirement already satisfied: ply>=3.10 in /usr/local/lib/python3.11/dist-packages (from qiskit-terra==0.24.2->qiskit==0.43.3->qiskit[visualization]==0.43.3) (3.11)\n",
            "Requirement already satisfied: psutil>=5 in /usr/local/lib/python3.11/dist-packages (from qiskit-terra==0.24.2->qiskit==0.43.3->qiskit[visualization]==0.43.3) (5.9.5)\n",
            "Requirement already satisfied: sympy>=1.3 in /usr/local/lib/python3.11/dist-packages (from qiskit-terra==0.24.2->qiskit==0.43.3->qiskit[visualization]==0.43.3) (1.13.1)\n",
            "Requirement already satisfied: dill>=0.3 in /usr/local/lib/python3.11/dist-packages (from qiskit-terra==0.24.2->qiskit==0.43.3->qiskit[visualization]==0.43.3) (0.3.7)\n",
            "Requirement already satisfied: stevedore>=3.0.0 in /usr/local/lib/python3.11/dist-packages (from qiskit-terra==0.24.2->qiskit==0.43.3->qiskit[visualization]==0.43.3) (5.4.1)\n",
            "Requirement already satisfied: symengine<0.10,>=0.9 in /usr/local/lib/python3.11/dist-packages (from qiskit-terra==0.24.2->qiskit==0.43.3->qiskit[visualization]==0.43.3) (0.9.2)\n",
            "Requirement already satisfied: ipykernel>=4.5.1 in /usr/local/lib/python3.11/dist-packages (from ipywidgets>=7.3.0->qiskit[visualization]==0.43.3) (6.17.1)\n",
            "Requirement already satisfied: ipython-genutils~=0.2.0 in /usr/local/lib/python3.11/dist-packages (from ipywidgets>=7.3.0->qiskit[visualization]==0.43.3) (0.2.0)\n",
            "Requirement already satisfied: traitlets>=4.3.1 in /usr/local/lib/python3.11/dist-packages (from ipywidgets>=7.3.0->qiskit[visualization]==0.43.3) (5.7.1)\n",
            "Requirement already satisfied: widgetsnbextension~=3.6.0 in /usr/local/lib/python3.11/dist-packages (from ipywidgets>=7.3.0->qiskit[visualization]==0.43.3) (3.6.10)\n",
            "Requirement already satisfied: ipython>=4.0.0 in /usr/local/lib/python3.11/dist-packages (from ipywidgets>=7.3.0->qiskit[visualization]==0.43.3) (7.34.0)\n",
            "Requirement already satisfied: jupyterlab-widgets>=1.0.0 in /usr/local/lib/python3.11/dist-packages (from ipywidgets>=7.3.0->qiskit[visualization]==0.43.3) (3.0.15)\n",
            "Requirement already satisfied: contourpy>=1.0.1 in /usr/local/lib/python3.11/dist-packages (from matplotlib>=2.1->qiskit[visualization]==0.43.3) (1.3.2)\n",
            "Requirement already satisfied: cycler>=0.10 in /usr/local/lib/python3.11/dist-packages (from matplotlib>=2.1->qiskit[visualization]==0.43.3) (0.12.1)\n",
            "Requirement already satisfied: fonttools>=4.22.0 in /usr/local/lib/python3.11/dist-packages (from matplotlib>=2.1->qiskit[visualization]==0.43.3) (4.58.4)\n",
            "Requirement already satisfied: kiwisolver>=1.3.1 in /usr/local/lib/python3.11/dist-packages (from matplotlib>=2.1->qiskit[visualization]==0.43.3) (1.4.8)\n",
            "Requirement already satisfied: packaging>=20.0 in /usr/local/lib/python3.11/dist-packages (from matplotlib>=2.1->qiskit[visualization]==0.43.3) (24.2)\n",
            "Requirement already satisfied: pyparsing>=2.3.1 in /usr/local/lib/python3.11/dist-packages (from matplotlib>=2.1->qiskit[visualization]==0.43.3) (3.2.3)\n",
            "Requirement already satisfied: pandas>=1.2 in /usr/local/lib/python3.11/dist-packages (from seaborn>=0.9.0->qiskit[visualization]==0.43.3) (2.2.2)\n",
            "Requirement already satisfied: debugpy>=1.0 in /usr/local/lib/python3.11/dist-packages (from ipykernel>=4.5.1->ipywidgets>=7.3.0->qiskit[visualization]==0.43.3) (1.8.0)\n",
            "Requirement already satisfied: jupyter-client>=6.1.12 in /usr/local/lib/python3.11/dist-packages (from ipykernel>=4.5.1->ipywidgets>=7.3.0->qiskit[visualization]==0.43.3) (6.1.12)\n",
            "Requirement already satisfied: matplotlib-inline>=0.1 in /usr/local/lib/python3.11/dist-packages (from ipykernel>=4.5.1->ipywidgets>=7.3.0->qiskit[visualization]==0.43.3) (0.1.7)\n",
            "Requirement already satisfied: nest-asyncio in /usr/local/lib/python3.11/dist-packages (from ipykernel>=4.5.1->ipywidgets>=7.3.0->qiskit[visualization]==0.43.3) (1.6.0)\n",
            "Requirement already satisfied: pyzmq>=17 in /usr/local/lib/python3.11/dist-packages (from ipykernel>=4.5.1->ipywidgets>=7.3.0->qiskit[visualization]==0.43.3) (24.0.1)\n",
            "Requirement already satisfied: tornado>=6.1 in /usr/local/lib/python3.11/dist-packages (from ipykernel>=4.5.1->ipywidgets>=7.3.0->qiskit[visualization]==0.43.3) (6.4.2)\n",
            "Requirement already satisfied: setuptools>=18.5 in /usr/local/lib/python3.11/dist-packages (from ipython>=4.0.0->ipywidgets>=7.3.0->qiskit[visualization]==0.43.3) (75.2.0)\n",
            "Requirement already satisfied: jedi>=0.16 in /usr/local/lib/python3.11/dist-packages (from ipython>=4.0.0->ipywidgets>=7.3.0->qiskit[visualization]==0.43.3) (0.19.2)\n",
            "Requirement already satisfied: decorator in /usr/local/lib/python3.11/dist-packages (from ipython>=4.0.0->ipywidgets>=7.3.0->qiskit[visualization]==0.43.3) (4.4.2)\n",
            "Requirement already satisfied: pickleshare in /usr/local/lib/python3.11/dist-packages (from ipython>=4.0.0->ipywidgets>=7.3.0->qiskit[visualization]==0.43.3) (0.7.5)\n",
            "Requirement already satisfied: prompt-toolkit!=3.0.0,!=3.0.1,<3.1.0,>=2.0.0 in /usr/local/lib/python3.11/dist-packages (from ipython>=4.0.0->ipywidgets>=7.3.0->qiskit[visualization]==0.43.3) (3.0.51)\n",
            "Requirement already satisfied: backcall in /usr/local/lib/python3.11/dist-packages (from ipython>=4.0.0->ipywidgets>=7.3.0->qiskit[visualization]==0.43.3) (0.2.0)\n",
            "Requirement already satisfied: pexpect>4.3 in /usr/local/lib/python3.11/dist-packages (from ipython>=4.0.0->ipywidgets>=7.3.0->qiskit[visualization]==0.43.3) (4.9.0)\n",
            "Requirement already satisfied: pytz>=2020.1 in /usr/local/lib/python3.11/dist-packages (from pandas>=1.2->seaborn>=0.9.0->qiskit[visualization]==0.43.3) (2025.2)\n",
            "Requirement already satisfied: tzdata>=2022.7 in /usr/local/lib/python3.11/dist-packages (from pandas>=1.2->seaborn>=0.9.0->qiskit[visualization]==0.43.3) (2025.2)\n",
            "Requirement already satisfied: six>=1.5 in /usr/local/lib/python3.11/dist-packages (from python-dateutil>=2.8.0->qiskit-ibmq-provider==0.20.2->qiskit==0.43.3->qiskit[visualization]==0.43.3) (1.17.0)\n",
            "Requirement already satisfied: charset-normalizer<4,>=2 in /usr/local/lib/python3.11/dist-packages (from requests>=2.19->qiskit-ibmq-provider==0.20.2->qiskit==0.43.3->qiskit[visualization]==0.43.3) (3.4.2)\n",
            "Requirement already satisfied: idna<4,>=2.5 in /usr/local/lib/python3.11/dist-packages (from requests>=2.19->qiskit-ibmq-provider==0.20.2->qiskit==0.43.3->qiskit[visualization]==0.43.3) (3.10)\n",
            "Requirement already satisfied: certifi>=2017.4.17 in /usr/local/lib/python3.11/dist-packages (from requests>=2.19->qiskit-ibmq-provider==0.20.2->qiskit==0.43.3->qiskit[visualization]==0.43.3) (2025.6.15)\n",
            "Requirement already satisfied: ntlm-auth>=1.0.2 in /usr/local/lib/python3.11/dist-packages (from requests-ntlm<=1.1.0->qiskit-ibmq-provider==0.20.2->qiskit==0.43.3->qiskit[visualization]==0.43.3) (1.5.0)\n",
            "Requirement already satisfied: cryptography>=1.3 in /usr/local/lib/python3.11/dist-packages (from requests-ntlm<=1.1.0->qiskit-ibmq-provider==0.20.2->qiskit==0.43.3->qiskit[visualization]==0.43.3) (43.0.3)\n",
            "Requirement already satisfied: pbr>=2.0.0 in /usr/local/lib/python3.11/dist-packages (from stevedore>=3.0.0->qiskit-terra==0.24.2->qiskit==0.43.3->qiskit[visualization]==0.43.3) (6.1.1)\n",
            "Requirement already satisfied: mpmath<1.4,>=1.1.0 in /usr/local/lib/python3.11/dist-packages (from sympy>=1.3->qiskit-terra==0.24.2->qiskit==0.43.3->qiskit[visualization]==0.43.3) (1.3.0)\n",
            "Requirement already satisfied: notebook>=4.4.1 in /usr/local/lib/python3.11/dist-packages (from widgetsnbextension~=3.6.0->ipywidgets>=7.3.0->qiskit[visualization]==0.43.3) (6.5.7)\n",
            "Requirement already satisfied: cffi>=1.12 in /usr/local/lib/python3.11/dist-packages (from cryptography>=1.3->requests-ntlm<=1.1.0->qiskit-ibmq-provider==0.20.2->qiskit==0.43.3->qiskit[visualization]==0.43.3) (1.17.1)\n",
            "Requirement already satisfied: parso<0.9.0,>=0.8.4 in /usr/local/lib/python3.11/dist-packages (from jedi>=0.16->ipython>=4.0.0->ipywidgets>=7.3.0->qiskit[visualization]==0.43.3) (0.8.4)\n",
            "Requirement already satisfied: jupyter-core>=4.6.0 in /usr/local/lib/python3.11/dist-packages (from jupyter-client>=6.1.12->ipykernel>=4.5.1->ipywidgets>=7.3.0->qiskit[visualization]==0.43.3) (5.8.1)\n",
            "Requirement already satisfied: jinja2 in /usr/local/lib/python3.11/dist-packages (from notebook>=4.4.1->widgetsnbextension~=3.6.0->ipywidgets>=7.3.0->qiskit[visualization]==0.43.3) (3.1.6)\n",
            "Requirement already satisfied: argon2-cffi in /usr/local/lib/python3.11/dist-packages (from notebook>=4.4.1->widgetsnbextension~=3.6.0->ipywidgets>=7.3.0->qiskit[visualization]==0.43.3) (25.1.0)\n",
            "Requirement already satisfied: nbformat in /usr/local/lib/python3.11/dist-packages (from notebook>=4.4.1->widgetsnbextension~=3.6.0->ipywidgets>=7.3.0->qiskit[visualization]==0.43.3) (5.10.4)\n",
            "Requirement already satisfied: nbconvert>=5 in /usr/local/lib/python3.11/dist-packages (from notebook>=4.4.1->widgetsnbextension~=3.6.0->ipywidgets>=7.3.0->qiskit[visualization]==0.43.3) (7.16.6)\n",
            "Requirement already satisfied: Send2Trash>=1.8.0 in /usr/local/lib/python3.11/dist-packages (from notebook>=4.4.1->widgetsnbextension~=3.6.0->ipywidgets>=7.3.0->qiskit[visualization]==0.43.3) (1.8.3)\n",
            "Requirement already satisfied: terminado>=0.8.3 in /usr/local/lib/python3.11/dist-packages (from notebook>=4.4.1->widgetsnbextension~=3.6.0->ipywidgets>=7.3.0->qiskit[visualization]==0.43.3) (0.18.1)\n",
            "Requirement already satisfied: prometheus-client in /usr/local/lib/python3.11/dist-packages (from notebook>=4.4.1->widgetsnbextension~=3.6.0->ipywidgets>=7.3.0->qiskit[visualization]==0.43.3) (0.22.1)\n",
            "Requirement already satisfied: nbclassic>=0.4.7 in /usr/local/lib/python3.11/dist-packages (from notebook>=4.4.1->widgetsnbextension~=3.6.0->ipywidgets>=7.3.0->qiskit[visualization]==0.43.3) (1.3.1)\n",
            "Requirement already satisfied: ptyprocess>=0.5 in /usr/local/lib/python3.11/dist-packages (from pexpect>4.3->ipython>=4.0.0->ipywidgets>=7.3.0->qiskit[visualization]==0.43.3) (0.7.0)\n",
            "Requirement already satisfied: wcwidth in /usr/local/lib/python3.11/dist-packages (from prompt-toolkit!=3.0.0,!=3.0.1,<3.1.0,>=2.0.0->ipython>=4.0.0->ipywidgets>=7.3.0->qiskit[visualization]==0.43.3) (0.2.13)\n",
            "Requirement already satisfied: pycparser in /usr/local/lib/python3.11/dist-packages (from cffi>=1.12->cryptography>=1.3->requests-ntlm<=1.1.0->qiskit-ibmq-provider==0.20.2->qiskit==0.43.3->qiskit[visualization]==0.43.3) (2.22)\n",
            "Requirement already satisfied: platformdirs>=2.5 in /usr/local/lib/python3.11/dist-packages (from jupyter-core>=4.6.0->jupyter-client>=6.1.12->ipykernel>=4.5.1->ipywidgets>=7.3.0->qiskit[visualization]==0.43.3) (4.3.8)\n",
            "Requirement already satisfied: notebook-shim>=0.2.3 in /usr/local/lib/python3.11/dist-packages (from nbclassic>=0.4.7->notebook>=4.4.1->widgetsnbextension~=3.6.0->ipywidgets>=7.3.0->qiskit[visualization]==0.43.3) (0.2.4)\n",
            "Requirement already satisfied: beautifulsoup4 in /usr/local/lib/python3.11/dist-packages (from nbconvert>=5->notebook>=4.4.1->widgetsnbextension~=3.6.0->ipywidgets>=7.3.0->qiskit[visualization]==0.43.3) (4.13.4)\n",
            "Requirement already satisfied: bleach!=5.0.0 in /usr/local/lib/python3.11/dist-packages (from bleach[css]!=5.0.0->nbconvert>=5->notebook>=4.4.1->widgetsnbextension~=3.6.0->ipywidgets>=7.3.0->qiskit[visualization]==0.43.3) (6.2.0)\n",
            "Requirement already satisfied: defusedxml in /usr/local/lib/python3.11/dist-packages (from nbconvert>=5->notebook>=4.4.1->widgetsnbextension~=3.6.0->ipywidgets>=7.3.0->qiskit[visualization]==0.43.3) (0.7.1)\n",
            "Requirement already satisfied: jupyterlab-pygments in /usr/local/lib/python3.11/dist-packages (from nbconvert>=5->notebook>=4.4.1->widgetsnbextension~=3.6.0->ipywidgets>=7.3.0->qiskit[visualization]==0.43.3) (0.3.0)\n",
            "Requirement already satisfied: markupsafe>=2.0 in /usr/local/lib/python3.11/dist-packages (from nbconvert>=5->notebook>=4.4.1->widgetsnbextension~=3.6.0->ipywidgets>=7.3.0->qiskit[visualization]==0.43.3) (3.0.2)\n",
            "Requirement already satisfied: mistune<4,>=2.0.3 in /usr/local/lib/python3.11/dist-packages (from nbconvert>=5->notebook>=4.4.1->widgetsnbextension~=3.6.0->ipywidgets>=7.3.0->qiskit[visualization]==0.43.3) (3.1.3)\n",
            "Requirement already satisfied: nbclient>=0.5.0 in /usr/local/lib/python3.11/dist-packages (from nbconvert>=5->notebook>=4.4.1->widgetsnbextension~=3.6.0->ipywidgets>=7.3.0->qiskit[visualization]==0.43.3) (0.10.2)\n",
            "Requirement already satisfied: pandocfilters>=1.4.1 in /usr/local/lib/python3.11/dist-packages (from nbconvert>=5->notebook>=4.4.1->widgetsnbextension~=3.6.0->ipywidgets>=7.3.0->qiskit[visualization]==0.43.3) (1.5.1)\n",
            "Requirement already satisfied: fastjsonschema>=2.15 in /usr/local/lib/python3.11/dist-packages (from nbformat->notebook>=4.4.1->widgetsnbextension~=3.6.0->ipywidgets>=7.3.0->qiskit[visualization]==0.43.3) (2.21.1)\n",
            "Requirement already satisfied: jsonschema>=2.6 in /usr/local/lib/python3.11/dist-packages (from nbformat->notebook>=4.4.1->widgetsnbextension~=3.6.0->ipywidgets>=7.3.0->qiskit[visualization]==0.43.3) (4.24.0)\n",
            "Requirement already satisfied: argon2-cffi-bindings in /usr/local/lib/python3.11/dist-packages (from argon2-cffi->notebook>=4.4.1->widgetsnbextension~=3.6.0->ipywidgets>=7.3.0->qiskit[visualization]==0.43.3) (21.2.0)\n",
            "Requirement already satisfied: webencodings in /usr/local/lib/python3.11/dist-packages (from bleach!=5.0.0->bleach[css]!=5.0.0->nbconvert>=5->notebook>=4.4.1->widgetsnbextension~=3.6.0->ipywidgets>=7.3.0->qiskit[visualization]==0.43.3) (0.5.1)\n",
            "Requirement already satisfied: tinycss2<1.5,>=1.1.0 in /usr/local/lib/python3.11/dist-packages (from bleach[css]!=5.0.0->nbconvert>=5->notebook>=4.4.1->widgetsnbextension~=3.6.0->ipywidgets>=7.3.0->qiskit[visualization]==0.43.3) (1.4.0)\n",
            "Requirement already satisfied: attrs>=22.2.0 in /usr/local/lib/python3.11/dist-packages (from jsonschema>=2.6->nbformat->notebook>=4.4.1->widgetsnbextension~=3.6.0->ipywidgets>=7.3.0->qiskit[visualization]==0.43.3) (25.3.0)\n",
            "Requirement already satisfied: jsonschema-specifications>=2023.03.6 in /usr/local/lib/python3.11/dist-packages (from jsonschema>=2.6->nbformat->notebook>=4.4.1->widgetsnbextension~=3.6.0->ipywidgets>=7.3.0->qiskit[visualization]==0.43.3) (2025.4.1)\n",
            "Requirement already satisfied: referencing>=0.28.4 in /usr/local/lib/python3.11/dist-packages (from jsonschema>=2.6->nbformat->notebook>=4.4.1->widgetsnbextension~=3.6.0->ipywidgets>=7.3.0->qiskit[visualization]==0.43.3) (0.36.2)\n",
            "Requirement already satisfied: rpds-py>=0.7.1 in /usr/local/lib/python3.11/dist-packages (from jsonschema>=2.6->nbformat->notebook>=4.4.1->widgetsnbextension~=3.6.0->ipywidgets>=7.3.0->qiskit[visualization]==0.43.3) (0.25.1)\n",
            "Requirement already satisfied: jupyter-server<3,>=1.8 in /usr/local/lib/python3.11/dist-packages (from notebook-shim>=0.2.3->nbclassic>=0.4.7->notebook>=4.4.1->widgetsnbextension~=3.6.0->ipywidgets>=7.3.0->qiskit[visualization]==0.43.3) (1.16.0)\n",
            "Requirement already satisfied: soupsieve>1.2 in /usr/local/lib/python3.11/dist-packages (from beautifulsoup4->nbconvert>=5->notebook>=4.4.1->widgetsnbextension~=3.6.0->ipywidgets>=7.3.0->qiskit[visualization]==0.43.3) (2.7)\n",
            "Requirement already satisfied: typing-extensions>=4.0.0 in /usr/local/lib/python3.11/dist-packages (from beautifulsoup4->nbconvert>=5->notebook>=4.4.1->widgetsnbextension~=3.6.0->ipywidgets>=7.3.0->qiskit[visualization]==0.43.3) (4.14.0)\n",
            "Requirement already satisfied: anyio>=3.1.0 in /usr/local/lib/python3.11/dist-packages (from jupyter-server<3,>=1.8->notebook-shim>=0.2.3->nbclassic>=0.4.7->notebook>=4.4.1->widgetsnbextension~=3.6.0->ipywidgets>=7.3.0->qiskit[visualization]==0.43.3) (4.9.0)\n",
            "Requirement already satisfied: sniffio>=1.1 in /usr/local/lib/python3.11/dist-packages (from anyio>=3.1.0->jupyter-server<3,>=1.8->notebook-shim>=0.2.3->nbclassic>=0.4.7->notebook>=4.4.1->widgetsnbextension~=3.6.0->ipywidgets>=7.3.0->qiskit[visualization]==0.43.3) (1.3.1)\n",
            "Requirement already satisfied: qiskit-aer in /usr/local/lib/python3.11/dist-packages (0.12.2)\n",
            "Requirement already satisfied: qiskit-terra>=0.21.0 in /usr/local/lib/python3.11/dist-packages (from qiskit-aer) (0.24.2)\n",
            "Requirement already satisfied: numpy>=1.16.3 in /usr/local/lib/python3.11/dist-packages (from qiskit-aer) (1.23.5)\n",
            "Requirement already satisfied: scipy>=1.0 in /usr/local/lib/python3.11/dist-packages (from qiskit-aer) (1.15.3)\n",
            "Requirement already satisfied: rustworkx>=0.12.0 in /usr/local/lib/python3.11/dist-packages (from qiskit-terra>=0.21.0->qiskit-aer) (0.16.0)\n",
            "Requirement already satisfied: ply>=3.10 in /usr/local/lib/python3.11/dist-packages (from qiskit-terra>=0.21.0->qiskit-aer) (3.11)\n",
            "Requirement already satisfied: psutil>=5 in /usr/local/lib/python3.11/dist-packages (from qiskit-terra>=0.21.0->qiskit-aer) (5.9.5)\n",
            "Requirement already satisfied: sympy>=1.3 in /usr/local/lib/python3.11/dist-packages (from qiskit-terra>=0.21.0->qiskit-aer) (1.13.1)\n",
            "Requirement already satisfied: dill>=0.3 in /usr/local/lib/python3.11/dist-packages (from qiskit-terra>=0.21.0->qiskit-aer) (0.3.7)\n",
            "Requirement already satisfied: python-dateutil>=2.8.0 in /usr/local/lib/python3.11/dist-packages (from qiskit-terra>=0.21.0->qiskit-aer) (2.9.0.post0)\n",
            "Requirement already satisfied: stevedore>=3.0.0 in /usr/local/lib/python3.11/dist-packages (from qiskit-terra>=0.21.0->qiskit-aer) (5.4.1)\n",
            "Requirement already satisfied: symengine<0.10,>=0.9 in /usr/local/lib/python3.11/dist-packages (from qiskit-terra>=0.21.0->qiskit-aer) (0.9.2)\n",
            "Requirement already satisfied: six>=1.5 in /usr/local/lib/python3.11/dist-packages (from python-dateutil>=2.8.0->qiskit-terra>=0.21.0->qiskit-aer) (1.17.0)\n",
            "Requirement already satisfied: pbr>=2.0.0 in /usr/local/lib/python3.11/dist-packages (from stevedore>=3.0.0->qiskit-terra>=0.21.0->qiskit-aer) (6.1.1)\n",
            "Requirement already satisfied: mpmath<1.4,>=1.1.0 in /usr/local/lib/python3.11/dist-packages (from sympy>=1.3->qiskit-terra>=0.21.0->qiskit-aer) (1.3.0)\n",
            "Requirement already satisfied: setuptools in /usr/local/lib/python3.11/dist-packages (from pbr>=2.0.0->stevedore>=3.0.0->qiskit-terra>=0.21.0->qiskit-aer) (75.2.0)\n"
          ]
        }
      ],
      "source": [
        "import IPython\n",
        "\n",
        "def in_colab():\n",
        "    try:\n",
        "        import google.colab\n",
        "        return True\n",
        "    except:\n",
        "        return False\n",
        "\n",
        "if in_colab():\n",
        "    !pip install qiskit[visualization]==0.43.3\n",
        "    !pip install qiskit-aer"
      ]
    },
    {
      "cell_type": "markdown",
      "metadata": {
        "id": "QEcEVruZVWCH"
      },
      "source": [
        "<a name=\"task1\"></a>\n",
        "### Task 1\n",
        "\n",
        "Calculate the new quantum state after this CNOT operator."
      ]
    },
    {
      "cell_type": "markdown",
      "metadata": {
        "id": "4tOF9ZtWVWCH"
      },
      "source": [
        "<h3>Solution</h3>"
      ]
    },
    {
      "cell_type": "markdown",
      "metadata": {
        "id": "ICMvMrcKVWCI"
      },
      "source": [
        "The state before CNOT is $ \\sqrttwo \\big( a\\ket{000} + a \\ket{011} + b\\ket{100} + b \\ket{111} \\big) $."
      ]
    },
    {
      "cell_type": "markdown",
      "metadata": {
        "id": "ydnpCvV0VWCI"
      },
      "source": [
        "CNOT($q[2]$,$q[1]$) is applied.\n",
        "\n",
        "If the value of the left most qubit is 1, then the value of the middle qubit is flipped.\n",
        "\n",
        "Thus, the new quantum state after this CNOT is\n",
        "\n",
        "$$ \\sqrttwo \\big( a\\ket{000} + a \\ket{011} + b\\ket{110} + b \\ket{101} \\big). $$"
      ]
    },
    {
      "cell_type": "markdown",
      "metadata": {
        "id": "lNey2gmkVWCI"
      },
      "source": [
        "<a name=\"task2\"></a>\n",
        "<h3> Task 2 </h3>\n",
        "\n",
        "Calculate the new quantum state after this Hadamard operator.\n",
        "\n",
        "Verify that the resulting quantum state can be written as follows:\n",
        "\n",
        "$$  \n",
        "    \\frac{1}{2} \\ket{00} \\big( a\\ket{0}+b\\ket{1} \\big) +\n",
        "    \\frac{1}{2} \\ket{01} \\big( a\\ket{1}+b\\ket{0} \\big) +\n",
        "    \\frac{1}{2} \\ket{10} \\big( a\\ket{0}-b\\ket{1} \\big) +\n",
        "    \\frac{1}{2} \\ket{11} \\big( a\\ket{1}-b\\ket{0} \\big) .\n",
        "$$"
      ]
    },
    {
      "cell_type": "markdown",
      "metadata": {
        "id": "u8zl2yQUVWCI"
      },
      "source": [
        "<h3>Solution</h3>"
      ]
    },
    {
      "cell_type": "markdown",
      "metadata": {
        "id": "O7Pydr9AVWCJ"
      },
      "source": [
        "The state before Hadamard is $ \\sqrttwo \\big( a\\ket{000} + a \\ket{011} + b\\ket{110} + b \\ket{101} \\big). $\n",
        "\n",
        "The effect of Hadamard to the left most qubit is given below:\n",
        "\n",
        "$ H \\ket{0yz} \\rightarrow \\sqrttwo \\ket{0yz} + \\sqrttwo \\ket{1yz} $\n",
        "\n",
        "$ H \\ket{1yz} \\rightarrow \\sqrttwo \\ket{0yz} - \\sqrttwo \\ket{1yz} $\n",
        "\n",
        "For each triple $ \\ket{xyz} $ in the quantum state, we apply this transformation:"
      ]
    },
    {
      "cell_type": "markdown",
      "metadata": {
        "id": "q8MjxytcVWCJ"
      },
      "source": [
        "$\n",
        "    \\frac{1}{2} \\big( a\\ket{000} + a\\ket{100} \\big) +\n",
        "    \\frac{1}{2} \\big( a\\ket{011} + a\\ket{111} \\big) +\n",
        "    \\frac{1}{2} \\big( b\\ket{010} - b\\ket{110} \\big) +\n",
        "    \\frac{1}{2} \\big( b\\ket{001} - b\\ket{101} \\big) .\n",
        "$"
      ]
    },
    {
      "cell_type": "markdown",
      "metadata": {
        "id": "Nyqe6k1kVWCJ"
      },
      "source": [
        "We can rearrange the summation so that we can separate Asja's qubits from the Balvis' qubit:\n",
        "\n",
        "$\\frac{1}{2} \\big( a\\ket{000}+b\\ket{001} \\big) + \\frac{1}{2} \\big( a\\ket{011}+b\\ket{010} \\big) +  \\frac{1}{2} \\big( a\\ket{100} - b\\ket{101} \\big) + \\frac{1}{2} \\big( a\\ket{111}- b\\ket{110} \\big)$."
      ]
    },
    {
      "cell_type": "markdown",
      "metadata": {
        "id": "e0UJo1teVWCJ"
      },
      "source": [
        "This is equivalent to\n",
        "\n",
        "$$  \n",
        "    \\frac{1}{2} \\ket{00} \\big( a\\ket{0}+b\\ket{1} \\big) +\n",
        "    \\frac{1}{2} \\ket{01} \\big( a\\ket{1}+b\\ket{0} \\big) +\n",
        "    \\frac{1}{2} \\ket{10} \\big( a\\ket{0}-b\\ket{1} \\big) +\n",
        "    \\frac{1}{2} \\ket{11} \\big( a\\ket{1}-b\\ket{0} \\big) .\n",
        "$$"
      ]
    },
    {
      "cell_type": "markdown",
      "metadata": {
        "id": "1jOQYRTjVWCJ"
      },
      "source": [
        "<a name=\"task3\"></a>\n",
        "<h3> Task 3 </h3>\n",
        "\n",
        "Asja sends the measurement outcomes to Balvis by using two classical bits: $ x $ and $ y $.\n",
        "\n",
        "For each $ (x,y) $ pair, determine the quantum operator(s) that Balvis can apply to obtain $ \\ket{v} = a\\ket{0}+b\\ket{1} $ exactly."
      ]
    },
    {
      "cell_type": "markdown",
      "metadata": {
        "id": "2tJ_3Ge0VWCJ"
      },
      "source": [
        "<h3>Solution</h3>"
      ]
    },
    {
      "cell_type": "markdown",
      "metadata": {
        "id": "YnDz_fUNVWCJ"
      },
      "source": [
        "<b>Measurement outcome \"00\":</b> The state of Balvis' qubit is $ a\\ket{0}+b\\ket{1} $.\n",
        "\n",
        "Balvis does not need to apply any extra operation.\n",
        "\n",
        "<b>Measurement outcome \"01\":</b> The state of Balvis' qubit is $ a\\ket{1}+b\\ket{0} $.\n",
        "\n",
        "If Balvis applies <u>NOT operator</u>, then the state becomes: $ a\\ket{0}+b\\ket{1} $.\n",
        "\n",
        "<b>Measurement outcome \"10\":</b> The state of Balvis' qubit is $ a\\ket{0}-b\\ket{1} $.\n",
        "\n",
        "If Balvis applies <u>Z operator</u>, then the state becomes: $ a\\ket{0}+b\\ket{1} $.\n",
        "\n",
        "<b>Measurement outcome \"11\":</b> The state of Balvis' qubit is $ a\\ket{1}-b\\ket{0} $.\n",
        "\n",
        "If Balvis applies <u>NOT operator</u> and <u>Z operator</u>, then the state becomes: $ a\\ket{0}+b\\ket{1} $."
      ]
    },
    {
      "cell_type": "markdown",
      "metadata": {
        "id": "2IdDNh58VWCJ"
      },
      "source": [
        "<a name=\"task4\"></a>\n",
        "<h3> Task 4 </h3>\n",
        "\n",
        "Create a quantum circuit with three qubits as described at the beginning of this notebook and three classical bits.\n",
        "\n",
        "Implement the protocol given above until Asja makes the measurements (included).\n",
        "- The state of $q[2]$ can be set by the rotation with a randomly picked angle.\n",
        "- Remark that Balvis does not make the measurement.\n",
        "\n",
        "At this point, read the state vector of the circuit by using \"statevector_simulator\".\n",
        "\n",
        "_When a circuit having measurement is simulated by \"statevector_simulator\", the simulator picks one of the outcomes, and so we see one of the states after the measurement._\n",
        "\n",
        "Verify that the state of Balvis' qubit is in one of these: $ \\ket{v_{00}}$, $ \\ket{v_{01}}$, $ \\ket{v_{10}}$, and $ \\ket{v_{11}}$.\n",
        "\n",
        "Guess the measurement outcome obtained by \"statevector_simulator\"."
      ]
    },
    {
      "cell_type": "markdown",
      "metadata": {
        "id": "Jm306JwlVWCJ"
      },
      "source": [
        "<h3>Solution</h3>"
      ]
    },
    {
      "cell_type": "code",
      "execution_count": 2,
      "metadata": {
        "id": "y_zT872kVWCJ",
        "outputId": "1f0aaa8d-c7ee-45ad-ea92-73e390753231",
        "colab": {
          "base_uri": "https://localhost:8080/",
          "height": 764
        }
      },
      "outputs": [
        {
          "output_type": "stream",
          "name": "stdout",
          "text": [
            "the picked angle is 219.6 degrees and 3.8327430373795477 radians\n",
            "a= -0.771 b= -0.637\n",
            "a*a= 0.594 b*b= 0.406\n"
          ]
        },
        {
          "output_type": "display_data",
          "data": {
            "text/plain": [
              "<Figure size 538.33x535.111 with 1 Axes>"
            ],
            "image/png": "[encoded data removed]"
          },
          "metadata": {}
        },
        {
          "output_type": "stream",
          "name": "stdout",
          "text": [
            "the state vector is\n",
            "-0.0\n",
            "-0.0\n",
            "-0.6374239897486896\n",
            "-0.7705132427757894\n",
            "-0.0\n",
            "0.0\n",
            "0.0\n",
            "-0.0\n",
            "\n",
            "the classical outcome is 01\n",
            "\n",
            "the new quantum state is |01>(-0.637|0>+-0.771|1>)\n",
            "the new quantum state is |01>(+b|0>+a|1>)\n"
          ]
        }
      ],
      "source": [
        "from qiskit import QuantumRegister, ClassicalRegister, QuantumCircuit, execute, Aer\n",
        "from math import pi, cos, sin\n",
        "from random import randrange\n",
        "\n",
        "# quantum circuit with three qubits and three bits\n",
        "q =  QuantumRegister(3,\"q\")\n",
        "c = ClassicalRegister(3,\"c\")\n",
        "qc = QuantumCircuit(q,c)\n",
        "\n",
        "# rotate the first qubit by random angle\n",
        "r = randrange(100)\n",
        "theta = 2*pi*(r/100) # radians\n",
        "print(\"the picked angle is\",r*3.6,\"degrees and\",theta,\"radians\")\n",
        "a = cos(theta)\n",
        "b = sin(theta)\n",
        "print(\"a=\",round(a,3),\"b=\",round(b,3))\n",
        "print(\"a*a=\",round(a**2,3),\"b*b=\",round(b**2,3))\n",
        "qc.ry(2*theta,q[2])\n",
        "\n",
        "# creating an entanglement between q[1] and q[0]\n",
        "qc.h(q[1])\n",
        "qc.cx(q[1],q[0])\n",
        "\n",
        "# CNOT operator by Asja on her qubits where q[2] is the control qubit\n",
        "qc.cx(q[2],q[1])\n",
        "\n",
        "# Hadamard operator by Asja on q[2]\n",
        "qc.h(q[2])\n",
        "\n",
        "# the measurement done by Asja\n",
        "qc.measure(q[2],c[2])\n",
        "qc.measure(q[1],c[1])\n",
        "\n",
        "# draw thw circuit\n",
        "display(qc.draw(output='mpl',reverse_bits=True))\n",
        "\n",
        "# read the state vector\n",
        "job = execute(qc,Aer.get_backend('statevector_simulator'),optimization_level=0,shots=1)\n",
        "current_quantum_state=job.result().get_statevector(qc).data\n",
        "print(\"the state vector is\")\n",
        "for i in range(len(current_quantum_state)):\n",
        "    print(current_quantum_state[i].real)\n",
        "print()\n",
        "\n",
        "classical_outcomes = ['00','01','10','11']\n",
        "\n",
        "for i in range(4):\n",
        "    if (current_quantum_state[2*i].real != 0) or (current_quantum_state[2*i+1].real != 0):\n",
        "        print(\"the classical outcome is\",classical_outcomes[i])\n",
        "        classical_outcome = classical_outcomes[i]\n",
        "        balvis_state = [ current_quantum_state[2*i].real,current_quantum_state[2*i+1].real ]\n",
        "print()\n",
        "\n",
        "readable_quantum_state = \"|\"+classical_outcome+\">\"\n",
        "readable_quantum_state += \"(\"+str(round(balvis_state[0],3))+\"|0>+\"+str(round(balvis_state[1],3))+\"|1>)\"\n",
        "print(\"the new quantum state is\",readable_quantum_state)\n",
        "\n",
        "\n",
        "all_states = ['000','001','010','011','100','101','110','111']\n",
        "\n",
        "\n",
        "balvis_state_str = \"|\"+classical_outcome+\">(\"\n",
        "for i in range(len(current_quantum_state)):\n",
        "    if abs(current_quantum_state[i].real-a)<0.000001:\n",
        "        balvis_state_str += \"+a|\"+ all_states[i][2]+\">\"\n",
        "    elif abs(current_quantum_state[i].real+a)<0.000001:\n",
        "        balvis_state_str += \"-a|\"+ all_states[i][2]+\">\"\n",
        "    elif abs(current_quantum_state[i].real-b)<0.000001:\n",
        "        balvis_state_str += \"+b|\"+ all_states[i][2]+\">\"\n",
        "    elif abs(current_quantum_state[i].real+b)<0.000001:\n",
        "        balvis_state_str += \"-b|\"+ all_states[i][2]+\">\"\n",
        "balvis_state_str += \")\"\n",
        "print(\"the new quantum state is\",balvis_state_str)"
      ]
    },
    {
      "cell_type": "markdown",
      "metadata": {
        "id": "0EIyON6PVWCK"
      },
      "source": [
        "<a name=\"task5\"></a>\n",
        "<h3> Task 5 </h3>\n",
        "\n",
        "Implement the protocol above by including the post-processing part done by Balvis, i.e., the measurement results by Asja are sent to Balvis and then he may apply $ X $ or $ Z $ gates depending on the measurement results.\n",
        "\n",
        "We use the classically controlled quantum operators.\n",
        "\n",
        "Since we do not make measurement on $ q[0] $, we define only 2 classical bits, each of which can also be defined separated.\n",
        "\n",
        "    q = QuantumRegister(3)\n",
        "    c2 = ClassicalRegister(1,'c2')\n",
        "    c1 = ClassicalRegister(1,'c1')\n",
        "    qc = QuantumCircuit(q,c1,c2)\n",
        "    ...\n",
        "    qc.measure(q[1],c1)\n",
        "    ...\n",
        "    qc.x(q[0]).c_if(c1,1) # x-gate is applied to q[0] if the classical bit c1 is equal to 1\n",
        "\n",
        "Read the state vector and verify that Balvis' state is $ \\myvector{a \\\\ b} $ after the post-processing."
      ]
    },
    {
      "cell_type": "markdown",
      "metadata": {
        "id": "3G-PH1gkVWCK"
      },
      "source": [
        "<h3>Solution</h3>"
      ]
    },
    {
      "cell_type": "code",
      "execution_count": 3,
      "metadata": {
        "id": "m8tfYHn2VWCK",
        "outputId": "0d98a25f-bb0a-4f7f-bcb7-5ca73957b60c",
        "colab": {
          "base_uri": "https://localhost:8080/",
          "height": 630
        }
      },
      "outputs": [
        {
          "output_type": "stream",
          "name": "stdout",
          "text": [
            "the picked angle is 248.4 degrees and 4.335397861953914 radians\n",
            "a= -0.3681 b= -0.9298\n"
          ]
        },
        {
          "output_type": "display_data",
          "data": {
            "text/plain": [
              "<Figure size 956.385x451.5 with 1 Axes>"
            ],
            "image/png": "[encoded data removed]"
          },
          "metadata": {}
        },
        {
          "output_type": "stream",
          "name": "stdout",
          "text": [
            "the state vector is\n",
            "-0.3681\n",
            "-0.9298\n",
            "-0.0\n",
            "-0.0\n",
            "-0.0\n",
            "0.0\n",
            "0.0\n",
            "-0.0\n",
            "\n",
            "the classical outcome is 00\n"
          ]
        }
      ],
      "source": [
        "from qiskit import QuantumRegister, ClassicalRegister, QuantumCircuit, execute, Aer\n",
        "from math import pi, cos, sin\n",
        "from random import randrange\n",
        "\n",
        "# quantum circuit with three qubits and two bits\n",
        "q =  QuantumRegister(3,\"q\")\n",
        "c1 = ClassicalRegister(1,\"c1\")\n",
        "c2 = ClassicalRegister(1,\"c2\")\n",
        "qc = QuantumCircuit(q,c1,c2)\n",
        "\n",
        "# rotate the first qubit by random angle\n",
        "r = randrange(100)\n",
        "theta = 2*pi*(r/100) # radians\n",
        "print(\"the picked angle is\",r*3.6,\"degrees and\",theta,\"radians\")\n",
        "a = cos(theta)\n",
        "b = sin(theta)\n",
        "print(\"a=\",round(a,4),\"b=\",round(b,4))\n",
        "qc.ry(2*theta,q[2])\n",
        "\n",
        "# creating an entanglement between q[1] and q[0]\n",
        "qc.h(q[1])\n",
        "qc.cx(q[1],q[0])\n",
        "\n",
        "# CNOT operator by Asja on her qubits where q[2] is the control qubit\n",
        "qc.cx(q[2],q[1])\n",
        "\n",
        "# Hadamard operator by Asja on q[2]\n",
        "qc.h(q[2])\n",
        "\n",
        "qc.barrier()\n",
        "\n",
        "# the measurement done by Asja\n",
        "qc.measure(q[2],c2)\n",
        "qc.measure(q[1],c1)\n",
        "\n",
        "qc.barrier()\n",
        "\n",
        "# post-processing done by Balvis\n",
        "qc.x(q[0]).c_if(c1,1)\n",
        "qc.z(q[0]).c_if(c2,1)\n",
        "\n",
        "# draw the circuit\n",
        "display(qc.draw(output='mpl',reverse_bits=True))\n",
        "\n",
        "# read the state vector\n",
        "job = execute(qc,Aer.get_backend('statevector_simulator'),optimization_level=0,shots=1)\n",
        "current_quantum_state=job.result().get_statevector(qc).data\n",
        "print(\"the state vector is\")\n",
        "for i in range(len(current_quantum_state)):\n",
        "    print(round(current_quantum_state[i].real,4))\n",
        "print()\n",
        "\n",
        "classical_outcomes = ['00','01','10','11']\n",
        "\n",
        "for i in range(4):\n",
        "    if (current_quantum_state[2*i].real != 0) or (current_quantum_state[2*i+1].real != 0):\n",
        "        print(\"the classical outcome is\",classical_outcomes[i])"
      ]
    }
  ],
  "metadata": {
    "kernelspec": {
      "display_name": "Python 3 (ipykernel)",
      "language": "python",
      "name": "python3"
    },
    "language_info": {
      "codemirror_mode": {
        "name": "ipython",
        "version": 3
      },
      "file_extension": ".py",
      "mimetype": "text/x-python",
      "name": "python",
      "nbconvert_exporter": "python",
      "pygments_lexer": "ipython3",
      "version": "3.11.4"
    },
    "colab": {
      "provenance": [],
      "collapsed_sections": [
        "Set1hh4qVWCG"
      ],
      "include_colab_link": true
    }
  },
  "nbformat": 4,
  "nbformat_minor": 0
}