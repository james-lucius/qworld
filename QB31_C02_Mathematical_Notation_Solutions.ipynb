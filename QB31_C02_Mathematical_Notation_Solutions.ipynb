{
  "cells": [
    {
      "cell_type": "markdown",
      "metadata": {
        "id": "view-in-github",
        "colab_type": "text"
      },
      "source": [
        "<a href=\"https://colab.research.google.com/github/james-lucius/qworld/blob/main/QB31_C02_Mathematical_Notation_Solutions.ipynb\" target=\"_parent\"><img src=\"https://colab.research.google.com/assets/colab-badge.svg\" alt=\"Open In Colab\"/></a>"
      ]
    },
    {
      "cell_type": "markdown",
      "metadata": {
        "id": "Ue8UDpvxdcI5"
      },
      "source": [
        "<a href=\"https://qworld.net\" target=\"_blank\" align=\"left\"><img src=\"https://gitlab.com/qworld/qeducation/qbook101/raw/main/qworld/images/header.jpg\" align=\"left\"></a>\n",
        "$ \\newcommand{\\bra}[1]{\\langle #1|} $\n",
        "$ \\newcommand{\\ket}[1]{|#1\\rangle} $\n",
        "$ \\newcommand{\\braket}[2]{\\langle #1|#2\\rangle} $\n",
        "$ \\newcommand{\\dot}[2]{ #1 \\cdot #2} $\n",
        "$ \\newcommand{\\biginner}[2]{\\left\\langle #1,#2\\right\\rangle} $\n",
        "$ \\newcommand{\\mymatrix}[2]{\\left( \\begin{array}{#1} #2\\end{array} \\right)} $\n",
        "$ \\newcommand{\\myvector}[1]{\\mymatrix{c}{#1}} $\n",
        "$ \\newcommand{\\myrvector}[1]{\\mymatrix{r}{#1}} $\n",
        "$ \\newcommand{\\mypar}[1]{\\left( #1 \\right)} $\n",
        "$ \\newcommand{\\mybigpar}[1]{ \\Big( #1 \\Big)} $\n",
        "$ \\newcommand{\\sqrttwo}{\\frac{1}{\\sqrt{2}}} $\n",
        "$ \\newcommand{\\dsqrttwo}{\\dfrac{1}{\\sqrt{2}}} $\n",
        "$ \\newcommand{\\onehalf}{\\frac{1}{2}} $\n",
        "$ \\newcommand{\\donehalf}{\\dfrac{1}{2}} $\n",
        "$ \\newcommand{\\hadamard}{ \\mymatrix{rr}{ \\sqrttwo & \\sqrttwo \\\\ \\sqrttwo & -\\sqrttwo }} $\n",
        "$ \\newcommand{\\vzero}{\\myvector{1\\\\0}} $\n",
        "$ \\newcommand{\\vone}{\\myvector{0\\\\1}} $\n",
        "$ \\newcommand{\\stateplus}{\\myvector{ \\sqrttwo \\\\  \\sqrttwo } } $\n",
        "$ \\newcommand{\\stateminus}{ \\myrvector{ \\sqrttwo \\\\ -\\sqrttwo } } $\n",
        "$ \\newcommand{\\myarray}[2]{ \\begin{array}{#1}#2\\end{array}} $\n",
        "$ \\newcommand{\\X}{ \\mymatrix{cc}{0 & 1 \\\\ 1 & 0}  } $\n",
        "$ \\newcommand{\\Z}{ \\mymatrix{rr}{1 & 0 \\\\ 0 & -1}  } $\n",
        "$ \\newcommand{\\Htwo}{ \\mymatrix{rrrr}{ \\frac{1}{2} & \\frac{1}{2} & \\frac{1}{2} & \\frac{1}{2} \\\\ \\frac{1}{2} & -\\frac{1}{2} & \\frac{1}{2} & -\\frac{1}{2} \\\\ \\frac{1}{2} & \\frac{1}{2} & -\\frac{1}{2} & -\\frac{1}{2} \\\\ \\frac{1}{2} & -\\frac{1}{2} & -\\frac{1}{2} & \\frac{1}{2} } } $\n",
        "$ \\newcommand{\\CNOT}{ \\mymatrix{cccc}{1 & 0 & 0 & 0 \\\\ 0 & 1 & 0 & 0 \\\\ 0 & 0 & 0 & 1 \\\\ 0 & 0 & 1 & 0} } $\n",
        "$ \\newcommand{\\norm}[1]{ \\left\\lVert #1 \\right\\rVert } $\n",
        "$ \\newcommand{\\pstate}[1]{ \\lceil \\mspace{-1mu} #1 \\mspace{-1.5mu} \\rfloor } $"
      ]
    },
    {
      "cell_type": "markdown",
      "metadata": {
        "id": "gH1Qp-4xdcI6"
      },
      "source": [
        "_prepared by Özlem Salehi_"
      ]
    },
    {
      "cell_type": "markdown",
      "metadata": {
        "id": "HmdxGfIYdcI7"
      },
      "source": [
        "<font size=\"28px\" style=\"font-size:28px;\" align=\"left\"><b> <font color=\"blue\"> Solutions for </font>Mathematical Notation </b></font>\n",
        "<br>\n",
        "<br><br>"
      ]
    },
    {
      "cell_type": "markdown",
      "metadata": {
        "id": "67V_vq4ddcI7"
      },
      "source": [
        "<a name=\"task1\"></a>\n",
        "<h3> Task 1 </h3>\n",
        "\n",
        " Consider the two quantum states $ \\ket{\\psi}=\\dsqrttwo \\ket{0} - \\dfrac{i}{\\sqrt{2}} \\ket{1} $ and $ \\ket{\\phi} = \\dsqrttwo \\ket{0} + \\dfrac{i}{\\sqrt{2}}\\ket{1}  $.  Compute $ \\bra{\\psi}$ and $\\bra{\\phi}$."
      ]
    },
    {
      "cell_type": "markdown",
      "metadata": {
        "id": "ZSWh1DzgdcI7"
      },
      "source": [
        "<h3> Solution </h3>"
      ]
    },
    {
      "cell_type": "markdown",
      "metadata": {
        "id": "fF02g2sIdcI7"
      },
      "source": [
        "$\\ket{\\psi}$ and $\\ket{\\phi}$ correspond to column vectors. We compute the conjugate transpose.\n",
        "\n",
        "$ \\bra{\\psi}=\\left (\\dsqrttwo ~~~ \\dfrac{i}{\\sqrt{2}} \\right )$ and $ \\bra{\\phi} =\\left( \\dsqrttwo  ~~ - \\dfrac{i}{\\sqrt{2}} \\right )  $"
      ]
    },
    {
      "cell_type": "markdown",
      "metadata": {
        "id": "RzY2MM3FdcI7"
      },
      "source": [
        "<a name=\"task2\"></a>\n",
        "<h3> Task 2 </h3>\n",
        "\n",
        "Compute $ \\braket{\\psi}{\\phi} $. What can you conclude about these quantum states?"
      ]
    },
    {
      "cell_type": "markdown",
      "metadata": {
        "id": "l9z_wgSldcI7"
      },
      "source": [
        "<h3> Solution </h3>"
      ]
    },
    {
      "cell_type": "markdown",
      "metadata": {
        "id": "szqJYQwNdcI7"
      },
      "source": [
        "$ \\braket{\\psi}{\\phi}=\\left (\\dsqrttwo ~~~ \\dfrac{i}{\\sqrt{2}} \\right )  \\mymatrix{cc}{&\\dsqrttwo \\\\ &\\dfrac{i}{\\sqrt{2}}  } = 1/2 - 1/2 = 0 $, indicating that the vectors are orthogonal."
      ]
    },
    {
      "cell_type": "markdown",
      "metadata": {
        "id": "htkXhAsSdcI8"
      },
      "source": [
        "<a name=\"task3\"></a>\n",
        "<h3> Task 3 </h3>\n",
        "\n",
        "Verify that $ \\ket{\\psi} $ and $ \\ket{\\phi} $ are valid quantum states."
      ]
    },
    {
      "cell_type": "markdown",
      "metadata": {
        "id": "9tVL2v_TdcI8"
      },
      "source": [
        "<h3> Solution </h3>"
      ]
    },
    {
      "cell_type": "markdown",
      "metadata": {
        "id": "E9zT4swedcI8"
      },
      "source": [
        "We should check whether their inner products with themselves are equal to 1."
      ]
    },
    {
      "cell_type": "markdown",
      "metadata": {
        "id": "_vyR5aOfdcI8"
      },
      "source": [
        "$ {\\braket{\\psi}{\\psi}} =\\myvector{\\dsqrttwo ~~~ \\dfrac{i}{\\sqrt{2}}}  \\mymatrix{cc}{&\\dsqrttwo \\\\ &-\\dfrac{i}{\\sqrt{2}}  } = 1/2 + 1/2 = 1 $.\n",
        "\n",
        "That is, $\\Vert \\ket{\\psi} \\Vert = 1$."
      ]
    },
    {
      "cell_type": "markdown",
      "metadata": {
        "id": "64AZiPMDdcI8"
      },
      "source": [
        "$\\sqrt{\\braket{\\phi}{\\phi}} =\\myvector{\\dsqrttwo ~-~ \\dfrac{i}{\\sqrt{2}}}  \\mymatrix{cc}{&\\dsqrttwo \\\\ &\\dfrac{i}{\\sqrt{2}}  } = 1/2 + 1/2 = 1 $.\n",
        "\n",
        "That is, $\\Vert \\ket{\\phi} \\Vert = 1$."
      ]
    },
    {
      "cell_type": "markdown",
      "metadata": {
        "id": "u0Iztn3tdcI8"
      },
      "source": [
        "<a name=\"task4\"></a>\n",
        "<h3> Task 4 </h3>\n",
        "\n",
        "Verify that $ \\{ \\ket{+},\\ket{-} \\} $ is a basis set for a qubit."
      ]
    },
    {
      "cell_type": "markdown",
      "metadata": {
        "id": "IHX8OIdpdcI8"
      },
      "source": [
        "<h3> Solution </h3>"
      ]
    },
    {
      "cell_type": "markdown",
      "metadata": {
        "id": "THzvVQ_cdcI8"
      },
      "source": [
        "We know that $ \\ket{+}= \\stateplus $ and $ \\ket{-} = \\stateminus $ are unit vectors.\n",
        "\n",
        "So, it is enough to show that they are orthogonal to each other:\n",
        "\n",
        "$ \\braket{+}{-} = \\myvector{ \\sqrttwo ~~~~ \\sqrttwo} \\stateminus = \\dsqrttwo\\dsqrttwo + \\dsqrttwo(-\\dsqrttwo) =\n",
        "\\dfrac{1}{2} - \\dfrac{1}{2} = 0 $."
      ]
    },
    {
      "cell_type": "markdown",
      "metadata": {
        "id": "rmGCXXN-dcI8"
      },
      "source": [
        "<a name=\"task5\"></a>\n",
        "<h3> Task 5 </h3>\n",
        "\n",
        "Given $A=  \\mymatrix{cc}{3 + 7i & 0 \\\\ 2i & 4-i}$, compute $A^{\\dagger}$:\n"
      ]
    },
    {
      "cell_type": "markdown",
      "metadata": {
        "id": "DFnW7ziydcI8"
      },
      "source": [
        "<h3> Solution </h3>"
      ]
    },
    {
      "cell_type": "markdown",
      "metadata": {
        "id": "xYrRwAsxdcI8"
      },
      "source": [
        "We take the transpose and obtain  $\\mymatrix{cc}{3 + 7i & 2i \\\\ 0 & 4 - i}$.\n",
        "\n",
        "Then, we take the conjugate of each entry and obtain $\\mymatrix{cc}{3 - 7i & -2i \\\\ 0 & 4 + i}$, which is $ A^\\dagger $."
      ]
    },
    {
      "cell_type": "markdown",
      "metadata": {
        "id": "WtlgXGYidcI8"
      },
      "source": [
        "<a name=\"task6\"></a>\n",
        "<h3> Task 6 </h3>\n",
        "\n",
        "Given $A=  \\frac{1}{2} \\mymatrix{cc}{1 + i & 1 - i \\\\ 1 - i & 1 + i}$, show that $A$ is unitary\n"
      ]
    },
    {
      "cell_type": "markdown",
      "metadata": {
        "id": "iEZRww7XdcI8"
      },
      "source": [
        "<h3> Solution </h3>"
      ]
    },
    {
      "cell_type": "markdown",
      "metadata": {
        "id": "YyD_0Z2zdcI8"
      },
      "source": [
        "$AA^\\dagger=\\frac{1}{4} \\mymatrix{cc}{1 + i & 1 - i \\\\ 1 - i & 1 + i} \\mymatrix{cc}{1 - i & 1 + i \\\\ 1 + i & 1 - i} = \\frac{1}{4} \\mymatrix{cc}{4 & 0 \\\\ 0 & 4}=\\mymatrix{cc}{1 & 0 \\\\ 0 & 1} = I$\n",
        "\n",
        "\n",
        "Thus A is unitary.\n",
        "\n"
      ]
    }
  ],
  "metadata": {
    "kernelspec": {
      "display_name": "Python 3 (ipykernel)",
      "language": "python",
      "name": "python3"
    },
    "language_info": {
      "codemirror_mode": {
        "name": "ipython",
        "version": 3
      },
      "file_extension": ".py",
      "mimetype": "text/x-python",
      "name": "python",
      "nbconvert_exporter": "python",
      "pygments_lexer": "ipython3",
      "version": "3.11.4"
    },
    "colab": {
      "provenance": [],
      "include_colab_link": true
    }
  },
  "nbformat": 4,
  "nbformat_minor": 0
}