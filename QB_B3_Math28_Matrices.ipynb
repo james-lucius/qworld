{
  "cells": [
    {
      "cell_type": "markdown",
      "metadata": {
        "id": "view-in-github",
        "colab_type": "text"
      },
      "source": [
        "<a href=\"https://colab.research.google.com/github/james-lucius/qworld/blob/main/QB_B3_Math28_Matrices.ipynb\" target=\"_parent\"><img src=\"https://colab.research.google.com/assets/colab-badge.svg\" alt=\"Open In Colab\"/></a>"
      ]
    },
    {
      "cell_type": "markdown",
      "metadata": {
        "id": "IYw4z-djlyFT"
      },
      "source": [
        "<a href=\"https://qworld.net\" target=\"_blank\" align=\"left\"><img src=\"https://gitlab.com/qworld/qeducation/qbook101/raw/main/qworld/images/header.jpg\" align=\"left\"></a>\n",
        "$ \\newcommand{\\bra}[1]{\\langle #1|} $\n",
        "$ \\newcommand{\\ket}[1]{|#1\\rangle} $\n",
        "$ \\newcommand{\\braket}[2]{\\langle #1|#2\\rangle} $\n",
        "$ \\newcommand{\\dot}[2]{ #1 \\cdot #2} $\n",
        "$ \\newcommand{\\biginner}[2]{\\left\\langle #1,#2\\right\\rangle} $\n",
        "$ \\newcommand{\\mymatrix}[2]{\\left( \\begin{array}{#1} #2\\end{array} \\right)} $\n",
        "$ \\newcommand{\\myvector}[1]{\\mymatrix{c}{#1}} $\n",
        "$ \\newcommand{\\myrvector}[1]{\\mymatrix{r}{#1}} $\n",
        "$ \\newcommand{\\mypar}[1]{\\left( #1 \\right)} $\n",
        "$ \\newcommand{\\mybigpar}[1]{ \\Big( #1 \\Big)} $\n",
        "$ \\newcommand{\\sqrttwo}{\\frac{1}{\\sqrt{2}}} $\n",
        "$ \\newcommand{\\dsqrttwo}{\\dfrac{1}{\\sqrt{2}}} $\n",
        "$ \\newcommand{\\onehalf}{\\frac{1}{2}} $\n",
        "$ \\newcommand{\\donehalf}{\\dfrac{1}{2}} $\n",
        "$ \\newcommand{\\hadamard}{ \\mymatrix{rr}{ \\sqrttwo & \\sqrttwo \\\\ \\sqrttwo & -\\sqrttwo }} $\n",
        "$ \\newcommand{\\vzero}{\\myvector{1\\\\0}} $\n",
        "$ \\newcommand{\\vone}{\\myvector{0\\\\1}} $\n",
        "$ \\newcommand{\\stateplus}{\\myvector{ \\sqrttwo \\\\  \\sqrttwo } } $\n",
        "$ \\newcommand{\\stateminus}{ \\myrvector{ \\sqrttwo \\\\ -\\sqrttwo } } $\n",
        "$ \\newcommand{\\myarray}[2]{ \\begin{array}{#1}#2\\end{array}} $\n",
        "$ \\newcommand{\\X}{ \\mymatrix{cc}{0 & 1 \\\\ 1 & 0}  } $\n",
        "$ \\newcommand{\\I}{ \\mymatrix{rr}{1 & 0 \\\\ 0 & 1}  } $\n",
        "$ \\newcommand{\\Z}{ \\mymatrix{rr}{1 & 0 \\\\ 0 & -1}  } $\n",
        "$ \\newcommand{\\Htwo}{ \\mymatrix{rrrr}{ \\frac{1}{2} & \\frac{1}{2} & \\frac{1}{2} & \\frac{1}{2} \\\\ \\frac{1}{2} & -\\frac{1}{2} & \\frac{1}{2} & -\\frac{1}{2} \\\\ \\frac{1}{2} & \\frac{1}{2} & -\\frac{1}{2} & -\\frac{1}{2} \\\\ \\frac{1}{2} & -\\frac{1}{2} & -\\frac{1}{2} & \\frac{1}{2} } } $\n",
        "$ \\newcommand{\\CNOT}{ \\mymatrix{cccc}{1 & 0 & 0 & 0 \\\\ 0 & 1 & 0 & 0 \\\\ 0 & 0 & 0 & 1 \\\\ 0 & 0 & 1 & 0} } $\n",
        "$ \\newcommand{\\norm}[1]{ \\left\\lVert #1 \\right\\rVert } $\n",
        "$ \\newcommand{\\pstate}[1]{ \\lceil \\mspace{-1mu} #1 \\mspace{-1.5mu} \\rfloor } $\n",
        "$ \\newcommand{\\greenbit}[1] {\\mathbf{{\\color{green}#1}}} $\n",
        "$ \\newcommand{\\bluebit}[1] {\\mathbf{{\\color{blue}#1}}} $\n",
        "$ \\newcommand{\\redbit}[1] {\\mathbf{{\\color{red}#1}}} $\n",
        "$ \\newcommand{\\brownbit}[1] {\\mathbf{{\\color{brown}#1}}} $\n",
        "$ \\newcommand{\\blackbit}[1] {\\mathbf{{\\color{black}#1}}} $"
      ]
    },
    {
      "cell_type": "markdown",
      "metadata": {
        "id": "w-WaxWwjlyFV"
      },
      "source": [
        "_prepared by Abuzer Yakaryilmaz_"
      ]
    },
    {
      "cell_type": "markdown",
      "metadata": {
        "id": "0I_g1jrNlyFV"
      },
      "source": [
        "<font size=\"28px\" style=\"font-size:28px;\" align=\"left\"><b>Matrices: Two Dimensional Lists </b></font>\n",
        "<br><br>"
      ]
    },
    {
      "cell_type": "markdown",
      "metadata": {
        "jp-MarkdownHeadingCollapsed": true,
        "id": "mq4QyJvMlyFV"
      },
      "source": [
        "##### <font color=\"#08b806\">Please execute the following cell, it is necessary to distinguish between your local environment and Google Colab's"
      ]
    },
    {
      "cell_type": "code",
      "execution_count": 1,
      "metadata": {
        "id": "XbmnalZ6lyFV"
      },
      "outputs": [],
      "source": [
        "import IPython\n",
        "\n",
        "def in_colab():\n",
        "    try:\n",
        "        import google.colab\n",
        "        return True\n",
        "    except:\n",
        "        return False\n",
        "\n",
        "SolutionToTask1 = lambda: IPython.display.display(IPython.display.Javascript('window.open(\"{url}\");'.format(url='https://colab.research.google.com/drive/1koGGs_UATvq_dkndbS1xtFqoyFkya6cy?usp=sharing#scrollTo=oKpyNL2rkacc' if in_colab() else 'QB_B3_Math28_Matrices_Solutions.ipynb#task1')))\n",
        "SolutionToTask2 = lambda: IPython.display.display(IPython.display.Javascript('window.open(\"{url}\");'.format(url='https://colab.research.google.com/drive/1koGGs_UATvq_dkndbS1xtFqoyFkya6cy?usp=sharing#scrollTo=CQq2n9E4kacc' if in_colab() else 'QB_B3_Math28_Matrices_Solutions.ipynb#task2')))\n",
        "SolutionToTask3 = lambda: IPython.display.display(IPython.display.Javascript('window.open(\"{url}\");'.format(url='https://colab.research.google.com/drive/1koGGs_UATvq_dkndbS1xtFqoyFkya6cy?usp=sharing#scrollTo=gAO-jNtPkacd' if in_colab() else 'QB_B3_Math28_Matrices_Solutions.ipynb#task3')))\n",
        "SolutionToTask4 = lambda: IPython.display.display(IPython.display.Javascript('window.open(\"{url}\");'.format(url='https://colab.research.google.com/drive/1koGGs_UATvq_dkndbS1xtFqoyFkya6cy?usp=sharing#scrollTo=pQpBhE2Lkacd' if in_colab() else 'QB_B3_Math28_Matrices_Solutions.ipynb#task4')))\n",
        "SolutionToTask5 = lambda: IPython.display.display(IPython.display.Javascript('window.open(\"{url}\");'.format(url='https://colab.research.google.com/drive/1koGGs_UATvq_dkndbS1xtFqoyFkya6cy?usp=sharing#scrollTo=SYKVLHx6kacd' if in_colab() else 'QB_B3_Math28_Matrices_Solutions.ipynb#task5')))"
      ]
    },
    {
      "cell_type": "markdown",
      "metadata": {
        "id": "dKRWpAbklyFW"
      },
      "source": [
        "##### A matrix is a list of vectors where each vector has the same dimension.\n",
        "\n",
        "Here is an example matrix formed by 4 row vectors with dimension 5:\n",
        "\n",
        "$$\n",
        "    M = \\mymatrix{rrrrr}{8 & 0 & -1 & 0 & 2 \\\\ -2 & -3 & 1 & 1 & 4 \\\\ 0 & 0 & 1 & -7 & 1 \\\\ 1 & 4 & -2 & 5 & 9}.\n",
        "$$\n",
        "\n",
        "We can also say that $M$ is formed by 5 column vectors with dimension 4.\n",
        "\n",
        "$M$ is called an $ (4 \\times 5) $-dimensional matrix. ($4 \\times 5$: \"four times five\")\n",
        "\n",
        "We can represent $M$ as a two dimensional list in Python.    "
      ]
    },
    {
      "cell_type": "code",
      "execution_count": 2,
      "metadata": {
        "id": "LHSIG6GblyFW",
        "outputId": "4bd13c1d-a96c-4250-96af-295ec6d5ab44",
        "colab": {
          "base_uri": "https://localhost:8080/"
        }
      },
      "outputs": [
        {
          "output_type": "stream",
          "name": "stdout",
          "text": [
            "[[8, 0, -1, 0, 2], [-2, -3, 1, 1, 4], [0, 0, 1, -7, 1], [1, 4, -2, 5, 9]]\n"
          ]
        }
      ],
      "source": [
        "# we may break lines when defining our list\n",
        "M = [\n",
        "    [8 , 0 , -1 , 0 , 2],\n",
        "    [-2 , -3 , 1 , 1 , 4],\n",
        "    [0 , 0 , 1 , -7 , 1],\n",
        "    [1 , 4 , -2 , 5 , 9]\n",
        "]\n",
        "\n",
        "# let's print matrix M\n",
        "print(M)"
      ]
    },
    {
      "cell_type": "code",
      "execution_count": 3,
      "metadata": {
        "id": "SNdHTstLlyFW",
        "outputId": "2cef2390-e12f-40c3-8633-bfb9469a45b7",
        "colab": {
          "base_uri": "https://localhost:8080/"
        }
      },
      "outputs": [
        {
          "output_type": "stream",
          "name": "stdout",
          "text": [
            "[8, 0, -1, 0, 2]\n",
            "[-2, -3, 1, 1, 4]\n",
            "[0, 0, 1, -7, 1]\n",
            "[1, 4, -2, 5, 9]\n"
          ]
        }
      ],
      "source": [
        "# let's print M in matrix form, row by row\n",
        "\n",
        "for i in range(4): # there are 4 rows\n",
        "    print(M[i])"
      ]
    },
    {
      "cell_type": "markdown",
      "metadata": {
        "id": "JKiwGxfPlyFX"
      },
      "source": [
        "Remark that, by definition, the rows and columns of matrices are indexed starting from 1.\n",
        "\n",
        "The $ (i,j) $-th entry of $ M $ refers to the entry in $ i $-th row and $ j $-th column.\n",
        "\n",
        "(It is also denoted as $ M[i,j] $, $ M(i,j) $, or $ M_{ij} $.)\n",
        "\n",
        "On the other hand, in Python, the indices start from zero.\n",
        "\n",
        "So, when we define a list for a matrix or vector in Python, the value of an index in Python is one less than the value of the original index.\n",
        "\n",
        "Let's see this with the following example."
      ]
    },
    {
      "cell_type": "code",
      "execution_count": 4,
      "metadata": {
        "id": "qmnsUQzTlyFX",
        "outputId": "a3bc06d4-9f7a-4b63-b109-4e8adcdd71d1",
        "colab": {
          "base_uri": "https://localhost:8080/"
        }
      },
      "outputs": [
        {
          "output_type": "stream",
          "name": "stdout",
          "text": [
            "8\n",
            "-7\n",
            "9\n"
          ]
        }
      ],
      "source": [
        "M = [\n",
        "    [8 , 0 , -1 , 0 , 2],\n",
        "    [-2 , -3 , 1 , 1 , 4],\n",
        "    [0 , 0 , 1 , -7 , 1],\n",
        "    [1 , 4 , -2 , 5 , 9]\n",
        "]\n",
        "\n",
        "# print the element of M in the 1st row and the 1st column.\n",
        "print(M[0][0])\n",
        "\n",
        "# print the element of M in the 3rd row and the 4th column.\n",
        "print(M[2][3])\n",
        "\n",
        "# print the element of M in the 4th row and the 5th column.\n",
        "print(M[3][4])"
      ]
    },
    {
      "cell_type": "markdown",
      "metadata": {
        "id": "DdPydedglyFX"
      },
      "source": [
        "<h3> Multiplying a matrix with a number </h3>\n",
        "\n",
        "When matrix $ M $ is multiplied by $ -2 $, each entry is multiplied by $ -2 $."
      ]
    },
    {
      "cell_type": "code",
      "execution_count": 5,
      "metadata": {
        "id": "ljpQV_aBlyFX",
        "outputId": "189a5d35-f715-4518-9197-a5afaa03172d",
        "colab": {
          "base_uri": "https://localhost:8080/"
        }
      },
      "outputs": [
        {
          "output_type": "stream",
          "name": "stdout",
          "text": [
            "I am M:\n",
            "[8, 0, -1, 0, 2]\n",
            "[-2, -3, 1, 1, 4]\n",
            "[0, 0, 1, -7, 1]\n",
            "[1, 4, -2, 5, 9]\n",
            "\n",
            "I am N:\n",
            "[-16, 0, 2, 0, -4]\n",
            "[4, 6, -2, -2, -8]\n",
            "[0, 0, -2, 14, -2]\n",
            "[-2, -8, 4, -10, -18]\n"
          ]
        }
      ],
      "source": [
        "# we use double nested for-loops\n",
        "\n",
        "N =[] # the result matrix\n",
        "\n",
        "for i in range(4): # for each row\n",
        "    N.append([]) # create an empty sub-list for each row in the result matrix\n",
        "    for j in range(5): # in row (i+1), we do the following for each column\n",
        "        N[i].append(M[i][j]*-2) # we add new elements into the i-th sub-list\n",
        "\n",
        "# print M and N, and see the results\n",
        "print(\"I am M:\")\n",
        "for i in range(4):\n",
        "    print(M[i])\n",
        "\n",
        "print()\n",
        "\n",
        "print(\"I am N:\")\n",
        "for i in range(4):\n",
        "    print(N[i])"
      ]
    },
    {
      "cell_type": "markdown",
      "metadata": {
        "id": "b4rZUj0ilyFX"
      },
      "source": [
        "We write down the matrix $ N= -2 M $:\n",
        "\n",
        "$$\n",
        "  N= -2 M = \\mymatrix{rrrrr}{-16 & 0 & 2 & 0 & -4 \\\\ 4 & 6 & -2 & -2 & -8 \\\\ 0 & 0 & -2 & 14 & -2 \\\\ -2 & -8 & 4 & -10 & -18}.\n",
        "$$"
      ]
    },
    {
      "cell_type": "markdown",
      "metadata": {
        "id": "ZRh_5qNplyFX"
      },
      "source": [
        "<h3> The summation of matrices</h3>\n",
        "\n",
        "If $ M $ and $ N $ are matrices with the same dimensions, then $ M+N $ is also a matrix with the same dimensions.\n",
        "\n",
        "The summation of two matrices is similar to the summation of two vectors.\n",
        "\n",
        "If $ K = M +N $, then $ K[i,j] = M[i,j] + N[i,j] $ for every pair of $ (i,j) $.\n",
        "\n",
        "Let's find $ K $ by using python."
      ]
    },
    {
      "cell_type": "code",
      "execution_count": 6,
      "metadata": {
        "id": "xWoUBHNvlyFX",
        "outputId": "d84c0e77-cd38-4ab0-f083-350a2d19c622",
        "colab": {
          "base_uri": "https://localhost:8080/"
        }
      },
      "outputs": [
        {
          "output_type": "stream",
          "name": "stdout",
          "text": [
            "M= [[8, 0, -1, 0, 2], [-2, -3, 1, 1, 4], [0, 0, 1, -7, 1], [1, 4, -2, 5, 9]]\n",
            "N= [[-16, 0, 2, 0, -4], [4, 6, -2, -2, -8], [0, 0, -2, 14, -2], [-2, -8, 4, -10, -18]]\n",
            "K= [[-8, 0, 1, 0, -2], [2, 3, -1, -1, -4], [0, 0, -1, 7, -1], [-1, -4, 2, -5, -9]]\n"
          ]
        }
      ],
      "source": [
        "# create an empty list for the result matrix\n",
        "K=[]\n",
        "\n",
        "for i in range(len(M)): # len(M) return the number of rows in M\n",
        "    K.append([]) # we create a new row for K\n",
        "    for j in range(len(M[0])): # len(M[0]) returns the number of columns in M\n",
        "        K[i].append(M[i][j]+N[i][j]) # we add new elements into the i-th sublist/rows\n",
        "\n",
        "# print each matrix in a single line\n",
        "print(\"M=\",M)\n",
        "print(\"N=\",N)\n",
        "print(\"K=\",K)"
      ]
    },
    {
      "cell_type": "markdown",
      "metadata": {
        "id": "ISRED1LLlyFX"
      },
      "source": [
        "<b> Observation:</b>\n",
        "\n",
        "$ K = N +M  $. We defined $ N $ as $ -2 M $.\n",
        "\n",
        "Thus, $ K = N+M = -2M + M = -M $.\n",
        "\n",
        "We can see that $ K = -M $ by looking at the outcomes of our program."
      ]
    },
    {
      "cell_type": "markdown",
      "metadata": {
        "id": "92AcYUFAlyFX"
      },
      "source": [
        "<h3> Task 1 </h3>\n",
        "\n",
        "Randomly create $ (3 \\times 4) $-dimensional matrices $ A $ and $ B $.\n",
        "\n",
        "The entries can be picked from the list $ \\{-5,\\ldots,5\\} $.\n",
        "\n",
        "Print the entries of both matrices.\n",
        "\n",
        "Find matrix $ C = 3A - 2B $, and print its entries. (<i>Note that $ 3A - 2B = 3A + (-2B) $</i>.)\n",
        "\n",
        "Verify the correctness your outcomes."
      ]
    },
    {
      "cell_type": "code",
      "execution_count": 19,
      "metadata": {
        "id": "dWHJrV1ylyFX",
        "outputId": "5b518827-ea4f-499a-ca48-a3be820ecee9",
        "colab": {
          "base_uri": "https://localhost:8080/"
        }
      },
      "outputs": [
        {
          "output_type": "stream",
          "name": "stdout",
          "text": [
            "A =\n",
            "[-1, 4, 0, 5]\n",
            "[-3, -5, 5, 5]\n",
            "[4, 4, 2, 1]\n",
            "\n",
            "B =\n",
            "[-1, 5, 3, -1]\n",
            "[-4, 4, 1, -1]\n",
            "[4, -2, 4, 4]\n",
            "\n",
            "C = 3A - 2B\n",
            "[-1, 2, -6, 17]\n",
            "[-1, -23, 13, 17]\n",
            "[4, 16, -2, -5]\n"
          ]
        }
      ],
      "source": [
        "from random import randrange\n",
        "#\n",
        "# your solution is here\n",
        "#\n",
        "# Create empty matrices A nd B\n",
        "A, B = [], []\n",
        "\n",
        "# Populate the matrices A and B\n",
        "for i in range(3):\n",
        "  A.append([])\n",
        "  B.append([])\n",
        "  for j in range(4):\n",
        "    A[i].append(randrange(-5, 6))\n",
        "    B[i].append(randrange(-5, 6))\n",
        "\n",
        "# print entries of matrices A and B\n",
        "print(\"A =\")\n",
        "for row in A: print(row)\n",
        "print()\n",
        "print(\"B =\")\n",
        "for row in B: print(row)\n",
        "print()\n",
        "\n",
        "# Define C\n",
        "C = []\n",
        "for i in range(3):\n",
        "  C.append([])\n",
        "  for j in range(4):\n",
        "    C[i].append((3 * A[i][j]) - (2 * B[i][j]))\n",
        "\n",
        "# print C\n",
        "print(\"C = 3A - 2B\")\n",
        "for row in C: print(row)"
      ]
    },
    {
      "cell_type": "markdown",
      "metadata": {
        "id": "wytbow3zlyFX"
      },
      "source": [
        "To check out our solution, run the next cell:"
      ]
    },
    {
      "cell_type": "code",
      "execution_count": 20,
      "metadata": {
        "id": "M4zHSTfylyFX",
        "outputId": "cc8f9916-6eb3-4b75-837c-70440a2aaec3",
        "colab": {
          "base_uri": "https://localhost:8080/",
          "height": 37
        }
      },
      "outputs": [
        {
          "output_type": "display_data",
          "data": {
            "text/plain": [
              "<IPython.core.display.Javascript object>"
            ],
            "application/javascript": [
              "window.open(\"https://colab.research.google.com/drive/1koGGs_UATvq_dkndbS1xtFqoyFkya6cy?usp=sharing#scrollTo=oKpyNL2rkacc\");"
            ]
          },
          "metadata": {}
        }
      ],
      "source": [
        "SolutionToTask1()  # show solution for task 1"
      ]
    },
    {
      "cell_type": "markdown",
      "metadata": {
        "id": "yyrByW4VlyFX"
      },
      "source": [
        "<h3> Transpose of a matrix</h3>\n",
        "\n",
        "The transpose of a matrix is obtained by interchanging rows and columns.\n",
        "\n",
        "For example, the second row becomes the new second column, and third column becomes the new third row.\n",
        "\n",
        "The transpose of a matrix $ M $ is denoted by $ M^T $.\n",
        "\n",
        "Here we give two examples.\n",
        "\n",
        "$$\n",
        "    M = \\mymatrix{rrrr}{-2 & 3 & 0 & 4\\\\ -1 & 1 & 5 & 9} ~~~~~ \\Rightarrow ~~~~~ M^T=\\mymatrix{rr}{-2 & -1 \\\\ 3 & 1 \\\\ 0 & 5 \\\\ 4 & 9}  ~~~~~~~~ \\mbox{ and } ~~~~~~~~\n",
        "    N = \\mymatrix{ccc}{1 & 2 & 3 \\\\ 4 & 5 & 6 \\\\ 7 & 8 & 9} ~~~~~ \\Rightarrow ~~~~~ N^T = \\mymatrix{ccc}{1 & 4 & 7 \\\\ 2 & 5 & 8 \\\\ 3 & 6 & 9}.\n",
        "$$\n",
        "\n",
        "Shortly, $ M[i,j] = M^T[j,i] $ and $ N[i,j] = N^T[j,i] $. (The indices are interchanged.)"
      ]
    },
    {
      "cell_type": "markdown",
      "metadata": {
        "id": "TcAjXyhslyFX"
      },
      "source": [
        "<h3> Task 2 </h3>\n",
        "\n",
        "Find $ M^T $ and $ N^T $ by using python.\n",
        "\n",
        "Print all matrices and verify the correctness of your outcome."
      ]
    },
    {
      "cell_type": "code",
      "execution_count": 21,
      "metadata": {
        "id": "2sDC54Z8lyFY",
        "outputId": "7ab8e535-cd2b-4f48-deb9-79d4d05349ad",
        "colab": {
          "base_uri": "https://localhost:8080/"
        }
      },
      "outputs": [
        {
          "output_type": "stream",
          "name": "stdout",
          "text": [
            "M =\n",
            "[-2, 3, 0, 4]\n",
            "[-1, 1, 5, 9]\n",
            "\n",
            "M^T =\n",
            "[-2, -1]\n",
            "[3, 1]\n",
            "[0, 5]\n",
            "[4, 9]\n",
            "\n",
            "N =\n",
            "[1, 2, 3]\n",
            "[4, 5, 6]\n",
            "[7, 8, 9]\n",
            "\n",
            "N^T =\n",
            "[1, 4, 7]\n",
            "[2, 5, 8]\n",
            "[3, 6, 9]\n",
            "\n"
          ]
        }
      ],
      "source": [
        "M = [\n",
        "    [-2,3,0,4],\n",
        "    [-1,1,5,9]\n",
        "]\n",
        "N =[\n",
        "    [1,2,3],\n",
        "    [4,5,6],\n",
        "    [7,8,9]\n",
        "]\n",
        "#\n",
        "# your solution is here\n",
        "#\n",
        "# Define transposes of M and N\n",
        "M_T, N_T = [], []\n",
        "\n",
        "# define function transpose that takes a matrix as input\n",
        "# and returns the transpose of the matrix\n",
        "def transpose(matrix):\n",
        "  matrix_T = []\n",
        "  for i in range(len(matrix[0])):\n",
        "    matrix_T.append([])\n",
        "    for j in range(len(matrix)):\n",
        "      matrix_T[i].append(matrix[j][i])\n",
        "  return matrix_T\n",
        "\n",
        "# define function to print matrices row by row\n",
        "def print_matrix(matrix):\n",
        "  for row in matrix: print(row)\n",
        "  print()\n",
        "\n",
        "# populate and print transposes of M and N\n",
        "M_T = transpose(M)\n",
        "N_T = transpose(N)\n",
        "print(\"M =\")\n",
        "print_matrix(M)\n",
        "print(\"M^T =\")\n",
        "print_matrix(M_T)\n",
        "print(\"N =\")\n",
        "print_matrix(N)\n",
        "print(\"N^T =\")\n",
        "print_matrix(N_T)"
      ]
    },
    {
      "cell_type": "markdown",
      "metadata": {
        "id": "FyOYLj77lyFY"
      },
      "source": [
        "To check out our solution, run the next cell:"
      ]
    },
    {
      "cell_type": "code",
      "execution_count": null,
      "metadata": {
        "id": "pwQ-v8ZLlyFY"
      },
      "outputs": [],
      "source": [
        "SolutionToTask2()  # show solution for task 2"
      ]
    },
    {
      "cell_type": "markdown",
      "metadata": {
        "id": "W-pFr6pClyFY"
      },
      "source": [
        "<h3> Multiplication of a matrix with a vector </h3>\n",
        "\n",
        "We define a matrix $ M $ and a column vector $ v $:\n",
        "\n",
        "$$\n",
        "    M = \\mymatrix{rrr}{-1 & 0 & 1 \\\\ -2 & -3 & 4 \\\\ 1 & 5 & 6} ~~~~~~\\mbox{and}~~~~~~ v = \\myrvector{1 \\\\ -3 \\\\ 2}.\n",
        "$$\n",
        "\n",
        "The multiplication of $ M v $ is a new vector $ u $ shown as $ u = M v $:\n",
        "\n",
        "- The first entry of $u $ is the dot product of the first row of $ M $ and $ v $.\n",
        "- The second entry of $ u $ is the dot product of the second row of $M$ and $ v $.\n",
        "- The third entry of $ u $ is the dot product of the third row of $M$ and $v$.\n",
        "\n",
        "We do the calculations by using python."
      ]
    },
    {
      "cell_type": "code",
      "execution_count": 22,
      "metadata": {
        "id": "zALsWS5_lyFY",
        "outputId": "17390c5d-3eda-452c-c896-cdc1c9daa36a",
        "colab": {
          "base_uri": "https://localhost:8080/"
        }
      },
      "outputs": [
        {
          "output_type": "stream",
          "name": "stdout",
          "text": [
            "M is\n",
            "[-1, 0, 1]\n",
            "[-2, -3, 4]\n",
            "[1, 5, 6]\n",
            "\n",
            "v= [1, -3, 2]\n",
            "\n",
            "u= [1, 15, -2]\n"
          ]
        }
      ],
      "source": [
        "# matrix M\n",
        "M = [\n",
        "    [-1,0,1],\n",
        "    [-2,-3,4],\n",
        "    [1,5,6]\n",
        "]\n",
        "\n",
        "# vector v\n",
        "v = [1,-3,2]\n",
        "\n",
        "# the result vector u\n",
        "u = []\n",
        "\n",
        "# for each row, we do an inner product\n",
        "for i in range(3):\n",
        "    # inner product for one row is initiated\n",
        "    inner_result = 0 # this variable keeps the summation of the pairwise multiplications\n",
        "    for j in range(3): # the elements in the i-th row\n",
        "        inner_result = inner_result + M[i][j] * v[j]\n",
        "    # inner product for one row is completed\n",
        "    u.append(inner_result)\n",
        "\n",
        "print(\"M is\")\n",
        "for i in range(len(M)):\n",
        "    print(M[i])\n",
        "print()\n",
        "print(\"v=\",v)\n",
        "print()\n",
        "print(\"u=\",u)"
      ]
    },
    {
      "cell_type": "markdown",
      "metadata": {
        "id": "iUnwyGmdlyFY"
      },
      "source": [
        "We check the calculations:\n",
        "\n",
        "$$\n",
        " \\mbox{First row:}~~~~  \\myrvector{-1 \\\\ 0 \\\\ 1} \\cdot \\myrvector{1 \\\\ -3 \\\\ 2}  = (-1)\\cdot 1 + 0 \\cdot (-3) + 1 \\cdot 2 = -1 + 0 + 2 = 1.\n",
        "$$\n",
        "$$\n",
        " \\mbox{Second row:}~~~~  \\myrvector{-2 \\\\ -3 \\\\ 4} \\cdot\\myrvector{1 \\\\ -3 \\\\ 2}  = (-2)\\cdot 1 + (-3) \\cdot (-3) + 4 \\cdot 2 = -2 + 9 + 8 = 15.\n",
        "$$\n",
        "$$\n",
        " \\mbox{Third row:}~~~~  \\myrvector{1 \\\\ 5 \\\\ 6} \\cdot \\myrvector{1 \\\\ -3 \\\\ 2}  = 1\\cdot 1 + 5 \\cdot (-3) + 6 \\cdot 2 = 1 - 15 + 12 = -2.\n",
        "$$\n",
        "\n",
        "Then,\n",
        "$$\n",
        "    u = \\myrvector{1 \\\\ 15 \\\\ -2 }.\n",
        "$$"
      ]
    },
    {
      "cell_type": "markdown",
      "metadata": {
        "id": "gZlEqppMlyFY"
      },
      "source": [
        "<b>Observations:</b>\n",
        "\n",
        "- The dimension of the row of $ M $ is the same as the dimension of $ v $. Otherwise, the inner product is not defined.\n",
        "- The dimension of the result vector is the number of rows in $ M $, because we have the dot product for each row of $ M $"
      ]
    },
    {
      "cell_type": "markdown",
      "metadata": {
        "id": "3T9MqdTllyFY"
      },
      "source": [
        "<h3> Task 3 </h3>\n",
        "\n",
        "Find $ u' = N u $ by using python for the following matrix $ N $ and column vector $ u $:\n",
        "\n",
        "$$\n",
        "    N = \\mymatrix{rrr}{-1 & 1 & 2 \\\\ 0 & -2 & -3 \\\\ 3 & 2 & 5 \\\\ 0 & 2 & -2} ~~~~~~\\mbox{and}~~~~~~ u = \\myrvector{2 \\\\ -1 \\\\ 3}.\n",
        "$$"
      ]
    },
    {
      "cell_type": "code",
      "execution_count": 25,
      "metadata": {
        "id": "YrUNGeqXlyFY",
        "outputId": "7b99fd74-0141-41df-ce35-ac36f5902335",
        "colab": {
          "base_uri": "https://localhost:8080/"
        }
      },
      "outputs": [
        {
          "output_type": "stream",
          "name": "stdout",
          "text": [
            "u' = [3, -7, 19, -8]\n"
          ]
        }
      ],
      "source": [
        "#\n",
        "# your solution is here\n",
        "#\n",
        "# define matrix N\n",
        "N = [\n",
        "      [-1, 1, 2],\n",
        "      [0, -2, -3],\n",
        "      [3, 2, 5],\n",
        "      [0, 2, -2]\n",
        "]\n",
        "\n",
        "# define u\n",
        "u = [2, -1, 3]\n",
        "\n",
        "# define empty vector u_prime\n",
        "u_prime = []\n",
        "\n",
        "# populate u_prime\n",
        "for i in range(len(N)):\n",
        "  inner_sum = 0\n",
        "  for j in range(len(N[0])):\n",
        "    inner_sum += N[i][j] * u[j]\n",
        "  u_prime.append(inner_sum)\n",
        "\n",
        "# print u_prime\n",
        "print(\"u' =\", u_prime)"
      ]
    },
    {
      "cell_type": "markdown",
      "metadata": {
        "id": "ecl_gE7qlyFY"
      },
      "source": [
        "To check out our solution, run the next cell:"
      ]
    },
    {
      "cell_type": "code",
      "execution_count": null,
      "metadata": {
        "id": "dIytUEWZlyFY"
      },
      "outputs": [],
      "source": [
        "SolutionToTask3()  # show solution for task 3"
      ]
    },
    {
      "cell_type": "markdown",
      "metadata": {
        "id": "yDAvXZq8lyFY"
      },
      "source": [
        "<h3> Multiplication of two matrices </h3>\n",
        "\n",
        "This is just the generalization of the procedure given above.\n",
        "\n",
        "We find matrix $ K = M N $ for given matrices\n",
        "$\n",
        "    M = \\mymatrix{rrr}{-1 & 0 & 1 \\\\ -2 & -1 & 2 \\\\ 1 & 2 & -2} ~~\\mbox{and}~~\n",
        "    N = \\mymatrix{rrr}{0 & 2 & 1 \\\\ 3 & -1 & -2 \\\\ -1 & 1 & 0}.\n",
        "$"
      ]
    },
    {
      "cell_type": "markdown",
      "metadata": {
        "id": "oePaoQ-nlyFY"
      },
      "source": [
        "Remark that the matrix $ N $ has three columns: $ v_1 = \\myrvector{0 \\\\ 3 \\\\ -1} $, $ v_2 = \\myrvector{2 \\\\ -1 \\\\ 1} $, and $ v_3 = \\myrvector{1 \\\\ -2 \\\\ 0} $.\n",
        "\n",
        "We know how to calculate $ v_1' = M  v_1 $.\n",
        "\n",
        "Similarly, we can calculate $ v_2' = M  v_2 $ and $ v_3' = M  v_3 $.\n",
        "\n",
        "It may have already been guessed that these new column vectors ($v_1'$, $v_2'$, and $v_3'$) are the columns of the result matrix $ K $.\n",
        "\n",
        "The dot product of the i-th row of $ M $ and $ j $-th column of $ N $ gives the $(i,j)$-th entry of $ K $."
      ]
    },
    {
      "cell_type": "markdown",
      "metadata": {
        "id": "aF3kjsVClyFY"
      },
      "source": [
        "<h3> Task 4 </h3>\n",
        "\n",
        "Find matrix $ K $.\n",
        "\n",
        "This is a challenging task. You may use triple nested for-loops.\n",
        "\n",
        "You may also consider to write a function taking two lists and returning their dot product."
      ]
    },
    {
      "cell_type": "code",
      "execution_count": 26,
      "metadata": {
        "id": "7o7iN-AvlyFY",
        "outputId": "bb85883d-76e8-423c-a71e-8546d6182e77",
        "colab": {
          "base_uri": "https://localhost:8080/"
        }
      },
      "outputs": [
        {
          "output_type": "stream",
          "name": "stdout",
          "text": [
            "K =\n",
            "[-1, -1, -1]\n",
            "[-5, -1, 0]\n",
            "[8, -2, -3]\n",
            "\n"
          ]
        }
      ],
      "source": [
        "# matrix M\n",
        "M = [\n",
        "    [-1,0,1],\n",
        "    [-2,-1,2],\n",
        "    [1,2,-2]\n",
        "]\n",
        "\n",
        "# matrix N\n",
        "N = [\n",
        "    [0,2,1],\n",
        "    [3,-1,-2],\n",
        "    [-1,1,0]\n",
        "]\n",
        "\n",
        "# matrix K\n",
        "K = []\n",
        "\n",
        "#\n",
        "# your solution is here\n",
        "#\n",
        "# define function that finds dot product of 2 lists\n",
        "def dot_product(list1, list2):\n",
        "  dot_product = 0\n",
        "  for i in range(len(list1)):\n",
        "    dot_product += list1[i] * list2[i]\n",
        "  return dot_product\n",
        "\n",
        "# populate K\n",
        "for i in range(len(M)):\n",
        "  K.append([])\n",
        "  for j in range(len(M[0])):\n",
        "    K[i].append(dot_product(M[i], [row[j] for row in N]))\n",
        "\n",
        "# print K\n",
        "print(\"K =\")\n",
        "print_matrix(K)"
      ]
    },
    {
      "cell_type": "markdown",
      "metadata": {
        "id": "Deax7rKQlyFY"
      },
      "source": [
        "To check out our solution, run the next cell:"
      ]
    },
    {
      "cell_type": "code",
      "execution_count": null,
      "metadata": {
        "id": "sCIkASlwlyFY"
      },
      "outputs": [],
      "source": [
        "SolutionToTask4()  # show solution for task 4"
      ]
    },
    {
      "cell_type": "markdown",
      "metadata": {
        "id": "zXDih1RslyFZ"
      },
      "source": [
        "<h3> Is $ A  B = B  A $? </h3>\n",
        "\n",
        "It is a well-known fact that the order of numbers does not matter in multiplication.\n",
        "\n",
        "For example, $ (-3) \\cdot 4 = 4 \\cdot (-3) $.\n",
        "\n",
        "Is it also true for matrices? For any given two matrices $ A $ and $ B $, is $ A  B = B  A $?\n",
        "\n",
        "There are some examples of $A$ and $B$ such that $ A B = B  A $.\n",
        "\n",
        "But this is not true in general, and so this statement is false.\n",
        "\n",
        "We can falsify this statement by finding a counter-example.\n",
        "\n",
        "We write a program using a probabilistic strategy.\n",
        "\n",
        "The idea is as follows: Randomly find two example matrices $ A $ and $ B $ such that $ AB \\neq BA $.\n",
        "\n",
        "Remark that if  $ AB = BA $, then $ AB - BA $ is a zero matrix."
      ]
    },
    {
      "cell_type": "markdown",
      "metadata": {
        "id": "qBq8Brl_lyFZ"
      },
      "source": [
        "<h3> Task 5 </h3>\n",
        "\n",
        "Randomly define two $ (2 \\times 2) $-dimensional matrices $A$ and $ B $.\n",
        "\n",
        "Then, find $ C= AB-BA $. If $ C $ is not a zero matrix, then we are done.\n",
        "\n",
        "<i>Remark: With some chances, we may find a pair of $ (A,B) $ such that $ AB = BA $.\n",
        "    \n",
        "In this case, repeat your experiment. </i>"
      ]
    },
    {
      "cell_type": "code",
      "execution_count": 36,
      "metadata": {
        "id": "W1tAWuZblyFZ",
        "outputId": "9c2fcfe7-f550-4e9c-d8ba-696b5d4b83d1",
        "colab": {
          "base_uri": "https://localhost:8080/"
        }
      },
      "outputs": [
        {
          "output_type": "stream",
          "name": "stdout",
          "text": [
            "A =\n",
            "[-2, 6]\n",
            "[6, 7]\n",
            "\n",
            "B =\n",
            "[0, 8]\n",
            "[9, 1]\n",
            "\n",
            "C = AB - BA =\n",
            "[6, -66]\n",
            "[75, -6]\n",
            "\n"
          ]
        }
      ],
      "source": [
        "#\n",
        "# your solution is here\n",
        "#\n",
        "from random import randrange\n",
        "\n",
        "# define a function that randomly creates a matrix given the\n",
        "# number of rows and columns\n",
        "def random_matrix(rows, columns):\n",
        "  matrix = []\n",
        "  for i in range(rows):\n",
        "    matrix.append([])\n",
        "    for j in range(columns):\n",
        "      matrix[i].append(randrange(-10, 11))\n",
        "  return matrix\n",
        "\n",
        "# define a function that finds the product of 2 matrices\n",
        "def matrix_product(matrix1, matrix2):\n",
        "  matrix_product = []\n",
        "  for i in range(len(matrix1)):\n",
        "    matrix_product.append([])\n",
        "    for j in range(len(matrix1[0])):\n",
        "      matrix_product[i].append(dot_product(matrix1[i], [row[j] for row in matrix2]))\n",
        "  return matrix_product\n",
        "\n",
        "# define a matrix to subtract 2 matrices\n",
        "def subtract_matrices(matrix1, matrix2):\n",
        "  matrix = []\n",
        "  for i in range(len(matrix1)):\n",
        "    matrix.append([])\n",
        "    for j in range(len(matrix1[0])):\n",
        "      matrix[i].append(matrix1[i][j] - matrix2[i][j])\n",
        "  return matrix\n",
        "\n",
        "# define a function to check if 2 matrices are the same\n",
        "def are_matrices_equal(matrix1, matrix2):\n",
        "  for i in range(len(matrix1)):\n",
        "    for j in range(len(matrix1[0])):\n",
        "      if matrix1[i][j] != matrix2[i][j]:\n",
        "        return False\n",
        "  return True\n",
        "\n",
        "# define a function that creates the zero matrix for\n",
        "# a given number of rows and columns\n",
        "def zero_matrix(rows, columns):\n",
        "  matrix = []\n",
        "  for i in range(rows):\n",
        "    matrix.append([])\n",
        "    for j in range(columns):\n",
        "      matrix[i].append(0)\n",
        "  return matrix\n",
        "\n",
        "# define matrices A and B\n",
        "A = random_matrix(2, 2)\n",
        "B = random_matrix(2, 2)\n",
        "\n",
        "# define matrix C\n",
        "C = subtract_matrices(matrix_product(A, B), matrix_product(B, A))\n",
        "\n",
        "# define result\n",
        "result = are_matrices_equal(C, zero_matrix(2, 2))\n",
        "\n",
        "# Ensure C isn't zero\n",
        "while result == True:\n",
        "  A = random_matrix(2, 2)\n",
        "  B = random_matrix(2, 2)\n",
        "  C = subtract_matrices(matrix_product(A, B), matrix_product(B, A))\n",
        "  result = are_matrices_equal(C, zero_matrix(2, 2))\n",
        "\n",
        "# print A, B and C\n",
        "print(\"A =\")\n",
        "print_matrix(A)\n",
        "print(\"B =\")\n",
        "print_matrix(B)\n",
        "print(\"C = AB - BA =\")\n",
        "print_matrix(C)"
      ]
    },
    {
      "cell_type": "markdown",
      "metadata": {
        "id": "5UuhPWdvlyFZ"
      },
      "source": [
        "To check out our solution, run the next cell:"
      ]
    },
    {
      "cell_type": "code",
      "execution_count": null,
      "metadata": {
        "id": "OeEhicMGlyFZ"
      },
      "outputs": [],
      "source": [
        "SolutionToTask5()  # show solution for task 5"
      ]
    }
  ],
  "metadata": {
    "kernelspec": {
      "display_name": "Python 3 (ipykernel)",
      "language": "python",
      "name": "python3"
    },
    "language_info": {
      "codemirror_mode": {
        "name": "ipython",
        "version": 3
      },
      "file_extension": ".py",
      "mimetype": "text/x-python",
      "name": "python",
      "nbconvert_exporter": "python",
      "pygments_lexer": "ipython3",
      "version": "3.11.4"
    },
    "colab": {
      "provenance": [],
      "collapsed_sections": [
        "mq4QyJvMlyFV"
      ],
      "include_colab_link": true
    }
  },
  "nbformat": 4,
  "nbformat_minor": 0
}