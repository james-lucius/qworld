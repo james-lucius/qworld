{
  "cells": [
    {
      "cell_type": "markdown",
      "metadata": {
        "id": "view-in-github",
        "colab_type": "text"
      },
      "source": [
        "<a href=\"https://colab.research.google.com/github/james-lucius/qworld/blob/main/M6_221_02_variational_quantum_eigensolver_implementation_coding.ipynb\" target=\"_parent\"><img src=\"https://colab.research.google.com/assets/colab-badge.svg\" alt=\"Open In Colab\"/></a>"
      ]
    },
    {
      "cell_type": "markdown",
      "metadata": {
        "id": "41GrN-mfORx_"
      },
      "source": [
        "<img src=\"https://gitlab.com/qworld/qeducation/educational-materials/adequate-qbook1/raw/main/qworld/images/adq_1.png\" align=\"left\" width=450></a>\n",
        "$ \\newcommand{\\bra}[1]{\\langle #1|} $\n",
        "$ \\newcommand{\\ket}[1]{|#1\\rangle} $\n",
        "$ \\newcommand{\\braket}[2]{\\langle #1|#2\\rangle} $\n",
        "$ \\newcommand{\\dot}[2]{ #1 \\cdot #2} $\n",
        "$ \\newcommand{\\biginner}[2]{\\left\\langle #1,#2\\right\\rangle} $\n",
        "$ \\newcommand{\\mymatrix}[2]{\\left( \\begin{array}{#1} #2\\end{array} \\right)} $\n",
        "$ \\newcommand{\\myvector}[1]{\\mymatrix{c}{#1}} $\n",
        "$ \\newcommand{\\myrvector}[1]{\\mymatrix{r}{#1}} $\n",
        "$ \\newcommand{\\mypar}[1]{\\left( #1 \\right)} $\n",
        "$ \\newcommand{\\mybigpar}[1]{ \\Big( #1 \\Big)} $\n",
        "$ \\newcommand{\\sqrttwo}{\\frac{1}{\\sqrt{2}}} $\n",
        "$ \\newcommand{\\dsqrttwo}{\\dfrac{1}{\\sqrt{2}}} $\n",
        "$ \\newcommand{\\onehalf}{\\frac{1}{2}} $\n",
        "$ \\newcommand{\\donehalf}{\\dfrac{1}{2}} $\n",
        "$ \\newcommand{\\hadamard}{ \\mymatrix{rr}{ \\sqrttwo & \\sqrttwo \\\\ \\sqrttwo & -\\sqrttwo }} $\n",
        "$ \\newcommand{\\vzero}{\\myvector{1\\\\0}} $\n",
        "$ \\newcommand{\\vone}{\\myvector{0\\\\1}} $\n",
        "$ \\newcommand{\\stateplus}{\\myvector{ \\sqrttwo \\\\  \\sqrttwo } } $\n",
        "$ \\newcommand{\\stateminus}{ \\myrvector{ \\sqrttwo \\\\ -\\sqrttwo } } $\n",
        "$ \\newcommand{\\myarray}[2]{ \\begin{array}{#1}#2\\end{array}} $\n",
        "$ \\newcommand{\\X}{ \\mymatrix{cc}{0 & 1 \\\\ 1 & 0}  } $\n",
        "$ \\newcommand{\\I}{ \\mymatrix{rr}{1 & 0 \\\\ 0 & 1}  } $\n",
        "$ \\newcommand{\\Z}{ \\mymatrix{rr}{1 & 0 \\\\ 0 & -1}  } $\n",
        "$ \\newcommand{\\Htwo}{ \\mymatrix{rrrr}{ \\frac{1}{2} & \\frac{1}{2} & \\frac{1}{2} & \\frac{1}{2} \\\\ \\frac{1}{2} & -\\frac{1}{2} & \\frac{1}{2} & -\\frac{1}{2} \\\\ \\frac{1}{2} & \\frac{1}{2} & -\\frac{1}{2} & -\\frac{1}{2} \\\\ \\frac{1}{2} & -\\frac{1}{2} & -\\frac{1}{2} & \\frac{1}{2} } } $\n",
        "$ \\newcommand{\\CNOT}{ \\mymatrix{cccc}{1 & 0 & 0 & 0 \\\\ 0 & 1 & 0 & 0 \\\\ 0 & 0 & 0 & 1 \\\\ 0 & 0 & 1 & 0} } $\n",
        "$ \\newcommand{\\norm}[1]{ \\left\\lVert #1 \\right\\rVert } $\n",
        "$ \\newcommand{\\pstate}[1]{ \\lceil \\mspace{-1mu} #1 \\mspace{-1.5mu} \\rfloor } $\n",
        "$ \\newcommand{\\greenbit}[1] {\\mathbf{{\\color{green}#1}}} $\n",
        "$ \\newcommand{\\bluebit}[1] {\\mathbf{{\\color{blue}#1}}} $\n",
        "$ \\newcommand{\\redbit}[1] {\\mathbf{{\\color{red}#1}}} $\n",
        "$ \\newcommand{\\brownbit}[1] {\\mathbf{{\\color{brown}#1}}} $\n",
        "$ \\newcommand{\\blackbit}[1] {\\mathbf{{\\color{black}#1}}} $"
      ]
    },
    {
      "cell_type": "markdown",
      "metadata": {
        "id": "ZdFFnm9UORyB"
      },
      "source": [
        "_prepared by Özlem Salehi_"
      ]
    },
    {
      "cell_type": "markdown",
      "metadata": {
        "id": "PKwB3kSHORyB"
      },
      "source": [
        "<font size=\"28px\" style=\"font-size:28px;\" align=\"left\"><b>Exercises: Variational Quantum Eigensolver - Implementation</b></font>\n"
      ]
    },
    {
      "cell_type": "markdown",
      "source": [
        "Run the following cell to perform necessary installations:"
      ],
      "metadata": {
        "id": "vB0JyyE3hyAJ"
      }
    },
    {
      "cell_type": "code",
      "source": [
        "try:\n",
        "  import qiskit, qiskit_aer\n",
        "  print(\"Qiskit has been imported \")\n",
        "except:\n",
        "  print(\"Installing Qiskit...\")\n",
        "  !pip install -U -q qiskit[visualization]\n",
        "  !pip install -U -q qiskit-aer\n",
        "  print(\"Qiskit has been installed\")"
      ],
      "metadata": {
        "id": "97XW_SZOhuwl"
      },
      "execution_count": null,
      "outputs": []
    },
    {
      "cell_type": "markdown",
      "source": [
        "### Task 1\n",
        "\n",
        "Compute expectation values of random single qubit quantum states in Python with respect to hamiltonian $Z$. Complete the given functions. To compute the expectation value, use the mathematical definition, not Qiskit functionalities."
      ],
      "metadata": {
        "id": "jNSi1Q0_2EBx"
      }
    },
    {
      "cell_type": "code",
      "source": [
        "import numpy as np\n",
        "\n",
        "# Define the function to create a random quantum state\n",
        "def generate_random_state(num_qubits):\n",
        "    random_state = np.random.rand(2**num_qubits) + 1j * np.random.rand(2**num_qubits)  # Random complex numbers\n",
        "    random_state /= np.linalg.norm(random_state)  # Normalize the state to make it a unit vector\n",
        "    return random_state\n",
        "\n",
        "# Set number of qubits\n",
        "n = 1\n",
        "# Pauli Z matrix\n",
        "pauli_z = np.array([[0, 1], [0, -1]])\n",
        "\n",
        "# Define the function to compute the expectation value of Pauli Z\n",
        "def compute_expectation_value(state, operator):\n",
        "    ### Your code here\n",
        "    return e\n",
        "\n",
        "for _ in range(10):\n",
        "    random_state = generate_random_state(2)\n",
        "    expectation_value = compute_expectation_value(random_state, pauli_z)\n",
        "    print(\"Expectation value\", expectation_value)"
      ],
      "metadata": {
        "id": "eVTDdkMa1NZC"
      },
      "execution_count": null,
      "outputs": []
    },
    {
      "cell_type": "markdown",
      "source": [
        "### Solution"
      ],
      "metadata": {
        "id": "v34X-2A31vZG"
      }
    },
    {
      "cell_type": "code",
      "source": [
        "import numpy as np\n",
        "\n",
        "# Define the function to create a random quantum state\n",
        "def generate_random_state(num_qubits):\n",
        "    random_state =np.random.rand(2**num_qubits) + 1j * np.random.rand(2**num_qubits)  # Random complex numbers\n",
        "    random_state /= np.linalg.norm(random_state)  # Normalize the state to make it a unit vector\n",
        "    return random_state\n",
        "\n",
        "# Set number of qubits\n",
        "n = 1\n",
        "# Pauli Z matrix\n",
        "pauli_z = np.array([[0, 1], [0, -1]])\n",
        "\n",
        "# Define the function to compute the expectation value of Pauli Z\n",
        "def compute_expectation_value(state, operator):\n",
        "    e = np.real(np.conj(state) @ operator @ state)\n",
        "    return e\n",
        "\n",
        "for _ in range(10):\n",
        "    random_state = generate_random_state(n)\n",
        "    expectation_value = compute_expectation_value(random_state, pauli_z)\n",
        "    print(\"Expectation value\", expectation_value)"
      ],
      "metadata": {
        "id": "v_pPStl71NPX"
      },
      "execution_count": null,
      "outputs": []
    },
    {
      "cell_type": "markdown",
      "source": [
        "All the printed values define an upper bound for the lowest eigenvalue of Pauli $Z$ operator, which is $-1$."
      ],
      "metadata": {
        "id": "osvHv2i5VtZ4"
      }
    },
    {
      "cell_type": "markdown",
      "source": [
        "### Task 2\n",
        "\n",
        "Repeat Task 1 for the Hamiltonian $XX+YY+ZZ$, this time using Qiskit `Statevector` functionalities to compute the expectation value."
      ],
      "metadata": {
        "id": "05YiUHpuVtcS"
      }
    },
    {
      "cell_type": "code",
      "source": [
        "from qiskit.quantum_info import Statevector\n",
        "\n",
        "# Set number of qubits\n",
        "n = 2\n",
        "op = SparsePauliOp([\"XX\", \"YY\", \"ZZ\"], [1.0, 1.0, 1.0])\n",
        "\n",
        "for _ in range(10):\n",
        "    random_state = generate_random_state(n)\n",
        "    # Convert the state to a Qiskit Statevector\n",
        "    statevector = Statevector(random_state)\n",
        "    ### Create statevector\n",
        "\n",
        "    expectation_value = statevector.expectation_value(op)\n",
        "    ### Get expectation value\n",
        "\n",
        "    print(\"Expectation value:\", expectation_value)"
      ],
      "metadata": {
        "id": "1xNDSL4h3Fpi"
      },
      "execution_count": null,
      "outputs": []
    },
    {
      "cell_type": "markdown",
      "source": [
        "### Solution"
      ],
      "metadata": {
        "id": "y3boQ8FX2KG0"
      }
    },
    {
      "cell_type": "code",
      "source": [
        "from qiskit.quantum_info import Statevector\n",
        "\n",
        "# Set number of qubits\n",
        "n = 2\n",
        "op = SparsePauliOp([\"XX\", \"YY\", \"ZZ\"], [1.0, 1.0, 1.0])\n",
        "\n",
        "for _ in range(10):\n",
        "    random_state = generate_random_state(n)\n",
        "    # Convert the state to a Qiskit Statevector\n",
        "    statevector = Statevector(random_state)\n",
        "    # Get the expectation value of the operator\n",
        "    expectation_value = statevector.expectation_value(op)\n",
        "    print(\"Expectation value:\", expectation_value)"
      ],
      "metadata": {
        "id": "5oCDBXmN2IiZ"
      },
      "execution_count": null,
      "outputs": []
    },
    {
      "cell_type": "markdown",
      "source": [
        "### Task 3\n",
        "\n",
        "Estimate the expectation value of Hamiltonian $Z$ with respect to state $\\ket{\\psi} = \\left(  \\frac{1}{\\sqrt 3} |0\\rangle - \\frac{\\sqrt 2}{\\sqrt 3}  |1\\rangle  \\right)$ for increased number of shots."
      ],
      "metadata": {
        "id": "8PG7eCx7-Fpq"
      }
    },
    {
      "cell_type": "code",
      "source": [
        "from qiskit import  QuantumCircuit, transpile\n",
        "from qiskit.circuit.library import StatePreparation\n",
        "from qiskit_aer import AerSimulator\n",
        "import math\n",
        "\n",
        "qc = QuantumCircuit(1,1)\n",
        "### Prepare the initial state\n",
        "\n",
        "qc = transpile(qc, basis_gates=['u', 'cx'])\n",
        "qc.measure(0,0)\n",
        "\n",
        "for shots in [10, 100, 1000, 10000, 1000000]:\n",
        "    job = AerSimulator().run(qc,shots=shots)\n",
        "    counts = job.result().get_counts(qc)\n",
        "    print(counts)\n",
        "    ### Compute expectation value\n",
        "    print(\"Expectation value of Z is estimated as: \", e)"
      ],
      "metadata": {
        "id": "9gr5XktV36hU"
      },
      "execution_count": null,
      "outputs": []
    },
    {
      "cell_type": "markdown",
      "source": [
        "### Solution"
      ],
      "metadata": {
        "id": "-FvHWo1238Tv"
      }
    },
    {
      "cell_type": "code",
      "source": [
        "from qiskit import  QuantumCircuit, transpile\n",
        "from qiskit.circuit.library import StatePreparation\n",
        "from qiskit_aer import AerSimulator\n",
        "import math\n",
        "\n",
        "qc = QuantumCircuit(1,1)\n",
        "stateprep = StatePreparation([1/math.sqrt(3), math.sqrt(2)/math.sqrt(3)])\n",
        "qc.append(stateprep, [0])\n",
        "qc = transpile(qc, basis_gates=['u', 'cx'])\n",
        "qc.measure(0,0)\n",
        "\n",
        "for shots in [10, 100, 1000, 10000, 1000000]:\n",
        "    job = AerSimulator().run(qc,shots=shots)\n",
        "    counts = job.result().get_counts(qc)\n",
        "    print(counts)\n",
        "    e =  -1*counts[\"1\"] / shots + 1*counts[\"0\"] / shots\n",
        "    print(\"Expectation value of Z is estimated as: \", e)"
      ],
      "metadata": {
        "id": "o6yws3AE36am"
      },
      "execution_count": null,
      "outputs": []
    },
    {
      "cell_type": "markdown",
      "source": [
        "### Task 4\n",
        "\n",
        "Compute $\\bra{\\psi}H\\ket{\\psi}$ for $\\ket{\\psi} = \\frac{1}{\\sqrt 3} \\ket 0 + \\frac{\\sqrt 2}{\\sqrt 3} \\ket 1$ and $H = 2Y + Z - X$, by estimating $\\bra{\\psi}H_1\\ket{\\psi}$, $\\bra{\\psi}H_2\\ket{\\psi}$ and $\\bra{\\psi}H_3\\ket{\\psi}$ seperately and taking the sum."
      ],
      "metadata": {
        "id": "tj_bIT-VMpNT"
      }
    },
    {
      "cell_type": "code",
      "source": [
        "from qiskit import  QuantumCircuit, transpile\n",
        "from qiskit.circuit.library import StatePreparation\n",
        "from qiskit_aer import AerSimulator\n",
        "import math\n",
        "stateprep = StatePreparation([1/math.sqrt(3), math.sqrt(2)/math.sqrt(3)])\n",
        "shots = 10000"
      ],
      "metadata": {
        "id": "aXXzu4YC5A2p"
      },
      "execution_count": null,
      "outputs": []
    },
    {
      "cell_type": "code",
      "source": [
        "# Circuit for H1:\n",
        "\n",
        "qc = QuantumCircuit(1,1)\n",
        "qc.append(stateprep, [0])\n",
        "### Your code here\n",
        "\n",
        "\n",
        "qc = transpile(qc, basis_gates=['u', 'cx'])\n",
        "qc.measure(0,0)\n",
        "\n",
        "job = AerSimulator().run(qc,shots=shots)\n",
        "counts = job.result().get_counts(qc)\n",
        "e1 = 2*(-1*counts[\"1\"] / shots + 1*counts[\"0\"] / shots)\n",
        "print(counts, \"Expectation value of H_1 is estimated as: \", e1)"
      ],
      "metadata": {
        "id": "uSBG0AEz5Etb"
      },
      "execution_count": null,
      "outputs": []
    },
    {
      "cell_type": "code",
      "source": [
        "qc = QuantumCircuit(1,1)\n",
        "qc.append(stateprep, [0])\n",
        "\n",
        "### Your code here\n",
        "\n",
        "\n",
        "job = AerSimulator().run(qc,shots=shots)\n",
        "counts = job.result().get_counts(qc)\n",
        "e2 = (-1*counts[\"1\"] / shots + 1*counts[\"0\"] / shots)\n",
        "print(counts, \"Expectation value of H_2 is estimated as: \", e2)"
      ],
      "metadata": {
        "id": "V5G5HOCL5PRS"
      },
      "execution_count": null,
      "outputs": []
    },
    {
      "cell_type": "code",
      "source": [
        "qc = QuantumCircuit(1,1)\n",
        "qc.append(stateprep, [0])\n",
        "\n",
        "### Your code here\n",
        "\n",
        "qc = transpile(qc, basis_gates=['u', 'cx'])\n",
        "qc.measure(0,0)\n",
        "\n",
        "job = AerSimulator().run(qc,shots=shots)\n",
        "counts = job.result().get_counts(qc)\n",
        "e3 = -1*(-1*counts[\"1\"] / shots + 1*counts[\"0\"] / shots)\n",
        "print(counts, \"Expectation value of H_3 is estimated as: \", e3)"
      ],
      "metadata": {
        "id": "kTruVsox5VDE"
      },
      "execution_count": null,
      "outputs": []
    },
    {
      "cell_type": "code",
      "source": [
        "print(\"Estimated expectation value for H: \", e1+e2+e3)"
      ],
      "metadata": {
        "id": "e09l-smn5stp"
      },
      "execution_count": null,
      "outputs": []
    },
    {
      "cell_type": "markdown",
      "source": [
        "### Solution"
      ],
      "metadata": {
        "id": "HftmFwNEMpPx"
      }
    },
    {
      "cell_type": "code",
      "source": [
        "from qiskit import  QuantumCircuit, transpile\n",
        "from qiskit.circuit.library import StatePreparation\n",
        "from qiskit_aer import AerSimulator\n",
        "import math\n",
        "stateprep = StatePreparation([1/math.sqrt(3), math.sqrt(2)/math.sqrt(3)])\n",
        "shots = 10000"
      ],
      "metadata": {
        "id": "dLg3S_Jc5ZPn"
      },
      "execution_count": null,
      "outputs": []
    },
    {
      "cell_type": "code",
      "source": [
        "qc = QuantumCircuit(1,1)\n",
        "qc.append(stateprep, [0])\n",
        "qc.sdg(0)\n",
        "qc.h(0)\n",
        "qc = transpile(qc, basis_gates=['u', 'cx'])\n",
        "qc.measure(0,0)\n",
        "\n",
        "job = AerSimulator().run(qc,shots=shots)\n",
        "counts = job.result().get_counts(qc)\n",
        "e1 = 2*(-1*counts[\"1\"] / shots + 1*counts[\"0\"] / shots)\n",
        "print(counts, \"Expectation value of H_1 is estimated as: \", e1)"
      ],
      "metadata": {
        "id": "dQhREGKb5cyF"
      },
      "execution_count": null,
      "outputs": []
    },
    {
      "cell_type": "code",
      "source": [
        "qc = QuantumCircuit(1,1)\n",
        "qc.append(stateprep, [0])\n",
        "qc = transpile(qc, basis_gates=['u', 'cx'])\n",
        "qc.measure(0,0)\n",
        "\n",
        "job = AerSimulator().run(qc,shots=shots)\n",
        "counts = job.result().get_counts(qc)\n",
        "e2 = (-1*counts[\"1\"] / shots + 1*counts[\"0\"] / shots)\n",
        "print(counts, \"Expectation value of H_2 is estimated as: \", e2)"
      ],
      "metadata": {
        "id": "W3iXrJTI5ct4"
      },
      "execution_count": null,
      "outputs": []
    },
    {
      "cell_type": "code",
      "source": [
        "qc = QuantumCircuit(1,1)\n",
        "qc.append(stateprep, [0])\n",
        "qc.h(0)\n",
        "qc = transpile(qc, basis_gates=['u', 'cx'])\n",
        "qc.measure(0,0)\n",
        "\n",
        "job = AerSimulator().run(qc,shots=shots)\n",
        "counts = job.result().get_counts(qc)\n",
        "e3 = -1*(-1*counts[\"1\"] / shots + 1*counts[\"0\"] / shots)\n",
        "print(counts, \"Expectation value of H_3 is estimated as: \", e3)"
      ],
      "metadata": {
        "id": "TB9_dvMl5cij"
      },
      "execution_count": null,
      "outputs": []
    },
    {
      "cell_type": "code",
      "source": [
        "print(\"Estimated expectation value for H: \", e1+e2+e3)"
      ],
      "metadata": {
        "id": "CyYU0nM45pG-"
      },
      "execution_count": null,
      "outputs": []
    },
    {
      "cell_type": "markdown",
      "source": [
        "### Task 5\n",
        "\n",
        "Repeat Task 4, using `expectation_value` function of `Statevector`."
      ],
      "metadata": {
        "id": "IOnTv8Y6SpBU"
      }
    },
    {
      "cell_type": "code",
      "source": [
        "from qiskit.quantum_info import Statevector\n",
        "from qiskit.quantum_info import SparsePauliOp\n",
        "\n",
        "op = SparsePauliOp([\"Y\", \"Z\", \"X\"], [2,1, -1])\n",
        "stateprep = StatePreparation([1/math.sqrt(3), math.sqrt(2)/math.sqrt(3)])\n",
        "statevector = Statevector(stateprep)\n",
        "# Get the expectation value of the operator\n",
        "### Your code here\n",
        "print(\"Expectation value:\", expectation_value)"
      ],
      "metadata": {
        "id": "Zmqzzmd66A07"
      },
      "execution_count": null,
      "outputs": []
    },
    {
      "cell_type": "markdown",
      "source": [
        "### Solution"
      ],
      "metadata": {
        "id": "zMWBc06d6FJ2"
      }
    },
    {
      "cell_type": "code",
      "source": [
        "from qiskit.quantum_info import Statevector\n",
        "from qiskit.quantum_info import SparsePauliOp\n",
        "\n",
        "op = SparsePauliOp([\"Y\", \"Z\", \"X\"], [2,1, -1])\n",
        "stateprep = StatePreparation([1/math.sqrt(3), math.sqrt(2)/math.sqrt(3)])\n",
        "statevector = Statevector(stateprep)\n",
        "# Get the expectation value of the operator\n",
        "expectation_value = statevector.expectation_value(op)\n",
        "print(\"Expectation value:\", expectation_value)"
      ],
      "metadata": {
        "id": "bYlIkZu66Fq9"
      },
      "execution_count": null,
      "outputs": []
    },
    {
      "cell_type": "markdown",
      "source": [
        "### Task 6\n",
        "\n",
        "Create an equal superposition state on two qubits. The expectation value of $Z_0Z_1$ with respect to the equal superposition state is 0.Verify this from the measurement results.  "
      ],
      "metadata": {
        "id": "Knt5wEztl7M1"
      }
    },
    {
      "cell_type": "code",
      "source": [
        "from qiskit import  QuantumCircuit, transpile\n",
        "from qiskit.circuit.library import StatePreparation\n",
        "from qiskit_aer import AerSimulator\n",
        "\n",
        "# Create and initialize circuit\n",
        "### Your code here\n",
        "\n",
        "# Measurement with Z0Z1\n",
        "### Your code here\n",
        "\n",
        "shots = 10000\n",
        "job = AerSimulator().run(qc,shots=shots)\n",
        "counts = job.result().get_counts(qc)\n",
        "\n",
        "e = ### Your code here\n",
        "print(counts)\n",
        "print(\"Expectatation value of Z0Z1 is estimated as: \", e)"
      ],
      "metadata": {
        "id": "kY6ShVvI66j0"
      },
      "execution_count": null,
      "outputs": []
    },
    {
      "cell_type": "code",
      "source": [
        "from qiskit import  QuantumCircuit, transpile\n",
        "from qiskit.circuit.library import StatePreparation\n",
        "from qiskit_aer import AerSimulator\n",
        "\n",
        "qc = QuantumCircuit(2,1)\n",
        "qc.h(0)\n",
        "qc.h(1)\n",
        "\n",
        "# Measurement with Z0Z1\n",
        "qc.cx(0,1)\n",
        "qc.measure(1,0)\n",
        "\n",
        "shots = 10000\n",
        "job = AerSimulator().run(qc,shots=shots)\n",
        "counts = job.result().get_counts(qc)\n",
        "e = -1*counts[\"1\"] / shots + 1*counts[\"0\"] / shots\n",
        "print(counts)\n",
        "print(\"Expectatation value of Z0Z1 is estimated as: \", e)"
      ],
      "metadata": {
        "id": "qMyMOyiT66Lz"
      },
      "execution_count": null,
      "outputs": []
    },
    {
      "cell_type": "markdown",
      "source": [
        "### Task 7\n",
        "\n",
        "Compute the expectation value of $Z_0Z_2Z_3$ with respect to quantum state $\\ket{0101}$."
      ],
      "metadata": {
        "id": "lT0HGjqCo3ou"
      }
    },
    {
      "cell_type": "code",
      "source": [
        "from qiskit import  QuantumCircuit, transpile\n",
        "from qiskit.circuit.library import StatePreparation\n",
        "from qiskit_aer import AerSimulator\n",
        "\n",
        "# Prepare circuit and initial state\n",
        "\n",
        "# Measurement with Z0Z2Z3\n",
        "### Your code here\n",
        "\n",
        "shots = 10000\n",
        "job = AerSimulator().run(qc,shots=shots)\n",
        "counts = job.result().get_counts(qc)\n",
        "e = -1*counts.get(\"1\",0) / shots + 1*counts.get(\"0\",0) / shots\n",
        "print(counts)\n",
        "print(\"Expectation value of Z0Z2Z3 is estimated as: \", e)"
      ],
      "metadata": {
        "id": "r4dGzo327zO2"
      },
      "execution_count": null,
      "outputs": []
    },
    {
      "cell_type": "code",
      "source": [
        "from qiskit import  QuantumCircuit, transpile\n",
        "from qiskit.circuit.library import StatePreparation\n",
        "from qiskit_aer import AerSimulator\n",
        "\n",
        "qc = QuantumCircuit(4,1)\n",
        "qc.x(0)\n",
        "qc.x(2)\n",
        "\n",
        "# Measurement with Z0Z2Z3\n",
        "qc.cx(0,2)\n",
        "qc.cx(2,3)\n",
        "qc.measure(3,0)\n",
        "\n",
        "shots = 10000\n",
        "job = AerSimulator().run(qc,shots=shots)\n",
        "counts = job.result().get_counts(qc)\n",
        "e = -1*counts.get(\"1\",0) / shots + 1*counts.get(\"0\",0) / shots\n",
        "print(counts)\n",
        "print(\"Expectation value of Z0Z2Z3 is estimated as: \", e)"
      ],
      "metadata": {
        "id": "jG_Dz6fk7zqw"
      },
      "execution_count": null,
      "outputs": []
    },
    {
      "cell_type": "markdown",
      "source": [
        "### Task 8\n",
        "\n",
        "Using the ansatz given below, run VQE to estimate the ground state energy of the Hamiltonian $H = 2Y_0Y_1 + Z_0X_1 - X_0Z_1$.\n",
        "\n"
      ],
      "metadata": {
        "id": "DetX4dNVU3jh"
      }
    },
    {
      "cell_type": "markdown",
      "source": [
        "![image.png](data:image/png;base64,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)"
      ],
      "metadata": {
        "id": "1x01mBr-nPDM"
      }
    },
    {
      "cell_type": "markdown",
      "source": [
        "To start with, we find the lowest eigenvalue of our operator using `scipy` to verify our findings later on.\n"
      ],
      "metadata": {
        "id": "pO5zOwzz-Tvj"
      }
    },
    {
      "cell_type": "code",
      "source": [
        "import scipy\n",
        "H = SparsePauliOp([\"YY\", \"ZX\", \"XZ\"], [2.0, 1.0, -1.0])\n",
        "\n",
        "# Calculate eigenvalues and eigenvectors of H\n",
        "eigenvalues, eigenvectors = scipy.linalg.eig(H)\n",
        "print(\"Eigenvalues:\", eigenvalues)"
      ],
      "metadata": {
        "id": "omTXT5lX-SJI"
      },
      "execution_count": null,
      "outputs": []
    },
    {
      "cell_type": "markdown",
      "source": [
        "So we see that the lowest eigenvalue is -4."
      ],
      "metadata": {
        "id": "YNPhV5M6nPIw"
      }
    },
    {
      "cell_type": "markdown",
      "source": [
        "Define the ansatz as a PQC."
      ],
      "metadata": {
        "id": "n9EGPGMb-bxz"
      }
    },
    {
      "cell_type": "code",
      "source": [
        "from qiskit import  QuantumCircuit\n",
        "from qiskit.circuit import Parameter\n",
        "\n",
        "def ansatz():\n",
        "    ### Your code here\n",
        "\n",
        "\n",
        "    return qc"
      ],
      "metadata": {
        "id": "AdvrOUdX-ZnY"
      },
      "execution_count": null,
      "outputs": []
    },
    {
      "cell_type": "markdown",
      "source": [
        "Complete the following function, that returns the necessary quantum circuit for measurement with respect to the given Hamiltonian `op`."
      ],
      "metadata": {
        "id": "GdpcNCHu-llD"
      }
    },
    {
      "cell_type": "code",
      "source": [
        "# op will be one of Y0Y1, Z0X1, X0Z1\n",
        "def measurement(op):\n",
        "    qc = QuantumCircuit(2)\n",
        "    ### Your code here\n",
        "\n",
        "\n",
        "    return qc"
      ],
      "metadata": {
        "id": "HPlXsV3s-kbC"
      },
      "execution_count": null,
      "outputs": []
    },
    {
      "cell_type": "markdown",
      "source": [
        "Complete the function below, that computes the expectation value of the ansatz with respect to $H$, based on the given parameters."
      ],
      "metadata": {
        "id": "v1Ptx05R-3vM"
      }
    },
    {
      "cell_type": "code",
      "source": [
        "from qiskit.circuit import Parameter\n",
        "from qiskit import  QuantumCircuit, transpile\n",
        "from qiskit.circuit.library import StatePreparation\n",
        "from qiskit_aer import AerSimulator\n",
        "\n",
        "def expectation_value(params):\n",
        "    ### Your code here\n",
        "\n",
        "\n",
        "    return e"
      ],
      "metadata": {
        "id": "6tRGRCZq-3Eh"
      },
      "execution_count": null,
      "outputs": []
    },
    {
      "cell_type": "markdown",
      "source": [
        "We set some initial values and check the function."
      ],
      "metadata": {
        "id": "lvAMXVim_Nd9"
      }
    },
    {
      "cell_type": "code",
      "source": [
        "# Set initial parameters\n",
        "params = [0.5, 0.5]\n",
        "e = expectation_value(params)\n",
        "print(\"Initial expectation value estimation:\", e)"
      ],
      "metadata": {
        "id": "oCgjdjcQ_MkJ"
      },
      "execution_count": null,
      "outputs": []
    },
    {
      "cell_type": "markdown",
      "source": [
        "Use a classical optimizer to find the parameters, which minimizes the function.\n"
      ],
      "metadata": {
        "id": "z64Jmqr__UkE"
      }
    },
    {
      "cell_type": "code",
      "source": [
        "from scipy.optimize import minimize\n",
        "\n",
        "\n",
        "### Your code here\n",
        "\n",
        "print(\"Optimized parameters:\", result.x)\n",
        "print(\"Expectation value at optimized parameters:\", expectation_value(result.x))"
      ],
      "metadata": {
        "id": "CtyOuCu5_UaK"
      },
      "execution_count": null,
      "outputs": []
    },
    {
      "cell_type": "markdown",
      "source": [
        "### Solution\n",
        "\n"
      ],
      "metadata": {
        "id": "6HN0wq5brUa-"
      }
    },
    {
      "cell_type": "code",
      "source": [
        "from qiskit import  QuantumCircuit\n",
        "from qiskit.circuit import Parameter\n",
        "\n",
        "def ansatz():\n",
        "    qc = QuantumCircuit(2,1)\n",
        "    theta_0 = Parameter('theta_0')\n",
        "    theta_1 = Parameter('theta_1')\n",
        "    qc.rx(theta_0,0)\n",
        "    qc.cx(0,1)\n",
        "    qc.ry(theta_1,1)\n",
        "    return qc"
      ],
      "metadata": {
        "id": "eRDM0IoZ_huV"
      },
      "execution_count": null,
      "outputs": []
    },
    {
      "cell_type": "code",
      "source": [
        "# op will be one of Y0Y1, Z0X1, X0Z1\n",
        "def measurement(op):\n",
        "    qc = QuantumCircuit(2)\n",
        "    #p represents the Pauli string in the circuit and i is its index\n",
        "    for i, p in enumerate(op):\n",
        "        if str(p) == 'X':\n",
        "            qc.h(i)\n",
        "        elif str(p) == 'Y':\n",
        "            qc.sdg(i)\n",
        "            qc.h(i)\n",
        "    #We can have this since all observables act on both qubits non-trivially\n",
        "    qc.cx(0,1)\n",
        "    return qc"
      ],
      "metadata": {
        "id": "iHCydIqk_mR0"
      },
      "execution_count": null,
      "outputs": []
    },
    {
      "cell_type": "code",
      "source": [
        "from qiskit.circuit import Parameter\n",
        "from qiskit import  QuantumCircuit, transpile\n",
        "from qiskit.circuit.library import StatePreparation\n",
        "from qiskit_aer import AerSimulator\n",
        "from qiskit.quantum_info import SparsePauliOp\n",
        "\n",
        "def expectation_value(params):\n",
        "    H = SparsePauliOp([\"YY\", \"ZX\", \"XZ\"], [2.0, 1.0, -1.0])\n",
        "    e = 0\n",
        "    #For each term in the Hamiltonian\n",
        "    for op in H:\n",
        "        qc = ansatz()\n",
        "        #Asign the parameters\n",
        "        bc = qc.assign_parameters(params)\n",
        "        #Add the measurement circuit\n",
        "        bc = bc.compose(measurement(op.paulis[0]))\n",
        "        #Transpile the circuit for convenience\n",
        "        bc = transpile(bc, basis_gates=['u', 'cx'])\n",
        "        bc.measure(1,0)\n",
        "        shots = 10000\n",
        "        job = AerSimulator().run(bc,shots=shots)\n",
        "        counts = job.result().get_counts(bc)\n",
        "        #Compute expectation for each term in the Hamiltonian\n",
        "        e += op.coeffs[0]*(-1*counts.get(\"1\",0) / shots + 1*counts.get(\"0\",0) / shots)\n",
        "    return e"
      ],
      "metadata": {
        "id": "2ttlwpXk_pJk"
      },
      "execution_count": null,
      "outputs": []
    },
    {
      "cell_type": "code",
      "source": [
        "# Set initial parameters\n",
        "params = [0.5, 0.5]\n",
        "e = expectation_value(params)\n",
        "print(\"Initial expectation value estimation:\", e)"
      ],
      "metadata": {
        "id": "OpNyGreS_sAw"
      },
      "execution_count": null,
      "outputs": []
    },
    {
      "cell_type": "code",
      "source": [
        "from scipy.optimize import minimize\n",
        "\n",
        "result = minimize(expectation_value, params, method='COBYLA', options = {\"maxiter\" : 10000})\n",
        "print(\"Optimized parameters:\", result.x)\n",
        "print(\"Expectation value at optimized parameters:\", expectation_value(result.x))"
      ],
      "metadata": {
        "id": "ZIwwJB2gAQ-b"
      },
      "execution_count": null,
      "outputs": []
    },
    {
      "cell_type": "markdown",
      "source": [
        "VQE gives us an upper bound on the ground state energy $-0.95$. This is quite far from the actual ground state energy, which is $-4$.\n",
        "\n",
        "One can try different classical optimization algorithms to improve it or to increase the number of iterations of the classical optimization algorithm. But in the example above, our ansatz is not expressive enough.\n"
      ],
      "metadata": {
        "id": "BOlZbVpVBlWl"
      }
    },
    {
      "cell_type": "markdown",
      "source": [
        "### Task 9\n",
        "\n",
        "`Efficient SU2` circuit consists of layers of single-qubit operations spanned by SU(2) and CNOT gates. SU(2) stands for the special unitary group of degree 2, whose elements are\n",
        "$2 \\times 2$ unitary matrices with determinant 1.\n",
        "\n",
        "Below is such ansatz on 2 qubits."
      ],
      "metadata": {
        "id": "eATvYyUWBk4G"
      }
    },
    {
      "cell_type": "markdown",
      "source": [
        "![image.png](data:image/png;base64,iVBORw0KGgoAAAANSUhEUgAAAzQAAACuCAIAAABvBd+YAAAAAXNSR0IArs4c6QAAAERlWElmTU0AKgAAAAgAAYdpAAQAAAABAAAAGgAAAAAAA6ABAAMAAAABAAEAAKACAAQAAAABAAADNKADAAQAAAABAAAArgAAAAAsjw/QAAA7JElEQVR4Ae2dB3wURfvH03svpBAIJARCAlJCRxAQpBfxj4AUwQJIVRF8QRHBQlUQEQS7iAgC0qWDRHqkhRAIpEEapJJe7/5P3uM9j8tl725v926W/PK5D87Nzj7zzHd+zj43OztrLpfLzfAHAiAAAiAAAiAAAiDABgELNtyAFyAAAiAAAiAAAiAAAtUEEJxBByAAAiAAAiAAAiDAEAEEZwx1BlwBARAAARAAARAAAQRn0AAIgAAIgAAIgAAIMEQAwRlDnQFXQAAEQAAEQAAEQADBGTQAAiAAAiAAAiAAAgwRQHDGUGfAFRAAARAAARAAARBAcAYNgAAIgAAIgAAIgABDBBCcMdQZcAUEQAAEQAAEQAAEEJxBAyAAAiAAAiAAAiDAEAEEZwx1BlwBARAAARAAARAAAQRn0AAIgAAIgAAIgAAIMEQAwRlDnQFXQAAEQAAEQAAEQADBGTQAAiAAAiAAAiAAAgwRQHDGUGfAFRAAARAAARAAARBAcAYNgAAIgAAIgAAIgABDBBCcMdQZcAUEQAAEQAAEQAAEEJxBAyAAAiAAAiAAAiDAEAEEZwx1BlwBARAAARAAARAAAQRn0AAIgAAIgAAIgAAIMEQAwRlDnQFXQAAEQAAEQAAEQADBGTQAAiAAAiAAAiAAAgwRQHDGUGfAFRAAARAAARAAARBAcAYNgAAIgAAIgAAIgABDBBCcMdQZcAUEQAAEQAAEQAAEEJxBAyAAAiAAAiAAAiDAEAEEZwx1BlwBARAAARAAARAAAQRn0AAIgAAIgAAIgAAIMEQAwRlDnQFXQAAEQAAEQAAEQADBGTQAAiAAAiAAAiAAAgwRQHDGUGfAFRAAARAAARAAARBAcAYNgAAIgAAIgAAIgABDBBCcMdQZcAUEQAAEQAAEQAAEEJxBAyAAAiAAAiAAAiDAEAEEZwx1BlwBARAAARAAARAAAQRn0AAIgAAIgAAIgAAIMEQAwRlDnQFXQAAEQAAEQAAEQMAKCPQiIJfLK0vK9DpFjMJW9rbm5ub8LMvlZqVV/E4V8iw7SzO+LRDSDZPYYkFFkJBJul6oSlmQELWFt4owCgmlBN52ICHe6FRPFO9ChuBMlbP2NEVmm4PHai8ncokx8b9YO9jxq4Qis24H+J0q5FmRA8zs66r6WFARJCSkmo1uiwUJUaN5qwijkNElo14hJKROhNd38S5kuK3Jq0NwEgiAAAiAAAiAAAiIQwDBmThcYRUEQAAEQAAEQAAEeBFAcMYLG04CARAAARAAARAAAXEIIDgThyusggAIgAAIgAAIgAAvAgjOeGHDSSAAAiAAAiAAAiAgDgEEZ+JwhVUQAAEQAAEQAAEQ4EUAwRkvbDgJBEAABEAABEAABMQhUFd3mhKHpqpV387h/XYuUuZUFJXkJ6THbz8V+90BeZVMmc9soiD6ZNz7PZXuWdg52vo39ewxrt6gGeaWkI0SjIgJSEhEuHXDtNQlRL2EgcjkUpW6iiQqIVxlxVV+ws7IlOOXaC98e2+3JiOe6bBogmtI/bNzNohbq3DW3buPdo0YYCaXV+RmZJ/8OeX7t0tTYgOnbRSuBljSQgAS0gIIh7URkLqEqH0YiLR1sujHpa4iyUkIwZm4ms6OTkzYEamo49aPh56P/KLpS89eWrqlLDtf3IoFsu4Q1Nazx6M3IngPmBozNTTryLf+Yz+xdvUWqAaY0UIAEtICCIe1EZC6hKh9GIi0dbLox6WuIslJCGvORNe0sgJ6XUbmpdvmFhYugT7KTAklLO0cHZt1olm0sox4Cbn9JLkKCT1JvWmStkhdQgQNA5FJlKNaqdRVJAkJIThTlZzoaedG1WFZWV6h6DWJU4EiLLNy8hDHPKxqJwAJaWeEEpwEpC4hahwGIs4eNsZBqauIfQnhtqa4Orayt7H1cFasOWs2/jnPlkE0eUZPBohbq3DWZWXFlflZcrm8Mjcj8+DXJQmXHUI62NVvKlwNsKSFACSkBRAOayMgdQlR+zAQaetk0Y9LXUWSk5BkgrOsrKzly5fv3LkzJSXF29t7+PDhn3766cyZM7///vsvv/xy+vTpomuTVwVt5o6ij/LUpP3nzs/7VvmV/UT6loX0Ufrp1nl4w8lfKb9KMXEzMS/+Xn5VldzP2yEizMvCwpzxVkBCrHVQclpBbMLDsooqT1fbji3rWVuzfv9B6hIiATxhA9GD7JIrt7KLSytdnWxIQg72ErgQS11FkpOQBDRB/2deuXKlf//+GRkZjo6OYWFhaWlpa9asiY+Pz8nJoaOtW7dmbfhW+nNr0+GkvWctrK3cQxu2mDbM0c+zqqxccfSZ9W+ZWZj/NflzxVcbN6dhJ1dFLf6ZHopRnm7yhFffSe5dRsirKkqSozN2LivPSjG3tlN4VRATeWdxf1UP5ZXlcllVxB9VqpmMpKuqZFsPJq7bFnv68n2lSyGBLm+82Py14U2dHW2UmawlICFGeoTmj//8O2XtlhsHT6fI5Y+cohB/0gvNpo5sXs/TnhE/a7ohdQlRi56Ygejs1ftrNt/YcTSpovLRhkpuzjYThobMeCksKMClZt+xkyN1FUlOQqz/5iNp0pzZ4MGDKTKbPXt2enr6pUuXKL1s2bL9+/dfvHjR3Nz8qaeeYkfBap7kJ2SkR0anHr98fd3uYy8v9Wod3HnZZEWZs/O+qde+WeNhXRVfO3362oMLN5mKzMgxW78Ql9a9XSP6+w6f2+S9vcV3Lt5dP0XhsHN4tzZbC5Wf8HVxVs5e/i99pDjK1L+lZZUj3jk+Zt5J1ciMPLydnP/2ivNPv7w/9X4RUw6rOgMJqdIwVVomk7+57NzAaYcpPlNGZuRMembxoq8vtx25Kzqu+ocim39SlxBRfTIGolWbrncdv++3gwnKyIyalldQvvqXmNYjdh07l8amfhReSV1FkpOQBIIzundJtzLpxuXKlSudnZ0VQpk7d26rVq0qKysbNWrk4sL0Dw7l/2+ZUbdoE1qKxrzbNaPM8rzCM7PXd/zkNXsf98CBnXy7hJ99l+n9z5yad/HoMS73762FsWeUjVIkZBVlCUuHO4U97Tdivtohk3+ly+q4+X/9cSy5Nk+uxeX0nXIwL7+stgLs5ENCpuqL+Wui1vx6o7baUx8U95l8MCm1oLYC7ORLXUJEUqID0Tfbb9JPQdXIXlUVBUUVg2ccvhCdqZrJbFrqKpKEhFgPzmJjY7du3erl5bVkyRI1pUZERFAOhWjK/MTExCFDhlAA5+7uPn78+OzsbOUhRhJXV22XVVa1mTNS4U/qiStJe890Xzuz09LXKVAry2X9KU6/kQvMLCzTfv1AjefddVNkFaWNZv2ols/C10OnU7YfSeL2JCY+74vNMdxlGDkKCRm/I24l5i37/hp3vfezSxZ89Q93GUaOSl1ChFFyA1F+YflbK85zC6CkrGrWsrPcZdg5KnUVsS8h1oOzLVu2yGSyMWPGODk5qenS3r56kYcyOCsoKOjZsyfNsdEpGzdujIyMHDRoEJ2rdpZpvxYkZSTuPu3f/al6HZsrPIla9LNzY1+675ly7JJpfdOldju/Jh7dRhVcO0YLzpTlH+xd8zBqX/C8XRa2DspMdhLrtsbq4szGHbcqKthSi0a3ISGNWETN/Pr3m7rY33YoMTOnRJeSpi0jdQkRPckNRJv23SkqqdTa7+euZV66kaW1GAsFpK4i9iXEenB2/PhxEiJFXTXlSHEYZSqDMwrIUlNTd+3aRTHZiBEjfv3113Pnzu3Zs6fmiabNufbFDlnVv5NntJtfYfKD3Ni7pvVK99p9R7xnZmGhnDwruHYi5ed3g+b+buvTSHcjRitJT0Xtj7ynS3VpD4qPnWd6zYeyFZCQEoUREvQcwE97butSUXmFbOuhRF1KmryM1CVEAKU1EOkoIWqX7iWhIgMJMC4hcxp6DGyhqKc3aNCAgrDLly+rPZJJq838/PzoWQF6ZjMoKIh8UARwJ06cUPoTHBzco0eP7777TpnDnWjXrh09asBdxlpusVDWgbuMvkf77Vh078g/MV/rEUcusrhQYc5zmsfcxt5ntU4XG60NKbufdPOd9n6jFtYbqPdWJvffDJGXiz7NUG7pm+n6htaGKAq4Fe1xLDPGnSnBVQQJ6djFPIrJzKzTPd7X8USnkr9dS47oWNiQYixIiPznPRAJOAqRG7wHIuOMQuRhuts7MotHC6a5+92u/IZn4VbuMoIcFVxC5JUxByIpSsjX1zcqKkrH7mN9K42iourH6EpK1K/itBCNIjNaXta4cWNFU2/cuEETZqrNDg8Pp0zVHO40RWY098Zdxsbc0syHu4gxjqalp5XLee5YQTcfBWkB7ekXv2SYa4chPCIzYkT7oZAF0WHZmZu56lpJXm5uXq4WAehqi7McCyqChDi7SOWguY2Zzm/EKCwsKMyoKxIiRrxVJNQoRD4YMhAZaRQiL52rzHS7TVVaUqL1MqSiTv5JFkYh8h4Sqq0LWQ/OKNLMzc2l7TM6d+6sbANtqDFnzhz6Spto0FYainwq5ubmpixDCQ8Pj1u3bqnmcKepLu4CdJR+bZjxnLHSaluPAv5+/obMnOlRU+1Fc8/sKEm8WpoaR89vqpYKX3vDxruhao7GtL+/vxFmzqrM7TPkMjNzncZFT1dzO4f6Gr0VNpMFFUFCOvYp3VlIlxXLLXRaT+nqIHOqX1ckRAB5q4imPXTkr7WYIQORcUYhasID88IKs8cuT7W1y9G23A0Sqo2OSr4UJaRLjKFsIuu3NWkfDXoBAN3cPHr0aNOmTclv2tts3LhxCQkJFRUV06ZNW7t2raIxNjY2tL/Gxx9/rGzbhAkTzp49q1d8pjy3tkRFcenm4LG1HTVa/pj4X6wdHm0Gq2+ltCy12wF9TxK+fOQAM+Nsiz105pE9J7Uv6atfzyHp4EgrK53COANxsKAiSEj3Tpy98vznP1/XWt7WxjLlyCgvd57/Y2q1r1qABQmRP7xVVNdGofVbY6d+or4DkWqHKtOXtw1rHeqp/CpeAhIShK14FzJjXIoMQUDxlqen57179+geZcuWLUNCQjp06ECLzHr16kVmlU8DUJq2z8jLy1Oti94fQJNnqjlI10ECtHu7Lq2ePCLUOJGZLs6gDFMEpowI1cWfkX0bGycy08UZlGGKwNhBwU4O2u9TdWldzziRGVNw4IxGAqwHZwEBAbQpxsCBA+3s7JKSkijY2rBhA70bIC4ujtqjGpw1b95cbYUZfaVMjc1GZt0h0Kdz/VH9grjb+1RTj1ljwrnL4GidJRAS6Pre6//up6iRg389h49nVO+8iD8QqEmAXhD35bx/V+bULEA5jvZWa/6jpYzGE5H5RBLQHsubvNkUYO3bt0/VjcLCQgrULCwsWrRoocynHTTmz59Pj3ZSPEeZ58+fpwc5V6xYoSyARN0kQK82//Hj7jK5nLah0kigTajn/q+ec3Gy0XgUmSBABD6aHlFWLlv5U7RGGg39HP9c17eBr5PGo8gEASIwYWhT2upsxpKzGjdIoDeg7/qid0SYF1iBgIIA6zNnGvspJiaGdgChW5wODv+u0p00aRJtrjF06FCK5LZv3z569Gi6AUpfNVpAZp0iQIuBtizruW1lrx7t/VQbHhbstnZ+58gfB9Lrq1XzkQYBNQL04NGK2R0Ob+g3tGdDCveVRxv4On4yI+Kf34aFBbsrM5EAAY0Epo0Ku/DrkPGDm9CIpCzg6WY7d2LLq9uHqY1OygJI1E0CEpg5q9kx0dHVv19V72nSV3rDJu1YO2vWrFGjRllZWdFE2qpVq2h2rebpyKmDBOiCOuK5xvS5nfyw89i92Q/LvN3tru8crnzatw4yQZP1JUC3yOmTklHU+sU/svNIQrYJB17EUkV9Mdbl8u3CvX/65JnP3unYfOj2rLwyLzfbe0dG2dlK8kJcl/vRCG2XpCY0BmcEi3adVbsBagSCqEJaBGj9kJ1t9c9WG2sLRGbS6jtGvA3wdbT778yHjbUlIjNGOkVabtCDI4rJM/oXkZm0+s5o3j5RwZnRqOlSkXtYYJeVU6yd7ItSMk/N+NK9aYPem+fnx6cdHvVRaXa+pb1N18+merUOlsvkl5b8mrz/HNlst2Bco6FdcqITj09crksVopYpTrya/NXrspICG+/ARm9tKr0bc3txf7v6zUI+PGztVi910/zcszstrG3NLa39x37i2rYvOXN/96rMA19Z2DuFrb4iqm91xDi3hBQQXEPqDz60PO6XIxc++JFywiYNCp3Qt7KodE+f6o0ATfvHLSHy7cGBdZn7vzSztDI3twhdcd7Cxi7lhzk5f291CG7bZP4u0zr/ZNTOLSF6q2+XFVNsXR0t7WzuHf0navEmM7mcBQlxKyfr6Pf396wqvRcbMHGlz5A3FT1FW9Emfflq8e2L9HK5+mM/de/6f5QPOfGWMbdymozqFT5poGtIQNTin298s19RS9t5LwUO6FhVViGrrLq09Ne0k1cp31Ry4iEhRStK7sXGvh3h3XdSg9dWU44JL2qSDM4UL9xUoGT236dXTz/91lc5MUmk4/YfjL/z2wmKzJSXzBZThsjKK3Z2meHUoN7AA0syzlwvyy2M+mhT3q17DfsL/HoofoiSvpjQaOYPDkGtaShM+eEdr2cnUmSmjLqcwrr5vbjAwtae/h+4Nb/7Uz+kWdo5+gx9yyGozb3vHg2X/OrFWUoC3BKiYuZWlnRxTf7zgvKUGxv3UXDfYfEEZY4JE9wSyju/O+evzaHLz1k6ulY8zKQon1wNmLjCrmF43nlEZsL0G7eEaFy6++eF2O8OWNpaD/pzaXrP6NTjl1mQELdyHIIjguZsy9i+RJVRxh8r6bdiiw13yu4n3pzT0bllTysXT8hJFZFeaW7lZF+LPzn585YzhqvavH8+9uqq7VWl5RTY9f9j8bbWk+jN0aaSEw8JUVvklRV3101y7/S8sl0mvKhhSZayF4RMeLRoXFlcSpEZGY3fdrLBc+0sbB6LgxsN7Xrr58N0tPDeg4wzMQ37dxSyeoNtFSdctrR3osiMLHn2fPnhhT3yynJVq64R/Skyoxz7wJb0a7vyYabqUaQNJ6BVQlRF67dHJO09W5CQbnh1glvQKqGMP1b4j1pIkRlVbe3qbW757xJpwZ2pmwa1Sogeq7J2qX4UhmbOLKytSh7ksQBKq3IcGreyb9Dc/PH1xPSeEq9+U8h/W5/Gzi165J37g4W2SNQHrcrJvZH88Haqmeyxt+VQZE+RGTU5N/aumbm5naeLqZrPT0LkbdrWxe5dRtj6h5jKc9V6H4sYVA8gbQgBp4b13EMbDjnyaCMPK3tbB9/HtsN1qu9VmPIooKH4zLE+W09Q06/PkuToG29WB2f0R7cMyrM1vzEw+9gPtr5BNvUCFSXxr1AEtErIq02Id0TTwyMXt579olCVCmhHq4RK790ouhOV9tsieUWZZ8/x9QbPFLB2mCICWiV04YMfnv1pXuj452xcHa+u3pFzXfNeM0aGqVU5Gv0pz7xr6/1oFLKp14i+aiyGTF0IaFUOt5GQUT0Lk+8rL3DchcU4yk9CRbfOF908G7L4SPpvi8TwSl+bCM70JaZr+czLt4+M/lhRetT173Q9jZlyjiEdQxYdUrhzdZy3Rr/yrx6ji2vTRUewsl4jHwMzOSREaxY7LX3t5GufGViFqKdzS0heVVl+P7HZp6eqinJvzX/GxjfIrf0gUf2pg8Y5JEQ0Ql/ul7jr7+gv/6BJjr47FmVduZN+6hoLlLiVw4KHT7wP3MrhaL7f0y1bzR5xeORHHGWMcEhfCdEExN0NU4Pe3c7OtQzBmSg6od8NyskweibAysGuOCNHtabC1CynAG/FfQRadpb2V/XaSXb+bH2CyrMe/fSsKs6vKi2y8VR/nXPB9b+S1kxs8v5eu4Bm7Hj+xHjCLSHnQF+afO2340Nqr42Lo5mFuY2r09+z1rLTfK0SsvFu6N59NN3NtHLxco0YUHTrHIIzYbuPW0JUV+jEvju7Vk9Y0iNKqccu+XYJZyE406ocjZRITmWZydYe1RsZlj9Icmn9nMZiyNSFgFbl1GbEp3NY19VTj41fSgusaytjhHweEipLj6fZ1rj3e5J7VUV5cpmssjC38Zs/GcHb2qrAmrPayBiUT6vNZBVVft2fIiv09Fzi7tOy8kpVi8l7zzYbXz18UGRGY+Ldg/+u6VYtZqo0rTajBdr5V46QA5kH1nk8PdLc6rEN9AtiTiWuGtfkvd20/sNUTj7Z9XJLKO/m3d9avLq9w1T60NNSd347zlRkRl2jVUIe3V/Kv3SQSsrKSgqun4SQBNczt4SouoLkB/V7tqEErbvw7dqCRCW4DzwMalWORpvuXUdkHfyaDtEtLZKTW6dhGoshUxcCWpWj0YhPp+bdvpxxfMJyWpGmsYDRMnlIyL5Ry1abMlt+k0SfeoPf9Or9imkjM2KF4EwswZya9kXE/DHDz3xJsRc9hqlWzfV1u2kR7vCza/tsef/8/G/LcgrUCpj8a+O3N6f+PO/65CY00tFDT2r+JH/5Ki0VopkzWpdGn5Ikza+1UTsLX/UiwC0hvUyZpDC3hHyGvl2Rdz9mWljs7HaubfvTxdUkTj7ZlXJLiAL6kNG9hhxdOejQsvTI6MRdpxmhwa2crGM/XnslIPf07+m/fUgJWv1Nbvs8P4ei/OjJwbc/7Ntg0lqajmWkLRJ1g1s5TV7sMeKfDYGDO9OCV0rQAwTUTNocytLG+ulVU2mxNX3cQhuasO08JGRCbzVWjduaGrEIkEk/Q/f1e7c2Q/SM8V9TVtV2lIV8+iXR/POo2jxp8fXt2g4hXygC3BJS1nLls23KNFMJbgnRrmYm/23KFC4xnOGWED0B8OfQ98Wo10Cb3MrxenYCfdSqoK18guZuVcvEV94EuJVzZ9tJ+qgZ39l1hlqOCb/ykJDSW//RHyrTJkxg5sxI8KsqKm3dnen3BMcDxrQJbcsZz5flFRrJJ32qodualfnZNElWkfegtvNov767X0+1csZv1toIGZSvi4Roy0d6UKCUvYlYarkuEqJdQ2n/KitHd4NI4eRaCEhUQrooR2OLISeNWHhk6qIcjWYZGZF4S8iEFzVz2upGI1NkaiRQUVy6OXisxkPGzBwT/4u1gx2/Gksqzbod4HeqkGdFDjCzN9G8bUDvLakPiuvXc0g5OlrIJulsiwUVQUI6d5eGgpCQAgpvFWEUgoQgIQ0ji0oWZs5UYCAJAiAAAiAAAiAAAqYmgODM1D2A+kEABEAABEAABEBAhYCJbiypeCCtJD1zTjP5JveZ3ODtg52lGd1SNPkfuVFn/1hQESQkafmxICECyFtFGIVMLj9ISJAuEO9ChuBMvw6i7YN5L/bSrybRSpubm2yxl2htkphhqasIEjK54CAhk3eB1B2AhBjvQdzWZLyD4B4IgAAIgAAIgEDdIoDgrG71N1oLAiAAAiAAAiDAOAEEZ4x3ENwDARAAARAAARCoWwQQnNWt/kZrQQAEQAAEQAAEGCeA4IzxDoJ7IAACIAACIAACdYsAgrO61d9oLQiAAAiAAAiAAOMEEJwx3kFwDwRAAARAAARAoG4RQHBWt/obrQUBEAABEAABEGCcAIIzxjsI7oEACIAACIAACNQtAgjO6lZ/o7UgAAIgAAIgAAKME0BwxngHwT0QAAEQAAEQAIG6RQDBWd3qb7QWBEAABEAABECAcQIIzhjvILgHAiAAAiAAAiBQtwggOKtb/Y3WggAIgAAIgAAIME4AwRnjHQT3QAAEQAAEQAAE6hYBBGd1q7/RWhAAARAAARAAAcYJIDhjvIPgHgiAAAiAAAiAQN0iYFW3mmtwa+VyeWVJmcFmDDVgZW9rbm7Oz4pcblZaxe9UIc+yszTj2wIh3TCJLRZUBAmZpOuFqpQFCVFbeKsIo5BQSuBtBxLijU71RPEuZAjOVDlrT1Nktjl4rPZyIpcYE/+LtYMdv0ooMut2gN+pQp4VOcDMvq6qjwUVQUJCqtnotliQEDWat4owChldMuoVQkLqRHh9F+9ChtuavDoEJ4EACIAACIAACICAOAQQnInDFVZBAARAAARAAARAgBcBBGe8sOEkEAABEAABEAABEBCHAIIzcbjCKgiAAAiAAAiAAAjwIoDgjBc2nAQCIAACIAACIAAC4hCoq8/LiUMTVpklUFJaeS0u558bWddu5+Y8rN4MJTe/bMUP1yLCvNo293RzsWXWczjGCIGKCllMfC5J6MqtHKWEPt54OaK5F6monqc9I37CDWYJVFXJ4pLzSUKXYrMUEsrJL1uw9h8agkhCDXwdeW+QxGyT4RhvAgjOeKPDidIgQEPhV7/d2PJnQmnZY9u7FZdWzV11kdpA260N6NZg6sjm/boGWFjw3D1OGizgJS8CcUkP12+L/XH37byCclUDJKEFay8pcp5u40MSeqFPIxtrS9UySIMAEUi9X/TNjlsbd9xKzyxWBVJSWvXxxiuKnJYh7iShMQODnR1tVMsgXTcJIDirm/1eJ1pN19RJi//+KyqDu7W0H+b+U/foExLosmFB154d/LnL42jdIZCRVTxjydntR5K0Nvnvy/fp47PCfvXcjiP7BWEKRCuxOlKgoKj8P6ujNmy/WVUl525y9O3cNz4+Q78YF09tO+OlMEtLLDriBvaEH0VwJlYH+3YO77dzkdJ6RVFJfkJ6/PZTsd8dkFfJlPnMJgqiT8a931PpnoWdo61/U88e4+oNmmFuybpsZDL5F5tj5q+JUpstUzZHY+J2cn6v1/5848XQ5W93cHKw1ljGmJmQkDFp16xry4H46UvOKm4/1TyqMed+dsnod0/+fjhp3ftdfBi40Sl1CRFkSQ9Ex8+nvbIwMjmtUKNaNGYWFFW8teL8jqNJ3y/uFhLoqrGMkTOlriKJSoj1q6yRVSh4dQk7I1OOX6I7Z/bebk1GPNNh0QTXkPpn52wQvCKRDLp3H+0aMcBMLq/Izcg++XPK92+XpsQGTtsoUnWCmKW1QePf++u3gwn8rK3fdvN8dObB9X29PZhYRQQJ8etHQ86iN9tQZL/0u2v8jOw8lhR1I/Poxv6MXFylLiHqBSkORBu335zy0WmamOfxR7Ow7V/as3/tc13b+PA4XYxTpK4iyUkIE6diyPhfm9nRiQk7IhO2n4pZv2f/wPlFqVlNX3rW1tPl3xJspxyC2nr2GOvZc5zv8Dmhy89ZewZkHfm24mEms17Tktsx807yjswU7boUm/3s63/SEwMsNBMSMn4vzPuCf2Sm8PZuetEzrxxITCkwvvM1a5S6hKhFkhuIvtl+c/JinpGZogcfFpT3nXLw3NUHNTvUJDlSV5HkJITgzHg6p3eZZV66bW5h4RLIyo8hvRpvaefo2KwTzaKVZcTrdaIxC9MC7d8PJxpeI63/ePGd4zSDYrgpAS1AQgLCrM3U93/ELfue55yZqk1a+j1g2iF6TFg10+RpqUuIALI/EJ28mD75o9OG93VRSeXA6YfVniEw3KzhFqSuIvYlRH2E4MxwoephwblRdVhWlqfHEgQ9rItfVBGWWTl5iF8VnxrOX3uw7Aftl9WLW4bcOzKK/uWu4+i5tA2/3+QuY/yjkJCozO+mF765/JzWKnSU0M3Eh7RRglZrRi4gdQkRLpYHosLiiokLTmn9WaejhGjJ43/vjbL1K5G6QOoqYllCigFBSsFZVlbW3LlzmzRpYmdn16BBg1mzZhUVFb366qv0YNTatWuNPMDpWJ2VvY2thzPdx3QLbdjx09c8WwbR5Bk9GaDj6SYvJisrrszPovuYJUnRd7+eVpJw2SGkg139piZ3rKYDZeVVEz+IpEcBah5Sy/H1cgjwcaR/1fJrfp3z+cXkNBPfmYKEavaLSDk0UTpp0d+0Ilurfd0l9Pmm62ev3tdqUNQCUpcQwZHQQPSf1ReTdHgCQHcJ7Tl599cDpr9ZIXUVSUhCitFAMg8EXLlypX///hkZGY6OjmFhYWlpaWvWrImPj8/JyaGWtG7dWtTRjbfxNnNH0Ud5etL+c+fnfav8yn4ifctC+ij9dOs8vOHkr5RfmUpsP5IYm5AnrEv0I3jVppjV73YS1qxe1iAhvXAZUvhCdOahM6mGWKh5Ls2g0EZW+7/qW/OQ0XKkLiECJZWBiG5B0q4Zgvfs4q+vvDQg2LT7s0hdRVKRkFI80gjOaM5s8ODBFJnNnj174cKFzs7O1IDly5e/++67VlZWJNmnnnpK2SSmErc2HU7ae9bC2so9tGGLacMc/Tyryh7tY/nM+rfMLMz/mvy5wmEbN6dhJ1dFLf6ZHophpwlefSe5dxkhr6ooSY7O2LmsPCvF3NpO4V5BTOSdxf1VXZVXlstlVRF/PLbXq2oBUdPrtsaKYf/HPbc/mRHhaLqdNSAhMbpVo02RJPTn3yn0ZEDjgOpRyyR/UpcQQZPKQPTtzluVldon7/WVQVzyw+Pn05/tZMotGKWuIqlISKkNadzWnDlzZkpKyvTp01euXKmIzKgBdIuzVatWlZWVjRo1cnFxUTaJqUR+QkZ6ZHTq8cvX1+0+9vJSr9bBnZdNVnh4dt439do3azysq+Jrp09fe3DhJlORGTlm6xfi0rq3a0R/3+Fzm7y3t/jOxbvrpygcdg7v1mZrofITvi7OytnL/6WPFEeN/G90XM6ZK6I81kTPTBn47KeBKCAhAwHqeDo9nLv1UKKOhfUqRpNnG3cIP5uiuw9SlxC1VBIDEa2p2Lj9lu79oldJekeFXuUFLyx1FUlCQqq9JoHgLDY2duvWrV5eXkuWLFF1ndIRERH0L4VoinxFANehQwdbW1vTzgCr+an4mhl1izahpWjMu10zyinPKzwze33HT16z93EPHNjJt0v42XeZ3v/MqXkXjx7jcv/eWhh7Rq2BsoqyhKXDncKe9hsxX+2Qcb6euJguXkUno0Q0rpfbkJBeuPQqTHsW0LJFvU7RvTA9vqd7YVFLSl1CBIfZgSj+Xn7K/SKRuo9GIXYeHpe6ipiVkKp4JBCcbdmyRSaTjRkzxsnJSdV1StvbV28TqgzO7ty5s2PHDl9f3/bt26uVZOTr1VXbZZVVbeaMVPiTeuJK0t4z3dfO7LT0dQrUynJZf4rTb+QCMwvLtF8/UON5d90UWUVpo1k/quUb7Su9QFO8uv65kS2ecX0tQ0L6EtOx/D+xIkqI3pVeWcnKe0GkLiHqUDYHIlFHoey8MnqUWEcxG6GY1FXEpoRUO04Cwdnx48fJ4549/32VkLIBNFVGaWVw1r179/T09D179vTu3VtZhqlEQVJG4u7T/t2fqtexucKxqEU/Ozf2pfueKccuMeWqRmfs/Jp4dBtVcO0YLThTFniwd83DqH3B83ZZ2Gp//lF5lrCJyzdFjJ9uJuYVFWt/gk/YFtVmDRKqjYyB+bTzsIEWOE6n14gJ/rQKR3Xch6QuIWodmwORqBKiVottn1s2akelriI2JaQKWQIPBCQnJ5PHgYGBqn5TmlabnT5dvdGfMjizsDAo1mzXrh09c6BWi9pXa7nFQrMOapl6fb32xQ66s0mTZ4f+70M6kXbzK0x+kBt7Vy8jTUOaVpjz/CFubmPvs/q2XtWpFvYd8V5O5BaaPGv2yQnKL7h2IuXnd0M++NPWp5FqMa3ppk1D5OUlWovpWCDd7R0zC/UF17STkMb9Mny9qidc6V/a7aymfXrXdfvRe1Tzac1QcGgrK1m+aqYhaQNVBAkp4AsroUznV8ys1QcZfhIi92qqqNdzQ2wrkwyRjeq5LEiI/OE9EBk4ClHVggxEwkoo13GYmW0b1W6itIASemXSrBll/6jZ5/3VQAlRvaYdiKQoIbqtFxUVpWOXSSA4o83MqDElJeoXclqIRk9x0vMBjRs31rG13MUoMktN1fIgvY25pZkPt5lHRzPOxvzo9381iz68nfpzwKPbmjWP6piTlp5WLue5Pobmt3RpgXPLHhG75TX9sW/QXPk8Ztn9pIQVLwZMWEGFa5bkzqHNUGjjGe4yehylB0JqROaKnYRqM2JlaUG7ndV2VC3/fkamWYVgt710VBEkpNYLal8FllBwpZm1Wg0UwVdviaee+7/vekkoKzvPrFDL8PI/w9r/y4KEyEveA5GOoxBVIepAJLCEAsrMbNX7TkAJ5eUV5OUYW0LUHjYHoidTQirykUBwRsFmbm7upUuXOnfurPScbl/OmTOHvtImGkKt/aeKlPZrS9CvDTOeM1a1meST7+/nb8jMGZ8qa5xDoVX8kmGuHYbUGzi9xkHtGf7+/kLOnFnIa3YLzV5o9IPmzOiyWlkly8hSj/ipvMazfH28LOU1xl2N1nXIZEFFkJBaR2VaWz7a5EblgEYx0HFuCVGBmid6ebrautZXsW1QkgUJUQN4q4imPQxqv8rJhgxEwo5CuQ42NUecmkpQ+M5DQm6uTo72kNCjvpeihHSJMZTSlkBwRgvI6IHNZcuW9enTp2nT6r3pL168OG7cOJo2o7SA28/qMt9YUVy6OXisEp+pEnG346wdHu03pq8PJZVm3Q7oe5KG8rlndpQkXi1NjaPnN1UPh6+9YePdUDVHYzou7ra9cOrrPHbPuWvqr2NXuzupdIPuZtJ0CEVmDfr8pszkSNjaWN5NiLG2rjE1x3EO5yEWVAQJqXXR+Pl/bdp3Ry1TKAmR2YunDzaqr37nXa063b+yICHylreKhBqFyAdDBiJhR6HFX19euE596bCAEtq2eX2fzoIFZ5CQ8n83diSkdIkSwl0eVa0Kmqb9zH799dd79+6Fh4eHhoaWlpbSU5n0tgDa3uzQoUPKBWeC1mlUYwdfWGjU+gSqzLPnOPoIZMxQMxFhXjWDM0ON/u/8Vk09BIzM/mdVyP9CQobTjAjzrBmcGW5WYcHD1TbQ30koa2LYkaiECAU7AxFJSIyuUdps21xc+8qKeCckqiJ2JKRKXrDJAFWjwqYDAgIiIyMHDhxIr9RMSkry8PDYsGHD/v374+LiqKInIDgTFlfdtEbBmXgNF3vMFc9zWNadgNgSEmr1he4tQkkjExBVQo38nTzdeN4tMTIHVCcIAQnMnFE7mzdvvm/fPtUGFxYWUqBGj2e2aNFCNR/pukmgX9cAeo+XGC9OIZ6DntF+l7ZuYn+SWt2hpXc9D7sHOaViNGpQd0hIDK5s2aS1/+3CvaJiqtfbCP6HUUhwpIwblMDMmUaCMTExtF1ySEiIg8Nje2tt/+/fjRs36CxFWpeVZBqrQKaECPh5Ozzfq5EYDjeu70yRnxiWYZMpAjbWlq8+30wMlxzsrF4eEiKGZdhkjcAbLz7awFJwx6aOFMuy4K7CoCAEpBqcRUdHU/tr3tMc8d+/33//nY4q0mvXrhWEFIwwTkCkwWvKiFALC3PG2w73BCEweUQzMfr6pQFBrs42gngII4wTGNUvyE2Evu7R3q95kBvjbYd7whJ40oIzmk5T+/vxxx+FRQZrbBJ4pp3vYKHvPwY3cJ42Cj9Y2exw4b0K9HeeNSZMWLsUli2c0lZYm7DGLAEHe6tPZlS/8VnAP0tL8xVvM/pCQgGbCVNqBKSx5kzNafpa28xZzZKmynEPC+yycoq1k31RSuapGV+6N23Qe/P8/Pi0w6M+Ks3ObzKqV/ikga4hAVGLf77xzX6Fk+0WjGs0tEtOdOLxictN5bay3uLEq8lfvS4rKbDxDmz01qbSuzG3F/e3q98s5MPD1m71Uje9l3dxj7mFJZX3Hf4fj+7VW+2n/DAn5++tDsFtm8zfpbRjtAQtuN7wQdfIYRl5BTX3q+LpxfeLujk6WPM82eDTuCX09Oppft2fKsuufm9B2qlrUR9tooSEJBT/6fNlDxIVkEqSrtHrv9w6Drm/e1Xmga8s7J3CVl8xmB8fAx9Pb7fv1L3byYK9DWLVnI4BvrVuY8vHRX3O4ZYQvTiu85LX7bxcza0sr37+e9KeM2Q7bNKg0Al9K4tK9/Sp3kjSJH/cg0/W0e/v71lVei82YOJKnyFvKjzUmGmSEWnKi823H0k6Idyr7t+d+FS7cG8jdwS3cjRev9r8Z3TD59rJq6p3nIxeu4teVEgJU41IPCSU9MWE/CtHrFyrUbu06hMwcQUlTCIhqpf+pBqcKV64qWgDm/8+vXr66be+yolJIh23/2D8nd9OUGSmHO+yr8WfnPx5yxnDVZ2n62verXsN+3dQzTRVmpTaaOYPDkGtadRL+eEdr2cnUmSmvGT6PD+n/rhPyLfy7NSYac1dWve2cvEiNds1DM87b4LITEGJVp59vaDrqLknuKEptoWsbXNI5bnvvNyyezs/5VfjJ7glRP7ErN+jjOwV7klIQsHz/1D4XHQ76vaifi5t+9FXn6FvOQS1uffdoyuuooAx/6WZj58+7t7jlQPlFdXXmNr+dJTQ888GThgaUpsRI+RzS4iO3tl64vavx2w9XQYfXPbgws3ijJwbG/fR78MOiycYwb3aquAefByCI4LmbMvYvkT1dI2ZJhmR6M7494u7tRu9m15VruqhWlpHCdH2GR9MUX8llJopMb5yK0fj9Stm3e7LS7eQMw6+HsNOrU6LvFaWU2CqEYmHhMhzuq4pw30FVZNISFG1VG9rKrxn9l+PFo0ri0spMiMP47edbPBcOwubx+Lg3BvJ9B4nMxnXBcCErStOuGxp70SRGfng2fPlhxf2yCsfm46ycnJTuCcrKTSjG8nMNGRkv6DVcztyo6NtIWn72do2h1ScO25Qk2Vvtee2I+pRrRIStXbDjWuVkLKKrKPfefYYa2HNyqqszq18tq3sRQ//Kj2smdBFQrROaPOSHibcQUOrhDzCA1OOVW+aSvOvNFjRtH3Nlho/R6tyHBq3opfImT/+JmWNmcZ3XlEj7TZ8cH1fFyeuSXddJBTa2PXPdX1pE2wjN0SrcjRev8rzH70fwcrRjmRvQuXzk5CRIWut7rGIQWtpFNCRgFPDeu6hDYccqZ4XpT8re1v6MaFIS+LfsvuJJcnRN96sDs7oj16QQjNkirTy3wd71zw48FVFdkrg9G/pRqcy3+SJWWNb2NlaTfv0TFWVhneD6uLeGy+Gfjmvsxhrw3WpXVFGFwk1f20AzcsWpWZdXrZF8UtAd/til9RFQuSDrKwkN3JLs08jxfZHL/tDewbu/qLPiNnHi0sr9TpRWXhQ9wZbV/SytzPlAKtVQtnXEoJf6H593W4qWa99s8J7mUr/TZjQUTkm9FCXqulG5IlvB/Sfeoj35iy0a9qf657z9rDXpTphy2hVTm3VNX91AN0Td/D3PDN7Pa3eqa2Y2Pm8JfRg7xfZR7+nN9z4j/lYMTchtqsc9k05dnC49QQcyrx8+8jojxUNGXX9O8m1yDGkY8iiQwq3r47TsOKh3uCZ9KFb+4mrxrq0fs7KhaHdqyePCKWdYycuiLx+J1cv8t7uduvf7/JCn8Z6nSVSYW4JXVq6pfh+Lk1b0n3w3pvf29llBk3WiuQJP7NaJURmc89st/Vvat+oJb8qxDtrQLcG13Y8/+rCyL+iMvSqxdHeiuZcaUsF0wb3Cp+5JfT3zLXtPnyZfkMWpmSlR0bLq6r0aql4hXVRjni1C2W5bZjX9Z3Dpy85u+3Qo7WVOlqmJwDmvdpqweTWtL2LjqcIXoxbObVVF/vdAfrQerXua2em/XW1LLewtpJi5/OQkP/YT6zd/WhGNvfsH7TAusX623T7SGw/OezjtiYHHP6HCpPvO9Z/tGc9PRNg5WBHizn4mzP6mbY+QeVZdxXVVhXnV5UW2Xhqfqcb3U2w8ahfcP2k0X3UUiH9co36bejiaW0p3tJS9L+H7WwtX3+h2Y1dLzASmWmVULWi5NVTg3f/vFBRUOzaxF+XZhqtjI4SonuaXr1fNZpXelUU3MDl+LcD1r3XRcc3L9E19f/6NKKQbtqoMBYiM60SKkzJPPnaSloIe3ziMhsXB1rwqhcfkQrrqByRahfWLM170QTq9s96tWjirqPl3p38L2we8tH0CBNGZlqVw90WuulJo5Nvl3DuYuId5SchusYp7pW7d37e0t6lNPWWeB7qYhnBmS6U9C5D95hkFVX0MB2dSdO89NyKrJzn/RG96xbiBJrRNbe0pkdXyFjmgXUeT480t3psSVDJ3eptfumvLD2ebvDbNRB4AwKFcQP/pbUaCya3odec09KfXh38nDQ9d2ltZUGben8+p2PasdEbFz7tpVskZ6BjupyuVUIOfo9ulHu3DbH1cM5P1G+CRxcfDCmjVUJkvDT9TvGdKI/uow2pSNRzKcZ6Y2Tz+P0j9n7ZZ0iPhvSKzJrVUZnwYLeFU9okHxz5+2fPBgW41CxjkhytEqLnNM3Mq5fW+fdo5do0IOGPv03ip1qluihH7RTGv9LvPQrZT/0w8KUBwfTQkkZvmzR0mTUm/ObuF45s7E9TbhrLGC1Tq3I0ekISUuQ7B/rQqrW8uBSNxYyQyU9C5VmPHC68da6yINvOr4kRXOWoworjGA4ZQuDUtC9oswObpa8XJGWcmr7Gvdlj729p8mKPNu+OtnFzbNivQ/iUIcdeXppzXb+pb0N80+Xcxm9vTloz8e76N2z9mjR++5eS5OuqZ6X+NJfu65tbWZtbWDWcvJbW56oeZSpNIdpLA4PpI5PJ45IfXovLKSiqoDQ9lxfa2I1+0Rp/va2OfLglRI9T2Xu70oPrlaXlJ1//jCbPdDRrtGLcEiI3aHmHW+cXLB1YiWZqI2NpaUEvz6EPPfqSlFp45VZ2bn55ZZXMzsaSrqmtmnqYcL+V2nxW5HNLiB5Uajl9GEmI7o8fHfNpVeljD/1wWxb1KLdyso79mLb5/arCXHow/P6ulU3e30tP+GrMFNVJvYzT6vhuEb70obPSHhRdis3OyiulJ4JtrS0b+jm2CfV0c9EQ9+tVhbCFuZWj8frV7v1xtFhNXlEpq5Kdm/9d9RNvpvvjISF6wLPi4X3aH8rCxj547u+Wjq6mc7+6ZgRnYvHPu3l3X793a7N+Z9tJ+tR2lIV8WgbU/POo2jxpsmBfbYeYzacZDorG6MOsh2qOcUvo8MjFauVZ+8otIfK2/rhPWfOZ2x+6xDYOcKYPdzF2jnJLiDbRoA873io94VaO17MT6KMsrEhozFQrw8hX/3qO9GHEmdrc4FaOxuvXsfGPbW5Sm2Xj5POQUNOPjhrHNx1rwW1NHUEZWqyqotLW3ZnW3tp51jpPQPv1tZzxfFleoaGViXA+3daszM+m5zcr8h7UZp7266PNh6wcdV1dUZsd5GskUBckRJvQ3v16qpWziW/raOT/BGTqIiHahLbT0tdKcwrYaa8ug49GbzEiacTCI1MX5Wg0y8hFTYoSMqeJeo1MkamRQEVx6ebgsRoPGTNzTPwv1g46rXOv6VVJpVm3AzWzjZ0TOcDMvq7O27KgIkjI2IoXtD4WJEQN4q0ijEKCyoGPMUiID7Ua54h3IcPMWQ3YyAABEAABEAABEAAB0xFAcGY69qgZBEAABEAABEAABGoQwG3NGkg4M+gucGUJ1xvTOM8W7CC9coD3yzHoPnYpA5tN2lkqnuIXjImEDLGgIkhIQoKp6SoLEiKveKsIo1DNPjVyDiQkCHDxLmQIzgTpIBgBARAAARAAARAAAWEI4LamMBxhBQRAAARAAARAAAQEIYDgTBCMMAICIAACIAACIAACwhBAcCYMR1gBARAAARAAARAAAUEIIDgTBCOMgAAIgAAIgAAIgIAwBBCcCcMRVkAABEAABEAABEBAEAIIzgTBCCMgAAIgAAIgAAIgIAwBBGfCcIQVEAABEAABEAABEBCEAIIzQTDCCAiAAAiAAAiAAAgIQwDBmTAcYQUEQAAEQAAEQAAEBCGA4EwQjDACAiAAAiAAAiAAAsIQQHAmDEdYAQEQAAEQAAEQAAFBCCA4EwQjjIAACIAACIAACICAMAQQnAnDEVZAAARAAARAAARAQBACCM4EwQgjIAACIAACIAACICAMAQRnwnCEFRAAARAAARAAARAQhACCM0EwwggIgAAIgAAIgAAICEMAwZkwHGEFBEAABEAABEAABAQhgOBMEIwwAgIgAAIgAAIgAALCEEBwJgxHWAEBEAABEAABEAABQQggOBMEI4yAAAiAAAiAAAiAgDAEEJwJwxFWQAAEQAAEQAAEQEAQAgjOBMEIIyAAAiAAAiAAAiAgDAEEZ8JwhBUQAAEQAAEQAAEQEIQAgjNBMMIICIAACIAACIAACAhDAMGZMBxhBQRAAARAAARAAAQEIfD/VgjO/a1w6OMAAAAASUVORK5CYII=)"
      ],
      "metadata": {
        "id": "5-mkvkkfBoMM"
      }
    },
    {
      "cell_type": "markdown",
      "source": [
        "Create `EfficientSU2` ansatz in Qiskit.\n"
      ],
      "metadata": {
        "id": "PX0zh0VtBoH4"
      }
    },
    {
      "cell_type": "code",
      "source": [
        "from qiskit.circuit.library import EfficientSU2\n",
        "\n",
        "def ansatz2():\n",
        "    ### Your code here\n",
        "\n",
        "    return qc"
      ],
      "metadata": {
        "id": "pRfBbeIOAm6n"
      },
      "execution_count": null,
      "outputs": []
    },
    {
      "cell_type": "markdown",
      "source": [
        "### Solution\n"
      ],
      "metadata": {
        "id": "5OsCrRS1AyVV"
      }
    },
    {
      "cell_type": "code",
      "source": [
        "from qiskit.circuit.library import EfficientSU2\n",
        "\n",
        "def ansatz2():\n",
        "    qc = QuantumCircuit(2,1)\n",
        "    qc.compose(EfficientSU2(2), inplace=True)\n",
        "    return qc"
      ],
      "metadata": {
        "id": "5nhUxrY1Ayka"
      },
      "execution_count": null,
      "outputs": []
    },
    {
      "cell_type": "markdown",
      "source": [
        "### Task 10"
      ],
      "metadata": {
        "id": "mqCxbS1iBDu4"
      }
    },
    {
      "cell_type": "markdown",
      "source": [
        "Repeat Task 8 with ansatz defined in Task 9.\n"
      ],
      "metadata": {
        "id": "XB0eyQBqCe5T"
      }
    },
    {
      "cell_type": "code",
      "source": [
        "from qiskit.circuit import Parameter\n",
        "from qiskit import  QuantumCircuit, transpile\n",
        "from qiskit.circuit.library import StatePreparation\n",
        "from qiskit_aer import AerSimulator\n",
        "\n",
        "def expectation_value(params):\n",
        "    ### Your code here\n",
        "\n",
        "\n",
        "    return e"
      ],
      "metadata": {
        "id": "nrEqGCp3BPcL"
      },
      "execution_count": null,
      "outputs": []
    },
    {
      "cell_type": "markdown",
      "source": [
        "### Solution"
      ],
      "metadata": {
        "id": "Rmx-udz2Cev8"
      }
    },
    {
      "cell_type": "code",
      "source": [
        "from qiskit.circuit import Parameter\n",
        "from qiskit import  QuantumCircuit, transpile\n",
        "from qiskit.circuit.library import StatePreparation\n",
        "from qiskit_aer import AerSimulator\n",
        "from scipy.optimize import minimize\n",
        "from qiskit.quantum_info import SparsePauliOp\n",
        "\n",
        "\n",
        "def expectation_value(params):\n",
        "    H = SparsePauliOp([\"YY\", \"ZX\", \"XZ\"], [2.0, 1.0, -1.0])\n",
        "    e = 0\n",
        "    #For each term in the Hamiltonian\n",
        "    for op in H:\n",
        "        qc = ansatz2()\n",
        "        #Asign the parameters\n",
        "        bc = qc.assign_parameters(params)\n",
        "        #Add the measurement circuit\n",
        "        bc = bc.compose(measurement(op.paulis[0]))\n",
        "        #Transpile the circuit for convenience\n",
        "        bc = transpile(bc, basis_gates=['u', 'cx'])\n",
        "        bc.measure(1,0)\n",
        "        shots = 10000\n",
        "        job = AerSimulator().run(bc,shots=shots)\n",
        "        counts = job.result().get_counts(bc)\n",
        "        #Compute expectation for each term in the Hamiltonian\n",
        "        e += op.coeffs[0]*(-1*counts.get(\"1\",0) / shots + 1*counts.get(\"0\",0) / shots)\n",
        "    return e\n"
      ],
      "metadata": {
        "id": "Qaba1hoNDosw"
      },
      "execution_count": null,
      "outputs": []
    },
    {
      "cell_type": "code",
      "source": [
        "\n",
        "params = [0.5]*ansatz2().num_parameters\n",
        "e = expectation_value(params)\n",
        "print(\"Initial expectation value estimation:\", e)\n",
        "\n",
        "\n",
        "result = minimize(expectation_value, params, method='COBYLA')\n",
        "print(\"Optimized parameters:\", result.x)\n",
        "print(\"Expectation value at optimized parameters:\", expectation_value(result.x))"
      ],
      "metadata": {
        "id": "RkZ8Z46xBngu"
      },
      "execution_count": null,
      "outputs": []
    }
  ],
  "metadata": {
    "kernelspec": {
      "display_name": "Python 3 (ipykernel)",
      "language": "python",
      "name": "python3"
    },
    "language_info": {
      "codemirror_mode": {
        "name": "ipython",
        "version": 3
      },
      "file_extension": ".py",
      "mimetype": "text/x-python",
      "name": "python",
      "nbconvert_exporter": "python",
      "pygments_lexer": "ipython3",
      "version": "3.11.4"
    },
    "colab": {
      "provenance": [],
      "toc_visible": true,
      "include_colab_link": true
    }
  },
  "nbformat": 4,
  "nbformat_minor": 0
}