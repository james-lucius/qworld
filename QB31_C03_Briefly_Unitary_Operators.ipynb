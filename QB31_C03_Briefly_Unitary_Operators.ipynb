{
  "cells": [
    {
      "cell_type": "markdown",
      "metadata": {
        "id": "view-in-github",
        "colab_type": "text"
      },
      "source": [
        "<a href=\"https://colab.research.google.com/github/james-lucius/qworld/blob/main/QB31_C03_Briefly_Unitary_Operators.ipynb\" target=\"_parent\"><img src=\"https://colab.research.google.com/assets/colab-badge.svg\" alt=\"Open In Colab\"/></a>"
      ]
    },
    {
      "cell_type": "markdown",
      "metadata": {
        "id": "74Pn2u0V0829"
      },
      "source": [
        "<a href=\"https://qworld.net\" target=\"_blank\" align=\"left\"><img src=\"https://gitlab.com/qworld/qeducation/qbook101/raw/main/qworld/images/header.jpg\" align=\"left\"></a>\n",
        "$ \\newcommand{\\bra}[1]{\\langle #1|} $\n",
        "$ \\newcommand{\\ket}[1]{|#1\\rangle} $\n",
        "$ \\newcommand{\\braket}[2]{\\langle #1|#2\\rangle} $\n",
        "$ \\newcommand{\\dot}[2]{ #1 \\cdot #2} $\n",
        "$ \\newcommand{\\biginner}[2]{\\left\\langle #1,#2\\right\\rangle} $\n",
        "$ \\newcommand{\\mymatrix}[2]{\\left( \\begin{array}{#1} #2\\end{array} \\right)} $\n",
        "$ \\newcommand{\\myvector}[1]{\\mymatrix{c}{#1}} $\n",
        "$ \\newcommand{\\myrvector}[1]{\\mymatrix{r}{#1}} $\n",
        "$ \\newcommand{\\mypar}[1]{\\left( #1 \\right)} $\n",
        "$ \\newcommand{\\mybigpar}[1]{ \\Big( #1 \\Big)} $\n",
        "$ \\newcommand{\\sqrttwo}{\\frac{1}{\\sqrt{2}}} $\n",
        "$ \\newcommand{\\dsqrttwo}{\\dfrac{1}{\\sqrt{2}}} $\n",
        "$ \\newcommand{\\onehalf}{\\frac{1}{2}} $\n",
        "$ \\newcommand{\\donehalf}{\\dfrac{1}{2}} $\n",
        "$ \\newcommand{\\hadamard}{ \\mymatrix{rr}{ \\sqrttwo & \\sqrttwo \\\\ \\sqrttwo & -\\sqrttwo }} $\n",
        "$ \\newcommand{\\vzero}{\\myvector{1\\\\0}} $\n",
        "$ \\newcommand{\\vone}{\\myvector{0\\\\1}} $\n",
        "$ \\newcommand{\\stateplus}{\\myvector{ \\sqrttwo \\\\  \\sqrttwo } } $\n",
        "$ \\newcommand{\\stateminus}{ \\myrvector{ \\sqrttwo \\\\ -\\sqrttwo } } $\n",
        "$ \\newcommand{\\myarray}[2]{ \\begin{array}{#1}#2\\end{array}} $\n",
        "$ \\newcommand{\\X}{ \\mymatrix{cc}{0 & 1 \\\\ 1 & 0}  } $\n",
        "$ \\newcommand{\\Z}{ \\mymatrix{rr}{1 & 0 \\\\ 0 & -1}  } $\n",
        "$ \\newcommand{\\Htwo}{ \\mymatrix{rrrr}{ \\frac{1}{2} & \\frac{1}{2} & \\frac{1}{2} & \\frac{1}{2} \\\\ \\frac{1}{2} & -\\frac{1}{2} & \\frac{1}{2} & -\\frac{1}{2} \\\\ \\frac{1}{2} & \\frac{1}{2} & -\\frac{1}{2} & -\\frac{1}{2} \\\\ \\frac{1}{2} & -\\frac{1}{2} & -\\frac{1}{2} & \\frac{1}{2} } } $\n",
        "$ \\newcommand{\\CNOT}{ \\mymatrix{cccc}{1 & 0 & 0 & 0 \\\\ 0 & 1 & 0 & 0 \\\\ 0 & 0 & 0 & 1 \\\\ 0 & 0 & 1 & 0} } $\n",
        "$ \\newcommand{\\norm}[1]{ \\left\\lVert #1 \\right\\rVert } $\n",
        "$ \\newcommand{\\pstate}[1]{ \\lceil \\mspace{-1mu} #1 \\mspace{-1.5mu} \\rfloor } $\n",
        "$ \\newcommand{\\Y}{ \\mymatrix{rr}{0 & -i \\\\ i & 0} } $\n",
        "$ \\newcommand{\\S}{ \\mymatrix{rr}{1 & 0 \\\\ 0 & i} } $\n",
        "$ \\newcommand{\\T}{ \\mymatrix{rr}{1 & 0 \\\\ 0 & e^{i \\frac{\\pi}{4}}} } $\n",
        "$ \\newcommand{\\Sdg}{ \\mymatrix{rr}{1 & 0 \\\\ 0 & -i} } $\n",
        "$ \\newcommand{\\Tdg}{ \\mymatrix{rr}{1 & 0 \\\\ 0 & e^{-i \\frac{\\pi}{4}}} } $\n",
        "$ \\newcommand{\\qgate}[1]{ \\mathop{\\\\textit{#1} } }$"
      ]
    },
    {
      "cell_type": "markdown",
      "metadata": {
        "id": "I6rSjsSI083B"
      },
      "source": [
        "_prepared by Maksim Dimitrijev and Abuzer Yakaryilmaz_"
      ]
    },
    {
      "cell_type": "markdown",
      "metadata": {
        "id": "w6nWP-32083B"
      },
      "source": [
        "<font size=\"28px\" style=\"font-size:28px;\" align=\"left\"><b>Briefly unitary operators</b></font>\n",
        "<br>\n",
        "<br><br>"
      ]
    },
    {
      "cell_type": "markdown",
      "metadata": {
        "jp-MarkdownHeadingCollapsed": true,
        "id": "xAKzy5NC083C"
      },
      "source": [
        "##### <font color=\"#08b806\">Please execute the following cell, it is necessary to distinguish between your local environment and Google Colab's"
      ]
    },
    {
      "cell_type": "code",
      "execution_count": 1,
      "metadata": {
        "id": "t3zW5n0n083C",
        "outputId": "46297728-9a32-4e34-d1bb-c5bc72f7d43d",
        "colab": {
          "base_uri": "https://localhost:8080/"
        }
      },
      "outputs": [
        {
          "output_type": "stream",
          "name": "stdout",
          "text": [
            "--2025-06-30 19:02:36--  https://gitlab.com/qworld/qeducation/qbook101/raw/main/qworld/include/random_complex_quantum_state.py\n",
            "Resolving gitlab.com (gitlab.com)... 172.65.251.78, 2606:4700:90:0:f22e:fbec:5bed:a9b9\n",
            "Connecting to gitlab.com (gitlab.com)|172.65.251.78|:443... connected.\n",
            "HTTP request sent, awaiting response... 200 OK\n",
            "Length: 870 [text/plain]\n",
            "Saving to: ‘random_complex_quantum_state.py’\n",
            "\n",
            "\r          random_co   0%[                    ]       0  --.-KB/s               \rrandom_complex_quan 100%[===================>]     870  --.-KB/s    in 0s      \n",
            "\n",
            "2025-06-30 19:02:36 (603 MB/s) - ‘random_complex_quantum_state.py’ saved [870/870]\n",
            "\n",
            "--2025-06-30 19:02:36--  https://gitlab.com/qworld/qeducation/qbook101/raw/main/qworld/include/is_quantum_state.py\n",
            "Resolving gitlab.com (gitlab.com)... 172.65.251.78, 2606:4700:90:0:f22e:fbec:5bed:a9b9\n",
            "Connecting to gitlab.com (gitlab.com)|172.65.251.78|:443... connected.\n",
            "HTTP request sent, awaiting response... 200 OK\n",
            "Length: 675 [text/plain]\n",
            "Saving to: ‘is_quantum_state.py’\n",
            "\n",
            "is_quantum_state.py 100%[===================>]     675  --.-KB/s    in 0s      \n",
            "\n",
            "2025-06-30 19:02:36 (461 MB/s) - ‘is_quantum_state.py’ saved [675/675]\n",
            "\n"
          ]
        }
      ],
      "source": [
        "import IPython\n",
        "\n",
        "def in_colab():\n",
        "    try:\n",
        "        import google.colab\n",
        "        return True\n",
        "    except:\n",
        "        return False\n",
        "\n",
        "path_files = \"./\" if in_colab() else \"../qworld/include/\"\n",
        "\n",
        "SolutionToTask1 = lambda: IPython.display.display(IPython.display.Javascript('window.open(\"{url}\");'.format(url='https://colab.research.google.com/drive/1jynmgQ7ejXKuIaunzriQgqH0UJ3edZXZ?usp=sharing#scrollTo=agzOJ-EGtOcH' if in_colab() else 'QB31_C03_Briefly_Unitary_Operators_Solutions.ipynb#task1')))\n",
        "SolutionToTask2 = lambda: IPython.display.display(IPython.display.Javascript('window.open(\"{url}\");'.format(url='https://colab.research.google.com/drive/1jynmgQ7ejXKuIaunzriQgqH0UJ3edZXZ?usp=sharing#scrollTo=g2n_RuHTtOcI' if in_colab() else 'QB31_C03_Briefly_Unitary_Operators_Solutions.ipynb#task2')))\n",
        "SolutionToTask3 = lambda: IPython.display.display(IPython.display.Javascript('window.open(\"{url}\");'.format(url='https://colab.research.google.com/drive/1jynmgQ7ejXKuIaunzriQgqH0UJ3edZXZ?usp=sharing#scrollTo=LcGuNRL6tOcJ' if in_colab() else 'QB31_C03_Briefly_Unitary_Operators_Solutions.ipynb#task3')))\n",
        "SolutionToTask4 = lambda: IPython.display.display(IPython.display.Javascript('window.open(\"{url}\");'.format(url='https://colab.research.google.com/drive/1jynmgQ7ejXKuIaunzriQgqH0UJ3edZXZ?usp=sharing#scrollTo=bJAtlsaetOcK' if in_colab() else 'QB31_C03_Briefly_Unitary_Operators_Solutions.ipynb#task4')))\n",
        "\n",
        "if in_colab():\n",
        "    url = \"https://gitlab.com/qworld/qeducation/qbook101/raw/main/qworld/include/random_complex_quantum_state.py\"\n",
        "    !wget --no-cache -O random_complex_quantum_state.py {url}\n",
        "\n",
        "    url = \"https://gitlab.com/qworld/qeducation/qbook101/raw/main/qworld/include/is_quantum_state.py\"\n",
        "    !wget --no-cache -O is_quantum_state.py {url}"
      ]
    },
    {
      "cell_type": "markdown",
      "metadata": {
        "id": "2sCi9dvL083D"
      },
      "source": [
        "##### We have different and equivalent definitions of unitary matrices. Let $ U \\in \\mathbb{C}^{n \\times n} $ be a unitary matrix. Then:\n",
        "\n",
        "- $ U $ is length preserving.\n",
        "- The columns of $ U $ form an orthonormal set.\n",
        "- $ U^{\\dagger}U=I $ and $ U^{-1} = U^{\\dagger} $. (Remember that $ U^\\dagger $ is the conjugate transpose of $U$.)\n",
        "- The rows of $ U $ form an orthonormal set.\n",
        "\n",
        "Remark that $ U^\\dagger $ is unitary, as well, and $ U $ is a reversible operator."
      ]
    },
    {
      "cell_type": "markdown",
      "metadata": {
        "id": "PQMyw4Pm083D"
      },
      "source": [
        "## Conjugate transpose of a matrix"
      ]
    },
    {
      "cell_type": "markdown",
      "metadata": {
        "id": "bwM4WwrY083D"
      },
      "source": [
        "Here we explicitly represent the conjugate transpose of a matrix.\n",
        "\n",
        "Let $ U $ be the unitary matrix\n",
        "$\n",
        "U = \\mymatrix{cccc}{\n",
        "    a_{11} & a_{12} & \\ldots & a_{1n} \\\\\n",
        "    a_{21} & a_{22} & \\ldots & a_{2n} \\\\\n",
        "    \\vdots & \\vdots & \\ddots & \\vdots \\\\\n",
        "    a_{n1} & a_{n2} & \\ldots & a_{nn}\n",
        "    } .\n",
        "$\n",
        "\n",
        "To obtain $ U^\\dagger $, we exchange the rows and columns (the $k$th row becomes the $k$th column) as well as conjugate each value:\n",
        "\n",
        "$\n",
        "U^\\dagger = \\mymatrix{cccc}{\n",
        "    a_{11}^* & a_{21}^* & \\ldots & a_{n1}^* \\\\\n",
        "    a_{12}^* & a_{22}^* & \\ldots & a_{n2}^* \\\\\n",
        "    \\vdots & \\vdots & \\ddots & \\vdots \\\\\n",
        "    a_{1n}^* & a_{2n}^* & \\ldots & a_{nn}^*\n",
        "    } .\n",
        "$"
      ]
    },
    {
      "cell_type": "markdown",
      "metadata": {
        "id": "AEyjEMWo083E"
      },
      "source": [
        "## One qubit unitary operators\n",
        "\n",
        "We review a few one-qubit unitary operators for warming up."
      ]
    },
    {
      "cell_type": "markdown",
      "metadata": {
        "id": "VYVdqs-c083E"
      },
      "source": [
        "### Hadamard\n",
        "\n",
        "We start with Hadamard operator.\n",
        "\n",
        "$\n",
        "    H = \\hadamard.\n",
        "$\n",
        "\n",
        "It is easy to see that $H^{\\dagger} = H$, and $ HH= I $. Thus, $ H $ is a unitary operator, and so, a length preserving operator.\n",
        "\n",
        "Let $ \\ket{u} = \\myvector{ \\frac{1+i}{\\sqrt{3}} \\\\ -\\frac{1}{\\sqrt{3}} } $ be a quantum state.\n",
        "Observe that $ \\norm{u}^2 = \\braket{u}{u} = \\mypar{ \\frac{1-i}{\\sqrt{3}} ~~~ -\\frac{1}{\\sqrt{3}}  }  \\myvector{ \\frac{1+i}{\\sqrt{3}} \\\\ -\\frac{1}{\\sqrt{3}} } = \\frac{1-i^2}{3} + \\frac{1}{3} = \\frac{1-(-1)+1}{3} = 1 $."
      ]
    },
    {
      "cell_type": "markdown",
      "metadata": {
        "id": "ICY51hOG083E"
      },
      "source": [
        "We calculate $ \\ket{u'} = H \\ket{u} $.\n",
        "\n",
        "$ \\ket{u'} = \\hadamard \\myvector{ \\frac{1+i}{\\sqrt{3}} \\\\ -\\frac{1}{\\sqrt{3}} } = \\myvector{ \\left (\\frac{1+i}{\\sqrt{3}} \\cdot \\frac{1}{\\sqrt{2}} \\right ) +\n",
        "\\left(-\\frac{1}{\\sqrt{3}} \\cdot \\frac{1}{\\sqrt{2}} \\right ) \\\\ \\left ( \\frac{1+i}{\\sqrt{3}} \\cdot \\frac{1}{\\sqrt{2}} \\right ) +\n",
        "\\left ( -\\frac{1}{\\sqrt{3}} \\cdot -\\frac{1}{\\sqrt{2}} \\right ) } = \\myvector{ \\frac{1+i-1}{\\sqrt{6}} \\\\ \\frac{1+i+1}{\\sqrt{6}} } = \\myvector{ \\frac{i}{\\sqrt{6}} \\\\ \\frac{2+i}{\\sqrt{6}} }.\n",
        " $\n",
        "\n",
        "Then, we check $ \\norm{u'}^2 = \\braket{u'}{u'} = \\mypar{\\frac{-i}{\\sqrt{6}} ~~~ \\frac{2-i}{\\sqrt{6}} } \\myvector{ \\frac{i}{\\sqrt{6}} \\\\ \\frac{2+i}{\\sqrt{6}} } = \\frac{-i^2}{6} + \\frac{4-i^2}{6} \\ \\frac{-(-1)+4-(-1)}{6} = 1 $."
      ]
    },
    {
      "cell_type": "markdown",
      "metadata": {
        "id": "eSBnsrl8083E"
      },
      "source": [
        "### Pauli matrices\n",
        "\n",
        "Pauli matrices are well-known and fundamental single-qubit unitary operators.\n",
        "\n",
        "There are three Pauli matrices: $ X $, $ Y $, and $ Z $, which are rotations by $ \\pi $ respectively over the $ x $-axis, the $ y $-axis, and the $z$-axis.\n",
        "\n",
        "In our tutorial Bronze, we introduce $ X = \\X $ and $ Z = \\Z $, which do not have any entry with imaginary numbers.\n",
        "\n",
        "On the other hand, $ Y = \\Y $ has imaginary numbers in its off-diagonal entries.\n",
        "\n",
        "Similar to $ H $, $ X^\\dagger = X $, $ Y^\\dagger = Y $, and $ Z^\\dagger = Z $."
      ]
    },
    {
      "cell_type": "markdown",
      "metadata": {
        "id": "qgipg09Z083E"
      },
      "source": [
        "<h3> Task 1 </h3>\n",
        "\n",
        "Verify that $Y^{\\dagger} = Y$ and that $YY = I$.\n",
        "\n"
      ]
    },
    {
      "cell_type": "markdown",
      "metadata": {
        "id": "l0qvuv78083E"
      },
      "source": [
        "To check out our solution, run the next cell:"
      ]
    },
    {
      "cell_type": "code",
      "execution_count": null,
      "metadata": {
        "id": "aenjIZMt083F"
      },
      "outputs": [],
      "source": [
        "SolutionToTask1()  # show solution for task 1"
      ]
    },
    {
      "cell_type": "markdown",
      "metadata": {
        "id": "XVGeE2DT083F"
      },
      "source": [
        "We calculate $ \\ket{v} = Y \\ket{u} $.\n",
        "\n",
        "$ \\ket{v} = \\Y  \\myvector{ \\frac{1+i}{\\sqrt{3}} \\\\ -\\frac{1}{\\sqrt{3}} } = \\myvector{ \\frac{i}{\\sqrt{3}} \\\\ \\frac{i-1}{\\sqrt{3}} } $.\n",
        "\n",
        "We check $ \\norm{v}^2 = \\braket{v}{v} = \\myvector{ \\frac{-i}{\\sqrt{3}} ~~~ \\frac{-i-1}{\\sqrt{3}} } \\myvector{ \\frac{i}{\\sqrt{3}} \\\\ \\frac{i-1}{\\sqrt{3}} } = \\frac{-i^2}{3} + \\frac{1-i^2}{3} = \\frac{-(-1)+1-(-1)}{3} = 1 $."
      ]
    },
    {
      "cell_type": "markdown",
      "metadata": {
        "id": "3CNCIimD083F"
      },
      "source": [
        "### A unitary operator\n",
        "\n",
        "Here is an ordinary single-qubit unitary operator:\n",
        "\n",
        "$\n",
        "M = \\mymatrix{cc}{ \\frac{1+i}{2} & \\frac{1-i}{2} \\\\ \\frac{1-i}{2} & \\frac{1+i}{2} }.\n",
        "$"
      ]
    },
    {
      "cell_type": "markdown",
      "metadata": {
        "id": "hzAry9Xq083F"
      },
      "source": [
        "<h3> Task 2</h3>\n",
        "\n",
        "Randomly create a 2-dimensional quantum state, where both amplitudes are complex number.\n",
        "\n",
        "_You may use your solution for <a href=\"C02_Quantum_States_With_Complex_Numbers.ipynb#task3\" target=\"_blank\">Task 3 on the notebook `Quantum states`</a>._\n",
        "\n",
        "Apply $ M $ to the randomly created state, and then verify the result to be a quantum state by checking its length.\n",
        "\n",
        "<b>Repeat several times:</b>\n",
        "<ul>\n",
        "    <li> Randomly pick a quantum state. </li>\n",
        "    <li> Apply the unitary operator $ M $ to this quantum state. </li>\n",
        "    <li> Check whether the length of the result vector is 1. </li>"
      ]
    },
    {
      "cell_type": "code",
      "execution_count": 2,
      "metadata": {
        "id": "ierRAqDa083F"
      },
      "outputs": [],
      "source": [
        "random_complex_quantum_state_file = path_files+\"random_complex_quantum_state.py\"\n",
        "%run $random_complex_quantum_state_file\n",
        "#Run this cell to load the function random_complex_quantum_state()"
      ]
    },
    {
      "cell_type": "code",
      "execution_count": 3,
      "metadata": {
        "id": "k__BpKoj083F",
        "outputId": "87b4c65c-3f29-40a5-dfc1-a65b57f813b9",
        "colab": {
          "base_uri": "https://localhost:8080/"
        }
      },
      "outputs": [
        {
          "output_type": "stream",
          "name": "stdout",
          "text": [
            "[(-0.27424549157829897-0.7459477370929732j), (-0.06581891797879176-0.6033400814722578j)]\n",
            "summation of entry squares is 1.0\n",
            "Is it valid? True\n",
            "[(-0.6468040892113299-0.4717865121306171j), (0.18262703695378726+0.5707094904805853j)]\n",
            "summation of entry squares is 1.0000000000000002\n",
            "Is it valid? True\n",
            "[(-0.5547176130642125+0.25358519454364j), (0.6339629863591-0.475472239769325j)]\n",
            "summation of entry squares is 1.0\n",
            "Is it valid? True\n",
            "[(0.6268457925933282-0.7487324744864754j), (0.15671144814833204-0.14800525658453584j)]\n",
            "summation of entry squares is 0.9999999999999999\n",
            "Is it valid? True\n",
            "[(0.7114478112971998-0.5600759365531147j), (0.02270578121161276+0.4238412492834382j)]\n",
            "summation of entry squares is 0.9999999999999999\n",
            "Is it valid? True\n",
            "[(0.44989408172866974-0.7656092268014204j), (-0.3551795382068445+0.2920365091922944j)]\n",
            "summation of entry squares is 1.0\n",
            "Is it valid? True\n",
            "[(0.35008783582195546-0.4942416505721724j), (0.14415381475021696-0.7825492800726064j)]\n",
            "summation of entry squares is 1.0000000000000004\n",
            "Is it valid? True\n",
            "[(-0.6350871719595745-0.09664370008080482j), (0.545346593313113+0.5384434718787697j)]\n",
            "summation of entry squares is 1.0\n",
            "Is it valid? True\n",
            "[(-0.6350826417692462-0.5645179037948855j), (-0.15877066044231156-0.5027737580673199j)]\n",
            "summation of entry squares is 1.0000000000000002\n",
            "Is it valid? True\n",
            "[(-0.7062021183741694+0.2860565542781445j), (0.2860565542781445-0.5810523758774812j)]\n",
            "summation of entry squares is 1.0\n",
            "Is it valid? True\n"
          ]
        }
      ],
      "source": [
        "is_quantum_state_file = path_files+\"is_quantum_state.py\"\n",
        "%run $is_quantum_state_file\n",
        "#Run this cell to load the function is_quantum_state()"
      ]
    },
    {
      "cell_type": "code",
      "execution_count": 6,
      "metadata": {
        "id": "8hdl0fQp083F",
        "outputId": "ac1e4751-92c8-4deb-b042-6fc8a9269bdf",
        "colab": {
          "base_uri": "https://localhost:8080/"
        }
      },
      "outputs": [
        {
          "output_type": "stream",
          "name": "stdout",
          "text": [
            "summation of entry squares is 0.9999999999999999\n",
            "Is [(-0.38442773981027867+0.6012844135494102j), (-0.6998556288853791-0.029571364600790667j)] a quantum state? True\n",
            "summation of entry squares is 0.9999999999999999\n",
            "Is Mv a quantum state? True\n"
          ]
        }
      ],
      "source": [
        "#\n",
        "# your code is here\n",
        "#\n",
        "import numpy as np\n",
        "\n",
        "def matrix_multiplication(M, v):\n",
        "  np_M = np.array(M)\n",
        "  np_v = np.array(v)\n",
        "  return np_M.dot(np_v)\n",
        "\n",
        "M = [[(1+1j)/2, (1-1j)/2], [(1-1j)/2, (1+1j)/2]]\n",
        "\n",
        "v = random_complex_quantum_state()\n",
        "print(f\"Is {v} a quantum state? {is_quantum_state(v)}\")\n",
        "Mv = matrix_multiplication(M, v)\n",
        "print(f\"Is Mv a quantum state? {is_quantum_state(Mv)}\")"
      ]
    },
    {
      "cell_type": "markdown",
      "metadata": {
        "id": "iXeTzreI083F"
      },
      "source": [
        "To check out our solution, run the next cell:"
      ]
    },
    {
      "cell_type": "code",
      "execution_count": 7,
      "metadata": {
        "id": "9DmsUxnd083F",
        "outputId": "a5ed108b-33c7-4fd8-c4ae-621b32702454",
        "colab": {
          "base_uri": "https://localhost:8080/",
          "height": 37
        }
      },
      "outputs": [
        {
          "output_type": "display_data",
          "data": {
            "text/plain": [
              "<IPython.core.display.Javascript object>"
            ],
            "application/javascript": [
              "window.open(\"https://colab.research.google.com/drive/1jynmgQ7ejXKuIaunzriQgqH0UJ3edZXZ?usp=sharing#scrollTo=g2n_RuHTtOcI\");"
            ]
          },
          "metadata": {}
        }
      ],
      "source": [
        "SolutionToTask2()  # show solution for task 2"
      ]
    },
    {
      "cell_type": "markdown",
      "metadata": {
        "id": "qAjK2S82083F"
      },
      "source": [
        "<h3> Task 3</h3>\n",
        "\n",
        "Repeat Task 2, but with Hadamard operator."
      ]
    },
    {
      "cell_type": "code",
      "execution_count": 8,
      "metadata": {
        "id": "8KkhYx48083F",
        "outputId": "dc07b046-2ed6-42f9-c38f-720fc531ff35",
        "colab": {
          "base_uri": "https://localhost:8080/"
        }
      },
      "outputs": [
        {
          "output_type": "stream",
          "name": "stdout",
          "text": [
            "summation of entry squares is 1.0000000000000002\n",
            "Is [(-0.8254801035946963+0.19347189928000694j), (-0.399841925178681-0.3482494187040125j)] a quantum state? True\n",
            "summation of entry squares is 1.0\n",
            "Is Mv a quantum state? True\n"
          ]
        }
      ],
      "source": [
        "#\n",
        "# your code is here\n",
        "#\n",
        "H = [[1/np.sqrt(2), 1/np.sqrt(2)], [1/np.sqrt(2), -1/np.sqrt(2)]]\n",
        "\n",
        "v = random_complex_quantum_state()\n",
        "print(f\"Is {v} a quantum state? {is_quantum_state(v)}\")\n",
        "Hv = matrix_multiplication(H, v)\n",
        "print(f\"Is Mv a quantum state? {is_quantum_state(Hv)}\")"
      ]
    },
    {
      "cell_type": "markdown",
      "metadata": {
        "id": "izz-C-xL083F"
      },
      "source": [
        "To check out our solution, run the next cell:"
      ]
    },
    {
      "cell_type": "code",
      "execution_count": null,
      "metadata": {
        "id": "8jtwy7GP083F"
      },
      "outputs": [],
      "source": [
        "SolutionToTask3()  # show solution for task 3"
      ]
    },
    {
      "cell_type": "markdown",
      "metadata": {
        "id": "qBwEMVrZ083G"
      },
      "source": [
        "<h3> Task 4</h3>\n",
        "\n",
        "Repeat Task 2 with the following two basic single-qubit unitary operators.\n",
        "\n",
        "$\n",
        "S = \\S ~~ \\mbox{ and } ~~ T = \\T.\n",
        "$"
      ]
    },
    {
      "cell_type": "code",
      "execution_count": 9,
      "metadata": {
        "id": "RU-qXCKF083G",
        "outputId": "faefa0ee-6d9e-4dc8-8bbb-ed237246b3fc",
        "colab": {
          "base_uri": "https://localhost:8080/"
        }
      },
      "outputs": [
        {
          "output_type": "stream",
          "name": "stdout",
          "text": [
            "summation of entry squares is 0.9999999999999999\n",
            "Is [(-0.39173552098305714-0.09110128394954817j), (-0.7834710419661143+0.4737266765376505j)] a quantum state? True\n",
            "summation of entry squares is 0.9999999999999999\n",
            "Is Mv a quantum state? True\n"
          ]
        }
      ],
      "source": [
        "#\n",
        "# your code is here\n",
        "#\n",
        "S = [[1, 0], [0,1j]]\n",
        "\n",
        "v = random_complex_quantum_state()\n",
        "print(f\"Is {v} a quantum state? {is_quantum_state(v)}\")\n",
        "Sv = matrix_multiplication(S, v)\n",
        "print(f\"Is Mv a quantum state? {is_quantum_state(Sv)}\")"
      ]
    },
    {
      "cell_type": "code",
      "source": [
        "T = [[1, 0], [0, np.exp(1j * np.pi / 4)]]\n",
        "\n",
        "v = random_complex_quantum_state()\n",
        "print(f\"Is {v} a quantum state? {is_quantum_state(v)}\")\n",
        "Tv = matrix_multiplication(T, v)\n",
        "print(f\"Is Mv a quantum state? {is_quantum_state(Tv)}\")"
      ],
      "metadata": {
        "id": "TnHhC4jYWj3b",
        "outputId": "d6cffc42-5575-438b-d2f6-79449de8fc95",
        "colab": {
          "base_uri": "https://localhost:8080/"
        }
      },
      "execution_count": 10,
      "outputs": [
        {
          "output_type": "stream",
          "name": "stdout",
          "text": [
            "summation of entry squares is 0.9999999999999998\n",
            "Is [(0.31524416249564025+0.33776160267390026j), (-0.3039854424065102-0.8331452865956206j)] a quantum state? True\n",
            "summation of entry squares is 0.9999999999999998\n",
            "Is Mv a quantum state? True\n"
          ]
        }
      ]
    },
    {
      "cell_type": "markdown",
      "metadata": {
        "id": "aOnrULo-083G"
      },
      "source": [
        "To check out our solution, run the next cell:"
      ]
    },
    {
      "cell_type": "code",
      "execution_count": null,
      "metadata": {
        "id": "R0xhk7Im083G"
      },
      "outputs": [],
      "source": [
        "SolutionToTask4()  # show solution for task 4"
      ]
    }
  ],
  "metadata": {
    "kernelspec": {
      "display_name": "Python 3 (ipykernel)",
      "language": "python",
      "name": "python3"
    },
    "language_info": {
      "codemirror_mode": {
        "name": "ipython",
        "version": 3
      },
      "file_extension": ".py",
      "mimetype": "text/x-python",
      "name": "python",
      "nbconvert_exporter": "python",
      "pygments_lexer": "ipython3",
      "version": "3.11.4"
    },
    "colab": {
      "provenance": [],
      "collapsed_sections": [
        "xAKzy5NC083C"
      ],
      "include_colab_link": true
    }
  },
  "nbformat": 4,
  "nbformat_minor": 0
}