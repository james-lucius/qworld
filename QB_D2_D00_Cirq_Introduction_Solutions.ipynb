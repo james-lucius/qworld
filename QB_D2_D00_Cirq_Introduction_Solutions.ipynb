{
  "cells": [
    {
      "cell_type": "markdown",
      "metadata": {
        "id": "view-in-github",
        "colab_type": "text"
      },
      "source": [
        "<a href=\"https://colab.research.google.com/github/james-lucius/qworld/blob/main/QB_D2_D00_Cirq_Introduction_Solutions.ipynb\" target=\"_parent\"><img src=\"https://colab.research.google.com/assets/colab-badge.svg\" alt=\"Open In Colab\"/></a>"
      ]
    },
    {
      "cell_type": "markdown",
      "id": "84e7b85a",
      "metadata": {
        "id": "84e7b85a"
      },
      "source": [
        "<a href=\"https://qworld.net\" target=\"_blank\" align=\"left\"><img src=\"https://gitlab.com/qworld/qeducation/qbook101/raw/main/qworld/images/header.jpg\"  align=\"left\"></a>\n",
        "$ \\newcommand{\\bra}[1]{\\langle #1|} $\n",
        "$ \\newcommand{\\ket}[1]{|#1\\rangle} $\n",
        "$ \\newcommand{\\braket}[2]{\\langle #1|#2\\rangle} $\n",
        "$ \\newcommand{\\dot}[2]{ #1 \\cdot #2} $\n",
        "$ \\newcommand{\\biginner}[2]{\\left\\langle #1,#2\\right\\rangle} $\n",
        "$ \\newcommand{\\mymatrix}[2]{\\left( \\begin{array}{#1} #2\\end{array} \\right)} $\n",
        "$ \\newcommand{\\myvector}[1]{\\mymatrix{c}{#1}} $\n",
        "$ \\newcommand{\\myrvector}[1]{\\mymatrix{r}{#1}} $\n",
        "$ \\newcommand{\\mypar}[1]{\\left( #1 \\right)} $\n",
        "$ \\newcommand{\\mybigpar}[1]{ \\Big( #1 \\Big)} $\n",
        "$ \\newcommand{\\sqrttwo}{\\frac{1}{\\sqrt{2}}} $\n",
        "$ \\newcommand{\\dsqrttwo}{\\dfrac{1}{\\sqrt{2}}} $\n",
        "$ \\newcommand{\\onehalf}{\\frac{1}{2}} $\n",
        "$ \\newcommand{\\donehalf}{\\dfrac{1}{2}} $\n",
        "$ \\newcommand{\\hadamard}{ \\mymatrix{rr}{ \\sqrttwo & \\sqrttwo \\\\ \\sqrttwo & -\\sqrttwo }} $\n",
        "$ \\newcommand{\\vzero}{\\myvector{1\\\\0}} $\n",
        "$ \\newcommand{\\vone}{\\myvector{0\\\\1}} $\n",
        "$ \\newcommand{\\stateplus}{\\myvector{ \\sqrttwo \\\\  \\sqrttwo } } $\n",
        "$ \\newcommand{\\stateminus}{ \\myrvector{ \\sqrttwo \\\\ -\\sqrttwo } } $\n",
        "$ \\newcommand{\\myarray}[2]{ \\begin{array}{#1}#2\\end{array}} $\n",
        "$ \\newcommand{\\X}{ \\mymatrix{cc}{0 & 1 \\\\ 1 & 0}  } $\n",
        "$ \\newcommand{\\Z}{ \\mymatrix{rr}{1 & 0 \\\\ 0 & -1}  } $\n",
        "$ \\newcommand{\\Htwo}{ \\mymatrix{rrrr}{ \\frac{1}{2} & \\frac{1}{2} & \\frac{1}{2} & \\frac{1}{2} \\\\ \\frac{1}{2} & -\\frac{1}{2} & \\frac{1}{2} & -\\frac{1}{2} \\\\ \\frac{1}{2} & \\frac{1}{2} & -\\frac{1}{2} & -\\frac{1}{2} \\\\ \\frac{1}{2} & -\\frac{1}{2} & -\\frac{1}{2} & \\frac{1}{2} } } $\n",
        "$ \\newcommand{\\CNOT}{ \\mymatrix{cccc}{1 & 0 & 0 & 0 \\\\ 0 & 1 & 0 & 0 \\\\ 0 & 0 & 0 & 1 \\\\ 0 & 0 & 1 & 0} } $\n",
        "$ \\newcommand{\\norm}[1]{ \\left\\lVert #1 \\right\\rVert } $\n",
        "$ \\newcommand{\\pstate}[1]{ \\lceil \\mspace{-1mu} #1 \\mspace{-1.5mu} \\rfloor } $"
      ]
    },
    {
      "cell_type": "markdown",
      "id": "a2861e3e-c2fe-4c28-b0ee-7fe597057c65",
      "metadata": {
        "id": "a2861e3e-c2fe-4c28-b0ee-7fe597057c65"
      },
      "source": [
        "_prepared by Özlem Salehi_"
      ]
    },
    {
      "cell_type": "markdown",
      "id": "dietary-chocolate",
      "metadata": {
        "id": "dietary-chocolate"
      },
      "source": [
        "<font size=\"28px\" style=\"font-size:28px;\" align=\"left\"><b> <font color=\"blue\"> Solution for </font>Cirq Introduction </b></font>\n",
        "<br><br><br>"
      ]
    },
    {
      "cell_type": "markdown",
      "id": "96ad3dca-c004-457a-a053-ae8ab88a6e6f",
      "metadata": {
        "jp-MarkdownHeadingCollapsed": true,
        "id": "96ad3dca-c004-457a-a053-ae8ab88a6e6f"
      },
      "source": [
        "##### <font color=\"#08b806\">Please execute the following cell, it is necessary to distinguish between your local environment and Google Colab's"
      ]
    },
    {
      "cell_type": "code",
      "execution_count": 2,
      "id": "0eb68ddb-2e69-4731-b962-58f9a321f236",
      "metadata": {
        "id": "0eb68ddb-2e69-4731-b962-58f9a321f236",
        "outputId": "421e0760-f549-4f79-a937-b5b2cf4d95bb",
        "colab": {
          "base_uri": "https://localhost:8080/"
        }
      },
      "outputs": [
        {
          "output_type": "stream",
          "name": "stdout",
          "text": [
            "Requirement already satisfied: cirq in /usr/local/lib/python3.11/dist-packages (1.5.0)\n",
            "Requirement already satisfied: cirq-aqt==1.5.0 in /usr/local/lib/python3.11/dist-packages (from cirq) (1.5.0)\n",
            "Requirement already satisfied: cirq-core==1.5.0 in /usr/local/lib/python3.11/dist-packages (from cirq) (1.5.0)\n",
            "Requirement already satisfied: cirq-google==1.5.0 in /usr/local/lib/python3.11/dist-packages (from cirq) (1.5.0)\n",
            "Requirement already satisfied: cirq-ionq==1.5.0 in /usr/local/lib/python3.11/dist-packages (from cirq) (1.5.0)\n",
            "Requirement already satisfied: cirq-pasqal==1.5.0 in /usr/local/lib/python3.11/dist-packages (from cirq) (1.5.0)\n",
            "Requirement already satisfied: cirq-web==1.5.0 in /usr/local/lib/python3.11/dist-packages (from cirq) (1.5.0)\n",
            "Requirement already satisfied: requests~=2.32 in /usr/local/lib/python3.11/dist-packages (from cirq-aqt==1.5.0->cirq) (2.32.3)\n",
            "Requirement already satisfied: attrs>=21.3.0 in /usr/local/lib/python3.11/dist-packages (from cirq-core==1.5.0->cirq) (25.3.0)\n",
            "Requirement already satisfied: duet>=0.2.8 in /usr/local/lib/python3.11/dist-packages (from cirq-core==1.5.0->cirq) (0.2.9)\n",
            "Requirement already satisfied: matplotlib~=3.7 in /usr/local/lib/python3.11/dist-packages (from cirq-core==1.5.0->cirq) (3.10.0)\n",
            "Requirement already satisfied: networkx~=3.1 in /usr/local/lib/python3.11/dist-packages (from cirq-core==1.5.0->cirq) (3.5)\n",
            "Requirement already satisfied: numpy>=1.25 in /usr/local/lib/python3.11/dist-packages (from cirq-core==1.5.0->cirq) (2.0.2)\n",
            "Requirement already satisfied: pandas~=2.0 in /usr/local/lib/python3.11/dist-packages (from cirq-core==1.5.0->cirq) (2.2.2)\n",
            "Requirement already satisfied: sortedcontainers~=2.0 in /usr/local/lib/python3.11/dist-packages (from cirq-core==1.5.0->cirq) (2.4.0)\n",
            "Requirement already satisfied: scipy~=1.11 in /usr/local/lib/python3.11/dist-packages (from cirq-core==1.5.0->cirq) (1.15.3)\n",
            "Requirement already satisfied: sympy in /usr/local/lib/python3.11/dist-packages (from cirq-core==1.5.0->cirq) (1.13.1)\n",
            "Requirement already satisfied: typing_extensions>=4.2 in /usr/local/lib/python3.11/dist-packages (from cirq-core==1.5.0->cirq) (4.13.2)\n",
            "Requirement already satisfied: tqdm>=4.12 in /usr/local/lib/python3.11/dist-packages (from cirq-core==1.5.0->cirq) (4.67.1)\n",
            "Requirement already satisfied: google-api-core>=1.14.0 in /usr/local/lib/python3.11/dist-packages (from google-api-core[grpc]>=1.14.0->cirq-google==1.5.0->cirq) (2.24.2)\n",
            "Requirement already satisfied: proto-plus>=1.20.0 in /usr/local/lib/python3.11/dist-packages (from cirq-google==1.5.0->cirq) (1.26.1)\n",
            "Requirement already satisfied: protobuf<6.0,>=4.25 in /usr/local/lib/python3.11/dist-packages (from cirq-google==1.5.0->cirq) (5.29.5)\n",
            "Requirement already satisfied: typedunits in /usr/local/lib/python3.11/dist-packages (from cirq-google==1.5.0->cirq) (0.0.1.dev20250509200845)\n",
            "Requirement already satisfied: googleapis-common-protos<2.0.0,>=1.56.2 in /usr/local/lib/python3.11/dist-packages (from google-api-core>=1.14.0->google-api-core[grpc]>=1.14.0->cirq-google==1.5.0->cirq) (1.70.0)\n",
            "Requirement already satisfied: google-auth<3.0.0,>=2.14.1 in /usr/local/lib/python3.11/dist-packages (from google-api-core>=1.14.0->google-api-core[grpc]>=1.14.0->cirq-google==1.5.0->cirq) (2.38.0)\n",
            "Requirement already satisfied: grpcio<2.0dev,>=1.33.2 in /usr/local/lib/python3.11/dist-packages (from google-api-core[grpc]>=1.14.0->cirq-google==1.5.0->cirq) (1.71.0)\n",
            "Requirement already satisfied: grpcio-status<2.0.dev0,>=1.33.2 in /usr/local/lib/python3.11/dist-packages (from google-api-core[grpc]>=1.14.0->cirq-google==1.5.0->cirq) (1.71.0)\n",
            "Requirement already satisfied: contourpy>=1.0.1 in /usr/local/lib/python3.11/dist-packages (from matplotlib~=3.7->cirq-core==1.5.0->cirq) (1.3.2)\n",
            "Requirement already satisfied: cycler>=0.10 in /usr/local/lib/python3.11/dist-packages (from matplotlib~=3.7->cirq-core==1.5.0->cirq) (0.12.1)\n",
            "Requirement already satisfied: fonttools>=4.22.0 in /usr/local/lib/python3.11/dist-packages (from matplotlib~=3.7->cirq-core==1.5.0->cirq) (4.58.1)\n",
            "Requirement already satisfied: kiwisolver>=1.3.1 in /usr/local/lib/python3.11/dist-packages (from matplotlib~=3.7->cirq-core==1.5.0->cirq) (1.4.8)\n",
            "Requirement already satisfied: packaging>=20.0 in /usr/local/lib/python3.11/dist-packages (from matplotlib~=3.7->cirq-core==1.5.0->cirq) (24.2)\n",
            "Requirement already satisfied: pillow>=8 in /usr/local/lib/python3.11/dist-packages (from matplotlib~=3.7->cirq-core==1.5.0->cirq) (11.2.1)\n",
            "Requirement already satisfied: pyparsing>=2.3.1 in /usr/local/lib/python3.11/dist-packages (from matplotlib~=3.7->cirq-core==1.5.0->cirq) (3.2.3)\n",
            "Requirement already satisfied: python-dateutil>=2.7 in /usr/local/lib/python3.11/dist-packages (from matplotlib~=3.7->cirq-core==1.5.0->cirq) (2.9.0.post0)\n",
            "Requirement already satisfied: pytz>=2020.1 in /usr/local/lib/python3.11/dist-packages (from pandas~=2.0->cirq-core==1.5.0->cirq) (2025.2)\n",
            "Requirement already satisfied: tzdata>=2022.7 in /usr/local/lib/python3.11/dist-packages (from pandas~=2.0->cirq-core==1.5.0->cirq) (2025.2)\n",
            "Requirement already satisfied: charset-normalizer<4,>=2 in /usr/local/lib/python3.11/dist-packages (from requests~=2.32->cirq-aqt==1.5.0->cirq) (3.4.2)\n",
            "Requirement already satisfied: idna<4,>=2.5 in /usr/local/lib/python3.11/dist-packages (from requests~=2.32->cirq-aqt==1.5.0->cirq) (3.10)\n",
            "Requirement already satisfied: urllib3<3,>=1.21.1 in /usr/local/lib/python3.11/dist-packages (from requests~=2.32->cirq-aqt==1.5.0->cirq) (2.4.0)\n",
            "Requirement already satisfied: certifi>=2017.4.17 in /usr/local/lib/python3.11/dist-packages (from requests~=2.32->cirq-aqt==1.5.0->cirq) (2025.4.26)\n",
            "Requirement already satisfied: mpmath<1.4,>=1.1.0 in /usr/local/lib/python3.11/dist-packages (from sympy->cirq-core==1.5.0->cirq) (1.3.0)\n",
            "Requirement already satisfied: cython>=3.0.0 in /usr/local/lib/python3.11/dist-packages (from typedunits->cirq-google==1.5.0->cirq) (3.0.12)\n",
            "Requirement already satisfied: cachetools<6.0,>=2.0.0 in /usr/local/lib/python3.11/dist-packages (from google-auth<3.0.0,>=2.14.1->google-api-core>=1.14.0->google-api-core[grpc]>=1.14.0->cirq-google==1.5.0->cirq) (5.5.2)\n",
            "Requirement already satisfied: pyasn1-modules>=0.2.1 in /usr/local/lib/python3.11/dist-packages (from google-auth<3.0.0,>=2.14.1->google-api-core>=1.14.0->google-api-core[grpc]>=1.14.0->cirq-google==1.5.0->cirq) (0.4.2)\n",
            "Requirement already satisfied: rsa<5,>=3.1.4 in /usr/local/lib/python3.11/dist-packages (from google-auth<3.0.0,>=2.14.1->google-api-core>=1.14.0->google-api-core[grpc]>=1.14.0->cirq-google==1.5.0->cirq) (4.9.1)\n",
            "Requirement already satisfied: six>=1.5 in /usr/local/lib/python3.11/dist-packages (from python-dateutil>=2.7->matplotlib~=3.7->cirq-core==1.5.0->cirq) (1.17.0)\n",
            "Requirement already satisfied: pyasn1<0.7.0,>=0.6.1 in /usr/local/lib/python3.11/dist-packages (from pyasn1-modules>=0.2.1->google-auth<3.0.0,>=2.14.1->google-api-core>=1.14.0->google-api-core[grpc]>=1.14.0->cirq-google==1.5.0->cirq) (0.6.1)\n"
          ]
        }
      ],
      "source": [
        "import IPython\n",
        "\n",
        "def in_colab():\n",
        "    try:\n",
        "        import google.colab\n",
        "        return True\n",
        "    except:\n",
        "        return False\n",
        "\n",
        "if in_colab():\n",
        "    !pip install cirq"
      ]
    },
    {
      "cell_type": "markdown",
      "id": "matched-system",
      "metadata": {
        "id": "matched-system"
      },
      "source": [
        "<a name=\"task1\"></a>\n",
        "### Task 1\n",
        "    \n",
        "Create a quantum circuit with 10 qubits.\n",
        "\n",
        "1. Apply $H$ gate to qubit 0.\n",
        "2. Apply nine $CNOT$ gates where qubit $0$ is the control and qubit $i$ is the target for $i=1,\\dots,9$.\n",
        "\n",
        "Draw your circuit."
      ]
    },
    {
      "cell_type": "markdown",
      "id": "eastern-player",
      "metadata": {
        "id": "eastern-player"
      },
      "source": [
        "<h3> Solution </h3>"
      ]
    },
    {
      "cell_type": "code",
      "execution_count": 3,
      "id": "frank-landscape",
      "metadata": {
        "id": "frank-landscape",
        "outputId": "a0ad970f-1327-4ac1-a465-03a77e93cc35",
        "colab": {
          "base_uri": "https://localhost:8080/"
        }
      },
      "outputs": [
        {
          "output_type": "stream",
          "name": "stdout",
          "text": [
            "0: ───H───@───@───@───@───@───@───@───@───@───\n",
            "          │   │   │   │   │   │   │   │   │\n",
            "1: ───────X───┼───┼───┼───┼───┼───┼───┼───┼───\n",
            "              │   │   │   │   │   │   │   │\n",
            "2: ───────────X───┼───┼───┼───┼───┼───┼───┼───\n",
            "                  │   │   │   │   │   │   │\n",
            "3: ───────────────X───┼───┼───┼───┼───┼───┼───\n",
            "                      │   │   │   │   │   │\n",
            "4: ───────────────────X───┼───┼───┼───┼───┼───\n",
            "                          │   │   │   │   │\n",
            "5: ───────────────────────X───┼───┼───┼───┼───\n",
            "                              │   │   │   │\n",
            "6: ───────────────────────────X───┼───┼───┼───\n",
            "                                  │   │   │\n",
            "7: ───────────────────────────────X───┼───┼───\n",
            "                                      │   │\n",
            "8: ───────────────────────────────────X───┼───\n",
            "                                          │\n",
            "9: ───────────────────────────────────────X───\n"
          ]
        }
      ],
      "source": [
        "import cirq\n",
        "from cirq import H, CX\n",
        "\n",
        "# Create quantum and classical registers with 10 qubits\n",
        "qlist = cirq.LineQubit.range(10)\n",
        "\n",
        "# Create a new circuit\n",
        "circuit = cirq.Circuit()\n",
        "\n",
        "# Apply H gate\n",
        "circuit.append(H(qlist[0]))\n",
        "\n",
        "for i in range(1,10):\n",
        "    circuit.append(CX(qlist[0],qlist[i]))\n",
        "\n",
        "# Single line solution\n",
        "# circuit.append(CX(qlist[0],qlist[i]) for i in range(1,10))\n",
        "\n",
        "print(circuit)"
      ]
    },
    {
      "cell_type": "markdown",
      "id": "urban-hebrew",
      "metadata": {
        "id": "urban-hebrew"
      },
      "source": [
        "<a name=\"task2\"></a>\n",
        "### Task 2\n",
        "    \n",
        "Create a quantum circuit with 10 qubits.\n",
        "\n",
        "1. Apply $H$ gates to all qubits.\n",
        "2. Apply $X$ gate to qubit 0 controlled by qubits 1-9\n",
        "2. Apply $H$ gates to all qubits.\n",
        "\n",
        "Draw your circuit."
      ]
    },
    {
      "cell_type": "markdown",
      "id": "regulation-leader",
      "metadata": {
        "id": "regulation-leader"
      },
      "source": [
        "<h3> Solution </h3>"
      ]
    },
    {
      "cell_type": "code",
      "execution_count": 4,
      "id": "internal-disclaimer",
      "metadata": {
        "id": "internal-disclaimer",
        "outputId": "7e9649ef-4976-489a-d30a-8966dae71750",
        "colab": {
          "base_uri": "https://localhost:8080/"
        }
      },
      "outputs": [
        {
          "output_type": "stream",
          "name": "stdout",
          "text": [
            "0: ───H───X───H───\n",
            "          │\n",
            "1: ───H───@───H───\n",
            "          │\n",
            "2: ───H───@───H───\n",
            "          │\n",
            "3: ───H───@───H───\n",
            "          │\n",
            "4: ───H───@───H───\n",
            "          │\n",
            "5: ───H───@───H───\n",
            "          │\n",
            "6: ───H───@───H───\n",
            "          │\n",
            "7: ───H───@───H───\n",
            "          │\n",
            "8: ───H───@───H───\n",
            "          │\n",
            "9: ───H───@───H───\n"
          ]
        }
      ],
      "source": [
        "import cirq\n",
        "from cirq import H, X\n",
        "\n",
        "# Create quantum and classical registers with 10 qubits\n",
        "qlist = cirq.LineQubit.range(10)\n",
        "\n",
        "# Create a new circuit\n",
        "circuit = cirq.Circuit()\n",
        "\n",
        "# Apply H to all qubits\n",
        "circuit.append(H.on_each(*qlist))\n",
        "\n",
        "# Qubits 1-9 are the control and qubit 0 is the target\n",
        "# Using controlled by is more convenient in this case\n",
        "circuit.append(X(qlist[0]).controlled_by(*qlist[1:10]))\n",
        "\n",
        "# Apply H to all qubits\n",
        "circuit.append(H.on_each(*qlist))\n",
        "\n",
        "# Draw circuit\n",
        "print(circuit)"
      ]
    },
    {
      "cell_type": "markdown",
      "id": "proved-wednesday",
      "metadata": {
        "id": "proved-wednesday"
      },
      "source": [
        "<a name=\"task3\"></a>\n",
        "### Task 3\n",
        "    \n",
        "Implement the circuit in Task 1. Measure all the qubits and simulate your circuit for 1000 times."
      ]
    },
    {
      "cell_type": "markdown",
      "id": "engaged-coordination",
      "metadata": {
        "id": "engaged-coordination"
      },
      "source": [
        "<h3> Solution </h3>"
      ]
    },
    {
      "cell_type": "code",
      "execution_count": 5,
      "id": "assured-atlantic",
      "metadata": {
        "id": "assured-atlantic",
        "outputId": "2741981b-62ad-46ae-b097-49a883804d64",
        "colab": {
          "base_uri": "https://localhost:8080/"
        }
      },
      "outputs": [
        {
          "output_type": "stream",
          "name": "stdout",
          "text": [
            "Counter({'1111111111': 510, '0000000000': 490})\n"
          ]
        }
      ],
      "source": [
        "import cirq\n",
        "from cirq import H, CX, measure\n",
        "\n",
        "# Create quantum and classical registers with 10 qubits\n",
        "qlist = cirq.LineQubit.range(10)\n",
        "\n",
        "# Create a new circuit\n",
        "circuit = cirq.Circuit()\n",
        "\n",
        "# Apply H gate\n",
        "circuit.append(H(qlist[0]))\n",
        "\n",
        "# Apply CNOT\n",
        "circuit.append(CX(qlist[0],qlist[i]) for i in range(1,10))\n",
        "\n",
        "# Measure both qubits, result is the label\n",
        "circuit.append(measure(*qlist, key='result'))\n",
        "\n",
        "# This is the local simulator\n",
        "s = cirq.Simulator()\n",
        "\n",
        "# circuit is the circuit to be simulated\n",
        "# repetition is the how many times we want to run the circuit\n",
        "samples=s.run(circuit, repetitions=1000)\n",
        "\n",
        "def bitstring(bits):\n",
        "    return \"\".join(str(int(b)) for b in bits)\n",
        "\n",
        "counts = samples.histogram(key=\"result\",fold_func=bitstring)\n",
        "print(counts)"
      ]
    },
    {
      "cell_type": "markdown",
      "id": "moved-bracket",
      "metadata": {
        "id": "moved-bracket"
      },
      "source": [
        "<a name=\"task4\"></a>\n",
        "### Task 4\n",
        "    \n",
        "Create a quantum circuit with 4 qubits. Apply Hadamard gate to each qubit and $CZ$ gate to qubits 0 and 1. Use the simulator without measuring the circuit. Check the entries with negative sign."
      ]
    },
    {
      "cell_type": "markdown",
      "id": "composite-embassy",
      "metadata": {
        "id": "composite-embassy"
      },
      "source": [
        "<h3> Solution </h3>"
      ]
    },
    {
      "cell_type": "code",
      "execution_count": 6,
      "id": "auburn-health",
      "metadata": {
        "id": "auburn-health",
        "outputId": "7f113117-75fb-43fa-f586-7d69d3b3f45d",
        "colab": {
          "base_uri": "https://localhost:8080/"
        }
      },
      "outputs": [
        {
          "output_type": "stream",
          "name": "stdout",
          "text": [
            "measurements: (no measurements)\n",
            "\n",
            "qubits: (cirq.LineQubit(0), cirq.LineQubit(1))\n",
            "output vector: 0.5|00⟩ + 0.5|01⟩ + 0.5|10⟩ - 0.5|11⟩\n",
            "\n",
            "qubits: (cirq.LineQubit(2),)\n",
            "output vector: 0.707|0⟩ + 0.707|1⟩\n",
            "\n",
            "qubits: (cirq.LineQubit(3),)\n",
            "output vector: 0.707|0⟩ + 0.707|1⟩\n",
            "\n",
            "phase:\n",
            "output vector: |⟩\n"
          ]
        }
      ],
      "source": [
        "import cirq\n",
        "from cirq import H, CZ\n",
        "\n",
        "# Create 4 quantum bits\n",
        "qlist = cirq.LineQubit.range(4)\n",
        "\n",
        "# Create a new circuit\n",
        "circuit = cirq.Circuit()\n",
        "\n",
        "# Apply H gate\n",
        "circuit.append(H.on_each(*qlist))\n",
        "\n",
        "# Apply CZ\n",
        "circuit.append(CZ(qlist[0],qlist[1]))\n",
        "\n",
        "s = cirq.Simulator()\n",
        "results=s.simulate(circuit)\n",
        "print(results)"
      ]
    },
    {
      "cell_type": "markdown",
      "id": "sonic-enzyme",
      "metadata": {
        "id": "sonic-enzyme"
      },
      "source": [
        "The states $\\ket{1100}$, $\\ket{1101}$, $\\ket{1110}$, $\\ket{1111}$ have the negative sign."
      ]
    }
  ],
  "metadata": {
    "kernelspec": {
      "display_name": "Python 3 (ipykernel)",
      "language": "python",
      "name": "python3"
    },
    "language_info": {
      "codemirror_mode": {
        "name": "ipython",
        "version": 3
      },
      "file_extension": ".py",
      "mimetype": "text/x-python",
      "name": "python",
      "nbconvert_exporter": "python",
      "pygments_lexer": "ipython3",
      "version": "3.11.4"
    },
    "colab": {
      "provenance": [],
      "collapsed_sections": [
        "96ad3dca-c004-457a-a053-ae8ab88a6e6f"
      ],
      "include_colab_link": true
    }
  },
  "nbformat": 4,
  "nbformat_minor": 5
}