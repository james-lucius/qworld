{
  "cells": [
    {
      "cell_type": "markdown",
      "metadata": {
        "id": "view-in-github",
        "colab_type": "text"
      },
      "source": [
        "<a href=\"https://colab.research.google.com/github/james-lucius/qworld/blob/main/QB44_B04_Grover_Algorithm_For_Max_Cut_Problem.ipynb\" target=\"_parent\"><img src=\"https://colab.research.google.com/assets/colab-badge.svg\" alt=\"Open In Colab\"/></a>"
      ]
    },
    {
      "cell_type": "markdown",
      "metadata": {
        "id": "mm-5NJE10zzu"
      },
      "source": [
        "<a href=\"https://qworld.net\" target=\"_blank\" align=\"left\"><img src=\"https://gitlab.com/qworld/qeducation/qbook101/raw/main/qworld/images/header.jpg\" align=\"left\"></a>\n",
        "$ \\newcommand{\\bra}[1]{\\langle #1|} $\n",
        "$ \\newcommand{\\ket}[1]{|#1\\rangle} $\n",
        "$ \\newcommand{\\braket}[2]{\\langle #1|#2\\rangle} $\n",
        "$ \\newcommand{\\dot}[2]{ #1 \\cdot #2} $\n",
        "$ \\newcommand{\\biginner}[2]{\\left\\langle #1,#2\\right\\rangle} $\n",
        "$ \\newcommand{\\mymatrix}[2]{\\left( \\begin{array}{#1} #2\\end{array} \\right)} $\n",
        "$ \\newcommand{\\myvector}[1]{\\mymatrix{c}{#1}} $\n",
        "$ \\newcommand{\\myrvector}[1]{\\mymatrix{r}{#1}} $\n",
        "$ \\newcommand{\\mypar}[1]{\\left( #1 \\right)} $\n",
        "$ \\newcommand{\\mybigpar}[1]{ \\Big( #1 \\Big)} $\n",
        "$ \\newcommand{\\sqrttwo}{\\frac{1}{\\sqrt{2}}} $\n",
        "$ \\newcommand{\\dsqrttwo}{\\dfrac{1}{\\sqrt{2}}} $\n",
        "$ \\newcommand{\\onehalf}{\\frac{1}{2}} $\n",
        "$ \\newcommand{\\donehalf}{\\dfrac{1}{2}} $\n",
        "$ \\newcommand{\\hadamard}{ \\mymatrix{rr}{ \\sqrttwo & \\sqrttwo \\\\ \\sqrttwo & -\\sqrttwo }} $\n",
        "$ \\newcommand{\\vzero}{\\myvector{1\\\\0}} $\n",
        "$ \\newcommand{\\vone}{\\myvector{0\\\\1}} $\n",
        "$ \\newcommand{\\stateplus}{\\myvector{ \\sqrttwo \\\\  \\sqrttwo } } $\n",
        "$ \\newcommand{\\stateminus}{ \\myrvector{ \\sqrttwo \\\\ -\\sqrttwo } } $\n",
        "$ \\newcommand{\\myarray}[2]{ \\begin{array}{#1}#2\\end{array}} $\n",
        "$ \\newcommand{\\X}{ \\mymatrix{cc}{0 & 1 \\\\ 1 & 0}  } $\n",
        "$ \\newcommand{\\I}{ \\mymatrix{rr}{1 & 0 \\\\ 0 & 1}  } $\n",
        "$ \\newcommand{\\Z}{ \\mymatrix{rr}{1 & 0 \\\\ 0 & -1}  } $\n",
        "$ \\newcommand{\\Htwo}{ \\mymatrix{rrrr}{ \\frac{1}{2} & \\frac{1}{2} & \\frac{1}{2} & \\frac{1}{2} \\\\ \\frac{1}{2} & -\\frac{1}{2} & \\frac{1}{2} & -\\frac{1}{2} \\\\ \\frac{1}{2} & \\frac{1}{2} & -\\frac{1}{2} & -\\frac{1}{2} \\\\ \\frac{1}{2} & -\\frac{1}{2} & -\\frac{1}{2} & \\frac{1}{2} } } $\n",
        "$ \\newcommand{\\CNOT}{ \\mymatrix{cccc}{1 & 0 & 0 & 0 \\\\ 0 & 1 & 0 & 0 \\\\ 0 & 0 & 0 & 1 \\\\ 0 & 0 & 1 & 0} } $\n",
        "$ \\newcommand{\\norm}[1]{ \\left\\lVert #1 \\right\\rVert } $\n",
        "$ \\newcommand{\\pstate}[1]{ \\lceil \\mspace{-1mu} #1 \\mspace{-1.5mu} \\rfloor } $\n",
        "$ \\newcommand{\\greenbit}[1] {\\mathbf{{\\color{green}#1}}} $\n",
        "$ \\newcommand{\\bluebit}[1] {\\mathbf{{\\color{blue}#1}}} $\n",
        "$ \\newcommand{\\redbit}[1] {\\mathbf{{\\color{red}#1}}} $\n",
        "$ \\newcommand{\\brownbit}[1] {\\mathbf{{\\color{brown}#1}}} $\n",
        "$ \\newcommand{\\blackbit}[1] {\\mathbf{{\\color{black}#1}}} $"
      ]
    },
    {
      "cell_type": "markdown",
      "metadata": {
        "id": "Rvd01ryW0zzw"
      },
      "source": [
        "_prepared by Adam Glos and Özlem Salehi_"
      ]
    },
    {
      "cell_type": "markdown",
      "metadata": {
        "id": "Y7Y-jlk50zzw"
      },
      "source": [
        "<font size=\"28px\" style=\"font-size:28px;\" align=\"left\"><b> Grover Algorithm for Max-Cut Problem </b></font>\n",
        "<br>\n",
        "<br><br>"
      ]
    },
    {
      "cell_type": "markdown",
      "metadata": {
        "jp-MarkdownHeadingCollapsed": true,
        "id": "SVglEFhW0zzw"
      },
      "source": [
        "##### <font color=\"#08b806\">Please execute the following cell, it is necessary to distinguish between your local environment and Google Colab's"
      ]
    },
    {
      "cell_type": "code",
      "execution_count": 1,
      "metadata": {
        "id": "nI4vKwm00zzw",
        "outputId": "acb5f1c1-449b-4bba-e7ab-d9588d448c5b",
        "colab": {
          "base_uri": "https://localhost:8080/"
        }
      },
      "outputs": [
        {
          "output_type": "stream",
          "name": "stdout",
          "text": [
            "Collecting cirq\n",
            "  Downloading cirq-1.5.0-py3-none-any.whl.metadata (15 kB)\n",
            "Collecting cirq-aqt==1.5.0 (from cirq)\n",
            "  Downloading cirq_aqt-1.5.0-py3-none-any.whl.metadata (4.8 kB)\n",
            "Collecting cirq-core==1.5.0 (from cirq)\n",
            "  Downloading cirq_core-1.5.0-py3-none-any.whl.metadata (4.9 kB)\n",
            "Collecting cirq-google==1.5.0 (from cirq)\n",
            "  Downloading cirq_google-1.5.0-py3-none-any.whl.metadata (4.9 kB)\n",
            "Collecting cirq-ionq==1.5.0 (from cirq)\n",
            "  Downloading cirq_ionq-1.5.0-py3-none-any.whl.metadata (4.7 kB)\n",
            "Collecting cirq-pasqal==1.5.0 (from cirq)\n",
            "  Downloading cirq_pasqal-1.5.0-py3-none-any.whl.metadata (4.8 kB)\n",
            "Collecting cirq-web==1.5.0 (from cirq)\n",
            "  Downloading cirq_web-1.5.0-py3-none-any.whl.metadata (5.5 kB)\n",
            "Requirement already satisfied: requests~=2.32 in /usr/local/lib/python3.11/dist-packages (from cirq-aqt==1.5.0->cirq) (2.32.3)\n",
            "Requirement already satisfied: attrs>=21.3.0 in /usr/local/lib/python3.11/dist-packages (from cirq-core==1.5.0->cirq) (25.3.0)\n",
            "Collecting duet>=0.2.8 (from cirq-core==1.5.0->cirq)\n",
            "  Downloading duet-0.2.9-py3-none-any.whl.metadata (2.3 kB)\n",
            "Requirement already satisfied: matplotlib~=3.7 in /usr/local/lib/python3.11/dist-packages (from cirq-core==1.5.0->cirq) (3.10.0)\n",
            "Requirement already satisfied: networkx~=3.1 in /usr/local/lib/python3.11/dist-packages (from cirq-core==1.5.0->cirq) (3.5)\n",
            "Requirement already satisfied: numpy>=1.25 in /usr/local/lib/python3.11/dist-packages (from cirq-core==1.5.0->cirq) (2.0.2)\n",
            "Requirement already satisfied: pandas~=2.0 in /usr/local/lib/python3.11/dist-packages (from cirq-core==1.5.0->cirq) (2.2.2)\n",
            "Requirement already satisfied: sortedcontainers~=2.0 in /usr/local/lib/python3.11/dist-packages (from cirq-core==1.5.0->cirq) (2.4.0)\n",
            "Requirement already satisfied: scipy~=1.11 in /usr/local/lib/python3.11/dist-packages (from cirq-core==1.5.0->cirq) (1.15.3)\n",
            "Requirement already satisfied: sympy in /usr/local/lib/python3.11/dist-packages (from cirq-core==1.5.0->cirq) (1.13.1)\n",
            "Requirement already satisfied: typing_extensions>=4.2 in /usr/local/lib/python3.11/dist-packages (from cirq-core==1.5.0->cirq) (4.14.1)\n",
            "Requirement already satisfied: tqdm>=4.12 in /usr/local/lib/python3.11/dist-packages (from cirq-core==1.5.0->cirq) (4.67.1)\n",
            "Requirement already satisfied: google-api-core>=1.14.0 in /usr/local/lib/python3.11/dist-packages (from google-api-core[grpc]>=1.14.0->cirq-google==1.5.0->cirq) (2.25.1)\n",
            "Requirement already satisfied: proto-plus>=1.20.0 in /usr/local/lib/python3.11/dist-packages (from cirq-google==1.5.0->cirq) (1.26.1)\n",
            "Requirement already satisfied: protobuf<6.0,>=4.25 in /usr/local/lib/python3.11/dist-packages (from cirq-google==1.5.0->cirq) (5.29.5)\n",
            "Collecting typedunits (from cirq-google==1.5.0->cirq)\n",
            "  Downloading typedunits-0.0.1.dev20250509200845-cp311-cp311-manylinux_2_17_x86_64.manylinux2014_x86_64.whl.metadata (4.8 kB)\n",
            "Requirement already satisfied: googleapis-common-protos<2.0.0,>=1.56.2 in /usr/local/lib/python3.11/dist-packages (from google-api-core>=1.14.0->google-api-core[grpc]>=1.14.0->cirq-google==1.5.0->cirq) (1.70.0)\n",
            "Requirement already satisfied: google-auth<3.0.0,>=2.14.1 in /usr/local/lib/python3.11/dist-packages (from google-api-core>=1.14.0->google-api-core[grpc]>=1.14.0->cirq-google==1.5.0->cirq) (2.38.0)\n",
            "Requirement already satisfied: grpcio<2.0.0,>=1.33.2 in /usr/local/lib/python3.11/dist-packages (from google-api-core[grpc]>=1.14.0->cirq-google==1.5.0->cirq) (1.73.1)\n",
            "Requirement already satisfied: grpcio-status<2.0.0,>=1.33.2 in /usr/local/lib/python3.11/dist-packages (from google-api-core[grpc]>=1.14.0->cirq-google==1.5.0->cirq) (1.71.2)\n",
            "Requirement already satisfied: contourpy>=1.0.1 in /usr/local/lib/python3.11/dist-packages (from matplotlib~=3.7->cirq-core==1.5.0->cirq) (1.3.2)\n",
            "Requirement already satisfied: cycler>=0.10 in /usr/local/lib/python3.11/dist-packages (from matplotlib~=3.7->cirq-core==1.5.0->cirq) (0.12.1)\n",
            "Requirement already satisfied: fonttools>=4.22.0 in /usr/local/lib/python3.11/dist-packages (from matplotlib~=3.7->cirq-core==1.5.0->cirq) (4.58.5)\n",
            "Requirement already satisfied: kiwisolver>=1.3.1 in /usr/local/lib/python3.11/dist-packages (from matplotlib~=3.7->cirq-core==1.5.0->cirq) (1.4.8)\n",
            "Requirement already satisfied: packaging>=20.0 in /usr/local/lib/python3.11/dist-packages (from matplotlib~=3.7->cirq-core==1.5.0->cirq) (24.2)\n",
            "Requirement already satisfied: pillow>=8 in /usr/local/lib/python3.11/dist-packages (from matplotlib~=3.7->cirq-core==1.5.0->cirq) (11.2.1)\n",
            "Requirement already satisfied: pyparsing>=2.3.1 in /usr/local/lib/python3.11/dist-packages (from matplotlib~=3.7->cirq-core==1.5.0->cirq) (3.2.3)\n",
            "Requirement already satisfied: python-dateutil>=2.7 in /usr/local/lib/python3.11/dist-packages (from matplotlib~=3.7->cirq-core==1.5.0->cirq) (2.9.0.post0)\n",
            "Requirement already satisfied: pytz>=2020.1 in /usr/local/lib/python3.11/dist-packages (from pandas~=2.0->cirq-core==1.5.0->cirq) (2025.2)\n",
            "Requirement already satisfied: tzdata>=2022.7 in /usr/local/lib/python3.11/dist-packages (from pandas~=2.0->cirq-core==1.5.0->cirq) (2025.2)\n",
            "Requirement already satisfied: charset-normalizer<4,>=2 in /usr/local/lib/python3.11/dist-packages (from requests~=2.32->cirq-aqt==1.5.0->cirq) (3.4.2)\n",
            "Requirement already satisfied: idna<4,>=2.5 in /usr/local/lib/python3.11/dist-packages (from requests~=2.32->cirq-aqt==1.5.0->cirq) (3.10)\n",
            "Requirement already satisfied: urllib3<3,>=1.21.1 in /usr/local/lib/python3.11/dist-packages (from requests~=2.32->cirq-aqt==1.5.0->cirq) (2.4.0)\n",
            "Requirement already satisfied: certifi>=2017.4.17 in /usr/local/lib/python3.11/dist-packages (from requests~=2.32->cirq-aqt==1.5.0->cirq) (2025.7.9)\n",
            "Requirement already satisfied: mpmath<1.4,>=1.1.0 in /usr/local/lib/python3.11/dist-packages (from sympy->cirq-core==1.5.0->cirq) (1.3.0)\n",
            "Requirement already satisfied: cython>=3.0.0 in /usr/local/lib/python3.11/dist-packages (from typedunits->cirq-google==1.5.0->cirq) (3.0.12)\n",
            "Requirement already satisfied: cachetools<6.0,>=2.0.0 in /usr/local/lib/python3.11/dist-packages (from google-auth<3.0.0,>=2.14.1->google-api-core>=1.14.0->google-api-core[grpc]>=1.14.0->cirq-google==1.5.0->cirq) (5.5.2)\n",
            "Requirement already satisfied: pyasn1-modules>=0.2.1 in /usr/local/lib/python3.11/dist-packages (from google-auth<3.0.0,>=2.14.1->google-api-core>=1.14.0->google-api-core[grpc]>=1.14.0->cirq-google==1.5.0->cirq) (0.4.2)\n",
            "Requirement already satisfied: rsa<5,>=3.1.4 in /usr/local/lib/python3.11/dist-packages (from google-auth<3.0.0,>=2.14.1->google-api-core>=1.14.0->google-api-core[grpc]>=1.14.0->cirq-google==1.5.0->cirq) (4.9.1)\n",
            "Requirement already satisfied: six>=1.5 in /usr/local/lib/python3.11/dist-packages (from python-dateutil>=2.7->matplotlib~=3.7->cirq-core==1.5.0->cirq) (1.17.0)\n",
            "Requirement already satisfied: pyasn1<0.7.0,>=0.6.1 in /usr/local/lib/python3.11/dist-packages (from pyasn1-modules>=0.2.1->google-auth<3.0.0,>=2.14.1->google-api-core>=1.14.0->google-api-core[grpc]>=1.14.0->cirq-google==1.5.0->cirq) (0.6.1)\n",
            "Downloading cirq-1.5.0-py3-none-any.whl (10 kB)\n",
            "Downloading cirq_aqt-1.5.0-py3-none-any.whl (31 kB)\n",
            "Downloading cirq_core-1.5.0-py3-none-any.whl (2.0 MB)\n",
            "\u001b[2K   \u001b[90m━━━━━━━━━━━━━━━━━━━━━━━━━━━━━━━━━━━━━━━━\u001b[0m \u001b[32m2.0/2.0 MB\u001b[0m \u001b[31m40.3 MB/s\u001b[0m eta \u001b[36m0:00:00\u001b[0m\n",
            "\u001b[?25hDownloading cirq_google-1.5.0-py3-none-any.whl (597 kB)\n",
            "\u001b[2K   \u001b[90m━━━━━━━━━━━━━━━━━━━━━━━━━━━━━━━━━━━━━━━━\u001b[0m \u001b[32m597.5/597.5 kB\u001b[0m \u001b[31m48.3 MB/s\u001b[0m eta \u001b[36m0:00:00\u001b[0m\n",
            "\u001b[?25hDownloading cirq_ionq-1.5.0-py3-none-any.whl (72 kB)\n",
            "\u001b[2K   \u001b[90m━━━━━━━━━━━━━━━━━━━━━━━━━━━━━━━━━━━━━━━━\u001b[0m \u001b[32m72.0/72.0 kB\u001b[0m \u001b[31m6.5 MB/s\u001b[0m eta \u001b[36m0:00:00\u001b[0m\n",
            "\u001b[?25hDownloading cirq_pasqal-1.5.0-py3-none-any.whl (33 kB)\n",
            "Downloading cirq_web-1.5.0-py3-none-any.whl (425 kB)\n",
            "\u001b[2K   \u001b[90m━━━━━━━━━━━━━━━━━━━━━━━━━━━━━━━━━━━━━━━━\u001b[0m \u001b[32m425.1/425.1 kB\u001b[0m \u001b[31m36.7 MB/s\u001b[0m eta \u001b[36m0:00:00\u001b[0m\n",
            "\u001b[?25hDownloading duet-0.2.9-py3-none-any.whl (29 kB)\n",
            "Downloading typedunits-0.0.1.dev20250509200845-cp311-cp311-manylinux_2_17_x86_64.manylinux2014_x86_64.whl (2.8 MB)\n",
            "\u001b[2K   \u001b[90m━━━━━━━━━━━━━━━━━━━━━━━━━━━━━━━━━━━━━━━━\u001b[0m \u001b[32m2.8/2.8 MB\u001b[0m \u001b[31m19.3 MB/s\u001b[0m eta \u001b[36m0:00:00\u001b[0m\n",
            "\u001b[?25hInstalling collected packages: typedunits, duet, cirq-core, cirq-web, cirq-pasqal, cirq-ionq, cirq-aqt, cirq-google, cirq\n",
            "Successfully installed cirq-1.5.0 cirq-aqt-1.5.0 cirq-core-1.5.0 cirq-google-1.5.0 cirq-ionq-1.5.0 cirq-pasqal-1.5.0 cirq-web-1.5.0 duet-0.2.9 typedunits-0.0.1.dev20250509200845\n"
          ]
        }
      ],
      "source": [
        "import IPython\n",
        "\n",
        "def in_colab():\n",
        "    try:\n",
        "        import google.colab\n",
        "        return True\n",
        "    except:\n",
        "        return False\n",
        "\n",
        "SolutionToTask1 = lambda: IPython.display.display(IPython.display.Javascript('window.open(\"{url}\");'.format(url='https://colab.research.google.com/drive/1ZSxYF1NN2M1KJUxzrefVVyw0C57YwT3m?usp=sharing#scrollTo=DN_nu8VVznY5' if in_colab() else 'QB44_B04_Grover_Algorithm_For_Max-Cut_Problem_Solutions.ipynb#task1')))\n",
        "SolutionToTask2 = lambda: IPython.display.display(IPython.display.Javascript('window.open(\"{url}\");'.format(url='https://colab.research.google.com/drive/1ZSxYF1NN2M1KJUxzrefVVyw0C57YwT3m?usp=sharing#scrollTo=k3eMOOLxznY6' if in_colab() else 'QB44_B04_Grover_Algorithm_For_Max-Cut_Problem_Solutions.ipynb#task2')))\n",
        "\n",
        "if in_colab():\n",
        "    !pip install cirq"
      ]
    },
    {
      "cell_type": "markdown",
      "metadata": {
        "id": "jCpQ__zc0zzx"
      },
      "source": [
        "##### Finally, we are ready to implement the Grover algorithm for the Max-Cut problem.\n",
        "\n",
        "For the initialization, we will apply Hadamard gate to the qubits representing the color of each vertex. We know how to implement the Grover diffusion operator. Now we need to implement an oracle which will \"mark\" the colorings in which there are $k$ edges whose endpoints are colored using different colors.\n",
        "\n",
        "For the oracle, the procedure goes as follows:\n",
        "\n",
        "* Implement edge checking for each edge (check whether an edge has endpoints with different colors).\n",
        "* Sum the outputs of edge checking step.\n",
        "* Check whether the sum is equal to (or greater) $k$ and save the flag on the auxillary qubit.\n",
        "* Apply $Z$ gate on the auxillary qubit.\n",
        "\n",
        "The oracle works for the decision version of the problem which checks whether there exists a coloring such that there are at least $k$ edges whose endpoints are colored using different colors. How to find the maximum size for the cut?\n",
        "\n",
        "Suppose that $k$ is a three-digit number $b_2b_1b_0$. First, we should check whether there is a coloring such that $b_2$ is equal to 1. If it is, then we check if there is a coloring such that $b_2=1$ and $b_1=1$. Otherwise, we should check for the coloring such that $b_2=0$ and $b_1$=1. This way, by doing the binary search over binary representation, we can finally find the cut of maximal size."
      ]
    },
    {
      "cell_type": "markdown",
      "metadata": {
        "id": "WCZ47Zh00zzx"
      },
      "source": [
        "Let us consider the following graph.\n",
        "<img src=\"https://gitlab.com/qworld/qeducation/qbook101/raw/main/qbook101/images/ch4/path3.png\" width=\"25%\" align=\"center\">\n",
        "\n",
        "We will check whether there is a coloring such that two edges connect vertices with a different color. To check that we will verify, whether for number $b_1b_0$, $b_1$ is set to 1. We will use:\n",
        "* Three qubits (0-2) for vertices.\n",
        "* Two qubits (3-4) for edges.\n",
        "* Two qubits (5-6) for storing the sum.\n",
        "* Single qubit (7) for the auxillary qubit.\n",
        "\n",
        "Since qubit 7 stores the flag, that is whether $b_1$ is set to 1 or not, we will apply the $Z$ gate on that qubit.\n",
        "\n",
        "Below we present the final Grover algorithm. Note that there are two such solutions, so we apply the oracle only once."
      ]
    },
    {
      "cell_type": "code",
      "execution_count": 2,
      "metadata": {
        "id": "4dcI96vO0zzx",
        "outputId": "4cb708ce-7df9-4517-8f66-b5a04cc2470c",
        "colab": {
          "base_uri": "https://localhost:8080/"
        }
      },
      "outputs": [
        {
          "output_type": "stream",
          "name": "stdout",
          "text": [
            "Random guess probability: 0.125\n",
            "Probability of obsering 101 :  0.4929\n",
            "Probability of obsering 010 :  0.5071\n"
          ]
        }
      ],
      "source": [
        "import cirq\n",
        "from cirq import H, Z, X, inverse, CX, CCX\n",
        "s = cirq.Simulator()\n",
        "\n",
        "def oracle_computation():\n",
        "    #edge checking\n",
        "    yield CX(qq[0], qq[3])\n",
        "    yield CX(qq[1], qq[3])\n",
        "    yield CX(qq[1], qq[4])\n",
        "    yield CX(qq[2], qq[4])\n",
        "\n",
        "    #adding qubit 3\n",
        "    yield CX(qq[3], qq[5])\n",
        "\n",
        "    #adding qubit 4\n",
        "    yield CCX(qq[4], qq[5], qq[6])\n",
        "    yield CX(qq[4], qq[5])\n",
        "\n",
        "    #check if b1 is equal to 1 and store the result in the auxillary qubit\n",
        "    yield CX(qq[6], qq[7])\n",
        "\n",
        "def oracle():\n",
        "    yield oracle_computation()\n",
        "    yield Z(qq[7])\n",
        "    yield inverse(oracle_computation())\n",
        "\n",
        "def grover_diffusion():\n",
        "    yield H.on_each(*(qq[:3]))\n",
        "    yield X.on_each(*(qq[:3]))\n",
        "    yield Z(qq[2]).controlled_by(qq[0], qq[1])\n",
        "    yield X.on_each(*(qq[:3]))\n",
        "    yield H.on_each(*(qq[:3]))\n",
        "\n",
        "\n",
        "# the Grover algorithm\n",
        "qq = cirq.LineQubit.range(8)\n",
        "circuit = cirq.Circuit()\n",
        "circuit.append(H.on_each(*(qq[0:3])))\n",
        "\n",
        "for i in range(1):\n",
        "    circuit.append(oracle())\n",
        "    circuit.append(grover_diffusion())\n",
        "\n",
        "circuit.append(cirq.measure(*qq[0:3], key='result'))\n",
        "\n",
        "# determine the statistics of the measurements\n",
        "trials_number = 10_000\n",
        "samples = s.run(circuit, repetitions=trials_number)\n",
        "\n",
        "print(\"Random guess probability:\", 1./2**3)\n",
        "\n",
        "# create an histogram of the result\n",
        "def bitstring(bits):\n",
        "    return \"\".join(str(int(b)) for b in bits)\n",
        "counts = samples.histogram(key=\"result\",fold_func=bitstring)\n",
        "for state, c in counts.items():\n",
        "    print(\"Probability of obsering\", state, \": \" ,c/trials_number)"
      ]
    },
    {
      "cell_type": "markdown",
      "metadata": {
        "id": "1DTTzE7L0zzy"
      },
      "source": [
        "We observe that the Grover's Search outputs 101 and 010, which are the two colorings where there are 2 edges connecting vertices with different colors."
      ]
    },
    {
      "cell_type": "markdown",
      "metadata": {
        "id": "I6lDfkM40zzy"
      },
      "source": [
        "In the remaining of this notebook, you will apply the same algorithm for other graphs."
      ]
    },
    {
      "cell_type": "markdown",
      "metadata": {
        "id": "upezNzWE0zzy"
      },
      "source": [
        "### Task 1\n",
        "\n",
        "Implement the Grover algorithm for the following graph\n",
        "<img src=\"https://gitlab.com/qworld/qeducation/qbook101/raw/main/qbook101/images/ch4/completebipartite.png\" width=\"25%\" align=\"center\">\n",
        "\n",
        "and check whether there is a coloring in which there are exactly four edges connecting vertices with a different color. Apply the oracle twice."
      ]
    },
    {
      "cell_type": "code",
      "execution_count": 5,
      "metadata": {
        "id": "i0-AmqOI0zzy",
        "outputId": "379358be-9648-4ed8-b7b7-affad42946df",
        "colab": {
          "base_uri": "https://localhost:8080/"
        }
      },
      "outputs": [
        {
          "output_type": "stream",
          "name": "stdout",
          "text": [
            "Random guess probability: 0.0625\n",
            "Probability of observing 0011 :  0.4785\n",
            "Probability of observing 1100 :  0.4659\n",
            "Probability of observing 0010 :  0.0041\n",
            "Probability of observing 1000 :  0.0041\n",
            "Probability of observing 1011 :  0.0036\n",
            "Probability of observing 1101 :  0.0044\n",
            "Probability of observing 0101 :  0.0032\n",
            "Probability of observing 0000 :  0.0046\n",
            "Probability of observing 0100 :  0.0038\n",
            "Probability of observing 1111 :  0.0039\n",
            "Probability of observing 1001 :  0.0047\n",
            "Probability of observing 0001 :  0.0032\n",
            "Probability of observing 0111 :  0.0036\n",
            "Probability of observing 1110 :  0.0041\n",
            "Probability of observing 1010 :  0.0035\n",
            "Probability of observing 0110 :  0.0048\n"
          ]
        }
      ],
      "source": [
        "import cirq\n",
        "from cirq import H, Z, X, inverse, I, CX, CCX\n",
        "s = cirq.Simulator()\n",
        "\n",
        "# 0-3: vertices\n",
        "# ?-?: edge checking\n",
        "# ?-?: the number\n",
        "# ?-?: auxillary\n",
        "\n",
        "def oracle_computation():\n",
        "    #\n",
        "    # your solution goes here\n",
        "    #\n",
        "    #edge checking\n",
        "    yield CX(qq[0], qq[4])\n",
        "    yield CX(qq[2], qq[4])\n",
        "    yield CX(qq[0], qq[5])\n",
        "    yield CX(qq[3], qq[5])\n",
        "    yield CX(qq[1], qq[6])\n",
        "    yield CX(qq[2], qq[6])\n",
        "    yield CX(qq[1], qq[7])\n",
        "    yield CX(qq[3], qq[7])\n",
        "\n",
        "    #adding qubit 4\n",
        "    yield CX(qq[4], qq[8])\n",
        "\n",
        "    #adding qubit 5\n",
        "    yield CCX(qq[5], qq[8], qq[9])\n",
        "    yield CX(qq[5], qq[8])\n",
        "\n",
        "    #adding qubit 6\n",
        "    yield CCX(qq[6], qq[8], qq[9])\n",
        "    yield CX(qq[6], qq[8])\n",
        "\n",
        "    #adding qubit 7\n",
        "    yield X(qq[10]).controlled_by(qq[7], qq[8], qq[9])\n",
        "    yield CCX(qq[7], qq[8], qq[9])\n",
        "    yield CX(qq[7], qq[8])\n",
        "\n",
        "    yield X(qq[8])\n",
        "    yield X(qq[9])\n",
        "    yield X(qq[11]).controlled_by(*(qq[8:11]))\n",
        "\n",
        "def oracle():\n",
        "    #\n",
        "    # your solution goes here\n",
        "    #\n",
        "    yield oracle_computation()\n",
        "    yield Z(qq[11])\n",
        "    yield inverse(oracle_computation())\n",
        "\n",
        "def grover_diffusion():\n",
        "    #\n",
        "    # your solution goes here\n",
        "    #\n",
        "    yield H.on_each(*(qq[:3]))\n",
        "    yield X.on_each(*(qq[:3]))\n",
        "    yield Z(qq[2]).controlled_by(qq[0], qq[1])\n",
        "    yield X.on_each(*(qq[:3]))\n",
        "    yield H.on_each(*(qq[:3]))\n",
        "\n",
        "# the Grover algorithm\n",
        "qq = cirq.LineQubit.range(12)\n",
        "circuit = cirq.Circuit()\n",
        "circuit.append(H.on_each(*(qq[0:4])))\n",
        "\n",
        "for i in range(2):\n",
        "    circuit.append(oracle())\n",
        "    circuit.append(grover_diffusion())\n",
        "circuit.append(cirq.measure(*qq[0:4], key='result'))\n",
        "\n",
        "# determine the statistics of the measurements\n",
        "trials_number = 10_000\n",
        "samples = s.run(circuit, repetitions=trials_number)\n",
        "result = samples.measurements[\"result\"]\n",
        "\n",
        "print(\"Random guess probability:\", 1/2**4)\n",
        "# create an histogram of the result\n",
        "def bitstring(bits):\n",
        "    return \"\".join(str(int(b)) for b in bits)\n",
        "counts = samples.histogram(key=\"result\",fold_func=bitstring)\n",
        "for state, c in counts.items():\n",
        "    print(\"Probability of observing\", state, \": \" ,c/trials_number)"
      ]
    },
    {
      "cell_type": "markdown",
      "metadata": {
        "id": "yEgFUvIm0zzy"
      },
      "source": [
        "To check out our solution, run the next cell:"
      ]
    },
    {
      "cell_type": "code",
      "execution_count": 4,
      "metadata": {
        "id": "X4nzCI5g0zzy",
        "outputId": "7acb03d4-cb75-4a08-a3c0-f84ddbf7afa1",
        "colab": {
          "base_uri": "https://localhost:8080/",
          "height": 37
        }
      },
      "outputs": [
        {
          "output_type": "display_data",
          "data": {
            "text/plain": [
              "<IPython.core.display.Javascript object>"
            ],
            "application/javascript": [
              "window.open(\"https://colab.research.google.com/drive/1ZSxYF1NN2M1KJUxzrefVVyw0C57YwT3m?usp=sharing#scrollTo=DN_nu8VVznY5\");"
            ]
          },
          "metadata": {}
        }
      ],
      "source": [
        "SolutionToTask1()  # show solution for task 1"
      ]
    },
    {
      "cell_type": "markdown",
      "metadata": {
        "id": "DWgBpWnV0zzy"
      },
      "source": [
        "### Task 2\n",
        "\n",
        "Implement the Grover Algorithm for the following graph\n",
        "<img src=\"https://gitlab.com/qworld/qeducation/qbook101/raw/main/qbook101/images/ch4/finalgrover1.png\" width=\"25%\" align=\"center\">\n",
        "\n",
        "and check whether there is coloring with six or more edges connecting vertices with a different color. Apply the oracle twice.\n",
        "\n",
        "*Hint*: Note that you may check only two bits of the number."
      ]
    },
    {
      "cell_type": "code",
      "execution_count": 6,
      "metadata": {
        "id": "DKu1SVyl0zzy",
        "outputId": "08e891b5-742e-4953-a87c-7e946974a379",
        "colab": {
          "base_uri": "https://localhost:8080/"
        }
      },
      "outputs": [
        {
          "output_type": "stream",
          "name": "stdout",
          "text": [
            "Random guess probability: 0.03125\n",
            "Probability of observing 11100 :  0.4554\n",
            "Probability of observing 00110 :  0.0029\n",
            "Probability of observing 00011 :  0.4501\n",
            "Probability of observing 10101 :  0.0035\n",
            "Probability of observing 11110 :  0.0025\n",
            "Probability of observing 01100 :  0.0028\n",
            "Probability of observing 00010 :  0.0031\n",
            "Probability of observing 11000 :  0.0039\n",
            "Probability of observing 01101 :  0.0031\n",
            "Probability of observing 01000 :  0.003\n",
            "Probability of observing 10000 :  0.0033\n",
            "Probability of observing 10111 :  0.0038\n",
            "Probability of observing 10001 :  0.0029\n",
            "Probability of observing 11101 :  0.004\n",
            "Probability of observing 10100 :  0.0031\n",
            "Probability of observing 01010 :  0.0034\n",
            "Probability of observing 10011 :  0.0031\n",
            "Probability of observing 00101 :  0.0037\n",
            "Probability of observing 01110 :  0.0033\n",
            "Probability of observing 00001 :  0.0031\n",
            "Probability of observing 00000 :  0.0025\n",
            "Probability of observing 01001 :  0.0029\n",
            "Probability of observing 00100 :  0.0035\n",
            "Probability of observing 01111 :  0.0027\n",
            "Probability of observing 01011 :  0.0036\n",
            "Probability of observing 10110 :  0.0032\n",
            "Probability of observing 00111 :  0.0027\n",
            "Probability of observing 10010 :  0.0029\n",
            "Probability of observing 11010 :  0.0025\n",
            "Probability of observing 11011 :  0.0025\n",
            "Probability of observing 11001 :  0.0032\n",
            "Probability of observing 11111 :  0.0038\n"
          ]
        }
      ],
      "source": [
        "import cirq\n",
        "from cirq import H, Z, X, inverse, CX, CCX\n",
        "s = cirq.Simulator()\n",
        "\n",
        "# 0-4: vertices\n",
        "# 5-11: edge checking\n",
        "# 12-14: the number\n",
        "# 15: auxillary\n",
        "\n",
        "def edge_check(a, b, c):\n",
        "    yield CX(qq[a], qq[c])\n",
        "    yield CX(qq[b], qq[c])\n",
        "\n",
        "def oracle_computation():\n",
        "    # check all edges\n",
        "    yield edge_check(0, 1, 5)\n",
        "    yield edge_check(0, 3, 6)\n",
        "    yield edge_check(0, 4, 7)\n",
        "    yield edge_check(1, 3, 8)\n",
        "    yield edge_check(1, 4, 9)\n",
        "    yield edge_check(2, 3, 10)\n",
        "    yield edge_check(2, 4, 11)\n",
        "\n",
        "    # add qubit 5\n",
        "    yield CX(qq[5], qq[12])\n",
        "\n",
        "    # add qubits 6-7\n",
        "    for j in range(6,8):\n",
        "        yield CCX(qq[j], qq[12], qq[13])\n",
        "        yield CX(qq[j], qq[12])\n",
        "\n",
        "    # add qubits 8-11\n",
        "    for j in range(8,12):\n",
        "        yield X(qq[14]).controlled_by(qq[j], qq[12], qq[13])\n",
        "        yield CCX(qq[j], qq[12], qq[13])\n",
        "        yield CX(qq[j], qq[12])\n",
        "\n",
        "    # set the last bit\n",
        "    # we do not have to check 12th qubit\n",
        "    yield CCX(qq[13], qq[14], qq[15])\n",
        "\n",
        "def oracle():\n",
        "    yield oracle_computation()\n",
        "    yield Z(qq[15])\n",
        "    yield inverse(oracle_computation())\n",
        "\n",
        "def grover_diffusion():\n",
        "    yield H.on_each(*(qq[:5]))\n",
        "    yield X.on_each(*(qq[:5]))\n",
        "    yield Z(qq[4]).controlled_by(*(qq[:4]))\n",
        "    yield X.on_each(*(qq[:5]))\n",
        "    yield H.on_each(*(qq[:5]))\n",
        "\n",
        "\n",
        "# the Grover algorithm\n",
        "qq = cirq.LineQubit.range(16)\n",
        "circuit = cirq.Circuit()\n",
        "circuit.append(H.on_each(*(qq[0:5])))\n",
        "\n",
        "for i in range(2):\n",
        "    circuit.append(oracle())\n",
        "    circuit.append(grover_diffusion())\n",
        "\n",
        "circuit.append(cirq.measure(*qq[0:5], key='result'))\n",
        "\n",
        "# determine the statistics of the measurements\n",
        "trials_number = 10_000\n",
        "samples = s.run(circuit, repetitions=trials_number)\n",
        "result = samples.measurements[\"result\"]\n",
        "\n",
        "print(\"Random guess probability:\", 1/2**5)\n",
        "# create an histogram of the result\n",
        "def bitstring(bits):\n",
        "    return \"\".join(str(int(b)) for b in bits)\n",
        "counts = samples.histogram(key=\"result\",fold_func=bitstring)\n",
        "for state, c in counts.items():\n",
        "    print(\"Probability of observing\", state, \": \" ,c/trials_number)"
      ]
    },
    {
      "cell_type": "markdown",
      "metadata": {
        "id": "rjUvHHYn0zzy"
      },
      "source": [
        "To check out our solution, run the next cell:"
      ]
    },
    {
      "cell_type": "code",
      "execution_count": null,
      "metadata": {
        "id": "OLSDo1RJ0zzz"
      },
      "outputs": [],
      "source": [
        "SolutionToTask2()  # show solution for task 2"
      ]
    },
    {
      "cell_type": "markdown",
      "metadata": {
        "id": "pQDwOneC0zzz"
      },
      "source": [
        "## Final remarks\n",
        "\n",
        "We have successfully implemented the Grover's Search algorithm for the Max-Cut problem. Congratulations! However, there are several interesting additional facts.\n",
        "\n",
        "Currently for each edge, we have a separate qubit. We could reuse a single qubit at the cost of additional quantum gates. While the circuit would be longer, we could save some qubits.\n",
        "\n",
        "Next, for each task, the number of iterations was given. While for bipartiteness checking we know there are always exactly two answers, this may not be the case for the Max-Cut problem. Fortunately, there is a *quantum counting algorithm*, which can efficiently determine the number of solutions and hence the number of iterations."
      ]
    }
  ],
  "metadata": {
    "kernelspec": {
      "display_name": "Python 3 (ipykernel)",
      "language": "python",
      "name": "python3"
    },
    "language_info": {
      "codemirror_mode": {
        "name": "ipython",
        "version": 3
      },
      "file_extension": ".py",
      "mimetype": "text/x-python",
      "name": "python",
      "nbconvert_exporter": "python",
      "pygments_lexer": "ipython3",
      "version": "3.11.4"
    },
    "colab": {
      "provenance": [],
      "collapsed_sections": [
        "SVglEFhW0zzw"
      ],
      "include_colab_link": true
    }
  },
  "nbformat": 4,
  "nbformat_minor": 0
}