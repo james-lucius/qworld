{
  "cells": [
    {
      "cell_type": "markdown",
      "metadata": {
        "id": "view-in-github",
        "colab_type": "text"
      },
      "source": [
        "<a href=\"https://colab.research.google.com/github/james-lucius/qworld/blob/main/QB52_D04_Order_Finding_Algorithm.ipynb\" target=\"_parent\"><img src=\"https://colab.research.google.com/assets/colab-badge.svg\" alt=\"Open In Colab\"/></a>"
      ]
    },
    {
      "cell_type": "markdown",
      "metadata": {
        "id": "pRT9j681jOtn"
      },
      "source": [
        "<a href=\"https://qworld.net\" target=\"_blank\" align=\"left\"><img src=\"https://gitlab.com/qworld/qeducation/qbook101/raw/main/qworld/images/header.jpg\" align=\"left\"></a>\n",
        "$ \\newcommand{\\bra}[1]{\\langle #1|} $\n",
        "$ \\newcommand{\\ket}[1]{|#1\\rangle} $\n",
        "$ \\newcommand{\\braket}[2]{\\langle #1|#2\\rangle} $\n",
        "$ \\newcommand{\\dot}[2]{ #1 \\cdot #2} $\n",
        "$ \\newcommand{\\biginner}[2]{\\left\\langle #1,#2\\right\\rangle} $\n",
        "$ \\newcommand{\\mymatrix}[2]{\\left( \\begin{array}{#1} #2\\end{array} \\right)} $\n",
        "$ \\newcommand{\\myvector}[1]{\\mymatrix{c}{#1}} $\n",
        "$ \\newcommand{\\myrvector}[1]{\\mymatrix{r}{#1}} $\n",
        "$ \\newcommand{\\mypar}[1]{\\left( #1 \\right)} $\n",
        "$ \\newcommand{\\mybigpar}[1]{ \\Big( #1 \\Big)} $\n",
        "$ \\newcommand{\\sqrttwo}{\\frac{1}{\\sqrt{2}}} $\n",
        "$ \\newcommand{\\dsqrttwo}{\\dfrac{1}{\\sqrt{2}}} $\n",
        "$ \\newcommand{\\onehalf}{\\frac{1}{2}} $\n",
        "$ \\newcommand{\\donehalf}{\\dfrac{1}{2}} $\n",
        "$ \\newcommand{\\hadamard}{ \\mymatrix{rr}{ \\sqrttwo & \\sqrttwo \\\\ \\sqrttwo & -\\sqrttwo }} $\n",
        "$ \\newcommand{\\vzero}{\\myvector{1\\\\0}} $\n",
        "$ \\newcommand{\\vone}{\\myvector{0\\\\1}} $\n",
        "$ \\newcommand{\\stateplus}{\\myvector{ \\sqrttwo \\\\  \\sqrttwo } } $\n",
        "$ \\newcommand{\\stateminus}{ \\myrvector{ \\sqrttwo \\\\ -\\sqrttwo } } $\n",
        "$ \\newcommand{\\myarray}[2]{ \\begin{array}{#1}#2\\end{array}} $\n",
        "$ \\newcommand{\\X}{ \\mymatrix{cc}{0 & 1 \\\\ 1 & 0}  } $\n",
        "$ \\newcommand{\\Z}{ \\mymatrix{rr}{1 & 0 \\\\ 0 & -1}  } $\n",
        "$ \\newcommand{\\Htwo}{ \\mymatrix{rrrr}{ \\frac{1}{2} & \\frac{1}{2} & \\frac{1}{2} & \\frac{1}{2} \\\\ \\frac{1}{2} & -\\frac{1}{2} & \\frac{1}{2} & -\\frac{1}{2} \\\\ \\frac{1}{2} & \\frac{1}{2} & -\\frac{1}{2} & -\\frac{1}{2} \\\\ \\frac{1}{2} & -\\frac{1}{2} & -\\frac{1}{2} & \\frac{1}{2} } } $\n",
        "$ \\newcommand{\\CNOT}{ \\mymatrix{cccc}{1 & 0 & 0 & 0 \\\\ 0 & 1 & 0 & 0 \\\\ 0 & 0 & 0 & 1 \\\\ 0 & 0 & 1 & 0} } $\n",
        "$ \\newcommand{\\norm}[1]{ \\left\\lVert #1 \\right\\rVert } $\n",
        "$ \\newcommand{\\pstate}[1]{ \\lceil \\mspace{-1mu} #1 \\mspace{-1.5mu} \\rfloor } $\n",
        "$ \\newcommand{\\Y}{ \\mymatrix{rr}{0 & -i \\\\ i & 0} } $\n",
        "$ \\newcommand{\\S}{ \\mymatrix{rr}{1 & 0 \\\\ 0 & i} } $\n",
        "$ \\newcommand{\\T}{ \\mymatrix{rr}{1 & 0 \\\\ 0 & e^{i \\frac{\\pi}{4}}} } $\n",
        "$ \\newcommand{\\Sdg}{ \\mymatrix{rr}{1 & 0 \\\\ 0 & -i} } $\n",
        "$ \\newcommand{\\Tdg}{ \\mymatrix{rr}{1 & 0 \\\\ 0 & e^{-i \\frac{\\pi}{4}}} } $\n",
        "$ \\newcommand{\\qgate}[1]{ \\mathop{\\textit{#1} } }$\n",
        "$\\newcommand{\\Mod}[1]{\\ (\\mathrm{mod}\\ #1)}$"
      ]
    },
    {
      "cell_type": "markdown",
      "metadata": {
        "id": "EYtaCizqjOtp"
      },
      "source": [
        "_prepared by Özlem Salehi and Abuzer Yakaryilmaz_\n",
        "<br><br>\n",
        "_Cirq adaptation by Claudia Zendejas-Morales_"
      ]
    },
    {
      "cell_type": "markdown",
      "metadata": {
        "id": "f8ZM7Q_ijOtp"
      },
      "source": [
        "<font size=\"28px\" style=\"font-size:28px;\" align=\"left\"><b> Order Finding Algorithm </b></font>\n",
        "<br>\n",
        "<br><br>"
      ]
    },
    {
      "cell_type": "markdown",
      "metadata": {
        "jp-MarkdownHeadingCollapsed": true,
        "id": "shsGvhL4jOtp"
      },
      "source": [
        "##### <font color=\"#08b806\">Please execute the following cell, it is necessary to distinguish between your local environment and Google Colab's"
      ]
    },
    {
      "cell_type": "code",
      "execution_count": 1,
      "metadata": {
        "id": "25mhC5cMjOtp",
        "outputId": "df99c879-5bac-474d-f3fa-2677eefd8fd6",
        "colab": {
          "base_uri": "https://localhost:8080/"
        }
      },
      "outputs": [
        {
          "output_type": "stream",
          "name": "stdout",
          "text": [
            "--2025-07-16 22:19:46--  https://gitlab.com/qworld/qeducation/qbook101/raw/main/qworld/include/shor.py\n",
            "Resolving gitlab.com (gitlab.com)... 172.65.251.78, 2606:4700:90:0:f22e:fbec:5bed:a9b9\n",
            "Connecting to gitlab.com (gitlab.com)|172.65.251.78|:443... connected.\n",
            "HTTP request sent, awaiting response... 200 OK\n",
            "Length: 569 [text/plain]\n",
            "Saving to: ‘shor.py’\n",
            "\n",
            "shor.py             100%[===================>]     569  --.-KB/s    in 0s      \n",
            "\n",
            "2025-07-16 22:19:46 (233 MB/s) - ‘shor.py’ saved [569/569]\n",
            "\n",
            "Collecting cirq\n",
            "  Downloading cirq-1.5.0-py3-none-any.whl.metadata (15 kB)\n",
            "Collecting cirq-aqt==1.5.0 (from cirq)\n",
            "  Downloading cirq_aqt-1.5.0-py3-none-any.whl.metadata (4.8 kB)\n",
            "Collecting cirq-core==1.5.0 (from cirq)\n",
            "  Downloading cirq_core-1.5.0-py3-none-any.whl.metadata (4.9 kB)\n",
            "Collecting cirq-google==1.5.0 (from cirq)\n",
            "  Downloading cirq_google-1.5.0-py3-none-any.whl.metadata (4.9 kB)\n",
            "Collecting cirq-ionq==1.5.0 (from cirq)\n",
            "  Downloading cirq_ionq-1.5.0-py3-none-any.whl.metadata (4.7 kB)\n",
            "Collecting cirq-pasqal==1.5.0 (from cirq)\n",
            "  Downloading cirq_pasqal-1.5.0-py3-none-any.whl.metadata (4.8 kB)\n",
            "Collecting cirq-web==1.5.0 (from cirq)\n",
            "  Downloading cirq_web-1.5.0-py3-none-any.whl.metadata (5.5 kB)\n",
            "Requirement already satisfied: requests~=2.32 in /usr/local/lib/python3.11/dist-packages (from cirq-aqt==1.5.0->cirq) (2.32.3)\n",
            "Requirement already satisfied: attrs>=21.3.0 in /usr/local/lib/python3.11/dist-packages (from cirq-core==1.5.0->cirq) (25.3.0)\n",
            "Collecting duet>=0.2.8 (from cirq-core==1.5.0->cirq)\n",
            "  Downloading duet-0.2.9-py3-none-any.whl.metadata (2.3 kB)\n",
            "Requirement already satisfied: matplotlib~=3.7 in /usr/local/lib/python3.11/dist-packages (from cirq-core==1.5.0->cirq) (3.10.0)\n",
            "Requirement already satisfied: networkx~=3.1 in /usr/local/lib/python3.11/dist-packages (from cirq-core==1.5.0->cirq) (3.5)\n",
            "Requirement already satisfied: numpy>=1.25 in /usr/local/lib/python3.11/dist-packages (from cirq-core==1.5.0->cirq) (2.0.2)\n",
            "Requirement already satisfied: pandas~=2.0 in /usr/local/lib/python3.11/dist-packages (from cirq-core==1.5.0->cirq) (2.2.2)\n",
            "Requirement already satisfied: sortedcontainers~=2.0 in /usr/local/lib/python3.11/dist-packages (from cirq-core==1.5.0->cirq) (2.4.0)\n",
            "Requirement already satisfied: scipy~=1.11 in /usr/local/lib/python3.11/dist-packages (from cirq-core==1.5.0->cirq) (1.15.3)\n",
            "Requirement already satisfied: sympy in /usr/local/lib/python3.11/dist-packages (from cirq-core==1.5.0->cirq) (1.13.1)\n",
            "Requirement already satisfied: typing_extensions>=4.2 in /usr/local/lib/python3.11/dist-packages (from cirq-core==1.5.0->cirq) (4.14.1)\n",
            "Requirement already satisfied: tqdm>=4.12 in /usr/local/lib/python3.11/dist-packages (from cirq-core==1.5.0->cirq) (4.67.1)\n",
            "Requirement already satisfied: google-api-core>=1.14.0 in /usr/local/lib/python3.11/dist-packages (from google-api-core[grpc]>=1.14.0->cirq-google==1.5.0->cirq) (2.25.1)\n",
            "Requirement already satisfied: proto-plus>=1.20.0 in /usr/local/lib/python3.11/dist-packages (from cirq-google==1.5.0->cirq) (1.26.1)\n",
            "Requirement already satisfied: protobuf<6.0,>=4.25 in /usr/local/lib/python3.11/dist-packages (from cirq-google==1.5.0->cirq) (5.29.5)\n",
            "Collecting typedunits (from cirq-google==1.5.0->cirq)\n",
            "  Downloading typedunits-0.0.1.dev20250509200845-cp311-cp311-manylinux_2_17_x86_64.manylinux2014_x86_64.whl.metadata (4.8 kB)\n",
            "Requirement already satisfied: googleapis-common-protos<2.0.0,>=1.56.2 in /usr/local/lib/python3.11/dist-packages (from google-api-core>=1.14.0->google-api-core[grpc]>=1.14.0->cirq-google==1.5.0->cirq) (1.70.0)\n",
            "Requirement already satisfied: google-auth<3.0.0,>=2.14.1 in /usr/local/lib/python3.11/dist-packages (from google-api-core>=1.14.0->google-api-core[grpc]>=1.14.0->cirq-google==1.5.0->cirq) (2.38.0)\n",
            "Requirement already satisfied: grpcio<2.0.0,>=1.33.2 in /usr/local/lib/python3.11/dist-packages (from google-api-core[grpc]>=1.14.0->cirq-google==1.5.0->cirq) (1.73.1)\n",
            "Requirement already satisfied: grpcio-status<2.0.0,>=1.33.2 in /usr/local/lib/python3.11/dist-packages (from google-api-core[grpc]>=1.14.0->cirq-google==1.5.0->cirq) (1.71.2)\n",
            "Requirement already satisfied: contourpy>=1.0.1 in /usr/local/lib/python3.11/dist-packages (from matplotlib~=3.7->cirq-core==1.5.0->cirq) (1.3.2)\n",
            "Requirement already satisfied: cycler>=0.10 in /usr/local/lib/python3.11/dist-packages (from matplotlib~=3.7->cirq-core==1.5.0->cirq) (0.12.1)\n",
            "Requirement already satisfied: fonttools>=4.22.0 in /usr/local/lib/python3.11/dist-packages (from matplotlib~=3.7->cirq-core==1.5.0->cirq) (4.58.5)\n",
            "Requirement already satisfied: kiwisolver>=1.3.1 in /usr/local/lib/python3.11/dist-packages (from matplotlib~=3.7->cirq-core==1.5.0->cirq) (1.4.8)\n",
            "Requirement already satisfied: packaging>=20.0 in /usr/local/lib/python3.11/dist-packages (from matplotlib~=3.7->cirq-core==1.5.0->cirq) (24.2)\n",
            "Requirement already satisfied: pillow>=8 in /usr/local/lib/python3.11/dist-packages (from matplotlib~=3.7->cirq-core==1.5.0->cirq) (11.2.1)\n",
            "Requirement already satisfied: pyparsing>=2.3.1 in /usr/local/lib/python3.11/dist-packages (from matplotlib~=3.7->cirq-core==1.5.0->cirq) (3.2.3)\n",
            "Requirement already satisfied: python-dateutil>=2.7 in /usr/local/lib/python3.11/dist-packages (from matplotlib~=3.7->cirq-core==1.5.0->cirq) (2.9.0.post0)\n",
            "Requirement already satisfied: pytz>=2020.1 in /usr/local/lib/python3.11/dist-packages (from pandas~=2.0->cirq-core==1.5.0->cirq) (2025.2)\n",
            "Requirement already satisfied: tzdata>=2022.7 in /usr/local/lib/python3.11/dist-packages (from pandas~=2.0->cirq-core==1.5.0->cirq) (2025.2)\n",
            "Requirement already satisfied: charset-normalizer<4,>=2 in /usr/local/lib/python3.11/dist-packages (from requests~=2.32->cirq-aqt==1.5.0->cirq) (3.4.2)\n",
            "Requirement already satisfied: idna<4,>=2.5 in /usr/local/lib/python3.11/dist-packages (from requests~=2.32->cirq-aqt==1.5.0->cirq) (3.10)\n",
            "Requirement already satisfied: urllib3<3,>=1.21.1 in /usr/local/lib/python3.11/dist-packages (from requests~=2.32->cirq-aqt==1.5.0->cirq) (2.4.0)\n",
            "Requirement already satisfied: certifi>=2017.4.17 in /usr/local/lib/python3.11/dist-packages (from requests~=2.32->cirq-aqt==1.5.0->cirq) (2025.7.14)\n",
            "Requirement already satisfied: mpmath<1.4,>=1.1.0 in /usr/local/lib/python3.11/dist-packages (from sympy->cirq-core==1.5.0->cirq) (1.3.0)\n",
            "Requirement already satisfied: cython>=3.0.0 in /usr/local/lib/python3.11/dist-packages (from typedunits->cirq-google==1.5.0->cirq) (3.0.12)\n",
            "Requirement already satisfied: cachetools<6.0,>=2.0.0 in /usr/local/lib/python3.11/dist-packages (from google-auth<3.0.0,>=2.14.1->google-api-core>=1.14.0->google-api-core[grpc]>=1.14.0->cirq-google==1.5.0->cirq) (5.5.2)\n",
            "Requirement already satisfied: pyasn1-modules>=0.2.1 in /usr/local/lib/python3.11/dist-packages (from google-auth<3.0.0,>=2.14.1->google-api-core>=1.14.0->google-api-core[grpc]>=1.14.0->cirq-google==1.5.0->cirq) (0.4.2)\n",
            "Requirement already satisfied: rsa<5,>=3.1.4 in /usr/local/lib/python3.11/dist-packages (from google-auth<3.0.0,>=2.14.1->google-api-core>=1.14.0->google-api-core[grpc]>=1.14.0->cirq-google==1.5.0->cirq) (4.9.1)\n",
            "Requirement already satisfied: six>=1.5 in /usr/local/lib/python3.11/dist-packages (from python-dateutil>=2.7->matplotlib~=3.7->cirq-core==1.5.0->cirq) (1.17.0)\n",
            "Requirement already satisfied: pyasn1<0.7.0,>=0.6.1 in /usr/local/lib/python3.11/dist-packages (from pyasn1-modules>=0.2.1->google-auth<3.0.0,>=2.14.1->google-api-core>=1.14.0->google-api-core[grpc]>=1.14.0->cirq-google==1.5.0->cirq) (0.6.1)\n",
            "Downloading cirq-1.5.0-py3-none-any.whl (10 kB)\n",
            "Downloading cirq_aqt-1.5.0-py3-none-any.whl (31 kB)\n",
            "Downloading cirq_core-1.5.0-py3-none-any.whl (2.0 MB)\n",
            "\u001b[2K   \u001b[90m━━━━━━━━━━━━━━━━━━━━━━━━━━━━━━━━━━━━━━━━\u001b[0m \u001b[32m2.0/2.0 MB\u001b[0m \u001b[31m64.5 MB/s\u001b[0m eta \u001b[36m0:00:00\u001b[0m\n",
            "\u001b[?25hDownloading cirq_google-1.5.0-py3-none-any.whl (597 kB)\n",
            "\u001b[2K   \u001b[90m━━━━━━━━━━━━━━━━━━━━━━━━━━━━━━━━━━━━━━━━\u001b[0m \u001b[32m597.5/597.5 kB\u001b[0m \u001b[31m42.1 MB/s\u001b[0m eta \u001b[36m0:00:00\u001b[0m\n",
            "\u001b[?25hDownloading cirq_ionq-1.5.0-py3-none-any.whl (72 kB)\n",
            "\u001b[2K   \u001b[90m━━━━━━━━━━━━━━━━━━━━━━━━━━━━━━━━━━━━━━━━\u001b[0m \u001b[32m72.0/72.0 kB\u001b[0m \u001b[31m6.7 MB/s\u001b[0m eta \u001b[36m0:00:00\u001b[0m\n",
            "\u001b[?25hDownloading cirq_pasqal-1.5.0-py3-none-any.whl (33 kB)\n",
            "Downloading cirq_web-1.5.0-py3-none-any.whl (425 kB)\n",
            "\u001b[2K   \u001b[90m━━━━━━━━━━━━━━━━━━━━━━━━━━━━━━━━━━━━━━━━\u001b[0m \u001b[32m425.1/425.1 kB\u001b[0m \u001b[31m32.7 MB/s\u001b[0m eta \u001b[36m0:00:00\u001b[0m\n",
            "\u001b[?25hDownloading duet-0.2.9-py3-none-any.whl (29 kB)\n",
            "Downloading typedunits-0.0.1.dev20250509200845-cp311-cp311-manylinux_2_17_x86_64.manylinux2014_x86_64.whl (2.8 MB)\n",
            "\u001b[2K   \u001b[90m━━━━━━━━━━━━━━━━━━━━━━━━━━━━━━━━━━━━━━━━\u001b[0m \u001b[32m2.8/2.8 MB\u001b[0m \u001b[31m90.9 MB/s\u001b[0m eta \u001b[36m0:00:00\u001b[0m\n",
            "\u001b[?25hInstalling collected packages: typedunits, duet, cirq-core, cirq-web, cirq-pasqal, cirq-ionq, cirq-aqt, cirq-google, cirq\n",
            "Successfully installed cirq-1.5.0 cirq-aqt-1.5.0 cirq-core-1.5.0 cirq-google-1.5.0 cirq-ionq-1.5.0 cirq-pasqal-1.5.0 cirq-web-1.5.0 duet-0.2.9 typedunits-0.0.1.dev20250509200845\n"
          ]
        }
      ],
      "source": [
        "import IPython\n",
        "\n",
        "def in_colab():\n",
        "    try:\n",
        "        import google.colab\n",
        "        return True\n",
        "    except:\n",
        "        return False\n",
        "\n",
        "path_files = \"./\" if in_colab() else \"../qworld/include/\"\n",
        "\n",
        "SolutionToTask1 = lambda: IPython.display.display(IPython.display.Javascript('window.open(\"{url}\");'.format(url='https://colab.research.google.com/drive/1vmO57cdCWd9MPl4K9zQ5lx2pqnwv3Zz_?usp=sharing#scrollTo=V1hSncbJg9re' if in_colab() else 'QB52_D04_Order_Finding_Algorithm_Solutions.ipynb#task1')))\n",
        "SolutionToTask2 = lambda: IPython.display.display(IPython.display.Javascript('window.open(\"{url}\");'.format(url='https://colab.research.google.com/drive/1vmO57cdCWd9MPl4K9zQ5lx2pqnwv3Zz_?usp=sharing#scrollTo=zo5SZP_Gg9rf' if in_colab() else 'QB52_D04_Order_Finding_Algorithm_Solutions.ipynb#task2')))\n",
        "SolutionToTask3 = lambda: IPython.display.display(IPython.display.Javascript('window.open(\"{url}\");'.format(url='https://colab.research.google.com/drive/1vmO57cdCWd9MPl4K9zQ5lx2pqnwv3Zz_?usp=sharing#scrollTo=SBXhjqJAg9rf' if in_colab() else 'QB52_D04_Order_Finding_Algorithm_Solutions.ipynb#task3')))\n",
        "SolutionToTask4 = lambda: IPython.display.display(IPython.display.Javascript('window.open(\"{url}\");'.format(url='https://colab.research.google.com/drive/1vmO57cdCWd9MPl4K9zQ5lx2pqnwv3Zz_?usp=sharing#scrollTo=oSVPnHg5g9rg' if in_colab() else 'QB52_D04_Order_Finding_Algorithm_Solutions.ipynb#task4')))\n",
        "SolutionToTask5 = lambda: IPython.display.display(IPython.display.Javascript('window.open(\"{url}\");'.format(url='https://colab.research.google.com/drive/1vmO57cdCWd9MPl4K9zQ5lx2pqnwv3Zz_?usp=sharing#scrollTo=jCltmUh5g9rg' if in_colab() else 'QB52_D04_Order_Finding_Algorithm_Solutions.ipynb#task5')))\n",
        "SolutionToTask6 = lambda: IPython.display.display(IPython.display.Javascript('window.open(\"{url}\");'.format(url='https://colab.research.google.com/drive/1vmO57cdCWd9MPl4K9zQ5lx2pqnwv3Zz_?usp=sharing#scrollTo=0qR1Xnjjg9rh' if in_colab() else 'QB52_D04_Order_Finding_Algorithm_Solutions.ipynb#task6')))\n",
        "\n",
        "if in_colab():\n",
        "    url = \"https://gitlab.com/qworld/qeducation/qbook101/raw/main/qworld/include/shor.py\"\n",
        "    !wget --no-cache -O shor.py {url}\n",
        "\n",
        "    !pip install cirq"
      ]
    },
    {
      "cell_type": "markdown",
      "metadata": {
        "id": "XYXOp2EbjOtq"
      },
      "source": [
        "##### For positive integers $ x $ and $ N $ where $x<N$ with no common factors, order of $x$ is the smallest (least) positive integer $ r $ such that $x^r = 1\\Mod{N}$.\n",
        "\n",
        "In order finding algorithm, given $ x $ and $ N $, our goal is to find $ r $."
      ]
    },
    {
      "cell_type": "markdown",
      "metadata": {
        "id": "qXSVw0CxjOtq"
      },
      "source": [
        "<h3>Task 1</h3>\n",
        "\n",
        "Let $x=5$ and $N=21$. Plot $x^ i \\Mod{N}$ for $i$ values between $1$ and $50$ and find the order of $x$."
      ]
    },
    {
      "cell_type": "code",
      "execution_count": 4,
      "metadata": {
        "id": "or1CUqjnjOtq",
        "outputId": "87e78d61-935d-453e-b338-4426ecb7dc6a",
        "colab": {
          "base_uri": "https://localhost:8080/",
          "height": 450
        }
      },
      "outputs": [
        {
          "output_type": "display_data",
          "data": {
            "text/plain": [
              "<Figure size 640x480 with 1 Axes>"
            ],
            "image/png": "[encoded data removed]"
          },
          "metadata": {}
        }
      ],
      "source": [
        "import matplotlib.pyplot as plt\n",
        "import numpy as np\n",
        "\n",
        "x = 5\n",
        "N = 21\n",
        "xs = []\n",
        "for i in range(50): xs.append(pow(x, i, N))\n",
        "plt.plot(xs)\n",
        "plt.show()"
      ]
    },
    {
      "cell_type": "markdown",
      "metadata": {
        "id": "HeZKUOrsjOtq"
      },
      "source": [
        "To check out our solution, run the next cell:"
      ]
    },
    {
      "cell_type": "code",
      "execution_count": 3,
      "metadata": {
        "id": "aXSPZqDRjOtq",
        "outputId": "539ce7ae-ba64-4092-929e-6652527909a9",
        "colab": {
          "base_uri": "https://localhost:8080/",
          "height": 37
        }
      },
      "outputs": [
        {
          "output_type": "display_data",
          "data": {
            "text/plain": [
              "<IPython.core.display.Javascript object>"
            ],
            "application/javascript": [
              "window.open(\"https://colab.research.google.com/drive/1vmO57cdCWd9MPl4K9zQ5lx2pqnwv3Zz_?usp=sharing#scrollTo=V1hSncbJg9re\");"
            ]
          },
          "metadata": {}
        }
      ],
      "source": [
        "SolutionToTask1()  # show solution for task 1"
      ]
    },
    {
      "cell_type": "markdown",
      "metadata": {
        "id": "5sDzjiCljOtq"
      },
      "source": [
        "We do not know any classical algorithm solving this problem in polynomial time in the input size (the number of bits specifying the inputs ≈ $ \\log N $).\n",
        "\n",
        "On the other hand, it can be solved efficiently by using the phase estimation algorithm."
      ]
    },
    {
      "cell_type": "markdown",
      "metadata": {
        "id": "zngiF53mjOtr"
      },
      "source": [
        "## Idea\n",
        "\n",
        "The pair $ (N,x) $ is given, where $ 1 < x < N $ and $ gcd(N,x) = 1 $ (they do not have any common factor greater than 1).\n",
        "\n",
        "Let $ L= \\big \\lceil  \\log N \\big \\rceil $\n",
        "\n",
        "Then, $ U_x $ is a classical reversible (and so quantum) operator which maps $ U_x \\ket{y} \\rightarrow \\ket{xy {\\Mod{N}}}$ where $y \\in \\{ 0, 1\\}^L$ and $ 0 \\leq  y\\leq N-1 $.\n",
        "\n",
        "We assume that $U \\ket{y} = \\ket{y}$ if $N \\leq y \\leq {2^L} - 1$.\n",
        "\n",
        "Even though we do not know the value of order $ r $, we know that $ U_x $ has some eigenvectors with eigenvalues having $ r $ as a part of phase. Thus, we may use phase estimation algorithm to find $ r $."
      ]
    },
    {
      "cell_type": "markdown",
      "metadata": {
        "id": "Y6s87QDZjOtr"
      },
      "source": [
        "<h3>Task 2 (on paper)</h3>\n",
        "\n",
        "Let $\\ket{v_0}=\\ket{1 \\Mod{N}}+\\ket{x\\Mod{N}}+\\ket{x^2\\Mod{N}}+ \\cdots + \\ket{x^{r-1}\\Mod{N}}$.\n",
        "\n",
        "Verify that $ \\ket{v_0} $ is an eigenvector of $ U_x $ with eigenvalue 1.\n",
        "\n",
        "Let $ \\omega = e^{2 \\pi i /r} $.\n",
        "\n",
        "We define $\\ket{v_1}=\\ket{1 \\Mod{N}}+ \\omega^{-1}\\ket{x\\Mod{N}}+\\omega^{-2}\\ket{x^2\\Mod{N}}+ \\cdots + \\omega^{-(r-1)}  \\ket{x^{r-1}\\Mod{N}}$\n",
        "\n",
        "Verify that $ \\ket{v_1} $ is also an eigenvector of $ U_x $ with eigenvalue $ \\omega $."
      ]
    },
    {
      "cell_type": "markdown",
      "metadata": {
        "id": "xs2lYN7ZjOtr"
      },
      "source": [
        "To check out our solution, run the next cell:"
      ]
    },
    {
      "cell_type": "code",
      "execution_count": null,
      "metadata": {
        "id": "ZXq1L4Z5jOtr"
      },
      "outputs": [],
      "source": [
        "SolutionToTask2()  # show solution for task 2"
      ]
    },
    {
      "cell_type": "markdown",
      "metadata": {
        "id": "W4SR_CstjOtr"
      },
      "source": [
        "## A special set of eigenvectors\n",
        "\n",
        "Here are $ r $ eigenvectors of $ U_x $, where $ \\omega = e^{\\frac{2 \\pi i}{r}} $.\n",
        "\n",
        "$\n",
        "    \\begin{array}{rcl}\n",
        "    \\ket{u_0} & = &\n",
        "        \\dfrac{1}{\\sqrt{r}} \\mypar{\n",
        "        \\dfrac{ \\ket{1 \\Mod{N}} }{\\omega^0}+\n",
        "        \\dfrac{ \\ket{x \\Mod{N}} }{\\omega^0}+\n",
        "        \\dfrac{ \\ket{x^2\\Mod{N}} }{\\omega^0}+ \\cdots +\n",
        "        \\dfrac{ \\ket{x^{r-1}\\Mod{N}} }{\\omega^0}\n",
        "        }  \\\\\n",
        "    \\ket{u_1} & = &\n",
        "        \\dfrac{1}{\\sqrt{r}} \\mypar{\n",
        "        \\dfrac{ \\ket{1 \\Mod{N}} }{\\omega^0}+\n",
        "        \\dfrac{ \\ket{x \\Mod{N}} }{\\omega^1}+\n",
        "        \\dfrac{ \\ket{x^2\\Mod{N}} }{\\omega^2}+ \\cdots +\n",
        "        \\dfrac{ \\ket{x^{r-1}\\Mod{N}} }{\\omega^{r-1}}\n",
        "        }  \\\\\n",
        "    \\ket{u_2} & = &\n",
        "        \\dfrac{1}{\\sqrt{r}} \\mypar{\n",
        "        \\dfrac{ \\ket{1 \\Mod{N}} }{\\omega^0}+\n",
        "        \\dfrac{ \\ket{x \\Mod{N}} }{\\omega^2}+\n",
        "        \\dfrac{ \\ket{x^2\\Mod{N}} }{\\omega^4}+ \\cdots +\n",
        "        \\dfrac{ \\ket{x^{r-1}\\Mod{N}} }{\\omega^{2(r-1)}}\n",
        "        }  \\\\\n",
        "        \\vdots ~~~ & \\vdots & ~~~~~~~~~~~~~~ \\vdots \\\\\n",
        "     \\ket{u_{r-1}} & = &\n",
        "        \\dfrac{1}{\\sqrt{r}} \\mypar{\n",
        "        \\dfrac{ \\ket{1 \\Mod{N}} }{\\omega^{0}}+\n",
        "        \\dfrac{ \\ket{x \\Mod{N}} }{\\omega^{r-1}}+\n",
        "        \\dfrac{ \\ket{x^2\\Mod{N}} }{\\omega^{2(r-1)}}+ \\cdots +\n",
        "        \\dfrac{ \\ket{x^{r-1}\\Mod{N}} }{\\omega^{(r-1)(r-1)}}\n",
        "        }  \\\\\n",
        "    \\end{array}\n",
        "$"
      ]
    },
    {
      "cell_type": "markdown",
      "metadata": {
        "id": "tdoh_6TbjOtr"
      },
      "source": [
        "Here each $ \\ket{u_s} $ is an eigenvector of $ U_x $ with eigenvalue $ \\omega^s = e^{ \\frac{2 \\pi i s}{r}} $, where  ($ 0 \\leq s \\leq r-1 $):\n",
        "\n",
        "$\n",
        "\\begin{array}{rcl}\n",
        "    U_x \\ket{u_s} & = & U_x \\dfrac{1}{\\sqrt{r}} \\mypar{\n",
        "        \\dfrac{ \\ket{1 \\Mod{N}} }{\\omega^{0}}+\n",
        "        \\dfrac{ \\ket{x \\Mod{N}} }{\\omega^{s}}+\n",
        "        \\dfrac{ \\ket{x^2\\Mod{N}} }{\\omega^{2s}}+ \\cdots +\n",
        "        \\dfrac{ \\ket{x^{r-1}\\Mod{N}} }{\\omega^{(r-1)s}} } \\\\\n",
        "        & = & \\dfrac{1}{\\sqrt{r}} \\mypar{\n",
        "        \\dfrac{ \\ket{x \\Mod{N}} }{\\omega^{0}}+\n",
        "        \\dfrac{ \\ket{x^2 \\Mod{N}} }{\\omega^{s}}+\n",
        "        \\dfrac{ \\ket{x^3\\Mod{N}} }{\\omega^{2s}}+ \\cdots +\n",
        "        \\dfrac{ \\ket{x^{r}\\Mod{N}} }{\\omega^{(r-1)s}} } \\\\\n",
        "        & = & \\dfrac{1}{\\sqrt{r}} \\mypar{\n",
        "        \\dfrac{ \\ket{1 \\Mod{N}} }{\\omega^{(r-1)s}}+\n",
        "        \\dfrac{ \\ket{x \\Mod{N}} }{\\omega^{0}}+\n",
        "        \\dfrac{ \\ket{x^2\\Mod{N}} }{\\omega^{s}}+ \\cdots +\n",
        "        \\dfrac{ \\ket{x^{r-1}\\Mod{N}} }{\\omega^{(r-2)s}} } \\\\\n",
        "        & = & \\dfrac{\\omega^s}{\\sqrt{r}} \\mypar{\n",
        "        \\dfrac{ \\ket{1 \\Mod{N}} }{\\omega^{rs}}+\n",
        "        \\dfrac{ \\ket{x \\Mod{N}} }{\\omega^{s}}+\n",
        "        \\dfrac{ \\ket{x^2\\Mod{N}} }{\\omega^{2s}}+ \\cdots +\n",
        "        \\dfrac{ \\ket{x^{r-1}\\Mod{N}} }{\\omega^{(r-1)s}} } \\\\\n",
        "        & = & \\dfrac{\\omega^s}{\\sqrt{r}} \\mypar{\n",
        "        \\dfrac{ \\ket{1 \\Mod{N}} }{\\omega^{0}}+\n",
        "        \\dfrac{ \\ket{x \\Mod{N}} }{\\omega^{s}}+\n",
        "        \\dfrac{ \\ket{x^2\\Mod{N}} }{\\omega^{2s}}+ \\cdots +\n",
        "        \\dfrac{ \\ket{x^{r-1}\\Mod{N}} }{\\omega^{(r-1)s}} } \\\\\n",
        "        & = & \\omega^s \\ket{u_s}\n",
        "\\end{array}\n",
        "$\n",
        "\n",
        "Remark that each $ \\ket{u_s} $ has length 1 and so a quantum state. Besides, they are pairwise orthonormal."
      ]
    },
    {
      "cell_type": "markdown",
      "metadata": {
        "id": "VwVE8vzqjOtr"
      },
      "source": [
        "Information about $ r $ is encoded inside the eigenvalues of the operator $ U_x $ and we will use phase estimation algorithm to estimate $ \\frac{s}{r} $. In order to apply phase estimation algorithm, we need to prepare the second register to hold state $ \\ket{u_s} $,  but there is a problem. The eigenvector has the variable $ r $ while our aim is to find $ r $. How will we prepare the eigenvector?"
      ]
    },
    {
      "cell_type": "markdown",
      "metadata": {
        "id": "gbBTwdGIjOtr"
      },
      "source": [
        "Instead, we will prepare a superposition of these eigenvectors $\\displaystyle \\frac{1}{\\sqrt{r}}\\sum_{s=0}^{r-1}\\ket{u_s}$."
      ]
    },
    {
      "cell_type": "markdown",
      "metadata": {
        "id": "rO2Z6DgZjOts"
      },
      "source": [
        "<h3>Task 3 (on paper)</h3>\n",
        "\n",
        "Show that $\\displaystyle \\frac{1}{\\sqrt{r}}\\sum_{s=0}^{r-1}\\ket{u_s}= \\ket{1}$."
      ]
    },
    {
      "cell_type": "markdown",
      "metadata": {
        "id": "szdWjamxjOts"
      },
      "source": [
        "To check out our solution, run the next cell:"
      ]
    },
    {
      "cell_type": "code",
      "execution_count": null,
      "metadata": {
        "id": "PA-fXQhwjOts"
      },
      "outputs": [],
      "source": [
        "SolutionToTask3()  # show solution for task 3"
      ]
    },
    {
      "cell_type": "markdown",
      "metadata": {
        "id": "vz4v4agQjOts"
      },
      "source": [
        "## Input vector\n",
        "\n",
        "Suppose that phase estimation algorithm takes state $\\ket{0}\\ket{u}$ to state $\\ket{\\tilde{\\phi_u}}\\ket{u}$. In this case given input $\\ket{0} \\sum_{u} c_u \\ket{u}$, algorithm outputs $\\sum_{u} c_u\\ket{\\tilde{\\phi_u}}\\ket{u}$.\n",
        "\n",
        "If $ t $ is chosen as previously, then it can be proven that the probability of measuring $\\phi_u$ accurate to $ n $ bits is at least $|c_u|^2(1- \\epsilon)$.\n",
        "\n",
        "Hence by combining this with Task 2, we can prepare the second register to hold state $\\ket{1}$ at the beginning of the algorithm."
      ]
    },
    {
      "cell_type": "markdown",
      "metadata": {
        "id": "x1cfnst9jOts"
      },
      "source": [
        "<h2>Procedure </h2>\n",
        "\n",
        "We use two registers with $ t $ and $ L $ qubits.\n",
        "\n",
        "We pick $ t = 2L + 1 + \\big \\lceil \\log \\big(2 + \\frac{1}{2\\epsilon}\\big) \\big \\rceil  $. (Choice of $ t $ will become clear later on.)"
      ]
    },
    {
      "cell_type": "markdown",
      "metadata": {
        "id": "fPpuftlTjOts"
      },
      "source": [
        "1) Initialize the registers as\n",
        "\n",
        "$\\displaystyle \\ket{\\psi_0} = \\frac{1}{\\sqrt{r}}\\sum_{s=0}^{r-1}\\ket{0}\\ket{u_s} =\\ket{0}\\ket{1} .$\n"
      ]
    },
    {
      "cell_type": "markdown",
      "metadata": {
        "id": "8IAVUIZejOts"
      },
      "source": [
        "Note that here by $ \\ket{0} $, we denote $ \\ket{0}^{\\otimes t} $ and by $ \\ket{1} $ we denote $ \\ket{0}^{L-1}\\ket{1} $.\n"
      ]
    },
    {
      "cell_type": "markdown",
      "metadata": {
        "id": "gUhcytsfjOts"
      },
      "source": [
        "2) Apply $ H $ and $ CU^{2^j} $ gates in the phase estimation algorithm.\n",
        "\n",
        "$ \\displaystyle\n",
        "\t\t\\ket{\\psi_1}=\\frac{1}{\\sqrt{r}}\\sum_{s=0}^{r-1}\\frac{1}{{2^{t/2}}}\\sum_{k=0}^{{2^t}-1}e^{\\frac{2{\\pi}i s k}{r}}\\ket{k}\\ket{u_s}\n",
        "$\n"
      ]
    },
    {
      "cell_type": "markdown",
      "metadata": {
        "id": "rvHM267WjOts"
      },
      "source": [
        "3) Apply Inverse QFT to the first register.\n",
        "\n",
        "$\\displaystyle\n",
        "\t\t\\frac{1}{\\sqrt{r}}\\sum_{s=0}^{r-1}\\ket{\\tilde{\\phi}}\\ket{u_s}\n",
        "$"
      ]
    },
    {
      "cell_type": "markdown",
      "metadata": {
        "id": "GLLN7j9qjOts"
      },
      "source": [
        "4) Measure the first register ($t$ qubits).\n",
        "\n",
        "For each $ s $ in the range $ 0,\\ldots, r-1 $, we obtain an estimate of the phase $\\tilde{\\phi} = \\frac{s}{r}$ accurate to $ 2L+1 $ bits with probability at least $ \\frac{1-\\epsilon}{r} $."
      ]
    },
    {
      "cell_type": "markdown",
      "metadata": {
        "id": "CK_e7X0SjOts"
      },
      "source": [
        "Note that if $r$ is not a power of 2, then it can not be expressed in the form $\\frac{x}{N}$ for some $ x $ and $ N=2^t $.\n"
      ]
    },
    {
      "cell_type": "markdown",
      "metadata": {
        "id": "Jj6IjpiijOts"
      },
      "source": [
        "5) Do post-processing by using classical computer.\n",
        "\n",
        "Now the question is how to find $ r $ from the estimate of $ s/r $?\n",
        "\n",
        "The answer is using continued fractions."
      ]
    },
    {
      "cell_type": "markdown",
      "metadata": {
        "id": "RzZBJlCnjOts"
      },
      "source": [
        "<h2>Continued Fractions</h2>\n",
        "\n",
        "Continued fractions is a representation of a real number by a sequence of (possibly infinite) integers by using expressions of the form:\n",
        "\n",
        "$\n",
        "\t[a_0,...a_n] = a_0 + \\frac{1}{a_1 + \\frac{1}{a_2 + \\frac{1}{...}}}.\n",
        "$\n"
      ]
    },
    {
      "cell_type": "markdown",
      "metadata": {
        "id": "tomYYhQTjOts"
      },
      "source": [
        "The rationals $a_0,a_0+\\frac{1}{a_1},a_0+\\frac{1}{a_1+\\frac{1}{a_2}},...$ are called the convergents. All convergents  can be found using $O(L^3)$ operations where $ L $ is the number of bits needed to express $ m $ and $ n $ in $ \\frac{m}{n} $.\n"
      ]
    },
    {
      "cell_type": "markdown",
      "metadata": {
        "id": "GC2YCmq3jOtt"
      },
      "source": [
        "### Example"
      ]
    },
    {
      "cell_type": "markdown",
      "metadata": {
        "id": "rmvtg7CYjOtt"
      },
      "source": [
        "$\\frac{25}{11}$  can be expressed as $\\frac{25}{11}=2+\\frac{3}{11}$. Continuing like this,\n",
        "\n",
        "\\begin{align*}\n",
        "\t\t=2+\\frac{1}{3+\\frac{2}{3}} = 2+\\frac{1}{3+\\frac{1}{\\frac{3}{2}}}\n",
        "\t\t\\end{align*}\n",
        "        \n",
        "        \n",
        "\n",
        "The resulting expression will be\n",
        "\n",
        "\\begin{align*}\n",
        "2+\\frac{1}{3+\\frac{1}{1 + \\frac{1}{2}}}\n",
        "\\end{align*}\n",
        "\n",
        "with the continued fraction expression $[2,3,1,2]$.\n",
        "\n",
        "\n",
        "The convergents are $c_1=2$, $c_2=2 + \\frac{1}{3} = \\frac{7}{3} $, $c_3 = 2 + \\frac{1}{3 + \\frac{1}{1}} = \\frac{9}{4}$, $c_4 = 2+ \\frac{ 1}{3 + \\frac{1}{1 + \\frac{1}{2}}} = \\frac{25}{11}$"
      ]
    },
    {
      "cell_type": "markdown",
      "metadata": {
        "id": "aYbeT0dyjOtt"
      },
      "source": [
        "We defined two functions to calculate continued fractions expression and the convergents, which will be useful in the following tasks.\n",
        "\n",
        "- <i>contFrac</i> takes a parameter $N$ and returns the continued fractions expressions of $N$ as a list\n",
        "- <i>convergents</i> takes as paremeter the continued fractions expression and returns the list of convergents"
      ]
    },
    {
      "cell_type": "markdown",
      "metadata": {
        "id": "XU6lxGBijOtt"
      },
      "source": [
        "Run the following cell to load the functions."
      ]
    },
    {
      "cell_type": "code",
      "execution_count": 5,
      "metadata": {
        "id": "t80tsLY6jOtt",
        "outputId": "a49efd7b-4512-4e9a-aa35-5359feef765a",
        "colab": {
          "base_uri": "https://localhost:8080/",
          "height": 54
        }
      },
      "outputs": [
        {
          "output_type": "display_data",
          "data": {
            "text/plain": [
              "<Figure size 640x480 with 0 Axes>"
            ]
          },
          "metadata": {}
        }
      ],
      "source": [
        "quantum_file = path_files+\"shor.py\"\n",
        "%run $quantum_file"
      ]
    },
    {
      "cell_type": "markdown",
      "metadata": {
        "id": "WlmbGQL5jOtt"
      },
      "source": [
        "Below you see example usage of <i>contFrac</i> and <i>convergents</i> methods."
      ]
    },
    {
      "cell_type": "code",
      "execution_count": 6,
      "metadata": {
        "id": "SG3TtQayjOt3",
        "outputId": "685d8f5e-86a5-4df8-b6d5-623c2065c270",
        "colab": {
          "base_uri": "https://localhost:8080/"
        }
      },
      "outputs": [
        {
          "output_type": "stream",
          "name": "stdout",
          "text": [
            "[2, 3, 1, 2]\n"
          ]
        }
      ],
      "source": [
        "cf = contFrac(25/11)\n",
        "print(cf)"
      ]
    },
    {
      "cell_type": "code",
      "execution_count": 7,
      "metadata": {
        "id": "zDqWOB_kjOt4",
        "outputId": "b6f478b3-d7f9-44c0-822e-b104a98680fb",
        "colab": {
          "base_uri": "https://localhost:8080/"
        }
      },
      "outputs": [
        {
          "output_type": "stream",
          "name": "stdout",
          "text": [
            "[Fraction(2, 1), Fraction(7, 3), Fraction(9, 4), Fraction(25, 11)]\n"
          ]
        }
      ],
      "source": [
        "cv = convergents(cf)\n",
        "print(cv)"
      ]
    },
    {
      "cell_type": "code",
      "execution_count": 8,
      "metadata": {
        "id": "jTEN7oYfjOt4",
        "outputId": "7dc3d3ae-55b6-4816-b53c-9323b67b0cb3",
        "colab": {
          "base_uri": "https://localhost:8080/"
        }
      },
      "outputs": [
        {
          "output_type": "stream",
          "name": "stdout",
          "text": [
            "[Fraction(1, 1), Fraction(5, 4), Fraction(11, 9), Fraction(16, 13)]\n"
          ]
        }
      ],
      "source": [
        "cv = convergents([1,4,2,1])\n",
        "print(cv)"
      ]
    },
    {
      "cell_type": "markdown",
      "metadata": {
        "id": "ldLOvvGGjOt4"
      },
      "source": [
        "<h3>Task 4</h3>\n",
        "\n",
        "Find the continued fractions expression for $\\frac{31}{13}$ and the convergents first using pen and paper and then using the functions defined above."
      ]
    },
    {
      "cell_type": "code",
      "execution_count": 9,
      "metadata": {
        "id": "V6VNNecwjOt4",
        "outputId": "19e83bcc-be8d-4503-fd1b-c4cff6621b1d",
        "colab": {
          "base_uri": "https://localhost:8080/"
        }
      },
      "outputs": [
        {
          "output_type": "stream",
          "name": "stdout",
          "text": [
            "[2, 2, 1, 1, 2]\n",
            "[Fraction(2, 1), Fraction(5, 2), Fraction(7, 3), Fraction(12, 5), Fraction(31, 13)]\n"
          ]
        }
      ],
      "source": [
        "#Your code here\n",
        "cf = contFrac(31/13)\n",
        "print(cf)\n",
        "cv = convergents(cf)\n",
        "print(cv)"
      ]
    },
    {
      "cell_type": "markdown",
      "metadata": {
        "id": "D3ypS8x4jOt4"
      },
      "source": [
        "To check out our solution, run the next cell:"
      ]
    },
    {
      "cell_type": "code",
      "execution_count": null,
      "metadata": {
        "id": "4l_rPn16jOt4"
      },
      "outputs": [],
      "source": [
        "SolutionToTask4()  # show solution for task 4"
      ]
    },
    {
      "cell_type": "markdown",
      "metadata": {
        "id": "zVToUhbjjOt4"
      },
      "source": [
        "### Choice of t (optional)\n",
        "\n",
        "Following theorem guarantees that the continued fractions algorithm yields a good estimate for $\\phi$.\n",
        "\n",
        "<b>Theorem:</b> \tSuppose $\\frac{s}{r}$ is a rational number so that  $\\displaystyle\\left |\\frac{s}{r}-\\phi \\right | \\leq \\frac{1}{2r^2}$. Then $\\displaystyle \\frac{s}{r}$ is a convergent of the continued fraction for $\\phi$, and thus can be computed in $O(L^3)$ operations, using continued fraction algorithm."
      ]
    },
    {
      "cell_type": "markdown",
      "metadata": {
        "id": "Uq04e6r5jOt4"
      },
      "source": [
        "Remember that $\\phi$ is an approximation to $\\frac{s}{r}$ accurate to $2L+1$ bits due to our choice of $t$. Since $r\\leq N \\leq 2^L$, we get $\n",
        "\\left |\\frac{s}{r}-\\phi \\right | \\leq \\frac{1}{2^{2L+1}} \\leq \\frac{1}{2r^2}. $"
      ]
    },
    {
      "cell_type": "markdown",
      "metadata": {
        "id": "xilbzUTwjOt4"
      },
      "source": [
        "\n",
        "Now according to the theorem, $\\frac{s}{r}$ is a convergent of the continued fraction for $\\phi$.\n",
        "\n",
        "    "
      ]
    },
    {
      "cell_type": "markdown",
      "metadata": {
        "id": "gRxtb-r3jOt4"
      },
      "source": [
        "Computing the convergents we have candidate values for $s$ and $r$ and then we can test if $x^r=1 \\Mod{N}$. (Remember that we have more than one convergent and we compute each one of them but not all of them will give us the correct $r$ value. So it might be the case that we fail in some cases)"
      ]
    },
    {
      "cell_type": "markdown",
      "metadata": {
        "id": "gdX2YSLsjOt4"
      },
      "source": [
        "<h2> Modular Exponentiation</h2>\n",
        "\n",
        "In the phase estimation procedure, we have assumed that we were given operators $U$, $CU$ and their powers as blackbox functions. In reality, $ CU^{2^j} $ operators should be implemented efficiently to have a speedup against the classical algorithm.\n",
        "\n",
        "Note that to compute $x^{2^j}$, you don't need to perform $2^j$ multiplications. Once you obtain $x^2$, you can obtain $x^4$, $x^8$ so that you need only log$j$ multiplications. Nevertheless, multiplication involves implementation of addition and carries.\n",
        "\n",
        "The important thing is that it can be performed using $ O(L^3) $ gates by using a procedure known as modular exponentiation. This is a technical procedure and instead we will continue implementing $ CU^{2^j} $ operators with the built-in functionality of $Cirq$.\n",
        "\n",
        "_More details about modular exponentiation can be found in https://arxiv.org/pdf/1207.0511.pdf._"
      ]
    },
    {
      "cell_type": "markdown",
      "metadata": {
        "id": "ms1r9uLqjOt4"
      },
      "source": [
        "<a id =\"task5\"></a>\n",
        "<h3>Task 5</h3>\n",
        "\n",
        "You are given a function named `opUx` which returns the gate implementing $ U_x \\ket{y} \\rightarrow \\ket{xy {\\Mod{N}}}$."
      ]
    },
    {
      "cell_type": "code",
      "execution_count": 10,
      "metadata": {
        "id": "QKS9Ir4sjOt4"
      },
      "outputs": [],
      "source": [
        "import cirq\n",
        "import numpy as np\n",
        "\n",
        "def opUx(N, x):\n",
        "\n",
        "    k = 1\n",
        "    while(N > 2**k):\n",
        "        k = k + 1\n",
        "\n",
        "    u = np.zeros([2**k, 2**k], dtype = int)\n",
        "\n",
        "    for i in range(N):\n",
        "        u[x*i % N][i] = 1\n",
        "    for i in range(N, 2**k):\n",
        "        u[i][i] = 1\n",
        "\n",
        "    return cirq.MatrixGate(u, name='Ux').controlled()\n"
      ]
    },
    {
      "cell_type": "code",
      "source": [
        "from cirq.circuits import InsertStrategy\n",
        "\n",
        "def myInvQFT(qubits):\n",
        "  N = len(qubits)\n",
        "  circuit = cirq.Circuit()\n",
        "  for i in range(N // 2):\n",
        "    circuit.append(cirq.SWAP(qubits[i], qubits[N-1-i]), strategy = InsertStrategy.NEW)\n",
        "  for i in range(N-1, -1, -1):\n",
        "    phase_divisor = 2 ** (N-i)\n",
        "    for j in range(N-1, i, -1):\n",
        "      circuit.append(cirq.CZPowGate(exponent = -2 / phase_divisor).on(qubits[j], qubits[i]), strategy = InsertStrategy.NEW)\n",
        "      phase_divisor = phase_divisor / 2\n",
        "    circuit.append(cirq.H(qubits[i]), strategy = InsertStrategy.NEW)\n",
        "  return circuit"
      ],
      "metadata": {
        "id": "EWFWFJFfl_VX"
      },
      "execution_count": 11,
      "outputs": []
    },
    {
      "cell_type": "markdown",
      "metadata": {
        "id": "qvvlQD2UjOt4"
      },
      "source": [
        "_In order to use the function you should pass $N$ and $x$ as parameter: `Ux = opUx(N, x)`._"
      ]
    },
    {
      "cell_type": "markdown",
      "metadata": {
        "id": "19MmJKVHjOt4"
      },
      "source": [
        "For $N=20$ and $x=3$, use phase estimation procedure to find the estimates for $\\frac{s}{r}$.\n",
        "\n",
        "Pick the correct values for $t$ and $L$.\n",
        "\n",
        "Use `myInvQFT` function you have already implemented [here](https://colab.research.google.com/drive/1C0_tK9KD7iHrsmwqdsHtG6i_J0CYs85o?usp=sharing#scrollTo=leUvkPgoA7mb).\n",
        "\n",
        "Detect the outcomes with peak frequencies (will be used in the next task)."
      ]
    },
    {
      "cell_type": "code",
      "execution_count": 12,
      "metadata": {
        "id": "eKnNixPJjOt5"
      },
      "outputs": [],
      "source": [
        "#\n",
        "# Your code here\n",
        "#\n",
        "from math import ceil, log2, pi\n",
        "N = 20\n",
        "x = 3\n",
        "L = ceil(log2(N))\n",
        "e = 0.1\n",
        "t = 2*L + 1 + ceil(log2(2 + 1/(2*e)))"
      ]
    },
    {
      "cell_type": "code",
      "source": [
        "from cirq import X, measure\n",
        "\n",
        "circuit = cirq.Circuit()\n",
        "\n",
        "reg1 = cirq.LineQubit.range(t)\n",
        "reg2 = cirq.LineQubit.range(t, t+L)\n",
        "\n",
        "circuit.append(cirq.H.on_each(*reg1))\n",
        "circuit.append(cirq.X(reg2[-1]))\n",
        "\n",
        "Ux = opUx(N, x)\n",
        "\n",
        "for j in range(t):\n",
        "  Uxj = Ux**(2**j)\n",
        "  circuit.append(Uxj(reg1[t-j-1], *reg2))\n",
        "\n",
        "circuit = circuit + myInvQFT(reg1)\n",
        "circuit.append(measure(*reg1, key='result'))\n",
        "\n",
        "sim = cirq.Simulator()\n",
        "samples = sim.run(circuit, repetitions = 1000)\n",
        "\n",
        "def bitstring(bits):\n",
        "  return \"\".join(str(int(b)) for b in bits)\n",
        "\n",
        "print(samples.histogram(key = 'result', fold_func = bitstring))\n",
        "outcomes = samples.histogram(key = 'result')\n",
        "print(outcomes)\n",
        "\n",
        "check = []\n",
        "for outcome in outcomes:\n",
        "  print(f\"{outcome} \\tobserved {outcomes[outcome]} times\")\n",
        "  check.append(outcome)\n",
        "print(check)"
      ],
      "metadata": {
        "id": "JYPz7X0rqYho",
        "outputId": "441d8af3-3792-4786-d638-fe36b287a049",
        "colab": {
          "base_uri": "https://localhost:8080/"
        }
      },
      "execution_count": 14,
      "outputs": [
        {
          "output_type": "stream",
          "name": "stdout",
          "text": [
            "Counter({'10000000000000': 259, '11000000000000': 250, '00000000000000': 247, '01000000000000': 244})\n",
            "Counter({8192: 259, 12288: 250, 0: 247, 4096: 244})\n",
            "0 \tobserved 247 times\n",
            "4096 \tobserved 244 times\n",
            "8192 \tobserved 259 times\n",
            "12288 \tobserved 250 times\n",
            "[0, 4096, 8192, 12288]\n"
          ]
        }
      ]
    },
    {
      "cell_type": "markdown",
      "metadata": {
        "id": "ihGql4HkjOt5"
      },
      "source": [
        "To check out our solution, run the next cell:"
      ]
    },
    {
      "cell_type": "code",
      "execution_count": null,
      "metadata": {
        "id": "iIR6O3ypjOt5"
      },
      "outputs": [],
      "source": [
        "SolutionToTask5()  # show solution for task 5"
      ]
    },
    {
      "cell_type": "markdown",
      "metadata": {
        "id": "LaTe0QtyjOt5"
      },
      "source": [
        "<a id =\"task6\"></a>\n",
        "<h3>Task 6</h3>\n",
        "\n",
        "For each one of the possible outcomes in Task 5, try to find out the value of $r$ using continued fractions algorithm.\n",
        "\n",
        "You can use the functions defined above."
      ]
    },
    {
      "cell_type": "code",
      "execution_count": 16,
      "metadata": {
        "id": "eDnM4U2ujOt5",
        "outputId": "8a4b612e-1943-4633-aaa0-a62354f8a11f",
        "colab": {
          "base_uri": "https://localhost:8080/"
        }
      },
      "outputs": [
        {
          "output_type": "stream",
          "name": "stdout",
          "text": [
            "0 \t [Fraction(0, 1)]\n",
            "4096 \t [Fraction(0, 1), Fraction(1, 4)]\n",
            "8192 \t [Fraction(0, 1), Fraction(1, 2)]\n",
            "12288 \t [Fraction(0, 1), Fraction(1, 1), Fraction(3, 4)]\n"
          ]
        }
      ],
      "source": [
        "#\n",
        "# Your code here\n",
        "#\n",
        "for outcome in check:\n",
        "  cf = contFrac(outcome/(2**t))\n",
        "  cv = convergents(cf)\n",
        "  print(f\"{outcome} \\t {cv}\")"
      ]
    },
    {
      "cell_type": "markdown",
      "metadata": {
        "id": "aBwYobCzjOt5"
      },
      "source": [
        "To check out our solution, run the next cell:"
      ]
    },
    {
      "cell_type": "code",
      "execution_count": null,
      "metadata": {
        "id": "zes7qUjWjOt5"
      },
      "outputs": [],
      "source": [
        "SolutionToTask6()  # show solution for task 6"
      ]
    },
    {
      "cell_type": "markdown",
      "metadata": {
        "id": "ZlpT2v_VjOt5"
      },
      "source": [
        "<h2>Remarks about the algorithm</h2>\n",
        "\n",
        "The algorithm might produce a bad estimate to $\\frac{s}{r}$ which occurs with probability at most $ \\epsilon $. We can decrease $ \\epsilon $ with the cost of increasing the size of the circuit.\n",
        "\n",
        "The numbers $s$ and $r$ may have a common factor, and we may get $r'$ (which is a factor of $r$) instead of $r$. Nevertheless, the number of primes which are less than $r$ is at least $\\frac{r}{2}\\log r$. With a constant number of repetitions of the algorithm, one can obtain $s$ and $r$ which are relatively prime with high probability.\n",
        "\n",
        "Overall, we have an algorithm which uses $O(L^3)$ gates, $ O(L) $ qubits and constant repetitions.\n",
        "- Hadamard operation at the beginning requires $ O(L) $ gates\n",
        "- $ O(L^2) $ gates are required by $QFT^\\dagger $\n",
        "- $ O(L^3) $ gates are needed for modular exponentiation\n",
        "- Continued fraction algorithm requires $ O(L^3) $ classical processing\n",
        "\n",
        "The best classical algorithm for order finding is of exponential time while we have a polynomial size quantum circuit for order finding."
      ]
    }
  ],
  "metadata": {
    "kernelspec": {
      "display_name": "Python 3 (ipykernel)",
      "language": "python",
      "name": "python3"
    },
    "language_info": {
      "codemirror_mode": {
        "name": "ipython",
        "version": 3
      },
      "file_extension": ".py",
      "mimetype": "text/x-python",
      "name": "python",
      "nbconvert_exporter": "python",
      "pygments_lexer": "ipython3",
      "version": "3.11.4"
    },
    "colab": {
      "provenance": [],
      "collapsed_sections": [
        "shsGvhL4jOtp"
      ],
      "include_colab_link": true
    }
  },
  "nbformat": 4,
  "nbformat_minor": 0
}