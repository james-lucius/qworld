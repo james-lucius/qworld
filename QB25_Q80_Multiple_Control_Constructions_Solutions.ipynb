{
  "cells": [
    {
      "cell_type": "markdown",
      "metadata": {
        "id": "view-in-github",
        "colab_type": "text"
      },
      "source": [
        "<a href=\"https://colab.research.google.com/github/james-lucius/qworld/blob/main/QB25_Q80_Multiple_Control_Constructions_Solutions.ipynb\" target=\"_parent\"><img src=\"https://colab.research.google.com/assets/colab-badge.svg\" alt=\"Open In Colab\"/></a>"
      ]
    },
    {
      "cell_type": "markdown",
      "metadata": {
        "id": "DObiXSr6YSTP"
      },
      "source": [
        "<a href=\"https://qworld.net\" target=\"_blank\" align=\"left\"><img src=\"https://gitlab.com/qworld/qeducation/qbook101/raw/main/qworld/images/header.jpg\" align=\"left\"></a>\n",
        "$ \\newcommand{\\bra}[1]{\\langle #1|} $\n",
        "$ \\newcommand{\\ket}[1]{|#1\\rangle} $\n",
        "$ \\newcommand{\\braket}[2]{\\langle #1|#2\\rangle} $\n",
        "$ \\newcommand{\\dot}[2]{ #1 \\cdot #2} $\n",
        "$ \\newcommand{\\biginner}[2]{\\left\\langle #1,#2\\right\\rangle} $\n",
        "$ \\newcommand{\\mymatrix}[2]{\\left( \\begin{array}{#1} #2\\end{array} \\right)} $\n",
        "$ \\newcommand{\\myvector}[1]{\\mymatrix{c}{#1}} $\n",
        "$ \\newcommand{\\myrvector}[1]{\\mymatrix{r}{#1}} $\n",
        "$ \\newcommand{\\mypar}[1]{\\left( #1 \\right)} $\n",
        "$ \\newcommand{\\mybigpar}[1]{ \\Big( #1 \\Big)} $\n",
        "$ \\newcommand{\\sqrttwo}{\\frac{1}{\\sqrt{2}}} $\n",
        "$ \\newcommand{\\dsqrttwo}{\\dfrac{1}{\\sqrt{2}}} $\n",
        "$ \\newcommand{\\onehalf}{\\frac{1}{2}} $\n",
        "$ \\newcommand{\\donehalf}{\\dfrac{1}{2}} $\n",
        "$ \\newcommand{\\hadamard}{ \\mymatrix{rr}{ \\sqrttwo & \\sqrttwo \\\\ \\sqrttwo & -\\sqrttwo }} $\n",
        "$ \\newcommand{\\vzero}{\\myvector{1\\\\0}} $\n",
        "$ \\newcommand{\\vone}{\\myvector{0\\\\1}} $\n",
        "$ \\newcommand{\\stateplus}{\\myvector{ \\sqrttwo \\\\  \\sqrttwo } } $\n",
        "$ \\newcommand{\\stateminus}{ \\myrvector{ \\sqrttwo \\\\ -\\sqrttwo } } $\n",
        "$ \\newcommand{\\myarray}[2]{ \\begin{array}{#1}#2\\end{array}} $\n",
        "$ \\newcommand{\\X}{ \\mymatrix{cc}{0 & 1 \\\\ 1 & 0}  } $\n",
        "$ \\newcommand{\\I}{ \\mymatrix{rr}{1 & 0 \\\\ 0 & 1}  } $\n",
        "$ \\newcommand{\\Z}{ \\mymatrix{rr}{1 & 0 \\\\ 0 & -1}  } $\n",
        "$ \\newcommand{\\Htwo}{ \\mymatrix{rrrr}{ \\frac{1}{2} & \\frac{1}{2} & \\frac{1}{2} & \\frac{1}{2} \\\\ \\frac{1}{2} & -\\frac{1}{2} & \\frac{1}{2} & -\\frac{1}{2} \\\\ \\frac{1}{2} & \\frac{1}{2} & -\\frac{1}{2} & -\\frac{1}{2} \\\\ \\frac{1}{2} & -\\frac{1}{2} & -\\frac{1}{2} & \\frac{1}{2} } } $\n",
        "$ \\newcommand{\\CNOT}{ \\mymatrix{cccc}{1 & 0 & 0 & 0 \\\\ 0 & 1 & 0 & 0 \\\\ 0 & 0 & 0 & 1 \\\\ 0 & 0 & 1 & 0} } $\n",
        "$ \\newcommand{\\norm}[1]{ \\left\\lVert #1 \\right\\rVert } $\n",
        "$ \\newcommand{\\pstate}[1]{ \\lceil \\mspace{-1mu} #1 \\mspace{-1.5mu} \\rfloor } $\n",
        "$ \\newcommand{\\greenbit}[1] {\\mathbf{{\\color{green}#1}}} $\n",
        "$ \\newcommand{\\bluebit}[1] {\\mathbf{{\\color{blue}#1}}} $\n",
        "$ \\newcommand{\\redbit}[1] {\\mathbf{{\\color{red}#1}}} $\n",
        "$ \\newcommand{\\brownbit}[1] {\\mathbf{{\\color{brown}#1}}} $\n",
        "$ \\newcommand{\\blackbit}[1] {\\mathbf{{\\color{black}#1}}} $"
      ]
    },
    {
      "cell_type": "markdown",
      "metadata": {
        "id": "xjdgymxeYSTS"
      },
      "source": [
        "_prepared by Maksim Dimitrijev and Abuzer Yakaryilmaz_"
      ]
    },
    {
      "cell_type": "markdown",
      "metadata": {
        "id": "vgXnwirqYSTS"
      },
      "source": [
        "<font size=\"28px\" style=\"font-size:28px;\" align=\"left\"><b> <font color=\"blue\"> Solutions for </font> Multiple Control Constructions </b></font>\n",
        "<br>\n",
        "<br><br>"
      ]
    },
    {
      "cell_type": "markdown",
      "metadata": {
        "jp-MarkdownHeadingCollapsed": true,
        "id": "tc9Jx8-XYSTS"
      },
      "source": [
        "##### <font color=\"#08b806\">Please execute the following cell, it is necessary to distinguish between your local environment and Google Colab's"
      ]
    },
    {
      "cell_type": "code",
      "execution_count": 1,
      "metadata": {
        "id": "38Z6QixdYSTT",
        "outputId": "8f4b57b9-9989-446c-ce93-05cd93e2a79a",
        "colab": {
          "base_uri": "https://localhost:8080/"
        }
      },
      "outputs": [
        {
          "output_type": "stream",
          "name": "stdout",
          "text": [
            "Requirement already satisfied: qiskit==0.43.3 in /usr/local/lib/python3.11/dist-packages (from qiskit[visualization]==0.43.3) (0.43.3)\n",
            "Requirement already satisfied: qiskit-terra==0.24.2 in /usr/local/lib/python3.11/dist-packages (from qiskit==0.43.3->qiskit[visualization]==0.43.3) (0.24.2)\n",
            "Requirement already satisfied: qiskit-aer==0.12.2 in /usr/local/lib/python3.11/dist-packages (from qiskit==0.43.3->qiskit[visualization]==0.43.3) (0.12.2)\n",
            "Requirement already satisfied: qiskit-ibmq-provider==0.20.2 in /usr/local/lib/python3.11/dist-packages (from qiskit==0.43.3->qiskit[visualization]==0.43.3) (0.20.2)\n",
            "Requirement already satisfied: matplotlib>=2.1 in /usr/local/lib/python3.11/dist-packages (from qiskit[visualization]==0.43.3) (3.10.0)\n",
            "Requirement already satisfied: ipywidgets>=7.3.0 in /usr/local/lib/python3.11/dist-packages (from qiskit[visualization]==0.43.3) (7.7.1)\n",
            "Requirement already satisfied: pydot in /usr/local/lib/python3.11/dist-packages (from qiskit[visualization]==0.43.3) (3.0.4)\n",
            "Requirement already satisfied: pillow>=4.2.1 in /usr/local/lib/python3.11/dist-packages (from qiskit[visualization]==0.43.3) (11.2.1)\n",
            "Requirement already satisfied: pylatexenc>=1.4 in /usr/local/lib/python3.11/dist-packages (from qiskit[visualization]==0.43.3) (2.10)\n",
            "Requirement already satisfied: seaborn>=0.9.0 in /usr/local/lib/python3.11/dist-packages (from qiskit[visualization]==0.43.3) (0.13.2)\n",
            "Requirement already satisfied: pygments>=2.4 in /usr/local/lib/python3.11/dist-packages (from qiskit[visualization]==0.43.3) (2.19.1)\n",
            "Requirement already satisfied: numpy>=1.16.3 in /usr/local/lib/python3.11/dist-packages (from qiskit-aer==0.12.2->qiskit==0.43.3->qiskit[visualization]==0.43.3) (1.23.5)\n",
            "Requirement already satisfied: scipy>=1.0 in /usr/local/lib/python3.11/dist-packages (from qiskit-aer==0.12.2->qiskit==0.43.3->qiskit[visualization]==0.43.3) (1.15.3)\n",
            "Requirement already satisfied: requests>=2.19 in /usr/local/lib/python3.11/dist-packages (from qiskit-ibmq-provider==0.20.2->qiskit==0.43.3->qiskit[visualization]==0.43.3) (2.32.3)\n",
            "Requirement already satisfied: requests-ntlm<=1.1.0 in /usr/local/lib/python3.11/dist-packages (from qiskit-ibmq-provider==0.20.2->qiskit==0.43.3->qiskit[visualization]==0.43.3) (1.1.0)\n",
            "Requirement already satisfied: urllib3>=1.21.1 in /usr/local/lib/python3.11/dist-packages (from qiskit-ibmq-provider==0.20.2->qiskit==0.43.3->qiskit[visualization]==0.43.3) (2.4.0)\n",
            "Requirement already satisfied: python-dateutil>=2.8.0 in /usr/local/lib/python3.11/dist-packages (from qiskit-ibmq-provider==0.20.2->qiskit==0.43.3->qiskit[visualization]==0.43.3) (2.9.0.post0)\n",
            "Requirement already satisfied: websocket-client>=1.5.1 in /usr/local/lib/python3.11/dist-packages (from qiskit-ibmq-provider==0.20.2->qiskit==0.43.3->qiskit[visualization]==0.43.3) (1.8.0)\n",
            "Requirement already satisfied: websockets>=10.0 in /usr/local/lib/python3.11/dist-packages (from qiskit-ibmq-provider==0.20.2->qiskit==0.43.3->qiskit[visualization]==0.43.3) (15.0.1)\n",
            "Requirement already satisfied: rustworkx>=0.12.0 in /usr/local/lib/python3.11/dist-packages (from qiskit-terra==0.24.2->qiskit==0.43.3->qiskit[visualization]==0.43.3) (0.16.0)\n",
            "Requirement already satisfied: ply>=3.10 in /usr/local/lib/python3.11/dist-packages (from qiskit-terra==0.24.2->qiskit==0.43.3->qiskit[visualization]==0.43.3) (3.11)\n",
            "Requirement already satisfied: psutil>=5 in /usr/local/lib/python3.11/dist-packages (from qiskit-terra==0.24.2->qiskit==0.43.3->qiskit[visualization]==0.43.3) (5.9.5)\n",
            "Requirement already satisfied: sympy>=1.3 in /usr/local/lib/python3.11/dist-packages (from qiskit-terra==0.24.2->qiskit==0.43.3->qiskit[visualization]==0.43.3) (1.13.1)\n",
            "Requirement already satisfied: dill>=0.3 in /usr/local/lib/python3.11/dist-packages (from qiskit-terra==0.24.2->qiskit==0.43.3->qiskit[visualization]==0.43.3) (0.3.7)\n",
            "Requirement already satisfied: stevedore>=3.0.0 in /usr/local/lib/python3.11/dist-packages (from qiskit-terra==0.24.2->qiskit==0.43.3->qiskit[visualization]==0.43.3) (5.4.1)\n",
            "Requirement already satisfied: symengine<0.10,>=0.9 in /usr/local/lib/python3.11/dist-packages (from qiskit-terra==0.24.2->qiskit==0.43.3->qiskit[visualization]==0.43.3) (0.9.2)\n",
            "Requirement already satisfied: ipykernel>=4.5.1 in /usr/local/lib/python3.11/dist-packages (from ipywidgets>=7.3.0->qiskit[visualization]==0.43.3) (6.17.1)\n",
            "Requirement already satisfied: ipython-genutils~=0.2.0 in /usr/local/lib/python3.11/dist-packages (from ipywidgets>=7.3.0->qiskit[visualization]==0.43.3) (0.2.0)\n",
            "Requirement already satisfied: traitlets>=4.3.1 in /usr/local/lib/python3.11/dist-packages (from ipywidgets>=7.3.0->qiskit[visualization]==0.43.3) (5.7.1)\n",
            "Requirement already satisfied: widgetsnbextension~=3.6.0 in /usr/local/lib/python3.11/dist-packages (from ipywidgets>=7.3.0->qiskit[visualization]==0.43.3) (3.6.10)\n",
            "Requirement already satisfied: ipython>=4.0.0 in /usr/local/lib/python3.11/dist-packages (from ipywidgets>=7.3.0->qiskit[visualization]==0.43.3) (7.34.0)\n",
            "Requirement already satisfied: jupyterlab-widgets>=1.0.0 in /usr/local/lib/python3.11/dist-packages (from ipywidgets>=7.3.0->qiskit[visualization]==0.43.3) (3.0.15)\n",
            "Requirement already satisfied: contourpy>=1.0.1 in /usr/local/lib/python3.11/dist-packages (from matplotlib>=2.1->qiskit[visualization]==0.43.3) (1.3.2)\n",
            "Requirement already satisfied: cycler>=0.10 in /usr/local/lib/python3.11/dist-packages (from matplotlib>=2.1->qiskit[visualization]==0.43.3) (0.12.1)\n",
            "Requirement already satisfied: fonttools>=4.22.0 in /usr/local/lib/python3.11/dist-packages (from matplotlib>=2.1->qiskit[visualization]==0.43.3) (4.58.4)\n",
            "Requirement already satisfied: kiwisolver>=1.3.1 in /usr/local/lib/python3.11/dist-packages (from matplotlib>=2.1->qiskit[visualization]==0.43.3) (1.4.8)\n",
            "Requirement already satisfied: packaging>=20.0 in /usr/local/lib/python3.11/dist-packages (from matplotlib>=2.1->qiskit[visualization]==0.43.3) (24.2)\n",
            "Requirement already satisfied: pyparsing>=2.3.1 in /usr/local/lib/python3.11/dist-packages (from matplotlib>=2.1->qiskit[visualization]==0.43.3) (3.2.3)\n",
            "Requirement already satisfied: pandas>=1.2 in /usr/local/lib/python3.11/dist-packages (from seaborn>=0.9.0->qiskit[visualization]==0.43.3) (2.2.2)\n",
            "Requirement already satisfied: debugpy>=1.0 in /usr/local/lib/python3.11/dist-packages (from ipykernel>=4.5.1->ipywidgets>=7.3.0->qiskit[visualization]==0.43.3) (1.8.0)\n",
            "Requirement already satisfied: jupyter-client>=6.1.12 in /usr/local/lib/python3.11/dist-packages (from ipykernel>=4.5.1->ipywidgets>=7.3.0->qiskit[visualization]==0.43.3) (6.1.12)\n",
            "Requirement already satisfied: matplotlib-inline>=0.1 in /usr/local/lib/python3.11/dist-packages (from ipykernel>=4.5.1->ipywidgets>=7.3.0->qiskit[visualization]==0.43.3) (0.1.7)\n",
            "Requirement already satisfied: nest-asyncio in /usr/local/lib/python3.11/dist-packages (from ipykernel>=4.5.1->ipywidgets>=7.3.0->qiskit[visualization]==0.43.3) (1.6.0)\n",
            "Requirement already satisfied: pyzmq>=17 in /usr/local/lib/python3.11/dist-packages (from ipykernel>=4.5.1->ipywidgets>=7.3.0->qiskit[visualization]==0.43.3) (24.0.1)\n",
            "Requirement already satisfied: tornado>=6.1 in /usr/local/lib/python3.11/dist-packages (from ipykernel>=4.5.1->ipywidgets>=7.3.0->qiskit[visualization]==0.43.3) (6.4.2)\n",
            "Requirement already satisfied: setuptools>=18.5 in /usr/local/lib/python3.11/dist-packages (from ipython>=4.0.0->ipywidgets>=7.3.0->qiskit[visualization]==0.43.3) (75.2.0)\n",
            "Requirement already satisfied: jedi>=0.16 in /usr/local/lib/python3.11/dist-packages (from ipython>=4.0.0->ipywidgets>=7.3.0->qiskit[visualization]==0.43.3) (0.19.2)\n",
            "Requirement already satisfied: decorator in /usr/local/lib/python3.11/dist-packages (from ipython>=4.0.0->ipywidgets>=7.3.0->qiskit[visualization]==0.43.3) (4.4.2)\n",
            "Requirement already satisfied: pickleshare in /usr/local/lib/python3.11/dist-packages (from ipython>=4.0.0->ipywidgets>=7.3.0->qiskit[visualization]==0.43.3) (0.7.5)\n",
            "Requirement already satisfied: prompt-toolkit!=3.0.0,!=3.0.1,<3.1.0,>=2.0.0 in /usr/local/lib/python3.11/dist-packages (from ipython>=4.0.0->ipywidgets>=7.3.0->qiskit[visualization]==0.43.3) (3.0.51)\n",
            "Requirement already satisfied: backcall in /usr/local/lib/python3.11/dist-packages (from ipython>=4.0.0->ipywidgets>=7.3.0->qiskit[visualization]==0.43.3) (0.2.0)\n",
            "Requirement already satisfied: pexpect>4.3 in /usr/local/lib/python3.11/dist-packages (from ipython>=4.0.0->ipywidgets>=7.3.0->qiskit[visualization]==0.43.3) (4.9.0)\n",
            "Requirement already satisfied: pytz>=2020.1 in /usr/local/lib/python3.11/dist-packages (from pandas>=1.2->seaborn>=0.9.0->qiskit[visualization]==0.43.3) (2025.2)\n",
            "Requirement already satisfied: tzdata>=2022.7 in /usr/local/lib/python3.11/dist-packages (from pandas>=1.2->seaborn>=0.9.0->qiskit[visualization]==0.43.3) (2025.2)\n",
            "Requirement already satisfied: six>=1.5 in /usr/local/lib/python3.11/dist-packages (from python-dateutil>=2.8.0->qiskit-ibmq-provider==0.20.2->qiskit==0.43.3->qiskit[visualization]==0.43.3) (1.17.0)\n",
            "Requirement already satisfied: charset-normalizer<4,>=2 in /usr/local/lib/python3.11/dist-packages (from requests>=2.19->qiskit-ibmq-provider==0.20.2->qiskit==0.43.3->qiskit[visualization]==0.43.3) (3.4.2)\n",
            "Requirement already satisfied: idna<4,>=2.5 in /usr/local/lib/python3.11/dist-packages (from requests>=2.19->qiskit-ibmq-provider==0.20.2->qiskit==0.43.3->qiskit[visualization]==0.43.3) (3.10)\n",
            "Requirement already satisfied: certifi>=2017.4.17 in /usr/local/lib/python3.11/dist-packages (from requests>=2.19->qiskit-ibmq-provider==0.20.2->qiskit==0.43.3->qiskit[visualization]==0.43.3) (2025.6.15)\n",
            "Requirement already satisfied: ntlm-auth>=1.0.2 in /usr/local/lib/python3.11/dist-packages (from requests-ntlm<=1.1.0->qiskit-ibmq-provider==0.20.2->qiskit==0.43.3->qiskit[visualization]==0.43.3) (1.5.0)\n",
            "Requirement already satisfied: cryptography>=1.3 in /usr/local/lib/python3.11/dist-packages (from requests-ntlm<=1.1.0->qiskit-ibmq-provider==0.20.2->qiskit==0.43.3->qiskit[visualization]==0.43.3) (43.0.3)\n",
            "Requirement already satisfied: pbr>=2.0.0 in /usr/local/lib/python3.11/dist-packages (from stevedore>=3.0.0->qiskit-terra==0.24.2->qiskit==0.43.3->qiskit[visualization]==0.43.3) (6.1.1)\n",
            "Requirement already satisfied: mpmath<1.4,>=1.1.0 in /usr/local/lib/python3.11/dist-packages (from sympy>=1.3->qiskit-terra==0.24.2->qiskit==0.43.3->qiskit[visualization]==0.43.3) (1.3.0)\n",
            "Requirement already satisfied: notebook>=4.4.1 in /usr/local/lib/python3.11/dist-packages (from widgetsnbextension~=3.6.0->ipywidgets>=7.3.0->qiskit[visualization]==0.43.3) (6.5.7)\n",
            "Requirement already satisfied: cffi>=1.12 in /usr/local/lib/python3.11/dist-packages (from cryptography>=1.3->requests-ntlm<=1.1.0->qiskit-ibmq-provider==0.20.2->qiskit==0.43.3->qiskit[visualization]==0.43.3) (1.17.1)\n",
            "Requirement already satisfied: parso<0.9.0,>=0.8.4 in /usr/local/lib/python3.11/dist-packages (from jedi>=0.16->ipython>=4.0.0->ipywidgets>=7.3.0->qiskit[visualization]==0.43.3) (0.8.4)\n",
            "Requirement already satisfied: jupyter-core>=4.6.0 in /usr/local/lib/python3.11/dist-packages (from jupyter-client>=6.1.12->ipykernel>=4.5.1->ipywidgets>=7.3.0->qiskit[visualization]==0.43.3) (5.8.1)\n",
            "Requirement already satisfied: jinja2 in /usr/local/lib/python3.11/dist-packages (from notebook>=4.4.1->widgetsnbextension~=3.6.0->ipywidgets>=7.3.0->qiskit[visualization]==0.43.3) (3.1.6)\n",
            "Requirement already satisfied: argon2-cffi in /usr/local/lib/python3.11/dist-packages (from notebook>=4.4.1->widgetsnbextension~=3.6.0->ipywidgets>=7.3.0->qiskit[visualization]==0.43.3) (25.1.0)\n",
            "Requirement already satisfied: nbformat in /usr/local/lib/python3.11/dist-packages (from notebook>=4.4.1->widgetsnbextension~=3.6.0->ipywidgets>=7.3.0->qiskit[visualization]==0.43.3) (5.10.4)\n",
            "Requirement already satisfied: nbconvert>=5 in /usr/local/lib/python3.11/dist-packages (from notebook>=4.4.1->widgetsnbextension~=3.6.0->ipywidgets>=7.3.0->qiskit[visualization]==0.43.3) (7.16.6)\n",
            "Requirement already satisfied: Send2Trash>=1.8.0 in /usr/local/lib/python3.11/dist-packages (from notebook>=4.4.1->widgetsnbextension~=3.6.0->ipywidgets>=7.3.0->qiskit[visualization]==0.43.3) (1.8.3)\n",
            "Requirement already satisfied: terminado>=0.8.3 in /usr/local/lib/python3.11/dist-packages (from notebook>=4.4.1->widgetsnbextension~=3.6.0->ipywidgets>=7.3.0->qiskit[visualization]==0.43.3) (0.18.1)\n",
            "Requirement already satisfied: prometheus-client in /usr/local/lib/python3.11/dist-packages (from notebook>=4.4.1->widgetsnbextension~=3.6.0->ipywidgets>=7.3.0->qiskit[visualization]==0.43.3) (0.22.1)\n",
            "Requirement already satisfied: nbclassic>=0.4.7 in /usr/local/lib/python3.11/dist-packages (from notebook>=4.4.1->widgetsnbextension~=3.6.0->ipywidgets>=7.3.0->qiskit[visualization]==0.43.3) (1.3.1)\n",
            "Requirement already satisfied: ptyprocess>=0.5 in /usr/local/lib/python3.11/dist-packages (from pexpect>4.3->ipython>=4.0.0->ipywidgets>=7.3.0->qiskit[visualization]==0.43.3) (0.7.0)\n",
            "Requirement already satisfied: wcwidth in /usr/local/lib/python3.11/dist-packages (from prompt-toolkit!=3.0.0,!=3.0.1,<3.1.0,>=2.0.0->ipython>=4.0.0->ipywidgets>=7.3.0->qiskit[visualization]==0.43.3) (0.2.13)\n",
            "Requirement already satisfied: pycparser in /usr/local/lib/python3.11/dist-packages (from cffi>=1.12->cryptography>=1.3->requests-ntlm<=1.1.0->qiskit-ibmq-provider==0.20.2->qiskit==0.43.3->qiskit[visualization]==0.43.3) (2.22)\n",
            "Requirement already satisfied: platformdirs>=2.5 in /usr/local/lib/python3.11/dist-packages (from jupyter-core>=4.6.0->jupyter-client>=6.1.12->ipykernel>=4.5.1->ipywidgets>=7.3.0->qiskit[visualization]==0.43.3) (4.3.8)\n",
            "Requirement already satisfied: notebook-shim>=0.2.3 in /usr/local/lib/python3.11/dist-packages (from nbclassic>=0.4.7->notebook>=4.4.1->widgetsnbextension~=3.6.0->ipywidgets>=7.3.0->qiskit[visualization]==0.43.3) (0.2.4)\n",
            "Requirement already satisfied: beautifulsoup4 in /usr/local/lib/python3.11/dist-packages (from nbconvert>=5->notebook>=4.4.1->widgetsnbextension~=3.6.0->ipywidgets>=7.3.0->qiskit[visualization]==0.43.3) (4.13.4)\n",
            "Requirement already satisfied: bleach!=5.0.0 in /usr/local/lib/python3.11/dist-packages (from bleach[css]!=5.0.0->nbconvert>=5->notebook>=4.4.1->widgetsnbextension~=3.6.0->ipywidgets>=7.3.0->qiskit[visualization]==0.43.3) (6.2.0)\n",
            "Requirement already satisfied: defusedxml in /usr/local/lib/python3.11/dist-packages (from nbconvert>=5->notebook>=4.4.1->widgetsnbextension~=3.6.0->ipywidgets>=7.3.0->qiskit[visualization]==0.43.3) (0.7.1)\n",
            "Requirement already satisfied: jupyterlab-pygments in /usr/local/lib/python3.11/dist-packages (from nbconvert>=5->notebook>=4.4.1->widgetsnbextension~=3.6.0->ipywidgets>=7.3.0->qiskit[visualization]==0.43.3) (0.3.0)\n",
            "Requirement already satisfied: markupsafe>=2.0 in /usr/local/lib/python3.11/dist-packages (from nbconvert>=5->notebook>=4.4.1->widgetsnbextension~=3.6.0->ipywidgets>=7.3.0->qiskit[visualization]==0.43.3) (3.0.2)\n",
            "Requirement already satisfied: mistune<4,>=2.0.3 in /usr/local/lib/python3.11/dist-packages (from nbconvert>=5->notebook>=4.4.1->widgetsnbextension~=3.6.0->ipywidgets>=7.3.0->qiskit[visualization]==0.43.3) (3.1.3)\n",
            "Requirement already satisfied: nbclient>=0.5.0 in /usr/local/lib/python3.11/dist-packages (from nbconvert>=5->notebook>=4.4.1->widgetsnbextension~=3.6.0->ipywidgets>=7.3.0->qiskit[visualization]==0.43.3) (0.10.2)\n",
            "Requirement already satisfied: pandocfilters>=1.4.1 in /usr/local/lib/python3.11/dist-packages (from nbconvert>=5->notebook>=4.4.1->widgetsnbextension~=3.6.0->ipywidgets>=7.3.0->qiskit[visualization]==0.43.3) (1.5.1)\n",
            "Requirement already satisfied: fastjsonschema>=2.15 in /usr/local/lib/python3.11/dist-packages (from nbformat->notebook>=4.4.1->widgetsnbextension~=3.6.0->ipywidgets>=7.3.0->qiskit[visualization]==0.43.3) (2.21.1)\n",
            "Requirement already satisfied: jsonschema>=2.6 in /usr/local/lib/python3.11/dist-packages (from nbformat->notebook>=4.4.1->widgetsnbextension~=3.6.0->ipywidgets>=7.3.0->qiskit[visualization]==0.43.3) (4.24.0)\n",
            "Requirement already satisfied: argon2-cffi-bindings in /usr/local/lib/python3.11/dist-packages (from argon2-cffi->notebook>=4.4.1->widgetsnbextension~=3.6.0->ipywidgets>=7.3.0->qiskit[visualization]==0.43.3) (21.2.0)\n",
            "Requirement already satisfied: webencodings in /usr/local/lib/python3.11/dist-packages (from bleach!=5.0.0->bleach[css]!=5.0.0->nbconvert>=5->notebook>=4.4.1->widgetsnbextension~=3.6.0->ipywidgets>=7.3.0->qiskit[visualization]==0.43.3) (0.5.1)\n",
            "Requirement already satisfied: tinycss2<1.5,>=1.1.0 in /usr/local/lib/python3.11/dist-packages (from bleach[css]!=5.0.0->nbconvert>=5->notebook>=4.4.1->widgetsnbextension~=3.6.0->ipywidgets>=7.3.0->qiskit[visualization]==0.43.3) (1.4.0)\n",
            "Requirement already satisfied: attrs>=22.2.0 in /usr/local/lib/python3.11/dist-packages (from jsonschema>=2.6->nbformat->notebook>=4.4.1->widgetsnbextension~=3.6.0->ipywidgets>=7.3.0->qiskit[visualization]==0.43.3) (25.3.0)\n",
            "Requirement already satisfied: jsonschema-specifications>=2023.03.6 in /usr/local/lib/python3.11/dist-packages (from jsonschema>=2.6->nbformat->notebook>=4.4.1->widgetsnbextension~=3.6.0->ipywidgets>=7.3.0->qiskit[visualization]==0.43.3) (2025.4.1)\n",
            "Requirement already satisfied: referencing>=0.28.4 in /usr/local/lib/python3.11/dist-packages (from jsonschema>=2.6->nbformat->notebook>=4.4.1->widgetsnbextension~=3.6.0->ipywidgets>=7.3.0->qiskit[visualization]==0.43.3) (0.36.2)\n",
            "Requirement already satisfied: rpds-py>=0.7.1 in /usr/local/lib/python3.11/dist-packages (from jsonschema>=2.6->nbformat->notebook>=4.4.1->widgetsnbextension~=3.6.0->ipywidgets>=7.3.0->qiskit[visualization]==0.43.3) (0.25.1)\n",
            "Requirement already satisfied: jupyter-server<3,>=1.8 in /usr/local/lib/python3.11/dist-packages (from notebook-shim>=0.2.3->nbclassic>=0.4.7->notebook>=4.4.1->widgetsnbextension~=3.6.0->ipywidgets>=7.3.0->qiskit[visualization]==0.43.3) (1.16.0)\n",
            "Requirement already satisfied: soupsieve>1.2 in /usr/local/lib/python3.11/dist-packages (from beautifulsoup4->nbconvert>=5->notebook>=4.4.1->widgetsnbextension~=3.6.0->ipywidgets>=7.3.0->qiskit[visualization]==0.43.3) (2.7)\n",
            "Requirement already satisfied: typing-extensions>=4.0.0 in /usr/local/lib/python3.11/dist-packages (from beautifulsoup4->nbconvert>=5->notebook>=4.4.1->widgetsnbextension~=3.6.0->ipywidgets>=7.3.0->qiskit[visualization]==0.43.3) (4.14.0)\n",
            "Requirement already satisfied: anyio>=3.1.0 in /usr/local/lib/python3.11/dist-packages (from jupyter-server<3,>=1.8->notebook-shim>=0.2.3->nbclassic>=0.4.7->notebook>=4.4.1->widgetsnbextension~=3.6.0->ipywidgets>=7.3.0->qiskit[visualization]==0.43.3) (4.9.0)\n",
            "Requirement already satisfied: sniffio>=1.1 in /usr/local/lib/python3.11/dist-packages (from anyio>=3.1.0->jupyter-server<3,>=1.8->notebook-shim>=0.2.3->nbclassic>=0.4.7->notebook>=4.4.1->widgetsnbextension~=3.6.0->ipywidgets>=7.3.0->qiskit[visualization]==0.43.3) (1.3.1)\n",
            "Requirement already satisfied: qiskit-aer in /usr/local/lib/python3.11/dist-packages (0.12.2)\n",
            "Requirement already satisfied: qiskit-terra>=0.21.0 in /usr/local/lib/python3.11/dist-packages (from qiskit-aer) (0.24.2)\n",
            "Requirement already satisfied: numpy>=1.16.3 in /usr/local/lib/python3.11/dist-packages (from qiskit-aer) (1.23.5)\n",
            "Requirement already satisfied: scipy>=1.0 in /usr/local/lib/python3.11/dist-packages (from qiskit-aer) (1.15.3)\n",
            "Requirement already satisfied: rustworkx>=0.12.0 in /usr/local/lib/python3.11/dist-packages (from qiskit-terra>=0.21.0->qiskit-aer) (0.16.0)\n",
            "Requirement already satisfied: ply>=3.10 in /usr/local/lib/python3.11/dist-packages (from qiskit-terra>=0.21.0->qiskit-aer) (3.11)\n",
            "Requirement already satisfied: psutil>=5 in /usr/local/lib/python3.11/dist-packages (from qiskit-terra>=0.21.0->qiskit-aer) (5.9.5)\n",
            "Requirement already satisfied: sympy>=1.3 in /usr/local/lib/python3.11/dist-packages (from qiskit-terra>=0.21.0->qiskit-aer) (1.13.1)\n",
            "Requirement already satisfied: dill>=0.3 in /usr/local/lib/python3.11/dist-packages (from qiskit-terra>=0.21.0->qiskit-aer) (0.3.7)\n",
            "Requirement already satisfied: python-dateutil>=2.8.0 in /usr/local/lib/python3.11/dist-packages (from qiskit-terra>=0.21.0->qiskit-aer) (2.9.0.post0)\n",
            "Requirement already satisfied: stevedore>=3.0.0 in /usr/local/lib/python3.11/dist-packages (from qiskit-terra>=0.21.0->qiskit-aer) (5.4.1)\n",
            "Requirement already satisfied: symengine<0.10,>=0.9 in /usr/local/lib/python3.11/dist-packages (from qiskit-terra>=0.21.0->qiskit-aer) (0.9.2)\n",
            "Requirement already satisfied: six>=1.5 in /usr/local/lib/python3.11/dist-packages (from python-dateutil>=2.8.0->qiskit-terra>=0.21.0->qiskit-aer) (1.17.0)\n",
            "Requirement already satisfied: pbr>=2.0.0 in /usr/local/lib/python3.11/dist-packages (from stevedore>=3.0.0->qiskit-terra>=0.21.0->qiskit-aer) (6.1.1)\n",
            "Requirement already satisfied: mpmath<1.4,>=1.1.0 in /usr/local/lib/python3.11/dist-packages (from sympy>=1.3->qiskit-terra>=0.21.0->qiskit-aer) (1.3.0)\n",
            "Requirement already satisfied: setuptools in /usr/local/lib/python3.11/dist-packages (from pbr>=2.0.0->stevedore>=3.0.0->qiskit-terra>=0.21.0->qiskit-aer) (75.2.0)\n"
          ]
        }
      ],
      "source": [
        "import IPython\n",
        "\n",
        "def in_colab():\n",
        "    try:\n",
        "        import google.colab\n",
        "        return True\n",
        "    except:\n",
        "        return False\n",
        "\n",
        "if in_colab():\n",
        "    !pip install qiskit[visualization]==0.43.3\n",
        "    !pip install qiskit-aer"
      ]
    },
    {
      "cell_type": "markdown",
      "metadata": {
        "id": "cFBvm44rYSTU"
      },
      "source": [
        "<a name=\"task1\"></a>\n",
        "### Task 1\n",
        "\n",
        "Implement each of the following operators in Qiskit by using three qubits. Verify your implementation by using \"unitary_simulator\" backend. <br><br>\n",
        "\n",
        "<font size=\"-2\">\n",
        "$$\n",
        "    C_0C_0NOT = \\mymatrix{cc|cc|cc|cc}{0 & \\bluebit{1} & 0 & 0 & 0 & 0 & 0 & 0 \\\\ \\bluebit{1} & 0 & 0 & 0 & 0 & 0 & 0 & 0 \\\\ \\hline 0 & 0 & \\blackbit{1} & 0 & 0 & 0 & 0 & 0 \\\\ 0 & 0 & 0 & \\blackbit{1} & 0 & 0 & 0 & 0 \\\\ \\hline 0 & 0 & 0 & 0 & \\blackbit{1} & 0 & 0 & 0 \\\\ 0 & 0 & 0 & 0 & 0 & \\blackbit{1} & 0 & 0 \\\\ \\hline 0 & 0 & 0 & 0 & 0 & 0 & \\blackbit{1} & 0 \\\\ 0 & 0 & 0 & 0 & 0 & 0 & 0 & \\blackbit{1}}, ~~\n",
        "    C_0C_1NOT = \\mymatrix{cc|cc|cc|cc}{ \\blackbit{1} & 0 & 0 & 0 & 0 & 0 & 0 & 0 \\\\ 0 & \\blackbit{1} & 0 & 0 & 0 & 0 & 0 & 0 \\\\ \\hline 0 & 0 & 0 & \\bluebit{1}  & 0 & 0 & 0 & 0 \\\\ 0 & 0 & \\bluebit{1}  & 0 & 0 & 0 & 0 & 0 \\\\ \\hline 0 & 0 & 0 & 0 & \\blackbit{1} & 0 & 0 & 0 \\\\ 0 & 0 & 0 & 0 & 0 & \\blackbit{1} & 0 & 0 \\\\ \\hline 0 & 0 & 0 & 0 & 0 & 0 & \\blackbit{1} & 0 \\\\ 0 & 0 & 0 & 0 & 0 & 0 & 0 & \\blackbit{1}}, ~~ \\mbox{and} ~~\n",
        "    C_1C_0NOT = \\mymatrix{cc|cc|cc|cc}{\\blackbit{1} & 0 & 0 & 0 & 0 & 0 & 0 & 0 \\\\ 0 & \\blackbit{1} & 0 & 0 & 0 & 0 & 0 & 0 \\\\ \\hline 0 & 0 & \\blackbit{1} & 0 & 0 & 0 & 0 & 0 \\\\ 0 & 0 & 0 & \\blackbit{1} & 0 & 0 & 0 & 0 \\\\ \\hline 0 & 0 & 0 & 0 & 0 & \\bluebit{1} & 0 & 0 \\\\ 0 & 0 & 0 & 0 & \\bluebit{1} & 0 & 0 & 0 \\\\ \\hline 0 & 0 & 0 & 0 & 0 & 0 & \\blackbit{1} & 0 \\\\ 0 & 0 & 0 & 0 & 0 & 0 & 0 & \\blackbit{1}}.   \n",
        "$$\n",
        "    </font>"
      ]
    },
    {
      "cell_type": "markdown",
      "metadata": {
        "id": "GbyjEbNiYSTU"
      },
      "source": [
        "<h3>Solution</h3>"
      ]
    },
    {
      "cell_type": "markdown",
      "metadata": {
        "id": "Q9O-NhOJYSTU"
      },
      "source": [
        "#### Implementation of $ C_0C_0NOT $ operator"
      ]
    },
    {
      "cell_type": "code",
      "execution_count": 2,
      "metadata": {
        "id": "T43ciTfOYSTV",
        "outputId": "9ac6c471-462b-4efc-dac1-0da240c02d3d",
        "colab": {
          "base_uri": "https://localhost:8080/",
          "height": 625
        }
      },
      "outputs": [
        {
          "output_type": "stream",
          "name": "stdout",
          "text": [
            "CCNOT(00) = \n",
            "0.0  1.0  0.0  0.0  0.0  0.0  0.0  0.0  \n",
            "1.0  0.0  0.0  0.0  0.0  0.0  0.0  0.0  \n",
            "0.0  0.0  1.0  0.0  0.0  0.0  0.0  0.0  \n",
            "0.0  0.0  0.0  1.0  0.0  0.0  0.0  0.0  \n",
            "0.0  0.0  0.0  0.0  1.0  0.0  0.0  0.0  \n",
            "0.0  0.0  0.0  0.0  0.0  1.0  0.0  0.0  \n",
            "0.0  0.0  0.0  0.0  0.0  0.0  1.0  0.0  \n",
            "0.0  0.0  0.0  0.0  0.0  0.0  0.0  1.0  \n"
          ]
        },
        {
          "output_type": "execute_result",
          "data": {
            "text/plain": [
              "<Figure size 371.107x535.111 with 1 Axes>"
            ],
            "image/png": "[encoded data removed]"
          },
          "metadata": {},
          "execution_count": 2
        }
      ],
      "source": [
        "from qiskit import QuantumRegister, ClassicalRegister, QuantumCircuit, execute, Aer\n",
        "\n",
        "q =  QuantumRegister(3,\"q\")\n",
        "c = ClassicalRegister(3,\"c\")\n",
        "\n",
        "qc = QuantumCircuit(q,c)\n",
        "\n",
        "qc.x(q[2])\n",
        "qc.x(q[1])\n",
        "qc.ccx(q[2],q[1],q[0])\n",
        "qc.x(q[2])\n",
        "qc.x(q[1])\n",
        "\n",
        "job = execute(qc,Aer.get_backend('unitary_simulator'), shots = 1)\n",
        "U=job.result().get_unitary(qc,decimals=3).data\n",
        "\n",
        "print(\"CCNOT(00) = \")\n",
        "for row in U:\n",
        "    s = \"\"\n",
        "    for value in row:\n",
        "        s = s + str(round(value.real,2)) + \"  \"\n",
        "    print(s)\n",
        "\n",
        "\n",
        "\n",
        "qc.draw(output=\"mpl\",reverse_bits=True)"
      ]
    },
    {
      "cell_type": "markdown",
      "metadata": {
        "id": "O7UGA2FdYSTV"
      },
      "source": [
        "#### Implementation of $ C_0C_1NOT $ operator"
      ]
    },
    {
      "cell_type": "code",
      "execution_count": 3,
      "metadata": {
        "id": "mWqiruXyYSTV",
        "outputId": "8261cf6f-f7f9-4a2d-ce00-8cc5f158e582",
        "colab": {
          "base_uri": "https://localhost:8080/",
          "height": 625
        }
      },
      "outputs": [
        {
          "output_type": "stream",
          "name": "stdout",
          "text": [
            "CCNOT(01) = \n",
            "1.0  0.0  0.0  0.0  0.0  0.0  0.0  0.0  \n",
            "0.0  1.0  0.0  0.0  0.0  0.0  0.0  0.0  \n",
            "0.0  0.0  0.0  1.0  0.0  0.0  0.0  0.0  \n",
            "0.0  0.0  1.0  0.0  0.0  0.0  0.0  0.0  \n",
            "0.0  0.0  0.0  0.0  1.0  0.0  0.0  0.0  \n",
            "0.0  0.0  0.0  0.0  0.0  1.0  0.0  0.0  \n",
            "0.0  0.0  0.0  0.0  0.0  0.0  1.0  0.0  \n",
            "0.0  0.0  0.0  0.0  0.0  0.0  0.0  1.0  \n"
          ]
        },
        {
          "output_type": "execute_result",
          "data": {
            "text/plain": [
              "<Figure size 371.107x535.111 with 1 Axes>"
            ],
            "image/png": "[encoded data removed]"
          },
          "metadata": {},
          "execution_count": 3
        }
      ],
      "source": [
        "from qiskit import QuantumRegister, ClassicalRegister, QuantumCircuit, execute, Aer\n",
        "\n",
        "q =  QuantumRegister(3,\"q\")\n",
        "c = ClassicalRegister(3,\"c\")\n",
        "\n",
        "qc = QuantumCircuit(q,c)\n",
        "\n",
        "qc.x(q[2])\n",
        "qc.ccx(q[2],q[1],q[0])\n",
        "qc.x(q[2])\n",
        "\n",
        "job = execute(qc,Aer.get_backend('unitary_simulator'), shots = 1)\n",
        "U=job.result().get_unitary(qc,decimals=3).data\n",
        "\n",
        "print(\"CCNOT(01) = \")\n",
        "for row in U:\n",
        "    s = \"\"\n",
        "    for value in row:\n",
        "        s = s + str(round(value.real,2)) + \"  \"\n",
        "    print(s)\n",
        "\n",
        "\n",
        "\n",
        "qc.draw(output=\"mpl\",reverse_bits=True)"
      ]
    },
    {
      "cell_type": "markdown",
      "metadata": {
        "id": "QU202WxxYSTV"
      },
      "source": [
        "#### Implementation of $ C_1C_0NOT $ operator"
      ]
    },
    {
      "cell_type": "code",
      "execution_count": 4,
      "metadata": {
        "id": "KqvPKMwVYSTV",
        "outputId": "d9385fe6-f6b5-48bf-8e66-7616f0047829",
        "colab": {
          "base_uri": "https://localhost:8080/",
          "height": 625
        }
      },
      "outputs": [
        {
          "output_type": "stream",
          "name": "stdout",
          "text": [
            "CCNOT(10) = \n",
            "1.0  0.0  0.0  0.0  0.0  0.0  0.0  0.0  \n",
            "0.0  1.0  0.0  0.0  0.0  0.0  0.0  0.0  \n",
            "0.0  0.0  1.0  0.0  0.0  0.0  0.0  0.0  \n",
            "0.0  0.0  0.0  1.0  0.0  0.0  0.0  0.0  \n",
            "0.0  0.0  0.0  0.0  0.0  1.0  0.0  0.0  \n",
            "0.0  0.0  0.0  0.0  1.0  0.0  0.0  0.0  \n",
            "0.0  0.0  0.0  0.0  0.0  0.0  1.0  0.0  \n",
            "0.0  0.0  0.0  0.0  0.0  0.0  0.0  1.0  \n"
          ]
        },
        {
          "output_type": "execute_result",
          "data": {
            "text/plain": [
              "<Figure size 371.107x535.111 with 1 Axes>"
            ],
            "image/png": "[encoded data removed]"
          },
          "metadata": {},
          "execution_count": 4
        }
      ],
      "source": [
        "from qiskit import QuantumRegister, ClassicalRegister, QuantumCircuit, execute, Aer\n",
        "\n",
        "q =  QuantumRegister(3,\"q\")\n",
        "c = ClassicalRegister(3,\"c\")\n",
        "\n",
        "qc = QuantumCircuit(q,c)\n",
        "\n",
        "qc.x(q[1])\n",
        "qc.ccx(q[2],q[1],q[0])\n",
        "qc.x(q[1])\n",
        "\n",
        "job = execute(qc,Aer.get_backend('unitary_simulator'), shots = 1)\n",
        "U=job.result().get_unitary(qc,decimals=3).data\n",
        "\n",
        "print(\"CCNOT(10) = \")\n",
        "for row in U:\n",
        "    s = \"\"\n",
        "    for value in row:\n",
        "        s = s + str(round(value.real,2)) + \"  \"\n",
        "    print(s)\n",
        "\n",
        "\n",
        "\n",
        "qc.draw(output=\"mpl\",reverse_bits=True)"
      ]
    },
    {
      "cell_type": "markdown",
      "metadata": {
        "id": "iSCKmgCxYSTW"
      },
      "source": [
        "<a name=\"task2\"></a>\n",
        "<h3>Task 2</h3>\n",
        "\n",
        "Provide an implementation of the NOT operator controlled by 4 qubits ($CCCCNOT$) in Qiskit. Verify its correctness by executing your solution on all possible inputs. (See the above example)\n",
        "\n",
        "*You may use two auxiliary qubits.*"
      ]
    },
    {
      "cell_type": "markdown",
      "metadata": {
        "id": "dSmtdycCYSTW"
      },
      "source": [
        "<h3>Solution</h3>"
      ]
    },
    {
      "cell_type": "markdown",
      "metadata": {
        "id": "msjtjkx-YSTW"
      },
      "source": [
        "#### Desinging the operator"
      ]
    },
    {
      "cell_type": "code",
      "execution_count": 5,
      "metadata": {
        "id": "NdsoHlk4YSTW",
        "outputId": "3cc1f5a0-4d97-4341-92cd-d9d50c4bb83a",
        "colab": {
          "base_uri": "https://localhost:8080/",
          "height": 855
        }
      },
      "outputs": [
        {
          "output_type": "execute_result",
          "data": {
            "text/plain": [
              "<Figure size 591.214x1036.78 with 1 Axes>"
            ],
            "image/png": "[encoded data removed]"
          },
          "metadata": {},
          "execution_count": 5
        }
      ],
      "source": [
        "from qiskit import QuantumRegister, ClassicalRegister, QuantumCircuit, execute, Aer\n",
        "\n",
        "qaux = QuantumRegister(2,\"qaux\")\n",
        "q = QuantumRegister(5,\"q\")\n",
        "c = ClassicalRegister(5,\"c\")\n",
        "qc = QuantumCircuit(q,qaux,c)\n",
        "\n",
        "qc.ccx(q[4],q[3],qaux[1])\n",
        "qc.ccx(q[2],q[1],qaux[0])\n",
        "qc.ccx(qaux[1],qaux[0],q[0])\n",
        "qc.ccx(q[4],q[3],qaux[1])\n",
        "qc.ccx(q[2],q[1],qaux[0])\n",
        "\n",
        "qc.draw(output=\"mpl\",reverse_bits=True)"
      ]
    },
    {
      "cell_type": "markdown",
      "metadata": {
        "id": "pzK2wdGZYSTW"
      },
      "source": [
        "#### Executing this circuit on every possible inputs and verify the correctness of the implementation experimentially."
      ]
    },
    {
      "cell_type": "code",
      "execution_count": 6,
      "metadata": {
        "id": "FLgLxDGbYSTW",
        "outputId": "0db4bbf5-317d-428a-c509-75607deb56fc",
        "colab": {
          "base_uri": "https://localhost:8080/"
        }
      },
      "outputs": [
        {
          "output_type": "stream",
          "name": "stdout",
          "text": [
            "input --> output\n",
            "0000 0 --> 0000 0\n",
            "0000 1 --> 0000 1\n",
            "0001 0 --> 0001 0\n",
            "0001 1 --> 0001 1\n",
            "0010 0 --> 0010 0\n",
            "0010 1 --> 0010 1\n",
            "0011 0 --> 0011 0\n",
            "0011 1 --> 0011 1\n",
            "0100 0 --> 0100 0\n",
            "0100 1 --> 0100 1\n",
            "0101 0 --> 0101 0\n",
            "0101 1 --> 0101 1\n",
            "0110 0 --> 0110 0\n",
            "0110 1 --> 0110 1\n",
            "0111 0 --> 0111 0\n",
            "0111 1 --> 0111 1\n",
            "1000 0 --> 1000 0\n",
            "1000 1 --> 1000 1\n",
            "1001 0 --> 1001 0\n",
            "1001 1 --> 1001 1\n",
            "1010 0 --> 1010 0\n",
            "1010 1 --> 1010 1\n",
            "1011 0 --> 1011 0\n",
            "1011 1 --> 1011 1\n",
            "1100 0 --> 1100 0\n",
            "1100 1 --> 1100 1\n",
            "1101 0 --> 1101 0\n",
            "1101 1 --> 1101 1\n",
            "1110 0 --> 1110 0\n",
            "1110 1 --> 1110 1\n",
            "1111 0 --> 1111 1 the output is different than the input\n",
            "1111 1 --> 1111 0 the output is different than the input\n"
          ]
        }
      ],
      "source": [
        "from qiskit import QuantumRegister, ClassicalRegister, QuantumCircuit, execute, Aer\n",
        "\n",
        "all_inputs=[]\n",
        "for q4 in ['0','1']:\n",
        "    for q3 in ['0','1']:\n",
        "        for q2 in ['0','1']:\n",
        "            for q1 in ['0','1']:\n",
        "                for q0 in ['0','1']:\n",
        "                    all_inputs.append(q4+q3+q2+q1+q0)\n",
        "#print(all_inputs)\n",
        "\n",
        "print(\"input --> output\")\n",
        "for the_input in all_inputs:\n",
        "    # create the circuit\n",
        "    qaux = QuantumRegister(2,\"qaux\")\n",
        "    q = QuantumRegister(5,\"q\")\n",
        "    c = ClassicalRegister(5,\"c\")\n",
        "    qc = QuantumCircuit(q,qaux,c)\n",
        "    # set the initial value of the circuit w.r.t. the input\n",
        "    if the_input[0] =='1': qc.x(q[4])\n",
        "    if the_input[1] =='1': qc.x(q[3])\n",
        "    if the_input[2] =='1': qc.x(q[2])\n",
        "    if the_input[3] =='1': qc.x(q[1])\n",
        "    if the_input[4] =='1': qc.x(q[0])\n",
        "    # implement the CCNOT gates\n",
        "    qc.ccx(q[4],q[3],qaux[1])\n",
        "    qc.ccx(q[2],q[1],qaux[0])\n",
        "    qc.ccx(qaux[1],qaux[0],q[0])\n",
        "    qc.ccx(q[4],q[3],qaux[1])\n",
        "    qc.ccx(q[2],q[1],qaux[0])\n",
        "    # measure the main quantum register\n",
        "    qc.measure(q,c)\n",
        "    # execute the circuit\n",
        "    job = execute(qc,Aer.get_backend('qasm_simulator'),shots=1)\n",
        "    counts = job.result().get_counts(qc)\n",
        "    for key in counts: the_output = key\n",
        "    printed_str = the_input[0:4]+\" \"+the_input[4]+\" --> \"+the_output[0:4]+\" \"+the_output[4]\n",
        "    if (the_input!=the_output): printed_str = printed_str + \" the output is different than the input\"\n",
        "    print(printed_str)"
      ]
    },
    {
      "cell_type": "markdown",
      "metadata": {
        "id": "e_tcpFNyYSTW"
      },
      "source": [
        "<a name=\"task3\"></a>\n",
        "<h3>Task 3</h3>\n",
        "\n",
        "Repeat Task 2 for the operator $C_1C_0C_1C_0NOT$: $NOT$ operator is applied to the target qubit if the four control qubits are in state $ \\ket{1010} $."
      ]
    },
    {
      "cell_type": "markdown",
      "metadata": {
        "id": "B6v9icmpYSTW"
      },
      "source": [
        "<h3>Solution</h3>"
      ]
    },
    {
      "cell_type": "markdown",
      "metadata": {
        "id": "_12kGxFbYSTW"
      },
      "source": [
        "#### Desinging the operator"
      ]
    },
    {
      "cell_type": "code",
      "execution_count": 7,
      "metadata": {
        "id": "WMDgNi-kYSTW",
        "outputId": "6cbe9422-dbc0-4453-a933-186990baf128",
        "colab": {
          "base_uri": "https://localhost:8080/",
          "height": 855
        }
      },
      "outputs": [
        {
          "output_type": "execute_result",
          "data": {
            "text/plain": [
              "<Figure size 758.436x1036.78 with 1 Axes>"
            ],
            "image/png": "[encoded data removed]"
          },
          "metadata": {},
          "execution_count": 7
        }
      ],
      "source": [
        "from qiskit import QuantumRegister, ClassicalRegister, QuantumCircuit, execute, Aer\n",
        "\n",
        "qaux = QuantumRegister(2,\"qaux\")\n",
        "q = QuantumRegister(5,\"q\")\n",
        "c = ClassicalRegister(5,\"c\")\n",
        "qc = QuantumCircuit(q,qaux,c)\n",
        "\n",
        "qc.x(q[3])\n",
        "qc.x(q[1])\n",
        "qc.ccx(q[4],q[3],qaux[1])\n",
        "qc.ccx(q[2],q[1],qaux[0])\n",
        "qc.ccx(qaux[1],qaux[0],q[0])\n",
        "qc.ccx(q[4],q[3],qaux[1])\n",
        "qc.ccx(q[2],q[1],qaux[0])\n",
        "qc.x(q[3])\n",
        "qc.x(q[1])\n",
        "\n",
        "qc.draw(output=\"mpl\",reverse_bits=True)"
      ]
    },
    {
      "cell_type": "markdown",
      "metadata": {
        "id": "s_u2F1ESYSTW"
      },
      "source": [
        "#### Executing this circuit on every possible inputs and verify the correctness of the implementation experimentially."
      ]
    },
    {
      "cell_type": "code",
      "execution_count": 8,
      "metadata": {
        "id": "h0g0-rZcYSTW",
        "outputId": "eb2b3356-370d-46de-ba0c-59b1f590a5e3",
        "colab": {
          "base_uri": "https://localhost:8080/"
        }
      },
      "outputs": [
        {
          "output_type": "stream",
          "name": "stdout",
          "text": [
            "input --> output\n",
            "0000 0 --> 0000 0\n",
            "0000 1 --> 0000 1\n",
            "0001 0 --> 0001 0\n",
            "0001 1 --> 0001 1\n",
            "0010 0 --> 0010 0\n",
            "0010 1 --> 0010 1\n",
            "0011 0 --> 0011 0\n",
            "0011 1 --> 0011 1\n",
            "0100 0 --> 0100 0\n",
            "0100 1 --> 0100 1\n",
            "0101 0 --> 0101 0\n",
            "0101 1 --> 0101 1\n",
            "0110 0 --> 0110 0\n",
            "0110 1 --> 0110 1\n",
            "0111 0 --> 0111 0\n",
            "0111 1 --> 0111 1\n",
            "1000 0 --> 1000 0\n",
            "1000 1 --> 1000 1\n",
            "1001 0 --> 1001 0\n",
            "1001 1 --> 1001 1\n",
            "1010 0 --> 1010 1 the output is different than the input\n",
            "1010 1 --> 1010 0 the output is different than the input\n",
            "1011 0 --> 1011 0\n",
            "1011 1 --> 1011 1\n",
            "1100 0 --> 1100 0\n",
            "1100 1 --> 1100 1\n",
            "1101 0 --> 1101 0\n",
            "1101 1 --> 1101 1\n",
            "1110 0 --> 1110 0\n",
            "1110 1 --> 1110 1\n",
            "1111 0 --> 1111 0\n",
            "1111 1 --> 1111 1\n"
          ]
        }
      ],
      "source": [
        "from qiskit import QuantumRegister, ClassicalRegister, QuantumCircuit, execute, Aer\n",
        "\n",
        "all_inputs=[]\n",
        "for q4 in ['0','1']:\n",
        "    for q3 in ['0','1']:\n",
        "        for q2 in ['0','1']:\n",
        "            for q1 in ['0','1']:\n",
        "                for q0 in ['0','1']:\n",
        "                    all_inputs.append(q4+q3+q2+q1+q0)\n",
        "#print(all_inputs)\n",
        "\n",
        "print(\"input --> output\")\n",
        "for the_input in all_inputs:\n",
        "    # create the circuit\n",
        "    qaux = QuantumRegister(2,\"qaux\")\n",
        "    q = QuantumRegister(5,\"q\")\n",
        "    c = ClassicalRegister(5,\"c\")\n",
        "    qc = QuantumCircuit(q,qaux,c)\n",
        "    # set the initial value of the circuit w.r.t. the input\n",
        "    if the_input[0] =='1': qc.x(q[4])\n",
        "    if the_input[1] =='1': qc.x(q[3])\n",
        "    if the_input[2] =='1': qc.x(q[2])\n",
        "    if the_input[3] =='1': qc.x(q[1])\n",
        "    if the_input[4] =='1': qc.x(q[0])\n",
        "    # implement the CCNOT gates\n",
        "    qc.x(q[3])\n",
        "    qc.x(q[1])\n",
        "    qc.ccx(q[4],q[3],qaux[1])\n",
        "    qc.ccx(q[2],q[1],qaux[0])\n",
        "    qc.ccx(qaux[1],qaux[0],q[0])\n",
        "    qc.ccx(q[4],q[3],qaux[1])\n",
        "    qc.ccx(q[2],q[1],qaux[0])\n",
        "    qc.x(q[3])\n",
        "    qc.x(q[1])\n",
        "    # measure the main quantum register\n",
        "    qc.measure(q,c)\n",
        "    # execute the circuit\n",
        "    job = execute(qc,Aer.get_backend('qasm_simulator'),shots=1)\n",
        "    counts = job.result().get_counts(qc)\n",
        "    for key in counts: the_output = key\n",
        "    printed_str = the_input[0:4]+\" \"+the_input[4]+\" --> \"+the_output[0:4]+\" \"+the_output[4]\n",
        "    if (the_input!=the_output): printed_str = printed_str + \" the output is different than the input\"\n",
        "    print(printed_str)"
      ]
    },
    {
      "cell_type": "markdown",
      "metadata": {
        "id": "13fCrLY8YSTW"
      },
      "source": [
        "<a name=\"task4\"></a>\n",
        "<h3>Task 4 (extra)</h3>\n",
        "\n",
        "Write a function taking a binary string \"$ b_1 b_2 b_3 b_4$ that repeats Task 2 for the operator $ C_{b_1}C_{b_2}C_{b_3}C_{b_4}NOT $ gate, where $ b_1,\\ldots,b_4$ are bits and $ NOT $ operator is applied to target qubit if the control qubits are in state $ \\ket{b_1b_2b_3b_4} $."
      ]
    },
    {
      "cell_type": "markdown",
      "metadata": {
        "id": "R_W2oOaOYSTW"
      },
      "source": [
        "<h3>Solution</h3>"
      ]
    },
    {
      "cell_type": "code",
      "execution_count": 9,
      "metadata": {
        "id": "kQjlun7yYSTX"
      },
      "outputs": [],
      "source": [
        "from qiskit import QuantumRegister, ClassicalRegister, QuantumCircuit, execute, Aer\n",
        "\n",
        "all_inputs=[]\n",
        "for q4 in ['0','1']:\n",
        "    for q3 in ['0','1']:\n",
        "        for q2 in ['0','1']:\n",
        "            for q1 in ['0','1']:\n",
        "                for q0 in ['0','1']:\n",
        "                    all_inputs.append(q4+q3+q2+q1+q0)\n",
        "#print(all_inputs)\n",
        "\n",
        "\n",
        "def c4not(control_state='1111'):\n",
        "    #\n",
        "    # drawing the circuit\n",
        "    #\n",
        "    print(\"Control state is\",control_state)\n",
        "    print(\"Drawing the circuit:\")\n",
        "    qaux = QuantumRegister(2,\"qaux\")\n",
        "    q = QuantumRegister(5,\"q\")\n",
        "    c = ClassicalRegister(5,\"c\")\n",
        "    qc = QuantumCircuit(q,qaux,c)\n",
        "\n",
        "    for b in range(4):\n",
        "        if control_state[b] == '0':\n",
        "            qc.x(q[4-b])\n",
        "    qc.ccx(q[4],q[3],qaux[1])\n",
        "    qc.ccx(q[2],q[1],qaux[0])\n",
        "    qc.ccx(qaux[1],qaux[0],q[0])\n",
        "    qc.ccx(q[4],q[3],qaux[1])\n",
        "    qc.ccx(q[2],q[1],qaux[0])\n",
        "    for b in range(4):\n",
        "        if control_state[b] == '0':\n",
        "            qc.x(q[4-b])\n",
        "\n",
        "    display(qc.draw(output=\"mpl\",reverse_bits=True))\n",
        "\n",
        "    #\n",
        "    # executing the operator on all possible inputs\n",
        "    #\n",
        "    print(\"Control state is\",control_state)\n",
        "    print(\"input --> output\")\n",
        "    for the_input in all_inputs:\n",
        "        # create the circuit\n",
        "        qaux = QuantumRegister(2,\"qaux\")\n",
        "        q = QuantumRegister(5,\"q\")\n",
        "        c = ClassicalRegister(5,\"c\")\n",
        "        qc = QuantumCircuit(q,qaux,c)\n",
        "        # set the initial value of the circuit w.r.t. the input\n",
        "        if the_input[0] =='1': qc.x(q[4])\n",
        "        if the_input[1] =='1': qc.x(q[3])\n",
        "        if the_input[2] =='1': qc.x(q[2])\n",
        "        if the_input[3] =='1': qc.x(q[1])\n",
        "        if the_input[4] =='1': qc.x(q[0])\n",
        "        # implement the CCNOT gates\n",
        "        for b in range(4):\n",
        "            if control_state[b] == '0':\n",
        "                qc.x(q[4-b])\n",
        "        qc.ccx(q[4],q[3],qaux[1])\n",
        "        qc.ccx(q[2],q[1],qaux[0])\n",
        "        qc.ccx(qaux[1],qaux[0],q[0])\n",
        "        qc.ccx(q[4],q[3],qaux[1])\n",
        "        qc.ccx(q[2],q[1],qaux[0])\n",
        "        for b in range(4):\n",
        "            if control_state[b] == '0':\n",
        "                qc.x(q[4-b])\n",
        "        # measure the main quantum register\n",
        "        qc.measure(q,c)\n",
        "        # execute the circuit\n",
        "        job = execute(qc,Aer.get_backend('qasm_simulator'),shots=1)\n",
        "        counts = job.result().get_counts(qc)\n",
        "        for key in counts: the_output = key\n",
        "        printed_str = the_input[0:4]+\" \"+the_input[4]+\" --> \"+the_output[0:4]+\" \"+the_output[4]\n",
        "        if (the_input!=the_output): printed_str = printed_str + \" the output is different than the input\"\n",
        "        print(printed_str)"
      ]
    },
    {
      "cell_type": "code",
      "execution_count": 10,
      "metadata": {
        "id": "wnlMU_dDYSTX",
        "outputId": "4f8dff1b-6c97-4bc8-abc0-0d186e0ea17d",
        "colab": {
          "base_uri": "https://localhost:8080/",
          "height": 1000
        }
      },
      "outputs": [
        {
          "output_type": "stream",
          "name": "stdout",
          "text": [
            "Control state is 0011\n",
            "Drawing the circuit:\n"
          ]
        },
        {
          "output_type": "display_data",
          "data": {
            "text/plain": [
              "<Figure size 758.436x1036.78 with 1 Axes>"
            ],
            "image/png": "[encoded data removed]"
          },
          "metadata": {}
        },
        {
          "output_type": "stream",
          "name": "stdout",
          "text": [
            "Control state is 0011\n",
            "input --> output\n",
            "0000 0 --> 0000 0\n",
            "0000 1 --> 0000 1\n",
            "0001 0 --> 0001 0\n",
            "0001 1 --> 0001 1\n",
            "0010 0 --> 0010 0\n",
            "0010 1 --> 0010 1\n",
            "0011 0 --> 0011 1 the output is different than the input\n",
            "0011 1 --> 0011 0 the output is different than the input\n",
            "0100 0 --> 0100 0\n",
            "0100 1 --> 0100 1\n",
            "0101 0 --> 0101 0\n",
            "0101 1 --> 0101 1\n",
            "0110 0 --> 0110 0\n",
            "0110 1 --> 0110 1\n",
            "0111 0 --> 0111 0\n",
            "0111 1 --> 0111 1\n",
            "1000 0 --> 1000 0\n",
            "1000 1 --> 1000 1\n",
            "1001 0 --> 1001 0\n",
            "1001 1 --> 1001 1\n",
            "1010 0 --> 1010 0\n",
            "1010 1 --> 1010 1\n",
            "1011 0 --> 1011 0\n",
            "1011 1 --> 1011 1\n",
            "1100 0 --> 1100 0\n",
            "1100 1 --> 1100 1\n",
            "1101 0 --> 1101 0\n",
            "1101 1 --> 1101 1\n",
            "1110 0 --> 1110 0\n",
            "1110 1 --> 1110 1\n",
            "1111 0 --> 1111 0\n",
            "1111 1 --> 1111 1\n"
          ]
        }
      ],
      "source": [
        "# try different values\n",
        "\n",
        "#c4not('1001')\n",
        "c4not('0011')\n",
        "#c4not('1101')\n",
        "#c4not('0000')"
      ]
    }
  ],
  "metadata": {
    "kernelspec": {
      "display_name": "Python 3 (ipykernel)",
      "language": "python",
      "name": "python3"
    },
    "language_info": {
      "codemirror_mode": {
        "name": "ipython",
        "version": 3
      },
      "file_extension": ".py",
      "mimetype": "text/x-python",
      "name": "python",
      "nbconvert_exporter": "python",
      "pygments_lexer": "ipython3",
      "version": "3.11.4"
    },
    "colab": {
      "provenance": [],
      "collapsed_sections": [
        "tc9Jx8-XYSTS"
      ],
      "include_colab_link": true
    }
  },
  "nbformat": 4,
  "nbformat_minor": 0
}