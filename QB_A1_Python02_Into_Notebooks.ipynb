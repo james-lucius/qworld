{
  "cells": [
    {
      "cell_type": "markdown",
      "metadata": {
        "id": "view-in-github",
        "colab_type": "text"
      },
      "source": [
        "<a href=\"https://colab.research.google.com/github/james-lucius/qworld/blob/main/QB_A1_Python02_Into_Notebooks.ipynb\" target=\"_parent\"><img src=\"https://colab.research.google.com/assets/colab-badge.svg\" alt=\"Open In Colab\"/></a>"
      ]
    },
    {
      "cell_type": "markdown",
      "metadata": {
        "id": "TfaUbl-B5p7N"
      },
      "source": [
        "<a href=\"https://qworld.net\" target=\"_blank\" align=\"left\"><img src=\"https://gitlab.com/qworld/qeducation/qbook101/raw/main/qworld/images/header.jpg\" align=\"left\"></a>"
      ]
    },
    {
      "cell_type": "markdown",
      "metadata": {
        "id": "Rm03qwAK5p7O"
      },
      "source": [
        "_prepared by Abuzer Yakaryilmaz_"
      ]
    },
    {
      "cell_type": "code",
      "execution_count": 1,
      "metadata": {
        "id": "8igi6KTJ5p7P",
        "outputId": "bd1047f7-a8f6-40e7-c5cc-2b543a28d6e5",
        "colab": {
          "base_uri": "https://localhost:8080/"
        }
      },
      "outputs": [
        {
          "output_type": "stream",
          "name": "stdout",
          "text": [
            "hello world\n",
            "*\n",
            "**\n",
            "***\n",
            "****\n",
            "*****\n",
            "******\n",
            "*******\n",
            "********\n",
            "*********\n",
            "**********\n"
          ]
        }
      ],
      "source": [
        "# A Jupyter notebook is composed by one or more cells.\n",
        "# This notebook is prepared for Jupyter notebooks, and the menu items and command buttons may differ in Jupyter lab.\n",
        "# There are two main cells: Code and Markdown.\n",
        "# A code cell is used to write and execute your code.\n",
        "# A markdown cell is used to write text descriptions, notes, formulas or include graphics and images.\n",
        "# On a markdown cell, you can format your content by using Markdown, HTML, or LaTeX code.\n",
        "# During our tutorial, you are expected to write only Python code.\n",
        "# Interested readers may also use markdown cells, but it is not necessary to complete our tutorial.\n",
        "\n",
        "#\n",
        "# We explain basic usage of cells in Jupyter notebooks here\n",
        "#\n",
        "\n",
        "# This is the first cell in this notebook.\n",
        "# You can write Python code here, and then EXECUTE/RUN it by\n",
        "# 1) pressing CTRL+ENTER or SHIFT+ENTER\n",
        "# 2) clicking \"Run\" on the menu\n",
        "\n",
        "\n",
        "# Here are few lines of Python code\n",
        "\n",
        "print(\"hello world\")\n",
        "str=\"*\"\n",
        "for i in range(10):\n",
        "    print(str)\n",
        "    str+=\"*\"\n",
        "\n",
        "# After executing this cell, the outcomes will immediately appear after this cell.\n",
        "# You can change the range above and re-run this cell."
      ]
    },
    {
      "cell_type": "code",
      "execution_count": 2,
      "metadata": {
        "id": "h_WYHKzb5p7Q"
      },
      "outputs": [],
      "source": [
        "# This is the second cell in this notebook.\n",
        "#\n",
        "# By using the menu item \"Insert\", you can add a new cell before or after the active cell.\n",
        "# When a cell is selected, you may delete it by using the menu item \"Edit\".\n",
        "#\n",
        "# As you may have noticed, there are other editing options under \"Edit\".\n",
        "# For example, copy/cut-paste cells and split-merge cells.\n",
        "#"
      ]
    },
    {
      "cell_type": "markdown",
      "metadata": {
        "id": "1MK38mej5p7R"
      },
      "source": [
        "<b>This is the third cell.</b>\n",
        "\n",
        "This is a markdown type cell.\n",
        "\n",
        "The type of any cell is shown on the toolbar under the menu bar (right-side). You can change the type of a cell from this pulldown menu.\n",
        "\n",
        "You can type Markdown, HTML, and LaTex code in this cell.\n",
        "\n",
        "<i>By double-clicking on this cell, you can see its code.</i> <br>\n",
        "<u>By executing this cell, you can see the resulting content.</u>"
      ]
    },
    {
      "cell_type": "markdown",
      "metadata": {
        "id": "MnB29sam5p7R"
      },
      "source": [
        "<b> This is the fourth cell.</b>\n",
        "\n",
        "This is also a markdown cell.\n",
        "\n",
        "LaTex is used to display mathematical expressions, formulas, etc.\n",
        "\n",
        "For example, $ x^2 + y ^ 2 = \\frac{4}{9} $, $ \\sum_{i=1}^n (i+2)^{3} $, or $ \\left( \\begin{array}{rr}  1 & 0 & -1 \\\\ 2 & -2 & 0 \\\\ 3 & -1 & -2  \\end{array} \\right) $.\n",
        "\n",
        "<i>By double-clicking on this cell, you can see its code.</i> <br>\n",
        "<u>By executing/running this cell, you can see the resulting content.</u>"
      ]
    },
    {
      "cell_type": "markdown",
      "metadata": {
        "id": "qyZxanO_5p7R"
      },
      "source": [
        "<h2> Tips </h2>"
      ]
    },
    {
      "cell_type": "markdown",
      "metadata": {
        "id": "X1Wa1gS35p7R"
      },
      "source": [
        "Showing line numbers: View $\\rightarrow$ Toggle Line Numbers\n",
        "\n",
        "Command mode: CTRL+SHIFT+P"
      ]
    },
    {
      "cell_type": "markdown",
      "metadata": {
        "id": "mFeWlT1n5p7R"
      },
      "source": [
        "<h2>Magic Commands</h2>\n",
        "\n",
        "Here are a few built-in magic commands for Jupyter notebooks that we will use throughout this tutorial.\n",
        "\n",
        "These commands can be executed in code-type cells."
      ]
    },
    {
      "cell_type": "markdown",
      "metadata": {
        "id": "u_-tRyVK5p7S"
      },
      "source": [
        "<b><u>Write the content of a code cell</u></b> into an external file:\n",
        "    \n",
        "    %%writefile FILENAME.py\n",
        "This command should be placed in the first line of the cell, and then the cell should be executed.\n",
        "\n",
        "<i> Example:</i>"
      ]
    },
    {
      "cell_type": "code",
      "execution_count": 3,
      "metadata": {
        "id": "-eLqCvUX5p7S",
        "outputId": "7dd351dd-0668-42d0-fc6d-2842a823449e",
        "colab": {
          "base_uri": "https://localhost:8080/"
        }
      },
      "outputs": [
        {
          "output_type": "stream",
          "name": "stdout",
          "text": [
            "Writing first.py\n"
          ]
        }
      ],
      "source": [
        "%%writefile first.py\n",
        "\n",
        "print(\"hello world\")\n",
        "\n",
        "str=\"*\"\n",
        "for i in range(5):\n",
        "    print(str)\n",
        "    str+=\"*\""
      ]
    },
    {
      "cell_type": "markdown",
      "metadata": {
        "id": "nyEWAS2_5p7S"
      },
      "source": [
        "<b><u>Execute an external script</u></b> without loading its content into the cell:\n",
        "    \n",
        "    %run FILENAME.py\n",
        "<i>Example:</i>    "
      ]
    },
    {
      "cell_type": "code",
      "execution_count": 4,
      "metadata": {
        "id": "WaOn37hl5p7S",
        "outputId": "7bab09c4-5853-46e3-d3ce-74b9f0eaf453",
        "colab": {
          "base_uri": "https://localhost:8080/"
        }
      },
      "outputs": [
        {
          "output_type": "stream",
          "name": "stdout",
          "text": [
            "hello world\n",
            "*\n",
            "**\n",
            "***\n",
            "****\n",
            "*****\n"
          ]
        }
      ],
      "source": [
        "%run first.py\n"
      ]
    },
    {
      "cell_type": "markdown",
      "metadata": {
        "id": "mtF7IjHO5p7T"
      },
      "source": [
        "<b><u>Load an external script</u></b> into a cell:\n",
        "\n",
        "    %load FILENAME.py\n",
        "Once this command is executed, the content of the cell is replaced with the content of the file (The previous content is deleted).\n",
        "\n",
        "Besides, this command is placed on the first line of the cell and commented out.\n",
        "\n",
        "<i>Example:</i>"
      ]
    },
    {
      "cell_type": "code",
      "execution_count": 5,
      "metadata": {
        "id": "hmGl5WGt5p7T"
      },
      "outputs": [],
      "source": [
        "# %load first.py\n",
        "\n",
        "print(\"hello world\")\n",
        "\n",
        "str=\"*\"\n",
        "for i in range(5):\n",
        "    print(str)\n",
        "    str+=\"*\"\n"
      ]
    }
  ],
  "metadata": {
    "kernelspec": {
      "display_name": "Python 3 (ipykernel)",
      "language": "python",
      "name": "python3"
    },
    "language_info": {
      "codemirror_mode": {
        "name": "ipython",
        "version": 3
      },
      "file_extension": ".py",
      "mimetype": "text/x-python",
      "name": "python",
      "nbconvert_exporter": "python",
      "pygments_lexer": "ipython3",
      "version": "3.11.4"
    },
    "colab": {
      "provenance": [],
      "include_colab_link": true
    }
  },
  "nbformat": 4,
  "nbformat_minor": 0
}