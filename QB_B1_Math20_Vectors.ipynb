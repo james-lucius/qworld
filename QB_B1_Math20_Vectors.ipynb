{
  "cells": [
    {
      "cell_type": "markdown",
      "metadata": {
        "id": "view-in-github",
        "colab_type": "text"
      },
      "source": [
        "<a href=\"https://colab.research.google.com/github/james-lucius/qworld/blob/main/QB_B1_Math20_Vectors.ipynb\" target=\"_parent\"><img src=\"https://colab.research.google.com/assets/colab-badge.svg\" alt=\"Open In Colab\"/></a>"
      ]
    },
    {
      "cell_type": "markdown",
      "metadata": {
        "id": "YnSOZ3UyabSa"
      },
      "source": [
        "<a href=\"https://qworld.net\" target=\"_blank\" align=\"left\"><img src=\"https://gitlab.com/qworld/qeducation/qbook101/raw/main/qworld/images/header.jpg\" align=\"left\"></a>\n",
        "$ \\newcommand{\\bra}[1]{\\langle #1|} $\n",
        "$ \\newcommand{\\ket}[1]{|#1\\rangle} $\n",
        "$ \\newcommand{\\braket}[2]{\\langle #1|#2\\rangle} $\n",
        "$ \\newcommand{\\dot}[2]{ #1 \\cdot #2} $\n",
        "$ \\newcommand{\\biginner}[2]{\\left\\langle #1,#2\\right\\rangle} $\n",
        "$ \\newcommand{\\mymatrix}[2]{\\left( \\begin{array}{#1} #2\\end{array} \\right)} $\n",
        "$ \\newcommand{\\myvector}[1]{\\mymatrix{c}{#1}} $\n",
        "$ \\newcommand{\\myrvector}[1]{\\mymatrix{r}{#1}} $\n",
        "$ \\newcommand{\\mypar}[1]{\\left( #1 \\right)} $\n",
        "$ \\newcommand{\\mybigpar}[1]{ \\Big( #1 \\Big)} $\n",
        "$ \\newcommand{\\sqrttwo}{\\frac{1}{\\sqrt{2}}} $\n",
        "$ \\newcommand{\\dsqrttwo}{\\dfrac{1}{\\sqrt{2}}} $\n",
        "$ \\newcommand{\\onehalf}{\\frac{1}{2}} $\n",
        "$ \\newcommand{\\donehalf}{\\dfrac{1}{2}} $\n",
        "$ \\newcommand{\\hadamard}{ \\mymatrix{rr}{ \\sqrttwo & \\sqrttwo \\\\ \\sqrttwo & -\\sqrttwo }} $\n",
        "$ \\newcommand{\\vzero}{\\myvector{1\\\\0}} $\n",
        "$ \\newcommand{\\vone}{\\myvector{0\\\\1}} $\n",
        "$ \\newcommand{\\stateplus}{\\myvector{ \\sqrttwo \\\\  \\sqrttwo } } $\n",
        "$ \\newcommand{\\stateminus}{ \\myrvector{ \\sqrttwo \\\\ -\\sqrttwo } } $\n",
        "$ \\newcommand{\\myarray}[2]{ \\begin{array}{#1}#2\\end{array}} $\n",
        "$ \\newcommand{\\X}{ \\mymatrix{cc}{0 & 1 \\\\ 1 & 0}  } $\n",
        "$ \\newcommand{\\I}{ \\mymatrix{rr}{1 & 0 \\\\ 0 & 1}  } $\n",
        "$ \\newcommand{\\Z}{ \\mymatrix{rr}{1 & 0 \\\\ 0 & -1}  } $\n",
        "$ \\newcommand{\\Htwo}{ \\mymatrix{rrrr}{ \\frac{1}{2} & \\frac{1}{2} & \\frac{1}{2} & \\frac{1}{2} \\\\ \\frac{1}{2} & -\\frac{1}{2} & \\frac{1}{2} & -\\frac{1}{2} \\\\ \\frac{1}{2} & \\frac{1}{2} & -\\frac{1}{2} & -\\frac{1}{2} \\\\ \\frac{1}{2} & -\\frac{1}{2} & -\\frac{1}{2} & \\frac{1}{2} } } $\n",
        "$ \\newcommand{\\CNOT}{ \\mymatrix{cccc}{1 & 0 & 0 & 0 \\\\ 0 & 1 & 0 & 0 \\\\ 0 & 0 & 0 & 1 \\\\ 0 & 0 & 1 & 0} } $\n",
        "$ \\newcommand{\\norm}[1]{ \\left\\lVert #1 \\right\\rVert } $\n",
        "$ \\newcommand{\\pstate}[1]{ \\lceil \\mspace{-1mu} #1 \\mspace{-1.5mu} \\rfloor } $\n",
        "$ \\newcommand{\\greenbit}[1] {\\mathbf{{\\color{green}#1}}} $\n",
        "$ \\newcommand{\\bluebit}[1] {\\mathbf{{\\color{blue}#1}}} $\n",
        "$ \\newcommand{\\redbit}[1] {\\mathbf{{\\color{red}#1}}} $\n",
        "$ \\newcommand{\\brownbit}[1] {\\mathbf{{\\color{brown}#1}}} $\n",
        "$ \\newcommand{\\blackbit}[1] {\\mathbf{{\\color{black}#1}}} $"
      ]
    },
    {
      "cell_type": "markdown",
      "metadata": {
        "id": "ySB3vT2JabSc"
      },
      "source": [
        "_prepared by Abuzer Yakaryilmaz_"
      ]
    },
    {
      "cell_type": "markdown",
      "metadata": {
        "id": "gqK80Om9abSc"
      },
      "source": [
        "<font size=\"28px\" style=\"font-size:28px;\" align=\"left\"><b>Vectors: One Dimensional Lists</b></font>\n",
        "<br><br>"
      ]
    },
    {
      "cell_type": "markdown",
      "metadata": {
        "jp-MarkdownHeadingCollapsed": true,
        "id": "gwWdFM8CabSc"
      },
      "source": [
        "##### <font color=\"#08b806\">Please execute the following cell, it is necessary to distinguish between your local environment and Google Colab's"
      ]
    },
    {
      "cell_type": "code",
      "execution_count": 1,
      "metadata": {
        "id": "shi3uR-SabSc",
        "outputId": "a72e5352-4fce-47ba-edba-e105b12980db",
        "colab": {
          "base_uri": "https://localhost:8080/"
        }
      },
      "outputs": [
        {
          "output_type": "stream",
          "name": "stdout",
          "text": [
            "--2025-05-29 23:56:45--  https://gitlab.com/qworld/qeducation/qbook101/raw/main/qworld/include/bronze_math.py\n",
            "Resolving gitlab.com (gitlab.com)... 172.65.251.78, 2606:4700:90:0:f22e:fbec:5bed:a9b9\n",
            "Connecting to gitlab.com (gitlab.com)|172.65.251.78|:443... connected.\n",
            "HTTP request sent, awaiting response... 200 OK\n",
            "Length: 2235 (2.2K) [text/plain]\n",
            "Saving to: ‘bronze_math.py’\n",
            "\n",
            "bronze_math.py      100%[===================>]   2.18K  --.-KB/s    in 0s      \n",
            "\n",
            "2025-05-29 23:56:45 (41.5 MB/s) - ‘bronze_math.py’ saved [2235/2235]\n",
            "\n",
            "--2025-05-29 23:56:45--  https://gitlab.com/qworld/qeducation/qbook101/raw/main/qworld/include/drawing.py\n",
            "Resolving gitlab.com (gitlab.com)... 172.65.251.78, 2606:4700:90:0:f22e:fbec:5bed:a9b9\n",
            "Connecting to gitlab.com (gitlab.com)|172.65.251.78|:443... connected.\n",
            "HTTP request sent, awaiting response... 200 OK\n",
            "Length: 6260 (6.1K) [text/plain]\n",
            "Saving to: ‘drawing.py’\n",
            "\n",
            "drawing.py          100%[===================>]   6.11K  --.-KB/s    in 0s      \n",
            "\n",
            "2025-05-29 23:56:45 (61.5 MB/s) - ‘drawing.py’ saved [6260/6260]\n",
            "\n"
          ]
        }
      ],
      "source": [
        "import IPython\n",
        "\n",
        "def in_colab():\n",
        "    try:\n",
        "        import google.colab\n",
        "        return True\n",
        "    except:\n",
        "        return False\n",
        "\n",
        "path_files = \"./\" if in_colab() else \"../../../qworld/include/\"\n",
        "\n",
        "SolutionToTask1 = lambda: IPython.display.display(IPython.display.Javascript('window.open(\"{url}\");'.format(url='https://colab.research.google.com/drive/17G4GozFY8j1GNHgKhgnBP71dxtgc2Ni4?usp=sharing#scrollTo=AGM4rnuFZbEE' if in_colab() else 'QB_B1_Math20_Vectors_Solutions.ipynb#task1')))\n",
        "SolutionToTask2 = lambda: IPython.display.display(IPython.display.Javascript('window.open(\"{url}\");'.format(url='https://colab.research.google.com/drive/17G4GozFY8j1GNHgKhgnBP71dxtgc2Ni4?usp=sharing#scrollTo=9e-cmGNCZbEF' if in_colab() else 'QB_B1_Math20_Vectors_Solutions.ipynb#task2')))\n",
        "SolutionToTask3 = lambda: IPython.display.display(IPython.display.Javascript('window.open(\"{url}\");'.format(url='https://colab.research.google.com/drive/17G4GozFY8j1GNHgKhgnBP71dxtgc2Ni4?usp=sharing#scrollTo=R9iaQrCiZbEF' if in_colab() else 'QB_B1_Math20_Vectors_Solutions.ipynb#task3')))\n",
        "SolutionToTask4 = lambda: IPython.display.display(IPython.display.Javascript('window.open(\"{url}\");'.format(url='https://colab.research.google.com/drive/17G4GozFY8j1GNHgKhgnBP71dxtgc2Ni4?usp=sharing#scrollTo=aWyrTI5KZbEF' if in_colab() else 'QB_B1_Math20_Vectors_Solutions.ipynb#task4')))\n",
        "\n",
        "if in_colab():\n",
        "    url = \"https://gitlab.com/qworld/qeducation/qbook101/raw/main/qworld/include/bronze_math.py\"\n",
        "    !wget --no-cache -O bronze_math.py {url}\n",
        "\n",
        "    url = \"https://gitlab.com/qworld/qeducation/qbook101/raw/main/qworld/include/drawing.py\"\n",
        "    !wget --no-cache -O drawing.py {url}"
      ]
    },
    {
      "cell_type": "markdown",
      "metadata": {
        "id": "EbAWiv0tabSd"
      },
      "source": [
        "##### A <b>vector</b> is a list of numbers.\n",
        "\n",
        "Vectors are very useful to describe the state of a system, as we will see in the main tutorial.\n",
        "\n",
        "A list is a single object in python.\n",
        "\n",
        "Similarly, a vector is a single mathematical object.\n",
        "\n",
        "The number of elements in a list is its size or length.\n",
        "\n",
        "Similarly, the number of entries in a vector is called as the <b>size</b> or <b>dimension</b> of the vector."
      ]
    },
    {
      "cell_type": "code",
      "execution_count": 2,
      "metadata": {
        "id": "z8Jbqx7DabSd",
        "outputId": "d58588d6-84c5-449e-8d28-34f8d0769c7a",
        "colab": {
          "base_uri": "https://localhost:8080/"
        }
      },
      "outputs": [
        {
          "output_type": "stream",
          "name": "stdout",
          "text": [
            "[1, -2, 0, 5]\n"
          ]
        }
      ],
      "source": [
        "# consider the following list with 4 elements\n",
        "L = [1,-2,0,5]\n",
        "print(L)"
      ]
    },
    {
      "cell_type": "markdown",
      "metadata": {
        "id": "P9kzeTJ9abSd"
      },
      "source": [
        "Vectors can be in horizontal or vertical shape.\n",
        "\n",
        "We show this list as a <i><u>four dimensional</u></i> <b>row vector</b> (horizontal) or a <b>column vector</b> (vertical):\n",
        "\n",
        "$$\n",
        "    u = \\mypar{1~~-2~~0~~-5} ~~~\\mbox{ or }~~~ v =\\mymatrix{r}{1 \\\\ -2 \\\\ 0 \\\\ 5}, ~~~\\mbox{ respectively.}\n",
        "$$\n",
        "\n",
        "Remark that we do not need to use any comma in vector representation."
      ]
    },
    {
      "cell_type": "markdown",
      "metadata": {
        "id": "KXpAXWMcabSd"
      },
      "source": [
        "<h3> Multiplying a vector with a number</h3>\n",
        "\n",
        "A vector can be multiplied by a number.\n",
        "\n",
        "Multiplication of a vector with a number is also a vector: each entry is multiplied by this number.\n",
        "\n",
        "$$\n",
        "    3 \\cdot v = 3 \\cdot  \\mymatrix{r}{1 \\\\ -2 \\\\ 0 \\\\ 5} = \\mymatrix{r}{3 \\\\ -6 \\\\ 0 \\\\ 15}\n",
        "    ~~~~~~\\mbox{ or }~~~~~~\n",
        "    (-0.6) \\cdot v = (-0.6) \\cdot \\mymatrix{r}{1 \\\\ -2 \\\\ 0 \\\\ 5} = \\mymatrix{r}{-0.6 \\\\ 1.2 \\\\ 0 \\\\ -3}.\n",
        "$$\n",
        "\n",
        "We may consider this as enlarging or making smaller the entries of a vector.\n",
        "\n",
        "We verify our calculations in python."
      ]
    },
    {
      "cell_type": "code",
      "execution_count": 3,
      "metadata": {
        "id": "kmQAxTPvabSd",
        "outputId": "248323b7-1230-4289-e924-c46ce0c33d67",
        "colab": {
          "base_uri": "https://localhost:8080/"
        }
      },
      "outputs": [
        {
          "output_type": "stream",
          "name": "stdout",
          "text": [
            "v is [1, -2, 0, 5]\n",
            "3v is [3, -6, 0, 15]\n",
            "-0.6v is [-0.6, 1.2, -0.0, -3.0]\n"
          ]
        }
      ],
      "source": [
        "# 3 * v\n",
        "v = [1,-2,0,5]\n",
        "print(\"v is\",v)\n",
        "# we use the same list for the result\n",
        "for i in range(len(v)):\n",
        "    v[i] = 3 * v[i]\n",
        "print(\"3v is\",v)\n",
        "\n",
        "# -0.6 * u\n",
        "# reinitialize the list v\n",
        "v = [1,-2,0,5]\n",
        "for i in range(len(v)):\n",
        "    v[i] = -0.6 * v[i]\n",
        "print(\"-0.6v is\",v)"
      ]
    },
    {
      "cell_type": "markdown",
      "metadata": {
        "id": "ujWRnVMbabSe"
      },
      "source": [
        "<h3> Summation of vectors</h3>\n",
        "\n",
        "Two vectors (with same dimension) can be summed up.\n",
        "\n",
        "The summation of two vectors is a vector: the numbers on the same entries are added up.\n",
        "\n",
        "$$\n",
        "    u = \\myrvector{-3 \\\\ -2 \\\\ 0 \\\\ -1 \\\\ 4} \\mbox{ and } v = \\myrvector{-1\\\\ -1 \\\\2 \\\\ -3 \\\\ 5}.\n",
        "    ~~~~~~~ \\mbox{Then, }~~\n",
        "    u+v = \\myrvector{-3 \\\\ -2 \\\\ 0 \\\\ -1 \\\\ 4} + \\myrvector{-1\\\\ -1 \\\\2 \\\\ -3 \\\\ 5} =\n",
        "    \\myrvector{-3+(-1)\\\\ -2+(-1) \\\\0+2 \\\\ -1+(-3) \\\\ 4+5} = \\myrvector{-4\\\\ -3 \\\\2 \\\\ -4 \\\\ 9}.\n",
        "$$\n",
        "\n",
        "We do the same calculations in Python."
      ]
    },
    {
      "cell_type": "code",
      "execution_count": 4,
      "metadata": {
        "id": "yifheDKBabSe",
        "outputId": "94b2b437-f657-4614-f729-07bd33deb2c0",
        "colab": {
          "base_uri": "https://localhost:8080/"
        }
      },
      "outputs": [
        {
          "output_type": "stream",
          "name": "stdout",
          "text": [
            "u+v is [-4, -3, 2, -4, 9]\n",
            "\n",
            "the elements of u+v are\n",
            "-4\n",
            "-3\n",
            "2\n",
            "-4\n",
            "9\n"
          ]
        }
      ],
      "source": [
        "u = [-3,-2,0,-1,4]\n",
        "v = [-1,-1,2,-3,5]\n",
        "result=[]\n",
        "for i in range(len(u)):\n",
        "    result.append(u[i]+v[i])\n",
        "\n",
        "print(\"u+v is\",result)\n",
        "\n",
        "# print the result vector similarly to a column vector\n",
        "print() # print an empty line\n",
        "print(\"the elements of u+v are\")\n",
        "for j in range(len(result)):\n",
        "    print(result[j])"
      ]
    },
    {
      "cell_type": "markdown",
      "metadata": {
        "id": "k5Q6zRyuabSe"
      },
      "source": [
        "<h3> Task 1 </h3>\n",
        "\n",
        "Create two 7-dimensional vectors $u$ and $ v $ as two different lists in Python having entries randomly picked between $-10$ and $10$.\n",
        "\n",
        "Print their entries."
      ]
    },
    {
      "cell_type": "code",
      "execution_count": 5,
      "metadata": {
        "id": "dK_GkpYeabSe",
        "outputId": "a855a1d7-a93d-4a90-dee7-41afac07bcc5",
        "colab": {
          "base_uri": "https://localhost:8080/"
        }
      },
      "outputs": [
        {
          "output_type": "stream",
          "name": "stdout",
          "text": [
            "u = [10, 4, 9, -2, 1, 4, -9]\n",
            "\n",
            "v = [-10, -9, -3, 4, 4, -5, 2]\n"
          ]
        }
      ],
      "source": [
        "from random import randrange\n",
        "#\n",
        "# your solution is here\n",
        "#\n",
        "\n",
        "#r=randrange(-10,11) # randomly pick a number from the list {-10,-9,...,-1,0,1,...,9,10}\n",
        "# create vector u\n",
        "u = []\n",
        "for i in range(7):\n",
        "  u.append(randrange(-10, 11))\n",
        "print(f\"u = {u}\\n\")\n",
        "\n",
        "#create v\n",
        "v = []\n",
        "for i in range(7):\n",
        "  v.append(randrange(-10, 11))\n",
        "print(f\"v = {v}\")"
      ]
    },
    {
      "cell_type": "markdown",
      "metadata": {
        "id": "tNA6Fie3abSe"
      },
      "source": [
        "To check out our solution, run the next cell:"
      ]
    },
    {
      "cell_type": "code",
      "execution_count": 6,
      "metadata": {
        "id": "heI-tS_ZabSe",
        "outputId": "83964295-c7ac-47d7-b954-56d5b51001d1",
        "colab": {
          "base_uri": "https://localhost:8080/",
          "height": 37
        }
      },
      "outputs": [
        {
          "output_type": "display_data",
          "data": {
            "text/plain": [
              "<IPython.core.display.Javascript object>"
            ],
            "application/javascript": [
              "window.open(\"https://colab.research.google.com/drive/17G4GozFY8j1GNHgKhgnBP71dxtgc2Ni4?usp=sharing#scrollTo=AGM4rnuFZbEE\");"
            ]
          },
          "metadata": {}
        }
      ],
      "source": [
        "SolutionToTask1()  # show solution for task 1"
      ]
    },
    {
      "cell_type": "markdown",
      "metadata": {
        "id": "P8bxHBKpabSe"
      },
      "source": [
        "<h3> Task 2 </h3>\n",
        "\n",
        "By using the same vectors, find the vector $  (3  u-2  v) $ and print its entries. Here $ 3u $ and $ 2v $ means $u$ and $v$ are multiplied by $3$ and $2$, respectively."
      ]
    },
    {
      "cell_type": "code",
      "execution_count": 7,
      "metadata": {
        "id": "SDPS4DcjabSe",
        "outputId": "b8c89621-2af5-41d9-8d5b-a4e57c231197",
        "colab": {
          "base_uri": "https://localhost:8080/"
        }
      },
      "outputs": [
        {
          "output_type": "stream",
          "name": "stdout",
          "text": [
            "3u - 2v = [50, 30, 33, -14, -5, 22, -31]\n"
          ]
        }
      ],
      "source": [
        "#\n",
        "# your solution is here\n",
        "#\n",
        "# create result\n",
        "result = []\n",
        "for i in range(7):\n",
        "  result.append((3 * u[i]) - (2 * v[i]))\n",
        "print(f\"3u - 2v = {result}\")"
      ]
    },
    {
      "cell_type": "markdown",
      "metadata": {
        "id": "pbXYT2AbabSe"
      },
      "source": [
        "To check out our solution, run the next cell:"
      ]
    },
    {
      "cell_type": "code",
      "execution_count": null,
      "metadata": {
        "id": "u2ubs1coabSe"
      },
      "outputs": [],
      "source": [
        "SolutionToTask2()  # show solution for task 2"
      ]
    },
    {
      "cell_type": "markdown",
      "metadata": {
        "id": "dwEoALnpabSe"
      },
      "source": [
        "<h3> Visualization of vectors </h3>\n",
        "\n",
        "We can visualize the vectors with dimension at most 3.\n",
        "\n",
        "For simplicity, we give examples of 2-dimensional vectors.\n",
        "\n",
        "Consider the vector $ v = \\myvector{1 \\\\ 2} $.\n",
        "\n",
        "A 2-dimensional vector can be represented on the two-dimensional plane by an arrow starting from the origin $ (0,0) $ to the point $ (1,2) $."
      ]
    },
    {
      "cell_type": "code",
      "execution_count": 8,
      "metadata": {
        "id": "BfzykuV2abSe",
        "outputId": "4eab7bdc-d353-4d18-ffd0-af27a199cf86",
        "colab": {
          "base_uri": "https://localhost:8080/",
          "height": 415
        }
      },
      "outputs": [
        {
          "output_type": "display_data",
          "data": {
            "text/plain": [
              "<Figure size 500x500 with 1 Axes>"
            ],
            "image/png": "[encoded data removed]"
          },
          "metadata": {}
        }
      ],
      "source": [
        "bronze_math_file = path_files+\"bronze_math.py\"\n",
        "%run $bronze_math_file\n",
        "\n",
        "visualize_vectors(\"example1\")"
      ]
    },
    {
      "cell_type": "markdown",
      "metadata": {
        "id": "P_RbqQwfabSe"
      },
      "source": [
        "We represent the vectors $ 2v = \\myvector{2 \\\\ 4} $ and $ -v = \\myvector{-1 \\\\ -2} $ below."
      ]
    },
    {
      "cell_type": "code",
      "execution_count": 9,
      "metadata": {
        "id": "gJEM4OxlabSe",
        "outputId": "480c30fd-92ce-4b10-fed9-087bd98bd00c",
        "colab": {
          "base_uri": "https://localhost:8080/",
          "height": 558
        }
      },
      "outputs": [
        {
          "output_type": "display_data",
          "data": {
            "text/plain": [
              "<Figure size 640x480 with 0 Axes>"
            ]
          },
          "metadata": {}
        },
        {
          "output_type": "display_data",
          "data": {
            "text/plain": [
              "<Figure size 600x600 with 1 Axes>"
            ],
            "image/png": "[encoded data removed]"
          },
          "metadata": {}
        }
      ],
      "source": [
        "bronze_math_file = path_files+\"bronze_math.py\"\n",
        "%run $bronze_math_file\n",
        "\n",
        "visualize_vectors(\"example2\")"
      ]
    },
    {
      "cell_type": "markdown",
      "metadata": {
        "id": "G_W-7MfEabSe"
      },
      "source": [
        "As we can observe, after multiplying by 2, the vector is enlarged, and, after multiplying by $(-1)$, the vector is the same but its direction is opposite."
      ]
    },
    {
      "cell_type": "markdown",
      "metadata": {
        "id": "yNyDBkhmabSf"
      },
      "source": [
        "<h3> The length of a vector </h3>\n",
        "\n",
        "The length of a vector is the (shortest) distance from the points represented by the entries of vector to the origin point $(0,0)$.\n",
        "\n",
        "The length of a vector can be calculated by using Pythagoras Theorem.\n",
        "\n",
        "We visualize a vector, its length, and the contributions of each entry to the length.\n",
        "\n",
        "Consider the vector $ u = \\myrvector{-3 \\\\ 4} $."
      ]
    },
    {
      "cell_type": "code",
      "execution_count": 10,
      "metadata": {
        "id": "VgVQ6ZkIabSf",
        "outputId": "01129b4d-ec4f-45eb-9381-0f7a42341729",
        "colab": {
          "base_uri": "https://localhost:8080/",
          "height": 558
        }
      },
      "outputs": [
        {
          "output_type": "display_data",
          "data": {
            "text/plain": [
              "<Figure size 640x480 with 0 Axes>"
            ]
          },
          "metadata": {}
        },
        {
          "output_type": "display_data",
          "data": {
            "text/plain": [
              "<Figure size 600x600 with 1 Axes>"
            ],
            "image/png": "[encoded data removed]"
          },
          "metadata": {}
        }
      ],
      "source": [
        "bronze_math_file = path_files+\"bronze_math.py\"\n",
        "%run $bronze_math_file\n",
        "\n",
        "visualize_vectors(\"example3\")"
      ]
    },
    {
      "cell_type": "markdown",
      "metadata": {
        "id": "V-v3s94xabSf"
      },
      "source": [
        "The length of $ u $ is denoted as $ \\norm{u} $, and it is calculated as $ \\norm{u} =\\sqrt{(-3)^2+4^2} = 5 $.\n",
        "\n",
        "Here each entry contributes with its square value. All contributions are summed up. Then, we obtain the square of the length.\n",
        "\n",
        "This formula is generalized to any dimension.\n",
        "\n",
        "We find the length of the following vector by using Python:\n",
        "\n",
        "$$\n",
        "    v = \\myrvector{-1 \\\\ -3 \\\\ 5 \\\\ 3 \\\\ 1 \\\\ 2}\n",
        "    ~~~~~~~~~~\n",
        "    \\mbox{and}\n",
        "    ~~~~~~~~~~\n",
        "    \\norm{v} = \\sqrt{(-1)^2+(-3)^2+5^2+3^2+1^2+2^2} .\n",
        "$$"
      ]
    },
    {
      "cell_type": "markdown",
      "metadata": {
        "id": "t39FZYzAabSf"
      },
      "source": [
        "<div style=\"font-style:italic;background-color:#fafafa;font-size:10pt;\"> Remember: There is a short way of writing power operation in Python.\n",
        "\n",
        "- In its generic form: $ a^x $ can be denoted by $ a ** x $ in Python.\n",
        "- The square of a number $a$: $ a^2 $ can be denoted by $ a ** 2 $ in Python.\n",
        "- The square root of a number $ a $: $ \\sqrt{a} = a^{\\frac{1}{2}} = a^{0.5} $ can be denoted by $ a ** 0.5 $ in Python.\n",
        "\n",
        "</div>"
      ]
    },
    {
      "cell_type": "code",
      "execution_count": 11,
      "metadata": {
        "id": "hFziKShOabSf",
        "outputId": "0767913a-094c-4d30-80ae-f41be2b071ee",
        "colab": {
          "base_uri": "https://localhost:8080/"
        }
      },
      "outputs": [
        {
          "output_type": "stream",
          "name": "stdout",
          "text": [
            "-1 :square -> 1\n",
            "-3 :square -> 9\n",
            "5 :square -> 25\n",
            "3 :square -> 9\n",
            "1 :square -> 1\n",
            "2 :square -> 4\n",
            "the summation is 49\n",
            "then the length is 7.0\n",
            "\n",
            "the square root of 49 is 7.0\n"
          ]
        }
      ],
      "source": [
        "v = [-1,-3,5,3,1,2]\n",
        "\n",
        "length_square=0\n",
        "for i in range(len(v)):\n",
        "    print(v[i],\":square ->\",v[i]**2) # print each entry and its square value\n",
        "    length_square = length_square + v[i]**2 # sum up the square of each entry\n",
        "\n",
        "length = length_square ** 0.5 # take the square root of the summation of the squares of all entries\n",
        "print(\"the summation is\",length_square)\n",
        "print(\"then the length is\",length)\n",
        "\n",
        "# for square root, we can also use built-in function math.sqrt\n",
        "print() # print an empty line\n",
        "from math import sqrt\n",
        "print(\"the square root of\",length_square,\"is\",sqrt(length_square))"
      ]
    },
    {
      "cell_type": "markdown",
      "metadata": {
        "id": "w0OtpdHYabSf"
      },
      "source": [
        "<h3> Task 3 </h3>\n",
        "\n",
        "Let $ u = \\myrvector{1 \\\\ -2 \\\\ -4 \\\\ 2} $ be a four dimensional vector.\n",
        "\n",
        "Verify that $ \\norm{4 u} = 4 \\cdot \\norm{u} $ in Python.\n",
        "\n",
        "Remark that $ 4u $ is another vector obtained from $ u $ by multiplying it with 4."
      ]
    },
    {
      "cell_type": "code",
      "execution_count": 12,
      "metadata": {
        "id": "5OJlBL3XabSf",
        "outputId": "46d49dd5-ea3b-4d72-a6cf-a9bca304d09b",
        "colab": {
          "base_uri": "https://localhost:8080/"
        }
      },
      "outputs": [
        {
          "output_type": "stream",
          "name": "stdout",
          "text": [
            "4u length = 20.0\n",
            "4 times the length of u = 20.0\n",
            "The lengths are equal\n"
          ]
        }
      ],
      "source": [
        "#\n",
        "# your solution is here\n",
        "#\n",
        "# Define u\n",
        "u = [1, -2, -4, 2]\n",
        "\n",
        "# Define 4u\n",
        "four_u = []\n",
        "for i in range(len(u)):\n",
        "  four_u.append(4 * u[i])\n",
        "\n",
        "# Find length of 4u\n",
        "four_u_length = 0\n",
        "for i in range(len(four_u)):\n",
        "  four_u_length += four_u[i] ** 2\n",
        "four_u_length = four_u_length ** 0.5\n",
        "print(f\"4u length = {four_u_length}\")\n",
        "\n",
        "# Find 4 times length of u\n",
        "u_length = 0\n",
        "for i in range(len(u)):\n",
        "  u_length += u[i] ** 2\n",
        "u_length = u_length ** 0.5\n",
        "four_times_u_length = 4 * u_length\n",
        "print(f\"4 times the length of u = {four_times_u_length}\")\n",
        "\n",
        "if four_u_length == four_times_u_length: print(\"The lengths are equal\")\n",
        "else: print(\"The lengths aren't equal\")"
      ]
    },
    {
      "cell_type": "markdown",
      "metadata": {
        "id": "FT01L6eBabSf"
      },
      "source": [
        "To check out our solution, run the next cell:"
      ]
    },
    {
      "cell_type": "code",
      "execution_count": null,
      "metadata": {
        "id": "X14I5CGTabSf"
      },
      "outputs": [],
      "source": [
        "SolutionToTask3()  # show solution for task 3"
      ]
    },
    {
      "cell_type": "markdown",
      "metadata": {
        "id": "gbia9ba0abSf"
      },
      "source": [
        "<h3> Notes:</h3>\n",
        "\n",
        "When a vector is multiplied by a number, then its length is also multiplied with the same number.\n",
        "\n",
        "But, we should be careful with the sign.\n",
        "\n",
        "Consider the vector $ -3 v $. It has the same length of $ 3v $, but its direction is opposite.\n",
        "\n",
        "So, when calculating the length of $ -3 v $, we use absolute value of the number:\n",
        "\n",
        "$ \\norm{-3 v} = |-3| \\norm{v} = 3 \\norm{v}  $.\n",
        "\n",
        "Here $ |-3| $ is the absolute value of $ -3 $.\n",
        "\n",
        "The absolute value of a number is its distance to 0. So, $ |-3| = 3 $."
      ]
    },
    {
      "cell_type": "markdown",
      "metadata": {
        "id": "3ePle_iLabSf"
      },
      "source": [
        "<h3> Task 4 </h3>\n",
        "\n",
        "Let $ u = \\myrvector{1 \\\\ -2 \\\\ -4 \\\\ 2} $ be a four dimensional vector.\n",
        "\n",
        "Randomly pick a number $r$ from $ \\left\\{ \\dfrac{1}{10}, \\dfrac{2}{10}, \\cdots, \\dfrac{9}{10} \\right\\} $.\n",
        "\n",
        "Find the vector $(-r)\\cdot u$ and then its length."
      ]
    },
    {
      "cell_type": "code",
      "execution_count": 13,
      "metadata": {
        "id": "7QI5RZ4vabSf",
        "outputId": "14724e70-7f8b-43bb-f6d2-877cf6aca412",
        "colab": {
          "base_uri": "https://localhost:8080/"
        }
      },
      "outputs": [
        {
          "output_type": "stream",
          "name": "stdout",
          "text": [
            "r = 0.4\n",
            "(-r).u = [-0.4, 0.8, 1.6, -0.8]\n",
            "(-r).u = [-0.4, 0.8, 1.6, -0.8] \n",
            " the length of (-r).u = 2.0\n"
          ]
        }
      ],
      "source": [
        "#\n",
        "# your solution is here\n",
        "#\n",
        "from random import randrange\n",
        "\n",
        "# define vector u\n",
        "u = [1, -2, -4, 2]\n",
        "\n",
        "# pick r\n",
        "r = randrange(1, 10) / 10\n",
        "print(f\"r = {r}\")\n",
        "\n",
        "# define (-r).u\n",
        "negative_ru = []\n",
        "for i in range(len(u)):\n",
        "  negative_ru.append(-r * u[i])\n",
        "print(f\"(-r).u = {negative_ru}\")\n",
        "\n",
        "# find length\n",
        "length_negative_ru = 0\n",
        "for i in range(len(u)): length_negative_ru += negative_ru[i] ** 2\n",
        "length_negative_ru = length_negative_ru ** 0.5\n",
        "print(f\"(-r).u = {negative_ru} \\n the length of (-r).u = {length_negative_ru}\")"
      ]
    },
    {
      "cell_type": "markdown",
      "metadata": {
        "id": "wrhzmLIdabSf"
      },
      "source": [
        "To check out our solution, run the next cell:"
      ]
    },
    {
      "cell_type": "code",
      "execution_count": null,
      "metadata": {
        "id": "YHYF-aXEabSf"
      },
      "outputs": [],
      "source": [
        "SolutionToTask4()  # show solution for task 4"
      ]
    }
  ],
  "metadata": {
    "kernelspec": {
      "display_name": "Python 3 (ipykernel)",
      "language": "python",
      "name": "python3"
    },
    "language_info": {
      "codemirror_mode": {
        "name": "ipython",
        "version": 3
      },
      "file_extension": ".py",
      "mimetype": "text/x-python",
      "name": "python",
      "nbconvert_exporter": "python",
      "pygments_lexer": "ipython3",
      "version": "3.11.4"
    },
    "colab": {
      "provenance": [],
      "collapsed_sections": [
        "gwWdFM8CabSc"
      ],
      "include_colab_link": true
    }
  },
  "nbformat": 4,
  "nbformat_minor": 0
}