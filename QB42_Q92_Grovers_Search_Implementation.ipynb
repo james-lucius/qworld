{
  "cells": [
    {
      "cell_type": "markdown",
      "metadata": {
        "id": "view-in-github",
        "colab_type": "text"
      },
      "source": [
        "<a href=\"https://colab.research.google.com/github/james-lucius/qworld/blob/main/QB42_Q92_Grovers_Search_Implementation.ipynb\" target=\"_parent\"><img src=\"https://colab.research.google.com/assets/colab-badge.svg\" alt=\"Open In Colab\"/></a>"
      ]
    },
    {
      "cell_type": "markdown",
      "metadata": {
        "id": "ww70HUR2eJB8"
      },
      "source": [
        "<a href=\"https://qworld.net\" target=\"_blank\" align=\"left\"><img src=\"https://gitlab.com/qworld/qeducation/qbook101/raw/main/qworld/images/header.jpg\" align=\"left\"></a>\n",
        "$ \\newcommand{\\bra}[1]{\\langle #1|} $\n",
        "$ \\newcommand{\\ket}[1]{|#1\\rangle} $\n",
        "$ \\newcommand{\\braket}[2]{\\langle #1|#2\\rangle} $\n",
        "$ \\newcommand{\\dot}[2]{ #1 \\cdot #2} $\n",
        "$ \\newcommand{\\biginner}[2]{\\left\\langle #1,#2\\right\\rangle} $\n",
        "$ \\newcommand{\\mymatrix}[2]{\\left( \\begin{array}{#1} #2\\end{array} \\right)} $\n",
        "$ \\newcommand{\\myvector}[1]{\\mymatrix{c}{#1}} $\n",
        "$ \\newcommand{\\myrvector}[1]{\\mymatrix{r}{#1}} $\n",
        "$ \\newcommand{\\mypar}[1]{\\left( #1 \\right)} $\n",
        "$ \\newcommand{\\mybigpar}[1]{ \\Big( #1 \\Big)} $\n",
        "$ \\newcommand{\\sqrttwo}{\\frac{1}{\\sqrt{2}}} $\n",
        "$ \\newcommand{\\dsqrttwo}{\\dfrac{1}{\\sqrt{2}}} $\n",
        "$ \\newcommand{\\onehalf}{\\frac{1}{2}} $\n",
        "$ \\newcommand{\\donehalf}{\\dfrac{1}{2}} $\n",
        "$ \\newcommand{\\hadamard}{ \\mymatrix{rr}{ \\sqrttwo & \\sqrttwo \\\\ \\sqrttwo & -\\sqrttwo }} $\n",
        "$ \\newcommand{\\vzero}{\\myvector{1\\\\0}} $\n",
        "$ \\newcommand{\\vone}{\\myvector{0\\\\1}} $\n",
        "$ \\newcommand{\\stateplus}{\\myvector{ \\sqrttwo \\\\  \\sqrttwo } } $\n",
        "$ \\newcommand{\\stateminus}{ \\myrvector{ \\sqrttwo \\\\ -\\sqrttwo } } $\n",
        "$ \\newcommand{\\myarray}[2]{ \\begin{array}{#1}#2\\end{array}} $\n",
        "$ \\newcommand{\\X}{ \\mymatrix{cc}{0 & 1 \\\\ 1 & 0}  } $\n",
        "$ \\newcommand{\\I}{ \\mymatrix{rr}{1 & 0 \\\\ 0 & 1}  } $\n",
        "$ \\newcommand{\\Z}{ \\mymatrix{rr}{1 & 0 \\\\ 0 & -1}  } $\n",
        "$ \\newcommand{\\Htwo}{ \\mymatrix{rrrr}{ \\frac{1}{2} & \\frac{1}{2} & \\frac{1}{2} & \\frac{1}{2} \\\\ \\frac{1}{2} & -\\frac{1}{2} & \\frac{1}{2} & -\\frac{1}{2} \\\\ \\frac{1}{2} & \\frac{1}{2} & -\\frac{1}{2} & -\\frac{1}{2} \\\\ \\frac{1}{2} & -\\frac{1}{2} & -\\frac{1}{2} & \\frac{1}{2} } } $\n",
        "$ \\newcommand{\\CNOT}{ \\mymatrix{cccc}{1 & 0 & 0 & 0 \\\\ 0 & 1 & 0 & 0 \\\\ 0 & 0 & 0 & 1 \\\\ 0 & 0 & 1 & 0} } $\n",
        "$ \\newcommand{\\norm}[1]{ \\left\\lVert #1 \\right\\rVert } $\n",
        "$ \\newcommand{\\pstate}[1]{ \\lceil \\mspace{-1mu} #1 \\mspace{-1.5mu} \\rfloor } $\n",
        "$ \\newcommand{\\greenbit}[1] {\\mathbf{{\\color{green}#1}}} $\n",
        "$ \\newcommand{\\bluebit}[1] {\\mathbf{{\\color{blue}#1}}} $\n",
        "$ \\newcommand{\\redbit}[1] {\\mathbf{{\\color{red}#1}}} $\n",
        "$ \\newcommand{\\brownbit}[1] {\\mathbf{{\\color{brown}#1}}} $\n",
        "$ \\newcommand{\\blackbit}[1] {\\mathbf{{\\color{black}#1}}} $"
      ]
    },
    {
      "cell_type": "markdown",
      "metadata": {
        "id": "MXnPu4eSeJB9"
      },
      "source": [
        "_prepared by Maksim Dimitrijev and Özlem Salehi_"
      ]
    },
    {
      "cell_type": "markdown",
      "metadata": {
        "id": "9swlnaaXeJB-"
      },
      "source": [
        "<font size=\"28px\" style=\"font-size:28px;\" align=\"left\"><b>Grover's Search: Implementation </b></font>\n",
        "<br>\n",
        "<br><br>\n",
        "[<img src=\"https://gitlab.com/qworld/qeducation/qbook101/raw/main/qworld/images/watch_lecture.jpg\" align=\"left\">](https://youtu.be/RHR01e7oN9U)\n",
        "<br><br><br>"
      ]
    },
    {
      "cell_type": "markdown",
      "metadata": {
        "jp-MarkdownHeadingCollapsed": true,
        "id": "YV_c_ctFeJB-"
      },
      "source": [
        "##### <font color=\"#08b806\">Please execute the following cell, it is necessary to distinguish between your local environment and Google Colab's"
      ]
    },
    {
      "cell_type": "code",
      "execution_count": 1,
      "metadata": {
        "id": "-P5CRrzjeJB-",
        "outputId": "36dd1f5e-908b-4451-a204-8e69e510ee2e",
        "colab": {
          "base_uri": "https://localhost:8080/"
        }
      },
      "outputs": [
        {
          "output_type": "stream",
          "name": "stdout",
          "text": [
            "--2025-07-05 01:52:30--  https://gitlab.com/qworld/qeducation/qbook101/raw/main/qworld/include/quantum.py\n",
            "Resolving gitlab.com (gitlab.com)... 172.65.251.78, 2606:4700:90:0:f22e:fbec:5bed:a9b9\n",
            "Connecting to gitlab.com (gitlab.com)|172.65.251.78|:443... connected.\n",
            "HTTP request sent, awaiting response... 200 OK\n",
            "Length: 2760 (2.7K) [text/plain]\n",
            "Saving to: ‘quantum.py’\n",
            "\n",
            "\rquantum.py            0%[                    ]       0  --.-KB/s               \rquantum.py          100%[===================>]   2.70K  --.-KB/s    in 0s      \n",
            "\n",
            "2025-07-05 01:52:31 (29.2 MB/s) - ‘quantum.py’ saved [2760/2760]\n",
            "\n",
            "--2025-07-05 01:52:31--  https://gitlab.com/qworld/qeducation/qbook101/raw/main/qworld/include/drawing.py\n",
            "Resolving gitlab.com (gitlab.com)... 172.65.251.78, 2606:4700:90:0:f22e:fbec:5bed:a9b9\n",
            "Connecting to gitlab.com (gitlab.com)|172.65.251.78|:443... connected.\n",
            "HTTP request sent, awaiting response... 200 OK\n",
            "Length: 6260 (6.1K) [text/plain]\n",
            "Saving to: ‘drawing.py’\n",
            "\n",
            "drawing.py          100%[===================>]   6.11K  --.-KB/s    in 0s      \n",
            "\n",
            "2025-07-05 01:52:31 (51.8 MB/s) - ‘drawing.py’ saved [6260/6260]\n",
            "\n",
            "--2025-07-05 01:52:31--  https://gitlab.com/qworld/qeducation/qbook101/raw/main/qworld/include/quantum_state.py\n",
            "Resolving gitlab.com (gitlab.com)... 172.65.251.78, 2606:4700:90:0:f22e:fbec:5bed:a9b9\n",
            "Connecting to gitlab.com (gitlab.com)|172.65.251.78|:443... connected.\n",
            "HTTP request sent, awaiting response... 200 OK\n",
            "Length: 1391 (1.4K) [text/plain]\n",
            "Saving to: ‘quantum_state.py’\n",
            "\n",
            "quantum_state.py    100%[===================>]   1.36K  --.-KB/s    in 0s      \n",
            "\n",
            "2025-07-05 01:52:31 (23.3 MB/s) - ‘quantum_state.py’ saved [1391/1391]\n",
            "\n",
            "--2025-07-05 01:52:31--  https://gitlab.com/qworld/qeducation/qbook101/raw/main/qworld/include/grover.py\n",
            "Resolving gitlab.com (gitlab.com)... 172.65.251.78, 2606:4700:90:0:f22e:fbec:5bed:a9b9\n",
            "Connecting to gitlab.com (gitlab.com)|172.65.251.78|:443... connected.\n",
            "HTTP request sent, awaiting response... 200 OK\n",
            "Length: 6778 (6.6K) [text/plain]\n",
            "Saving to: ‘grover.py’\n",
            "\n",
            "grover.py           100%[===================>]   6.62K  --.-KB/s    in 0s      \n",
            "\n",
            "2025-07-05 01:52:32 (76.8 MB/s) - ‘grover.py’ saved [6778/6778]\n",
            "\n",
            "Requirement already satisfied: qiskit==0.43.3 in /usr/local/lib/python3.11/dist-packages (from qiskit[visualization]==0.43.3) (0.43.3)\n",
            "Requirement already satisfied: qiskit-terra==0.24.2 in /usr/local/lib/python3.11/dist-packages (from qiskit==0.43.3->qiskit[visualization]==0.43.3) (0.24.2)\n",
            "Requirement already satisfied: qiskit-aer==0.12.2 in /usr/local/lib/python3.11/dist-packages (from qiskit==0.43.3->qiskit[visualization]==0.43.3) (0.12.2)\n",
            "Requirement already satisfied: qiskit-ibmq-provider==0.20.2 in /usr/local/lib/python3.11/dist-packages (from qiskit==0.43.3->qiskit[visualization]==0.43.3) (0.20.2)\n",
            "Requirement already satisfied: matplotlib>=2.1 in /usr/local/lib/python3.11/dist-packages (from qiskit[visualization]==0.43.3) (3.10.0)\n",
            "Requirement already satisfied: ipywidgets>=7.3.0 in /usr/local/lib/python3.11/dist-packages (from qiskit[visualization]==0.43.3) (7.7.1)\n",
            "Requirement already satisfied: pydot in /usr/local/lib/python3.11/dist-packages (from qiskit[visualization]==0.43.3) (3.0.4)\n",
            "Requirement already satisfied: pillow>=4.2.1 in /usr/local/lib/python3.11/dist-packages (from qiskit[visualization]==0.43.3) (11.2.1)\n",
            "Requirement already satisfied: pylatexenc>=1.4 in /usr/local/lib/python3.11/dist-packages (from qiskit[visualization]==0.43.3) (2.10)\n",
            "Requirement already satisfied: seaborn>=0.9.0 in /usr/local/lib/python3.11/dist-packages (from qiskit[visualization]==0.43.3) (0.13.2)\n",
            "Requirement already satisfied: pygments>=2.4 in /usr/local/lib/python3.11/dist-packages (from qiskit[visualization]==0.43.3) (2.19.2)\n",
            "Requirement already satisfied: numpy>=1.16.3 in /usr/local/lib/python3.11/dist-packages (from qiskit-aer==0.12.2->qiskit==0.43.3->qiskit[visualization]==0.43.3) (1.23.5)\n",
            "Requirement already satisfied: scipy>=1.0 in /usr/local/lib/python3.11/dist-packages (from qiskit-aer==0.12.2->qiskit==0.43.3->qiskit[visualization]==0.43.3) (1.15.3)\n",
            "Requirement already satisfied: requests>=2.19 in /usr/local/lib/python3.11/dist-packages (from qiskit-ibmq-provider==0.20.2->qiskit==0.43.3->qiskit[visualization]==0.43.3) (2.32.3)\n",
            "Requirement already satisfied: requests-ntlm<=1.1.0 in /usr/local/lib/python3.11/dist-packages (from qiskit-ibmq-provider==0.20.2->qiskit==0.43.3->qiskit[visualization]==0.43.3) (1.1.0)\n",
            "Requirement already satisfied: urllib3>=1.21.1 in /usr/local/lib/python3.11/dist-packages (from qiskit-ibmq-provider==0.20.2->qiskit==0.43.3->qiskit[visualization]==0.43.3) (2.4.0)\n",
            "Requirement already satisfied: python-dateutil>=2.8.0 in /usr/local/lib/python3.11/dist-packages (from qiskit-ibmq-provider==0.20.2->qiskit==0.43.3->qiskit[visualization]==0.43.3) (2.9.0.post0)\n",
            "Requirement already satisfied: websocket-client>=1.5.1 in /usr/local/lib/python3.11/dist-packages (from qiskit-ibmq-provider==0.20.2->qiskit==0.43.3->qiskit[visualization]==0.43.3) (1.8.0)\n",
            "Requirement already satisfied: websockets>=10.0 in /usr/local/lib/python3.11/dist-packages (from qiskit-ibmq-provider==0.20.2->qiskit==0.43.3->qiskit[visualization]==0.43.3) (15.0.1)\n",
            "Requirement already satisfied: rustworkx>=0.12.0 in /usr/local/lib/python3.11/dist-packages (from qiskit-terra==0.24.2->qiskit==0.43.3->qiskit[visualization]==0.43.3) (0.16.0)\n",
            "Requirement already satisfied: ply>=3.10 in /usr/local/lib/python3.11/dist-packages (from qiskit-terra==0.24.2->qiskit==0.43.3->qiskit[visualization]==0.43.3) (3.11)\n",
            "Requirement already satisfied: psutil>=5 in /usr/local/lib/python3.11/dist-packages (from qiskit-terra==0.24.2->qiskit==0.43.3->qiskit[visualization]==0.43.3) (5.9.5)\n",
            "Requirement already satisfied: sympy>=1.3 in /usr/local/lib/python3.11/dist-packages (from qiskit-terra==0.24.2->qiskit==0.43.3->qiskit[visualization]==0.43.3) (1.13.1)\n",
            "Requirement already satisfied: dill>=0.3 in /usr/local/lib/python3.11/dist-packages (from qiskit-terra==0.24.2->qiskit==0.43.3->qiskit[visualization]==0.43.3) (0.3.7)\n",
            "Requirement already satisfied: stevedore>=3.0.0 in /usr/local/lib/python3.11/dist-packages (from qiskit-terra==0.24.2->qiskit==0.43.3->qiskit[visualization]==0.43.3) (5.4.1)\n",
            "Requirement already satisfied: symengine<0.10,>=0.9 in /usr/local/lib/python3.11/dist-packages (from qiskit-terra==0.24.2->qiskit==0.43.3->qiskit[visualization]==0.43.3) (0.9.2)\n",
            "Requirement already satisfied: ipykernel>=4.5.1 in /usr/local/lib/python3.11/dist-packages (from ipywidgets>=7.3.0->qiskit[visualization]==0.43.3) (6.17.1)\n",
            "Requirement already satisfied: ipython-genutils~=0.2.0 in /usr/local/lib/python3.11/dist-packages (from ipywidgets>=7.3.0->qiskit[visualization]==0.43.3) (0.2.0)\n",
            "Requirement already satisfied: traitlets>=4.3.1 in /usr/local/lib/python3.11/dist-packages (from ipywidgets>=7.3.0->qiskit[visualization]==0.43.3) (5.7.1)\n",
            "Requirement already satisfied: widgetsnbextension~=3.6.0 in /usr/local/lib/python3.11/dist-packages (from ipywidgets>=7.3.0->qiskit[visualization]==0.43.3) (3.6.10)\n",
            "Requirement already satisfied: ipython>=4.0.0 in /usr/local/lib/python3.11/dist-packages (from ipywidgets>=7.3.0->qiskit[visualization]==0.43.3) (7.34.0)\n",
            "Requirement already satisfied: jupyterlab-widgets>=1.0.0 in /usr/local/lib/python3.11/dist-packages (from ipywidgets>=7.3.0->qiskit[visualization]==0.43.3) (3.0.15)\n",
            "Requirement already satisfied: contourpy>=1.0.1 in /usr/local/lib/python3.11/dist-packages (from matplotlib>=2.1->qiskit[visualization]==0.43.3) (1.3.2)\n",
            "Requirement already satisfied: cycler>=0.10 in /usr/local/lib/python3.11/dist-packages (from matplotlib>=2.1->qiskit[visualization]==0.43.3) (0.12.1)\n",
            "Requirement already satisfied: fonttools>=4.22.0 in /usr/local/lib/python3.11/dist-packages (from matplotlib>=2.1->qiskit[visualization]==0.43.3) (4.58.4)\n",
            "Requirement already satisfied: kiwisolver>=1.3.1 in /usr/local/lib/python3.11/dist-packages (from matplotlib>=2.1->qiskit[visualization]==0.43.3) (1.4.8)\n",
            "Requirement already satisfied: packaging>=20.0 in /usr/local/lib/python3.11/dist-packages (from matplotlib>=2.1->qiskit[visualization]==0.43.3) (24.2)\n",
            "Requirement already satisfied: pyparsing>=2.3.1 in /usr/local/lib/python3.11/dist-packages (from matplotlib>=2.1->qiskit[visualization]==0.43.3) (3.2.3)\n",
            "Requirement already satisfied: pandas>=1.2 in /usr/local/lib/python3.11/dist-packages (from seaborn>=0.9.0->qiskit[visualization]==0.43.3) (2.2.2)\n",
            "Requirement already satisfied: debugpy>=1.0 in /usr/local/lib/python3.11/dist-packages (from ipykernel>=4.5.1->ipywidgets>=7.3.0->qiskit[visualization]==0.43.3) (1.8.0)\n",
            "Requirement already satisfied: jupyter-client>=6.1.12 in /usr/local/lib/python3.11/dist-packages (from ipykernel>=4.5.1->ipywidgets>=7.3.0->qiskit[visualization]==0.43.3) (6.1.12)\n",
            "Requirement already satisfied: matplotlib-inline>=0.1 in /usr/local/lib/python3.11/dist-packages (from ipykernel>=4.5.1->ipywidgets>=7.3.0->qiskit[visualization]==0.43.3) (0.1.7)\n",
            "Requirement already satisfied: nest-asyncio in /usr/local/lib/python3.11/dist-packages (from ipykernel>=4.5.1->ipywidgets>=7.3.0->qiskit[visualization]==0.43.3) (1.6.0)\n",
            "Requirement already satisfied: pyzmq>=17 in /usr/local/lib/python3.11/dist-packages (from ipykernel>=4.5.1->ipywidgets>=7.3.0->qiskit[visualization]==0.43.3) (24.0.1)\n",
            "Requirement already satisfied: tornado>=6.1 in /usr/local/lib/python3.11/dist-packages (from ipykernel>=4.5.1->ipywidgets>=7.3.0->qiskit[visualization]==0.43.3) (6.4.2)\n",
            "Requirement already satisfied: setuptools>=18.5 in /usr/local/lib/python3.11/dist-packages (from ipython>=4.0.0->ipywidgets>=7.3.0->qiskit[visualization]==0.43.3) (75.2.0)\n",
            "Requirement already satisfied: jedi>=0.16 in /usr/local/lib/python3.11/dist-packages (from ipython>=4.0.0->ipywidgets>=7.3.0->qiskit[visualization]==0.43.3) (0.19.2)\n",
            "Requirement already satisfied: decorator in /usr/local/lib/python3.11/dist-packages (from ipython>=4.0.0->ipywidgets>=7.3.0->qiskit[visualization]==0.43.3) (4.4.2)\n",
            "Requirement already satisfied: pickleshare in /usr/local/lib/python3.11/dist-packages (from ipython>=4.0.0->ipywidgets>=7.3.0->qiskit[visualization]==0.43.3) (0.7.5)\n",
            "Requirement already satisfied: prompt-toolkit!=3.0.0,!=3.0.1,<3.1.0,>=2.0.0 in /usr/local/lib/python3.11/dist-packages (from ipython>=4.0.0->ipywidgets>=7.3.0->qiskit[visualization]==0.43.3) (3.0.51)\n",
            "Requirement already satisfied: backcall in /usr/local/lib/python3.11/dist-packages (from ipython>=4.0.0->ipywidgets>=7.3.0->qiskit[visualization]==0.43.3) (0.2.0)\n",
            "Requirement already satisfied: pexpect>4.3 in /usr/local/lib/python3.11/dist-packages (from ipython>=4.0.0->ipywidgets>=7.3.0->qiskit[visualization]==0.43.3) (4.9.0)\n",
            "Requirement already satisfied: pytz>=2020.1 in /usr/local/lib/python3.11/dist-packages (from pandas>=1.2->seaborn>=0.9.0->qiskit[visualization]==0.43.3) (2025.2)\n",
            "Requirement already satisfied: tzdata>=2022.7 in /usr/local/lib/python3.11/dist-packages (from pandas>=1.2->seaborn>=0.9.0->qiskit[visualization]==0.43.3) (2025.2)\n",
            "Requirement already satisfied: six>=1.5 in /usr/local/lib/python3.11/dist-packages (from python-dateutil>=2.8.0->qiskit-ibmq-provider==0.20.2->qiskit==0.43.3->qiskit[visualization]==0.43.3) (1.17.0)\n",
            "Requirement already satisfied: charset-normalizer<4,>=2 in /usr/local/lib/python3.11/dist-packages (from requests>=2.19->qiskit-ibmq-provider==0.20.2->qiskit==0.43.3->qiskit[visualization]==0.43.3) (3.4.2)\n",
            "Requirement already satisfied: idna<4,>=2.5 in /usr/local/lib/python3.11/dist-packages (from requests>=2.19->qiskit-ibmq-provider==0.20.2->qiskit==0.43.3->qiskit[visualization]==0.43.3) (3.10)\n",
            "Requirement already satisfied: certifi>=2017.4.17 in /usr/local/lib/python3.11/dist-packages (from requests>=2.19->qiskit-ibmq-provider==0.20.2->qiskit==0.43.3->qiskit[visualization]==0.43.3) (2025.6.15)\n",
            "Requirement already satisfied: ntlm-auth>=1.0.2 in /usr/local/lib/python3.11/dist-packages (from requests-ntlm<=1.1.0->qiskit-ibmq-provider==0.20.2->qiskit==0.43.3->qiskit[visualization]==0.43.3) (1.5.0)\n",
            "Requirement already satisfied: cryptography>=1.3 in /usr/local/lib/python3.11/dist-packages (from requests-ntlm<=1.1.0->qiskit-ibmq-provider==0.20.2->qiskit==0.43.3->qiskit[visualization]==0.43.3) (43.0.3)\n",
            "Requirement already satisfied: pbr>=2.0.0 in /usr/local/lib/python3.11/dist-packages (from stevedore>=3.0.0->qiskit-terra==0.24.2->qiskit==0.43.3->qiskit[visualization]==0.43.3) (6.1.1)\n",
            "Requirement already satisfied: mpmath<1.4,>=1.1.0 in /usr/local/lib/python3.11/dist-packages (from sympy>=1.3->qiskit-terra==0.24.2->qiskit==0.43.3->qiskit[visualization]==0.43.3) (1.3.0)\n",
            "Requirement already satisfied: notebook>=4.4.1 in /usr/local/lib/python3.11/dist-packages (from widgetsnbextension~=3.6.0->ipywidgets>=7.3.0->qiskit[visualization]==0.43.3) (6.5.7)\n",
            "Requirement already satisfied: cffi>=1.12 in /usr/local/lib/python3.11/dist-packages (from cryptography>=1.3->requests-ntlm<=1.1.0->qiskit-ibmq-provider==0.20.2->qiskit==0.43.3->qiskit[visualization]==0.43.3) (1.17.1)\n",
            "Requirement already satisfied: parso<0.9.0,>=0.8.4 in /usr/local/lib/python3.11/dist-packages (from jedi>=0.16->ipython>=4.0.0->ipywidgets>=7.3.0->qiskit[visualization]==0.43.3) (0.8.4)\n",
            "Requirement already satisfied: jupyter-core>=4.6.0 in /usr/local/lib/python3.11/dist-packages (from jupyter-client>=6.1.12->ipykernel>=4.5.1->ipywidgets>=7.3.0->qiskit[visualization]==0.43.3) (5.8.1)\n",
            "Requirement already satisfied: jinja2 in /usr/local/lib/python3.11/dist-packages (from notebook>=4.4.1->widgetsnbextension~=3.6.0->ipywidgets>=7.3.0->qiskit[visualization]==0.43.3) (3.1.6)\n",
            "Requirement already satisfied: argon2-cffi in /usr/local/lib/python3.11/dist-packages (from notebook>=4.4.1->widgetsnbextension~=3.6.0->ipywidgets>=7.3.0->qiskit[visualization]==0.43.3) (25.1.0)\n",
            "Requirement already satisfied: nbformat in /usr/local/lib/python3.11/dist-packages (from notebook>=4.4.1->widgetsnbextension~=3.6.0->ipywidgets>=7.3.0->qiskit[visualization]==0.43.3) (5.10.4)\n",
            "Requirement already satisfied: nbconvert>=5 in /usr/local/lib/python3.11/dist-packages (from notebook>=4.4.1->widgetsnbextension~=3.6.0->ipywidgets>=7.3.0->qiskit[visualization]==0.43.3) (7.16.6)\n",
            "Requirement already satisfied: Send2Trash>=1.8.0 in /usr/local/lib/python3.11/dist-packages (from notebook>=4.4.1->widgetsnbextension~=3.6.0->ipywidgets>=7.3.0->qiskit[visualization]==0.43.3) (1.8.3)\n",
            "Requirement already satisfied: terminado>=0.8.3 in /usr/local/lib/python3.11/dist-packages (from notebook>=4.4.1->widgetsnbextension~=3.6.0->ipywidgets>=7.3.0->qiskit[visualization]==0.43.3) (0.18.1)\n",
            "Requirement already satisfied: prometheus-client in /usr/local/lib/python3.11/dist-packages (from notebook>=4.4.1->widgetsnbextension~=3.6.0->ipywidgets>=7.3.0->qiskit[visualization]==0.43.3) (0.22.1)\n",
            "Requirement already satisfied: nbclassic>=0.4.7 in /usr/local/lib/python3.11/dist-packages (from notebook>=4.4.1->widgetsnbextension~=3.6.0->ipywidgets>=7.3.0->qiskit[visualization]==0.43.3) (1.3.1)\n",
            "Requirement already satisfied: ptyprocess>=0.5 in /usr/local/lib/python3.11/dist-packages (from pexpect>4.3->ipython>=4.0.0->ipywidgets>=7.3.0->qiskit[visualization]==0.43.3) (0.7.0)\n",
            "Requirement already satisfied: wcwidth in /usr/local/lib/python3.11/dist-packages (from prompt-toolkit!=3.0.0,!=3.0.1,<3.1.0,>=2.0.0->ipython>=4.0.0->ipywidgets>=7.3.0->qiskit[visualization]==0.43.3) (0.2.13)\n",
            "Requirement already satisfied: pycparser in /usr/local/lib/python3.11/dist-packages (from cffi>=1.12->cryptography>=1.3->requests-ntlm<=1.1.0->qiskit-ibmq-provider==0.20.2->qiskit==0.43.3->qiskit[visualization]==0.43.3) (2.22)\n",
            "Requirement already satisfied: platformdirs>=2.5 in /usr/local/lib/python3.11/dist-packages (from jupyter-core>=4.6.0->jupyter-client>=6.1.12->ipykernel>=4.5.1->ipywidgets>=7.3.0->qiskit[visualization]==0.43.3) (4.3.8)\n",
            "Requirement already satisfied: notebook-shim>=0.2.3 in /usr/local/lib/python3.11/dist-packages (from nbclassic>=0.4.7->notebook>=4.4.1->widgetsnbextension~=3.6.0->ipywidgets>=7.3.0->qiskit[visualization]==0.43.3) (0.2.4)\n",
            "Requirement already satisfied: beautifulsoup4 in /usr/local/lib/python3.11/dist-packages (from nbconvert>=5->notebook>=4.4.1->widgetsnbextension~=3.6.0->ipywidgets>=7.3.0->qiskit[visualization]==0.43.3) (4.13.4)\n",
            "Requirement already satisfied: bleach!=5.0.0 in /usr/local/lib/python3.11/dist-packages (from bleach[css]!=5.0.0->nbconvert>=5->notebook>=4.4.1->widgetsnbextension~=3.6.0->ipywidgets>=7.3.0->qiskit[visualization]==0.43.3) (6.2.0)\n",
            "Requirement already satisfied: defusedxml in /usr/local/lib/python3.11/dist-packages (from nbconvert>=5->notebook>=4.4.1->widgetsnbextension~=3.6.0->ipywidgets>=7.3.0->qiskit[visualization]==0.43.3) (0.7.1)\n",
            "Requirement already satisfied: jupyterlab-pygments in /usr/local/lib/python3.11/dist-packages (from nbconvert>=5->notebook>=4.4.1->widgetsnbextension~=3.6.0->ipywidgets>=7.3.0->qiskit[visualization]==0.43.3) (0.3.0)\n",
            "Requirement already satisfied: markupsafe>=2.0 in /usr/local/lib/python3.11/dist-packages (from nbconvert>=5->notebook>=4.4.1->widgetsnbextension~=3.6.0->ipywidgets>=7.3.0->qiskit[visualization]==0.43.3) (3.0.2)\n",
            "Requirement already satisfied: mistune<4,>=2.0.3 in /usr/local/lib/python3.11/dist-packages (from nbconvert>=5->notebook>=4.4.1->widgetsnbextension~=3.6.0->ipywidgets>=7.3.0->qiskit[visualization]==0.43.3) (3.1.3)\n",
            "Requirement already satisfied: nbclient>=0.5.0 in /usr/local/lib/python3.11/dist-packages (from nbconvert>=5->notebook>=4.4.1->widgetsnbextension~=3.6.0->ipywidgets>=7.3.0->qiskit[visualization]==0.43.3) (0.10.2)\n",
            "Requirement already satisfied: pandocfilters>=1.4.1 in /usr/local/lib/python3.11/dist-packages (from nbconvert>=5->notebook>=4.4.1->widgetsnbextension~=3.6.0->ipywidgets>=7.3.0->qiskit[visualization]==0.43.3) (1.5.1)\n",
            "Requirement already satisfied: fastjsonschema>=2.15 in /usr/local/lib/python3.11/dist-packages (from nbformat->notebook>=4.4.1->widgetsnbextension~=3.6.0->ipywidgets>=7.3.0->qiskit[visualization]==0.43.3) (2.21.1)\n",
            "Requirement already satisfied: jsonschema>=2.6 in /usr/local/lib/python3.11/dist-packages (from nbformat->notebook>=4.4.1->widgetsnbextension~=3.6.0->ipywidgets>=7.3.0->qiskit[visualization]==0.43.3) (4.24.0)\n",
            "Requirement already satisfied: argon2-cffi-bindings in /usr/local/lib/python3.11/dist-packages (from argon2-cffi->notebook>=4.4.1->widgetsnbextension~=3.6.0->ipywidgets>=7.3.0->qiskit[visualization]==0.43.3) (21.2.0)\n",
            "Requirement already satisfied: webencodings in /usr/local/lib/python3.11/dist-packages (from bleach!=5.0.0->bleach[css]!=5.0.0->nbconvert>=5->notebook>=4.4.1->widgetsnbextension~=3.6.0->ipywidgets>=7.3.0->qiskit[visualization]==0.43.3) (0.5.1)\n",
            "Requirement already satisfied: tinycss2<1.5,>=1.1.0 in /usr/local/lib/python3.11/dist-packages (from bleach[css]!=5.0.0->nbconvert>=5->notebook>=4.4.1->widgetsnbextension~=3.6.0->ipywidgets>=7.3.0->qiskit[visualization]==0.43.3) (1.4.0)\n",
            "Requirement already satisfied: attrs>=22.2.0 in /usr/local/lib/python3.11/dist-packages (from jsonschema>=2.6->nbformat->notebook>=4.4.1->widgetsnbextension~=3.6.0->ipywidgets>=7.3.0->qiskit[visualization]==0.43.3) (25.3.0)\n",
            "Requirement already satisfied: jsonschema-specifications>=2023.03.6 in /usr/local/lib/python3.11/dist-packages (from jsonschema>=2.6->nbformat->notebook>=4.4.1->widgetsnbextension~=3.6.0->ipywidgets>=7.3.0->qiskit[visualization]==0.43.3) (2025.4.1)\n",
            "Requirement already satisfied: referencing>=0.28.4 in /usr/local/lib/python3.11/dist-packages (from jsonschema>=2.6->nbformat->notebook>=4.4.1->widgetsnbextension~=3.6.0->ipywidgets>=7.3.0->qiskit[visualization]==0.43.3) (0.36.2)\n",
            "Requirement already satisfied: rpds-py>=0.7.1 in /usr/local/lib/python3.11/dist-packages (from jsonschema>=2.6->nbformat->notebook>=4.4.1->widgetsnbextension~=3.6.0->ipywidgets>=7.3.0->qiskit[visualization]==0.43.3) (0.26.0)\n",
            "Requirement already satisfied: jupyter-server<3,>=1.8 in /usr/local/lib/python3.11/dist-packages (from notebook-shim>=0.2.3->nbclassic>=0.4.7->notebook>=4.4.1->widgetsnbextension~=3.6.0->ipywidgets>=7.3.0->qiskit[visualization]==0.43.3) (1.16.0)\n",
            "Requirement already satisfied: soupsieve>1.2 in /usr/local/lib/python3.11/dist-packages (from beautifulsoup4->nbconvert>=5->notebook>=4.4.1->widgetsnbextension~=3.6.0->ipywidgets>=7.3.0->qiskit[visualization]==0.43.3) (2.7)\n",
            "Requirement already satisfied: typing-extensions>=4.0.0 in /usr/local/lib/python3.11/dist-packages (from beautifulsoup4->nbconvert>=5->notebook>=4.4.1->widgetsnbextension~=3.6.0->ipywidgets>=7.3.0->qiskit[visualization]==0.43.3) (4.14.0)\n",
            "Requirement already satisfied: anyio>=3.1.0 in /usr/local/lib/python3.11/dist-packages (from jupyter-server<3,>=1.8->notebook-shim>=0.2.3->nbclassic>=0.4.7->notebook>=4.4.1->widgetsnbextension~=3.6.0->ipywidgets>=7.3.0->qiskit[visualization]==0.43.3) (4.9.0)\n",
            "Requirement already satisfied: sniffio>=1.1 in /usr/local/lib/python3.11/dist-packages (from anyio>=3.1.0->jupyter-server<3,>=1.8->notebook-shim>=0.2.3->nbclassic>=0.4.7->notebook>=4.4.1->widgetsnbextension~=3.6.0->ipywidgets>=7.3.0->qiskit[visualization]==0.43.3) (1.3.1)\n",
            "Requirement already satisfied: qiskit-aer in /usr/local/lib/python3.11/dist-packages (0.12.2)\n",
            "Requirement already satisfied: qiskit-terra>=0.21.0 in /usr/local/lib/python3.11/dist-packages (from qiskit-aer) (0.24.2)\n",
            "Requirement already satisfied: numpy>=1.16.3 in /usr/local/lib/python3.11/dist-packages (from qiskit-aer) (1.23.5)\n",
            "Requirement already satisfied: scipy>=1.0 in /usr/local/lib/python3.11/dist-packages (from qiskit-aer) (1.15.3)\n",
            "Requirement already satisfied: rustworkx>=0.12.0 in /usr/local/lib/python3.11/dist-packages (from qiskit-terra>=0.21.0->qiskit-aer) (0.16.0)\n",
            "Requirement already satisfied: ply>=3.10 in /usr/local/lib/python3.11/dist-packages (from qiskit-terra>=0.21.0->qiskit-aer) (3.11)\n",
            "Requirement already satisfied: psutil>=5 in /usr/local/lib/python3.11/dist-packages (from qiskit-terra>=0.21.0->qiskit-aer) (5.9.5)\n",
            "Requirement already satisfied: sympy>=1.3 in /usr/local/lib/python3.11/dist-packages (from qiskit-terra>=0.21.0->qiskit-aer) (1.13.1)\n",
            "Requirement already satisfied: dill>=0.3 in /usr/local/lib/python3.11/dist-packages (from qiskit-terra>=0.21.0->qiskit-aer) (0.3.7)\n",
            "Requirement already satisfied: python-dateutil>=2.8.0 in /usr/local/lib/python3.11/dist-packages (from qiskit-terra>=0.21.0->qiskit-aer) (2.9.0.post0)\n",
            "Requirement already satisfied: stevedore>=3.0.0 in /usr/local/lib/python3.11/dist-packages (from qiskit-terra>=0.21.0->qiskit-aer) (5.4.1)\n",
            "Requirement already satisfied: symengine<0.10,>=0.9 in /usr/local/lib/python3.11/dist-packages (from qiskit-terra>=0.21.0->qiskit-aer) (0.9.2)\n",
            "Requirement already satisfied: six>=1.5 in /usr/local/lib/python3.11/dist-packages (from python-dateutil>=2.8.0->qiskit-terra>=0.21.0->qiskit-aer) (1.17.0)\n",
            "Requirement already satisfied: pbr>=2.0.0 in /usr/local/lib/python3.11/dist-packages (from stevedore>=3.0.0->qiskit-terra>=0.21.0->qiskit-aer) (6.1.1)\n",
            "Requirement already satisfied: mpmath<1.4,>=1.1.0 in /usr/local/lib/python3.11/dist-packages (from sympy>=1.3->qiskit-terra>=0.21.0->qiskit-aer) (1.3.0)\n",
            "Requirement already satisfied: setuptools in /usr/local/lib/python3.11/dist-packages (from pbr>=2.0.0->stevedore>=3.0.0->qiskit-terra>=0.21.0->qiskit-aer) (75.2.0)\n"
          ]
        }
      ],
      "source": [
        "import IPython\n",
        "\n",
        "def in_colab():\n",
        "    try:\n",
        "        import google.colab\n",
        "        return True\n",
        "    except:\n",
        "        return False\n",
        "\n",
        "path_files = \"./\" if in_colab() else \"../qworld/include/\"\n",
        "\n",
        "SolutionToTask2 = lambda: IPython.display.display(IPython.display.Javascript('window.open(\"{url}\");'.format(url='https://colab.research.google.com/drive/13lGbzYa186V6BSNVWXLXz6F-4lkATxz_?usp=sharing#scrollTo=e_z1TJLtaS7H' if in_colab() else 'QB42_Q92_Grovers_Search_Implementation_Solutions.ipynb#task2')))\n",
        "SolutionToTask3 = lambda: IPython.display.display(IPython.display.Javascript('window.open(\"{url}\");'.format(url='https://colab.research.google.com/drive/13lGbzYa186V6BSNVWXLXz6F-4lkATxz_?usp=sharing#scrollTo=pxtiw8DdaS7H' if in_colab() else 'QB42_Q92_Grovers_Search_Implementation_Solutions.ipynb#task3')))\n",
        "SolutionToTask4 = lambda: IPython.display.display(IPython.display.Javascript('window.open(\"{url}\");'.format(url='https://colab.research.google.com/drive/13lGbzYa186V6BSNVWXLXz6F-4lkATxz_?usp=sharing#scrollTo=dL4FfzKiaS7H' if in_colab() else 'QB42_Q92_Grovers_Search_Implementation_Solutions.ipynb#task4')))\n",
        "SolutionToTask5 = lambda: IPython.display.display(IPython.display.Javascript('window.open(\"{url}\");'.format(url='https://colab.research.google.com/drive/13lGbzYa186V6BSNVWXLXz6F-4lkATxz_?usp=sharing#scrollTo=h7L9Px7BaS7I' if in_colab() else 'QB42_Q92_Grovers_Search_Implementation_Solutions.ipynb#task5')))\n",
        "SolutionToTask6 = lambda: IPython.display.display(IPython.display.Javascript('window.open(\"{url}\");'.format(url='https://colab.research.google.com/drive/13lGbzYa186V6BSNVWXLXz6F-4lkATxz_?usp=sharing#scrollTo=sFoDkTRtaS7I' if in_colab() else 'QB42_Q92_Grovers_Search_Implementation_Solutions.ipynb#task6')))\n",
        "SolutionToTask8 = lambda: IPython.display.display(IPython.display.Javascript('window.open(\"{url}\");'.format(url='https://colab.research.google.com/drive/13lGbzYa186V6BSNVWXLXz6F-4lkATxz_?usp=sharing#scrollTo=vMEu35p9aS7I' if in_colab() else 'QB42_Q92_Grovers_Search_Implementation_Solutions.ipynb#task8')))\n",
        "\n",
        "if in_colab():\n",
        "    url = \"https://gitlab.com/qworld/qeducation/qbook101/raw/main/qworld/include/quantum.py\"\n",
        "    !wget --no-cache -O quantum.py {url}\n",
        "\n",
        "    url = \"https://gitlab.com/qworld/qeducation/qbook101/raw/main/qworld/include/drawing.py\"\n",
        "    !wget --no-cache -O drawing.py {url}\n",
        "\n",
        "    url = \"https://gitlab.com/qworld/qeducation/qbook101/raw/main/qworld/include/quantum_state.py\"\n",
        "    !wget --no-cache -O quantum_state.py {url}\n",
        "\n",
        "    url = \"https://gitlab.com/qworld/qeducation/qbook101/raw/main/qworld/include/grover.py\"\n",
        "    !wget --no-cache -O grover.py {url}\n",
        "\n",
        "    !pip install qiskit[visualization]==0.43.3\n",
        "    !pip install qiskit-aer"
      ]
    },
    {
      "cell_type": "markdown",
      "metadata": {
        "id": "wPMnFrFYeJB-"
      },
      "source": [
        "##### Now we will consider how to implement Grover's search. Let's recall the whole algorithm.\n",
        "\n",
        "We are given $N=2^n$ elements, and one element is marked. The task is to find this marked element.\n",
        "\n",
        "We are going to use $n$ qubits. At the beginning we apply Hadamard to each qubit, so we put our quantum state into superposition. The amplitude of each basis state $ \\ket{0 \\cdots 0}, \\ldots, \\ket{1 \\cdots 1} $ is set to $ \\frac{1}{\\sqrt{N}} $. After that we iterate the following algorithm for several times:\n",
        "<ul>\n",
        "    <li>Make a query: apply a query oracle operator to qubits - it flips the sign of the amplitude of the state that corresponds to the marked element.</li>\n",
        "    <li>Inversion: apply a diffusion matrix - the amplitude of each state is reflected over the mean of all amplitudes.</li>\n",
        "</ul>\n",
        "\n",
        "Let's check how we can implement the query and inversion operations."
      ]
    },
    {
      "cell_type": "markdown",
      "metadata": {
        "id": "DAzmOh1JeJB-"
      },
      "source": [
        "<h3>Query operation</h3>\n",
        "\n",
        "<h4>Oracle</h4>\n",
        "\n",
        "Suppose that there exists a function $f:\\{0,1\\}^n \\rightarrow \\{0,1\\}$ with the following properties:\n",
        "\n",
        "\\begin{align*}\n",
        "f(x)&=1 &\\mbox{ if $x$ is marked}\\\\\n",
        "f(x)&=0 &\\mbox{ otherwise}\n",
        "\\end{align*}\n",
        "\n",
        "Grover's algorithm does not actually search a list of elements, but given function $f$ with the above properties, it finds the element $x$ such that $f(x)=1$.\n"
      ]
    },
    {
      "cell_type": "markdown",
      "metadata": {
        "id": "9l_8QPb3eJB_"
      },
      "source": [
        "<h3>Task 1 (Discussion)</h3>\n"
      ]
    },
    {
      "cell_type": "markdown",
      "metadata": {
        "id": "JwiWXKXHeJB_"
      },
      "source": [
        "Consider the following function $f:\\{0,1\\}^2 \\rightarrow \\{0,1\\}$. Which element is marked? How many queries should you make to $f$ to find out the marked element in the worst case?\n",
        "$$\n",
        "f: \\begin{array}{c|c} \\mathbf{In} & \\mathbf{Out} \\\\ \\hline  \\ket{00} & 0 \\\\ \\ket{01} & 0 \\\\ \\ket{10} & 0 \\\\ \\ket{11} & 1      \\end{array}\n",
        "$$\n"
      ]
    },
    {
      "cell_type": "markdown",
      "metadata": {
        "id": "lXiMiJD4eJB_"
      },
      "source": [
        "$f$ is often called as the <font color=\"blue\">oracle</font> or blackbox. Even though $f$ might not be reversible, it can be implemented in a reversible manner by using the following idea.\n",
        "\n",
        "<img src=\"https://gitlab.com/qworld/qeducation/qbook101/raw/main/qbook101/images/ch4/foperator.png\" width=\"40%\" align=\"center\">\n",
        "\n",
        "Here $U_f$, the corresponding quantum operator is defined as follows, where $\\oplus$ denotes bitwise addition modulo 2 (XOR).\n",
        "\n",
        "$$U_f: \\ket{x}\\ket{y} \\mapsto \\ket{x}\\ket{y \\oplus f(x)} $$\n",
        "\n",
        "Note that this mapping is reversible. When $\\ket{y}=\\ket{0}$, you get exactly $f(x)$ in the output qubit."
      ]
    },
    {
      "cell_type": "markdown",
      "metadata": {
        "id": "m-O3I5kPeJB_"
      },
      "source": [
        "<h4>Sign flip </h4>\n",
        "\n",
        "In the rest of the discussion, we will assume that we are given a quantum circuit implementing the operator $U_f$. An operator which flips the sign of the amplitude of the state corresponding to the marked element $x$ can be constructed using <font color=\"blue\">phase-kickback</font>.\n",
        "\n",
        "Now let's assume that $\\ket{y}=\\ket{-} = \\frac{1}{\\sqrt{2}} (\\ket{0} - \\ket{1})$ and investigate the effect of the operator $U_f$."
      ]
    },
    {
      "cell_type": "markdown",
      "metadata": {
        "id": "VxeKbg_ieJB_"
      },
      "source": [
        "\\begin{align*}\n",
        "U_f \\ket{x}\\ket{-} &= U_f \\ket{x}  \\frac{1}{\\sqrt{2}} \\mypar{ \\ket{0}-\\ket{1} }\\\\\n",
        "&= \\frac{1}{\\sqrt{2}} (U_f\\ket{x}\\ket{0}-U_f\\ket{x}\\ket{1}) \\\\\n",
        "&= \\frac{1}{\\sqrt{2}} (\\ket{x}\\ket{f(x)\\oplus 0} - \\ket{x}\\ket{f(x)\\oplus 1}) \\\\\n",
        "&= \\ket{x} \\frac{1}{\\sqrt{2}}\\mypar{ \\ket{f(x)}-\\ket{f(x)\\oplus 1}  } \\\\\n",
        "&= \\ket{x} (-1)^{f(x)} \\frac{1}{\\sqrt{2}} \\mypar{ \\ket{0}-\\ket{1} }\\\\\n",
        "&= (-1)^{f(x)} \\ket{x} \\ket{-}\n",
        "\\end{align*}"
      ]
    },
    {
      "cell_type": "markdown",
      "metadata": {
        "id": "Cw02iwnteJB_"
      },
      "source": [
        "We have the following transformation:\n",
        "   $$  \\ket{x}\\ket{-} \\xrightarrow{U_f} (-1)^{f(x)} \\ket{x}\\ket{-} $$"
      ]
    },
    {
      "cell_type": "markdown",
      "metadata": {
        "id": "o_0C3zz9eJB_"
      },
      "source": [
        "When $f(x)=1$, we see that a phase of -1 is kicked back to the front of the first register. Hence by preparing the output register in state $\\ket{-}$ and applying $U_f$, we obtain the sign flip effect.\n",
        "\n",
        "Note that even if we don't know anything about $f$ (that's why it is called a blackbox), we are able to flip the sign of the amplitude of the marked element by making a query to $f$ by setting output qubit to $\\ket{-}$,\n",
        "\n"
      ]
    },
    {
      "cell_type": "markdown",
      "metadata": {
        "id": "TzSrZ97zeJB_"
      },
      "source": [
        "<h3>Task 2</h3>\n"
      ]
    },
    {
      "cell_type": "markdown",
      "metadata": {
        "id": "7KEcftXMeJB_"
      },
      "source": [
        "Let $N=4$. Implement the query phase and check the unitary matrix for the query operator. Note that we are interested in the top-left $4 \\times 4$ part of the matrix since the remaining parts are due to the ancilla qubit."
      ]
    },
    {
      "cell_type": "markdown",
      "metadata": {
        "id": "sSWfDlipeJB_"
      },
      "source": [
        "You are given a function $f$ and its corresponding quantum operator $U_f$. First run the following cell to load operator $U_f$. Then you can make queries to $f$ by applying the operator $U_f$ via the following command:\n",
        "\n",
        "<pre>Uf(circuit,qreg)."
      ]
    },
    {
      "cell_type": "code",
      "execution_count": 2,
      "metadata": {
        "id": "oX5gmYZQeJB_"
      },
      "outputs": [],
      "source": [
        "quantum_file = path_files+\"quantum.py\"\n",
        "%run $quantum_file"
      ]
    },
    {
      "cell_type": "markdown",
      "metadata": {
        "id": "iL1MHb8LeJB_"
      },
      "source": [
        "Now use phase kickback to flip the sign of the marked element:\n",
        "\n",
        "- Set output qubit (qreg[2]) to $\\ket{-}$ by applying X and H.\n",
        "- Apply operator $U_f$\n",
        "- Set output qubit (qreg[2]) back.\n",
        "\n",
        "(Can you guess the marked element by looking at the unitary matrix?)"
      ]
    },
    {
      "cell_type": "code",
      "execution_count": 3,
      "metadata": {
        "id": "DUAso5GeeJB_",
        "outputId": "9e5ac474-0d3e-4599-e511-4a99a887744e",
        "colab": {
          "base_uri": "https://localhost:8080/",
          "height": 344
        }
      },
      "outputs": [
        {
          "output_type": "stream",
          "name": "stdout",
          "text": [
            "  1.0  0.0  0.0  0.0\n",
            "  0.0  1.0  0.0  0.0\n",
            "  0.0  0.0  1.0  0.0\n",
            "  0.0  0.0  0.0 -1.0\n"
          ]
        },
        {
          "output_type": "execute_result",
          "data": {
            "text/plain": [
              "<Figure size 556.358x284.278 with 1 Axes>"
            ],
            "image/png": "[encoded data removed]"
          },
          "metadata": {},
          "execution_count": 3
        }
      ],
      "source": [
        "from qiskit import QuantumRegister, ClassicalRegister, QuantumCircuit, execute, Aer\n",
        "\n",
        "qreg = QuantumRegister(3)\n",
        "#No need to define classical register as we are not measuring\n",
        "\n",
        "mycircuit = QuantumCircuit(qreg)\n",
        "\n",
        "\n",
        "#\n",
        "#Your code here\n",
        "#\n",
        "mycircuit.x(qreg[2])\n",
        "mycircuit.h(qreg[2])\n",
        "\n",
        "Uf(mycircuit, qreg)\n",
        "\n",
        "mycircuit.h(qreg[2])\n",
        "mycircuit.x(qreg[2])\n",
        "\n",
        "job = execute(mycircuit,Aer.get_backend('unitary_simulator'))\n",
        "u=job.result().get_unitary(mycircuit,decimals=3).data\n",
        "\n",
        "#We are interested in the top-left 4x4 part\n",
        "for i in range(4):\n",
        "    s=\"\"\n",
        "    for j in range(4):\n",
        "        val = str(u[i][j].real)\n",
        "        while(len(val)<5): val  = \" \"+val\n",
        "        s = s + val\n",
        "    print(s)\n",
        "\n",
        "\n",
        "mycircuit.draw(output='mpl')"
      ]
    },
    {
      "cell_type": "markdown",
      "metadata": {
        "id": "160VWB5leJB_"
      },
      "source": [
        "To check out our solution, run the next cell:"
      ]
    },
    {
      "cell_type": "code",
      "execution_count": 4,
      "metadata": {
        "id": "rSIh_m2neJB_",
        "outputId": "73822501-e3ce-4d30-8b3f-605f8737e185",
        "colab": {
          "base_uri": "https://localhost:8080/",
          "height": 37
        }
      },
      "outputs": [
        {
          "output_type": "display_data",
          "data": {
            "text/plain": [
              "<IPython.core.display.Javascript object>"
            ],
            "application/javascript": [
              "window.open(\"https://colab.research.google.com/drive/13lGbzYa186V6BSNVWXLXz6F-4lkATxz_?usp=sharing#scrollTo=e_z1TJLtaS7H\");"
            ]
          },
          "metadata": {}
        }
      ],
      "source": [
        "SolutionToTask2()  # show solution for task 2"
      ]
    },
    {
      "cell_type": "markdown",
      "metadata": {
        "id": "Y4vsdAUPeJB_"
      },
      "source": [
        "<hr>\n",
        "\n",
        "In Task 2, we see that the query operator looks like an identity operator with one of the entries being equal to -1, which is responsible for the sign flip.\n",
        "\n",
        "$\\mymatrix{cccc}{1 & 0 & 0 & 0 \\\\ 0 & 1 & 0 & 0 \\\\ 0 & 0 & 1 & 0 \\\\ 0 & 0 & 0 & -1}$.\n",
        "\n",
        "By looking at the matrix, we can guess that the marked element is $\\ket{11}$. Note that in general one is not able to peek at the matrix corresponding to the query operator and therefore it is not possible to find out the marked element after a single query."
      ]
    },
    {
      "cell_type": "markdown",
      "metadata": {
        "id": "hnfzqd2seJB_"
      },
      "source": [
        "<h3>Inversion operator </h3>\n",
        "\n",
        "[<img src=\"https://gitlab.com/qworld/qeducation/qbook101/raw/main/qworld/images/watch_lecture.jpg\" align=\"left\">](https://youtu.be/L9W2f74s7gs)\n",
        "<br><br><br>"
      ]
    },
    {
      "cell_type": "markdown",
      "metadata": {
        "id": "PZgq3IF2eJB_"
      },
      "source": [
        "To implement the inversion (diffusion) operation, we will need additional (ancilla) qubit. This is how we implement the inversion operator:\n",
        "\n",
        "- Set the ancilla qubit to $\\ket{-}$ by applying X and H.\n",
        "- Apply H to all qubits other than the ancilla.\n",
        "- Apply X to all qubits other than the ancilla.\n",
        "- Apply multiple controlled NOT operator, where the ancilla qubit is target and all other qubits are used for controlling.\n",
        "- Apply X to the ancilla qubit.\n",
        "- Apply X to all qubits other than the ancilla.\n",
        "- Apply H to all qubits other than the ancilla.\n",
        "- Set ancilla qubit back by applying X and H."
      ]
    },
    {
      "cell_type": "markdown",
      "metadata": {
        "id": "WmIGoNf2eJCA"
      },
      "source": [
        "<h4>Why these gates are chosen? (Optional) </h4>\n",
        "\n",
        "Now let's try to understand why these gates are chosen. Let's recall the inversion operator:\n",
        "\n",
        "$$ 2 \\mymatrix{ccc}{\n",
        "    \\frac{1}{N}  & \\cdots & \\frac{1}{N} \\\\\n",
        "    \\vdots & \\ddots & \\vdots \\\\\n",
        "    \\frac{1}{N}  & \\cdots & \\frac{1}{N} \\\\\n",
        "    }\n",
        "- I . $$\n",
        "\n",
        "\n",
        "This operator is also called the <font color=\"blue\"> diffusion operator</font>.\n",
        "\n",
        "Recall that the diffusion operator can be expressed as $D=2\\ket{u}\\bra{u}-I$ where $\\ket{u}=H^{\\otimes n}\\ket{0^n}$ is the equal superposition vector. We will simply denote $\\ket{0^n}$ by $\\ket{\\mathbf{0}}$.\n"
      ]
    },
    {
      "cell_type": "markdown",
      "metadata": {
        "id": "0Z-tRfvDeJCA"
      },
      "source": [
        "- To start with let's express $D$ as follows:\n",
        "\n",
        "\\begin{align*}\n",
        "D=2\\ket{u}\\bra{u}-I &= 2H^{\\otimes n}\\ket{\\mathbf{0}}\\bra{\\mathbf{0}}H^{\\otimes n}-I \\\\\n",
        "&= 2H^{\\otimes n}\\ket{\\mathbf{0}}\\bra{\\mathbf{0}}H^{\\otimes n}-H^{\\otimes n}H^{\\otimes n}\\\\\n",
        "&=H^{\\otimes n} (2\\ket{\\mathbf{0}}\\bra{\\mathbf{0}}H^{\\otimes n}-H^{\\otimes n}) \\\\\n",
        "&=H^{\\otimes n} (2\\ket{\\mathbf{0}}\\bra{\\mathbf{0}}-I)H^{\\otimes n}\n",
        "\\end{align*}\n",
        "\n",
        "<font color=\"blue\"><i>Looking at this expression, it is clear why we have H gates at the beginning and at the end</i>"
      ]
    },
    {
      "cell_type": "markdown",
      "metadata": {
        "id": "LiYZGg4heJCA"
      },
      "source": [
        "- Now let us look at the effect of applying $2\\ket{\\mathbf{0}}\\bra{\\mathbf{0}}-I$ to any arbitrary state.\n",
        "\n",
        "$(2\\ket{\\mathbf{0}}\\bra{\\mathbf{0}}-I) \\ket{x} = 2\\ket{\\mathbf{0}}\\braket{\\mathbf{0}}{x}-\\ket{x} .$\n",
        "\n",
        "If $\\ket{x}=\\ket{\\mathbf{0}}$, since $\\braket{\\mathbf{0}}{\\mathbf{0}}=1$, then $2\\ket{\\mathbf{0}}\\braket{\\mathbf{0}}{\\mathbf{0}}-\\ket{\\mathbf{0}} = 2\\ket{\\mathbf{0}}-\\ket{\\mathbf{0}} = \\ket{\\mathbf{0}}$.\n",
        "\n",
        "If $\\ket{x}\\neq \\ket{\\mathbf{0}}$, since $\\braket{\\mathbf{0}}{x}=0$, then $2\\ket{\\mathbf{0}}\\braket{\\mathbf{0}}{x}-\\ket{x}= 2\\ket{\\mathbf{0}}\\cdot 0 -\\ket{x} = -\\ket{x}$.\n",
        "\n",
        "Hence, the effect of $2\\ket{\\mathbf{0}}\\bra{\\mathbf{0}}-I$  is flipping the amplitude of any state except $\\ket{\\mathbf{0}}$."
      ]
    },
    {
      "cell_type": "markdown",
      "metadata": {
        "id": "gM9ZOAcxeJCA"
      },
      "source": [
        "- Now let's see how we can implement this operator. Let's define function $g$ as follows and let $U_g$ be the corresponding operator.\n",
        "\n",
        "\\begin{align*}\n",
        "g(x)&=0 &\\mbox{ if $x$ is $\\ket{\\mathbf{0}}$ }\\\\\n",
        "g(x)&=1 &\\mbox{ otherwise},\n",
        "\\end{align*}\n",
        "\n",
        "\n",
        "\n",
        "Let's set ancilla qubit to state $\\ket{-}$ and apply operator $U_g$.\n",
        "\\begin{align*}\n",
        "U_g \\ket{x}\\ket{-} &= (-1)^{g(x)} \\ket{x} \\ket{-}.\n",
        "\\end{align*}\n",
        "\n",
        "\n",
        "Note that $U_g$ flips the amplitudes of the states other than $\\ket{\\mathbf{0}}$ and exactly implements $2\\ket{\\mathbf{0}}\\bra{\\mathbf{0}}-I$."
      ]
    },
    {
      "cell_type": "markdown",
      "metadata": {
        "id": "XaJmMAfteJCA"
      },
      "source": [
        "- How to implement $U_g$?\n",
        "\n",
        "Consider $g'$ which is exactly the opposite of $g$.\n",
        "\n",
        "\\begin{align*}\n",
        "g'(x)&=1 &\\mbox{ if $x$ is $\\ket{\\mathbf{0}}$ }\\\\\n",
        "g'(x)&=0 &\\mbox{ otherwise},\n",
        "\\end{align*}\n",
        "\n",
        "To implement $U_g'$, we should output 1 when $x$ is $\\ket{\\bf 0}$, that is we should apply $X$ gate to the output qubit when all input qubits are in state 0.\n",
        "\n",
        "<font color=\"blue\"> <i> That's why we first apply $X$ gate to the control qubits and then apply multiple controlled NOT gate where the target is the ancilla qubit. Afterwards, we set the control qubits back (Recall the multiple controlled constructions notebook.). </i>"
      ]
    },
    {
      "cell_type": "markdown",
      "metadata": {
        "id": "UumquM09eJCA"
      },
      "source": [
        "We have just obtained the opposite effect of $g$: the output qubit is set to 1 if all input qubits are in state 0.\n",
        "\n",
        "<font color=\"blue\"><i>Therefore we apply $X$-gate to the ancila qubit so that the output is 1 when $x$ is not $\\ket{\\bf{0}}$ and the output is 0 otherwise. </i>"
      ]
    },
    {
      "cell_type": "markdown",
      "metadata": {
        "id": "kWpn0k1EeJCA"
      },
      "source": [
        "<h3>Task 3</h3>\n",
        "\n",
        "Let $N=4$. Implement the inversion operator and check whether you obtain the following matrix:\n",
        "\n",
        "$\\mymatrix{cccc}{-0.5 & 0.5 & 0.5 & 0.5 \\\\ 0.5 & -0.5 & 0.5 & 0.5 \\\\ 0.5 & 0.5 & -0.5 & 0.5 \\\\ 0.5 & 0.5 & 0.5 & -0.5}$."
      ]
    },
    {
      "cell_type": "code",
      "execution_count": 5,
      "metadata": {
        "id": "ZDJ0o4QueJCA"
      },
      "outputs": [],
      "source": [
        "def inversion(circuit,quantum_reg):\n",
        "\n",
        "#don't implement the first and last steps in which ancilla qubit is set\n",
        "\n",
        "\n",
        "#\n",
        "# your code is here\n",
        "#\n",
        "  for i in range(2):\n",
        "    circuit.h(quantum_reg[i])\n",
        "    circuit.x(quantum_reg[i])\n",
        "\n",
        "  circuit.ccx(quantum_reg[0], quantum_reg[1], quantum_reg[2])\n",
        "\n",
        "  circuit.x(quantum_reg[2])\n",
        "\n",
        "  for i in range(2):\n",
        "    circuit.x(quantum_reg[i])\n",
        "    circuit.h(quantum_reg[i])"
      ]
    },
    {
      "cell_type": "markdown",
      "metadata": {
        "id": "pP6l0sbYeJCA"
      },
      "source": [
        "Below you can check the matrix of your inversion operator and how the circuit looks like. We are interested in the top-left $4 \\times 4$ part of the matrix, the remaining parts are because we used ancilla qubit."
      ]
    },
    {
      "cell_type": "code",
      "execution_count": 6,
      "metadata": {
        "id": "9ThG-qSYeJCA",
        "outputId": "04e5ebe9-4159-462b-8499-f912cd6e2b24",
        "colab": {
          "base_uri": "https://localhost:8080/",
          "height": 344
        }
      },
      "outputs": [
        {
          "output_type": "stream",
          "name": "stdout",
          "text": [
            " -0.5  0.5  0.5  0.5\n",
            "  0.5 -0.5  0.5  0.5\n",
            "  0.5  0.5 -0.5  0.5\n",
            "  0.5  0.5  0.5 -0.5\n"
          ]
        },
        {
          "output_type": "execute_result",
          "data": {
            "text/plain": [
              "<Figure size 640.373x284.278 with 1 Axes>"
            ],
            "image/png": "[encoded data removed]"
          },
          "metadata": {},
          "execution_count": 6
        }
      ],
      "source": [
        "from qiskit import QuantumRegister, ClassicalRegister, QuantumCircuit, execute, Aer\n",
        "\n",
        "qreg1 =  QuantumRegister(3)\n",
        "\n",
        "mycircuit1 = QuantumCircuit(qreg1)\n",
        "\n",
        "#set ancilla qubit\n",
        "mycircuit1.x(qreg1[2])\n",
        "mycircuit1.h(qreg1[2])\n",
        "\n",
        "inversion(mycircuit1,qreg1)\n",
        "\n",
        "#set ancilla qubit back\n",
        "mycircuit1.h(qreg1[2])\n",
        "mycircuit1.x(qreg1[2])\n",
        "\n",
        "\n",
        "job = execute(mycircuit1,Aer.get_backend('unitary_simulator'))\n",
        "u=job.result().get_unitary(mycircuit1,decimals=3).data\n",
        "for i in range(4):\n",
        "    s=\"\"\n",
        "    for j in range(4):\n",
        "        val = str(u[i][j].real)\n",
        "        while(len(val)<5): val  = \" \"+val\n",
        "        s = s + val\n",
        "    print(s)\n",
        "\n",
        "mycircuit1.draw(output='mpl')"
      ]
    },
    {
      "cell_type": "markdown",
      "metadata": {
        "id": "X6EWGit1eJCA"
      },
      "source": [
        "To check out our solution, run the next cell:"
      ]
    },
    {
      "cell_type": "code",
      "execution_count": null,
      "metadata": {
        "id": "VFfC_vu7eJCA"
      },
      "outputs": [],
      "source": [
        "SolutionToTask3()  # show solution for task 3"
      ]
    },
    {
      "cell_type": "markdown",
      "metadata": {
        "id": "rK7v_MNieJCA"
      },
      "source": [
        "<h3>Task 4: Testing Grover's search</h3>\n",
        "\n",
        "Now we are ready to test our operations and run Grover's search. Suppose that there are 4 elements in the list and try to find the marked element.\n",
        "\n",
        "You are given the operator $U_f$. First run the following cell to load it. You can access it via <pre>Uf(circuit,qreg).</pre>\n",
        "qreg[2] is the ancilla qubit and it is shared by the query and the inversion operators.\n",
        "    \n",
        "Which state do you observe the most?"
      ]
    },
    {
      "cell_type": "code",
      "execution_count": 7,
      "metadata": {
        "id": "NKkEkYm7eJCA",
        "outputId": "30e7595d-1cdd-4830-dc82-177435a498ee",
        "colab": {
          "base_uri": "https://localhost:8080/",
          "height": 54
        }
      },
      "outputs": [
        {
          "output_type": "display_data",
          "data": {
            "text/plain": [
              "<Figure size 640x480 with 0 Axes>"
            ]
          },
          "metadata": {}
        }
      ],
      "source": [
        "quantum_file = path_files+\"quantum.py\"\n",
        "%run $quantum_file"
      ]
    },
    {
      "cell_type": "code",
      "execution_count": 8,
      "metadata": {
        "id": "o5WXoOm6eJCB",
        "outputId": "6845ffc4-09bb-4d9e-e582-031bf3c74605",
        "colab": {
          "base_uri": "https://localhost:8080/",
          "height": 357
        }
      },
      "outputs": [
        {
          "output_type": "stream",
          "name": "stdout",
          "text": [
            "11 is observed 10000 times\n"
          ]
        },
        {
          "output_type": "execute_result",
          "data": {
            "text/plain": [
              "<Figure size 1058.23x367.889 with 1 Axes>"
            ],
            "image/png": "[encoded data removed]"
          },
          "metadata": {},
          "execution_count": 8
        }
      ],
      "source": [
        "from qiskit import QuantumRegister, ClassicalRegister, QuantumCircuit, execute, Aer\n",
        "\n",
        "qreg = QuantumRegister(3)\n",
        "creg = ClassicalRegister(2)\n",
        "\n",
        "mycircuit = QuantumCircuit(qreg,creg)\n",
        "\n",
        "#Grover\n",
        "\n",
        "\n",
        "#initial step - equal superposition\n",
        "#\n",
        "#your code here\n",
        "#\n",
        "for i in range(2): mycircuit.h(qreg[i])\n",
        "\n",
        "#set ancilla\n",
        "#\n",
        "#your code here\n",
        "#\n",
        "mycircuit.x(qreg[2])\n",
        "mycircuit.h(qreg[2])\n",
        "\n",
        "#change the number of iterations\n",
        "iterations=1\n",
        "\n",
        "#Grover's iterations.\n",
        "#\n",
        "#Query operator\n",
        "#\n",
        "Uf(mycircuit, qreg)\n",
        "\n",
        "#Inversion operator\n",
        "#\n",
        "inversion(mycircuit, qreg)\n",
        "#set ancilla\n",
        "#\n",
        "#your code here\n",
        "#\n",
        "mycircuit.h(qreg[2])\n",
        "mycircuit.x(qreg[2])\n",
        "\n",
        "mycircuit.measure(qreg[0],creg[0])\n",
        "mycircuit.measure(qreg[1],creg[1])\n",
        "\n",
        "job = execute(mycircuit,Aer.get_backend('qasm_simulator'),shots=10000)\n",
        "counts = job.result().get_counts(mycircuit)\n",
        "\n",
        "# print the outcome\n",
        "for outcome in counts:\n",
        "    print(outcome,\"is observed\",counts[outcome],\"times\")\n",
        "\n",
        "mycircuit.draw(output='mpl')"
      ]
    },
    {
      "cell_type": "markdown",
      "metadata": {
        "id": "6CgEKdijeJCB"
      },
      "source": [
        "To check out our solution, run the next cell:"
      ]
    },
    {
      "cell_type": "code",
      "execution_count": null,
      "metadata": {
        "id": "19Ut22I3eJCB"
      },
      "outputs": [],
      "source": [
        "SolutionToTask4()  # show solution for task 4"
      ]
    },
    {
      "cell_type": "markdown",
      "metadata": {
        "id": "nkMc9bM3eJCB"
      },
      "source": [
        "<h3>Task 5 (Optional, challenging)</h3>\n",
        "\n",
        "Implement the inversion operation for $n=3$ ($N=8$). This time you will need 5 qubits - 3 for the operation, 1 for ancilla, and one more qubit to implement not gate controlled by three qubits.\n",
        "\n",
        "In the implementation the ancilla qubit will be qubit 3, while qubits for control are 0, 1 and 2; qubit 4 is used for the multiple control operation. As a result you should obtain the following values in the top-left $8 \\times 8$ entries:\n",
        "\n",
        "$\\mymatrix{cccccccc}{-0.75 & 0.25 & 0.25 & 0.25 & 0.25 & 0.25 & 0.25 & 0.25 \\\\ 0.25 & -0.75 & 0.25 & 0.25 & 0.25 & 0.25 & 0.25 & 0.25 \\\\ 0.25 & 0.25 & -0.75 & 0.25 & 0.25 & 0.25 & 0.25 & 0.25 \\\\ 0.25 & 0.25 & 0.25 & -0.75 & 0.25 & 0.25 & 0.25 & 0.25 \\\\ 0.25 & 0.25 & 0.25 & 0.25 & -0.75 & 0.25 & 0.25 & 0.25 \\\\ 0.25 & 0.25 & 0.25 & 0.25 & 0.25 & -0.75 & 0.25 & 0.25 \\\\ 0.25 & 0.25 & 0.25 & 0.25 & 0.25 & 0.25 & -0.75 & 0.25 \\\\ 0.25 & 0.25 & 0.25 & 0.25 & 0.25 & 0.25 & 0.25 & -0.75}$."
      ]
    },
    {
      "cell_type": "code",
      "execution_count": 21,
      "metadata": {
        "id": "PBlAMMrDeJCB"
      },
      "outputs": [],
      "source": [
        "def big_inversion(circuit,quantum_reg):\n",
        "\n",
        "\n",
        "#\n",
        "# your code is here\n",
        "#\n",
        "  for i in range(3):\n",
        "    circuit.h(quantum_reg[i])\n",
        "    circuit.x(quantum_reg[i])\n",
        "\n",
        "  circuit.ccx(quantum_reg[0], quantum_reg[1], quantum_reg[4])\n",
        "  circuit.ccx(quantum_reg[2], quantum_reg[4], quantum_reg[3])\n",
        "  circuit.ccx(quantum_reg[0], quantum_reg[1], quantum_reg[4])\n",
        "\n",
        "  circuit.x(quantum_reg[3])\n",
        "\n",
        "  for i in range(3):\n",
        "    circuit.x(quantum_reg[i])\n",
        "    circuit.h(quantum_reg[i])"
      ]
    },
    {
      "cell_type": "markdown",
      "metadata": {
        "id": "zKpzf3vIeJCB"
      },
      "source": [
        "Below you can check the matrix of your inversion operator. We are interested in the top-left $8 \\times 8$ part of the matrix, the remaining parts are because of additional qubits."
      ]
    },
    {
      "cell_type": "code",
      "execution_count": 22,
      "metadata": {
        "id": "CX4aSk4EeJCB",
        "outputId": "faf4b141-5491-44ed-d350-1064def352af",
        "colab": {
          "base_uri": "https://localhost:8080/"
        }
      },
      "outputs": [
        {
          "output_type": "stream",
          "name": "stdout",
          "text": [
            " -0.75  0.25  0.25  0.25  0.25  0.25  0.25  0.25\n",
            "  0.25 -0.75  0.25  0.25  0.25  0.25  0.25  0.25\n",
            "  0.25  0.25 -0.75  0.25  0.25  0.25  0.25  0.25\n",
            "  0.25  0.25  0.25 -0.75  0.25  0.25  0.25  0.25\n",
            "  0.25  0.25  0.25  0.25 -0.75  0.25  0.25  0.25\n",
            "  0.25  0.25  0.25  0.25  0.25 -0.75  0.25  0.25\n",
            "  0.25  0.25  0.25  0.25  0.25  0.25 -0.75  0.25\n",
            "  0.25  0.25  0.25  0.25  0.25  0.25  0.25 -0.75\n"
          ]
        }
      ],
      "source": [
        "from qiskit import QuantumRegister, ClassicalRegister, QuantumCircuit, execute, Aer\n",
        "\n",
        "big_qreg2 =  QuantumRegister(5)\n",
        "\n",
        "big_mycircuit2 = QuantumCircuit(big_qreg2)\n",
        "\n",
        "#set ancilla\n",
        "big_mycircuit2.x(big_qreg2[3])\n",
        "big_mycircuit2.h(big_qreg2[3])\n",
        "\n",
        "big_inversion(big_mycircuit2,big_qreg2)\n",
        "\n",
        "#set ancilla back\n",
        "big_mycircuit2.h(big_qreg2[3])\n",
        "big_mycircuit2.x(big_qreg2[3])\n",
        "\n",
        "job = execute(big_mycircuit2,Aer.get_backend('unitary_simulator'))\n",
        "u=job.result().get_unitary(big_mycircuit2,decimals=3).data\n",
        "for i in range(8):\n",
        "    s=\"\"\n",
        "    for j in range(8):\n",
        "        val = str(u[i][j].real)\n",
        "        while(len(val)<6): val  = \" \"+val\n",
        "        s = s + val\n",
        "    print(s)"
      ]
    },
    {
      "cell_type": "markdown",
      "metadata": {
        "id": "3L0XU6ZleJCB"
      },
      "source": [
        "To check out our solution, run the next cell:"
      ]
    },
    {
      "cell_type": "code",
      "execution_count": null,
      "metadata": {
        "id": "mZeCHPkXeJCB"
      },
      "outputs": [],
      "source": [
        "SolutionToTask5()  # show solution for task 5"
      ]
    },
    {
      "cell_type": "markdown",
      "metadata": {
        "id": "PdHQWjt5eJCB"
      },
      "source": [
        "<h3>Task 6: Testing Grover's search for 8 elements (Optional, challenging)</h3>\n",
        "\n",
        "Now we will test Grover's search on 8 elements.\n",
        "\n",
        "You are given the operator $U_{f_8}$. First run the following cell to load it. You can access it via:\n",
        "\n",
        "<pre>Uf_8(circuit,qreg)</pre>\n",
        "    \n",
        "Which state do you observe the most?"
      ]
    },
    {
      "cell_type": "code",
      "execution_count": 23,
      "metadata": {
        "id": "3-Vt3EJzeJCB",
        "outputId": "cc88f0f2-0e8e-4dde-c14b-738d005e9dd8",
        "colab": {
          "base_uri": "https://localhost:8080/",
          "height": 54
        }
      },
      "outputs": [
        {
          "output_type": "display_data",
          "data": {
            "text/plain": [
              "<Figure size 640x480 with 0 Axes>"
            ]
          },
          "metadata": {}
        }
      ],
      "source": [
        "quantum_file = path_files+\"quantum.py\"\n",
        "%run $quantum_file"
      ]
    },
    {
      "cell_type": "code",
      "execution_count": 43,
      "metadata": {
        "id": "aOMbWRqueJCB",
        "outputId": "b7e1e574-8903-478f-99e1-f8864d7113e7",
        "colab": {
          "base_uri": "https://localhost:8080/",
          "height": 883
        }
      },
      "outputs": [
        {
          "output_type": "stream",
          "name": "stdout",
          "text": [
            "100 is observed 78 times\n",
            "101 is observed 78 times\n",
            "001 is observed 82 times\n",
            "110 is observed 90 times\n",
            "010 is observed 78 times\n",
            "000 is observed 90 times\n",
            "111 is observed 78 times\n",
            "011 is observed 9426 times\n"
          ]
        },
        {
          "output_type": "execute_result",
          "data": {
            "text/plain": [
              "<Figure size 2265.04x1120.39 with 1 Axes>"
            ],
            "image/png": "[encoded data removed]"
          },
          "metadata": {},
          "execution_count": 43
        }
      ],
      "source": [
        "from qiskit import QuantumRegister, ClassicalRegister, QuantumCircuit, execute, Aer\n",
        "\n",
        "qreg8 =  QuantumRegister(5)\n",
        "creg8 = ClassicalRegister(3)\n",
        "\n",
        "mycircuit8 = QuantumCircuit(qreg8,creg8)\n",
        "\n",
        "\n",
        "#\n",
        "#Your code here\n",
        "#\n",
        "for i in range(3): mycircuit8.h(qreg8[i])\n",
        "mycircuit8.barrier()\n",
        "\n",
        "mycircuit8.x(qreg8[3])\n",
        "mycircuit8.h(qreg8[3])\n",
        "mycircuit8.barrier()\n",
        "\n",
        "for i in range(2):\n",
        "  Uf_8(mycircuit8, qreg8)\n",
        "  mycircuit8.barrier()\n",
        "  big_inversion(mycircuit8, qreg8)\n",
        "  mycircuit8.barrier()\n",
        "\n",
        "mycircuit8.h(qreg8[3])\n",
        "mycircuit8.x(qreg8[3])\n",
        "mycircuit8.barrier()\n",
        "\n",
        "for i in range(3): mycircuit8.measure(qreg8[i], creg8[i])\n",
        "\n",
        "job = execute(mycircuit8,Aer.get_backend('qasm_simulator'),shots=10000)\n",
        "counts8 = job.result().get_counts(mycircuit8)\n",
        "# print the reverse of the outcome\n",
        "for outcome in counts8:\n",
        "    print(outcome,\"is observed\",counts8[outcome],\"times\")\n",
        "\n",
        "mycircuit8.draw(output='mpl')"
      ]
    },
    {
      "cell_type": "markdown",
      "metadata": {
        "id": "U6-EQw_MeJCB"
      },
      "source": [
        "To check out our solution, run the next cell:"
      ]
    },
    {
      "cell_type": "code",
      "execution_count": null,
      "metadata": {
        "id": "pPMjjBOfeJCC"
      },
      "outputs": [],
      "source": [
        "SolutionToTask6()  # show solution for task 6"
      ]
    },
    {
      "cell_type": "markdown",
      "metadata": {
        "id": "pK_p7acpeJCC"
      },
      "source": [
        "<h3>Task 7 (optional)</h3>\n",
        "\n",
        "Do you remember the optimal number of iterations to find the marked element with Grover's search? You are given the following code which implements Grover's search. (<i>giant_oracle</i> and <i>giant_diffusion</i> are already implemented.) There is a single marked element. First, determine the total number of elements in the search space. After that, try to find the optimal number of iterations. You can check your guess by changing the value of <i>iteration_count</i>. Please also check less optimal options like <i>iteration_count-1</i>, <i>iteration_count+1</i>.\n",
        "    \n",
        "Try also calling <i>giant_oracle2</i> which marks 2 elements and try to find out the optimal number of iterations."
      ]
    },
    {
      "cell_type": "code",
      "execution_count": 49,
      "metadata": {
        "scrolled": true,
        "id": "s2IxHObmeJCC",
        "outputId": "6b51dbc0-985c-4e41-ef83-0fef58dd6e38",
        "colab": {
          "base_uri": "https://localhost:8080/"
        }
      },
      "outputs": [
        {
          "output_type": "stream",
          "name": "stdout",
          "text": [
            "0101000100 is observed 1 times\n",
            "0111111101 is observed 1 times\n",
            "0100001001 is observed 1 times\n",
            "0110000000 is observed 1 times\n",
            "1100000001 is observed 1 times\n",
            "0101101111 is observed 1 times\n",
            "1011000110 is observed 1 times\n",
            "0101000000 is observed 1 times\n",
            "1101100001 is observed 1 times\n",
            "1001000101 is observed 1 times\n",
            "1101000111 is observed 1 times\n",
            "1111011011 is observed 1 times\n",
            "0101011100 is observed 1 times\n",
            "1111000000 is observed 1 times\n",
            "1010101100 is observed 1 times\n",
            "1000100101 is observed 1 times\n",
            "0100001100 is observed 1 times\n",
            "1110111000 is observed 1 times\n",
            "0010010001 is observed 1 times\n",
            "0110110001 is observed 1 times\n",
            "0111010001 is observed 1 times\n",
            "1011011011 is observed 1 times\n",
            "0000001100 is observed 49855 times\n",
            "0100010110 is observed 1 times\n",
            "0101010010 is observed 1 times\n",
            "0111100010 is observed 1 times\n",
            "0110001111 is observed 1 times\n",
            "1111001000 is observed 1 times\n",
            "0000101101 is observed 50105 times\n",
            "0111101001 is observed 1 times\n",
            "1011100110 is observed 1 times\n",
            "1111110010 is observed 1 times\n",
            "1010110110 is observed 1 times\n",
            "0010101011 is observed 1 times\n",
            "1100110001 is observed 1 times\n",
            "0011110111 is observed 1 times\n",
            "1000110110 is observed 1 times\n",
            "1001010000 is observed 1 times\n",
            "0010000100 is observed 1 times\n",
            "1101111100 is observed 1 times\n",
            "1011110010 is observed 1 times\n",
            "0011111100 is observed 1 times\n"
          ]
        }
      ],
      "source": [
        "quantum_file = path_files+\"quantum.py\"\n",
        "%run $quantum_file\n",
        "\n",
        "from qiskit import QuantumRegister, ClassicalRegister, QuantumCircuit, execute, Aer\n",
        "\n",
        "qreg12 =  QuantumRegister(19)\n",
        "creg12 = ClassicalRegister(10)\n",
        "\n",
        "mycircuit12 = QuantumCircuit(qreg12,creg12)\n",
        "\n",
        "for i in range(10):\n",
        "    mycircuit12.h(qreg12[i])\n",
        "\n",
        "mycircuit12.x(qreg12[10])\n",
        "mycircuit12.h(qreg12[10])\n",
        "\n",
        "#number of iterations - change this value\n",
        "iteration_count = 17\n",
        "for i in range(iteration_count):\n",
        "    giant_oracle2(mycircuit12,qreg12)\n",
        "    giant_diffusion(mycircuit12,qreg12)\n",
        "\n",
        "mycircuit12.h(qreg12[10])\n",
        "mycircuit12.x(qreg12[10])\n",
        "\n",
        "for i in range(10):\n",
        "    mycircuit12.measure(qreg12[i],creg12[i])\n",
        "\n",
        "job = execute(mycircuit12,Aer.get_backend('qasm_simulator'),shots=100000)\n",
        "counts12 = job.result().get_counts(mycircuit12)\n",
        "# print the reverse of the outcome\n",
        "for outcome in counts12:\n",
        "    print(outcome,\"is observed\",counts12[outcome],\"times\")"
      ]
    },
    {
      "cell_type": "markdown",
      "source": [
        "Number of elements = 1024\n",
        "\n",
        "1.   1 marked item ---> 25 iterations (0000010010)\n",
        "2.   2 marked items --> 17 iterations (0000001100, 0000101101)"
      ],
      "metadata": {
        "id": "oLM2st1vsbVd"
      }
    },
    {
      "cell_type": "markdown",
      "metadata": {
        "id": "i1VvpzVTeJCC"
      },
      "source": [
        "<h3>Designing oracle functions</h3>\n",
        "\n",
        "Oracle function $f$ depends on the problem you want to solve. You can model many different problems (such as graph coloring, traveling salesman and many more) as a search problem. Elements in your search space correspond to quantum states. Instead of searching the whole space, you design $f$ so that it checks whether an element in the search space is the actual solution and marks it by outputing 1. Then you can use Grover's search to find the solution."
      ]
    },
    {
      "cell_type": "markdown",
      "metadata": {
        "id": "43WffRbjeJCC"
      },
      "source": [
        "Now we will design a very simple oracle function, which simply marks one of the elements. Suppose that $N=4$. Our elements in the search space are $\\ket{00}$, $\\ket{01}$, $\\ket{10}$, $\\ket{11}$ and suppose that we want to mark the element $\\ket{11}$. This means that the function should output 1 if the input qubits are in state 1. This can be simply accomplished with the following function:"
      ]
    },
    {
      "cell_type": "code",
      "execution_count": 31,
      "metadata": {
        "id": "GhxWudRweJCC"
      },
      "outputs": [],
      "source": [
        "def oracle_11(circuit,qreg):\n",
        "    circuit1.ccx(qreg[0],qreg[1],qreg[2])"
      ]
    },
    {
      "cell_type": "markdown",
      "metadata": {
        "id": "TAchbaKheJCC"
      },
      "source": [
        "Here qreg[0] and qreg[1] are the input qubits and qreg[2] is the output qubit. Let's check the matrix corresponding to the query phase."
      ]
    },
    {
      "cell_type": "code",
      "execution_count": 32,
      "metadata": {
        "id": "nIbb7BfLeJCC",
        "outputId": "317c4def-e1f2-406c-dbfd-1cdab93cef05",
        "colab": {
          "base_uri": "https://localhost:8080/",
          "height": 344
        }
      },
      "outputs": [
        {
          "output_type": "stream",
          "name": "stdout",
          "text": [
            "  1.0  0.0  0.0  0.0\n",
            "  0.0  1.0  0.0  0.0\n",
            "  0.0  0.0  1.0  0.0\n",
            "  0.0  0.0  0.0 -1.0\n"
          ]
        },
        {
          "output_type": "execute_result",
          "data": {
            "text/plain": [
              "<Figure size 575.195x284.278 with 1 Axes>"
            ],
            "image/png": "[encoded data removed]"
          },
          "metadata": {},
          "execution_count": 32
        }
      ],
      "source": [
        "from qiskit import QuantumRegister, ClassicalRegister, QuantumCircuit, execute, Aer\n",
        "\n",
        "qreg1 =  QuantumRegister(3)\n",
        "\n",
        "circuit1 = QuantumCircuit(qreg1)\n",
        "\n",
        "# prepare ancilla qubit\n",
        "circuit1.x(qreg1[2])\n",
        "circuit1.h(qreg1[2])\n",
        "\n",
        "#call the oracle\n",
        "oracle_11(circuit1,qreg1)\n",
        "\n",
        "# put ancilla qubit back into state |0>\n",
        "circuit1.h(qreg1[2])\n",
        "circuit1.x(qreg1[2])\n",
        "\n",
        "job = execute(circuit1,Aer.get_backend('unitary_simulator'))\n",
        "u=job.result().get_unitary(circuit1,decimals=3).data\n",
        "for i in range(4):\n",
        "    s=\"\"\n",
        "    for j in range(4):\n",
        "        val = str(round(u[i][j].real,3))\n",
        "        while(len(val)<5): val  = \" \"+val\n",
        "        s = s + val\n",
        "    print(s)\n",
        "\n",
        "circuit1.draw(output='mpl')"
      ]
    },
    {
      "cell_type": "markdown",
      "metadata": {
        "id": "bZ99PQ5keJCC"
      },
      "source": [
        "Let's check another example, now our marked element is $\\ket{01}$."
      ]
    },
    {
      "cell_type": "code",
      "execution_count": 33,
      "metadata": {
        "id": "AvrI6z6neJCC"
      },
      "outputs": [],
      "source": [
        "def oracle_01(circuit,qreg):\n",
        "    circuit.x(qreg[1])\n",
        "    circuit.ccx(qreg[0],qreg[1],qreg[2])\n",
        "    circuit.x(qreg[1])"
      ]
    },
    {
      "cell_type": "code",
      "execution_count": 34,
      "metadata": {
        "id": "zXwH_UVheJCC",
        "outputId": "dbde520c-627e-4892-fecd-1562c492668a",
        "colab": {
          "base_uri": "https://localhost:8080/",
          "height": 344
        }
      },
      "outputs": [
        {
          "output_type": "stream",
          "name": "stdout",
          "text": [
            "  1.0  0.0  0.0  0.0\n",
            "  0.0 -1.0  0.0  0.0\n",
            "  0.0  0.0  1.0  0.0\n",
            "  0.0  0.0  0.0  1.0\n"
          ]
        },
        {
          "output_type": "execute_result",
          "data": {
            "text/plain": [
              "<Figure size 575.195x284.278 with 1 Axes>"
            ],
            "image/png": "[encoded data removed]"
          },
          "metadata": {},
          "execution_count": 34
        }
      ],
      "source": [
        "from qiskit import QuantumRegister, ClassicalRegister, QuantumCircuit, execute, Aer\n",
        "\n",
        "qreg1 =  QuantumRegister(3)\n",
        "\n",
        "circuit1 = QuantumCircuit(qreg1)\n",
        "\n",
        "# prepare ancilla qubit\n",
        "circuit1.x(qreg1[2])\n",
        "circuit1.h(qreg1[2])\n",
        "\n",
        "#call the oracle\n",
        "oracle_01(circuit1,qreg1)\n",
        "\n",
        "# put ancilla qubit back into state |0>\n",
        "circuit1.h(qreg1[2])\n",
        "circuit1.x(qreg1[2])\n",
        "\n",
        "job = execute(circuit1,Aer.get_backend('unitary_simulator'))\n",
        "u=job.result().get_unitary(circuit1,decimals=3).data\n",
        "for i in range(4):\n",
        "    s=\"\"\n",
        "    for j in range(4):\n",
        "        val = str(round(u[i][j].real,3))\n",
        "        while(len(val)<5): val  = \" \"+val\n",
        "        s = s + val\n",
        "    print(s)\n",
        "\n",
        "circuit1.draw(output='mpl')"
      ]
    },
    {
      "cell_type": "markdown",
      "metadata": {
        "id": "3dwUpIMReJCD"
      },
      "source": [
        "<h3>Task 8</h3>\n",
        "\n",
        "Implement an oracle function which marks the element $\\ket{00}$. Run Grover's search with the oracle you have implemented."
      ]
    },
    {
      "cell_type": "code",
      "execution_count": 35,
      "metadata": {
        "id": "NCxr-WCeeJCD"
      },
      "outputs": [],
      "source": [
        "def oracle_00(circuit,qreg):\n",
        "    #Your code here\n",
        "    #\n",
        "    #\n",
        "    for i in range(2): circuit.x(qreg[i])\n",
        "    circuit.ccx(qreg[0], qreg[1], qreg[2])\n",
        "    for i in range(2): circuit.x(qreg[i])"
      ]
    },
    {
      "cell_type": "code",
      "execution_count": 37,
      "metadata": {
        "id": "s2-yG1oPeJCD",
        "outputId": "2ea1b1f9-c7a6-4221-d00c-11f5030bfab9",
        "colab": {
          "base_uri": "https://localhost:8080/",
          "height": 354
        }
      },
      "outputs": [
        {
          "output_type": "stream",
          "name": "stdout",
          "text": [
            "00 is observed 1000 times\n"
          ]
        },
        {
          "output_type": "display_data",
          "data": {
            "text/plain": [
              "<Figure size 1829.16x367.889 with 1 Axes>"
            ],
            "image/png": "[encoded data removed]"
          },
          "metadata": {}
        }
      ],
      "source": [
        "from qiskit import QuantumRegister, ClassicalRegister, QuantumCircuit, execute, Aer\n",
        "\n",
        "#Grover's search\n",
        "qreg = QuantumRegister(3)\n",
        "creg = ClassicalRegister(2)\n",
        "circuit = QuantumCircuit(qreg, creg)\n",
        "\n",
        "for i in range(2): circuit.h(qreg[i])\n",
        "circuit.barrier()\n",
        "\n",
        "circuit.x(qreg[2])\n",
        "circuit.h(qreg[2])\n",
        "circuit.barrier()\n",
        "\n",
        "oracle_00(circuit, qreg)\n",
        "circuit.barrier()\n",
        "inversion(circuit, qreg)\n",
        "circuit.barrier()\n",
        "\n",
        "circuit.h(qreg[2])\n",
        "circuit.x(qreg[2])\n",
        "circuit.barrier()\n",
        "\n",
        "for i in range(2): circuit.measure(qreg[i], creg[i])\n",
        "\n",
        "job = execute(circuit, Aer.get_backend('qasm_simulator'), shots = 1000)\n",
        "counts = job.result().get_counts(circuit)\n",
        "for outcome in counts:\n",
        "  print(f\"{outcome} is observed {counts[outcome]} times\")\n",
        "\n",
        "display(circuit.draw(output = 'mpl'))"
      ]
    },
    {
      "cell_type": "markdown",
      "metadata": {
        "id": "H1UoQg_LeJCD"
      },
      "source": [
        "To check out our solution, run the next cell:"
      ]
    },
    {
      "cell_type": "code",
      "execution_count": null,
      "metadata": {
        "id": "0o4G6Q0ceJCD"
      },
      "outputs": [],
      "source": [
        "SolutionToTask8()  # show solution for task 8"
      ]
    },
    {
      "cell_type": "markdown",
      "metadata": {
        "id": "icVahFvReJCD"
      },
      "source": [
        "<h3>Task 9 (Optional)</h3>\n",
        "\n",
        "Let $N=8$. Implement an oracle function which marks the elements $\\ket{001}$ and $\\ket{111}$. Run Grover's search with the oracle you have implemented."
      ]
    },
    {
      "cell_type": "code",
      "execution_count": 39,
      "metadata": {
        "id": "B3-vXySveJCD"
      },
      "outputs": [],
      "source": [
        "def oracle_001_111(circuit,qreg):\n",
        "    #Your code here\n",
        "    #\n",
        "    #\n",
        "    circuit.x(qreg[2])\n",
        "    circuit.x(qreg[1])\n",
        "    circuit.ccx(qreg[0], qreg[1], qreg[4])\n",
        "    circuit.ccx(qreg[2], qreg[4], qreg[3])\n",
        "    circuit.ccx(qreg[0], qreg[1], qreg[4])\n",
        "    circuit.x(qreg[1])\n",
        "    circuit.x(qreg[2])\n",
        "\n",
        "    circuit.ccx(qreg[0], qreg[1], qreg[4])\n",
        "    circuit.ccx(qreg[2], qreg[4], qreg[3])\n",
        "    circuit.ccx(qreg[0], qreg[1], qreg[4])\n",
        "\n",
        "    circuit.x(qreg[3])"
      ]
    },
    {
      "cell_type": "code",
      "source": [
        "q = QuantumRegister(5)\n",
        "c = ClassicalRegister(3)\n",
        "qc = QuantumCircuit(q, c)\n",
        "\n",
        "for i in range(3): qc.h(q[i])\n",
        "qc.barrier()\n",
        "\n",
        "qc.x(q[3])\n",
        "qc.h(q[3])\n",
        "qc.barrier()\n",
        "\n",
        "oracle_001_111(qc, q)\n",
        "qc.barrier()\n",
        "big_inversion(qc, q)\n",
        "qc.barrier()\n",
        "\n",
        "qc.h(q[3])\n",
        "qc.x(q[3])\n",
        "qc.barrier()\n",
        "\n",
        "for i in range(3): qc.measure(q[i], c[i])\n",
        "\n",
        "job = execute(qc, Aer.get_backend('qasm_simulator'), shots = 1000)\n",
        "counts = job.result().get_counts(qc)\n",
        "for outcome in counts:\n",
        "  print(f\"{outcome} is observed {counts[outcome]} times\")\n",
        "\n",
        "display(qc.draw(output = 'mpl'))"
      ],
      "metadata": {
        "id": "13jEk1gapqmi",
        "outputId": "21048b23-92f8-41f2-e5a2-7978603bfe4f",
        "colab": {
          "base_uri": "https://localhost:8080/",
          "height": 784
        }
      },
      "execution_count": 40,
      "outputs": [
        {
          "output_type": "stream",
          "name": "stdout",
          "text": [
            "111 is observed 487 times\n",
            "001 is observed 513 times\n"
          ]
        },
        {
          "output_type": "display_data",
          "data": {
            "text/plain": [
              "<Figure size 2247.42x1120.39 with 1 Axes>"
            ],
            "image/png": "[encoded data removed]"
          },
          "metadata": {}
        }
      ]
    },
    {
      "cell_type": "markdown",
      "metadata": {
        "id": "VmA4Fut7eJCD"
      },
      "source": [
        "Further info:\n",
        "\n",
        "http://quantumgazette.blogspot.com/2017/12/grovers-algorithm-for-unstructured.html"
      ]
    }
  ],
  "metadata": {
    "kernelspec": {
      "display_name": "Python 3 (ipykernel)",
      "language": "python",
      "name": "python3"
    },
    "language_info": {
      "codemirror_mode": {
        "name": "ipython",
        "version": 3
      },
      "file_extension": ".py",
      "mimetype": "text/x-python",
      "name": "python",
      "nbconvert_exporter": "python",
      "pygments_lexer": "ipython3",
      "version": "3.11.4"
    },
    "colab": {
      "provenance": [],
      "collapsed_sections": [
        "YV_c_ctFeJB-"
      ],
      "include_colab_link": true
    }
  },
  "nbformat": 4,
  "nbformat_minor": 0
}