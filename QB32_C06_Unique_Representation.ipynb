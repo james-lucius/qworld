{
  "cells": [
    {
      "cell_type": "markdown",
      "metadata": {
        "id": "view-in-github",
        "colab_type": "text"
      },
      "source": [
        "<a href=\"https://colab.research.google.com/github/james-lucius/qworld/blob/main/QB32_C06_Unique_Representation.ipynb\" target=\"_parent\"><img src=\"https://colab.research.google.com/assets/colab-badge.svg\" alt=\"Open In Colab\"/></a>"
      ]
    },
    {
      "cell_type": "markdown",
      "metadata": {
        "id": "KH4KTK215xzv"
      },
      "source": [
        "<a href=\"https://qworld.net\" target=\"_blank\" align=\"left\"><img src=\"https://gitlab.com/qworld/qeducation/qbook101/raw/main/qworld/images/header.jpg\" align=\"left\"></a>\n",
        "$ \\newcommand{\\bra}[1]{\\langle #1|} $\n",
        "$ \\newcommand{\\ket}[1]{|#1\\rangle} $\n",
        "$ \\newcommand{\\braket}[2]{\\langle #1|#2\\rangle} $\n",
        "$ \\newcommand{\\dot}[2]{ #1 \\cdot #2} $\n",
        "$ \\newcommand{\\inner}[2]{\\langle #1,#2\\rangle} $\n",
        "$ \\newcommand{\\biginner}[2]{\\left\\langle #1,#2\\right\\rangle} $\n",
        "$ \\newcommand{\\mymatrix}[2]{\\left( \\begin{array}{#1} #2\\end{array} \\right)} $\n",
        "$ \\newcommand{\\myvector}[1]{\\mymatrix{c}{#1}} $\n",
        "$ \\newcommand{\\myrvector}[1]{\\mymatrix{r}{#1}} $\n",
        "$ \\newcommand{\\mypar}[1]{\\left( #1 \\right)} $\n",
        "$ \\newcommand{\\mybigpar}[1]{ \\Big( #1 \\Big)} $\n",
        "$ \\newcommand{\\sqrttwo}{\\frac{1}{\\sqrt{2}}} $\n",
        "$ \\newcommand{\\dsqrttwo}{\\dfrac{1}{\\sqrt{2}}} $\n",
        "$ \\newcommand{\\onehalf}{\\frac{1}{2}} $\n",
        "$ \\newcommand{\\donehalf}{\\dfrac{1}{2}} $\n",
        "$ \\newcommand{\\hadamard}{ \\mymatrix{rr}{ \\sqrttwo & \\sqrttwo \\\\ \\sqrttwo & -\\sqrttwo }} $\n",
        "$ \\newcommand{\\vzero}{\\myvector{1\\\\0}} $\n",
        "$ \\newcommand{\\vone}{\\myvector{0\\\\1}} $\n",
        "$ \\newcommand{\\stateplus}{\\myvector{ \\sqrttwo \\\\  \\sqrttwo } } $\n",
        "$ \\newcommand{\\stateminus}{ \\myrvector{ \\sqrttwo \\\\ -\\sqrttwo } } $\n",
        "$ \\newcommand{\\myarray}[2]{ \\begin{array}{#1}#2\\end{array}} $\n",
        "$ \\newcommand{\\X}{ \\mymatrix{cc}{0 & 1 \\\\ 1 & 0}  } $\n",
        "$ \\newcommand{\\Z}{ \\mymatrix{rr}{1 & 0 \\\\ 0 & -1}  } $\n",
        "$ \\newcommand{\\Htwo}{ \\mymatrix{rrrr}{ \\frac{1}{2} & \\frac{1}{2} & \\frac{1}{2} & \\frac{1}{2} \\\\ \\frac{1}{2} & -\\frac{1}{2} & \\frac{1}{2} & -\\frac{1}{2} \\\\ \\frac{1}{2} & \\frac{1}{2} & -\\frac{1}{2} & -\\frac{1}{2} \\\\ \\frac{1}{2} & -\\frac{1}{2} & -\\frac{1}{2} & \\frac{1}{2} } } $\n",
        "$ \\newcommand{\\CNOT}{ \\mymatrix{cccc}{1 & 0 & 0 & 0 \\\\ 0 & 1 & 0 & 0 \\\\ 0 & 0 & 0 & 1 \\\\ 0 & 0 & 1 & 0} } $\n",
        "$ \\newcommand{\\norm}[1]{ \\left\\lVert #1 \\right\\rVert } $\n",
        "$ \\newcommand{\\pstate}[1]{ \\lceil \\mspace{-1mu} #1 \\mspace{-1.5mu} \\rfloor } $\n",
        "$ \\newcommand{\\len}[1]{\\|#1\\|} $\n",
        "$ \\newcommand{\\uniquerep}{\\cos\\mypar{\\frac{\\theta}{2}} \\ket{0} + e^{i\\phi} \\sin\\mypar{\\frac{\\theta}{2}} \\ket{1}} $"
      ]
    },
    {
      "cell_type": "markdown",
      "metadata": {
        "id": "qrCLH0yx5xzx"
      },
      "source": [
        "_prepared by Maksim Dimitrijev and Abuzer Yakaryilmaz_"
      ]
    },
    {
      "cell_type": "markdown",
      "metadata": {
        "id": "0qeaZp295xzx"
      },
      "source": [
        "<font size=\"28px\" style=\"font-size:28px;\" align=\"left\"><b>Unique representation</b></font>\n",
        "<br>\n",
        "<br><br>"
      ]
    },
    {
      "cell_type": "markdown",
      "metadata": {
        "jp-MarkdownHeadingCollapsed": true,
        "id": "W6j1wXgy5xzx"
      },
      "source": [
        "##### <font color=\"#08b806\">Please execute the following cell, it is necessary to distinguish between your local environment and Google Colab's"
      ]
    },
    {
      "cell_type": "code",
      "execution_count": 1,
      "metadata": {
        "id": "98zsYa2e5xzx",
        "outputId": "d40060e3-a4f2-46ea-d0dd-ae0e8330f043",
        "colab": {
          "base_uri": "https://localhost:8080/"
        }
      },
      "outputs": [
        {
          "output_type": "stream",
          "name": "stdout",
          "text": [
            "--2025-07-02 23:49:39--  https://gitlab.com/qworld/qeducation/qbook101/raw/main/qworld/include/qworld.py\n",
            "Resolving gitlab.com (gitlab.com)... 172.65.251.78, 2606:4700:90:0:f22e:fbec:5bed:a9b9\n",
            "Connecting to gitlab.com (gitlab.com)|172.65.251.78|:443... connected.\n",
            "HTTP request sent, awaiting response... 200 OK\n",
            "Length: 44 [text/plain]\n",
            "Saving to: ‘qworld.py’\n",
            "\n",
            "\rqworld.py             0%[                    ]       0  --.-KB/s               \rqworld.py           100%[===================>]      44  --.-KB/s    in 0s      \n",
            "\n",
            "2025-07-02 23:49:39 (14.7 MB/s) - ‘qworld.py’ saved [44/44]\n",
            "\n",
            "--2025-07-02 23:49:39--  https://gitlab.com/qworld/qeducation/qbook101/raw/main/qworld/include/drawing.py\n",
            "Resolving gitlab.com (gitlab.com)... 172.65.251.78, 2606:4700:90:0:f22e:fbec:5bed:a9b9\n",
            "Connecting to gitlab.com (gitlab.com)|172.65.251.78|:443... connected.\n",
            "HTTP request sent, awaiting response... 200 OK\n",
            "Length: 6260 (6.1K) [text/plain]\n",
            "Saving to: ‘drawing.py’\n",
            "\n",
            "drawing.py          100%[===================>]   6.11K  --.-KB/s    in 0s      \n",
            "\n",
            "2025-07-02 23:49:40 (53.5 MB/s) - ‘drawing.py’ saved [6260/6260]\n",
            "\n",
            "--2025-07-02 23:49:40--  https://gitlab.com/qworld/qeducation/qbook101/raw/main/qworld/include/quantum.py\n",
            "Resolving gitlab.com (gitlab.com)... 172.65.251.78, 2606:4700:90:0:f22e:fbec:5bed:a9b9\n",
            "Connecting to gitlab.com (gitlab.com)|172.65.251.78|:443... connected.\n",
            "HTTP request sent, awaiting response... 200 OK\n",
            "Length: 2760 (2.7K) [text/plain]\n",
            "Saving to: ‘quantum.py’\n",
            "\n",
            "quantum.py          100%[===================>]   2.70K  --.-KB/s    in 0s      \n",
            "\n",
            "2025-07-02 23:49:40 (33.4 MB/s) - ‘quantum.py’ saved [2760/2760]\n",
            "\n",
            "--2025-07-02 23:49:40--  https://gitlab.com/qworld/qeducation/qbook101/raw/main/qworld/include/quantum_state.py\n",
            "Resolving gitlab.com (gitlab.com)... 172.65.251.78, 2606:4700:90:0:f22e:fbec:5bed:a9b9\n",
            "Connecting to gitlab.com (gitlab.com)|172.65.251.78|:443... connected.\n",
            "HTTP request sent, awaiting response... 200 OK\n",
            "Length: 1391 (1.4K) [text/plain]\n",
            "Saving to: ‘quantum_state.py’\n",
            "\n",
            "quantum_state.py    100%[===================>]   1.36K  --.-KB/s    in 0s      \n",
            "\n",
            "2025-07-02 23:49:40 (18.4 MB/s) - ‘quantum_state.py’ saved [1391/1391]\n",
            "\n",
            "--2025-07-02 23:49:40--  https://gitlab.com/qworld/qeducation/qbook101/raw/main/qworld/include/grover.py\n",
            "Resolving gitlab.com (gitlab.com)... 172.65.251.78, 2606:4700:90:0:f22e:fbec:5bed:a9b9\n",
            "Connecting to gitlab.com (gitlab.com)|172.65.251.78|:443... connected.\n",
            "HTTP request sent, awaiting response... 200 OK\n",
            "Length: 6778 (6.6K) [text/plain]\n",
            "Saving to: ‘grover.py’\n",
            "\n",
            "grover.py           100%[===================>]   6.62K  --.-KB/s    in 0s      \n",
            "\n",
            "2025-07-02 23:49:41 (68.6 MB/s) - ‘grover.py’ saved [6778/6778]\n",
            "\n"
          ]
        }
      ],
      "source": [
        "import IPython\n",
        "\n",
        "def in_colab():\n",
        "    try:\n",
        "        import google.colab\n",
        "        return True\n",
        "    except:\n",
        "        return False\n",
        "\n",
        "path_files = \"./\" if in_colab() else \"../qworld/include/\"\n",
        "\n",
        "SolutionToTask1 = lambda: IPython.display.display(IPython.display.Javascript('window.open(\"{url}\");'.format(url='https://colab.research.google.com/drive/1Pm5NyJzs4id0VFRnE-IL4j8yTjTd9wC_?usp=sharing#scrollTo=DtJuj31A4RG6' if in_colab() else 'QB32_C06_Unique_Representation_Solutions.ipynb#task1')))\n",
        "SolutionToTask2 = lambda: IPython.display.display(IPython.display.Javascript('window.open(\"{url}\");'.format(url='https://colab.research.google.com/drive/1Pm5NyJzs4id0VFRnE-IL4j8yTjTd9wC_?usp=sharing#scrollTo=K7U8jQxf4RG8' if in_colab() else 'QB32_C06_Unique_Representation_Solutions.ipynb#task2')))\n",
        "SolutionToTask3 = lambda: IPython.display.display(IPython.display.Javascript('window.open(\"{url}\");'.format(url='https://colab.research.google.com/drive/1Pm5NyJzs4id0VFRnE-IL4j8yTjTd9wC_?usp=sharing#scrollTo=C9RPjcBi4RG8' if in_colab() else 'QB32_C06_Unique_Representation_Solutions.ipynb#task3')))\n",
        "SolutionToTask4 = lambda: IPython.display.display(IPython.display.Javascript('window.open(\"{url}\");'.format(url='https://colab.research.google.com/drive/1Pm5NyJzs4id0VFRnE-IL4j8yTjTd9wC_?usp=sharing#scrollTo=L9HdwXkF4RG9' if in_colab() else 'QB32_C06_Unique_Representation_Solutions.ipynb#task4')))\n",
        "SolutionToTask5 = lambda: IPython.display.display(IPython.display.Javascript('window.open(\"{url}\");'.format(url='https://colab.research.google.com/drive/1Pm5NyJzs4id0VFRnE-IL4j8yTjTd9wC_?usp=sharing#scrollTo=89zQUVNs4RG9' if in_colab() else 'QB32_C06_Unique_Representation_Solutions.ipynb#task5')))\n",
        "\n",
        "if in_colab():\n",
        "    url = \"https://gitlab.com/qworld/qeducation/qbook101/raw/main/qworld/include/qworld.py\"\n",
        "    !wget --no-cache -O qworld.py {url}\n",
        "\n",
        "    url = \"https://gitlab.com/qworld/qeducation/qbook101/raw/main/qworld/include/drawing.py\"\n",
        "    !wget --no-cache -O drawing.py {url}\n",
        "\n",
        "    url = \"https://gitlab.com/qworld/qeducation/qbook101/raw/main/qworld/include/quantum.py\"\n",
        "    !wget --no-cache -O quantum.py {url}\n",
        "\n",
        "    url = \"https://gitlab.com/qworld/qeducation/qbook101/raw/main/qworld/include/quantum_state.py\"\n",
        "    !wget --no-cache -O quantum_state.py {url}\n",
        "\n",
        "    url = \"https://gitlab.com/qworld/qeducation/qbook101/raw/main/qworld/include/grover.py\"\n",
        "    !wget --no-cache -O grover.py {url}"
      ]
    },
    {
      "cell_type": "markdown",
      "metadata": {
        "id": "MX3_Q1FJ5xzy"
      },
      "source": [
        "##### We have already discussed in the previous notebook how to obtain the unique representation $ \\ket{u'} = r_1 \\ket{0} + r_2 e^{i\\phi} \\ket{1} $ from a given quantum state $ \\ket{u} =  \\alpha \\ket{0} + \\beta \\ket{1} $."
      ]
    },
    {
      "cell_type": "markdown",
      "metadata": {
        "id": "fwJlDkg95xzy"
      },
      "source": [
        "### Task 1\n",
        "\n",
        "What is the unique representation for the quantum state $ \\ket{u} = \\dfrac{-i}{\\sqrt{6}} \\ket{0} - \\dfrac{1-2i}{\\sqrt{6}} \\ket{1} $?\n",
        "\n",
        "You may define the relative phase as an inverse trigonometric function or find its value by using Python."
      ]
    },
    {
      "cell_type": "markdown",
      "metadata": {
        "id": "31yHB85u5xzy"
      },
      "source": [
        "To check out our solution, run the next cell:"
      ]
    },
    {
      "cell_type": "code",
      "execution_count": 2,
      "metadata": {
        "id": "gtCrUR_85xzy",
        "outputId": "4c1cc119-e912-406f-dfaf-e1632bd04bd6",
        "colab": {
          "base_uri": "https://localhost:8080/",
          "height": 37
        }
      },
      "outputs": [
        {
          "output_type": "display_data",
          "data": {
            "text/plain": [
              "<IPython.core.display.Javascript object>"
            ],
            "application/javascript": [
              "window.open(\"https://colab.research.google.com/drive/1Pm5NyJzs4id0VFRnE-IL4j8yTjTd9wC_?usp=sharing#scrollTo=DtJuj31A4RG6\");"
            ]
          },
          "metadata": {}
        }
      ],
      "source": [
        "SolutionToTask1()  # show solution for task 1"
      ]
    },
    {
      "cell_type": "code",
      "execution_count": null,
      "metadata": {
        "id": "KFUSJHy95xzy"
      },
      "outputs": [],
      "source": [
        "#\n",
        "# your solution is here\n",
        "#\n"
      ]
    },
    {
      "cell_type": "markdown",
      "metadata": {
        "id": "GRDbHrVO5xzz"
      },
      "source": [
        "### Task 2\n",
        "\n",
        "Write a python function called \"euler_formula\" that takes a complex number $c$ and returns $ (r,\\theta) $ such that $ c = r e^{i\\theta} $.\n",
        "\n",
        "Test your function with the following complex numbers ($r$ and $\\theta$ values are given for the verification):\n",
        "\n",
        "$ \\begin{array}{lll}\n",
        "    c_1 = 1 + i & r=\\sqrt{2} & \\theta = \\frac{\\pi}{4} \\\\\n",
        "    c_2 = -1 + i\\sqrt{3} &  r=2 & \\theta = \\frac{2\\pi}{3}\\\\\n",
        "    c_3 = -\\sqrt{3} - i & r = 2 & \\theta = \\frac{7\\pi}{6} \\\\\n",
        "    c_4 = 1 - i & r=\\sqrt{2} &  \\theta = -\\frac{\\pi}{4}\n",
        "\\end{array}$"
      ]
    },
    {
      "cell_type": "markdown",
      "metadata": {
        "id": "6PANm05v5xzz"
      },
      "source": [
        "To check out our solution, run the next cell:"
      ]
    },
    {
      "cell_type": "code",
      "execution_count": null,
      "metadata": {
        "id": "dweoVQsk5xzz"
      },
      "outputs": [],
      "source": [
        "SolutionToTask2()  # show solution for task 2"
      ]
    },
    {
      "cell_type": "code",
      "execution_count": 4,
      "metadata": {
        "id": "07zoYMtv5xzz"
      },
      "outputs": [],
      "source": [
        "#\n",
        "# your solution is here\n",
        "#\n",
        "from math import atan, pi, sqrt\n",
        "\n",
        "def euler_formula(c):\n",
        "  r = abs(c)\n",
        "  theta = atan(c.imag / c.real)\n",
        "  if c.real < 0: theta = pi + theta\n",
        "  return (r, theta)"
      ]
    },
    {
      "cell_type": "code",
      "source": [
        "print(euler_formula(complex(1,1)))\n",
        "print(euler_formula(complex(-1,sqrt(3))))\n",
        "print(euler_formula(complex(-sqrt(3),-1)))\n",
        "print(euler_formula(complex(1,-1)))"
      ],
      "metadata": {
        "id": "-V8SjnKmjon1",
        "outputId": "1fb46d6a-67b7-4a8b-9d61-2d299c73f0b2",
        "colab": {
          "base_uri": "https://localhost:8080/"
        }
      },
      "execution_count": 5,
      "outputs": [
        {
          "output_type": "stream",
          "name": "stdout",
          "text": [
            "(1.4142135623730951, 0.7853981633974483)\n",
            "(2.0, 2.0943951023931957)\n",
            "(2.0, 3.6651914291880923)\n",
            "(1.4142135623730951, -0.7853981633974483)\n"
          ]
        }
      ]
    },
    {
      "cell_type": "markdown",
      "metadata": {
        "id": "8RdC6jyO5xzz"
      },
      "source": [
        "### Task 3\n",
        "\n",
        "Write a python function \"unique_representation\" that takes the amplitudes of $ \\ket{0} $ and $ \\ket{1} $ as complex numbers and then return the components of unique representation $r_1 $, $r_2$, and $\\phi$.\n",
        "\n",
        "Test your function with the following quantum states (check our solutions for the verification of results).\n",
        "\n",
        "- $ \\ket{u_1} = \\dfrac{-i}{\\sqrt{6}} \\ket{0} - \\dfrac{1-2i}{\\sqrt{6}} \\ket{1} $\n",
        "- $ \\ket{u_2} = \\dfrac{1}{\\sqrt{2}} \\ket{0} - \\dfrac{1}{\\sqrt{2}} \\ket{1} $\n",
        "- $ \\ket{u_3} = \\dfrac{i}{\\sqrt{2}} \\ket{0} - \\dfrac{i}{\\sqrt{2}} \\ket{1} $\n",
        "- $ \\ket{u_4} = \\dfrac{1-2i}{\\sqrt{5}} \\ket{0} $\n",
        "- $ \\ket{u_5} = \\dfrac{2i-3}{\\sqrt{13}} \\ket{1} $"
      ]
    },
    {
      "cell_type": "markdown",
      "metadata": {
        "id": "vAvl8Ne95xzz"
      },
      "source": [
        "To check out our solution, run the next cell:"
      ]
    },
    {
      "cell_type": "code",
      "source": [
        "def unique_representation(c1, c2):\n",
        "  if c1 == 0: r1 = theta1 = 0\n",
        "  else: [r1, theta1] = euler_formula(c1)\n",
        "  if c2 == 0: r2 = theta2 = 0\n",
        "  else: [r2, theta2] = euler_formula(c2)\n",
        "  phi = theta2 - theta1\n",
        "  return (r1, r2, phi)"
      ],
      "metadata": {
        "id": "nGO7g-3NnQGj"
      },
      "execution_count": 6,
      "outputs": []
    },
    {
      "cell_type": "code",
      "execution_count": null,
      "metadata": {
        "id": "ZF6jmErr5xzz"
      },
      "outputs": [],
      "source": [
        "SolutionToTask3()  # show solution for task 3"
      ]
    },
    {
      "cell_type": "code",
      "execution_count": 7,
      "metadata": {
        "id": "P1hQDB4e5xzz",
        "outputId": "c3b40148-17f8-418b-caf5-62640722ab42",
        "colab": {
          "base_uri": "https://localhost:8080/"
        }
      },
      "outputs": [
        {
          "output_type": "stream",
          "name": "stdout",
          "text": [
            "[-0.4082482904638631j, (-0.4082482904638631+0.8164965809277261j)]\n",
            "[(0.7071067811865475+0j), (-0.7071067811865475+0j)]\n",
            "[0.7071067811865475j, -0.7071067811865475j]\n",
            "[(0.4472135954999579-0.8944271909999159j), 0]\n",
            "[0, (-0.8320502943378437+0.5547001962252291j)]\n"
          ]
        }
      ],
      "source": [
        "from math import sqrt\n",
        "#\n",
        "# your solution is here\n",
        "#\n",
        "states = [\n",
        "    [ complex(0,-1/sqrt(6)) , complex(-1/sqrt(6),2/sqrt(6))],\n",
        "    [ complex(1/sqrt(2),0) , complex(-1/sqrt(2),0) ],\n",
        "    [ complex(0,1/sqrt(2)) , complex(0,-1/sqrt(2)) ],\n",
        "    [ complex(1/sqrt(5),-2/sqrt(5)) , 0 ],\n",
        "    [ 0 , complex(-3/sqrt(13),2/sqrt(13)) ]\n",
        "]\n",
        "\n",
        "for state in states:\n",
        "    print(state)"
      ]
    },
    {
      "cell_type": "markdown",
      "metadata": {
        "id": "kkscOWAV5xzz"
      },
      "source": [
        "## Visualization of quantum states\n",
        "\n",
        "By using the unique representation, each quantum state can be visualized on three dimensions.\n",
        "\n",
        "The unique representation has three parameters $ r_1 $, $ r_2 $, and $ \\phi $. We discuss how to combine them and then visualize the quantum states of a single qubit."
      ]
    },
    {
      "cell_type": "markdown",
      "metadata": {
        "id": "_83f8Zlr5xzz"
      },
      "source": [
        "### The unit circle by the relative phases\n",
        "\n",
        "As any relative phase $ \\phi \\in [0,2\\pi) $, it is easy to see that $ \\{ e^{i\\phi} \\} $ forms the unit circle on the complex plane (run the cell below)."
      ]
    },
    {
      "cell_type": "code",
      "execution_count": 8,
      "metadata": {
        "id": "tPHFgrE55xzz",
        "outputId": "cea32829-f8ab-4452-bf41-203741bdb7e1",
        "colab": {
          "base_uri": "https://localhost:8080/",
          "height": 393
        }
      },
      "outputs": [
        {
          "output_type": "stream",
          "name": "stdout",
          "text": [
            "phi in degree = 218.2\n",
            "phi in radian = 3.81\n",
            "phi in radian = 1.21 π\n"
          ]
        },
        {
          "output_type": "display_data",
          "data": {
            "text/plain": [
              "<Figure size 360x360 with 1 Axes>"
            ],
            "image/png": "[encoded data removed]"
          },
          "metadata": {}
        }
      ],
      "source": [
        "# load the pre-defined functions\n",
        "qworld_file = path_files+\"qworld.py\"\n",
        "%run $qworld_file\n",
        "\n",
        "from random import randrange\n",
        "import matplotlib.pyplot as plt\n",
        "import matplotlib.patches as pts\n",
        "from math import cos, sin\n",
        "\n",
        "phi = randrange(36000)/100 # pick a random phi value\n",
        "print(\"phi in degree =\",round(phi,1))\n",
        "\n",
        "draw_imaginary_part()\n",
        "plt.gca().add_patch( pts.Arc((0,0),2,2,angle=0,theta1=0,theta2=phi,color=\"blue\",linewidth=2) )\n",
        "phi_in_radian = 2*pi*(phi/360)\n",
        "print(\"phi in radian =\",round(phi_in_radian,2))\n",
        "print(\"phi in radian =\",round(phi_in_radian/pi,2),\"π\")\n",
        "x = cos(phi_in_radian)\n",
        "y = sin(phi_in_radian)\n",
        "\n",
        "draw_2D_vector(x,y,\"$e^{i\\phi}$\")"
      ]
    },
    {
      "cell_type": "markdown",
      "metadata": {
        "id": "FMRB3xqI5xzz"
      },
      "source": [
        "### The angle of the magnitudes"
      ]
    },
    {
      "cell_type": "markdown",
      "metadata": {
        "id": "ZuasufTL5xzz"
      },
      "source": [
        "We know that $ r_1^2 + r_2^2 = 1 $ and both $ r_1 $ and $ r_2 $ are non-negative real numbers.\n",
        "\n",
        "Thus, all $ (r_1,r_2) $ pairs form the first quadrant of the unit circle, as drawn below (run the cell)."
      ]
    },
    {
      "cell_type": "code",
      "execution_count": 9,
      "metadata": {
        "id": "yzAfRxtb5xzz",
        "outputId": "c78fad7c-437b-408d-dd11-59eca548ffa4",
        "colab": {
          "base_uri": "https://localhost:8080/",
          "height": 445
        }
      },
      "outputs": [
        {
          "output_type": "stream",
          "name": "stdout",
          "text": [
            "r1 = 0.86  r2 = 0.51\n",
            "r1*r1+r2*r2 = 1.0\n",
            "the angle in degree (a) is  30.7\n",
            "the angle in radian is 0.536\n",
            "the angle in radian is 0.17 π\n"
          ]
        },
        {
          "output_type": "display_data",
          "data": {
            "text/plain": [
              "<Figure size 640x480 with 0 Axes>"
            ]
          },
          "metadata": {}
        },
        {
          "output_type": "display_data",
          "data": {
            "text/plain": [
              "<Figure size 360x360 with 1 Axes>"
            ],
            "image/png": "[encoded data removed]"
          },
          "metadata": {}
        }
      ],
      "source": [
        "# load the pre-defined functions\n",
        "qworld_file = path_files+\"qworld.py\"\n",
        "%run $qworld_file\n",
        "\n",
        "from random import randrange\n",
        "import matplotlib.pyplot as plt\n",
        "import matplotlib.patches as pts\n",
        "from math import cos, sin\n",
        "\n",
        "theta = randrange(9000)/100 # pick a random theta value\n",
        "theta_radian = theta*pi/180\n",
        "r1 = cos(theta_radian)\n",
        "r2 = sin(theta_radian)\n",
        "print(\"r1 =\",round(r1,2),\" r2 =\",round(r2,2))\n",
        "print(\"r1*r1+r2*r2 =\",round(r1*r1+r2*r2,2))\n",
        "\n",
        "#matplotlib.pyplot.subplot(1, 2, 1)\n",
        "draw_real_part()\n",
        "plt.gca().add_patch( pts.Arc((0,0),2,2,angle=0,theta1=0,theta2=90,color=\"black\",linewidth=2) )\n",
        "plt.gca().add_patch( pts.Arc((0,0),2,2,angle=0,theta1=0,theta2=theta_radian,color=\"blue\",linewidth=2) )\n",
        "\n",
        "draw_2D_vector(r1,r2,\"(r1,r2)\")\n",
        "\n",
        "plt.gca().add_patch(pts.Arc((0, 0), 0.7, 0.7, angle=0, theta1=0, theta2=theta))\n",
        "rr1 = cos(theta_radian/2)\n",
        "rr2 = sin(theta_radian/2)\n",
        "plt.text(rr1*0.15, rr2*0.15, '.',fontsize=30)\n",
        "plt.text(rr1*0.4, rr2*0.4,\"θ\",fontsize=16)\n",
        "\n",
        "print(\"the angle in degree (a) is \",round(theta,1))\n",
        "print(\"the angle in radian is\",round(theta_radian,3))\n",
        "print(\"the angle in radian is\",round(theta_radian/pi,3),\"π\")"
      ]
    },
    {
      "cell_type": "markdown",
      "metadata": {
        "id": "logoTmKl5xz0"
      },
      "source": [
        "We can represent any pair $ (r_1,r_2) $ by its angle $ \\theta \\in [0,\\pi /2] $, the angle with the $ \\ket{0} $-axis:\n",
        "\n",
        "- $ r_1 = \\cos(\\theta) $\n",
        "- $ r_2 = \\sin(\\theta) $"
      ]
    },
    {
      "cell_type": "markdown",
      "metadata": {
        "id": "eyhig_lv5xz0"
      },
      "source": [
        "### Combining the magnitudes and relative phase on 3D\n",
        "\n",
        "We use the unit sphere (globe) to visualize $ ((r1,r2),\\phi) $ or equivalantly $ (\\theta,\\phi) $.\n",
        "\n",
        "We can place the unit circle due to $ \\phi $ at the equator.\n",
        "\n",
        "Then, potentially, we can use a semi-sphere to place the first-quadrant into the picture. But, then, we obtain a non-symmetric object. The extreme points of $ \\theta $ are 0 and $ \\pi/2 $, and there is only a single pole to place one of these extreme points.\n",
        "\n",
        "One practical solution is streching the angle of magnitudes by a factor of 2 and so using both poles.\n",
        "\n",
        "We define $ \\theta \\in [0,\\pi] $ and place $ \\ket{0} $ (resp., $\\ket{1}$) to the top (resp., bottom)."
      ]
    },
    {
      "cell_type": "code",
      "execution_count": 10,
      "metadata": {
        "id": "muDjGRrb5xz0",
        "outputId": "6a5841fd-2e07-4b14-91d0-ea2c94f5b2b0",
        "colab": {
          "base_uri": "https://localhost:8080/",
          "height": 445
        }
      },
      "outputs": [
        {
          "output_type": "stream",
          "name": "stdout",
          "text": [
            "r1 = 0.418  r2 = 0.909\n",
            "r1*r1+r2*r2 = 1.0\n",
            "the angle in degree (a) is  49.4\n",
            "the angle in radian is 0.861\n",
            "the angle in radian is 0.274 π\n"
          ]
        },
        {
          "output_type": "display_data",
          "data": {
            "text/plain": [
              "<Figure size 640x480 with 0 Axes>"
            ]
          },
          "metadata": {}
        },
        {
          "output_type": "display_data",
          "data": {
            "text/plain": [
              "<Figure size 360x360 with 1 Axes>"
            ],
            "image/png": "[encoded data removed]"
          },
          "metadata": {}
        }
      ],
      "source": [
        "# load the pre-defined functions\n",
        "qworld_file = path_files+\"qworld.py\"\n",
        "%run $qworld_file\n",
        "\n",
        "from random import randrange\n",
        "import matplotlib.pyplot as plt\n",
        "import matplotlib.patches as pts\n",
        "from math import cos, sin\n",
        "\n",
        "theta = randrange(18000)/100 # pick a random theta value\n",
        "theta_radian = theta*pi/180\n",
        "r1 = cos(theta_radian/2)\n",
        "r2 = sin(theta_radian/2)\n",
        "x = cos(theta_radian-pi/2)\n",
        "y = sin(theta_radian-pi/2)\n",
        "\n",
        "print(\"r1 =\",round(r1,3),\" r2 =\",round(r2,3))\n",
        "print(\"r1*r1+r2*r2 =\",round(r1*r1+r2*r2,2))\n",
        "\n",
        "draw_real_part2()\n",
        "plt.gca().add_patch( pts.Arc((0,0),2,2,angle=0,theta1=-90,theta2=90,color=\"black\",linewidth=2) )\n",
        "plt.gca().add_patch( pts.Arc((0,0),2,2,angle=0,theta1=theta-90,theta2=90,color=\"blue\",linewidth=2) )\n",
        "\n",
        "draw_2D_vector(x,y,\"(r1,r2)\")\n",
        "\n",
        "plt.gca().add_patch(pts.Arc((0, 0), 0.7, 0.7, angle=0, theta1=theta-90, theta2=90))\n",
        "rr1 = cos(theta_radian/2)\n",
        "rr2 = sin(theta_radian/2)\n",
        "plt.text(rr1*0.15, rr2*0.15, '.',fontsize=30)\n",
        "plt.text(rr1*0.4, rr2*0.4,\"θ\",fontsize=16)\n",
        "\n",
        "theta = 180 - theta\n",
        "theta_radian = theta*pi/180\n",
        "print(\"the angle in degree (a) is \",round(theta,1))\n",
        "print(\"the angle in radian is\",round(theta_radian,3))\n",
        "print(\"the angle in radian is\",round(theta_radian/pi,3),\"π\")"
      ]
    },
    {
      "cell_type": "markdown",
      "metadata": {
        "id": "lDlJYFJI5xz0"
      },
      "source": [
        "As the convention, the state $ \\ket{0} $ is placed on the north pole, and the state $ \\ket{1} $ is placed on the south pole.\n",
        "\n",
        "Now, for the given $ \\theta $ as in the figure, the magnitudes should be calculated as:\n",
        "\n",
        "- $ r_1 = \\cos \\mypar{ \\dfrac{\\theta}{2}  } $\n",
        "- $ r_2 = \\sin \\mypar{ \\dfrac{\\theta}{2}  } $\n",
        "\n",
        "Thus, the unique representation can be written in terms of $ (\\theta,\\phi)  $ as\n",
        "\n",
        "$ \\ket{u} = \\cos\\mypar{\\frac{\\theta}{2}} \\ket{0} + e^{i\\phi} \\sin\\mypar{\\frac{\\theta}{2}} \\ket{1} $.\n",
        "\n",
        "The last step is how to integrate this new semi-circle due to $ \\theta $ with the unit circle due to the relative phase $ \\phi $. We use $ \\dfrac{ \\ket{0}+\\ket{1} }{ \\sqrt{2} } $ as a reference point. Its relative phase is 0 because $ e^{i\\phi} = 1 $. Thus, this point coincides with the point $ 1+0i $ on the unit circle due to the relative phase."
      ]
    },
    {
      "cell_type": "markdown",
      "metadata": {
        "id": "v6mZqNV05xz0"
      },
      "source": [
        "### Bloch sphere"
      ]
    },
    {
      "cell_type": "markdown",
      "metadata": {
        "id": "NVNvfDl85xz0"
      },
      "source": [
        "The unit sphere we obtain is called _Bloch sphere_.\n",
        "\n",
        "<img src=\"https://gitlab.com/qworld/qeducation/qbook101/raw/main/qbook101/images/ch3/Bloch_sphere_six_states_wiki.jpg\" width=\"45%\" align=\"left\">\n",
        "<img src=\"https://gitlab.com/qworld/qeducation/qbook101/raw/main/qbook101/images/ch3/Bloch_sphere_wiki.png\" width=\"30.7%\" align=\"left\">"
      ]
    },
    {
      "cell_type": "markdown",
      "metadata": {
        "id": "lmsJp7eg5xz0"
      },
      "source": [
        "<p style=\"font-size:10px;font-style:italic;text-align:right\">\n",
        "<a href=\"https://en.wikipedia.org/wiki/File:Six_states_Bloch_sphere.jpg\" target=\"_blank\">source of left image</a> (license CC BY-SA 4.0) & <a href=\"https://commons.wikimedia.org/wiki/File:Bloch_sphere.svg\" target=\"_blank\">source of right image</a> (license CC BY-SA 3.0) </p>"
      ]
    },
    {
      "cell_type": "markdown",
      "metadata": {
        "id": "hdMJQ26q5xz0"
      },
      "source": [
        "On the left, we see the Bloch sphere with the six main reference quantum states:\n",
        "- $ \\ket{0} $ and $ \\ket{1} $ are placed at the intersection of $z$-axis of with the unit sphere, where $ \\ket{0} $ on the positive side.\n",
        "- $ \\ket{+} $ and $ \\ket{-} $ are placed at the intersection of $x$-axis of with the unit sphere, where $ \\ket{+} $ on the positive side.\n",
        "- $ \\ket{i} $ and $ \\ket{-i} $ are placed at the intersection of $y$-axis of with the unit sphere, where $ \\ket{i} $ on the positive side.\n",
        "\n",
        "On the right, we see any quantum state on the Bloch sphere having the unique representation\n",
        "$ \\ket{\\Psi} = \\cos\\mypar{\\frac{\\theta}{2}} \\ket{0} + e^{i\\phi} \\sin\\mypar{\\frac{\\theta}{2}} \\ket{1} $.\n",
        "- Observe that the reference axis for the angles are the $ z $-axis and $ x $-axis.\n",
        "\n",
        "We leave the further details to the next notebook dedicated to the Bloch sphere."
      ]
    },
    {
      "cell_type": "markdown",
      "metadata": {
        "id": "HYiFfpPm5xz0"
      },
      "source": [
        "## One exception of the unique representation\n",
        "\n",
        "For any given quantum state $ \\alpha \\ket{0} + \\beta \\ket{1} $, where $ \\alpha,\\beta \\in \\mathbb{C} $, we have a unique representation in the form\n",
        "\n",
        "$ \\uniquerep $, where $ \\theta \\in [0,\\pi] $ and $ \\phi \\in [0,2\\pi) $.\n",
        "\n",
        "However, there is an exception such that there are several states in the form of unique representation but still represent the same quantum state.\n",
        "\n",
        "It is indeed the case when _the relative phase becomes a global phase_."
      ]
    },
    {
      "cell_type": "markdown",
      "metadata": {
        "id": "NLGxJPki5xz0"
      },
      "source": [
        "### Task 4\n",
        "\n",
        "What is the exception of the uniquie representation?\n",
        "\n",
        "It is a set of infinetely many quantum states in the form of unique representation, but any pair of states from this set is not distinguishable.\n",
        "\n",
        "_Hint: In which case does the relative phase turns out to be a global phase?_"
      ]
    },
    {
      "cell_type": "markdown",
      "metadata": {
        "id": "ODk5OdWp5xz0"
      },
      "source": [
        "To check out our solution, run the next cell:"
      ]
    },
    {
      "cell_type": "code",
      "execution_count": null,
      "metadata": {
        "id": "AU_-_PV85xz0"
      },
      "outputs": [],
      "source": [
        "SolutionToTask4()  # show solution for task 4"
      ]
    },
    {
      "cell_type": "markdown",
      "metadata": {
        "id": "Q5mQ2Wgg5xz0"
      },
      "source": [
        "If we define the unique representation with the pair of angles $ (\\theta,\\phi) $, then indeed there are two exceptions."
      ]
    },
    {
      "cell_type": "markdown",
      "metadata": {
        "id": "j2aHshDC5xz0"
      },
      "source": [
        "### Task 5\n",
        "\n",
        "What are the exceptions if we define the uniquie representation with the pair of angles $ (\\theta,\\phi) $?"
      ]
    },
    {
      "cell_type": "markdown",
      "metadata": {
        "id": "Gld2n1Gi5xz0"
      },
      "source": [
        "To check out our solution, run the next cell:"
      ]
    },
    {
      "cell_type": "code",
      "execution_count": null,
      "metadata": {
        "id": "J6Mqzejj5xz1"
      },
      "outputs": [],
      "source": [
        "SolutionToTask5()  # show solution for task 5"
      ]
    }
  ],
  "metadata": {
    "kernelspec": {
      "display_name": "Python 3 (ipykernel)",
      "language": "python",
      "name": "python3"
    },
    "language_info": {
      "codemirror_mode": {
        "name": "ipython",
        "version": 3
      },
      "file_extension": ".py",
      "mimetype": "text/x-python",
      "name": "python",
      "nbconvert_exporter": "python",
      "pygments_lexer": "ipython3",
      "version": "3.11.4"
    },
    "colab": {
      "provenance": [],
      "collapsed_sections": [
        "W6j1wXgy5xzx"
      ],
      "include_colab_link": true
    }
  },
  "nbformat": 4,
  "nbformat_minor": 0
}