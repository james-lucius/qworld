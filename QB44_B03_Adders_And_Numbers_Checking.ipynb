{
  "cells": [
    {
      "cell_type": "markdown",
      "metadata": {
        "id": "view-in-github",
        "colab_type": "text"
      },
      "source": [
        "<a href=\"https://colab.research.google.com/github/james-lucius/qworld/blob/main/QB44_B03_Adders_And_Numbers_Checking.ipynb\" target=\"_parent\"><img src=\"https://colab.research.google.com/assets/colab-badge.svg\" alt=\"Open In Colab\"/></a>"
      ]
    },
    {
      "cell_type": "markdown",
      "metadata": {
        "id": "QdrK9jYLxvMF"
      },
      "source": [
        "<a href=\"https://qworld.net\" target=\"_blank\" align=\"left\"><img src=\"https://gitlab.com/qworld/qeducation/qbook101/raw/main/qworld/images/header.jpg\" align=\"left\"></a>\n",
        "$ \\newcommand{\\bra}[1]{\\langle #1|} $\n",
        "$ \\newcommand{\\ket}[1]{|#1\\rangle} $\n",
        "$ \\newcommand{\\braket}[2]{\\langle #1|#2\\rangle} $\n",
        "$ \\newcommand{\\dot}[2]{ #1 \\cdot #2} $\n",
        "$ \\newcommand{\\biginner}[2]{\\left\\langle #1,#2\\right\\rangle} $\n",
        "$ \\newcommand{\\mymatrix}[2]{\\left( \\begin{array}{#1} #2\\end{array} \\right)} $\n",
        "$ \\newcommand{\\myvector}[1]{\\mymatrix{c}{#1}} $\n",
        "$ \\newcommand{\\myrvector}[1]{\\mymatrix{r}{#1}} $\n",
        "$ \\newcommand{\\mypar}[1]{\\left( #1 \\right)} $\n",
        "$ \\newcommand{\\mybigpar}[1]{ \\Big( #1 \\Big)} $\n",
        "$ \\newcommand{\\sqrttwo}{\\frac{1}{\\sqrt{2}}} $\n",
        "$ \\newcommand{\\dsqrttwo}{\\dfrac{1}{\\sqrt{2}}} $\n",
        "$ \\newcommand{\\onehalf}{\\frac{1}{2}} $\n",
        "$ \\newcommand{\\donehalf}{\\dfrac{1}{2}} $\n",
        "$ \\newcommand{\\hadamard}{ \\mymatrix{rr}{ \\sqrttwo & \\sqrttwo \\\\ \\sqrttwo & -\\sqrttwo }} $\n",
        "$ \\newcommand{\\vzero}{\\myvector{1\\\\0}} $\n",
        "$ \\newcommand{\\vone}{\\myvector{0\\\\1}} $\n",
        "$ \\newcommand{\\stateplus}{\\myvector{ \\sqrttwo \\\\  \\sqrttwo } } $\n",
        "$ \\newcommand{\\stateminus}{ \\myrvector{ \\sqrttwo \\\\ -\\sqrttwo } } $\n",
        "$ \\newcommand{\\myarray}[2]{ \\begin{array}{#1}#2\\end{array}} $\n",
        "$ \\newcommand{\\X}{ \\mymatrix{cc}{0 & 1 \\\\ 1 & 0}  } $\n",
        "$ \\newcommand{\\I}{ \\mymatrix{rr}{1 & 0 \\\\ 0 & 1}  } $\n",
        "$ \\newcommand{\\Z}{ \\mymatrix{rr}{1 & 0 \\\\ 0 & -1}  } $\n",
        "$ \\newcommand{\\Htwo}{ \\mymatrix{rrrr}{ \\frac{1}{2} & \\frac{1}{2} & \\frac{1}{2} & \\frac{1}{2} \\\\ \\frac{1}{2} & -\\frac{1}{2} & \\frac{1}{2} & -\\frac{1}{2} \\\\ \\frac{1}{2} & \\frac{1}{2} & -\\frac{1}{2} & -\\frac{1}{2} \\\\ \\frac{1}{2} & -\\frac{1}{2} & -\\frac{1}{2} & \\frac{1}{2} } } $\n",
        "$ \\newcommand{\\CNOT}{ \\mymatrix{cccc}{1 & 0 & 0 & 0 \\\\ 0 & 1 & 0 & 0 \\\\ 0 & 0 & 0 & 1 \\\\ 0 & 0 & 1 & 0} } $\n",
        "$ \\newcommand{\\norm}[1]{ \\left\\lVert #1 \\right\\rVert } $\n",
        "$ \\newcommand{\\pstate}[1]{ \\lceil \\mspace{-1mu} #1 \\mspace{-1.5mu} \\rfloor } $\n",
        "$ \\newcommand{\\greenbit}[1] {\\mathbf{{\\color{green}#1}}} $\n",
        "$ \\newcommand{\\bluebit}[1] {\\mathbf{{\\color{blue}#1}}} $\n",
        "$ \\newcommand{\\redbit}[1] {\\mathbf{{\\color{red}#1}}} $\n",
        "$ \\newcommand{\\brownbit}[1] {\\mathbf{{\\color{brown}#1}}} $\n",
        "$ \\newcommand{\\blackbit}[1] {\\mathbf{{\\color{black}#1}}} $"
      ]
    },
    {
      "cell_type": "markdown",
      "metadata": {
        "id": "aOTRa-7RxvMF"
      },
      "source": [
        "_prepared by Adam Glos and Özlem Salehi_"
      ]
    },
    {
      "cell_type": "markdown",
      "metadata": {
        "id": "B6TeTmD9xvMG"
      },
      "source": [
        "<font size=\"28px\" style=\"font-size:28px;\" align=\"left\"><b> Adders and numbers checking </b></font>\n",
        "<br>\n",
        "<br><br>"
      ]
    },
    {
      "cell_type": "markdown",
      "metadata": {
        "jp-MarkdownHeadingCollapsed": true,
        "id": "snGh7KYZxvMG"
      },
      "source": [
        "##### <font color=\"#08b806\">Please execute the following cell, it is necessary to distinguish between your local environment and Google Colab's"
      ]
    },
    {
      "cell_type": "code",
      "execution_count": 1,
      "metadata": {
        "id": "egnBKB4lxvMG",
        "outputId": "31ded3c3-e7a4-4cd3-ed1d-598fffb201a6",
        "colab": {
          "base_uri": "https://localhost:8080/"
        }
      },
      "outputs": [
        {
          "output_type": "stream",
          "name": "stdout",
          "text": [
            "Collecting cirq\n",
            "  Downloading cirq-1.5.0-py3-none-any.whl.metadata (15 kB)\n",
            "Collecting cirq-aqt==1.5.0 (from cirq)\n",
            "  Downloading cirq_aqt-1.5.0-py3-none-any.whl.metadata (4.8 kB)\n",
            "Collecting cirq-core==1.5.0 (from cirq)\n",
            "  Downloading cirq_core-1.5.0-py3-none-any.whl.metadata (4.9 kB)\n",
            "Collecting cirq-google==1.5.0 (from cirq)\n",
            "  Downloading cirq_google-1.5.0-py3-none-any.whl.metadata (4.9 kB)\n",
            "Collecting cirq-ionq==1.5.0 (from cirq)\n",
            "  Downloading cirq_ionq-1.5.0-py3-none-any.whl.metadata (4.7 kB)\n",
            "Collecting cirq-pasqal==1.5.0 (from cirq)\n",
            "  Downloading cirq_pasqal-1.5.0-py3-none-any.whl.metadata (4.8 kB)\n",
            "Collecting cirq-web==1.5.0 (from cirq)\n",
            "  Downloading cirq_web-1.5.0-py3-none-any.whl.metadata (5.5 kB)\n",
            "Requirement already satisfied: requests~=2.32 in /usr/local/lib/python3.11/dist-packages (from cirq-aqt==1.5.0->cirq) (2.32.3)\n",
            "Requirement already satisfied: attrs>=21.3.0 in /usr/local/lib/python3.11/dist-packages (from cirq-core==1.5.0->cirq) (25.3.0)\n",
            "Collecting duet>=0.2.8 (from cirq-core==1.5.0->cirq)\n",
            "  Downloading duet-0.2.9-py3-none-any.whl.metadata (2.3 kB)\n",
            "Requirement already satisfied: matplotlib~=3.7 in /usr/local/lib/python3.11/dist-packages (from cirq-core==1.5.0->cirq) (3.10.0)\n",
            "Requirement already satisfied: networkx~=3.1 in /usr/local/lib/python3.11/dist-packages (from cirq-core==1.5.0->cirq) (3.5)\n",
            "Requirement already satisfied: numpy>=1.25 in /usr/local/lib/python3.11/dist-packages (from cirq-core==1.5.0->cirq) (2.0.2)\n",
            "Requirement already satisfied: pandas~=2.0 in /usr/local/lib/python3.11/dist-packages (from cirq-core==1.5.0->cirq) (2.2.2)\n",
            "Requirement already satisfied: sortedcontainers~=2.0 in /usr/local/lib/python3.11/dist-packages (from cirq-core==1.5.0->cirq) (2.4.0)\n",
            "Requirement already satisfied: scipy~=1.11 in /usr/local/lib/python3.11/dist-packages (from cirq-core==1.5.0->cirq) (1.15.3)\n",
            "Requirement already satisfied: sympy in /usr/local/lib/python3.11/dist-packages (from cirq-core==1.5.0->cirq) (1.13.1)\n",
            "Requirement already satisfied: typing_extensions>=4.2 in /usr/local/lib/python3.11/dist-packages (from cirq-core==1.5.0->cirq) (4.14.1)\n",
            "Requirement already satisfied: tqdm>=4.12 in /usr/local/lib/python3.11/dist-packages (from cirq-core==1.5.0->cirq) (4.67.1)\n",
            "Requirement already satisfied: google-api-core>=1.14.0 in /usr/local/lib/python3.11/dist-packages (from google-api-core[grpc]>=1.14.0->cirq-google==1.5.0->cirq) (2.25.1)\n",
            "Requirement already satisfied: proto-plus>=1.20.0 in /usr/local/lib/python3.11/dist-packages (from cirq-google==1.5.0->cirq) (1.26.1)\n",
            "Requirement already satisfied: protobuf<6.0,>=4.25 in /usr/local/lib/python3.11/dist-packages (from cirq-google==1.5.0->cirq) (5.29.5)\n",
            "Collecting typedunits (from cirq-google==1.5.0->cirq)\n",
            "  Downloading typedunits-0.0.1.dev20250509200845-cp311-cp311-manylinux_2_17_x86_64.manylinux2014_x86_64.whl.metadata (4.8 kB)\n",
            "Requirement already satisfied: googleapis-common-protos<2.0.0,>=1.56.2 in /usr/local/lib/python3.11/dist-packages (from google-api-core>=1.14.0->google-api-core[grpc]>=1.14.0->cirq-google==1.5.0->cirq) (1.70.0)\n",
            "Requirement already satisfied: google-auth<3.0.0,>=2.14.1 in /usr/local/lib/python3.11/dist-packages (from google-api-core>=1.14.0->google-api-core[grpc]>=1.14.0->cirq-google==1.5.0->cirq) (2.38.0)\n",
            "Requirement already satisfied: grpcio<2.0.0,>=1.33.2 in /usr/local/lib/python3.11/dist-packages (from google-api-core[grpc]>=1.14.0->cirq-google==1.5.0->cirq) (1.73.1)\n",
            "Requirement already satisfied: grpcio-status<2.0.0,>=1.33.2 in /usr/local/lib/python3.11/dist-packages (from google-api-core[grpc]>=1.14.0->cirq-google==1.5.0->cirq) (1.71.2)\n",
            "Requirement already satisfied: contourpy>=1.0.1 in /usr/local/lib/python3.11/dist-packages (from matplotlib~=3.7->cirq-core==1.5.0->cirq) (1.3.2)\n",
            "Requirement already satisfied: cycler>=0.10 in /usr/local/lib/python3.11/dist-packages (from matplotlib~=3.7->cirq-core==1.5.0->cirq) (0.12.1)\n",
            "Requirement already satisfied: fonttools>=4.22.0 in /usr/local/lib/python3.11/dist-packages (from matplotlib~=3.7->cirq-core==1.5.0->cirq) (4.58.5)\n",
            "Requirement already satisfied: kiwisolver>=1.3.1 in /usr/local/lib/python3.11/dist-packages (from matplotlib~=3.7->cirq-core==1.5.0->cirq) (1.4.8)\n",
            "Requirement already satisfied: packaging>=20.0 in /usr/local/lib/python3.11/dist-packages (from matplotlib~=3.7->cirq-core==1.5.0->cirq) (24.2)\n",
            "Requirement already satisfied: pillow>=8 in /usr/local/lib/python3.11/dist-packages (from matplotlib~=3.7->cirq-core==1.5.0->cirq) (11.2.1)\n",
            "Requirement already satisfied: pyparsing>=2.3.1 in /usr/local/lib/python3.11/dist-packages (from matplotlib~=3.7->cirq-core==1.5.0->cirq) (3.2.3)\n",
            "Requirement already satisfied: python-dateutil>=2.7 in /usr/local/lib/python3.11/dist-packages (from matplotlib~=3.7->cirq-core==1.5.0->cirq) (2.9.0.post0)\n",
            "Requirement already satisfied: pytz>=2020.1 in /usr/local/lib/python3.11/dist-packages (from pandas~=2.0->cirq-core==1.5.0->cirq) (2025.2)\n",
            "Requirement already satisfied: tzdata>=2022.7 in /usr/local/lib/python3.11/dist-packages (from pandas~=2.0->cirq-core==1.5.0->cirq) (2025.2)\n",
            "Requirement already satisfied: charset-normalizer<4,>=2 in /usr/local/lib/python3.11/dist-packages (from requests~=2.32->cirq-aqt==1.5.0->cirq) (3.4.2)\n",
            "Requirement already satisfied: idna<4,>=2.5 in /usr/local/lib/python3.11/dist-packages (from requests~=2.32->cirq-aqt==1.5.0->cirq) (3.10)\n",
            "Requirement already satisfied: urllib3<3,>=1.21.1 in /usr/local/lib/python3.11/dist-packages (from requests~=2.32->cirq-aqt==1.5.0->cirq) (2.4.0)\n",
            "Requirement already satisfied: certifi>=2017.4.17 in /usr/local/lib/python3.11/dist-packages (from requests~=2.32->cirq-aqt==1.5.0->cirq) (2025.7.9)\n",
            "Requirement already satisfied: mpmath<1.4,>=1.1.0 in /usr/local/lib/python3.11/dist-packages (from sympy->cirq-core==1.5.0->cirq) (1.3.0)\n",
            "Requirement already satisfied: cython>=3.0.0 in /usr/local/lib/python3.11/dist-packages (from typedunits->cirq-google==1.5.0->cirq) (3.0.12)\n",
            "Requirement already satisfied: cachetools<6.0,>=2.0.0 in /usr/local/lib/python3.11/dist-packages (from google-auth<3.0.0,>=2.14.1->google-api-core>=1.14.0->google-api-core[grpc]>=1.14.0->cirq-google==1.5.0->cirq) (5.5.2)\n",
            "Requirement already satisfied: pyasn1-modules>=0.2.1 in /usr/local/lib/python3.11/dist-packages (from google-auth<3.0.0,>=2.14.1->google-api-core>=1.14.0->google-api-core[grpc]>=1.14.0->cirq-google==1.5.0->cirq) (0.4.2)\n",
            "Requirement already satisfied: rsa<5,>=3.1.4 in /usr/local/lib/python3.11/dist-packages (from google-auth<3.0.0,>=2.14.1->google-api-core>=1.14.0->google-api-core[grpc]>=1.14.0->cirq-google==1.5.0->cirq) (4.9.1)\n",
            "Requirement already satisfied: six>=1.5 in /usr/local/lib/python3.11/dist-packages (from python-dateutil>=2.7->matplotlib~=3.7->cirq-core==1.5.0->cirq) (1.17.0)\n",
            "Requirement already satisfied: pyasn1<0.7.0,>=0.6.1 in /usr/local/lib/python3.11/dist-packages (from pyasn1-modules>=0.2.1->google-auth<3.0.0,>=2.14.1->google-api-core>=1.14.0->google-api-core[grpc]>=1.14.0->cirq-google==1.5.0->cirq) (0.6.1)\n",
            "Downloading cirq-1.5.0-py3-none-any.whl (10 kB)\n",
            "Downloading cirq_aqt-1.5.0-py3-none-any.whl (31 kB)\n",
            "Downloading cirq_core-1.5.0-py3-none-any.whl (2.0 MB)\n",
            "\u001b[2K   \u001b[90m━━━━━━━━━━━━━━━━━━━━━━━━━━━━━━━━━━━━━━━━\u001b[0m \u001b[32m2.0/2.0 MB\u001b[0m \u001b[31m36.4 MB/s\u001b[0m eta \u001b[36m0:00:00\u001b[0m\n",
            "\u001b[?25hDownloading cirq_google-1.5.0-py3-none-any.whl (597 kB)\n",
            "\u001b[2K   \u001b[90m━━━━━━━━━━━━━━━━━━━━━━━━━━━━━━━━━━━━━━━━\u001b[0m \u001b[32m597.5/597.5 kB\u001b[0m \u001b[31m39.8 MB/s\u001b[0m eta \u001b[36m0:00:00\u001b[0m\n",
            "\u001b[?25hDownloading cirq_ionq-1.5.0-py3-none-any.whl (72 kB)\n",
            "\u001b[2K   \u001b[90m━━━━━━━━━━━━━━━━━━━━━━━━━━━━━━━━━━━━━━━━\u001b[0m \u001b[32m72.0/72.0 kB\u001b[0m \u001b[31m6.4 MB/s\u001b[0m eta \u001b[36m0:00:00\u001b[0m\n",
            "\u001b[?25hDownloading cirq_pasqal-1.5.0-py3-none-any.whl (33 kB)\n",
            "Downloading cirq_web-1.5.0-py3-none-any.whl (425 kB)\n",
            "\u001b[2K   \u001b[90m━━━━━━━━━━━━━━━━━━━━━━━━━━━━━━━━━━━━━━━━\u001b[0m \u001b[32m425.1/425.1 kB\u001b[0m \u001b[31m32.0 MB/s\u001b[0m eta \u001b[36m0:00:00\u001b[0m\n",
            "\u001b[?25hDownloading duet-0.2.9-py3-none-any.whl (29 kB)\n",
            "Downloading typedunits-0.0.1.dev20250509200845-cp311-cp311-manylinux_2_17_x86_64.manylinux2014_x86_64.whl (2.8 MB)\n",
            "\u001b[2K   \u001b[90m━━━━━━━━━━━━━━━━━━━━━━━━━━━━━━━━━━━━━━━━\u001b[0m \u001b[32m2.8/2.8 MB\u001b[0m \u001b[31m73.7 MB/s\u001b[0m eta \u001b[36m0:00:00\u001b[0m\n",
            "\u001b[?25hInstalling collected packages: typedunits, duet, cirq-core, cirq-web, cirq-pasqal, cirq-ionq, cirq-aqt, cirq-google, cirq\n",
            "Successfully installed cirq-1.5.0 cirq-aqt-1.5.0 cirq-core-1.5.0 cirq-google-1.5.0 cirq-ionq-1.5.0 cirq-pasqal-1.5.0 cirq-web-1.5.0 duet-0.2.9 typedunits-0.0.1.dev20250509200845\n"
          ]
        }
      ],
      "source": [
        "import IPython\n",
        "\n",
        "def in_colab():\n",
        "    try:\n",
        "        import google.colab\n",
        "        return True\n",
        "    except:\n",
        "        return False\n",
        "\n",
        "SolutionToTask1 = lambda: IPython.display.display(IPython.display.Javascript('window.open(\"{url}\");'.format(url='https://colab.research.google.com/drive/1qW_OGo0tli9aqyR6N-oACklPOI4kD19v?usp=sharing#scrollTo=6IaNZfnvwF78' if in_colab() else 'QB44_B03_Adders_And_Numbers_Checking_Solutions.ipynb#task1')))\n",
        "SolutionToTask2 = lambda: IPython.display.display(IPython.display.Javascript('window.open(\"{url}\");'.format(url='https://colab.research.google.com/drive/1qW_OGo0tli9aqyR6N-oACklPOI4kD19v?usp=sharing#scrollTo=P23K-4lpwF79' if in_colab() else 'QB44_B03_Adders_And_Numbers_Checking_Solutions.ipynb#task2')))\n",
        "SolutionToTask3 = lambda: IPython.display.display(IPython.display.Javascript('window.open(\"{url}\");'.format(url='https://colab.research.google.com/drive/1qW_OGo0tli9aqyR6N-oACklPOI4kD19v?usp=sharing#scrollTo=AO_DhlMKwF79' if in_colab() else 'QB44_B03_Adders_And_Numbers_Checking_Solutions.ipynb#task3')))\n",
        "SolutionToTask4 = lambda: IPython.display.display(IPython.display.Javascript('window.open(\"{url}\");'.format(url='https://colab.research.google.com/drive/1qW_OGo0tli9aqyR6N-oACklPOI4kD19v?usp=sharing#scrollTo=llBI3mfOwF7-' if in_colab() else 'QB44_B03_Adders_And_Numbers_Checking_Solutions.ipynb#task4')))\n",
        "SolutionToTask5 = lambda: IPython.display.display(IPython.display.Javascript('window.open(\"{url}\");'.format(url='https://colab.research.google.com/drive/1qW_OGo0tli9aqyR6N-oACklPOI4kD19v?usp=sharing#scrollTo=Csklp1ImwF7_' if in_colab() else 'QB44_B03_Adders_And_Numbers_Checking_Solutions.ipynb#task5')))\n",
        "\n",
        "if in_colab():\n",
        "    !pip install cirq"
      ]
    },
    {
      "cell_type": "markdown",
      "metadata": {
        "id": "J1113fvbxvMG"
      },
      "source": [
        "##### To implement the oracle for solving Max-Cut problem, we first examine how to add numbers in a quantum way."
      ]
    },
    {
      "cell_type": "markdown",
      "metadata": {
        "id": "0gp1HxTpxvMG"
      },
      "source": [
        "## Half-adders"
      ]
    },
    {
      "cell_type": "markdown",
      "metadata": {
        "id": "oxL2oIlexvMG"
      },
      "source": [
        "Suppose that we want to add two bits $A$ and $B$. $\\Sigma$ represents the sum and $C_{out}$ represents the carry, that is an overflow to the next digit. Let's represent the relationship between the bits which are summed in the following table."
      ]
    },
    {
      "cell_type": "markdown",
      "metadata": {
        "id": "LcoeKi9mxvMG"
      },
      "source": [
        "<table>\n",
        "    <tr>\n",
        "        <td> $A$ </td>\n",
        "        <td> $B$ </td>\n",
        "        <td> $C_{\\rm out}$</td>\n",
        "        <td> $\\Sigma$ </td>\n",
        "    </tr>\n",
        "    <tr>\n",
        "        <td> 0 </td>\n",
        "        <td> 0 </td>\n",
        "        <td> 0 </td>\n",
        "        <td> 0 </td>\n",
        "    </tr>\n",
        "    <tr>\n",
        "        <td> 0 </td>\n",
        "        <td> 1 </td>\n",
        "        <td> 0 </td>\n",
        "        <td> 1 </td>\n",
        "    </tr>\n",
        "    <tr>\n",
        "        <td> 1 </td>\n",
        "        <td> 0 </td>\n",
        "        <td> 0 </td>\n",
        "        <td> 1 </td>\n",
        "    </tr>\n",
        "    <tr>\n",
        "        <td> 1 </td>\n",
        "        <td> 1 </td>\n",
        "        <td> 1 </td>\n",
        "        <td> 0 </td>\n",
        "    </tr>\n",
        "</table>"
      ]
    },
    {
      "cell_type": "markdown",
      "metadata": {
        "id": "_7gBB-hUxvMG"
      },
      "source": [
        "Note that the third column is the AND operator on the first two, while the last is the XOR of first two. To implement this in a quantum circuit, we use four qubits as shown in the circuit below. We can use the following circuit to simulate the half-adder\n",
        "<img src=\"https://gitlab.com/qworld/qeducation/qbook101/raw/main/qbook101/images/ch4/halfadder_large.png\" width=\"25%\" align=\"center\">\n",
        "where the first two qubits are the inputs and the last two qubits are the outputs."
      ]
    },
    {
      "cell_type": "markdown",
      "metadata": {
        "id": "DuCLufeOxvMG"
      },
      "source": [
        "### Task 1\n",
        "Implement the above half-adder and verify that indeed it generates correct outputs for any input."
      ]
    },
    {
      "cell_type": "code",
      "execution_count": 2,
      "metadata": {
        "id": "evXwlROExvMG",
        "outputId": "f4ae1355-f652-4163-c2ec-5a7edcd5412a",
        "colab": {
          "base_uri": "https://localhost:8080/"
        }
      },
      "outputs": [
        {
          "output_type": "stream",
          "name": "stdout",
          "text": [
            "measurement output: [[0 0 0 0]]\n",
            "added bits: 0 and 0\n",
            "sum: 0\n",
            "Cout: 0\n",
            "\n",
            "measurement output: [[0 1 0 1]]\n",
            "added bits: 0 and 1\n",
            "sum: 1\n",
            "Cout: 0\n",
            "\n",
            "measurement output: [[1 0 0 1]]\n",
            "added bits: 1 and 0\n",
            "sum: 1\n",
            "Cout: 0\n",
            "\n",
            "measurement output: [[1 1 1 0]]\n",
            "added bits: 1 and 1\n",
            "sum: 0\n",
            "Cout: 1\n",
            "\n"
          ]
        }
      ],
      "source": [
        "import cirq\n",
        "from cirq import X, CX\n",
        "s = cirq.Simulator()\n",
        "\n",
        "for input in ['00','01','10','11']:\n",
        "    qq = cirq.LineQubit.range(4)\n",
        "    circuit = cirq.Circuit()\n",
        "\n",
        "    # Initialize the input\n",
        "    if input[0] == '1':\n",
        "        circuit.append(X(qq[0]))\n",
        "    if input[1] == '1':\n",
        "        circuit.append(X(qq[1]))\n",
        "\n",
        "    #\n",
        "    # your solution\n",
        "    #\n",
        "    circuit.append(X(qq[2]).controlled_by(*qq[0:2]))\n",
        "    circuit.append(CX(qq[0], qq[3]))\n",
        "    circuit.append(CX(qq[1], qq[3]))\n",
        "\n",
        "    circuit.append(cirq.measure(*qq, key='result'))\n",
        "\n",
        "    samples = s.run(circuit, repetitions=1)\n",
        "    result = samples.measurements[\"result\"]\n",
        "    print(\"measurement output:\", result)\n",
        "    print(\"added bits:\", input[0] , \"and\", input[1])\n",
        "    print(\"sum:\", result[0][3])\n",
        "    print(\"Cout:\", result[0][2])\n",
        "    print()"
      ]
    },
    {
      "cell_type": "markdown",
      "metadata": {
        "id": "0xdC6RryxvMG"
      },
      "source": [
        "To check out our solution, run the next cell:"
      ]
    },
    {
      "cell_type": "code",
      "execution_count": 3,
      "metadata": {
        "id": "X5tQ6Wl_xvMG",
        "outputId": "9a7b86fb-0b70-45b2-a3e0-70e16370bdfd",
        "colab": {
          "base_uri": "https://localhost:8080/",
          "height": 37
        }
      },
      "outputs": [
        {
          "output_type": "display_data",
          "data": {
            "text/plain": [
              "<IPython.core.display.Javascript object>"
            ],
            "application/javascript": [
              "window.open(\"https://colab.research.google.com/drive/1qW_OGo0tli9aqyR6N-oACklPOI4kD19v?usp=sharing#scrollTo=6IaNZfnvwF78\");"
            ]
          },
          "metadata": {}
        }
      ],
      "source": [
        "SolutionToTask1()  # show solution for task 1"
      ]
    },
    {
      "cell_type": "markdown",
      "metadata": {
        "id": "Q0ATC4qAxvMH"
      },
      "source": [
        "Note that the half-adder above stores the solution on a separate qubit. We can think of this operation as `A + B`.\n",
        "\n",
        "Next, we will see that we can also implement in-place addition, `B+=A`. Fortunately, this can be done with the following circuit."
      ]
    },
    {
      "cell_type": "code",
      "execution_count": 4,
      "metadata": {
        "id": "ZHTH9SByxvMH",
        "outputId": "b30d7ec5-41bf-4f68-d453-08bc51a5c7ff",
        "colab": {
          "base_uri": "https://localhost:8080/"
        }
      },
      "outputs": [
        {
          "output_type": "stream",
          "name": "stdout",
          "text": [
            "0: ───@───@───\n",
            "      │   │\n",
            "1: ───@───X───\n",
            "      │\n",
            "2: ───X───────\n"
          ]
        }
      ],
      "source": [
        "import cirq\n",
        "from cirq import CCX,CX\n",
        "\n",
        "qq = cirq.LineQubit.range(3)\n",
        "circuit = cirq.Circuit()\n",
        "circuit.append(CCX(qq[0], qq[1], qq[2]))\n",
        "circuit.append(CX(qq[0], qq[1]))\n",
        "\n",
        "print(circuit)"
      ]
    },
    {
      "cell_type": "markdown",
      "metadata": {
        "id": "BA6paeUfxvMH"
      },
      "source": [
        "One can verify that if $\\ket{q_0}$ and $\\ket{q_1}$ are the digits being added, then on $\\ket{q_1}$ we will have the sum bit $\\Sigma$, and on $\\ket{q_2}$ we will obtain the carry bit $C_{\\rm out}$."
      ]
    },
    {
      "cell_type": "markdown",
      "metadata": {
        "id": "huESF9snxvMH"
      },
      "source": [
        "<table>\n",
        "     <tr>\n",
        "        <td colspan=\"3\" align=\"center\"> Input </td>\n",
        "         <td> &nbsp; </td>\n",
        "        <td colspan=\"3\" align=\"center\"> Output </td>\n",
        "    </tr>\n",
        "    <tr>\n",
        "        <td> $q_0$ </td>\n",
        "        <td> $q_1$ </td>\n",
        "        <td> $q_2$</td>\n",
        "        <td> &nbsp; </td>\n",
        "        <td> $q_0$ </td>\n",
        "        <td> $q_1$ </td>\n",
        "        <td> $q_2$</td>\n",
        "    </tr>\n",
        "    <tr>\n",
        "        <td> 0 </td>\n",
        "        <td> 0 </td>\n",
        "        <td> 0 </td>\n",
        "        <td> &nbsp; </td>\n",
        "        <td> 0 </td>\n",
        "        <td> 0 </td>\n",
        "        <td> 0 </td>\n",
        "    </tr>\n",
        "    <tr>\n",
        "        <td> 0 </td>\n",
        "        <td> 1 </td>\n",
        "        <td> 0 </td>\n",
        "        <td> &nbsp; </td>\n",
        "        <td> 0 </td>\n",
        "        <td> 1 </td>\n",
        "        <td> 0 </td>\n",
        "    </tr>\n",
        "    <tr>\n",
        "        <td> 1 </td>\n",
        "        <td> 0 </td>\n",
        "        <td> 0 </td>\n",
        "        <td> &nbsp; </td>\n",
        "        <td> 1 </td>\n",
        "        <td> 1 </td>\n",
        "        <td> 0 </td>\n",
        "    </tr>\n",
        "    <tr>\n",
        "        <td> 1 </td>\n",
        "        <td> 1 </td>\n",
        "        <td> 0 </td>\n",
        "        <td> &nbsp; </td>\n",
        "        <td> 1 </td>\n",
        "        <td> 0 </td>\n",
        "        <td> 1 </td>\n",
        "    </tr>\n",
        "</table>\n"
      ]
    },
    {
      "cell_type": "markdown",
      "metadata": {
        "id": "xfzncEW5xvMH"
      },
      "source": [
        "What happens if the qubit $\\ket{q_2}$ is originally in state $\\ket{1}$? Let's check the following table."
      ]
    },
    {
      "cell_type": "markdown",
      "metadata": {
        "id": "3L1l1ChBxvMH"
      },
      "source": [
        "<table>\n",
        "        <tr>\n",
        "        <td colspan=\"3\" align=\"center\"> Input </td>\n",
        "         <td> &nbsp; </td>\n",
        "        <td colspan=\"3\" align=\"center\"> Output </td>\n",
        "    </tr>\n",
        "    <tr>\n",
        "        <td> $q_0$ </td>\n",
        "        <td> $q_1$ </td>\n",
        "        <td> $q_2$</td>\n",
        "        <td> &nbsp; </td>\n",
        "        <td> $q_0$ </td>\n",
        "        <td> $q_1$ </td>\n",
        "        <td> $q_2$</td>\n",
        "    </tr>\n",
        "    <tr>\n",
        "        <td> 0 </td>\n",
        "        <td> 0 </td>\n",
        "        <td> 1 </td>\n",
        "        <td> &nbsp; </td>\n",
        "        <td> 0 </td>\n",
        "        <td> 0 </td>\n",
        "        <td> 1 </td>\n",
        "    </tr>\n",
        "    <tr>\n",
        "        <td> 0 </td>\n",
        "        <td> 1 </td>\n",
        "        <td> 1 </td>\n",
        "        <td> &nbsp; </td>\n",
        "        <td> 0 </td>\n",
        "        <td> 1 </td>\n",
        "        <td> 1 </td>\n",
        "    </tr>\n",
        "    <tr>\n",
        "        <td> 1 </td>\n",
        "        <td> 0 </td>\n",
        "        <td> 1 </td>\n",
        "        <td> &nbsp; </td>\n",
        "        <td> 1 </td>\n",
        "        <td> 1 </td>\n",
        "        <td> 1 </td>\n",
        "    </tr>\n",
        "    <tr>\n",
        "        <td> 1 </td>\n",
        "        <td> 1 </td>\n",
        "        <td> 1 </td>\n",
        "        <td> &nbsp; </td>\n",
        "        <td> 1 </td>\n",
        "        <td> 0 </td>\n",
        "        <td> 0 </td>\n",
        "    </tr>\n",
        "</table>"
      ]
    },
    {
      "cell_type": "markdown",
      "metadata": {
        "id": "LN1ltmDvxvMH"
      },
      "source": [
        "We see that, unless all $ q_0 $, $ q_1 $, and $ q_2 $ are in states $ \\ket{1} $ at the same time,  we can use this circuit to add the single bit stored in qubit $ q_0 $ to the number stored on 2 qubits $q_1$ and $q_2$."
      ]
    },
    {
      "cell_type": "markdown",
      "metadata": {
        "id": "p2EmdOVSxvMH"
      },
      "source": [
        "## Counting\n",
        "\n",
        "Suppose that we are given $n$ bits and we are asked how many of the bits are set to 1. At this point, we know how to add two bits and now we will implement the procedure for counting by adding multiple bits consecutively on top of each other.\n",
        "\n",
        "We will store the output in qubits $\\ket{q_2}$ and $\\ket{q_3}$ where $\\ket{q_2}$ represents the sum and $\\ket{q_3}$ represents the carry. We will perform in place addition, meaning that we will first add the bit represented by $\\ket{q_0}$ to the output and then do the same for the bit stored in $\\ket{q_1}$.\n",
        "\n",
        "In summary, we will perform the following operations: (`sum` is representing the sum stored in qubits $\\ket{q_2}$ and $\\ket{q_3}$.)\n",
        "\n",
        "First, we do `sum = sum + q0`"
      ]
    },
    {
      "cell_type": "code",
      "execution_count": 5,
      "metadata": {
        "id": "FWaBb4blxvMH",
        "outputId": "3488b2a8-bfd3-499f-f6e0-97aa7d5991b5",
        "colab": {
          "base_uri": "https://localhost:8080/"
        }
      },
      "outputs": [
        {
          "output_type": "stream",
          "name": "stdout",
          "text": [
            "0: ───@───@───\n",
            "      │   │\n",
            "2: ───@───X───\n",
            "      │\n",
            "3: ───X───────\n"
          ]
        }
      ],
      "source": [
        "import cirq\n",
        "from cirq import CCX, CX\n",
        "\n",
        "qq = cirq.LineQubit.range(4)\n",
        "circuit = cirq.Circuit()\n",
        "\n",
        "circuit.append(CCX(qq[0], qq[2], qq[3]))\n",
        "circuit.append(CX(qq[0], qq[2]))\n",
        "\n",
        "print(circuit)"
      ]
    },
    {
      "cell_type": "markdown",
      "metadata": {
        "id": "mLXmr5LLxvMH"
      },
      "source": [
        "Remark that initially $ \\ket{q_2} $ is in state 0, and so we can also omit CCX.\n",
        "\n",
        "After the first addition, $\\ket{q_2}$ either stores 0 or 1. Now let's add the bit stored in $\\ket{q_1}$ to the output."
      ]
    },
    {
      "cell_type": "markdown",
      "metadata": {
        "id": "tXQJ0DTGxvMH"
      },
      "source": [
        "Second, we do `sum = sum + q1`"
      ]
    },
    {
      "cell_type": "code",
      "execution_count": 6,
      "metadata": {
        "id": "S1k_UVdIxvMH",
        "outputId": "3b38b03c-39b3-4ba0-c4bf-c2f03a0c282b",
        "colab": {
          "base_uri": "https://localhost:8080/"
        }
      },
      "outputs": [
        {
          "output_type": "stream",
          "name": "stdout",
          "text": [
            "0: ───@───@───────────\n",
            "      │   │\n",
            "1: ───┼───┼───@───@───\n",
            "      │   │   │   │\n",
            "2: ───@───X───@───X───\n",
            "      │       │\n",
            "3: ───X───────X───────\n"
          ]
        }
      ],
      "source": [
        "import cirq\n",
        "from cirq import CCX,X\n",
        "\n",
        "qq = cirq.LineQubit.range(4)\n",
        "circuit = cirq.Circuit()\n",
        "\n",
        "circuit.append(CCX(qq[0], qq[2], qq[3]))\n",
        "circuit.append(CX(qq[0], qq[2]))\n",
        "\n",
        "circuit.append(CCX(qq[1], qq[2], qq[3]))\n",
        "circuit.append(CX(qq[1], qq[2]))\n",
        "\n",
        "print(circuit)"
      ]
    },
    {
      "cell_type": "markdown",
      "metadata": {
        "id": "Ip9FlZ93xvMH"
      },
      "source": [
        "Now let's check the correctness of the above circuit by trying different inputs."
      ]
    },
    {
      "cell_type": "code",
      "execution_count": 7,
      "metadata": {
        "id": "QQ0qzqZrxvMH",
        "outputId": "24c8a9db-0a0f-4b84-8bb3-f79c266f71d5",
        "colab": {
          "base_uri": "https://localhost:8080/"
        }
      },
      "outputs": [
        {
          "output_type": "stream",
          "name": "stdout",
          "text": [
            "Input: 00\n",
            "The sum should be equal to 0\n",
            "According to quantum circuit: 0\n",
            "q0 = 0  q1 = 0  q2 = 0  q3 = 0\n",
            "\n",
            "Input: 01\n",
            "The sum should be equal to 1\n",
            "According to quantum circuit: 1\n",
            "q0 = 0  q1 = 1  q2 = 1  q3 = 0\n",
            "\n",
            "Input: 10\n",
            "The sum should be equal to 1\n",
            "According to quantum circuit: 1\n",
            "q0 = 1  q1 = 0  q2 = 1  q3 = 0\n",
            "\n",
            "Input: 11\n",
            "The sum should be equal to 2\n",
            "According to quantum circuit: 2\n",
            "q0 = 1  q1 = 1  q2 = 0  q3 = 1\n",
            "\n"
          ]
        }
      ],
      "source": [
        "import cirq\n",
        "from cirq import X, CX, CCX\n",
        "s = cirq.Simulator()\n",
        "\n",
        "for input in ['00','01','10','11']:\n",
        "    qq = cirq.LineQubit.range(4)\n",
        "    circuit = cirq.Circuit()\n",
        "\n",
        "    # initialization\n",
        "    if input[0] == '1':\n",
        "        circuit.append(X(qq[0]))\n",
        "    if input[1] == '1':\n",
        "        circuit.append(X(qq[1]))\n",
        "\n",
        "    # add qubit 0\n",
        "    # qubits 2. and 3. store the sum\n",
        "    # since we know that q[2] is set to zero initially, we could omit this control\n",
        "    circuit.append(CCX(qq[0], qq[2], qq[3]))\n",
        "    circuit.append(CX(qq[0], qq[2]))\n",
        "\n",
        "    ## add qubit 1\n",
        "    circuit.append(CCX(qq[1], qq[2], qq[3]))\n",
        "    circuit.append(CX(qq[1], qq[2]))\n",
        "\n",
        "    circuit.append(cirq.measure(*qq, key='result'))\n",
        "\n",
        "    samples = s.run(circuit, repetitions=1)\n",
        "    result = samples.measurements[\"result\"]\n",
        "    # print the sum\n",
        "    print(\"Input:\", input)\n",
        "    print(\"The sum should be equal to\", int(input[0])+int(input[1]))\n",
        "    print(\"According to quantum circuit:\", result[0][2] + 2*result[0][3])\n",
        "    print(\"q0 =\",result[0][0],\" q1 =\",result[0][1],\" q2 =\",result[0][2],\" q3 =\",result[0][3])\n",
        "    print(\"\")"
      ]
    },
    {
      "cell_type": "markdown",
      "metadata": {
        "id": "W468Xw7IxvMH"
      },
      "source": [
        "In the next task, you will implement the same procedure this time adding the first three bits. The sum will be stored in qubits $\\ket{q_3}$ and $\\ket{q_4}$. After adding the first two bits, it can be the case that $\\ket{q_3}$ stores 0 and $\\ket{q_4}$ stores 1, corresponding to the sum $2=10_2$.  From the table, we know that the same implementation idea still works independent of whether $\\ket{q_4}$ stores 1 or not."
      ]
    },
    {
      "cell_type": "markdown",
      "metadata": {
        "id": "IFzuHhl5xvMH"
      },
      "source": [
        "### Task 2\n",
        "Add the first three bits stored in qubits 0-2 and store the sum on qubits 3-4."
      ]
    },
    {
      "cell_type": "code",
      "execution_count": 9,
      "metadata": {
        "id": "ddcSFME1xvMH",
        "outputId": "44892a1b-7c21-4357-e4a4-6f5e08d0706e",
        "colab": {
          "base_uri": "https://localhost:8080/"
        }
      },
      "outputs": [
        {
          "output_type": "stream",
          "name": "stdout",
          "text": [
            "Input: 000\n",
            "The sum should be equal to 0\n",
            "According to quantum circuit: 0\n",
            "\n",
            "Input: 001\n",
            "The sum should be equal to 1\n",
            "According to quantum circuit: 1\n",
            "\n",
            "Input: 010\n",
            "The sum should be equal to 1\n",
            "According to quantum circuit: 1\n",
            "\n",
            "Input: 011\n",
            "The sum should be equal to 2\n",
            "According to quantum circuit: 2\n",
            "\n",
            "Input: 100\n",
            "The sum should be equal to 1\n",
            "According to quantum circuit: 1\n",
            "\n",
            "Input: 101\n",
            "The sum should be equal to 2\n",
            "According to quantum circuit: 2\n",
            "\n",
            "Input: 110\n",
            "The sum should be equal to 2\n",
            "According to quantum circuit: 2\n",
            "\n",
            "Input: 111\n",
            "The sum should be equal to 3\n",
            "According to quantum circuit: 3\n",
            "\n"
          ]
        }
      ],
      "source": [
        "import cirq\n",
        "from cirq import X, CX, CCX\n",
        "s = cirq.Simulator()\n",
        "\n",
        "for input in  ['000','001','010','011','100','101','110','111']:\n",
        "    qq = cirq.LineQubit.range(8)\n",
        "    circuit = cirq.Circuit()\n",
        "\n",
        "    if input[0] == '1':\n",
        "        circuit.append(X(qq[0]))\n",
        "    if input[1] == '1':\n",
        "        circuit.append(X(qq[1]))\n",
        "    if input[2] == '1':\n",
        "        circuit.append(X(qq[2]))\n",
        "\n",
        "    #\n",
        "    # your solution\n",
        "    #\n",
        "    for i in range(3):\n",
        "      circuit.append(CCX(qq[i], qq[3], qq[4]))\n",
        "      circuit.append(CX(qq[i], qq[3]))\n",
        "\n",
        "    circuit.append(cirq.measure(*qq, key='result'))\n",
        "\n",
        "    samples = s.run(circuit, repetitions=1)\n",
        "    result = samples.measurements[\"result\"]\n",
        "    # print the sum\n",
        "    print(\"Input:\", input)\n",
        "    print(\"The sum should be equal to\", int(input[0])+int(input[1])+int(input[2]))\n",
        "    print(\"According to quantum circuit:\", 2*result[0][4]+result[0][3])\n",
        "    print(\"\")\n"
      ]
    },
    {
      "cell_type": "markdown",
      "metadata": {
        "id": "ZDwayu_exvMH"
      },
      "source": [
        "To check out our solution, run the next cell:"
      ]
    },
    {
      "cell_type": "code",
      "execution_count": null,
      "metadata": {
        "id": "1IkvudofxvMI"
      },
      "outputs": [],
      "source": [
        "SolutionToTask2()  # show solution for task 2"
      ]
    },
    {
      "cell_type": "markdown",
      "metadata": {
        "id": "jIiBwkJ8xvMI"
      },
      "source": [
        "### Generalization  "
      ]
    },
    {
      "cell_type": "markdown",
      "metadata": {
        "id": "Xr4ioif_xvMI"
      },
      "source": [
        "Let's review the whole process from the beginning.\n",
        "\n",
        "There are a single input (qu)bit $a_0$ and a single output qubit, say $b_0$, initially set to $0$.  After the operation $b_0 = b_0+a_0 $, $ b_0 $ can be at most 1, which can be accomplished by using a single $CX$ operator.\n"
      ]
    },
    {
      "cell_type": "code",
      "execution_count": 10,
      "metadata": {
        "id": "648DJxl_xvMI",
        "outputId": "b9a76781-1f87-4ba1-e2a9-35326c73723f",
        "colab": {
          "base_uri": "https://localhost:8080/"
        }
      },
      "outputs": [
        {
          "output_type": "stream",
          "name": "stdout",
          "text": [
            "a_0: ───@───\n",
            "        │\n",
            "b_0: ───X───\n"
          ]
        }
      ],
      "source": [
        "import cirq\n",
        "from cirq import X, CX\n",
        "\n",
        "#We use named qubits to visualize the circuit in a more user friendly way\n",
        "a_0 = cirq.NamedQubit('a_0')\n",
        "b_0 = cirq.NamedQubit('b_0')\n",
        "\n",
        "circuit = cirq.Circuit()\n",
        "\n",
        "circuit.append(CX(a_0,b_0))\n",
        "\n",
        "print(circuit)"
      ]
    },
    {
      "cell_type": "markdown",
      "metadata": {
        "id": "UtV2lQM2xvMI"
      },
      "source": [
        "Now we add one more bit ($a_1$) to the summation. At this point, $b_0$ can be 0 or 1. If $a_1=1$ and $b_0=1$, then there will be an overflow to the next qubit since the sum will be $2=10_2$. We can check this using a $CCX$ gate where $a_1$ and $b_0$ are the control and $b_1$ is the target (qu)bits. (The same as the half adder above.)"
      ]
    },
    {
      "cell_type": "markdown",
      "metadata": {
        "id": "QF6AJ0c_xvMI"
      },
      "source": [
        "Similarly, we can add $a_2$. If $a_2=1$ and the current sum is 1, then the new sum will be equal to 2 and the overflow will take place. If the current sum is equal to 2, then there is already an overflow and the new sum will become $3=11_2$."
      ]
    },
    {
      "cell_type": "code",
      "execution_count": 11,
      "metadata": {
        "id": "Lj6C0bSLxvMI",
        "outputId": "84d35d43-dfdb-4a82-b6a1-bca17fb4ec16",
        "colab": {
          "base_uri": "https://localhost:8080/"
        }
      },
      "outputs": [
        {
          "output_type": "stream",
          "name": "stdout",
          "text": [
            "a_0: ───@───────────────────\n",
            "        │\n",
            "a_1: ───┼───@───@───────────\n",
            "        │   │   │\n",
            "a_2: ───┼───┼───┼───@───@───\n",
            "        │   │   │   │   │\n",
            "b_0: ───X───@───X───@───X───\n",
            "            │       │\n",
            "b_1: ───────X───────X───────\n"
          ]
        }
      ],
      "source": [
        "import cirq\n",
        "from cirq import CX, CCX\n",
        "\n",
        "a_0 = cirq.NamedQubit('a_0')\n",
        "a_1 = cirq.NamedQubit('a_1')\n",
        "a_2 = cirq.NamedQubit('a_2')\n",
        "b_0 = cirq.NamedQubit('b_0')\n",
        "b_1 = cirq.NamedQubit('b_1')\n",
        "circuit = cirq.Circuit()\n",
        "\n",
        "#Add a_0\n",
        "circuit.append(CX(a_0,b_0))\n",
        "\n",
        "#Add a_1\n",
        "circuit.append(CCX(a_1,b_0,b_1))\n",
        "circuit.append(CX(a_1,b_0))\n",
        "\n",
        "#Add a_2\n",
        "circuit.append(CCX(a_2,b_0,b_1))\n",
        "circuit.append(CX(a_2,b_0))\n",
        "\n",
        "print(circuit)"
      ]
    },
    {
      "cell_type": "markdown",
      "metadata": {
        "id": "SwPnaX8xxvMI"
      },
      "source": [
        "Now we will add one more bit $a_3$. If $a_3= 1$ and both $b_0$ and $b_1$ are equal to 1, that is if the current sum is 3, then the sum will become 4 and we need an additional bit $b_2$. Hence, we need to check $a_3$, $b_0$, $b_1$ for equality to 1 and apply a $NOT$ gate to $\\ket{b_2}$ if this is the case."
      ]
    },
    {
      "cell_type": "markdown",
      "metadata": {
        "id": "EDiiqEsfxvMI"
      },
      "source": [
        "Check the following circuit which implements summation of the first four bits. When we add the fourth bit, we introduce the multi-controlled $NOT$ as it is possible that the sum is equal to 3 at this point and an overflow takes place. We store the output in qubits $\\ket{q_4}, \\ket{q_5}$ and $\\ket{q_6}$."
      ]
    },
    {
      "cell_type": "markdown",
      "metadata": {
        "id": "Z2IySkIixvMI"
      },
      "source": [
        "The line below generates all possible inputs of length 4 and we will use it in our code."
      ]
    },
    {
      "cell_type": "code",
      "execution_count": 12,
      "metadata": {
        "id": "5EhTIBH2xvMI",
        "outputId": "3436cab4-a12b-406b-c0da-6a19b24c23dc",
        "colab": {
          "base_uri": "https://localhost:8080/"
        }
      },
      "outputs": [
        {
          "output_type": "stream",
          "name": "stdout",
          "text": [
            "['0000', '0001', '0010', '0011', '0100', '0101', '0110', '0111', '1000', '1001', '1010', '1011', '1100', '1101', '1110', '1111']\n"
          ]
        }
      ],
      "source": [
        "input_list = [bin(i)[2:].zfill(4) for i in range(0,2**4)]\n",
        "print(input_list)"
      ]
    },
    {
      "cell_type": "code",
      "execution_count": 13,
      "metadata": {
        "id": "VIpTgiSixvMI",
        "outputId": "86204db4-9a35-4888-970d-a1f3395e6d74",
        "colab": {
          "base_uri": "https://localhost:8080/"
        }
      },
      "outputs": [
        {
          "output_type": "stream",
          "name": "stdout",
          "text": [
            "Input 0000\n",
            "The sum should equal to 0\n",
            "According to quantum circuit: 0\n",
            "\n",
            "Input 0001\n",
            "The sum should equal to 1\n",
            "According to quantum circuit: 1\n",
            "\n",
            "Input 0010\n",
            "The sum should equal to 1\n",
            "According to quantum circuit: 1\n",
            "\n",
            "Input 0011\n",
            "The sum should equal to 2\n",
            "According to quantum circuit: 2\n",
            "\n",
            "Input 0100\n",
            "The sum should equal to 1\n",
            "According to quantum circuit: 1\n",
            "\n",
            "Input 0101\n",
            "The sum should equal to 2\n",
            "According to quantum circuit: 2\n",
            "\n",
            "Input 0110\n",
            "The sum should equal to 2\n",
            "According to quantum circuit: 2\n",
            "\n",
            "Input 0111\n",
            "The sum should equal to 3\n",
            "According to quantum circuit: 3\n",
            "\n",
            "Input 1000\n",
            "The sum should equal to 1\n",
            "According to quantum circuit: 1\n",
            "\n",
            "Input 1001\n",
            "The sum should equal to 2\n",
            "According to quantum circuit: 2\n",
            "\n",
            "Input 1010\n",
            "The sum should equal to 2\n",
            "According to quantum circuit: 2\n",
            "\n",
            "Input 1011\n",
            "The sum should equal to 3\n",
            "According to quantum circuit: 3\n",
            "\n",
            "Input 1100\n",
            "The sum should equal to 2\n",
            "According to quantum circuit: 2\n",
            "\n",
            "Input 1101\n",
            "The sum should equal to 3\n",
            "According to quantum circuit: 3\n",
            "\n",
            "Input 1110\n",
            "The sum should equal to 3\n",
            "According to quantum circuit: 3\n",
            "\n",
            "Input 1111\n",
            "The sum should equal to 4\n",
            "According to quantum circuit: 4\n",
            "\n"
          ]
        }
      ],
      "source": [
        "import cirq\n",
        "from itertools import product\n",
        "from cirq import X, CX, CCX\n",
        "s = cirq.Simulator()\n",
        "\n",
        "for input in input_list:\n",
        "    qq = cirq.LineQubit.range(8)\n",
        "    circuit = cirq.Circuit()\n",
        "\n",
        "    #We can do the initialization inside a for loop\n",
        "    for i in range(4):\n",
        "        if input[i]=='1':\n",
        "            circuit.append(X(qq[i]))\n",
        "\n",
        "    # add qubit 0\n",
        "    circuit.append(CX(qq[0], qq[4]))\n",
        "\n",
        "    # add qubit 1\n",
        "    circuit.append(CCX(qq[1], qq[4], qq[5]))\n",
        "    circuit.append(CX(qq[1], qq[4]))\n",
        "\n",
        "    # add qubit 2\n",
        "    circuit.append(CCX(qq[2], qq[4], qq[5]))\n",
        "    circuit.append(CX(qq[2], qq[4]))\n",
        "\n",
        "    # add qubit 3\n",
        "    circuit.append(X(qq[6]).controlled_by(qq[3], qq[4],qq[5]))\n",
        "    circuit.append(CCX(qq[3], qq[4], qq[5]))\n",
        "    circuit.append(CX(qq[3], qq[4]))\n",
        "\n",
        "    circuit.append(cirq.measure(*qq, key='result'))\n",
        "\n",
        "    samples = s.run(circuit, repetitions=1)\n",
        "    result = samples.measurements[\"result\"]\n",
        "    # print the sum\n",
        "    print(\"Input\", input)\n",
        "    print(\"The sum should equal to\", int(input[0])+int(input[1])+int(input[2])+int(input[3]))\n",
        "    print(\"According to quantum circuit:\", result[0][4]+2*result[0][5]+4*result[0][6])\n",
        "    print(\"\")"
      ]
    },
    {
      "cell_type": "markdown",
      "metadata": {
        "id": "6iAJfKYWxvMI"
      },
      "source": [
        "The same pattern will continue if we include the bits $ a_5, a_6, a_7 $. As the sum will be at most 7, we use still 3 bits for storing the output (summation).\n",
        "\n",
        "After including $ a_8 $, we can have an overflow and so we use a multi-controlled not gate to check it. Besides, we use 4 bits for storing the output, which will be enough when adding $ a_9,\\dots,a_{15} $.\n",
        "\n",
        "This pattern repeats itself whenever including the new bits. A new (qu)bit is used by the output when the $ 2^i $-th bit is included in the summation, and a new multi-controlled not gate should be used to check the overflow."
      ]
    },
    {
      "cell_type": "markdown",
      "metadata": {
        "id": "vpueGtNbxvMI"
      },
      "source": [
        "### Task 3\n",
        "\n",
        "By using the given idea, add the values of seven bits, namely $ q_0,\\ldots,q_6 $, and write the results on the qubits $ q_7,q_8, q_9 $.\n",
        "\n",
        "*Note:*  You may use for-loops instead of adding each qubit one by one."
      ]
    },
    {
      "cell_type": "code",
      "execution_count": 14,
      "metadata": {
        "id": "BBcpwhIjxvMI"
      },
      "outputs": [],
      "source": [
        "# Generate the inputs\n",
        "input_list = [bin(i)[2:].zfill(7) for i in range(0,2**7)]"
      ]
    },
    {
      "cell_type": "code",
      "execution_count": 16,
      "metadata": {
        "id": "gtMmhzn1xvMI",
        "outputId": "80afc5dd-ccb4-4212-bd4f-8d7c0b1bbbf0",
        "colab": {
          "base_uri": "https://localhost:8080/"
        }
      },
      "outputs": [
        {
          "output_type": "stream",
          "name": "stdout",
          "text": [
            "0000000\n",
            "The sum should equal to 0\n",
            "According to quantum circuit: 0\n",
            "\n",
            "0000001\n",
            "The sum should equal to 1\n",
            "According to quantum circuit: 1\n",
            "\n",
            "0000010\n",
            "The sum should equal to 1\n",
            "According to quantum circuit: 1\n",
            "\n",
            "0000011\n",
            "The sum should equal to 2\n",
            "According to quantum circuit: 2\n",
            "\n",
            "0000100\n",
            "The sum should equal to 1\n",
            "According to quantum circuit: 1\n",
            "\n",
            "0000101\n",
            "The sum should equal to 2\n",
            "According to quantum circuit: 2\n",
            "\n",
            "0000110\n",
            "The sum should equal to 2\n",
            "According to quantum circuit: 2\n",
            "\n",
            "0000111\n",
            "The sum should equal to 3\n",
            "According to quantum circuit: 3\n",
            "\n",
            "0001000\n",
            "The sum should equal to 1\n",
            "According to quantum circuit: 1\n",
            "\n",
            "0001001\n",
            "The sum should equal to 2\n",
            "According to quantum circuit: 2\n",
            "\n",
            "0001010\n",
            "The sum should equal to 2\n",
            "According to quantum circuit: 2\n",
            "\n",
            "0001011\n",
            "The sum should equal to 3\n",
            "According to quantum circuit: 3\n",
            "\n",
            "0001100\n",
            "The sum should equal to 2\n",
            "According to quantum circuit: 2\n",
            "\n",
            "0001101\n",
            "The sum should equal to 3\n",
            "According to quantum circuit: 3\n",
            "\n",
            "0001110\n",
            "The sum should equal to 3\n",
            "According to quantum circuit: 3\n",
            "\n",
            "0001111\n",
            "The sum should equal to 4\n",
            "According to quantum circuit: 4\n",
            "\n",
            "0010000\n",
            "The sum should equal to 1\n",
            "According to quantum circuit: 1\n",
            "\n",
            "0010001\n",
            "The sum should equal to 2\n",
            "According to quantum circuit: 2\n",
            "\n",
            "0010010\n",
            "The sum should equal to 2\n",
            "According to quantum circuit: 2\n",
            "\n",
            "0010011\n",
            "The sum should equal to 3\n",
            "According to quantum circuit: 3\n",
            "\n",
            "0010100\n",
            "The sum should equal to 2\n",
            "According to quantum circuit: 2\n",
            "\n",
            "0010101\n",
            "The sum should equal to 3\n",
            "According to quantum circuit: 3\n",
            "\n",
            "0010110\n",
            "The sum should equal to 3\n",
            "According to quantum circuit: 3\n",
            "\n",
            "0010111\n",
            "The sum should equal to 4\n",
            "According to quantum circuit: 4\n",
            "\n",
            "0011000\n",
            "The sum should equal to 2\n",
            "According to quantum circuit: 2\n",
            "\n",
            "0011001\n",
            "The sum should equal to 3\n",
            "According to quantum circuit: 3\n",
            "\n",
            "0011010\n",
            "The sum should equal to 3\n",
            "According to quantum circuit: 3\n",
            "\n",
            "0011011\n",
            "The sum should equal to 4\n",
            "According to quantum circuit: 4\n",
            "\n",
            "0011100\n",
            "The sum should equal to 3\n",
            "According to quantum circuit: 3\n",
            "\n",
            "0011101\n",
            "The sum should equal to 4\n",
            "According to quantum circuit: 4\n",
            "\n",
            "0011110\n",
            "The sum should equal to 4\n",
            "According to quantum circuit: 4\n",
            "\n",
            "0011111\n",
            "The sum should equal to 5\n",
            "According to quantum circuit: 5\n",
            "\n",
            "0100000\n",
            "The sum should equal to 1\n",
            "According to quantum circuit: 1\n",
            "\n",
            "0100001\n",
            "The sum should equal to 2\n",
            "According to quantum circuit: 2\n",
            "\n",
            "0100010\n",
            "The sum should equal to 2\n",
            "According to quantum circuit: 2\n",
            "\n",
            "0100011\n",
            "The sum should equal to 3\n",
            "According to quantum circuit: 3\n",
            "\n",
            "0100100\n",
            "The sum should equal to 2\n",
            "According to quantum circuit: 2\n",
            "\n",
            "0100101\n",
            "The sum should equal to 3\n",
            "According to quantum circuit: 3\n",
            "\n",
            "0100110\n",
            "The sum should equal to 3\n",
            "According to quantum circuit: 3\n",
            "\n",
            "0100111\n",
            "The sum should equal to 4\n",
            "According to quantum circuit: 4\n",
            "\n",
            "0101000\n",
            "The sum should equal to 2\n",
            "According to quantum circuit: 2\n",
            "\n",
            "0101001\n",
            "The sum should equal to 3\n",
            "According to quantum circuit: 3\n",
            "\n",
            "0101010\n",
            "The sum should equal to 3\n",
            "According to quantum circuit: 3\n",
            "\n",
            "0101011\n",
            "The sum should equal to 4\n",
            "According to quantum circuit: 4\n",
            "\n",
            "0101100\n",
            "The sum should equal to 3\n",
            "According to quantum circuit: 3\n",
            "\n",
            "0101101\n",
            "The sum should equal to 4\n",
            "According to quantum circuit: 4\n",
            "\n",
            "0101110\n",
            "The sum should equal to 4\n",
            "According to quantum circuit: 4\n",
            "\n",
            "0101111\n",
            "The sum should equal to 5\n",
            "According to quantum circuit: 5\n",
            "\n",
            "0110000\n",
            "The sum should equal to 2\n",
            "According to quantum circuit: 2\n",
            "\n",
            "0110001\n",
            "The sum should equal to 3\n",
            "According to quantum circuit: 3\n",
            "\n",
            "0110010\n",
            "The sum should equal to 3\n",
            "According to quantum circuit: 3\n",
            "\n",
            "0110011\n",
            "The sum should equal to 4\n",
            "According to quantum circuit: 4\n",
            "\n",
            "0110100\n",
            "The sum should equal to 3\n",
            "According to quantum circuit: 3\n",
            "\n",
            "0110101\n",
            "The sum should equal to 4\n",
            "According to quantum circuit: 4\n",
            "\n",
            "0110110\n",
            "The sum should equal to 4\n",
            "According to quantum circuit: 4\n",
            "\n",
            "0110111\n",
            "The sum should equal to 5\n",
            "According to quantum circuit: 5\n",
            "\n",
            "0111000\n",
            "The sum should equal to 3\n",
            "According to quantum circuit: 3\n",
            "\n",
            "0111001\n",
            "The sum should equal to 4\n",
            "According to quantum circuit: 4\n",
            "\n",
            "0111010\n",
            "The sum should equal to 4\n",
            "According to quantum circuit: 4\n",
            "\n",
            "0111011\n",
            "The sum should equal to 5\n",
            "According to quantum circuit: 5\n",
            "\n",
            "0111100\n",
            "The sum should equal to 4\n",
            "According to quantum circuit: 4\n",
            "\n",
            "0111101\n",
            "The sum should equal to 5\n",
            "According to quantum circuit: 5\n",
            "\n",
            "0111110\n",
            "The sum should equal to 5\n",
            "According to quantum circuit: 5\n",
            "\n",
            "0111111\n",
            "The sum should equal to 6\n",
            "According to quantum circuit: 6\n",
            "\n",
            "1000000\n",
            "The sum should equal to 1\n",
            "According to quantum circuit: 1\n",
            "\n",
            "1000001\n",
            "The sum should equal to 2\n",
            "According to quantum circuit: 2\n",
            "\n",
            "1000010\n",
            "The sum should equal to 2\n",
            "According to quantum circuit: 2\n",
            "\n",
            "1000011\n",
            "The sum should equal to 3\n",
            "According to quantum circuit: 3\n",
            "\n",
            "1000100\n",
            "The sum should equal to 2\n",
            "According to quantum circuit: 2\n",
            "\n",
            "1000101\n",
            "The sum should equal to 3\n",
            "According to quantum circuit: 3\n",
            "\n",
            "1000110\n",
            "The sum should equal to 3\n",
            "According to quantum circuit: 3\n",
            "\n",
            "1000111\n",
            "The sum should equal to 4\n",
            "According to quantum circuit: 4\n",
            "\n",
            "1001000\n",
            "The sum should equal to 2\n",
            "According to quantum circuit: 2\n",
            "\n",
            "1001001\n",
            "The sum should equal to 3\n",
            "According to quantum circuit: 3\n",
            "\n",
            "1001010\n",
            "The sum should equal to 3\n",
            "According to quantum circuit: 3\n",
            "\n",
            "1001011\n",
            "The sum should equal to 4\n",
            "According to quantum circuit: 4\n",
            "\n",
            "1001100\n",
            "The sum should equal to 3\n",
            "According to quantum circuit: 3\n",
            "\n",
            "1001101\n",
            "The sum should equal to 4\n",
            "According to quantum circuit: 4\n",
            "\n",
            "1001110\n",
            "The sum should equal to 4\n",
            "According to quantum circuit: 4\n",
            "\n",
            "1001111\n",
            "The sum should equal to 5\n",
            "According to quantum circuit: 5\n",
            "\n",
            "1010000\n",
            "The sum should equal to 2\n",
            "According to quantum circuit: 2\n",
            "\n",
            "1010001\n",
            "The sum should equal to 3\n",
            "According to quantum circuit: 3\n",
            "\n",
            "1010010\n",
            "The sum should equal to 3\n",
            "According to quantum circuit: 3\n",
            "\n",
            "1010011\n",
            "The sum should equal to 4\n",
            "According to quantum circuit: 4\n",
            "\n",
            "1010100\n",
            "The sum should equal to 3\n",
            "According to quantum circuit: 3\n",
            "\n",
            "1010101\n",
            "The sum should equal to 4\n",
            "According to quantum circuit: 4\n",
            "\n",
            "1010110\n",
            "The sum should equal to 4\n",
            "According to quantum circuit: 4\n",
            "\n",
            "1010111\n",
            "The sum should equal to 5\n",
            "According to quantum circuit: 5\n",
            "\n",
            "1011000\n",
            "The sum should equal to 3\n",
            "According to quantum circuit: 3\n",
            "\n",
            "1011001\n",
            "The sum should equal to 4\n",
            "According to quantum circuit: 4\n",
            "\n",
            "1011010\n",
            "The sum should equal to 4\n",
            "According to quantum circuit: 4\n",
            "\n",
            "1011011\n",
            "The sum should equal to 5\n",
            "According to quantum circuit: 5\n",
            "\n",
            "1011100\n",
            "The sum should equal to 4\n",
            "According to quantum circuit: 4\n",
            "\n",
            "1011101\n",
            "The sum should equal to 5\n",
            "According to quantum circuit: 5\n",
            "\n",
            "1011110\n",
            "The sum should equal to 5\n",
            "According to quantum circuit: 5\n",
            "\n",
            "1011111\n",
            "The sum should equal to 6\n",
            "According to quantum circuit: 6\n",
            "\n",
            "1100000\n",
            "The sum should equal to 2\n",
            "According to quantum circuit: 2\n",
            "\n",
            "1100001\n",
            "The sum should equal to 3\n",
            "According to quantum circuit: 3\n",
            "\n",
            "1100010\n",
            "The sum should equal to 3\n",
            "According to quantum circuit: 3\n",
            "\n",
            "1100011\n",
            "The sum should equal to 4\n",
            "According to quantum circuit: 4\n",
            "\n",
            "1100100\n",
            "The sum should equal to 3\n",
            "According to quantum circuit: 3\n",
            "\n",
            "1100101\n",
            "The sum should equal to 4\n",
            "According to quantum circuit: 4\n",
            "\n",
            "1100110\n",
            "The sum should equal to 4\n",
            "According to quantum circuit: 4\n",
            "\n",
            "1100111\n",
            "The sum should equal to 5\n",
            "According to quantum circuit: 5\n",
            "\n",
            "1101000\n",
            "The sum should equal to 3\n",
            "According to quantum circuit: 3\n",
            "\n",
            "1101001\n",
            "The sum should equal to 4\n",
            "According to quantum circuit: 4\n",
            "\n",
            "1101010\n",
            "The sum should equal to 4\n",
            "According to quantum circuit: 4\n",
            "\n",
            "1101011\n",
            "The sum should equal to 5\n",
            "According to quantum circuit: 5\n",
            "\n",
            "1101100\n",
            "The sum should equal to 4\n",
            "According to quantum circuit: 4\n",
            "\n",
            "1101101\n",
            "The sum should equal to 5\n",
            "According to quantum circuit: 5\n",
            "\n",
            "1101110\n",
            "The sum should equal to 5\n",
            "According to quantum circuit: 5\n",
            "\n",
            "1101111\n",
            "The sum should equal to 6\n",
            "According to quantum circuit: 6\n",
            "\n",
            "1110000\n",
            "The sum should equal to 3\n",
            "According to quantum circuit: 3\n",
            "\n",
            "1110001\n",
            "The sum should equal to 4\n",
            "According to quantum circuit: 4\n",
            "\n",
            "1110010\n",
            "The sum should equal to 4\n",
            "According to quantum circuit: 4\n",
            "\n",
            "1110011\n",
            "The sum should equal to 5\n",
            "According to quantum circuit: 5\n",
            "\n",
            "1110100\n",
            "The sum should equal to 4\n",
            "According to quantum circuit: 4\n",
            "\n",
            "1110101\n",
            "The sum should equal to 5\n",
            "According to quantum circuit: 5\n",
            "\n",
            "1110110\n",
            "The sum should equal to 5\n",
            "According to quantum circuit: 5\n",
            "\n",
            "1110111\n",
            "The sum should equal to 6\n",
            "According to quantum circuit: 6\n",
            "\n",
            "1111000\n",
            "The sum should equal to 4\n",
            "According to quantum circuit: 4\n",
            "\n",
            "1111001\n",
            "The sum should equal to 5\n",
            "According to quantum circuit: 5\n",
            "\n",
            "1111010\n",
            "The sum should equal to 5\n",
            "According to quantum circuit: 5\n",
            "\n",
            "1111011\n",
            "The sum should equal to 6\n",
            "According to quantum circuit: 6\n",
            "\n",
            "1111100\n",
            "The sum should equal to 5\n",
            "According to quantum circuit: 5\n",
            "\n",
            "1111101\n",
            "The sum should equal to 6\n",
            "According to quantum circuit: 6\n",
            "\n",
            "1111110\n",
            "The sum should equal to 6\n",
            "According to quantum circuit: 6\n",
            "\n",
            "1111111\n",
            "The sum should equal to 7\n",
            "According to quantum circuit: 7\n",
            "\n"
          ]
        }
      ],
      "source": [
        "import cirq\n",
        "from itertools import product\n",
        "from cirq import X, CX, CCX\n",
        "s = cirq.Simulator()\n",
        "n = 7\n",
        "\n",
        "for input in input_list:\n",
        "    qq = cirq.LineQubit.range(10)\n",
        "    circuit = cirq.Circuit()\n",
        "\n",
        "    #We can do the initialization inside a for loop\n",
        "    for i in range(7):\n",
        "        if input[i]=='1':\n",
        "            circuit.append(X(qq[i]))\n",
        "\n",
        "    # add qubit 0\n",
        "    circuit.append(CX(qq[0], qq[7]))\n",
        "\n",
        "    # add qubits 1-2\n",
        "    for i in range(1, 3):\n",
        "      circuit.append(CCX(qq[i], qq[7], qq[8]))\n",
        "      circuit.append(CX(qq[i], qq[7]))\n",
        "\n",
        "    # add qubits 3-6\n",
        "    for i in range(3, 7):\n",
        "      circuit.append(X(qq[9]).controlled_by(qq[i], qq[7], qq[8]))\n",
        "      circuit.append(CCX(qq[i], qq[7], qq[8]))\n",
        "      circuit.append(CX(qq[i], qq[7]))\n",
        "\n",
        "    circuit.append(cirq.measure(*qq, key='result'))\n",
        "\n",
        "    samples = s.run(circuit, repetitions=1)\n",
        "    result = samples.measurements[\"result\"]\n",
        "    # print the sum\n",
        "    print(input)\n",
        "    print(\"The sum should equal to\", sum(int(i) for i in input))\n",
        "    print(\"According to quantum circuit:\", result[0][n]+2*result[0][n+1]+4*result[0][n+2])\n",
        "    print(\"\")"
      ]
    },
    {
      "cell_type": "markdown",
      "metadata": {
        "id": "StOfkuQ3xvMI"
      },
      "source": [
        "To check out our solution, run the next cell:"
      ]
    },
    {
      "cell_type": "code",
      "execution_count": null,
      "metadata": {
        "id": "I32d5uvIxvMI"
      },
      "outputs": [],
      "source": [
        "SolutionToTask3()  # show solution for task 3"
      ]
    },
    {
      "cell_type": "markdown",
      "metadata": {
        "id": "s9d0I9j7xvMI"
      },
      "source": [
        "## Checking the number\n",
        "\n",
        "We have two qubits $ q_0 $ and $ q_1 $ storing an integer, and we are interested in checking whether this integer is equal to 3.\n",
        "\n",
        "Let $ q_2 $ be the qubit for output in state $ \\ket{0} $. We apply $X$ gate on $ q_2 $ if both $ q_0 $ and $q_1$ are in $ \\ket{1} $. The following circuit implements this, where the binary value of the integer $ b $ has two digits $ b_1b_0 $ and $ b_i $ is represented by $ q_i $ for $ i \\in \\{0,1\\} $.\n",
        "\n",
        "\n",
        "Note that the binary number $b_1b_0$ is assumed to be represented in the circuit such that $b_1$ corresponds to $q_1$ and $b_0$ corresponds to $q_0$ in the rest of the discussion."
      ]
    },
    {
      "cell_type": "code",
      "execution_count": 17,
      "metadata": {
        "id": "jvg8EeHBxvMJ",
        "outputId": "d2aedba4-c34d-4539-93fa-615112cfc053",
        "colab": {
          "base_uri": "https://localhost:8080/"
        }
      },
      "outputs": [
        {
          "output_type": "stream",
          "name": "stdout",
          "text": [
            "The number equals 3\n",
            "0: ───X───@───M('result')───\n",
            "          │   │\n",
            "1: ───X───@───M─────────────\n",
            "          │   │\n",
            "2: ───────X───M─────────────\n"
          ]
        }
      ],
      "source": [
        "import cirq\n",
        "from cirq import X, CCX\n",
        "s = cirq.Simulator()\n",
        "\n",
        "qq = cirq.LineQubit.range(3)\n",
        "circuit = cirq.Circuit()\n",
        "\n",
        "# set qubits to 3\n",
        "circuit.append(X(qq[0]))\n",
        "circuit.append(X(qq[1]))\n",
        "\n",
        "# set qubits to 2 (should not work!)\n",
        "# circuit.append(X(qq[1]))\n",
        "\n",
        "# check wether both qubits are set to one\n",
        "circuit.append(CCX(qq[0], qq[1], qq[2]))\n",
        "circuit.append(cirq.measure(*qq, key='result'))\n",
        "\n",
        "samples = s.run(circuit, repetitions=1)\n",
        "result = samples.measurements[\"result\"]\n",
        "if result[0][2] == 1:\n",
        "    print(\"The number equals 3\")\n",
        "else:\n",
        "    print(\"The number does not equal 3\")\n",
        "\n",
        "print(circuit)"
      ]
    },
    {
      "cell_type": "markdown",
      "metadata": {
        "id": "m8s6X6CyxvMJ"
      },
      "source": [
        "Such a check is trivial when the binary representation of an integer contains only 1s, i.e., a multi-controled $NOT$ gate is applied on the output bit. Suppose that we have three qubits, and we are interested in checking whether their value is $ 101_2 = 5 $. In this case, the value of the output qubit is flipped if\n",
        "\n",
        "- the first qubit is in state $ \\ket{1} $,\n",
        "- the second qubit is in state $ \\ket{0} $, and\n",
        "- the third qubit is in state $ \\ket{1} $.\n",
        "\n",
        "To use a multi-controlled not gate, all control qubits should be in state $ \\ket{1} $. Therefore, this time we do pre- and post- processing for the middle qubit. We apply $X$ gate, and so the second qubit will be in state $ \\ket{1} $ when applying the multi-controlled not gate if it is originally in $ \\ket{0} $. After applying the multi-controlled not gate, we apply $X$ gate again to return the original value so that the change at this point will not affect the rest of computation.\n"
      ]
    },
    {
      "cell_type": "markdown",
      "metadata": {
        "id": "gH6mEAZTxvMJ"
      },
      "source": [
        "### Task 4\n",
        "Implement the algorithm that checks whether the first three qubits store the binary representation of number 5. Store the output on qubit 3."
      ]
    },
    {
      "cell_type": "code",
      "execution_count": 18,
      "metadata": {
        "id": "Kxlpx2xGxvMJ",
        "outputId": "297853dd-3155-42c8-9750-93acf64c4bc2",
        "colab": {
          "base_uri": "https://localhost:8080/"
        }
      },
      "outputs": [
        {
          "output_type": "stream",
          "name": "stdout",
          "text": [
            "The number equals 5\n",
            "You haven't forget to recover the qubits: Congratulations!\n",
            "0: ───X───────@───────M('result')───\n",
            "              │       │\n",
            "1: ───I───X───@───X───M─────────────\n",
            "              │       │\n",
            "2: ───X───────@───────M─────────────\n",
            "              │       │\n",
            "3: ───────────X───────M─────────────\n"
          ]
        }
      ],
      "source": [
        "import cirq\n",
        "from cirq import X, I\n",
        "s = cirq.Simulator()\n",
        "\n",
        "qq = cirq.LineQubit.range(4)\n",
        "circuit = cirq.Circuit()\n",
        "\n",
        "# set qubits to 5\n",
        "circuit.append(X(qq[0]))\n",
        "circuit.append(I(qq[1]))\n",
        "circuit.append(X(qq[2]))\n",
        "\n",
        "# sanity check: set qubits to 3\n",
        "# circuit.append(X(qq[0]))\n",
        "# circuit.append(X(qq[1]))\n",
        "# circuit.append(I(qq[2]))\n",
        "\n",
        "#\n",
        "# your solution\n",
        "#\n",
        "circuit.append(X(qq[1]))\n",
        "circuit.append(X(qq[3]).controlled_by(qq[0], qq[1], qq[2]))\n",
        "circuit.append(X(qq[1]))\n",
        "\n",
        "circuit.append(cirq.measure(*qq, key='result'))\n",
        "\n",
        "samples = s.run(circuit, repetitions=1)\n",
        "result = samples.measurements[\"result\"]\n",
        "if result[0][3] == 1:\n",
        "    print(\"The number equals 5\")\n",
        "    if result[0][0] == 1 and result[0][1] == 0 and result[0][2] == 1:\n",
        "        print(\"You haven't forget to recover the qubits: Congratulations!\")\n",
        "    else:\n",
        "        print(\"Some of qubits have not been recoverd.\")\n",
        "else:\n",
        "    print(\"The number does not equal 5\")\n",
        "\n",
        "print(circuit)"
      ]
    },
    {
      "cell_type": "markdown",
      "metadata": {
        "id": "sRQGURkNxvMJ"
      },
      "source": [
        "To check out our solution, run the next cell:"
      ]
    },
    {
      "cell_type": "code",
      "execution_count": null,
      "metadata": {
        "id": "ixIcqo0LxvMJ"
      },
      "outputs": [],
      "source": [
        "SolutionToTask4()  # show solution for task 4"
      ]
    },
    {
      "cell_type": "markdown",
      "metadata": {
        "id": "mEwvDjmmxvMJ"
      },
      "source": [
        "## Inequality constraints\n",
        "\n",
        "What if there are two qubits $ q_0 $ and $ q_1 $ storing an integer ($q_0 + 2\\cdot q_1$), and we are interested in checking whether this integer is greater than or equal to 2?\n",
        "\n",
        "In this case, we are interested in checking wheter the value of the two qubits is $10_2=2$ or $11_2=3$. In both cases, the qubit $q_1$ is in state $\\ket{1}$ and we are not interested in the state of the qubit $q_0$. Hence, the output qubit should be flipped if\n",
        "\n",
        "- the qubit $q_1$ is in state $\\ket{1}$.\n",
        "\n",
        "We can check this using a $CX$-gate where $q_1$ is the control and $q_2$ is the target qubit.\n",
        "\n",
        "The following program implements the above idea."
      ]
    },
    {
      "cell_type": "code",
      "execution_count": 19,
      "metadata": {
        "id": "EH3CkOe4xvMJ",
        "outputId": "d38e4ce2-fc1a-4e8b-8904-51ac4eb5fec1",
        "colab": {
          "base_uri": "https://localhost:8080/"
        }
      },
      "outputs": [
        {
          "output_type": "stream",
          "name": "stdout",
          "text": [
            "Input: 0 0\n",
            "Value of the input: 0\n",
            "The input is not greater than or equal to 2\n",
            "Input: 0 1\n",
            "Value of the input: 2\n",
            "The input is greater than or equal to 2\n",
            "Input: 1 0\n",
            "Value of the input: 1\n",
            "The input is not greater than or equal to 2\n",
            "Input: 1 1\n",
            "Value of the input: 3\n",
            "The input is greater than or equal to 2\n"
          ]
        }
      ],
      "source": [
        "import cirq\n",
        "from cirq import X, CX\n",
        "s = cirq.Simulator()\n",
        "\n",
        "for input in ['00','01','10','11']:\n",
        "    qq = cirq.LineQubit.range(4)\n",
        "    circuit = cirq.Circuit()\n",
        "\n",
        "    # initialization\n",
        "    if input[0] == '1':\n",
        "        circuit.append(X(qq[0]))\n",
        "    if input[1] == '1':\n",
        "        circuit.append(X(qq[1]))\n",
        "\n",
        "    circuit.append(CX(qq[1], qq[2]))\n",
        "    circuit.append(cirq.measure(*qq, key='result'))\n",
        "\n",
        "    samples = s.run(circuit, repetitions=1)\n",
        "    result = samples.measurements[\"result\"]\n",
        "    print(\"Input:\", input[0], input[1])\n",
        "    print(\"Value of the input:\", int(input[0])+2*int(input[1]))\n",
        "    if result[0][2] == 1:\n",
        "        print(\"The input is greater than or equal to 2\")\n",
        "    else:\n",
        "        print(\"The input is not greater than or equal to 2\")"
      ]
    },
    {
      "cell_type": "markdown",
      "metadata": {
        "id": "vpOlkoPHxvMJ"
      },
      "source": [
        "## Instance many-number checking\n",
        "\n",
        "We explained how to check the equality and inequality constraints. While classical computers are restricted to check one number at a time, quantum computers can do it instantly on a *superposition* of states. Hence, we can create a superposition of all possible integers represented by the input qubits using Hadamard gates, and then using the method above, we can check for equality or inequality constraints for the integers in superposition.\n",
        "\n",
        "The circuit below has four qubits. The first three qubits hold an integer, and the last qubit is the output that returns the decision of whether the input is greater than or equal to 4 or not. Note that when you measure, you will observe only one of the numbers and whether it is at least 4.\n",
        "\n",
        "Run the circuit several times to convince yourself the output is always correct."
      ]
    },
    {
      "cell_type": "code",
      "execution_count": 20,
      "metadata": {
        "id": "-FXAqj3wxvMJ",
        "outputId": "422946c0-2549-4ea0-d226-39efcdfe54e6",
        "colab": {
          "base_uri": "https://localhost:8080/"
        }
      },
      "outputs": [
        {
          "output_type": "stream",
          "name": "stdout",
          "text": [
            "Measured input: 5\n",
            "Input is greater than or equal to 4\n"
          ]
        }
      ],
      "source": [
        "import cirq\n",
        "from cirq import X, H, CX\n",
        "s = cirq.Simulator()\n",
        "\n",
        "qq = cirq.LineQubit.range(4)\n",
        "circuit = cirq.Circuit()\n",
        "circuit.append(H.on_each(*(qq[0:3])))\n",
        "\n",
        "circuit.append(CX(qq[2], qq[3]))\n",
        "circuit.append(cirq.measure(*qq, key='result'))\n",
        "\n",
        "samples = s.run(circuit, repetitions=1)\n",
        "result = samples.measurements[\"result\"]\n",
        "\n",
        "number_measured = result[0][0] + 2*result[0][1] + 4*result[0][2]\n",
        "print(\"Measured input:\", number_measured)\n",
        "if result[0][3] == 1:\n",
        "    print(\"Input is greater than or equal to 4\")\n",
        "else:\n",
        "    print(\"Input is not greater than or equal to 4\")"
      ]
    },
    {
      "cell_type": "markdown",
      "metadata": {
        "id": "u4JXtg1bxvMJ"
      },
      "source": [
        "### Task 5\n",
        "Design a circuit that checks whether the first three qubits store either 4 or 5 in binary.\n",
        "\n",
        "*Hint:* Note that $4=100_2$ and $5=101_2$, hence the $\\ket{q_2}$ has to be set to $\\ket{1}$, and $\\ket{q_1}$ to $\\ket{0}_2$, while $\\ket{q_0}$ can be arbitrary.\n",
        "\n",
        "*Hint:* Don't forget to recover the original state of the qubit by applying $X$ gate!"
      ]
    },
    {
      "cell_type": "code",
      "execution_count": 24,
      "metadata": {
        "id": "4nNl0OksxvMJ",
        "outputId": "c15519eb-4cb7-4ddc-93ce-43f070821e3a",
        "colab": {
          "base_uri": "https://localhost:8080/"
        }
      },
      "outputs": [
        {
          "output_type": "stream",
          "name": "stdout",
          "text": [
            "Number measured: 5\n",
            "It is 4 or 5\n"
          ]
        }
      ],
      "source": [
        "import cirq\n",
        "from cirq import X, H\n",
        "s = cirq.Simulator()\n",
        "\n",
        "qq = cirq.LineQubit.range(4)\n",
        "circuit = cirq.Circuit()\n",
        "circuit.append(H.on_each(*(qq[0:3])))\n",
        "\n",
        "#\n",
        "# your solution\n",
        "#\n",
        "circuit.append(X(qq[1]))\n",
        "circuit.append(CCX(qq[1], qq[2], qq[3]))\n",
        "circuit.append(X(qq[1]))\n",
        "\n",
        "circuit.append(cirq.measure(*qq, key='result'))\n",
        "\n",
        "samples = s.run(circuit, repetitions=1)\n",
        "result = samples.measurements[\"result\"]\n",
        "number_measured = result[0][0] + 2*result[0][1] + 4*result[0][2]\n",
        "print(\"Number measured:\", number_measured)\n",
        "if result[0][3] == 1:\n",
        "    print(\"It is 4 or 5\")\n",
        "else:\n",
        "    print(\"It is neither 4 nor 5\")"
      ]
    },
    {
      "cell_type": "markdown",
      "metadata": {
        "id": "COoRp7nQxvMJ"
      },
      "source": [
        "To check out our solution, run the next cell:"
      ]
    },
    {
      "cell_type": "code",
      "execution_count": null,
      "metadata": {
        "id": "gJpKMaXUxvMJ"
      },
      "outputs": [],
      "source": [
        "SolutionToTask5()  # show solution for task 5"
      ]
    }
  ],
  "metadata": {
    "kernelspec": {
      "display_name": "Python 3 (ipykernel)",
      "language": "python",
      "name": "python3"
    },
    "language_info": {
      "codemirror_mode": {
        "name": "ipython",
        "version": 3
      },
      "file_extension": ".py",
      "mimetype": "text/x-python",
      "name": "python",
      "nbconvert_exporter": "python",
      "pygments_lexer": "ipython3",
      "version": "3.11.4"
    },
    "colab": {
      "provenance": [],
      "collapsed_sections": [
        "snGh7KYZxvMG"
      ],
      "include_colab_link": true
    }
  },
  "nbformat": 4,
  "nbformat_minor": 0
}