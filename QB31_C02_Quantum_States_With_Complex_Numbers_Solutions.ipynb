{
  "cells": [
    {
      "cell_type": "markdown",
      "metadata": {
        "id": "view-in-github",
        "colab_type": "text"
      },
      "source": [
        "<a href=\"https://colab.research.google.com/github/james-lucius/qworld/blob/main/QB31_C02_Quantum_States_With_Complex_Numbers_Solutions.ipynb\" target=\"_parent\"><img src=\"https://colab.research.google.com/assets/colab-badge.svg\" alt=\"Open In Colab\"/></a>"
      ]
    },
    {
      "cell_type": "markdown",
      "metadata": {
        "id": "_vS7TVp7h9a2"
      },
      "source": [
        "<a href=\"https://qworld.net\" target=\"_blank\" align=\"left\"><img src=\"https://gitlab.com/qworld/qeducation/qbook101/raw/main/qworld/images/header.jpg\" align=\"left\"></a>\n",
        "$ \\newcommand{\\bra}[1]{\\langle #1|} $\n",
        "$ \\newcommand{\\ket}[1]{|#1\\rangle} $\n",
        "$ \\newcommand{\\braket}[2]{\\langle #1|#2\\rangle} $\n",
        "$ \\newcommand{\\dot}[2]{ #1 \\cdot #2} $\n",
        "$ \\newcommand{\\biginner}[2]{\\left\\langle #1,#2\\right\\rangle} $\n",
        "$ \\newcommand{\\mymatrix}[2]{\\left( \\begin{array}{#1} #2\\end{array} \\right)} $\n",
        "$ \\newcommand{\\myvector}[1]{\\mymatrix{c}{#1}} $\n",
        "$ \\newcommand{\\myrvector}[1]{\\mymatrix{r}{#1}} $\n",
        "$ \\newcommand{\\mypar}[1]{\\left( #1 \\right)} $\n",
        "$ \\newcommand{\\mybigpar}[1]{ \\Big( #1 \\Big)} $\n",
        "$ \\newcommand{\\sqrttwo}{\\frac{1}{\\sqrt{2}}} $\n",
        "$ \\newcommand{\\dsqrttwo}{\\dfrac{1}{\\sqrt{2}}} $\n",
        "$ \\newcommand{\\onehalf}{\\frac{1}{2}} $\n",
        "$ \\newcommand{\\donehalf}{\\dfrac{1}{2}} $\n",
        "$ \\newcommand{\\hadamard}{ \\mymatrix{rr}{ \\sqrttwo & \\sqrttwo \\\\ \\sqrttwo & -\\sqrttwo }} $\n",
        "$ \\newcommand{\\vzero}{\\myvector{1\\\\0}} $\n",
        "$ \\newcommand{\\vone}{\\myvector{0\\\\1}} $\n",
        "$ \\newcommand{\\stateplus}{\\myvector{ \\sqrttwo \\\\  \\sqrttwo } } $\n",
        "$ \\newcommand{\\stateminus}{ \\myrvector{ \\sqrttwo \\\\ -\\sqrttwo } } $\n",
        "$ \\newcommand{\\myarray}[2]{ \\begin{array}{#1}#2\\end{array}} $\n",
        "$ \\newcommand{\\X}{ \\mymatrix{cc}{0 & 1 \\\\ 1 & 0}  } $\n",
        "$ \\newcommand{\\Z}{ \\mymatrix{rr}{1 & 0 \\\\ 0 & -1}  } $\n",
        "$ \\newcommand{\\Htwo}{ \\mymatrix{rrrr}{ \\frac{1}{2} & \\frac{1}{2} & \\frac{1}{2} & \\frac{1}{2} \\\\ \\frac{1}{2} & -\\frac{1}{2} & \\frac{1}{2} & -\\frac{1}{2} \\\\ \\frac{1}{2} & \\frac{1}{2} & -\\frac{1}{2} & -\\frac{1}{2} \\\\ \\frac{1}{2} & -\\frac{1}{2} & -\\frac{1}{2} & \\frac{1}{2} } } $\n",
        "$ \\newcommand{\\CNOT}{ \\mymatrix{cccc}{1 & 0 & 0 & 0 \\\\ 0 & 1 & 0 & 0 \\\\ 0 & 0 & 0 & 1 \\\\ 0 & 0 & 1 & 0} } $\n",
        "$ \\newcommand{\\norm}[1]{ \\left\\lVert #1 \\right\\rVert } $\n",
        "$ \\newcommand{\\pstate}[1]{ \\lceil \\mspace{-1mu} #1 \\mspace{-1.5mu} \\rfloor } $"
      ]
    },
    {
      "cell_type": "markdown",
      "metadata": {
        "id": "g3UoHJkKh9a6"
      },
      "source": [
        "_prepared by Maksim Dimitrijev_"
      ]
    },
    {
      "cell_type": "markdown",
      "metadata": {
        "id": "L-R3_hKdh9a6"
      },
      "source": [
        "<font size=\"28px\" style=\"font-size:28px;\" align=\"left\"><b> <font color=\"blue\"> Solutions for </font>Quantum states with complex numbers </b></font>\n",
        "<br>\n",
        "<br><br>"
      ]
    },
    {
      "cell_type": "markdown",
      "metadata": {
        "id": "i7cQPhGPh9a6"
      },
      "source": [
        "<a name=\"task1\"></a>\n",
        "<h3> Task 1 </h3>\n",
        "\n",
        "Calculate on the paper the probabilities to observe state $\\ket{0}$ and $\\ket{1}$ for each quantum system:\n",
        "\n",
        "$$\n",
        "    \\myvector{ \\dfrac{1-i\\sqrt{2}}{2} \\\\ \\\\ \\dfrac{i}{2} }\n",
        "    \\mbox{ , }\n",
        "    \\myvector{ \\dfrac{2i}{\\sqrt{6}} \\\\ \\\\ \\dfrac{1-i}{\\sqrt{6}} }\n",
        "    \\mbox{ and }\n",
        "    \\myvector{ \\dfrac{1+i\\sqrt{3}}{\\sqrt{5}} \\\\ \\\\ \\dfrac{-i}{\\sqrt{5}} }.\n",
        "$$."
      ]
    },
    {
      "cell_type": "markdown",
      "metadata": {
        "id": "yAXcopGjh9a7"
      },
      "source": [
        "<h3> Solution </h3>"
      ]
    },
    {
      "cell_type": "markdown",
      "metadata": {
        "id": "Qcm92w8Dh9a7"
      },
      "source": [
        "$\\myvector{ \\frac{1-i\\sqrt{2}}{2} \\\\ \\frac{i}{2} }$:\n",
        "\n",
        "For state $\\ket{0}$: $\\mypar{\\frac{1}{2}}^2 + \\mypar{\\frac{-\\sqrt{2}}{2}}^2 = \\frac{1}{4} + \\frac{2}{4} = \\frac{3}{4}$.\n",
        "\n",
        "For state $\\ket{1}$: $\\mypar{\\frac{1}{2}}^2 = \\frac{1}{4}$.\n",
        "\n",
        "$\\myvector{ \\frac{2i}{\\sqrt{6}} \\\\ \\frac{1-i}{\\sqrt{6}} }$:\n",
        "\n",
        "For state $\\ket{0}$: $\\mypar{\\frac{2}{\\sqrt{6}}}^2 = \\frac{4}{6} = \\frac{2}{3}$.\n",
        "\n",
        "For state $\\ket{1}$: $\\mypar{\\frac{1}{\\sqrt{6}}}^2 + \\mypar{\\frac{-1}{\\sqrt{6}}}^2 = \\frac{1}{6} + \\frac{1}{6} = \\frac{1}{3}$.\n",
        "\n",
        "$\\myvector{ \\frac{1+i\\sqrt{3}}{\\sqrt{5}} \\\\ \\frac{-i}{\\sqrt{5}} }$:\n",
        "\n",
        "For state $\\ket{0}$: $\\mypar{\\frac{1}{\\sqrt{5}}}^2 + \\mypar{\\frac{\\sqrt{3}}{\\sqrt{5}}}^2 = \\frac{1}{5} + \\frac{3}{5} = \\frac{4}{5}$.\n",
        "\n",
        "For state $\\ket{1}$: $\\mypar{\\frac{1}{\\sqrt{5}}}^2 = \\frac{1}{5}$."
      ]
    },
    {
      "cell_type": "markdown",
      "metadata": {
        "id": "6QPh1n3Th9a7"
      },
      "source": [
        "<a name=\"task2\"></a>\n",
        "<h3> Task 2 </h3>\n",
        "\n",
        "If the following vectors are valid quantum states, then what can be the values of $a$ and $b$?\n",
        "\n",
        "$$\n",
        "    \\ket{v} = \\myrvector{0.1 - ai \\\\ -0.7 \\\\ 0.4 + 0.3i }\n",
        "    ~~~~~ \\mbox{and} ~~~~~\n",
        "   \\ket{u} = \\myrvector{ \\frac{1-i}{\\sqrt{6}} \\\\ \\frac{1+2i}{\\sqrt{b}} \\\\ -\\frac{1}{\\sqrt{4}} }.\n",
        "$$"
      ]
    },
    {
      "cell_type": "markdown",
      "metadata": {
        "id": "uBf3thMph9a7"
      },
      "source": [
        "<h3> Solution </h3>"
      ]
    },
    {
      "cell_type": "code",
      "execution_count": 1,
      "metadata": {
        "id": "i5-QPCYCh9a8",
        "outputId": "04a00c2f-7416-46ea-e65b-d9e9aae04d07",
        "colab": {
          "base_uri": "https://localhost:8080/"
        }
      },
      "outputs": [
        {
          "output_type": "stream",
          "name": "stdout",
          "text": [
            "a= 0.5 , -0.5\n",
            "b= 12.000000000000004 , -12.000000000000004\n"
          ]
        }
      ],
      "source": [
        "a_square = 1 - (0.1)**2 - (-0.7)**2 - (0.4)**2 - (0.3)**2\n",
        "a = a_square**0.5\n",
        "print('a=',a,\",\",-a)\n",
        "\n",
        "state_1_amplitude_square = 1 - (1/6**0.5)**2 - (-1/6**0.5)**2 - (-1/4**0.5)**2\n",
        "b = (1**2 + 2**2)/state_1_amplitude_square\n",
        "print('b=',b,\",\",-b)"
      ]
    },
    {
      "cell_type": "markdown",
      "metadata": {
        "id": "ypR8Zxprh9a9"
      },
      "source": [
        "<a name=\"task3\"></a>\n",
        "<h3> Task 3</h3>\n",
        "\n",
        "Randomly create a 2-dimensional quantum state, where both amplitudes are complex numbers.\n",
        "\n",
        "<b>Write a function</b> that returns a randomly created 2-dimensional quantum state.\n",
        "\n",
        "<i>Hint:\n",
        "<ul>\n",
        "    <li> Pick four random values between -100 and 100 for the real and imaginary parts of the amplitudes of state 0 and state 1 </li>\n",
        "    <li> Find an appropriate normalization factor to divide each amplitude such that the length of quantum state should be 1 </li>\n",
        "</ul>\n",
        "</i>\n",
        "\n",
        "<b>Repeat several times:</b>\n",
        "<ul>\n",
        "    <li> Randomly pick a quantum state </li>\n",
        "    <li> Check whether the picked quantum state is valid </li>\n",
        "\n",
        "_Note:_ Comment out the first line after writing your code to store the function you have written for later use."
      ]
    },
    {
      "cell_type": "markdown",
      "metadata": {
        "id": "q4KyG1oZh9a9"
      },
      "source": [
        "<h3> Solution </h3>"
      ]
    },
    {
      "cell_type": "code",
      "execution_count": 2,
      "metadata": {
        "id": "gm4XcNMyh9a9"
      },
      "outputs": [],
      "source": [
        "#%%writefile random_complex_quantum_state.py\n",
        "from random import randrange\n",
        "def random_complex_quantum_state():\n",
        "    # quantum state\n",
        "    quantum_state=[0,0]\n",
        "    length_square = 0\n",
        "    while length_square == 0:\n",
        "        first_entry_real = randrange(-100,101)\n",
        "        first_entry_imag = randrange(-100,101)\n",
        "        second_entry_real = randrange(-100,101)\n",
        "        second_entry_imag = randrange(-100,101)\n",
        "        length_square = first_entry_real**2+first_entry_imag**2+second_entry_real**2+second_entry_imag**2\n",
        "    first_entry_real = first_entry_real / length_square**0.5\n",
        "    first_entry_imag = first_entry_imag / length_square**0.5\n",
        "    second_entry_real = second_entry_real / length_square**0.5\n",
        "    second_entry_imag = second_entry_imag / length_square**0.5\n",
        "    quantum_state[0] = complex(first_entry_real, first_entry_imag)\n",
        "    quantum_state[1] = complex(second_entry_real, second_entry_imag)\n",
        "    return quantum_state"
      ]
    },
    {
      "cell_type": "code",
      "execution_count": 3,
      "metadata": {
        "id": "GyfkVB6Yh9a9"
      },
      "outputs": [],
      "source": [
        "#%%writefile is_quantum_state.py\n",
        "# testing whether a given quantum state is valid\n",
        "def is_quantum_state(quantum_state):\n",
        "    length_square = 0\n",
        "    for i in range(len(quantum_state)):\n",
        "        length_square += abs(quantum_state[i])**2\n",
        "    print(\"summation of entry squares is\",length_square)\n",
        "    # there might be precision problem\n",
        "    # the length may be very close to 1 but not exactly 1\n",
        "    # so we use the following trick\n",
        "    if (length_square - 1)**2 < 0.00000001: return True\n",
        "    return False"
      ]
    },
    {
      "cell_type": "code",
      "execution_count": 4,
      "metadata": {
        "id": "wlTLPLQJh9a9",
        "outputId": "8f761708-1178-4a2e-ba12-8c2bf1ab4ed7",
        "colab": {
          "base_uri": "https://localhost:8080/"
        }
      },
      "outputs": [
        {
          "output_type": "stream",
          "name": "stdout",
          "text": [
            "new state is [(-0.38180864548625826+0.2799930066899227j), (-0.7127094715743487-0.517562830548039j)]\n",
            "summation of entry squares is 0.9999999999999999\n",
            "Is it valid? True\n",
            "\n",
            "new state is [(0.5187337908433495+0.11527417574296656j), (0.7492821423292826+0.39522574540445676j)]\n",
            "summation of entry squares is 1.0\n",
            "Is it valid? True\n",
            "\n",
            "new state is [(0.30422998852126343-0.32649071938867297j), (0.7123433877571046+0.5416777844402982j)]\n",
            "summation of entry squares is 1.0000000000000002\n",
            "Is it valid? True\n",
            "\n",
            "new state is [(-0.08155999139183272-0.44857995265507994j), (-0.5872319380211956-0.6687919294130283j)]\n",
            "summation of entry squares is 1.0\n",
            "Is it valid? True\n",
            "\n",
            "new state is [(0.3538666615006806-0.6208187043871589j), (-0.36628303558842373+0.5959859562116725j)]\n",
            "summation of entry squares is 0.9999999999999998\n",
            "Is it valid? True\n",
            "\n",
            "new state is [(0.5013108070258111-0.5013108070258111j), (0.46333271558446176-0.5316932801788905j)]\n",
            "summation of entry squares is 1.0\n",
            "Is it valid? True\n",
            "\n",
            "new state is [(0.36438372262777047-0.40207859048581573j), (-0.779027269066268-0.3141238988170435j)]\n",
            "summation of entry squares is 0.9999999999999999\n",
            "Is it valid? True\n",
            "\n",
            "new state is [(0.5232824375430039+0.5780445530998298j), (-0.3529114113662119+0.5171977580366899j)]\n",
            "summation of entry squares is 0.9999999999999997\n",
            "Is it valid? True\n",
            "\n",
            "new state is [(0.5778887684467429+0.1629942680234403j), (-0.5112092951644264-0.614932920270252j)]\n",
            "summation of entry squares is 1.0\n",
            "Is it valid? True\n",
            "\n",
            "new state is [(-0.7381722229108406+0.27681458359156524j), (-0.3114164065405109-0.5305612852171667j)]\n",
            "summation of entry squares is 0.9999999999999998\n",
            "Is it valid? True\n",
            "\n"
          ]
        }
      ],
      "source": [
        "#Use the functions you have written to randomly generate and check quantum states\n",
        "for i in range(10):\n",
        "    new_state = random_complex_quantum_state()\n",
        "    print(\"new state is\",new_state)\n",
        "    print(\"Is it valid?\",is_quantum_state(new_state))\n",
        "    print()"
      ]
    }
  ],
  "metadata": {
    "kernelspec": {
      "display_name": "Python 3 (ipykernel)",
      "language": "python",
      "name": "python3"
    },
    "language_info": {
      "codemirror_mode": {
        "name": "ipython",
        "version": 3
      },
      "file_extension": ".py",
      "mimetype": "text/x-python",
      "name": "python",
      "nbconvert_exporter": "python",
      "pygments_lexer": "ipython3",
      "version": "3.11.4"
    },
    "colab": {
      "provenance": [],
      "include_colab_link": true
    }
  },
  "nbformat": 4,
  "nbformat_minor": 0
}