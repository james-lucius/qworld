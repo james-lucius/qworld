{
  "cells": [
    {
      "cell_type": "markdown",
      "metadata": {
        "id": "view-in-github",
        "colab_type": "text"
      },
      "source": [
        "<a href=\"https://colab.research.google.com/github/james-lucius/qworld/blob/main/QB52_D05_Shors_Algorithm_Solutions.ipynb\" target=\"_parent\"><img src=\"https://colab.research.google.com/assets/colab-badge.svg\" alt=\"Open In Colab\"/></a>"
      ]
    },
    {
      "cell_type": "markdown",
      "metadata": {
        "id": "-YBsFaxPlBwZ"
      },
      "source": [
        "<a href=\"https://qworld.net\" target=\"_blank\" align=\"left\"><img src=\"https://gitlab.com/qworld/qeducation/qbook101/raw/main/qworld/images/header.jpg\" align=\"left\"></a>\n",
        "$ \\newcommand{\\bra}[1]{\\langle #1|} $\n",
        "$ \\newcommand{\\ket}[1]{|#1\\rangle} $\n",
        "$ \\newcommand{\\braket}[2]{\\langle #1|#2\\rangle} $\n",
        "$ \\newcommand{\\dot}[2]{ #1 \\cdot #2} $\n",
        "$ \\newcommand{\\biginner}[2]{\\left\\langle #1,#2\\right\\rangle} $\n",
        "$ \\newcommand{\\mymatrix}[2]{\\left( \\begin{array}{#1} #2\\end{array} \\right)} $\n",
        "$ \\newcommand{\\myvector}[1]{\\mymatrix{c}{#1}} $\n",
        "$ \\newcommand{\\myrvector}[1]{\\mymatrix{r}{#1}} $\n",
        "$ \\newcommand{\\mypar}[1]{\\left( #1 \\right)} $\n",
        "$ \\newcommand{\\mybigpar}[1]{ \\Big( #1 \\Big)} $\n",
        "$ \\newcommand{\\sqrttwo}{\\frac{1}{\\sqrt{2}}} $\n",
        "$ \\newcommand{\\dsqrttwo}{\\dfrac{1}{\\sqrt{2}}} $\n",
        "$ \\newcommand{\\onehalf}{\\frac{1}{2}} $\n",
        "$ \\newcommand{\\donehalf}{\\dfrac{1}{2}} $\n",
        "$ \\newcommand{\\hadamard}{ \\mymatrix{rr}{ \\sqrttwo & \\sqrttwo \\\\ \\sqrttwo & -\\sqrttwo }} $\n",
        "$ \\newcommand{\\vzero}{\\myvector{1\\\\0}} $\n",
        "$ \\newcommand{\\vone}{\\myvector{0\\\\1}} $\n",
        "$ \\newcommand{\\stateplus}{\\myvector{ \\sqrttwo \\\\  \\sqrttwo } } $\n",
        "$ \\newcommand{\\stateminus}{ \\myrvector{ \\sqrttwo \\\\ -\\sqrttwo } } $\n",
        "$ \\newcommand{\\myarray}[2]{ \\begin{array}{#1}#2\\end{array}} $\n",
        "$ \\newcommand{\\X}{ \\mymatrix{cc}{0 & 1 \\\\ 1 & 0}  } $\n",
        "$ \\newcommand{\\Z}{ \\mymatrix{rr}{1 & 0 \\\\ 0 & -1}  } $\n",
        "$ \\newcommand{\\Htwo}{ \\mymatrix{rrrr}{ \\frac{1}{2} & \\frac{1}{2} & \\frac{1}{2} & \\frac{1}{2} \\\\ \\frac{1}{2} & -\\frac{1}{2} & \\frac{1}{2} & -\\frac{1}{2} \\\\ \\frac{1}{2} & \\frac{1}{2} & -\\frac{1}{2} & -\\frac{1}{2} \\\\ \\frac{1}{2} & -\\frac{1}{2} & -\\frac{1}{2} & \\frac{1}{2} } } $\n",
        "$ \\newcommand{\\CNOT}{ \\mymatrix{cccc}{1 & 0 & 0 & 0 \\\\ 0 & 1 & 0 & 0 \\\\ 0 & 0 & 0 & 1 \\\\ 0 & 0 & 1 & 0} } $\n",
        "$ \\newcommand{\\norm}[1]{ \\left\\lVert #1 \\right\\rVert } $\n",
        "$ \\newcommand{\\pstate}[1]{ \\lceil \\mspace{-1mu} #1 \\mspace{-1.5mu} \\rfloor } $\n",
        "$ \\newcommand{\\Y}{ \\mymatrix{rr}{0 & -i \\\\ i & 0} } $\n",
        "$ \\newcommand{\\S}{ \\mymatrix{rr}{1 & 0 \\\\ 0 & i} } $\n",
        "$ \\newcommand{\\T}{ \\mymatrix{rr}{1 & 0 \\\\ 0 & e^{i \\frac{\\pi}{4}}} } $\n",
        "$ \\newcommand{\\Sdg}{ \\mymatrix{rr}{1 & 0 \\\\ 0 & -i} } $\n",
        "$ \\newcommand{\\Tdg}{ \\mymatrix{rr}{1 & 0 \\\\ 0 & e^{-i \\frac{\\pi}{4}}} } $\n",
        "$ \\newcommand{\\qgate}[1]{ \\mathop{\\textit{#1} } }$\n",
        "$\\newcommand{\\Mod}[1]{\\ (\\mathrm{mod}\\ #1)}$"
      ]
    },
    {
      "cell_type": "markdown",
      "metadata": {
        "id": "1fn_yeozlBwa"
      },
      "source": [
        "_prepared by Özlem Salehi and Abuzer Yakaryilmaz_\n",
        "<br><br>\n",
        "_Cirq adaptation by Claudia Zendejas-Morales_"
      ]
    },
    {
      "cell_type": "markdown",
      "metadata": {
        "id": "K4oUmfEklBwb"
      },
      "source": [
        "<font size=\"28px\" style=\"font-size:28px;\" align=\"left\"><b><font color=\"blue\"> Solutions for </font>Shor's Algorithm</b></font>\n",
        "<br>\n",
        "<br><br>"
      ]
    },
    {
      "cell_type": "markdown",
      "metadata": {
        "jp-MarkdownHeadingCollapsed": true,
        "id": "3qzDnm8rlBwb"
      },
      "source": [
        "##### <font color=\"#08b806\">Please execute the following cell, it is necessary to distinguish between your local environment and Google Colab's"
      ]
    },
    {
      "cell_type": "code",
      "execution_count": 16,
      "metadata": {
        "id": "TNhXlvizlBwb",
        "colab": {
          "base_uri": "https://localhost:8080/"
        },
        "outputId": "e81c7d82-4331-462c-e873-2aa89465a448"
      },
      "outputs": [
        {
          "output_type": "stream",
          "name": "stdout",
          "text": [
            "--2025-07-18 00:53:30--  https://gitlab.com/qworld/qeducation/qbook101/raw/main/qworld/include/shor.py\n",
            "Resolving gitlab.com (gitlab.com)... 172.65.251.78, 2606:4700:90:0:f22e:fbec:5bed:a9b9\n",
            "Connecting to gitlab.com (gitlab.com)|172.65.251.78|:443... connected.\n",
            "HTTP request sent, awaiting response... 200 OK\n",
            "Length: 569 [text/plain]\n",
            "Saving to: ‘shor.py’\n",
            "\n",
            "shor.py             100%[===================>]     569  --.-KB/s    in 0s      \n",
            "\n",
            "2025-07-18 00:53:30 (306 MB/s) - ‘shor.py’ saved [569/569]\n",
            "\n",
            "Requirement already satisfied: cirq in /usr/local/lib/python3.11/dist-packages (1.5.0)\n",
            "Requirement already satisfied: cirq-aqt==1.5.0 in /usr/local/lib/python3.11/dist-packages (from cirq) (1.5.0)\n",
            "Requirement already satisfied: cirq-core==1.5.0 in /usr/local/lib/python3.11/dist-packages (from cirq) (1.5.0)\n",
            "Requirement already satisfied: cirq-google==1.5.0 in /usr/local/lib/python3.11/dist-packages (from cirq) (1.5.0)\n",
            "Requirement already satisfied: cirq-ionq==1.5.0 in /usr/local/lib/python3.11/dist-packages (from cirq) (1.5.0)\n",
            "Requirement already satisfied: cirq-pasqal==1.5.0 in /usr/local/lib/python3.11/dist-packages (from cirq) (1.5.0)\n",
            "Requirement already satisfied: cirq-web==1.5.0 in /usr/local/lib/python3.11/dist-packages (from cirq) (1.5.0)\n",
            "Requirement already satisfied: requests~=2.32 in /usr/local/lib/python3.11/dist-packages (from cirq-aqt==1.5.0->cirq) (2.32.3)\n",
            "Requirement already satisfied: attrs>=21.3.0 in /usr/local/lib/python3.11/dist-packages (from cirq-core==1.5.0->cirq) (25.3.0)\n",
            "Requirement already satisfied: duet>=0.2.8 in /usr/local/lib/python3.11/dist-packages (from cirq-core==1.5.0->cirq) (0.2.9)\n",
            "Requirement already satisfied: matplotlib~=3.7 in /usr/local/lib/python3.11/dist-packages (from cirq-core==1.5.0->cirq) (3.10.0)\n",
            "Requirement already satisfied: networkx~=3.1 in /usr/local/lib/python3.11/dist-packages (from cirq-core==1.5.0->cirq) (3.5)\n",
            "Requirement already satisfied: numpy>=1.25 in /usr/local/lib/python3.11/dist-packages (from cirq-core==1.5.0->cirq) (2.0.2)\n",
            "Requirement already satisfied: pandas~=2.0 in /usr/local/lib/python3.11/dist-packages (from cirq-core==1.5.0->cirq) (2.2.2)\n",
            "Requirement already satisfied: sortedcontainers~=2.0 in /usr/local/lib/python3.11/dist-packages (from cirq-core==1.5.0->cirq) (2.4.0)\n",
            "Requirement already satisfied: scipy~=1.11 in /usr/local/lib/python3.11/dist-packages (from cirq-core==1.5.0->cirq) (1.15.3)\n",
            "Requirement already satisfied: sympy in /usr/local/lib/python3.11/dist-packages (from cirq-core==1.5.0->cirq) (1.13.1)\n",
            "Requirement already satisfied: typing_extensions>=4.2 in /usr/local/lib/python3.11/dist-packages (from cirq-core==1.5.0->cirq) (4.14.1)\n",
            "Requirement already satisfied: tqdm>=4.12 in /usr/local/lib/python3.11/dist-packages (from cirq-core==1.5.0->cirq) (4.67.1)\n",
            "Requirement already satisfied: google-api-core>=1.14.0 in /usr/local/lib/python3.11/dist-packages (from google-api-core[grpc]>=1.14.0->cirq-google==1.5.0->cirq) (2.25.1)\n",
            "Requirement already satisfied: proto-plus>=1.20.0 in /usr/local/lib/python3.11/dist-packages (from cirq-google==1.5.0->cirq) (1.26.1)\n",
            "Requirement already satisfied: protobuf<6.0,>=4.25 in /usr/local/lib/python3.11/dist-packages (from cirq-google==1.5.0->cirq) (5.29.5)\n",
            "Requirement already satisfied: typedunits in /usr/local/lib/python3.11/dist-packages (from cirq-google==1.5.0->cirq) (0.0.1.dev20250509200845)\n",
            "Requirement already satisfied: googleapis-common-protos<2.0.0,>=1.56.2 in /usr/local/lib/python3.11/dist-packages (from google-api-core>=1.14.0->google-api-core[grpc]>=1.14.0->cirq-google==1.5.0->cirq) (1.70.0)\n",
            "Requirement already satisfied: google-auth<3.0.0,>=2.14.1 in /usr/local/lib/python3.11/dist-packages (from google-api-core>=1.14.0->google-api-core[grpc]>=1.14.0->cirq-google==1.5.0->cirq) (2.38.0)\n",
            "Requirement already satisfied: grpcio<2.0.0,>=1.33.2 in /usr/local/lib/python3.11/dist-packages (from google-api-core[grpc]>=1.14.0->cirq-google==1.5.0->cirq) (1.73.1)\n",
            "Requirement already satisfied: grpcio-status<2.0.0,>=1.33.2 in /usr/local/lib/python3.11/dist-packages (from google-api-core[grpc]>=1.14.0->cirq-google==1.5.0->cirq) (1.71.2)\n",
            "Requirement already satisfied: contourpy>=1.0.1 in /usr/local/lib/python3.11/dist-packages (from matplotlib~=3.7->cirq-core==1.5.0->cirq) (1.3.2)\n",
            "Requirement already satisfied: cycler>=0.10 in /usr/local/lib/python3.11/dist-packages (from matplotlib~=3.7->cirq-core==1.5.0->cirq) (0.12.1)\n",
            "Requirement already satisfied: fonttools>=4.22.0 in /usr/local/lib/python3.11/dist-packages (from matplotlib~=3.7->cirq-core==1.5.0->cirq) (4.58.5)\n",
            "Requirement already satisfied: kiwisolver>=1.3.1 in /usr/local/lib/python3.11/dist-packages (from matplotlib~=3.7->cirq-core==1.5.0->cirq) (1.4.8)\n",
            "Requirement already satisfied: packaging>=20.0 in /usr/local/lib/python3.11/dist-packages (from matplotlib~=3.7->cirq-core==1.5.0->cirq) (25.0)\n",
            "Requirement already satisfied: pillow>=8 in /usr/local/lib/python3.11/dist-packages (from matplotlib~=3.7->cirq-core==1.5.0->cirq) (11.2.1)\n",
            "Requirement already satisfied: pyparsing>=2.3.1 in /usr/local/lib/python3.11/dist-packages (from matplotlib~=3.7->cirq-core==1.5.0->cirq) (3.2.3)\n",
            "Requirement already satisfied: python-dateutil>=2.7 in /usr/local/lib/python3.11/dist-packages (from matplotlib~=3.7->cirq-core==1.5.0->cirq) (2.9.0.post0)\n",
            "Requirement already satisfied: pytz>=2020.1 in /usr/local/lib/python3.11/dist-packages (from pandas~=2.0->cirq-core==1.5.0->cirq) (2025.2)\n",
            "Requirement already satisfied: tzdata>=2022.7 in /usr/local/lib/python3.11/dist-packages (from pandas~=2.0->cirq-core==1.5.0->cirq) (2025.2)\n",
            "Requirement already satisfied: charset-normalizer<4,>=2 in /usr/local/lib/python3.11/dist-packages (from requests~=2.32->cirq-aqt==1.5.0->cirq) (3.4.2)\n",
            "Requirement already satisfied: idna<4,>=2.5 in /usr/local/lib/python3.11/dist-packages (from requests~=2.32->cirq-aqt==1.5.0->cirq) (3.10)\n",
            "Requirement already satisfied: urllib3<3,>=1.21.1 in /usr/local/lib/python3.11/dist-packages (from requests~=2.32->cirq-aqt==1.5.0->cirq) (2.4.0)\n",
            "Requirement already satisfied: certifi>=2017.4.17 in /usr/local/lib/python3.11/dist-packages (from requests~=2.32->cirq-aqt==1.5.0->cirq) (2025.7.14)\n",
            "Requirement already satisfied: mpmath<1.4,>=1.1.0 in /usr/local/lib/python3.11/dist-packages (from sympy->cirq-core==1.5.0->cirq) (1.3.0)\n",
            "Requirement already satisfied: cython>=3.0.0 in /usr/local/lib/python3.11/dist-packages (from typedunits->cirq-google==1.5.0->cirq) (3.0.12)\n",
            "Requirement already satisfied: cachetools<6.0,>=2.0.0 in /usr/local/lib/python3.11/dist-packages (from google-auth<3.0.0,>=2.14.1->google-api-core>=1.14.0->google-api-core[grpc]>=1.14.0->cirq-google==1.5.0->cirq) (5.5.2)\n",
            "Requirement already satisfied: pyasn1-modules>=0.2.1 in /usr/local/lib/python3.11/dist-packages (from google-auth<3.0.0,>=2.14.1->google-api-core>=1.14.0->google-api-core[grpc]>=1.14.0->cirq-google==1.5.0->cirq) (0.4.2)\n",
            "Requirement already satisfied: rsa<5,>=3.1.4 in /usr/local/lib/python3.11/dist-packages (from google-auth<3.0.0,>=2.14.1->google-api-core>=1.14.0->google-api-core[grpc]>=1.14.0->cirq-google==1.5.0->cirq) (4.9.1)\n",
            "Requirement already satisfied: six>=1.5 in /usr/local/lib/python3.11/dist-packages (from python-dateutil>=2.7->matplotlib~=3.7->cirq-core==1.5.0->cirq) (1.17.0)\n",
            "Requirement already satisfied: pyasn1<0.7.0,>=0.6.1 in /usr/local/lib/python3.11/dist-packages (from pyasn1-modules>=0.2.1->google-auth<3.0.0,>=2.14.1->google-api-core>=1.14.0->google-api-core[grpc]>=1.14.0->cirq-google==1.5.0->cirq) (0.6.1)\n"
          ]
        }
      ],
      "source": [
        "import IPython\n",
        "\n",
        "def in_colab():\n",
        "    try:\n",
        "        import google.colab\n",
        "        return True\n",
        "    except:\n",
        "        return False\n",
        "\n",
        "path_files = \"./\" if in_colab() else \"../qworld/include/\"\n",
        "\n",
        "if in_colab():\n",
        "    url = \"https://gitlab.com/qworld/qeducation/qbook101/raw/main/qworld/include/shor.py\"\n",
        "    !wget --no-cache -O shor.py {url}\n",
        "\n",
        "    !pip install cirq"
      ]
    },
    {
      "cell_type": "markdown",
      "metadata": {
        "id": "mYXl8O3SlBwb"
      },
      "source": [
        "<a name=\"task1\"></a>\n",
        "### Task 1\n",
        "\n",
        "Let $N=111$. What percentage of the elements that are less than $N$ are relatively prime with $N$? Write a Python code to find out. (You can use gcd function of numpy.)"
      ]
    },
    {
      "cell_type": "markdown",
      "metadata": {
        "id": "2lPfd6SzlBwb"
      },
      "source": [
        "<h3>Solution</h3>"
      ]
    },
    {
      "cell_type": "code",
      "execution_count": 17,
      "metadata": {
        "id": "s6IDkBq8lBwb",
        "colab": {
          "base_uri": "https://localhost:8080/"
        },
        "outputId": "af642022-6bee-4ca6-a152-bf888df22bce"
      },
      "outputs": [
        {
          "output_type": "stream",
          "name": "stdout",
          "text": [
            "[1, 2, 4, 5, 7, 8, 10, 11, 13, 14, 16, 17, 19, 20, 22, 23, 25, 26, 28, 29, 31, 32, 34, 35, 38, 40, 41, 43, 44, 46, 47, 49, 50, 52, 53, 55, 56, 58, 59, 61, 62, 64, 65, 67, 68, 70, 71, 73, 76, 77, 79, 80, 82, 83, 85, 86, 88, 89, 91, 92, 94, 95, 97, 98, 100, 101, 103, 104, 106, 107, 109, 110]\n",
            "64.86486486486487 percentage of the integers are relatively prime with 111\n"
          ]
        }
      ],
      "source": [
        "import numpy as np\n",
        "\n",
        "#Create an empty list\n",
        "rlist=[]\n",
        "N=111\n",
        "\n",
        "#If relatively prime with N, append to the list\n",
        "for i in range(1,N):\n",
        "    if np.gcd(N,i)==1:\n",
        "        rlist.append(i)\n",
        "\n",
        "print(rlist)\n",
        "\n",
        "print(len(rlist)*100/N, \"percentage of the integers are relatively prime with\", N)"
      ]
    },
    {
      "cell_type": "markdown",
      "metadata": {
        "id": "9FrsaKWylBwc"
      },
      "source": [
        "<a name=\"task2\"></a>\n",
        "### Task 2\n",
        "\n",
        "Calculate the order of each element $ x $ that is relatively prime with $N $.\n",
        "\n",
        "What percentage of the $ x $’s have even order and satisfy $x^{r/2} \\neq -1 \\Mod{N}$?\n",
        "\n",
        "Put the elements that satisfy the conditions in a dictionary together with their order."
      ]
    },
    {
      "cell_type": "markdown",
      "metadata": {
        "id": "RyVG80qAlBwc"
      },
      "source": [
        "<h3>Solution</h3>"
      ]
    },
    {
      "cell_type": "code",
      "execution_count": 18,
      "metadata": {
        "id": "Xvn2oFghlBwc",
        "colab": {
          "base_uri": "https://localhost:8080/"
        },
        "outputId": "5ef4076b-0752-44a6-a8c8-57f2148e654e"
      },
      "outputs": [
        {
          "output_type": "stream",
          "name": "stdout",
          "text": [
            "Order of 2 : 36\n",
            "Order of 4 : 18\n",
            "Order of 5 : 36\n",
            "Order of 8 : 12\n",
            "Order of 13 : 36\n",
            "Order of 14 : 12\n",
            "Order of 17 : 36\n",
            "Order of 19 : 36\n",
            "Order of 20 : 36\n",
            "Order of 22 : 36\n",
            "Order of 23 : 12\n",
            "Order of 25 : 18\n",
            "Order of 26 : 6\n",
            "Order of 28 : 18\n",
            "Order of 29 : 12\n",
            "Order of 31 : 4\n",
            "Order of 32 : 36\n",
            "Order of 35 : 36\n",
            "Order of 38 : 2\n",
            "Order of 40 : 18\n",
            "Order of 43 : 4\n",
            "Order of 44 : 18\n",
            "Order of 47 : 6\n",
            "Order of 50 : 36\n",
            "Order of 52 : 36\n",
            "Order of 53 : 18\n",
            "Order of 55 : 36\n",
            "Order of 56 : 36\n",
            "Order of 58 : 18\n",
            "Order of 59 : 36\n",
            "Order of 61 : 36\n",
            "Order of 64 : 6\n",
            "Order of 67 : 18\n",
            "Order of 68 : 4\n",
            "Order of 71 : 18\n",
            "Order of 73 : 2\n",
            "Order of 76 : 36\n",
            "Order of 79 : 36\n",
            "Order of 80 : 4\n",
            "Order of 82 : 12\n",
            "Order of 83 : 18\n",
            "Order of 85 : 6\n",
            "Order of 86 : 18\n",
            "Order of 88 : 12\n",
            "Order of 89 : 36\n",
            "Order of 91 : 36\n",
            "Order of 92 : 36\n",
            "Order of 94 : 36\n",
            "Order of 97 : 12\n",
            "Order of 98 : 36\n",
            "Order of 103 : 12\n",
            "Order of 106 : 36\n",
            "Order of 107 : 18\n",
            "Order of 109 : 36\n",
            "48.648648648648646 percentage of the integers satisfy the conditions\n"
          ]
        }
      ],
      "source": [
        "import numpy as np\n",
        "counter=0\n",
        "#This will hold the list of integers that satisfy the conditions together with the order\n",
        "satisfy={}\n",
        "\n",
        "#rlist contains the relatively prime numbers with N\n",
        "for i in range(len(rlist)):\n",
        "    r=1;\n",
        "    while(1):\n",
        "        if (rlist[i]**r)%N==1:\n",
        "            if(r%2==0 and ((rlist[i]**int(r/2))%N != N-1)):\n",
        "                counter=counter+1\n",
        "                print(\"Order of\",rlist[i],\":\",r)\n",
        "                satisfy[rlist[i]]=r\n",
        "            break\n",
        "        r=r+1\n",
        "\n",
        "print(counter*100/N, \"percentage of the integers satisfy the conditions\")"
      ]
    },
    {
      "cell_type": "markdown",
      "metadata": {
        "id": "_CC6iv1ZlBwc"
      },
      "source": [
        "<a name=\"task3\"></a>\n",
        "### Task 3\n",
        "\n",
        "Pick randomly one of the $x$ you found in Task 2 and calculate gcd$(x^{r/2}-1,N)$ and gcd$(x^{r/2}+1,N)$."
      ]
    },
    {
      "cell_type": "markdown",
      "metadata": {
        "id": "6bTIf1XIlBwc"
      },
      "source": [
        "<h3>Solution</h3>"
      ]
    },
    {
      "cell_type": "code",
      "execution_count": 21,
      "metadata": {
        "id": "ND6WDXgclBwc",
        "colab": {
          "base_uri": "https://localhost:8080/"
        },
        "outputId": "e5afcf9f-5770-43a3-a6a1-6cbcf35d49b2"
      },
      "outputs": [
        {
          "output_type": "stream",
          "name": "stdout",
          "text": [
            "5 is picked with order 36\n",
            "Factors of 111 : 3 and 37\n"
          ]
        }
      ],
      "source": [
        "import random\n",
        "\n",
        "#Pick a random integer\n",
        "rand_index=random.randint(0,len(satisfy))\n",
        "\n",
        "#Pick a random x and its order from the dictionary we have created above\n",
        "x,r=random.choice(list(satisfy.items()))\n",
        "print(x, \"is picked with order\", r)\n",
        "\n",
        "#Calculate gcd\n",
        "print(\"Factors of\",N,\":\",np.gcd((x**int(r/2)-1),N), \"and\",np.gcd((x**int(r/2)+1),N))"
      ]
    },
    {
      "cell_type": "markdown",
      "metadata": {
        "id": "vvLwNE1KlBwc"
      },
      "source": [
        "<a name=\"task4\"></a>\n",
        "### Task 4\n",
        "\n",
        "Factor 21 by using Shor's Algorithm.\n",
        "\n",
        "- Pick a random $x$ which is relatively prime with 21.\n",
        "- Apply phase estimation circuit to the operator $U_x$.\n",
        "- Use continued fractions algorithm to find out $r$.\n",
        "- Compute $gcd(x^{r/2} -1, N)$ and $gcd(x^{r/2}+1, N)$"
      ]
    },
    {
      "cell_type": "markdown",
      "metadata": {
        "id": "x4d6LQR6lBwc"
      },
      "source": [
        "<h3>Solution</h3>"
      ]
    },
    {
      "cell_type": "code",
      "execution_count": 22,
      "metadata": {
        "id": "jfs9RMYnlBwc"
      },
      "outputs": [],
      "source": [
        "N=21"
      ]
    },
    {
      "cell_type": "code",
      "execution_count": 108,
      "metadata": {
        "id": "mHTK_iYElBwc",
        "colab": {
          "base_uri": "https://localhost:8080/"
        },
        "outputId": "c139417a-2774-4bb2-ff8c-c72ffb1a96a3"
      },
      "outputs": [
        {
          "output_type": "stream",
          "name": "stdout",
          "text": [
            "2  is picked after  3  trials\n"
          ]
        }
      ],
      "source": [
        "#Pick a random x relatively prime with N\n",
        "\n",
        "import random as rand\n",
        "import numpy as np\n",
        "\n",
        "counter = 0\n",
        "\n",
        "while(True):\n",
        "    x = rand.randrange(2,N)\n",
        "    counter = counter + 1\n",
        "    if np.gcd(x,N)==1:\n",
        "        break\n",
        "\n",
        "print(x, \" is picked after \", counter, \" trials\")"
      ]
    },
    {
      "cell_type": "code",
      "execution_count": 109,
      "metadata": {
        "id": "3RDMzHYOlBwc",
        "colab": {
          "base_uri": "https://localhost:8080/"
        },
        "outputId": "fb912fe4-1ed9-42bc-f934-cd6845a73bda"
      },
      "outputs": [
        {
          "output_type": "stream",
          "name": "stdout",
          "text": [
            "N = 21\n",
            "x = 2\n",
            "L = 5\n",
            "error = 0.1\n",
            "t = 14\n"
          ]
        }
      ],
      "source": [
        "from math import ceil, log2, pi\n",
        "# initialize the rest of paramenters\n",
        "\n",
        "# L = ⌈log2(N)⌉\n",
        "L = ceil(log2(N))\n",
        "\n",
        "# let's pick error e=0.1\n",
        "e = 0.1\n",
        "# t = 2L + 1 + ⌈log2(2+1/(2e))⌉\n",
        "t = 2*L + 1 + ceil(log2(2+1/(2*e)))\n",
        "\n",
        "print(\"N =\",N)\n",
        "print(\"x =\",x)\n",
        "print(\"L =\",L)\n",
        "print(\"error =\",e)\n",
        "print(\"t =\",t)"
      ]
    },
    {
      "cell_type": "code",
      "execution_count": 110,
      "metadata": {
        "id": "dPRJghW1lBwc"
      },
      "outputs": [],
      "source": [
        "import cirq\n",
        "from cirq import H, SWAP\n",
        "from cirq.circuits import InsertStrategy\n",
        "from math import pi\n",
        "import numpy as np\n",
        "\n",
        "\n",
        "def opUx(N, x):\n",
        "\n",
        "    k = 1\n",
        "    while(N > 2**k):\n",
        "        k = k + 1\n",
        "    u = np.zeros([2**k, 2**k], dtype = int)\n",
        "    for i in range(N):\n",
        "        u[x*i % N][i] = 1\n",
        "    for i in range(N, 2**k):\n",
        "        u[i][i] = 1\n",
        "    return cirq.MatrixGate(u, name='Ux').controlled()\n",
        "\n",
        "\n",
        "def myInvQFT(qubits):\n",
        "\n",
        "    circuit = cirq.Circuit() # create a circuit\n",
        "    n = len(qubits)\n",
        "    # swap the qubits\n",
        "    for j in range(n//2): # integer division\n",
        "        circuit.append(SWAP.on(qubits[j],qubits[n-j-1]), strategy = InsertStrategy.NEW)\n",
        "    # inverted phase gates are applied in reverse order and before the hadamard gate\n",
        "    for i in range(n-1,-1,-1):\n",
        "        phase_divisor = 2**(n-i)\n",
        "        for j in range(n-1,i,-1):\n",
        "            circuit.append(cirq.CZPowGate(exponent = -2/phase_divisor).on(qubits[j],qubits[i]),\n",
        "                           strategy = InsertStrategy.NEW)\n",
        "            phase_divisor = phase_divisor / 2\n",
        "        circuit.append(H(qubits[i]), strategy = InsertStrategy.NEW) # strategy is for the circuit to look neat\n",
        "\n",
        "    return circuit"
      ]
    },
    {
      "cell_type": "code",
      "execution_count": 111,
      "metadata": {
        "id": "xF6QfYFUlBwc",
        "colab": {
          "base_uri": "https://localhost:8080/"
        },
        "outputId": "ca9f1614-4176-43af-c754-abcedf9ea36e"
      },
      "outputs": [
        {
          "output_type": "stream",
          "name": "stdout",
          "text": [
            "outcomes in binary:\n",
            "Counter({'00000000000000': 169, '10000000000000': 167, '00101010101011': 129, '01010101010101': 124, '10101010101011': 111, '11010101010101': 96, '10101010101010': 32, '01010101010110': 32, '11010101010110': 27, '00101010101010': 25, '11010101010100': 10, '10101010101100': 9, '10101010101001': 8, '00101010101001': 6, '00101010101101': 3, '10101010101110': 3, '01010101010100': 3, '00101010101100': 3, '11010101001111': 2, '11010101011001': 2, '11010101010111': 2, '01010101001111': 2, '00101010101110': 2, '00101010101000': 2, '01010101011000': 2, '11010101001100': 1, '01010011110010': 1, '01010101010111': 1, '00101011100100': 1, '11010101011000': 1, '01010110111010': 1, '10101010100111': 1, '00101010100111': 1, '00101011110110': 1, '11010101010010': 1, '00101010101111': 1, '01010101001110': 1, '00101010100010': 1, '11010110110010': 1, '10101010100110': 1, '01010101110101': 1, '10101011001011': 1, '11010101010011': 1, '00101010111001': 1, '00101010010000': 1, '00101010100000': 1, '00101010100101': 1, '00101010110010': 1, '10101100100101': 1, '11010101100100': 1, '11010101011101': 1, '10011110100111': 1, '11010101010000': 1, '01010101010000': 1})\n",
            "\n",
            "outcomes in decimal:\n",
            "Counter({0: 169, 8192: 167, 2731: 129, 5461: 124, 10923: 111, 13653: 96, 10922: 32, 5462: 32, 13654: 27, 2730: 25, 13652: 10, 10924: 9, 10921: 8, 2729: 6, 2733: 3, 10926: 3, 5460: 3, 2732: 3, 13647: 2, 13657: 2, 13655: 2, 5455: 2, 2734: 2, 2728: 2, 5464: 2, 13644: 1, 5362: 1, 5463: 1, 2788: 1, 13656: 1, 5562: 1, 10919: 1, 2727: 1, 2806: 1, 13650: 1, 2735: 1, 5454: 1, 2722: 1, 13746: 1, 10918: 1, 5493: 1, 10955: 1, 13651: 1, 2745: 1, 2704: 1, 2720: 1, 2725: 1, 2738: 1, 11045: 1, 13668: 1, 13661: 1, 10151: 1, 13648: 1, 5456: 1})\n",
            "\n",
            "8192 \tobserved 167 times\n",
            "10923 \tobserved 111 times\n",
            "0 \tobserved 169 times\n",
            "5461 \tobserved 124 times\n",
            "13653 \tobserved 96 times\n",
            "13647 \tobserved 2 times\n",
            "13654 \tobserved 27 times\n",
            "2731 \tobserved 129 times\n",
            "2729 \tobserved 6 times\n",
            "13652 \tobserved 10 times\n",
            "13644 \tobserved 1 times\n",
            "10924 \tobserved 9 times\n",
            "13657 \tobserved 2 times\n",
            "5362 \tobserved 1 times\n",
            "13655 \tobserved 2 times\n",
            "10922 \tobserved 32 times\n",
            "2733 \tobserved 3 times\n",
            "5463 \tobserved 1 times\n",
            "5462 \tobserved 32 times\n",
            "2788 \tobserved 1 times\n",
            "10921 \tobserved 8 times\n",
            "2730 \tobserved 25 times\n",
            "5455 \tobserved 2 times\n",
            "13656 \tobserved 1 times\n",
            "5562 \tobserved 1 times\n",
            "2734 \tobserved 2 times\n",
            "2728 \tobserved 2 times\n",
            "10919 \tobserved 1 times\n",
            "2727 \tobserved 1 times\n",
            "2806 \tobserved 1 times\n",
            "13650 \tobserved 1 times\n",
            "2735 \tobserved 1 times\n",
            "5454 \tobserved 1 times\n",
            "5464 \tobserved 2 times\n",
            "2722 \tobserved 1 times\n",
            "13746 \tobserved 1 times\n",
            "10918 \tobserved 1 times\n",
            "5493 \tobserved 1 times\n",
            "10955 \tobserved 1 times\n",
            "13651 \tobserved 1 times\n",
            "2745 \tobserved 1 times\n",
            "2704 \tobserved 1 times\n",
            "2720 \tobserved 1 times\n",
            "10926 \tobserved 3 times\n",
            "2725 \tobserved 1 times\n",
            "2738 \tobserved 1 times\n",
            "5460 \tobserved 3 times\n",
            "11045 \tobserved 1 times\n",
            "2732 \tobserved 3 times\n",
            "13668 \tobserved 1 times\n",
            "13661 \tobserved 1 times\n",
            "10151 \tobserved 1 times\n",
            "13648 \tobserved 1 times\n",
            "5456 \tobserved 1 times\n"
          ]
        }
      ],
      "source": [
        "# Quantum Phase Estimation Algorithm\n",
        "\n",
        "import cirq\n",
        "from cirq import X, measure\n",
        "\n",
        "\n",
        "circuit = cirq.Circuit()\n",
        "\n",
        "reg1 = [cirq.LineQubit(i) for i in range(t) ]\n",
        "reg2 = [cirq.LineQubit(i) for i in range(t, t+L) ]\n",
        "\n",
        "# Apply Hadamard gates to the qubits on the first register\n",
        "circuit.append(cirq.H.on_each(reg1))\n",
        "\n",
        "# set the last qubit in second register to |1>\n",
        "circuit.append(X.on_each(reg2[-1]))\n",
        "\n",
        "Ux = opUx(N, x)\n",
        "# apply CU^(2^j) operators\n",
        "for j in range(t):\n",
        "    Uxj = Ux**(2**j)\n",
        "    circuit.append(Uxj(reg1[t-j-1], *reg2))\n",
        "\n",
        "# the algorithm has been described for the qubit order q0⊗...⊗qt-1\n",
        "circuit += myInvQFT(reg1)\n",
        "\n",
        "# Measure\n",
        "circuit.append(measure(*reg1, key='result'))\n",
        "\n",
        "# Execute the circuit\n",
        "sim = cirq.Simulator()\n",
        "samples = sim.run(circuit, repetitions=1000)\n",
        "\n",
        "\n",
        "\n",
        "# default representation in Cirq is with decimal numbers\n",
        "# with this function we convert the decimal numbers into binary (bitstrings)\n",
        "def bitstring(bits):\n",
        "    return \"\".join(str(int(b)) for b in bits)\n",
        "\n",
        "\n",
        "\n",
        "print(\"outcomes in binary:\")\n",
        "print(samples.histogram(key='result', fold_func=bitstring))\n",
        "print()\n",
        "print(\"outcomes in decimal:\")\n",
        "outcomes = samples.histogram(key='result')\n",
        "print(outcomes) # output in decimal form, default in Cirq\n",
        "print()\n",
        "for outcome in outcomes:\n",
        "    print(outcome, \"\\tobserved\", outcomes[outcome], \"times\")"
      ]
    },
    {
      "cell_type": "code",
      "execution_count": 112,
      "metadata": {
        "id": "LLdL86WhlBwd",
        "colab": {
          "base_uri": "https://localhost:8080/"
        },
        "outputId": "b8b380b0-2f84-41eb-dc26-758e6596ea59"
      },
      "outputs": [
        {
          "output_type": "stream",
          "name": "stdout",
          "text": [
            "[8192, 10923, 5461, 13653, 13654, 2731, 10922, 5462, 2730]\n"
          ]
        }
      ],
      "source": [
        "# discard 0 and the outcomes with low frequency\n",
        "\n",
        "good = []\n",
        "for outcome in outcomes:\n",
        "    if outcome == 0: continue\n",
        "    if outcomes[outcome] > 10:\n",
        "        good.append(outcome)\n",
        "print(good)"
      ]
    },
    {
      "cell_type": "code",
      "execution_count": 113,
      "metadata": {
        "id": "tGewBEWMlBwd",
        "colab": {
          "base_uri": "https://localhost:8080/"
        },
        "outputId": "7246b8d2-c7e0-443d-b9f0-7214d3e8c8a7"
      },
      "outputs": [
        {
          "output_type": "stream",
          "name": "stdout",
          "text": [
            "for b = 8192\n",
            "[0, 2]\n",
            "[Fraction(0, 1), Fraction(1, 2)]\n",
            "\n",
            "for b = 10923\n",
            "[0, 1, 2, 5461]\n",
            "[Fraction(0, 1), Fraction(1, 1), Fraction(2, 3), Fraction(6667, 10000)]\n",
            "\n",
            "for b = 5461\n",
            "[0, 3, 5461]\n",
            "[Fraction(0, 1), Fraction(1, 3), Fraction(3333, 10000)]\n",
            "\n",
            "for b = 13653\n",
            "[0, 1, 4, 1, 1364, 2]\n",
            "[Fraction(0, 1), Fraction(1, 1), Fraction(4, 5), Fraction(5, 6), Fraction(6824, 8189), Fraction(6829, 8195)]\n",
            "\n",
            "for b = 13654\n",
            "[0, 1, 5, 682, 2]\n",
            "[Fraction(0, 1), Fraction(1, 1), Fraction(5, 6), Fraction(3411, 4093), Fraction(6827, 8192)]\n",
            "\n",
            "for b = 2731\n",
            "[0, 5, 1, 1364, 2]\n",
            "[Fraction(0, 1), Fraction(1, 5), Fraction(1, 6), Fraction(1365, 8189), Fraction(1366, 8195)]\n",
            "\n",
            "for b = 10922\n",
            "[0, 1, 1, 1, 2730]\n",
            "[Fraction(0, 1), Fraction(1, 1), Fraction(1, 2), Fraction(2, 3), Fraction(5461, 8192)]\n",
            "\n",
            "for b = 5462\n",
            "[0, 2, 1, 2730]\n",
            "[Fraction(0, 1), Fraction(1, 2), Fraction(1, 3), Fraction(2731, 8192)]\n",
            "\n",
            "for b = 2730\n",
            "[0, 6, 682, 2]\n",
            "[Fraction(0, 1), Fraction(1, 6), Fraction(682, 4093), Fraction(1365, 8192)]\n",
            "\n"
          ]
        }
      ],
      "source": [
        "#Load the contFrac and convergents functions\n",
        "quantum_file = path_files+\"shor.py\"\n",
        "%run $quantum_file\n",
        "\n",
        "#Run continued fractions algorithm to find out r\n",
        "for b in good:\n",
        "    print(\"for b =\",b)\n",
        "    cf = contFrac(b/(2**t))\n",
        "    print(cf)\n",
        "    cv = convergents(cf)\n",
        "    print(cv)\n",
        "    print()"
      ]
    },
    {
      "cell_type": "markdown",
      "metadata": {
        "id": "QwWaHAublBwd"
      },
      "source": [
        "Manually set $ r $ below.  "
      ]
    },
    {
      "cell_type": "code",
      "execution_count": 116,
      "metadata": {
        "id": "aZXpfWxwlBwd",
        "colab": {
          "base_uri": "https://localhost:8080/"
        },
        "outputId": "e192fa5a-2201-4b04-c0db-7c84ae16a5dc"
      },
      "outputs": [
        {
          "output_type": "stream",
          "name": "stdout",
          "text": [
            "Proceed\n"
          ]
        }
      ],
      "source": [
        "#Check if r is even, and x^{r/2} is not equal to -1 Mod N\n",
        "r = 6  #2\n",
        "if (r%2==0 and (x**(r/2))%N != -1) :\n",
        "    print(\"Proceed\")\n",
        "else:\n",
        "    print(\"Repeat the algorithm\")"
      ]
    },
    {
      "cell_type": "markdown",
      "metadata": {
        "id": "utSlmxHrlBwd"
      },
      "source": [
        "Note that you may not be able to get the $r$ value in your first trial. In such a case, you need to repeat the algorithm."
      ]
    },
    {
      "cell_type": "markdown",
      "metadata": {
        "id": "ylmhXOCNlBwd"
      },
      "source": [
        " Now let's check $gcd(x^{r/2} -1, N)$ and $gcd(x^{r/2}+1, N)$."
      ]
    },
    {
      "cell_type": "code",
      "execution_count": 117,
      "metadata": {
        "id": "cYqI3X7jlBwd",
        "colab": {
          "base_uri": "https://localhost:8080/"
        },
        "outputId": "1faf7887-d77a-4b1a-d0d1-24511a23bf28"
      },
      "outputs": [
        {
          "output_type": "stream",
          "name": "stdout",
          "text": [
            "N= 21\n",
            "x= 2\n",
            "r= 6\n",
            "(x**int(r/2)-1)= 7\n",
            "(x**int(r/2)+1)= 9\n",
            "Factors of 21 : 7 and 3\n"
          ]
        }
      ],
      "source": [
        "#Compute gcd to find out the factors of N\n",
        "print(\"N=\",N)\n",
        "print(\"x=\",x)\n",
        "print(\"r=\",r)\n",
        "print(\"(x**int(r/2)-1)=\",(x**int(r/2)-1))\n",
        "print(\"(x**int(r/2)+1)=\",(x**int(r/2)+1))\n",
        "print(\"Factors of\",N,\":\",np.gcd((x**int(r/2)-1),N), \"and\",np.gcd((x**int(r/2)+1),N))"
      ]
    },
    {
      "cell_type": "markdown",
      "metadata": {
        "id": "exS7m9AnlBwd"
      },
      "source": [
        "We are able to identify both of the factors of 21 which are 3 and 7.\n",
        "\n",
        "_We succeeded with $(x=13,r=2)$ and $(x=2,r=6)$ !_"
      ]
    }
  ],
  "metadata": {
    "kernelspec": {
      "display_name": "Python 3 (ipykernel)",
      "language": "python",
      "name": "python3"
    },
    "language_info": {
      "codemirror_mode": {
        "name": "ipython",
        "version": 3
      },
      "file_extension": ".py",
      "mimetype": "text/x-python",
      "name": "python",
      "nbconvert_exporter": "python",
      "pygments_lexer": "ipython3",
      "version": "3.11.4"
    },
    "colab": {
      "provenance": [],
      "collapsed_sections": [
        "3qzDnm8rlBwb"
      ],
      "include_colab_link": true
    }
  },
  "nbformat": 4,
  "nbformat_minor": 0
}