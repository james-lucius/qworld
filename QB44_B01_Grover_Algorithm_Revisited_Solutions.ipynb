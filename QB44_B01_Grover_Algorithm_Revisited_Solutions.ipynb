{
  "cells": [
    {
      "cell_type": "markdown",
      "metadata": {
        "id": "view-in-github",
        "colab_type": "text"
      },
      "source": [
        "<a href=\"https://colab.research.google.com/github/james-lucius/qworld/blob/main/QB44_B01_Grover_Algorithm_Revisited_Solutions.ipynb\" target=\"_parent\"><img src=\"https://colab.research.google.com/assets/colab-badge.svg\" alt=\"Open In Colab\"/></a>"
      ]
    },
    {
      "cell_type": "markdown",
      "metadata": {
        "id": "5yvrpy0Sjlja"
      },
      "source": [
        "<a href=\"https://qworld.net\" target=\"_blank\" align=\"left\"><img src=\"https://gitlab.com/qworld/qeducation/qbook101/raw/main/qworld/images/header.jpg\" align=\"left\"></a>\n",
        "$ \\newcommand{\\bra}[1]{\\langle #1|} $\n",
        "$ \\newcommand{\\ket}[1]{|#1\\rangle} $\n",
        "$ \\newcommand{\\braket}[2]{\\langle #1|#2\\rangle} $\n",
        "$ \\newcommand{\\dot}[2]{ #1 \\cdot #2} $\n",
        "$ \\newcommand{\\biginner}[2]{\\left\\langle #1,#2\\right\\rangle} $\n",
        "$ \\newcommand{\\mymatrix}[2]{\\left( \\begin{array}{#1} #2\\end{array} \\right)} $\n",
        "$ \\newcommand{\\myvector}[1]{\\mymatrix{c}{#1}} $\n",
        "$ \\newcommand{\\myrvector}[1]{\\mymatrix{r}{#1}} $\n",
        "$ \\newcommand{\\mypar}[1]{\\left( #1 \\right)} $\n",
        "$ \\newcommand{\\mybigpar}[1]{ \\Big( #1 \\Big)} $\n",
        "$ \\newcommand{\\sqrttwo}{\\frac{1}{\\sqrt{2}}} $\n",
        "$ \\newcommand{\\dsqrttwo}{\\dfrac{1}{\\sqrt{2}}} $\n",
        "$ \\newcommand{\\onehalf}{\\frac{1}{2}} $\n",
        "$ \\newcommand{\\donehalf}{\\dfrac{1}{2}} $\n",
        "$ \\newcommand{\\hadamard}{ \\mymatrix{rr}{ \\sqrttwo & \\sqrttwo \\\\ \\sqrttwo & -\\sqrttwo }} $\n",
        "$ \\newcommand{\\vzero}{\\myvector{1\\\\0}} $\n",
        "$ \\newcommand{\\vone}{\\myvector{0\\\\1}} $\n",
        "$ \\newcommand{\\stateplus}{\\myvector{ \\sqrttwo \\\\  \\sqrttwo } } $\n",
        "$ \\newcommand{\\stateminus}{ \\myrvector{ \\sqrttwo \\\\ -\\sqrttwo } } $\n",
        "$ \\newcommand{\\myarray}[2]{ \\begin{array}{#1}#2\\end{array}} $\n",
        "$ \\newcommand{\\X}{ \\mymatrix{cc}{0 & 1 \\\\ 1 & 0}  } $\n",
        "$ \\newcommand{\\I}{ \\mymatrix{rr}{1 & 0 \\\\ 0 & 1}  } $\n",
        "$ \\newcommand{\\Z}{ \\mymatrix{rr}{1 & 0 \\\\ 0 & -1}  } $\n",
        "$ \\newcommand{\\Htwo}{ \\mymatrix{rrrr}{ \\frac{1}{2} & \\frac{1}{2} & \\frac{1}{2} & \\frac{1}{2} \\\\ \\frac{1}{2} & -\\frac{1}{2} & \\frac{1}{2} & -\\frac{1}{2} \\\\ \\frac{1}{2} & \\frac{1}{2} & -\\frac{1}{2} & -\\frac{1}{2} \\\\ \\frac{1}{2} & -\\frac{1}{2} & -\\frac{1}{2} & \\frac{1}{2} } } $\n",
        "$ \\newcommand{\\CNOT}{ \\mymatrix{cccc}{1 & 0 & 0 & 0 \\\\ 0 & 1 & 0 & 0 \\\\ 0 & 0 & 0 & 1 \\\\ 0 & 0 & 1 & 0} } $\n",
        "$ \\newcommand{\\norm}[1]{ \\left\\lVert #1 \\right\\rVert } $\n",
        "$ \\newcommand{\\pstate}[1]{ \\lceil \\mspace{-1mu} #1 \\mspace{-1.5mu} \\rfloor } $\n",
        "$ \\newcommand{\\greenbit}[1] {\\mathbf{{\\color{green}#1}}} $\n",
        "$ \\newcommand{\\bluebit}[1] {\\mathbf{{\\color{blue}#1}}} $\n",
        "$ \\newcommand{\\redbit}[1] {\\mathbf{{\\color{red}#1}}} $\n",
        "$ \\newcommand{\\brownbit}[1] {\\mathbf{{\\color{brown}#1}}} $\n",
        "$ \\newcommand{\\blackbit}[1] {\\mathbf{{\\color{black}#1}}} $"
      ]
    },
    {
      "cell_type": "markdown",
      "metadata": {
        "id": "DQLeLyOFjljc"
      },
      "source": [
        "_prepared by Adam Glos_"
      ]
    },
    {
      "cell_type": "markdown",
      "metadata": {
        "id": "37ogs3VUjljc"
      },
      "source": [
        "<font size=\"28px\" style=\"font-size:28px;\" align=\"left\"><b><font color=\"blue\"> Solutions for </font>Grover's Algorithm revisited</b></font>\n",
        "<br>\n",
        "<br><br>"
      ]
    },
    {
      "cell_type": "markdown",
      "metadata": {
        "jp-MarkdownHeadingCollapsed": true,
        "id": "B5h1EBHfjljc"
      },
      "source": [
        "##### <font color=\"#08b806\">Please execute the following cell, it is necessary to distinguish between your local environment and Google Colab's"
      ]
    },
    {
      "cell_type": "code",
      "execution_count": 2,
      "metadata": {
        "id": "B30aJGX0jljd",
        "outputId": "7769102b-28cf-4334-8baa-18961658194c",
        "colab": {
          "base_uri": "https://localhost:8080/"
        }
      },
      "outputs": [
        {
          "output_type": "stream",
          "name": "stdout",
          "text": [
            "Requirement already satisfied: cirq in /usr/local/lib/python3.11/dist-packages (1.5.0)\n",
            "Requirement already satisfied: cirq-aqt==1.5.0 in /usr/local/lib/python3.11/dist-packages (from cirq) (1.5.0)\n",
            "Requirement already satisfied: cirq-core==1.5.0 in /usr/local/lib/python3.11/dist-packages (from cirq) (1.5.0)\n",
            "Requirement already satisfied: cirq-google==1.5.0 in /usr/local/lib/python3.11/dist-packages (from cirq) (1.5.0)\n",
            "Requirement already satisfied: cirq-ionq==1.5.0 in /usr/local/lib/python3.11/dist-packages (from cirq) (1.5.0)\n",
            "Requirement already satisfied: cirq-pasqal==1.5.0 in /usr/local/lib/python3.11/dist-packages (from cirq) (1.5.0)\n",
            "Requirement already satisfied: cirq-web==1.5.0 in /usr/local/lib/python3.11/dist-packages (from cirq) (1.5.0)\n",
            "Requirement already satisfied: requests~=2.32 in /usr/local/lib/python3.11/dist-packages (from cirq-aqt==1.5.0->cirq) (2.32.3)\n",
            "Requirement already satisfied: attrs>=21.3.0 in /usr/local/lib/python3.11/dist-packages (from cirq-core==1.5.0->cirq) (25.3.0)\n",
            "Requirement already satisfied: duet>=0.2.8 in /usr/local/lib/python3.11/dist-packages (from cirq-core==1.5.0->cirq) (0.2.9)\n",
            "Requirement already satisfied: matplotlib~=3.7 in /usr/local/lib/python3.11/dist-packages (from cirq-core==1.5.0->cirq) (3.10.0)\n",
            "Requirement already satisfied: networkx~=3.1 in /usr/local/lib/python3.11/dist-packages (from cirq-core==1.5.0->cirq) (3.5)\n",
            "Requirement already satisfied: numpy>=1.25 in /usr/local/lib/python3.11/dist-packages (from cirq-core==1.5.0->cirq) (2.0.2)\n",
            "Requirement already satisfied: pandas~=2.0 in /usr/local/lib/python3.11/dist-packages (from cirq-core==1.5.0->cirq) (2.2.2)\n",
            "Requirement already satisfied: sortedcontainers~=2.0 in /usr/local/lib/python3.11/dist-packages (from cirq-core==1.5.0->cirq) (2.4.0)\n",
            "Requirement already satisfied: scipy~=1.11 in /usr/local/lib/python3.11/dist-packages (from cirq-core==1.5.0->cirq) (1.15.3)\n",
            "Requirement already satisfied: sympy in /usr/local/lib/python3.11/dist-packages (from cirq-core==1.5.0->cirq) (1.13.1)\n",
            "Requirement already satisfied: typing_extensions>=4.2 in /usr/local/lib/python3.11/dist-packages (from cirq-core==1.5.0->cirq) (4.14.0)\n",
            "Requirement already satisfied: tqdm>=4.12 in /usr/local/lib/python3.11/dist-packages (from cirq-core==1.5.0->cirq) (4.67.1)\n",
            "Requirement already satisfied: google-api-core>=1.14.0 in /usr/local/lib/python3.11/dist-packages (from google-api-core[grpc]>=1.14.0->cirq-google==1.5.0->cirq) (2.25.1)\n",
            "Requirement already satisfied: proto-plus>=1.20.0 in /usr/local/lib/python3.11/dist-packages (from cirq-google==1.5.0->cirq) (1.26.1)\n",
            "Requirement already satisfied: protobuf<6.0,>=4.25 in /usr/local/lib/python3.11/dist-packages (from cirq-google==1.5.0->cirq) (5.29.5)\n",
            "Requirement already satisfied: typedunits in /usr/local/lib/python3.11/dist-packages (from cirq-google==1.5.0->cirq) (0.0.1.dev20250509200845)\n",
            "Requirement already satisfied: googleapis-common-protos<2.0.0,>=1.56.2 in /usr/local/lib/python3.11/dist-packages (from google-api-core>=1.14.0->google-api-core[grpc]>=1.14.0->cirq-google==1.5.0->cirq) (1.70.0)\n",
            "Requirement already satisfied: google-auth<3.0.0,>=2.14.1 in /usr/local/lib/python3.11/dist-packages (from google-api-core>=1.14.0->google-api-core[grpc]>=1.14.0->cirq-google==1.5.0->cirq) (2.38.0)\n",
            "Requirement already satisfied: grpcio<2.0.0,>=1.33.2 in /usr/local/lib/python3.11/dist-packages (from google-api-core[grpc]>=1.14.0->cirq-google==1.5.0->cirq) (1.73.1)\n",
            "Requirement already satisfied: grpcio-status<2.0.0,>=1.33.2 in /usr/local/lib/python3.11/dist-packages (from google-api-core[grpc]>=1.14.0->cirq-google==1.5.0->cirq) (1.71.2)\n",
            "Requirement already satisfied: contourpy>=1.0.1 in /usr/local/lib/python3.11/dist-packages (from matplotlib~=3.7->cirq-core==1.5.0->cirq) (1.3.2)\n",
            "Requirement already satisfied: cycler>=0.10 in /usr/local/lib/python3.11/dist-packages (from matplotlib~=3.7->cirq-core==1.5.0->cirq) (0.12.1)\n",
            "Requirement already satisfied: fonttools>=4.22.0 in /usr/local/lib/python3.11/dist-packages (from matplotlib~=3.7->cirq-core==1.5.0->cirq) (4.58.4)\n",
            "Requirement already satisfied: kiwisolver>=1.3.1 in /usr/local/lib/python3.11/dist-packages (from matplotlib~=3.7->cirq-core==1.5.0->cirq) (1.4.8)\n",
            "Requirement already satisfied: packaging>=20.0 in /usr/local/lib/python3.11/dist-packages (from matplotlib~=3.7->cirq-core==1.5.0->cirq) (24.2)\n",
            "Requirement already satisfied: pillow>=8 in /usr/local/lib/python3.11/dist-packages (from matplotlib~=3.7->cirq-core==1.5.0->cirq) (11.2.1)\n",
            "Requirement already satisfied: pyparsing>=2.3.1 in /usr/local/lib/python3.11/dist-packages (from matplotlib~=3.7->cirq-core==1.5.0->cirq) (3.2.3)\n",
            "Requirement already satisfied: python-dateutil>=2.7 in /usr/local/lib/python3.11/dist-packages (from matplotlib~=3.7->cirq-core==1.5.0->cirq) (2.9.0.post0)\n",
            "Requirement already satisfied: pytz>=2020.1 in /usr/local/lib/python3.11/dist-packages (from pandas~=2.0->cirq-core==1.5.0->cirq) (2025.2)\n",
            "Requirement already satisfied: tzdata>=2022.7 in /usr/local/lib/python3.11/dist-packages (from pandas~=2.0->cirq-core==1.5.0->cirq) (2025.2)\n",
            "Requirement already satisfied: charset-normalizer<4,>=2 in /usr/local/lib/python3.11/dist-packages (from requests~=2.32->cirq-aqt==1.5.0->cirq) (3.4.2)\n",
            "Requirement already satisfied: idna<4,>=2.5 in /usr/local/lib/python3.11/dist-packages (from requests~=2.32->cirq-aqt==1.5.0->cirq) (3.10)\n",
            "Requirement already satisfied: urllib3<3,>=1.21.1 in /usr/local/lib/python3.11/dist-packages (from requests~=2.32->cirq-aqt==1.5.0->cirq) (2.4.0)\n",
            "Requirement already satisfied: certifi>=2017.4.17 in /usr/local/lib/python3.11/dist-packages (from requests~=2.32->cirq-aqt==1.5.0->cirq) (2025.6.15)\n",
            "Requirement already satisfied: mpmath<1.4,>=1.1.0 in /usr/local/lib/python3.11/dist-packages (from sympy->cirq-core==1.5.0->cirq) (1.3.0)\n",
            "Requirement already satisfied: cython>=3.0.0 in /usr/local/lib/python3.11/dist-packages (from typedunits->cirq-google==1.5.0->cirq) (3.0.12)\n",
            "Requirement already satisfied: cachetools<6.0,>=2.0.0 in /usr/local/lib/python3.11/dist-packages (from google-auth<3.0.0,>=2.14.1->google-api-core>=1.14.0->google-api-core[grpc]>=1.14.0->cirq-google==1.5.0->cirq) (5.5.2)\n",
            "Requirement already satisfied: pyasn1-modules>=0.2.1 in /usr/local/lib/python3.11/dist-packages (from google-auth<3.0.0,>=2.14.1->google-api-core>=1.14.0->google-api-core[grpc]>=1.14.0->cirq-google==1.5.0->cirq) (0.4.2)\n",
            "Requirement already satisfied: rsa<5,>=3.1.4 in /usr/local/lib/python3.11/dist-packages (from google-auth<3.0.0,>=2.14.1->google-api-core>=1.14.0->google-api-core[grpc]>=1.14.0->cirq-google==1.5.0->cirq) (4.9.1)\n",
            "Requirement already satisfied: six>=1.5 in /usr/local/lib/python3.11/dist-packages (from python-dateutil>=2.7->matplotlib~=3.7->cirq-core==1.5.0->cirq) (1.17.0)\n",
            "Requirement already satisfied: pyasn1<0.7.0,>=0.6.1 in /usr/local/lib/python3.11/dist-packages (from pyasn1-modules>=0.2.1->google-auth<3.0.0,>=2.14.1->google-api-core>=1.14.0->google-api-core[grpc]>=1.14.0->cirq-google==1.5.0->cirq) (0.6.1)\n"
          ]
        }
      ],
      "source": [
        "import IPython\n",
        "\n",
        "def in_colab():\n",
        "    try:\n",
        "        import google.colab\n",
        "        return True\n",
        "    except:\n",
        "        return False\n",
        "\n",
        "if in_colab():\n",
        "    !pip install cirq"
      ]
    },
    {
      "cell_type": "markdown",
      "metadata": {
        "id": "aAO09sUwjljd"
      },
      "source": [
        "<a name=\"task1\"></a>\n",
        "### Task 1\n",
        "\n",
        "Create a 4-qubit circuit named `circuit` and apply a Hadamard gate on each qubit. Convince yourself about the correctness of the circuit by displaying it. Print the quantum state with `Simulator` without measurement."
      ]
    },
    {
      "cell_type": "markdown",
      "metadata": {
        "id": "KGr_vP59jljd"
      },
      "source": [
        "<h3> Solution </h3>"
      ]
    },
    {
      "cell_type": "code",
      "execution_count": 3,
      "metadata": {
        "id": "UKDv-58Kjlje",
        "outputId": "d6d38fda-4d0b-43d5-ef3f-c3e36079f32a",
        "colab": {
          "base_uri": "https://localhost:8080/"
        }
      },
      "outputs": [
        {
          "output_type": "stream",
          "name": "stdout",
          "text": [
            "0: ───H───\n",
            "\n",
            "1: ───H───\n",
            "\n",
            "2: ───H───\n",
            "\n",
            "3: ───H───\n",
            "measurements: (no measurements)\n",
            "\n",
            "qubits: (cirq.LineQubit(0),)\n",
            "output vector: 0.707|0⟩ + 0.707|1⟩\n",
            "\n",
            "qubits: (cirq.LineQubit(1),)\n",
            "output vector: 0.707|0⟩ + 0.707|1⟩\n",
            "\n",
            "qubits: (cirq.LineQubit(2),)\n",
            "output vector: 0.707|0⟩ + 0.707|1⟩\n",
            "\n",
            "qubits: (cirq.LineQubit(3),)\n",
            "output vector: 0.707|0⟩ + 0.707|1⟩\n",
            "\n",
            "phase:\n",
            "output vector: |⟩\n",
            "0.25|0000⟩ + 0.25|0001⟩ + 0.25|0010⟩ + 0.25|0011⟩ + 0.25|0100⟩ + 0.25|0101⟩ + 0.25|0110⟩ + 0.25|0111⟩ + 0.25|1000⟩ + 0.25|1001⟩ + 0.25|1010⟩ + 0.25|1011⟩ + 0.25|1100⟩ + 0.25|1101⟩ + 0.25|1110⟩ + 0.25|1111⟩\n"
          ]
        }
      ],
      "source": [
        "import cirq\n",
        "\n",
        "# create the circuit\n",
        "circuit = cirq.Circuit()\n",
        "qubits = cirq.LineQubit.range(4)\n",
        "circuit.append(cirq.H.on_each(*qubits))\n",
        "\n",
        "# for displaying the circuit\n",
        "print(circuit)\n",
        "\n",
        "# to print the state\n",
        "s = cirq.Simulator()\n",
        "print(s.simulate(circuit))\n",
        "print(s.simulate(circuit).dirac_notation())"
      ]
    },
    {
      "cell_type": "markdown",
      "metadata": {
        "id": "z3fTTgzGjlje"
      },
      "source": [
        "<a name=\"task2\"></a>\n",
        "### Task 2\n",
        "    \n",
        "Create a 3-qubit register and design the Grover diffusion operator based on the circuit above. Print the circuit and its matrix form by using `cirq.unitary`. Verify that the circuit by checking the entries of the matrix."
      ]
    },
    {
      "cell_type": "markdown",
      "metadata": {
        "id": "9J4qNL9Vjlje"
      },
      "source": [
        "<h3> Solution </h3>"
      ]
    },
    {
      "cell_type": "code",
      "execution_count": 4,
      "metadata": {
        "id": "EqKbIJgDjlje",
        "outputId": "38290b38-37a6-4adc-c80e-af102a29256b",
        "colab": {
          "base_uri": "https://localhost:8080/"
        }
      },
      "outputs": [
        {
          "output_type": "stream",
          "name": "stdout",
          "text": [
            "0: ───H───X───@───X───H───\n",
            "              │\n",
            "1: ───H───X───@───X───H───\n",
            "              │\n",
            "2: ───H───X───@───X───H───\n",
            "On the diagonal: 0.75\n",
            "Outside the main diagonal: -0.25 \n",
            "\n",
            "[[ 0.75+1.5308085e-17j -0.25+1.5308085e-17j -0.25+1.5308085e-17j\n",
            "  -0.25+1.5308085e-17j -0.25+1.5308085e-17j -0.25+1.5308085e-17j\n",
            "  -0.25+1.5308085e-17j -0.25+1.5308085e-17j]\n",
            " [-0.25+1.5308085e-17j  0.75+1.5308085e-17j -0.25+1.5308085e-17j\n",
            "  -0.25+1.5308085e-17j -0.25+1.5308085e-17j -0.25+1.5308085e-17j\n",
            "  -0.25+1.5308085e-17j -0.25+1.5308085e-17j]\n",
            " [-0.25+1.5308085e-17j -0.25+1.5308085e-17j  0.75+1.5308085e-17j\n",
            "  -0.25+1.5308085e-17j -0.25+1.5308085e-17j -0.25+1.5308085e-17j\n",
            "  -0.25+1.5308085e-17j -0.25+1.5308085e-17j]\n",
            " [-0.25+1.5308085e-17j -0.25+1.5308085e-17j -0.25+1.5308085e-17j\n",
            "   0.75+1.5308085e-17j -0.25+1.5308085e-17j -0.25+1.5308085e-17j\n",
            "  -0.25+1.5308085e-17j -0.25+1.5308085e-17j]\n",
            " [-0.25+1.5308085e-17j -0.25+1.5308085e-17j -0.25+1.5308085e-17j\n",
            "  -0.25+1.5308085e-17j  0.75+1.5308085e-17j -0.25+1.5308085e-17j\n",
            "  -0.25+1.5308085e-17j -0.25+1.5308085e-17j]\n",
            " [-0.25+1.5308085e-17j -0.25+1.5308085e-17j -0.25+1.5308085e-17j\n",
            "  -0.25+1.5308085e-17j -0.25+1.5308085e-17j  0.75+1.5308085e-17j\n",
            "  -0.25+1.5308085e-17j -0.25+1.5308085e-17j]\n",
            " [-0.25+1.5308085e-17j -0.25+1.5308085e-17j -0.25+1.5308085e-17j\n",
            "  -0.25+1.5308085e-17j -0.25+1.5308085e-17j -0.25+1.5308085e-17j\n",
            "   0.75+1.5308085e-17j -0.25+1.5308085e-17j]\n",
            " [-0.25+1.5308085e-17j -0.25+1.5308085e-17j -0.25+1.5308085e-17j\n",
            "  -0.25+1.5308085e-17j -0.25+1.5308085e-17j -0.25+1.5308085e-17j\n",
            "  -0.25+1.5308085e-17j  0.75+1.5308085e-17j]]\n"
          ]
        }
      ],
      "source": [
        "import cirq\n",
        "from cirq import H, X, Z\n",
        "\n",
        "# create the circuit\n",
        "qq = cirq.LineQubit.range(3)\n",
        "circuit = cirq.Circuit()\n",
        "circuit.append(H.on_each(*qq))\n",
        "circuit.append(X.on_each(*qq))\n",
        "circuit.append(Z(qq[2]).controlled_by(qq[0], qq[1]))\n",
        "circuit.append(X.on_each(*qq))\n",
        "circuit.append(H.on_each(*qq))\n",
        "\n",
        "# display the circuit\n",
        "print(circuit)\n",
        "\n",
        "# Print the unitary matrix. Note that on the entries on the diagonal should equal 1-2/N = 3/4,\n",
        "# while for the outer-diagonal it should be -2/N = 1/4 =0.125\n",
        "\n",
        "N = 2**3\n",
        "print(\"On the diagonal:\", 1-2/N)\n",
        "print(\"Outside the main diagonal:\", -2/N, \"\\n\")\n",
        "print(cirq.unitary(circuit))"
      ]
    },
    {
      "cell_type": "markdown",
      "metadata": {
        "id": "rV42TlcMjlje"
      },
      "source": [
        "<a name=\"task3\"></a>\n",
        "### Task 3\n",
        "\n",
        "Fill the `oracle` and `grover_diffusion` so that they will form a 4-qubit Grover's algorithm. You can use the code from previous tasks. Verify the results by analyzing the statistics of the measurements."
      ]
    },
    {
      "cell_type": "markdown",
      "metadata": {
        "id": "AOPN4SHwjlje"
      },
      "source": [
        "<h3> Solution </h3>"
      ]
    },
    {
      "cell_type": "code",
      "execution_count": 5,
      "metadata": {
        "id": "tWT7DdAkjlje",
        "outputId": "27e72406-f04c-47eb-a018-0401c2bfdf8b",
        "colab": {
          "base_uri": "https://localhost:8080/"
        }
      },
      "outputs": [
        {
          "output_type": "stream",
          "name": "stdout",
          "text": [
            "Measurement output:  Counter({'1111': 954, '0001': 6, '0101': 5, '0011': 5, '1101': 5, '0111': 4, '1010': 3, '0100': 3, '1011': 3, '1110': 2, '0110': 2, '0000': 2, '1001': 2, '1100': 2, '1000': 2})\n",
            "Probability of measuring 1111:  0.954\n",
            "Probability of not measuring 1111:  0.04600000000000004\n"
          ]
        }
      ],
      "source": [
        "import cirq\n",
        "from cirq import H, Z, X\n",
        "\n",
        "qq = cirq.LineQubit.range(4)\n",
        "circuit = cirq.Circuit()\n",
        "circuit.append(H.on_each(*qq))\n",
        "\n",
        "def oracle():\n",
        "    yield Z(qq[3]).controlled_by(*(qq[0:3]))\n",
        "\n",
        "\n",
        "def grover_diffusion():\n",
        "    yield H.on_each(*qq)\n",
        "    yield X.on_each(*qq)\n",
        "    yield Z(qq[3]).controlled_by(*(qq[0:3]))\n",
        "    yield X.on_each(*qq)\n",
        "    yield H.on_each(*qq)\n",
        "\n",
        "for i in range(3):\n",
        "    circuit.append(oracle())\n",
        "    circuit.append(grover_diffusion())\n",
        "\n",
        "circuit.append(cirq.measure(*qq, key='result'))\n",
        "\n",
        "# determine the statistics of the measurements\n",
        "s = cirq.Simulator()\n",
        "trials_number = 1000\n",
        "samples = s.run(circuit, repetitions=trials_number)\n",
        "\n",
        "def bitstring(bits):\n",
        "    return \"\".join(str(int(b)) for b in bits)\n",
        "\n",
        "counts = samples.histogram(key=\"result\",fold_func=bitstring)\n",
        "\n",
        "print(\"Measurement output: \", counts)\n",
        "print(\"Probability of measuring 1111: \", counts.get('1111')/trials_number)\n",
        "print(\"Probability of not measuring 1111: \", 1- counts.get('1111')/trials_number)"
      ]
    }
  ],
  "metadata": {
    "kernelspec": {
      "display_name": "Python 3 (ipykernel)",
      "language": "python",
      "name": "python3"
    },
    "language_info": {
      "codemirror_mode": {
        "name": "ipython",
        "version": 3
      },
      "file_extension": ".py",
      "mimetype": "text/x-python",
      "name": "python",
      "nbconvert_exporter": "python",
      "pygments_lexer": "ipython3",
      "version": "3.11.4"
    },
    "colab": {
      "provenance": [],
      "collapsed_sections": [
        "B5h1EBHfjljc"
      ],
      "include_colab_link": true
    }
  },
  "nbformat": 4,
  "nbformat_minor": 0
}