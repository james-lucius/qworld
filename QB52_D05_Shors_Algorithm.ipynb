{
  "cells": [
    {
      "cell_type": "markdown",
      "metadata": {
        "id": "view-in-github",
        "colab_type": "text"
      },
      "source": [
        "<a href=\"https://colab.research.google.com/github/james-lucius/qworld/blob/main/QB52_D05_Shors_Algorithm.ipynb\" target=\"_parent\"><img src=\"https://colab.research.google.com/assets/colab-badge.svg\" alt=\"Open In Colab\"/></a>"
      ]
    },
    {
      "cell_type": "markdown",
      "metadata": {
        "id": "CCCx_X19maOV"
      },
      "source": [
        "<a href=\"https://qworld.net\" target=\"_blank\" align=\"left\"><img src=\"https://gitlab.com/qworld/qeducation/qbook101/raw/main/qworld/images/header.jpg\" align=\"left\"></a>\n",
        "$ \\newcommand{\\bra}[1]{\\langle #1|} $\n",
        "$ \\newcommand{\\ket}[1]{|#1\\rangle} $\n",
        "$ \\newcommand{\\braket}[2]{\\langle #1|#2\\rangle} $\n",
        "$ \\newcommand{\\dot}[2]{ #1 \\cdot #2} $\n",
        "$ \\newcommand{\\biginner}[2]{\\left\\langle #1,#2\\right\\rangle} $\n",
        "$ \\newcommand{\\mymatrix}[2]{\\left( \\begin{array}{#1} #2\\end{array} \\right)} $\n",
        "$ \\newcommand{\\myvector}[1]{\\mymatrix{c}{#1}} $\n",
        "$ \\newcommand{\\myrvector}[1]{\\mymatrix{r}{#1}} $\n",
        "$ \\newcommand{\\mypar}[1]{\\left( #1 \\right)} $\n",
        "$ \\newcommand{\\mybigpar}[1]{ \\Big( #1 \\Big)} $\n",
        "$ \\newcommand{\\sqrttwo}{\\frac{1}{\\sqrt{2}}} $\n",
        "$ \\newcommand{\\dsqrttwo}{\\dfrac{1}{\\sqrt{2}}} $\n",
        "$ \\newcommand{\\onehalf}{\\frac{1}{2}} $\n",
        "$ \\newcommand{\\donehalf}{\\dfrac{1}{2}} $\n",
        "$ \\newcommand{\\hadamard}{ \\mymatrix{rr}{ \\sqrttwo & \\sqrttwo \\\\ \\sqrttwo & -\\sqrttwo }} $\n",
        "$ \\newcommand{\\vzero}{\\myvector{1\\\\0}} $\n",
        "$ \\newcommand{\\vone}{\\myvector{0\\\\1}} $\n",
        "$ \\newcommand{\\stateplus}{\\myvector{ \\sqrttwo \\\\  \\sqrttwo } } $\n",
        "$ \\newcommand{\\stateminus}{ \\myrvector{ \\sqrttwo \\\\ -\\sqrttwo } } $\n",
        "$ \\newcommand{\\myarray}[2]{ \\begin{array}{#1}#2\\end{array}} $\n",
        "$ \\newcommand{\\X}{ \\mymatrix{cc}{0 & 1 \\\\ 1 & 0}  } $\n",
        "$ \\newcommand{\\Z}{ \\mymatrix{rr}{1 & 0 \\\\ 0 & -1}  } $\n",
        "$ \\newcommand{\\Htwo}{ \\mymatrix{rrrr}{ \\frac{1}{2} & \\frac{1}{2} & \\frac{1}{2} & \\frac{1}{2} \\\\ \\frac{1}{2} & -\\frac{1}{2} & \\frac{1}{2} & -\\frac{1}{2} \\\\ \\frac{1}{2} & \\frac{1}{2} & -\\frac{1}{2} & -\\frac{1}{2} \\\\ \\frac{1}{2} & -\\frac{1}{2} & -\\frac{1}{2} & \\frac{1}{2} } } $\n",
        "$ \\newcommand{\\CNOT}{ \\mymatrix{cccc}{1 & 0 & 0 & 0 \\\\ 0 & 1 & 0 & 0 \\\\ 0 & 0 & 0 & 1 \\\\ 0 & 0 & 1 & 0} } $\n",
        "$ \\newcommand{\\norm}[1]{ \\left\\lVert #1 \\right\\rVert } $\n",
        "$ \\newcommand{\\pstate}[1]{ \\lceil \\mspace{-1mu} #1 \\mspace{-1.5mu} \\rfloor } $\n",
        "$ \\newcommand{\\Y}{ \\mymatrix{rr}{0 & -i \\\\ i & 0} } $\n",
        "$ \\newcommand{\\S}{ \\mymatrix{rr}{1 & 0 \\\\ 0 & i} } $\n",
        "$ \\newcommand{\\T}{ \\mymatrix{rr}{1 & 0 \\\\ 0 & e^{i \\frac{\\pi}{4}}} } $\n",
        "$ \\newcommand{\\Sdg}{ \\mymatrix{rr}{1 & 0 \\\\ 0 & -i} } $\n",
        "$ \\newcommand{\\Tdg}{ \\mymatrix{rr}{1 & 0 \\\\ 0 & e^{-i \\frac{\\pi}{4}}} } $\n",
        "$ \\newcommand{\\qgate}[1]{ \\mathop{\\textit{#1} } }$\n",
        "$\\newcommand{\\Mod}[1]{\\ (\\mathrm{mod}\\ #1)}$"
      ]
    },
    {
      "cell_type": "markdown",
      "metadata": {
        "id": "jangoNLVmaOW"
      },
      "source": [
        "_prepared by Özlem Salehi_"
      ]
    },
    {
      "cell_type": "markdown",
      "metadata": {
        "id": "qgZnvV1gmaOW"
      },
      "source": [
        "<font size=\"28px\" style=\"font-size:28px;\" align=\"left\"><b> Shor's Algorithm </b></font>\n",
        "<br>\n",
        "<br><br>"
      ]
    },
    {
      "cell_type": "markdown",
      "metadata": {
        "jp-MarkdownHeadingCollapsed": true,
        "id": "zIP07c1bmaOW"
      },
      "source": [
        "##### <font color=\"#08b806\">Please execute the following cell, it is necessary to distinguish between your local environment and Google Colab's"
      ]
    },
    {
      "cell_type": "code",
      "execution_count": 79,
      "metadata": {
        "id": "wvnlRALumaOW",
        "outputId": "c70fced2-d57f-4623-bfd9-6a4b8a04135d",
        "colab": {
          "base_uri": "https://localhost:8080/"
        }
      },
      "outputs": [
        {
          "output_type": "stream",
          "name": "stdout",
          "text": [
            "--2025-07-18 00:42:49--  https://gitlab.com/qworld/qeducation/qbook101/raw/main/qworld/include/shor.py\n",
            "Resolving gitlab.com (gitlab.com)... 172.65.251.78, 2606:4700:90:0:f22e:fbec:5bed:a9b9\n",
            "Connecting to gitlab.com (gitlab.com)|172.65.251.78|:443... connected.\n",
            "HTTP request sent, awaiting response... 200 OK\n",
            "Length: 569 [text/plain]\n",
            "Saving to: ‘shor.py’\n",
            "\n",
            "shor.py             100%[===================>]     569  --.-KB/s    in 0s      \n",
            "\n",
            "2025-07-18 00:42:50 (216 MB/s) - ‘shor.py’ saved [569/569]\n",
            "\n",
            "Requirement already satisfied: cirq in /usr/local/lib/python3.11/dist-packages (1.5.0)\n",
            "Requirement already satisfied: cirq-aqt==1.5.0 in /usr/local/lib/python3.11/dist-packages (from cirq) (1.5.0)\n",
            "Requirement already satisfied: cirq-core==1.5.0 in /usr/local/lib/python3.11/dist-packages (from cirq) (1.5.0)\n",
            "Requirement already satisfied: cirq-google==1.5.0 in /usr/local/lib/python3.11/dist-packages (from cirq) (1.5.0)\n",
            "Requirement already satisfied: cirq-ionq==1.5.0 in /usr/local/lib/python3.11/dist-packages (from cirq) (1.5.0)\n",
            "Requirement already satisfied: cirq-pasqal==1.5.0 in /usr/local/lib/python3.11/dist-packages (from cirq) (1.5.0)\n",
            "Requirement already satisfied: cirq-web==1.5.0 in /usr/local/lib/python3.11/dist-packages (from cirq) (1.5.0)\n",
            "Requirement already satisfied: requests~=2.32 in /usr/local/lib/python3.11/dist-packages (from cirq-aqt==1.5.0->cirq) (2.32.3)\n",
            "Requirement already satisfied: attrs>=21.3.0 in /usr/local/lib/python3.11/dist-packages (from cirq-core==1.5.0->cirq) (25.3.0)\n",
            "Requirement already satisfied: duet>=0.2.8 in /usr/local/lib/python3.11/dist-packages (from cirq-core==1.5.0->cirq) (0.2.9)\n",
            "Requirement already satisfied: matplotlib~=3.7 in /usr/local/lib/python3.11/dist-packages (from cirq-core==1.5.0->cirq) (3.10.0)\n",
            "Requirement already satisfied: networkx~=3.1 in /usr/local/lib/python3.11/dist-packages (from cirq-core==1.5.0->cirq) (3.5)\n",
            "Requirement already satisfied: numpy>=1.25 in /usr/local/lib/python3.11/dist-packages (from cirq-core==1.5.0->cirq) (2.0.2)\n",
            "Requirement already satisfied: pandas~=2.0 in /usr/local/lib/python3.11/dist-packages (from cirq-core==1.5.0->cirq) (2.2.2)\n",
            "Requirement already satisfied: sortedcontainers~=2.0 in /usr/local/lib/python3.11/dist-packages (from cirq-core==1.5.0->cirq) (2.4.0)\n",
            "Requirement already satisfied: scipy~=1.11 in /usr/local/lib/python3.11/dist-packages (from cirq-core==1.5.0->cirq) (1.15.3)\n",
            "Requirement already satisfied: sympy in /usr/local/lib/python3.11/dist-packages (from cirq-core==1.5.0->cirq) (1.13.1)\n",
            "Requirement already satisfied: typing_extensions>=4.2 in /usr/local/lib/python3.11/dist-packages (from cirq-core==1.5.0->cirq) (4.14.1)\n",
            "Requirement already satisfied: tqdm>=4.12 in /usr/local/lib/python3.11/dist-packages (from cirq-core==1.5.0->cirq) (4.67.1)\n",
            "Requirement already satisfied: google-api-core>=1.14.0 in /usr/local/lib/python3.11/dist-packages (from google-api-core[grpc]>=1.14.0->cirq-google==1.5.0->cirq) (2.25.1)\n",
            "Requirement already satisfied: proto-plus>=1.20.0 in /usr/local/lib/python3.11/dist-packages (from cirq-google==1.5.0->cirq) (1.26.1)\n",
            "Requirement already satisfied: protobuf<6.0,>=4.25 in /usr/local/lib/python3.11/dist-packages (from cirq-google==1.5.0->cirq) (5.29.5)\n",
            "Requirement already satisfied: typedunits in /usr/local/lib/python3.11/dist-packages (from cirq-google==1.5.0->cirq) (0.0.1.dev20250509200845)\n",
            "Requirement already satisfied: googleapis-common-protos<2.0.0,>=1.56.2 in /usr/local/lib/python3.11/dist-packages (from google-api-core>=1.14.0->google-api-core[grpc]>=1.14.0->cirq-google==1.5.0->cirq) (1.70.0)\n",
            "Requirement already satisfied: google-auth<3.0.0,>=2.14.1 in /usr/local/lib/python3.11/dist-packages (from google-api-core>=1.14.0->google-api-core[grpc]>=1.14.0->cirq-google==1.5.0->cirq) (2.38.0)\n",
            "Requirement already satisfied: grpcio<2.0.0,>=1.33.2 in /usr/local/lib/python3.11/dist-packages (from google-api-core[grpc]>=1.14.0->cirq-google==1.5.0->cirq) (1.73.1)\n",
            "Requirement already satisfied: grpcio-status<2.0.0,>=1.33.2 in /usr/local/lib/python3.11/dist-packages (from google-api-core[grpc]>=1.14.0->cirq-google==1.5.0->cirq) (1.71.2)\n",
            "Requirement already satisfied: contourpy>=1.0.1 in /usr/local/lib/python3.11/dist-packages (from matplotlib~=3.7->cirq-core==1.5.0->cirq) (1.3.2)\n",
            "Requirement already satisfied: cycler>=0.10 in /usr/local/lib/python3.11/dist-packages (from matplotlib~=3.7->cirq-core==1.5.0->cirq) (0.12.1)\n",
            "Requirement already satisfied: fonttools>=4.22.0 in /usr/local/lib/python3.11/dist-packages (from matplotlib~=3.7->cirq-core==1.5.0->cirq) (4.58.5)\n",
            "Requirement already satisfied: kiwisolver>=1.3.1 in /usr/local/lib/python3.11/dist-packages (from matplotlib~=3.7->cirq-core==1.5.0->cirq) (1.4.8)\n",
            "Requirement already satisfied: packaging>=20.0 in /usr/local/lib/python3.11/dist-packages (from matplotlib~=3.7->cirq-core==1.5.0->cirq) (25.0)\n",
            "Requirement already satisfied: pillow>=8 in /usr/local/lib/python3.11/dist-packages (from matplotlib~=3.7->cirq-core==1.5.0->cirq) (11.2.1)\n",
            "Requirement already satisfied: pyparsing>=2.3.1 in /usr/local/lib/python3.11/dist-packages (from matplotlib~=3.7->cirq-core==1.5.0->cirq) (3.2.3)\n",
            "Requirement already satisfied: python-dateutil>=2.7 in /usr/local/lib/python3.11/dist-packages (from matplotlib~=3.7->cirq-core==1.5.0->cirq) (2.9.0.post0)\n",
            "Requirement already satisfied: pytz>=2020.1 in /usr/local/lib/python3.11/dist-packages (from pandas~=2.0->cirq-core==1.5.0->cirq) (2025.2)\n",
            "Requirement already satisfied: tzdata>=2022.7 in /usr/local/lib/python3.11/dist-packages (from pandas~=2.0->cirq-core==1.5.0->cirq) (2025.2)\n",
            "Requirement already satisfied: charset-normalizer<4,>=2 in /usr/local/lib/python3.11/dist-packages (from requests~=2.32->cirq-aqt==1.5.0->cirq) (3.4.2)\n",
            "Requirement already satisfied: idna<4,>=2.5 in /usr/local/lib/python3.11/dist-packages (from requests~=2.32->cirq-aqt==1.5.0->cirq) (3.10)\n",
            "Requirement already satisfied: urllib3<3,>=1.21.1 in /usr/local/lib/python3.11/dist-packages (from requests~=2.32->cirq-aqt==1.5.0->cirq) (2.4.0)\n",
            "Requirement already satisfied: certifi>=2017.4.17 in /usr/local/lib/python3.11/dist-packages (from requests~=2.32->cirq-aqt==1.5.0->cirq) (2025.7.14)\n",
            "Requirement already satisfied: mpmath<1.4,>=1.1.0 in /usr/local/lib/python3.11/dist-packages (from sympy->cirq-core==1.5.0->cirq) (1.3.0)\n",
            "Requirement already satisfied: cython>=3.0.0 in /usr/local/lib/python3.11/dist-packages (from typedunits->cirq-google==1.5.0->cirq) (3.0.12)\n",
            "Requirement already satisfied: cachetools<6.0,>=2.0.0 in /usr/local/lib/python3.11/dist-packages (from google-auth<3.0.0,>=2.14.1->google-api-core>=1.14.0->google-api-core[grpc]>=1.14.0->cirq-google==1.5.0->cirq) (5.5.2)\n",
            "Requirement already satisfied: pyasn1-modules>=0.2.1 in /usr/local/lib/python3.11/dist-packages (from google-auth<3.0.0,>=2.14.1->google-api-core>=1.14.0->google-api-core[grpc]>=1.14.0->cirq-google==1.5.0->cirq) (0.4.2)\n",
            "Requirement already satisfied: rsa<5,>=3.1.4 in /usr/local/lib/python3.11/dist-packages (from google-auth<3.0.0,>=2.14.1->google-api-core>=1.14.0->google-api-core[grpc]>=1.14.0->cirq-google==1.5.0->cirq) (4.9.1)\n",
            "Requirement already satisfied: six>=1.5 in /usr/local/lib/python3.11/dist-packages (from python-dateutil>=2.7->matplotlib~=3.7->cirq-core==1.5.0->cirq) (1.17.0)\n",
            "Requirement already satisfied: pyasn1<0.7.0,>=0.6.1 in /usr/local/lib/python3.11/dist-packages (from pyasn1-modules>=0.2.1->google-auth<3.0.0,>=2.14.1->google-api-core>=1.14.0->google-api-core[grpc]>=1.14.0->cirq-google==1.5.0->cirq) (0.6.1)\n"
          ]
        }
      ],
      "source": [
        "import IPython\n",
        "\n",
        "def in_colab():\n",
        "    try:\n",
        "        import google.colab\n",
        "        return True\n",
        "    except:\n",
        "        return False\n",
        "\n",
        "path_files = \"./\" if in_colab() else \"../qworld/include/\"\n",
        "\n",
        "SolutionToTask1 = lambda: IPython.display.display(IPython.display.Javascript('window.open(\"{url}\");'.format(url='https://colab.research.google.com/drive/1Qk2FJIWR2g12C79r9NARSNg5vY5y7lj4?usp=sharing#scrollTo=mYXl8O3SlBwb' if in_colab() else 'QB52_D05_Shors_Algorithm_Solutions.ipynb#task1')))\n",
        "SolutionToTask2 = lambda: IPython.display.display(IPython.display.Javascript('window.open(\"{url}\");'.format(url='https://colab.research.google.com/drive/1Qk2FJIWR2g12C79r9NARSNg5vY5y7lj4?usp=sharing#scrollTo=9FrsaKWylBwc' if in_colab() else 'QB52_D05_Shors_Algorithm_Solutions.ipynb#task2')))\n",
        "SolutionToTask3 = lambda: IPython.display.display(IPython.display.Javascript('window.open(\"{url}\");'.format(url='https://colab.research.google.com/drive/1Qk2FJIWR2g12C79r9NARSNg5vY5y7lj4?usp=sharing#scrollTo=_CC6iv1ZlBwc' if in_colab() else 'QB52_D05_Shors_Algorithm_Solutions.ipynb#task3')))\n",
        "SolutionToTask4 = lambda: IPython.display.display(IPython.display.Javascript('window.open(\"{url}\");'.format(url='https://colab.research.google.com/drive/1Qk2FJIWR2g12C79r9NARSNg5vY5y7lj4?usp=sharing#scrollTo=vvLwNE1KlBwc' if in_colab() else 'QB52_D05_Shors_Algorithm_Solutions.ipynb#task4')))\n",
        "\n",
        "if in_colab():\n",
        "    url = \"https://gitlab.com/qworld/qeducation/qbook101/raw/main/qworld/include/shor.py\"\n",
        "    !wget --no-cache -O shor.py {url}\n",
        "\n",
        "    !pip install cirq"
      ]
    },
    {
      "cell_type": "markdown",
      "metadata": {
        "id": "6r5L6NPEmaOX"
      },
      "source": [
        "##### Shor's algorithm provides a polynomial time quantum algorithm for the factoring problem. The best known classical algorithm for factorizing integers is of exponential time.\n",
        "\n",
        "We have already seen the main quantum ingredient of Shor's Algorithm, which is the order finding procedure. Now, we will combine everything we have learnt so far."
      ]
    },
    {
      "cell_type": "markdown",
      "metadata": {
        "id": "azqy3weImaOX"
      },
      "source": [
        "<h2>Problem Definition</h2>\n",
        "\n",
        "Given a positive integer $N$, what prime numbers when multiplied together equal to $N$?\n",
        "\n",
        "It should also be noted that the converse is an easy problem. If the prime numbers are already given, they can be multiplied to check whether they are really the factors of $N$. This property of the problem lies at the center of encryption algorithms which is widely used today. Therefore, quantum computing poses a big challenge for cryptographic systems.\n",
        "\n",
        "It was already known that factorization problem can be reduced to order finding problem. Shor was able to find the polynomial time algorithm for order finding which overall resulted in a polynomial time algorithm for the factorization problem. At the background of Shor's algorithm lies the exponential speed up that comes from Quantum Fourier Transform."
      ]
    },
    {
      "cell_type": "markdown",
      "metadata": {
        "id": "pYUbfqTKmaOX"
      },
      "source": [
        "It is still not known whether $\\mathsf{P}^{[1]}$ is a proper subset of $\\mathsf{BQP}^{[2]}$. If someone one day can prove that factorizing integers cannot be solved in polynomial time classically, then this will prove that $\\mathsf{P}$ is a proper subset of $\\mathsf{BQP}$.\n",
        "\n",
        "Shor's algorithm and Quantum Fourier transform are important as being one of the first examples of quantum exponential speed up over classical algorithms.\n",
        "\n",
        "_$^1$ The class of problems that can be solved in polynimal time on a classical computer._  \n",
        "_$^2$ The class of problems that can be solved in polynimal time on a quantum computer with high probability._"
      ]
    },
    {
      "cell_type": "markdown",
      "metadata": {
        "id": "gtLHjdCJmaOX"
      },
      "source": [
        "<h2>Algorithm</h2>\n",
        "\n",
        "- Pick $x$ randomly in the range $1$ to $N-1$, such that $gcd(x,N)=1$. (If $ gcd(x,N)=d>1 $, then $d$ is already a factor of $ N $.)\n",
        "- Use order finding algorithm to find order of $x\\Mod{N}$, which will be denoted by $r$.\n",
        "- If $r$ is even and $x^{r/2} \\neq -1 \\Mod{N}$, then compute $gcd(x^{r/2} -1, N)$ and  $gcd(x^{r/2}+1, N)$.\n",
        "- Test to see if one of these is a non-trivial factor. If so return, otherwise the algorithm fails. If that is the case, repeat."
      ]
    },
    {
      "cell_type": "markdown",
      "metadata": {
        "id": "3gTGsiL5maOX"
      },
      "source": [
        "<b> Remark:</b> If $r$ is even and $x^{r/2} \\neq -1 \\Mod{N}$, then it can be proven that either $gcd(x^{r/2} -1, N)$ or $gcd(x^{r/2}+1, N)$ should be a factor of $N$. Such an $r$ is found with probability greater than $1/2$. You can check the two theorems at the end of the notebook."
      ]
    },
    {
      "cell_type": "markdown",
      "metadata": {
        "id": "eV6DGN1AmaOX"
      },
      "source": [
        "The main part of Shor's algorithm is step 2, in which we find the order using phase estimation circuit. Once the order satisfies the required properties, then the rest is computing the greatest common divisor. As we have already implemented order finding procedure, we have already implemented Shor's algorithm.\n",
        "\n",
        "Nevertheless, we will be examining Shor's algorithm in more detail. We will start by estimating some probabilities regarding the choice of $r$."
      ]
    },
    {
      "cell_type": "markdown",
      "metadata": {
        "id": "pOeA4Vy_maOX"
      },
      "source": [
        "<h3>Task 1</h3>\n",
        "\n",
        "Let $N=111$. What percentage of the elements that are less than $N$ are relatively prime with $N$? Write a Python code to find out. (You can use gcd function of numpy)\n"
      ]
    },
    {
      "cell_type": "code",
      "execution_count": 80,
      "metadata": {
        "id": "4_5cbVzkmaOX",
        "outputId": "5dabebd5-5d30-4e1b-b87b-ca7a7e367d00",
        "colab": {
          "base_uri": "https://localhost:8080/"
        }
      },
      "outputs": [
        {
          "output_type": "stream",
          "name": "stdout",
          "text": [
            "[1, 2, 4, 5, 7, 8, 10, 11, 13, 14, 16, 17, 19, 20, 22, 23, 25, 26, 28, 29, 31, 32, 34, 35, 38, 40, 41, 43, 44, 46, 47, 49, 50, 52, 53, 55, 56, 58, 59, 61, 62, 64, 65, 67, 68, 70, 71, 73, 76, 77, 79, 80, 82, 83, 85, 86, 88, 89, 91, 92, 94, 95, 97, 98, 100, 101, 103, 104, 106, 107, 109, 110]\n",
            "64.86486486486487%\n"
          ]
        }
      ],
      "source": [
        "#\n",
        "#Your code here\n",
        "#\n",
        "import numpy as np\n",
        "\n",
        "N = 111\n",
        "xs = []\n",
        "for x in range(1, N):\n",
        "  if np.gcd(x, N) == 1: xs.append(x)\n",
        "\n",
        "print(xs)\n",
        "count = len(xs)\n",
        "print(f\"{count*100/N}%\")"
      ]
    },
    {
      "cell_type": "markdown",
      "metadata": {
        "id": "l5qSXi_ZmaOY"
      },
      "source": [
        "To check out our solution, run the next cell:"
      ]
    },
    {
      "cell_type": "code",
      "execution_count": 81,
      "metadata": {
        "id": "9zNK68NfmaOY",
        "outputId": "c34f38be-0a74-4b5c-cb0e-08c1fdaddcbc",
        "colab": {
          "base_uri": "https://localhost:8080/",
          "height": 37
        }
      },
      "outputs": [
        {
          "output_type": "display_data",
          "data": {
            "text/plain": [
              "<IPython.core.display.Javascript object>"
            ],
            "application/javascript": [
              "window.open(\"https://colab.research.google.com/drive/1Qk2FJIWR2g12C79r9NARSNg5vY5y7lj4?usp=sharing#scrollTo=mYXl8O3SlBwb\");"
            ]
          },
          "metadata": {}
        }
      ],
      "source": [
        "SolutionToTask1()  # show solution for task 1"
      ]
    },
    {
      "cell_type": "markdown",
      "metadata": {
        "id": "nvQvjV3KmaOY"
      },
      "source": [
        "<h3>Task 2</h3>\n",
        "\n",
        "Calculate the order of each element $ x $ that is relatively prime with $N $.\n",
        "\n",
        "What percentage of the $ x $’s have even order and satisfy $x^{r/2} \\neq -1 \\Mod{N}$?\n",
        "\n",
        "Put the elements that satisfy the conditions in a dictionary together with their order."
      ]
    },
    {
      "cell_type": "code",
      "execution_count": 82,
      "metadata": {
        "id": "DgD2J1NpmaOY",
        "outputId": "2e9c52ab-3ca8-4548-e88a-3a05906203ca",
        "colab": {
          "base_uri": "https://localhost:8080/"
        }
      },
      "outputs": [
        {
          "output_type": "stream",
          "name": "stdout",
          "text": [
            "Order of 2: \t36\n",
            "Order of 4: \t18\n",
            "Order of 5: \t36\n",
            "Order of 8: \t12\n",
            "Order of 13: \t36\n",
            "Order of 14: \t12\n",
            "Order of 17: \t36\n",
            "Order of 19: \t36\n",
            "Order of 20: \t36\n",
            "Order of 22: \t36\n",
            "Order of 23: \t12\n",
            "Order of 25: \t18\n",
            "Order of 26: \t6\n",
            "Order of 28: \t18\n",
            "Order of 29: \t12\n",
            "Order of 31: \t4\n",
            "Order of 32: \t36\n",
            "Order of 35: \t36\n",
            "Order of 38: \t2\n",
            "Order of 40: \t18\n",
            "Order of 43: \t4\n",
            "Order of 44: \t18\n",
            "Order of 47: \t6\n",
            "Order of 50: \t36\n",
            "Order of 52: \t36\n",
            "Order of 53: \t18\n",
            "Order of 55: \t36\n",
            "Order of 56: \t36\n",
            "Order of 58: \t18\n",
            "Order of 59: \t36\n",
            "Order of 61: \t36\n",
            "Order of 64: \t6\n",
            "Order of 67: \t18\n",
            "Order of 68: \t4\n",
            "Order of 71: \t18\n",
            "Order of 73: \t2\n",
            "Order of 76: \t36\n",
            "Order of 79: \t36\n",
            "Order of 80: \t4\n",
            "Order of 82: \t12\n",
            "Order of 83: \t18\n",
            "Order of 85: \t6\n",
            "Order of 86: \t18\n",
            "Order of 88: \t12\n",
            "Order of 89: \t36\n",
            "Order of 91: \t36\n",
            "Order of 92: \t36\n",
            "Order of 94: \t36\n",
            "Order of 97: \t12\n",
            "Order of 98: \t36\n",
            "Order of 103: \t12\n",
            "Order of 106: \t36\n",
            "Order of 107: \t18\n",
            "Order of 109: \t36\n",
            "48.648648648648646%\n"
          ]
        }
      ],
      "source": [
        "#\n",
        "#Your code here\n",
        "#\n",
        "counter = 0\n",
        "satisfy = {}\n",
        "\n",
        "for x in xs:\n",
        "  r = 1\n",
        "  while True:\n",
        "    if pow(x, r, N) == 1:\n",
        "      if (r%2==0) and (pow(x, int(r/2), N) != N-1):\n",
        "        counter += 1\n",
        "        print(f\"Order of {x}: \\t{r}\")\n",
        "        satisfy[x] = r\n",
        "      break\n",
        "    r += 1\n",
        "\n",
        "print(f\"{counter*100/N}%\")"
      ]
    },
    {
      "cell_type": "markdown",
      "metadata": {
        "id": "rdaPPc7DmaOY"
      },
      "source": [
        "To check out our solution, run the next cell:"
      ]
    },
    {
      "cell_type": "code",
      "execution_count": 83,
      "metadata": {
        "id": "ueP-xhSqmaOY",
        "outputId": "4280eea7-7a74-480c-b7a5-7fa89989d386",
        "colab": {
          "base_uri": "https://localhost:8080/",
          "height": 37
        }
      },
      "outputs": [
        {
          "output_type": "display_data",
          "data": {
            "text/plain": [
              "<IPython.core.display.Javascript object>"
            ],
            "application/javascript": [
              "window.open(\"https://colab.research.google.com/drive/1Qk2FJIWR2g12C79r9NARSNg5vY5y7lj4?usp=sharing#scrollTo=9FrsaKWylBwc\");"
            ]
          },
          "metadata": {}
        }
      ],
      "source": [
        "SolutionToTask2()  # show solution for task 2"
      ]
    },
    {
      "cell_type": "markdown",
      "metadata": {
        "id": "sQma9lcQmaOY"
      },
      "source": [
        "<h3>Task 3</h3>\n",
        "\n",
        "Pick randomly one of the $x$ you found in Task 2 and calculate gcd$(x^{r/2}-1,N)$ and gcd$(x^{r/2}+1,N)$.\n"
      ]
    },
    {
      "cell_type": "code",
      "execution_count": 86,
      "metadata": {
        "id": "LdocUO9CmaOY",
        "outputId": "53c3a003-d4fb-4fb4-c506-ce2ff2554c88",
        "colab": {
          "base_uri": "https://localhost:8080/"
        }
      },
      "outputs": [
        {
          "output_type": "stream",
          "name": "stdout",
          "text": [
            "26 is randomly chosen with order 6\n",
            "Factors of N\n",
            "Factor 1: 37\n",
            "Factor 2: 3\n"
          ]
        }
      ],
      "source": [
        "#\n",
        "#Your code here\n",
        "#\n",
        "import random\n",
        "\n",
        "x, r = random.choice(list(satisfy.items()))\n",
        "print(f\"{x} is randomly chosen with order {r}\")\n",
        "print(\"Factors of N\")\n",
        "print(f\"Factor 1: {np.gcd(pow(x, int(r/2))-1, N)}\")\n",
        "print(f\"Factor 2: {np.gcd(pow(x, int(r/2))+1, N)}\")"
      ]
    },
    {
      "cell_type": "markdown",
      "metadata": {
        "id": "Q8Tp5x5TmaOY"
      },
      "source": [
        "To check out our solution, run the next cell:"
      ]
    },
    {
      "cell_type": "code",
      "execution_count": null,
      "metadata": {
        "id": "3OA1vwPamaOY"
      },
      "outputs": [],
      "source": [
        "SolutionToTask3()  # show solution for task 3"
      ]
    },
    {
      "cell_type": "markdown",
      "metadata": {
        "id": "ReldFpVhmaOY"
      },
      "source": [
        "In the preceeding tasks, we computed factors of $N$ using the same idea as in Shor's algorithm but we calculated $r$ classicaly. The main advantage of Shor's algorithm is to be able to calculate $r$ efficiently."
      ]
    },
    {
      "cell_type": "markdown",
      "metadata": {
        "id": "AtlE8V7jmaOY"
      },
      "source": [
        "## Factoring 21"
      ]
    },
    {
      "cell_type": "markdown",
      "metadata": {
        "id": "I1a-MRWEmaOY"
      },
      "source": [
        "Now we are ready to factor 21, using the phase estimaton circuit we have already implemented."
      ]
    },
    {
      "cell_type": "markdown",
      "metadata": {
        "id": "9zrvtpBimaOY"
      },
      "source": [
        "<h3>Task 4</h3>\n",
        "\n",
        "Factor 21 by using Shor's Algorithm.\n",
        "\n",
        "- Pick a random $x$ which is relatively prime with 21.\n",
        "- Apply phase estimation circuit to the operator $U_x$.\n",
        "- Use continued fractions algorithm to find out $r$.\n",
        "- Compute $gcd(x^{r/2} -1, N)$ and $gcd(x^{r/2}+1, N)$"
      ]
    },
    {
      "cell_type": "code",
      "execution_count": 87,
      "metadata": {
        "id": "xPe-tZuSmaOY"
      },
      "outputs": [],
      "source": [
        "N=21"
      ]
    },
    {
      "cell_type": "code",
      "execution_count": 88,
      "metadata": {
        "id": "8DlcJlJomaOZ",
        "outputId": "e9adde15-81ff-45b9-d951-e86c5e231863",
        "colab": {
          "base_uri": "https://localhost:8080/"
        }
      },
      "outputs": [
        {
          "output_type": "stream",
          "name": "stdout",
          "text": [
            "2 is picked ramdomly\n"
          ]
        }
      ],
      "source": [
        "#Pick a random x relatively prime with N\n",
        "x = random.randrange(2, N)\n",
        "while np.gcd(x, N) != 1:\n",
        "  x = random.randrange(2, N)\n",
        "\n",
        "print(f\"{x} is picked ramdomly\")"
      ]
    },
    {
      "cell_type": "markdown",
      "metadata": {
        "id": "6s-nphzNmaOZ"
      },
      "source": [
        "Use your solutions for [Task 5](https://colab.research.google.com/drive/1vmO57cdCWd9MPl4K9zQ5lx2pqnwv3Zz_?usp=sharing#scrollTo=jCltmUh5g9rg) & [Task 6](https://colab.research.google.com/drive/1vmO57cdCWd9MPl4K9zQ5lx2pqnwv3Zz_?usp=sharing#scrollTo=0qR1Xnjjg9rh) in the previous notebook."
      ]
    },
    {
      "cell_type": "code",
      "execution_count": 89,
      "metadata": {
        "id": "IdPVMTkEmaOZ"
      },
      "outputs": [],
      "source": [
        "#Check if r is even and x^{r/2} is not equal to -1 Mod N\n",
        "from math import ceil, log2, pi\n",
        "\n",
        "L = ceil(log2(N))\n",
        "e = 0.1\n",
        "t = 2*L + 1 + ceil(log2(2 + 1/(2*e)))"
      ]
    },
    {
      "cell_type": "code",
      "source": [
        "import cirq\n",
        "from cirq import H, SWAP, X, measure, MatrixGate, CZPowGate, Circuit, Simulator, LineQubit\n",
        "from cirq.circuits import InsertStrategy\n",
        "\n",
        "def opUx(N, x):\n",
        "  k = 1\n",
        "  while N > 2**k:\n",
        "    k += 1\n",
        "  u = np.zeros([2**k, 2**k], dtype = int)\n",
        "  for i in range(N): u[x*i % N][i] = 1\n",
        "  for i in range(N, 2**k): u[i][i] = 1\n",
        "  return MatrixGate(u, name = 'Ux').controlled()\n",
        "\n",
        "def myInvQFT(qubits):\n",
        "  circuit = Circuit()\n",
        "  N = len(qubits)\n",
        "  for i in range(N // 2):\n",
        "    circuit.append(SWAP(qubits[i], qubits[N-i-1]), strategy=InsertStrategy.NEW)\n",
        "  for i in range(N-1, -1, -1):\n",
        "    phase_divisor = 2**(N-i)\n",
        "    for j in range(N-1, i, -1):\n",
        "      circuit.append(CZPowGate(exponent = -2/phase_divisor).on(qubits[j], qubits[i]), strategy = InsertStrategy.NEW)\n",
        "      phase_divisor = phase_divisor/2\n",
        "    circuit.append(H(qubits[i]), strategy=InsertStrategy.NEW)\n",
        "  return circuit"
      ],
      "metadata": {
        "id": "ex33Inyplorz"
      },
      "execution_count": 90,
      "outputs": []
    },
    {
      "cell_type": "code",
      "source": [
        "circuit = Circuit()\n",
        "reg1 = LineQubit.range(t)\n",
        "reg2 = LineQubit.range(t, t+L)\n",
        "\n",
        "circuit.append(H.on_each(reg1))\n",
        "circuit.append(X(reg2[-1]))\n",
        "\n",
        "Ux = opUx(N, x)\n",
        "for j in range(t):\n",
        "  Uxj = Ux**(2**j)\n",
        "  circuit.append(Uxj(reg1[t-j-1], *reg2))\n",
        "\n",
        "circuit += myInvQFT(reg1)\n",
        "circuit.append(measure(*reg1, key = 'result'))\n",
        "\n",
        "samples = Simulator().run(circuit, repetitions = 1000)\n",
        "\n",
        "def bitstring(bits):\n",
        "    return \"\".join(str(int(b)) for b in bits)\n",
        "\n",
        "print(samples.histogram(key='result', fold_func=bitstring))\n",
        "print()\n",
        "outcomes = samples.histogram(key='result')\n",
        "print(outcomes)\n",
        "print()\n",
        "for outcome in outcomes:\n",
        "    print(f\"{outcome} \\tobserved {outcomes[outcome]} times\")"
      ],
      "metadata": {
        "id": "7PmPmg-dn9-x",
        "outputId": "6dd580dc-088f-4262-ac2d-6eaef8842ba0",
        "colab": {
          "base_uri": "https://localhost:8080/"
        }
      },
      "execution_count": 92,
      "outputs": [
        {
          "output_type": "stream",
          "name": "stdout",
          "text": [
            "Counter({'00000000000000': 172, '10000000000000': 168, '01010101010101': 121, '11010101010101': 113, '10101010101011': 104, '00101010101011': 93, '01010101010110': 34, '11010101010110': 31, '00101010101010': 29, '10101010101010': 29, '01010101010100': 11, '00101010101001': 9, '10101010101101': 8, '00101010101100': 7, '11010101010100': 7, '10101010101100': 7, '01010101011000': 4, '01010101010011': 4, '01010101011010': 4, '11010101010111': 4, '01010101010111': 4, '00101010101101': 3, '00101010100110': 2, '10101010101000': 2, '11010101010010': 2, '10101010101110': 2, '01010101000101': 1, '00101010100101': 1, '11010101010011': 1, '10101010100110': 1, '11010101011101': 1, '11010100111100': 1, '10101010100011': 1, '10101010110101': 1, '11010101010001': 1, '11010101011001': 1, '10000110111101': 1, '11010101011100': 1, '10101010011000': 1, '01010101010000': 1, '11010101101001': 1, '00101011111101': 1, '01010101000100': 1, '00101010100100': 1, '10101010110111': 1, '00101010101110': 1, '00101010110010': 1, '01010101011001': 1, '11010101100101': 1, '11010101001100': 1, '10101010110100': 1, '11010101011000': 1})\n",
            "\n",
            "Counter({0: 172, 8192: 168, 5461: 121, 13653: 113, 10923: 104, 2731: 93, 5462: 34, 13654: 31, 2730: 29, 10922: 29, 5460: 11, 2729: 9, 10925: 8, 2732: 7, 13652: 7, 10924: 7, 5464: 4, 5459: 4, 5466: 4, 13655: 4, 5463: 4, 2733: 3, 2726: 2, 10920: 2, 13650: 2, 10926: 2, 5445: 1, 2725: 1, 13651: 1, 10918: 1, 13661: 1, 13628: 1, 10915: 1, 10933: 1, 13649: 1, 13657: 1, 8637: 1, 13660: 1, 10904: 1, 5456: 1, 13673: 1, 2813: 1, 5444: 1, 2724: 1, 10935: 1, 2734: 1, 2738: 1, 5465: 1, 13669: 1, 13644: 1, 10932: 1, 13656: 1})\n",
            "\n",
            "2730 \tobserved 29 times\n",
            "2731 \tobserved 93 times\n",
            "8192 \tobserved 168 times\n",
            "13653 \tobserved 113 times\n",
            "2732 \tobserved 7 times\n",
            "5461 \tobserved 121 times\n",
            "0 \tobserved 172 times\n",
            "10923 \tobserved 104 times\n",
            "5462 \tobserved 34 times\n",
            "10922 \tobserved 29 times\n",
            "5445 \tobserved 1 times\n",
            "2725 \tobserved 1 times\n",
            "13652 \tobserved 7 times\n",
            "10925 \tobserved 8 times\n",
            "13654 \tobserved 31 times\n",
            "5464 \tobserved 4 times\n",
            "2729 \tobserved 9 times\n",
            "13651 \tobserved 1 times\n",
            "10918 \tobserved 1 times\n",
            "13661 \tobserved 1 times\n",
            "10924 \tobserved 7 times\n",
            "5459 \tobserved 4 times\n",
            "13628 \tobserved 1 times\n",
            "5466 \tobserved 4 times\n",
            "5460 \tobserved 11 times\n",
            "10915 \tobserved 1 times\n",
            "13655 \tobserved 4 times\n",
            "10933 \tobserved 1 times\n",
            "2726 \tobserved 2 times\n",
            "13649 \tobserved 1 times\n",
            "13657 \tobserved 1 times\n",
            "5463 \tobserved 4 times\n",
            "8637 \tobserved 1 times\n",
            "13660 \tobserved 1 times\n",
            "10904 \tobserved 1 times\n",
            "10920 \tobserved 2 times\n",
            "5456 \tobserved 1 times\n",
            "2733 \tobserved 3 times\n",
            "13673 \tobserved 1 times\n",
            "13650 \tobserved 2 times\n",
            "2813 \tobserved 1 times\n",
            "5444 \tobserved 1 times\n",
            "2724 \tobserved 1 times\n",
            "10935 \tobserved 1 times\n",
            "2734 \tobserved 1 times\n",
            "2738 \tobserved 1 times\n",
            "5465 \tobserved 1 times\n",
            "10926 \tobserved 2 times\n",
            "13669 \tobserved 1 times\n",
            "13644 \tobserved 1 times\n",
            "10932 \tobserved 1 times\n",
            "13656 \tobserved 1 times\n"
          ]
        }
      ]
    },
    {
      "cell_type": "code",
      "source": [
        "good = []\n",
        "for outcome in outcomes:\n",
        "    if outcome == 0: continue\n",
        "    if outcomes[outcome] > 10:\n",
        "        good.append(outcome)\n",
        "print(good)"
      ],
      "metadata": {
        "id": "YwRN03KBpn1E",
        "outputId": "0da163d5-1c75-434e-c8db-df40395aa992",
        "colab": {
          "base_uri": "https://localhost:8080/"
        }
      },
      "execution_count": 93,
      "outputs": [
        {
          "output_type": "stream",
          "name": "stdout",
          "text": [
            "[2730, 2731, 8192, 13653, 5461, 10923, 5462, 10922, 13654, 5460]\n"
          ]
        }
      ]
    },
    {
      "cell_type": "code",
      "source": [
        "quantum_file = path_files+\"shor.py\"\n",
        "%run $quantum_file\n",
        "\n",
        "for b in good:\n",
        "    print(\"for b =\",b)\n",
        "    cf = contFrac(b/(2**t))\n",
        "    print(cf)\n",
        "    cv = convergents(cf)\n",
        "    print(cv)\n",
        "    print()"
      ],
      "metadata": {
        "id": "Ej6y-_iSpuXh",
        "outputId": "900173eb-f9ef-4bc5-d246-60cbc0d2fad5",
        "colab": {
          "base_uri": "https://localhost:8080/"
        }
      },
      "execution_count": 94,
      "outputs": [
        {
          "output_type": "stream",
          "name": "stdout",
          "text": [
            "for b = 2730\n",
            "[0, 6, 682, 2]\n",
            "[Fraction(0, 1), Fraction(1, 6), Fraction(682, 4093), Fraction(1365, 8192)]\n",
            "\n",
            "for b = 2731\n",
            "[0, 5, 1, 1364, 2]\n",
            "[Fraction(0, 1), Fraction(1, 5), Fraction(1, 6), Fraction(1365, 8189), Fraction(1366, 8195)]\n",
            "\n",
            "for b = 8192\n",
            "[0, 2]\n",
            "[Fraction(0, 1), Fraction(1, 2)]\n",
            "\n",
            "for b = 13653\n",
            "[0, 1, 4, 1, 1364, 2]\n",
            "[Fraction(0, 1), Fraction(1, 1), Fraction(4, 5), Fraction(5, 6), Fraction(6824, 8189), Fraction(6829, 8195)]\n",
            "\n",
            "for b = 5461\n",
            "[0, 3, 5461]\n",
            "[Fraction(0, 1), Fraction(1, 3), Fraction(3333, 10000)]\n",
            "\n",
            "for b = 10923\n",
            "[0, 1, 2, 5461]\n",
            "[Fraction(0, 1), Fraction(1, 1), Fraction(2, 3), Fraction(6667, 10000)]\n",
            "\n",
            "for b = 5462\n",
            "[0, 2, 1, 2730]\n",
            "[Fraction(0, 1), Fraction(1, 2), Fraction(1, 3), Fraction(2731, 8192)]\n",
            "\n",
            "for b = 10922\n",
            "[0, 1, 1, 1, 2730]\n",
            "[Fraction(0, 1), Fraction(1, 1), Fraction(1, 2), Fraction(2, 3), Fraction(5461, 8192)]\n",
            "\n",
            "for b = 13654\n",
            "[0, 1, 5, 682, 2]\n",
            "[Fraction(0, 1), Fraction(1, 1), Fraction(5, 6), Fraction(3411, 4093), Fraction(6827, 8192)]\n",
            "\n",
            "for b = 5460\n",
            "[0, 3, 1365]\n",
            "[Fraction(0, 1), Fraction(1, 3), Fraction(1365, 4096)]\n",
            "\n"
          ]
        }
      ]
    },
    {
      "cell_type": "code",
      "source": [
        "r = 6\n",
        "if (r%2==0 and (x**int(r/2))%N != N-1) :\n",
        "    print(\"Proceed\")\n",
        "else:\n",
        "    print(\"Repeat the algorithm\")"
      ],
      "metadata": {
        "id": "adFUO2TrpymE",
        "outputId": "00cfb92e-d0e4-416d-c4a9-e4ae2732ccdd",
        "colab": {
          "base_uri": "https://localhost:8080/"
        }
      },
      "execution_count": 95,
      "outputs": [
        {
          "output_type": "stream",
          "name": "stdout",
          "text": [
            "Proceed\n"
          ]
        }
      ]
    },
    {
      "cell_type": "markdown",
      "metadata": {
        "id": "-y3fnD2zmaOZ"
      },
      "source": [
        "Note that you may not be able to get the $r$ value in your first trial. In such a case, you need to repeat the algorithm."
      ]
    },
    {
      "cell_type": "code",
      "execution_count": 96,
      "metadata": {
        "id": "kv8kzoIomaOZ",
        "outputId": "543384d9-8cd4-4c0e-a0b0-d7f31ec5b8db",
        "colab": {
          "base_uri": "https://localhost:8080/"
        }
      },
      "outputs": [
        {
          "output_type": "stream",
          "name": "stdout",
          "text": [
            "N= 21\n",
            "x= 2\n",
            "r= 6\n",
            "(x**int(r/2)-1)= 7\n",
            "(x**int(r/2)+1)= 9\n",
            "Factors of 21 : 7 and 3\n"
          ]
        }
      ],
      "source": [
        "#Compute gcd to find out the factors of N\n",
        "print(\"N=\",N)\n",
        "print(\"x=\",x)\n",
        "print(\"r=\",r)\n",
        "print(\"(x**int(r/2)-1)=\",(x**int(r/2)-1))\n",
        "print(\"(x**int(r/2)+1)=\",(x**int(r/2)+1))\n",
        "print(\"Factors of\",N,\":\",np.gcd((x**int(r/2)-1),N), \"and\",np.gcd((x**int(r/2)+1),N))"
      ]
    },
    {
      "cell_type": "markdown",
      "metadata": {
        "id": "z8nDYCOSmaOZ"
      },
      "source": [
        "To check out our solution, run the next cell:"
      ]
    },
    {
      "cell_type": "code",
      "execution_count": null,
      "metadata": {
        "id": "5Eyu3x7WmaOZ"
      },
      "outputs": [],
      "source": [
        "SolutionToTask4()  # show solution for task 4"
      ]
    },
    {
      "cell_type": "markdown",
      "metadata": {
        "id": "aEOT6jwlmaOZ"
      },
      "source": [
        "### Theorems (optional)\n",
        "\n",
        "#### Theorem 1\n",
        "Suppose $N$ is an $L$ bit composite number and $x$ is a non-trivial solution to the equation $x^2 = 1 \\Mod{N}$ in the range $1\\leq x \\leq N$, that is neither $x=1 \\Mod{N}$ nor $x=N-1=-1 \\Mod{N}$. Then at least one of $gcd(x-1,N)$ and $gcd(x+1,N)$ is a non-trivial factor of $N$ that can be computed using $O(L^3)$ operations.\n",
        "\n",
        "#### Theorem 2\n",
        "Suppose $N={p_1}^{l_1} \\dots {p_m}^{l_m}$ is the prime factorization of an odd composite positive integer. Let $x$ be an integer uniformly chosen at random, such that $0 \\leq x \\leq N-1$ and $x$ is co-prime to $N$. Let $r$ be the order of $x \\Mod{N}$. In such a case,\n",
        "\t\\begin{align*}\n",
        "\tP(\\text{r is even and } {x}^{r/2} \\neq -1 \\Mod{N}) > 1- \\frac{1}{2^{m-1}}.\n",
        "\t\\end{align*}"
      ]
    }
  ],
  "metadata": {
    "kernelspec": {
      "display_name": "Python 3 (ipykernel)",
      "language": "python",
      "name": "python3"
    },
    "language_info": {
      "codemirror_mode": {
        "name": "ipython",
        "version": 3
      },
      "file_extension": ".py",
      "mimetype": "text/x-python",
      "name": "python",
      "nbconvert_exporter": "python",
      "pygments_lexer": "ipython3",
      "version": "3.11.4"
    },
    "colab": {
      "provenance": [],
      "collapsed_sections": [
        "zIP07c1bmaOW"
      ],
      "include_colab_link": true
    }
  },
  "nbformat": 4,
  "nbformat_minor": 0
}