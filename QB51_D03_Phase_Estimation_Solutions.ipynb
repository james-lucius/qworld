{
  "cells": [
    {
      "cell_type": "markdown",
      "metadata": {
        "id": "view-in-github",
        "colab_type": "text"
      },
      "source": [
        "<a href=\"https://colab.research.google.com/github/james-lucius/qworld/blob/main/QB51_D03_Phase_Estimation_Solutions.ipynb\" target=\"_parent\"><img src=\"https://colab.research.google.com/assets/colab-badge.svg\" alt=\"Open In Colab\"/></a>"
      ]
    },
    {
      "cell_type": "markdown",
      "metadata": {
        "id": "G3kqd997Rq61"
      },
      "source": [
        "<a href=\"https://qworld.net\" target=\"_blank\" align=\"left\"><img src=\"https://gitlab.com/qworld/qeducation/qbook101/raw/main/qworld/images/header.jpg\" align=\"left\"></a>\n",
        "$ \\newcommand{\\bra}[1]{\\langle #1|} $\n",
        "$ \\newcommand{\\ket}[1]{|#1\\rangle} $\n",
        "$ \\newcommand{\\braket}[2]{\\langle #1|#2\\rangle} $\n",
        "$ \\newcommand{\\dot}[2]{ #1 \\cdot #2} $\n",
        "$ \\newcommand{\\biginner}[2]{\\left\\langle #1,#2\\right\\rangle} $\n",
        "$ \\newcommand{\\mymatrix}[2]{\\left( \\begin{array}{#1} #2\\end{array} \\right)} $\n",
        "$ \\newcommand{\\myvector}[1]{\\mymatrix{c}{#1}} $\n",
        "$ \\newcommand{\\myrvector}[1]{\\mymatrix{r}{#1}} $\n",
        "$ \\newcommand{\\mypar}[1]{\\left( #1 \\right)} $\n",
        "$ \\newcommand{\\mybigpar}[1]{ \\Big( #1 \\Big)} $\n",
        "$ \\newcommand{\\sqrttwo}{\\frac{1}{\\sqrt{2}}} $\n",
        "$ \\newcommand{\\dsqrttwo}{\\dfrac{1}{\\sqrt{2}}} $\n",
        "$ \\newcommand{\\onehalf}{\\frac{1}{2}} $\n",
        "$ \\newcommand{\\donehalf}{\\dfrac{1}{2}} $\n",
        "$ \\newcommand{\\hadamard}{ \\mymatrix{rr}{ \\sqrttwo & \\sqrttwo \\\\ \\sqrttwo & -\\sqrttwo }} $\n",
        "$ \\newcommand{\\vzero}{\\myvector{1\\\\0}} $\n",
        "$ \\newcommand{\\vone}{\\myvector{0\\\\1}} $\n",
        "$ \\newcommand{\\stateplus}{\\myvector{ \\sqrttwo \\\\  \\sqrttwo } } $\n",
        "$ \\newcommand{\\stateminus}{ \\myrvector{ \\sqrttwo \\\\ -\\sqrttwo } } $\n",
        "$ \\newcommand{\\myarray}[2]{ \\begin{array}{#1}#2\\end{array}} $\n",
        "$ \\newcommand{\\X}{ \\mymatrix{cc}{0 & 1 \\\\ 1 & 0}  } $\n",
        "$ \\newcommand{\\Z}{ \\mymatrix{rr}{1 & 0 \\\\ 0 & -1}  } $\n",
        "$ \\newcommand{\\Htwo}{ \\mymatrix{rrrr}{ \\frac{1}{2} & \\frac{1}{2} & \\frac{1}{2} & \\frac{1}{2} \\\\ \\frac{1}{2} & -\\frac{1}{2} & \\frac{1}{2} & -\\frac{1}{2} \\\\ \\frac{1}{2} & \\frac{1}{2} & -\\frac{1}{2} & -\\frac{1}{2} \\\\ \\frac{1}{2} & -\\frac{1}{2} & -\\frac{1}{2} & \\frac{1}{2} } } $\n",
        "$ \\newcommand{\\CNOT}{ \\mymatrix{cccc}{1 & 0 & 0 & 0 \\\\ 0 & 1 & 0 & 0 \\\\ 0 & 0 & 0 & 1 \\\\ 0 & 0 & 1 & 0} } $\n",
        "$ \\newcommand{\\norm}[1]{ \\left\\lVert #1 \\right\\rVert } $\n",
        "$ \\newcommand{\\pstate}[1]{ \\lceil \\mspace{-1mu} #1 \\mspace{-1.5mu} \\rfloor } $\n",
        "$ \\newcommand{\\Y}{ \\mymatrix{rr}{0 & -i \\\\ i & 0} } $\n",
        "$ \\newcommand{\\S}{ \\mymatrix{rr}{1 & 0 \\\\ 0 & i} } $\n",
        "$ \\newcommand{\\T}{ \\mymatrix{rr}{1 & 0 \\\\ 0 & e^{i \\frac{\\pi}{4}}} } $\n",
        "$ \\newcommand{\\Sdg}{ \\mymatrix{rr}{1 & 0 \\\\ 0 & -i} } $\n",
        "$ \\newcommand{\\Tdg}{ \\mymatrix{rr}{1 & 0 \\\\ 0 & e^{-i \\frac{\\pi}{4}}} } $\n",
        "$ \\newcommand{\\qgate}[1]{ \\mathop{\\\\textit{#1} } }$"
      ]
    },
    {
      "cell_type": "markdown",
      "metadata": {
        "id": "EaGD0n65Rq63"
      },
      "source": [
        "_prepared by Özlem Salehi and Abuzer Yakaryilmaz_\n",
        "<br><br>\n",
        "_Cirq adaptation by Claudia Zendejas-Morales_"
      ]
    },
    {
      "cell_type": "markdown",
      "metadata": {
        "id": "0Er_sUEfRq63"
      },
      "source": [
        "<font size=\"28px\" style=\"font-size:28px;\" align=\"left\"><b><font color=\"blue\"> Solutions for </font>Phase Estimation</b></font>\n",
        "<br>\n",
        "<br><br>"
      ]
    },
    {
      "cell_type": "markdown",
      "metadata": {
        "jp-MarkdownHeadingCollapsed": true,
        "id": "HvRhJulsRq63"
      },
      "source": [
        "##### <font color=\"#08b806\">Please execute the following cell, it is necessary to distinguish between your local environment and Google Colab's"
      ]
    },
    {
      "cell_type": "code",
      "execution_count": 1,
      "metadata": {
        "id": "7US5tpOiRq63",
        "outputId": "e1d71fe7-85a2-4a05-cb2e-ce5f95618165",
        "colab": {
          "base_uri": "https://localhost:8080/"
        }
      },
      "outputs": [
        {
          "output_type": "stream",
          "name": "stdout",
          "text": [
            "Collecting cirq\n",
            "  Downloading cirq-1.5.0-py3-none-any.whl.metadata (15 kB)\n",
            "Collecting cirq-aqt==1.5.0 (from cirq)\n",
            "  Downloading cirq_aqt-1.5.0-py3-none-any.whl.metadata (4.8 kB)\n",
            "Collecting cirq-core==1.5.0 (from cirq)\n",
            "  Downloading cirq_core-1.5.0-py3-none-any.whl.metadata (4.9 kB)\n",
            "Collecting cirq-google==1.5.0 (from cirq)\n",
            "  Downloading cirq_google-1.5.0-py3-none-any.whl.metadata (4.9 kB)\n",
            "Collecting cirq-ionq==1.5.0 (from cirq)\n",
            "  Downloading cirq_ionq-1.5.0-py3-none-any.whl.metadata (4.7 kB)\n",
            "Collecting cirq-pasqal==1.5.0 (from cirq)\n",
            "  Downloading cirq_pasqal-1.5.0-py3-none-any.whl.metadata (4.8 kB)\n",
            "Collecting cirq-web==1.5.0 (from cirq)\n",
            "  Downloading cirq_web-1.5.0-py3-none-any.whl.metadata (5.5 kB)\n",
            "Requirement already satisfied: requests~=2.32 in /usr/local/lib/python3.11/dist-packages (from cirq-aqt==1.5.0->cirq) (2.32.3)\n",
            "Requirement already satisfied: attrs>=21.3.0 in /usr/local/lib/python3.11/dist-packages (from cirq-core==1.5.0->cirq) (25.3.0)\n",
            "Collecting duet>=0.2.8 (from cirq-core==1.5.0->cirq)\n",
            "  Downloading duet-0.2.9-py3-none-any.whl.metadata (2.3 kB)\n",
            "Requirement already satisfied: matplotlib~=3.7 in /usr/local/lib/python3.11/dist-packages (from cirq-core==1.5.0->cirq) (3.10.0)\n",
            "Requirement already satisfied: networkx~=3.1 in /usr/local/lib/python3.11/dist-packages (from cirq-core==1.5.0->cirq) (3.5)\n",
            "Requirement already satisfied: numpy>=1.25 in /usr/local/lib/python3.11/dist-packages (from cirq-core==1.5.0->cirq) (2.0.2)\n",
            "Requirement already satisfied: pandas~=2.0 in /usr/local/lib/python3.11/dist-packages (from cirq-core==1.5.0->cirq) (2.2.2)\n",
            "Requirement already satisfied: sortedcontainers~=2.0 in /usr/local/lib/python3.11/dist-packages (from cirq-core==1.5.0->cirq) (2.4.0)\n",
            "Requirement already satisfied: scipy~=1.11 in /usr/local/lib/python3.11/dist-packages (from cirq-core==1.5.0->cirq) (1.15.3)\n",
            "Requirement already satisfied: sympy in /usr/local/lib/python3.11/dist-packages (from cirq-core==1.5.0->cirq) (1.13.1)\n",
            "Requirement already satisfied: typing_extensions>=4.2 in /usr/local/lib/python3.11/dist-packages (from cirq-core==1.5.0->cirq) (4.14.1)\n",
            "Requirement already satisfied: tqdm>=4.12 in /usr/local/lib/python3.11/dist-packages (from cirq-core==1.5.0->cirq) (4.67.1)\n",
            "Requirement already satisfied: google-api-core>=1.14.0 in /usr/local/lib/python3.11/dist-packages (from google-api-core[grpc]>=1.14.0->cirq-google==1.5.0->cirq) (2.25.1)\n",
            "Requirement already satisfied: proto-plus>=1.20.0 in /usr/local/lib/python3.11/dist-packages (from cirq-google==1.5.0->cirq) (1.26.1)\n",
            "Requirement already satisfied: protobuf<6.0,>=4.25 in /usr/local/lib/python3.11/dist-packages (from cirq-google==1.5.0->cirq) (5.29.5)\n",
            "Collecting typedunits (from cirq-google==1.5.0->cirq)\n",
            "  Downloading typedunits-0.0.1.dev20250509200845-cp311-cp311-manylinux_2_17_x86_64.manylinux2014_x86_64.whl.metadata (4.8 kB)\n",
            "Requirement already satisfied: googleapis-common-protos<2.0.0,>=1.56.2 in /usr/local/lib/python3.11/dist-packages (from google-api-core>=1.14.0->google-api-core[grpc]>=1.14.0->cirq-google==1.5.0->cirq) (1.70.0)\n",
            "Requirement already satisfied: google-auth<3.0.0,>=2.14.1 in /usr/local/lib/python3.11/dist-packages (from google-api-core>=1.14.0->google-api-core[grpc]>=1.14.0->cirq-google==1.5.0->cirq) (2.38.0)\n",
            "Requirement already satisfied: grpcio<2.0.0,>=1.33.2 in /usr/local/lib/python3.11/dist-packages (from google-api-core[grpc]>=1.14.0->cirq-google==1.5.0->cirq) (1.73.1)\n",
            "Requirement already satisfied: grpcio-status<2.0.0,>=1.33.2 in /usr/local/lib/python3.11/dist-packages (from google-api-core[grpc]>=1.14.0->cirq-google==1.5.0->cirq) (1.71.2)\n",
            "Requirement already satisfied: contourpy>=1.0.1 in /usr/local/lib/python3.11/dist-packages (from matplotlib~=3.7->cirq-core==1.5.0->cirq) (1.3.2)\n",
            "Requirement already satisfied: cycler>=0.10 in /usr/local/lib/python3.11/dist-packages (from matplotlib~=3.7->cirq-core==1.5.0->cirq) (0.12.1)\n",
            "Requirement already satisfied: fonttools>=4.22.0 in /usr/local/lib/python3.11/dist-packages (from matplotlib~=3.7->cirq-core==1.5.0->cirq) (4.58.5)\n",
            "Requirement already satisfied: kiwisolver>=1.3.1 in /usr/local/lib/python3.11/dist-packages (from matplotlib~=3.7->cirq-core==1.5.0->cirq) (1.4.8)\n",
            "Requirement already satisfied: packaging>=20.0 in /usr/local/lib/python3.11/dist-packages (from matplotlib~=3.7->cirq-core==1.5.0->cirq) (24.2)\n",
            "Requirement already satisfied: pillow>=8 in /usr/local/lib/python3.11/dist-packages (from matplotlib~=3.7->cirq-core==1.5.0->cirq) (11.2.1)\n",
            "Requirement already satisfied: pyparsing>=2.3.1 in /usr/local/lib/python3.11/dist-packages (from matplotlib~=3.7->cirq-core==1.5.0->cirq) (3.2.3)\n",
            "Requirement already satisfied: python-dateutil>=2.7 in /usr/local/lib/python3.11/dist-packages (from matplotlib~=3.7->cirq-core==1.5.0->cirq) (2.9.0.post0)\n",
            "Requirement already satisfied: pytz>=2020.1 in /usr/local/lib/python3.11/dist-packages (from pandas~=2.0->cirq-core==1.5.0->cirq) (2025.2)\n",
            "Requirement already satisfied: tzdata>=2022.7 in /usr/local/lib/python3.11/dist-packages (from pandas~=2.0->cirq-core==1.5.0->cirq) (2025.2)\n",
            "Requirement already satisfied: charset-normalizer<4,>=2 in /usr/local/lib/python3.11/dist-packages (from requests~=2.32->cirq-aqt==1.5.0->cirq) (3.4.2)\n",
            "Requirement already satisfied: idna<4,>=2.5 in /usr/local/lib/python3.11/dist-packages (from requests~=2.32->cirq-aqt==1.5.0->cirq) (3.10)\n",
            "Requirement already satisfied: urllib3<3,>=1.21.1 in /usr/local/lib/python3.11/dist-packages (from requests~=2.32->cirq-aqt==1.5.0->cirq) (2.4.0)\n",
            "Requirement already satisfied: certifi>=2017.4.17 in /usr/local/lib/python3.11/dist-packages (from requests~=2.32->cirq-aqt==1.5.0->cirq) (2025.7.9)\n",
            "Requirement already satisfied: mpmath<1.4,>=1.1.0 in /usr/local/lib/python3.11/dist-packages (from sympy->cirq-core==1.5.0->cirq) (1.3.0)\n",
            "Requirement already satisfied: cython>=3.0.0 in /usr/local/lib/python3.11/dist-packages (from typedunits->cirq-google==1.5.0->cirq) (3.0.12)\n",
            "Requirement already satisfied: cachetools<6.0,>=2.0.0 in /usr/local/lib/python3.11/dist-packages (from google-auth<3.0.0,>=2.14.1->google-api-core>=1.14.0->google-api-core[grpc]>=1.14.0->cirq-google==1.5.0->cirq) (5.5.2)\n",
            "Requirement already satisfied: pyasn1-modules>=0.2.1 in /usr/local/lib/python3.11/dist-packages (from google-auth<3.0.0,>=2.14.1->google-api-core>=1.14.0->google-api-core[grpc]>=1.14.0->cirq-google==1.5.0->cirq) (0.4.2)\n",
            "Requirement already satisfied: rsa<5,>=3.1.4 in /usr/local/lib/python3.11/dist-packages (from google-auth<3.0.0,>=2.14.1->google-api-core>=1.14.0->google-api-core[grpc]>=1.14.0->cirq-google==1.5.0->cirq) (4.9.1)\n",
            "Requirement already satisfied: six>=1.5 in /usr/local/lib/python3.11/dist-packages (from python-dateutil>=2.7->matplotlib~=3.7->cirq-core==1.5.0->cirq) (1.17.0)\n",
            "Requirement already satisfied: pyasn1<0.7.0,>=0.6.1 in /usr/local/lib/python3.11/dist-packages (from pyasn1-modules>=0.2.1->google-auth<3.0.0,>=2.14.1->google-api-core>=1.14.0->google-api-core[grpc]>=1.14.0->cirq-google==1.5.0->cirq) (0.6.1)\n",
            "Downloading cirq-1.5.0-py3-none-any.whl (10 kB)\n",
            "Downloading cirq_aqt-1.5.0-py3-none-any.whl (31 kB)\n",
            "Downloading cirq_core-1.5.0-py3-none-any.whl (2.0 MB)\n",
            "\u001b[2K   \u001b[90m━━━━━━━━━━━━━━━━━━━━━━━━━━━━━━━━━━━━━━━━\u001b[0m \u001b[32m2.0/2.0 MB\u001b[0m \u001b[31m27.8 MB/s\u001b[0m eta \u001b[36m0:00:00\u001b[0m\n",
            "\u001b[?25hDownloading cirq_google-1.5.0-py3-none-any.whl (597 kB)\n",
            "\u001b[2K   \u001b[90m━━━━━━━━━━━━━━━━━━━━━━━━━━━━━━━━━━━━━━━━\u001b[0m \u001b[32m597.5/597.5 kB\u001b[0m \u001b[31m31.4 MB/s\u001b[0m eta \u001b[36m0:00:00\u001b[0m\n",
            "\u001b[?25hDownloading cirq_ionq-1.5.0-py3-none-any.whl (72 kB)\n",
            "\u001b[2K   \u001b[90m━━━━━━━━━━━━━━━━━━━━━━━━━━━━━━━━━━━━━━━━\u001b[0m \u001b[32m72.0/72.0 kB\u001b[0m \u001b[31m5.4 MB/s\u001b[0m eta \u001b[36m0:00:00\u001b[0m\n",
            "\u001b[?25hDownloading cirq_pasqal-1.5.0-py3-none-any.whl (33 kB)\n",
            "Downloading cirq_web-1.5.0-py3-none-any.whl (425 kB)\n",
            "\u001b[2K   \u001b[90m━━━━━━━━━━━━━━━━━━━━━━━━━━━━━━━━━━━━━━━━\u001b[0m \u001b[32m425.1/425.1 kB\u001b[0m \u001b[31m26.1 MB/s\u001b[0m eta \u001b[36m0:00:00\u001b[0m\n",
            "\u001b[?25hDownloading duet-0.2.9-py3-none-any.whl (29 kB)\n",
            "Downloading typedunits-0.0.1.dev20250509200845-cp311-cp311-manylinux_2_17_x86_64.manylinux2014_x86_64.whl (2.8 MB)\n",
            "\u001b[2K   \u001b[90m━━━━━━━━━━━━━━━━━━━━━━━━━━━━━━━━━━━━━━━━\u001b[0m \u001b[32m2.8/2.8 MB\u001b[0m \u001b[31m47.0 MB/s\u001b[0m eta \u001b[36m0:00:00\u001b[0m\n",
            "\u001b[?25hInstalling collected packages: typedunits, duet, cirq-core, cirq-web, cirq-pasqal, cirq-ionq, cirq-aqt, cirq-google, cirq\n",
            "Successfully installed cirq-1.5.0 cirq-aqt-1.5.0 cirq-core-1.5.0 cirq-google-1.5.0 cirq-ionq-1.5.0 cirq-pasqal-1.5.0 cirq-web-1.5.0 duet-0.2.9 typedunits-0.0.1.dev20250509200845\n"
          ]
        }
      ],
      "source": [
        "import IPython\n",
        "\n",
        "def in_colab():\n",
        "    try:\n",
        "        import google.colab\n",
        "        return True\n",
        "    except:\n",
        "        return False\n",
        "\n",
        "if in_colab():\n",
        "    !pip install cirq"
      ]
    },
    {
      "cell_type": "markdown",
      "metadata": {
        "id": "Ft_63GcZRq63"
      },
      "source": [
        "<a name=\"task1\"></a>\n",
        "### Task 1 (on paper)\n",
        "\n",
        "\n",
        "Show that $\\ket{-}$ and $\\ket{+}$ are eigenvectors for the $X$ operator with eigenvalues -1 and 1 respectively."
      ]
    },
    {
      "cell_type": "markdown",
      "metadata": {
        "id": "YoPydxfzRq64"
      },
      "source": [
        "<h3>Solution </h3>"
      ]
    },
    {
      "cell_type": "markdown",
      "metadata": {
        "id": "zznA2h_3Rq64"
      },
      "source": [
        "\n",
        "\n",
        "\\begin{align*}\n",
        "X \\ket{-} = X \\frac {\\ket{0} - \\ket{1}} {\\sqrt{2}}\n",
        "& =  \\frac {\\ket{1} - \\ket{0}} {\\sqrt{2}}\\\\\n",
        "& = -\\frac {\\ket{0} - \\ket{1}} {\\sqrt{2}}\\\\\n",
        "& = -\\ket{-}\n",
        "\\end{align*}\n",
        "\n",
        "\n",
        "\\begin{align*}\n",
        "X \\ket{+} = X \\frac {\\ket{0} + \\ket{1}} {\\sqrt{2}}\n",
        "& =  \\frac {\\ket{1} + \\ket{0}} {\\sqrt{2}}\\\\\n",
        "& = \\frac {\\ket{0} + \\ket{1}} {\\sqrt{2}}\\\\\n",
        "& = \\ket{+}\n",
        "\\end{align*}\n",
        "\n",
        "Hence $ \\ket{-}$ and $\\ket{+}$ are eigenvectors of $ X $ operator with the eigenvalues -1 and 1 respectively."
      ]
    },
    {
      "cell_type": "markdown",
      "metadata": {
        "id": "BJE3dO1TRq64"
      },
      "source": [
        "<a name=\"task2\"></a>\n",
        "### Task 2 (on paper)\n",
        "\n",
        "Consider the following quantum state where $ x=0 $ or $ 1 $. How can you find out the value of $x$ by applying a single operator?\n",
        "\n",
        "$$\n",
        "\\frac {\\ket{0} + (-1)^x \\ket{1}} {\\sqrt{2}}\n",
        "$$\n"
      ]
    },
    {
      "cell_type": "markdown",
      "metadata": {
        "id": "oKeTDIm-Rq64"
      },
      "source": [
        "<h3>Solution </h3>"
      ]
    },
    {
      "cell_type": "markdown",
      "metadata": {
        "id": "QXoEAJOCRq64"
      },
      "source": [
        "If our aim is to find out $ x $, then applying a Hadamard gate we can determine whether $ x=0 $ or $ 1 $ depending on the outcome. If the outcome is $ \\ket{0} $, then $ x=0 $ and if the outcome is $ \\ket{1} $, then $ x=1 $."
      ]
    },
    {
      "cell_type": "markdown",
      "metadata": {
        "id": "nvLVe9RVRq64"
      },
      "source": [
        "<a name=\"task3\"></a>\n",
        "### Task 3\n",
        "\n",
        "Pick $t=4$ and implement the phase estimation circuit to estimate $\\phi$.\n",
        "\n",
        "Use your `myInvQFT` method ([see previous notebook](D02_Quantum_Fourier_Transform.ipynb#task9)) for $ QFT^\\dagger $.\n",
        "\n",
        "\n",
        "Note that you should get an exact result since $t=4$ is precise enough."
      ]
    },
    {
      "cell_type": "markdown",
      "metadata": {
        "id": "28gKab5KRq64"
      },
      "source": [
        "<h3>Solution </h3>"
      ]
    },
    {
      "cell_type": "code",
      "execution_count": 2,
      "metadata": {
        "id": "Tlj4dQNNRq64"
      },
      "outputs": [],
      "source": [
        "import cirq\n",
        "from cirq import H, SWAP, CZPowGate\n",
        "from cirq.circuits import InsertStrategy\n",
        "\n",
        "def CU(power, qcontrol, target):\n",
        "    circuit = cirq.Circuit()\n",
        "\n",
        "    circuit.append(CZPowGate(exponent = (2*5/16)*(2**power)).on(qcontrol, *target))\n",
        "    return circuit\n",
        "\n",
        "def myInvQFT(qubits):\n",
        "\n",
        "    circuit = cirq.Circuit() # create a circuit\n",
        "\n",
        "    n = len(qubits)\n",
        "\n",
        "    # swap the qubits\n",
        "    for j in range(n//2): # integer division\n",
        "        circuit.append(SWAP.on(qubits[j],qubits[n-j-1]), strategy = InsertStrategy.NEW)\n",
        "\n",
        "\n",
        "    # inverted phase gates are applied in reverse order and before the hadamard gate\n",
        "\n",
        "    for i in range(n-1,-1,-1):\n",
        "\n",
        "        phase_divisor = 2**(n-i)\n",
        "        for j in range(n-1,i,-1):\n",
        "            circuit.append(CZPowGate(exponent = -2/phase_divisor).on(qubits[j],qubits[i]),\n",
        "                           strategy = InsertStrategy.NEW)\n",
        "            phase_divisor = phase_divisor / 2\n",
        "\n",
        "        circuit.append(H(qubits[i]), strategy = InsertStrategy.NEW) # strategy is for the circuit to look neat\n",
        "\n",
        "    return circuit"
      ]
    },
    {
      "cell_type": "code",
      "execution_count": 3,
      "metadata": {
        "id": "2iFpBzUIRq64",
        "outputId": "1d9a13fd-cf9f-499b-a5e7-9b0cade87141",
        "colab": {
          "base_uri": "https://localhost:8080/"
        }
      },
      "outputs": [
        {
          "output_type": "stream",
          "name": "stdout",
          "text": [
            "0: ───H───────────────────────────────@───\n",
            "                                      │\n",
            "1: ───H───────────────────────@───────┼───\n",
            "                              │       │\n",
            "2: ───H─────────────@─────────┼───────┼───\n",
            "                    │         │       │\n",
            "3: ───H───@─────────┼─────────┼───────┼───\n",
            "          │         │         │       │\n",
            "4: ───X───@^(5/8)───@^-0.75───@^0.5───@───\n",
            "|01011⟩\n",
            "\n",
            "Counter({5: 1000})\n",
            "\n",
            "Counter({'0101': 1000})\n"
          ]
        }
      ],
      "source": [
        "import cirq\n",
        "from cirq import X, measure\n",
        "\n",
        "# Create circuit\n",
        "circuit = cirq.Circuit()\n",
        "\n",
        "t = 4 # Number of qubits in the control register\n",
        "n = 1 # Number of qubits in the register storing eigenvector\n",
        "\n",
        "# Create t control qubits\n",
        "control = [cirq.LineQubit(i) for i in range(t) ]\n",
        "\n",
        "# Create n target qubits\n",
        "target = [cirq.LineQubit(i) for i in range(t,t+n) ]\n",
        "\n",
        "# Apply Hadamard gates to the qubits on the first register (control)\n",
        "circuit.append(cirq.H.on_each(control))\n",
        "\n",
        "# Set the second register (target) to state |1>\n",
        "circuit.append(X.on_each(target))\n",
        "\n",
        "# apply CU^(2^j) operators\n",
        "for j in range(t):\n",
        "    circuit += CU(j, control[t-j-1], target)\n",
        "\n",
        "# print the circuit before InvQFT\n",
        "print(circuit)\n",
        "\n",
        "# the algorithm has been described for the qubit order q0⊗q1⊗q2⊗q3\n",
        "circuit += myInvQFT(control)\n",
        "\n",
        "# Measure\n",
        "circuit.append(measure(*control, key='result'))\n",
        "\n",
        "\n",
        "# Simulate the circuit\n",
        "sim = cirq.Simulator()\n",
        "results_sim = sim.simulate(circuit)\n",
        "circuit_state = results_sim.dirac_notation()\n",
        "\n",
        "print(circuit_state) # circuit state\n",
        "\n",
        "# Execute the circuit\n",
        "samples = sim.run(circuit, repetitions=1000)\n",
        "print()\n",
        "print(samples.histogram(key='result')) # output in decimal form, default in Cirq\n",
        "\n",
        "\n",
        "\n",
        "# default representation in Cirq is with decimal numbers\n",
        "# with this function we convert the decimal numbers into binary (bitstrings)\n",
        "def bitstring(bits):\n",
        "    return \"\".join(str(int(b)) for b in bits)\n",
        "\n",
        "print()\n",
        "print(samples.histogram(key='result', fold_func=bitstring)) # output should be {'0101': 1000} => 5 => phi = 5/16"
      ]
    },
    {
      "cell_type": "markdown",
      "metadata": {
        "id": "bYaitAx-Rq65"
      },
      "source": [
        "The output should be {'0101': 1000} $ \\Rightarrow $ 5 $ \\Rightarrow $ $ \\phi = 5/16 $."
      ]
    },
    {
      "cell_type": "markdown",
      "metadata": {
        "id": "cVVnekP1Rq65"
      },
      "source": [
        "<a name=\"task4\"></a>\n",
        "### Task 4\n",
        "\n",
        "Repeat Task 3 by using only three qubits on the first register ($t=3$).\n",
        "\n",
        "What do you expect to see?"
      ]
    },
    {
      "cell_type": "markdown",
      "metadata": {
        "id": "GdDZ7zeYRq65"
      },
      "source": [
        "<h3>Solution </h3>"
      ]
    },
    {
      "cell_type": "code",
      "execution_count": 4,
      "metadata": {
        "id": "I0qpgyHtRq65"
      },
      "outputs": [],
      "source": [
        "import cirq\n",
        "from cirq import H, SWAP, CZPowGate\n",
        "from cirq.circuits import InsertStrategy\n",
        "\n",
        "def CU(power, qcontrol, target):\n",
        "    circuit = cirq.Circuit()\n",
        "\n",
        "    circuit.append(CZPowGate(exponent = (2*5/16)*(2**power)).on(qcontrol, *target))\n",
        "    return circuit\n",
        "\n",
        "def myInvQFT(qubits):\n",
        "\n",
        "    circuit = cirq.Circuit() # create a circuit\n",
        "\n",
        "    n = len(qubits)\n",
        "\n",
        "    # swap the qubits\n",
        "    for j in range(n//2): # integer division\n",
        "        circuit.append(SWAP.on(qubits[j],qubits[n-j-1]), strategy = InsertStrategy.NEW)\n",
        "\n",
        "\n",
        "    # inverted phase gates are applied in reverse order and before the hadamard gate\n",
        "\n",
        "    for i in range(n-1,-1,-1):\n",
        "\n",
        "        phase_divisor = 2**(n-i)\n",
        "        for j in range(n-1,i,-1):\n",
        "            circuit.append(CZPowGate(exponent = -2/phase_divisor).on(qubits[j],qubits[i]),\n",
        "                           strategy = InsertStrategy.NEW)\n",
        "            phase_divisor = phase_divisor / 2\n",
        "\n",
        "        circuit.append(H(qubits[i]), strategy = InsertStrategy.NEW) # strategy is for the circuit to look neat\n",
        "\n",
        "    return circuit"
      ]
    },
    {
      "cell_type": "code",
      "execution_count": 5,
      "metadata": {
        "id": "2ntg1aBiRq65",
        "outputId": "1f6cbfa0-3299-4933-fdee-4dc5361867af",
        "colab": {
          "base_uri": "https://localhost:8080/"
        }
      },
      "outputs": [
        {
          "output_type": "stream",
          "name": "stdout",
          "text": [
            "0: ───H───────────────────────@───────\n",
            "                              │\n",
            "1: ───H─────────────@─────────┼───────\n",
            "                    │         │\n",
            "2: ───H───@─────────┼─────────┼───────\n",
            "          │         │         │\n",
            "3: ───X───@^(5/8)───@^-0.75───@^0.5───\n",
            "(0.2+0.98j)|0101⟩\n",
            "\n",
            "Counter({2: 435, 3: 394, 4: 51, 1: 44, 6: 22, 5: 20, 0: 17, 7: 17})\n",
            "\n",
            "Counter({'010': 435, '011': 394, '100': 51, '001': 44, '110': 22, '101': 20, '000': 17, '111': 17})\n"
          ]
        }
      ],
      "source": [
        "import cirq\n",
        "from cirq import X, measure\n",
        "\n",
        "# Create circuit\n",
        "circuit = cirq.Circuit()\n",
        "\n",
        "t = 3 # Number of qubits in the control register\n",
        "n = 1 # Number of qubits in the register storing eigenvector\n",
        "\n",
        "# Create t control qubits\n",
        "control = [cirq.LineQubit(i) for i in range(t) ]\n",
        "\n",
        "# Create n target qubits\n",
        "target = [cirq.LineQubit(i) for i in range(t,t+n) ]\n",
        "\n",
        "# Apply Hadamard gates to the qubits on the first register (control)\n",
        "circuit.append(cirq.H.on_each(control))\n",
        "\n",
        "# Set the second register (target) to state |1>\n",
        "circuit.append(X.on_each(target))\n",
        "\n",
        "# apply CU^(2^j) operators\n",
        "for j in range(t):\n",
        "    circuit += CU(j, control[t-j-1], target)\n",
        "\n",
        "# print the circuit before InvQFT\n",
        "print(circuit)\n",
        "\n",
        "# the algorithm has been described for the qubit order q0⊗q1⊗q2\n",
        "circuit += myInvQFT(control)\n",
        "\n",
        "# Measure\n",
        "circuit.append(measure(*control, key='result'))\n",
        "\n",
        "\n",
        "# Simulate the circuit\n",
        "sim = cirq.Simulator()\n",
        "results_sim = sim.simulate(circuit)\n",
        "circuit_state = results_sim.dirac_notation()\n",
        "\n",
        "print(circuit_state) # circuit state\n",
        "\n",
        "# Execute the circuit\n",
        "samples = sim.run(circuit, repetitions=1000)\n",
        "print()\n",
        "print(samples.histogram(key='result')) # output in decimal form, default in Cirq\n",
        "\n",
        "\n",
        "\n",
        "# default representation in Cirq is with decimal numbers\n",
        "# with this function we convert the decimal numbers into binary (bitstrings)\n",
        "def bitstring(bits):\n",
        "    return \"\".join(str(int(b)) for b in bits)\n",
        "\n",
        "print()\n",
        "print(samples.histogram(key='result', fold_func=bitstring)) # output should be {'0101': 1000} => 5 => phi = 5/16"
      ]
    },
    {
      "cell_type": "markdown",
      "metadata": {
        "id": "LsQ8uvj9Rq65"
      },
      "source": [
        "The most frequent outputs should be '010' and '011', which are 2 and 3 in decimal.\n",
        "\n",
        "Thus, $ \\dfrac{2}{8} <  \\phi < \\dfrac{3}{8} \\Rightarrow \\dfrac{4}{16} <  \\phi < \\dfrac{6}{16}  $."
      ]
    },
    {
      "cell_type": "markdown",
      "metadata": {
        "id": "4gv-pQLURq65"
      },
      "source": [
        "<a name=\"task5\"></a>\n",
        "### Task 5\n",
        "\n",
        "Update $ CU $ with $\\phi=0.685$.\n",
        "\n",
        "Repeat Task 3 for different $t$ values between 1 and 10.\n",
        "- Execute your circuits 1000 times.\n",
        "- Pick the outcome with highest frequency.  "
      ]
    },
    {
      "cell_type": "markdown",
      "metadata": {
        "id": "aNbdzXAsRq66"
      },
      "source": [
        "<h3>Solution </h3>"
      ]
    },
    {
      "cell_type": "code",
      "execution_count": 6,
      "metadata": {
        "id": "lzmENRpmRq66"
      },
      "outputs": [],
      "source": [
        "import cirq\n",
        "from cirq import H, SWAP, CZPowGate\n",
        "from cirq.circuits import InsertStrategy\n",
        "\n",
        "def CU(power, qcontrol, target):\n",
        "    circuit = cirq.Circuit()\n",
        "\n",
        "    circuit.append(CZPowGate(exponent = (2*0.685)*(2**power)).on(qcontrol, *target))\n",
        "    return circuit\n",
        "\n",
        "def myInvQFT(qubits):\n",
        "\n",
        "    circuit = cirq.Circuit() # create a circuit\n",
        "\n",
        "    n = len(qubits)\n",
        "\n",
        "    # swap the qubits\n",
        "    for j in range(n//2): # integer division\n",
        "        circuit.append(SWAP.on(qubits[j],qubits[n-j-1]), strategy = InsertStrategy.NEW)\n",
        "\n",
        "\n",
        "    # inverted phase gates are applied in reverse order and before the hadamard gate\n",
        "\n",
        "    for i in range(n-1,-1,-1):\n",
        "\n",
        "        phase_divisor = 2**(n-i)\n",
        "        for j in range(n-1,i,-1):\n",
        "            circuit.append(CZPowGate(exponent = -2/phase_divisor).on(qubits[j],qubits[i]),\n",
        "                           strategy = InsertStrategy.NEW)\n",
        "            phase_divisor = phase_divisor / 2\n",
        "\n",
        "        circuit.append(H(qubits[i]), strategy = InsertStrategy.NEW) # strategy is for the circuit to look neat\n",
        "\n",
        "    return circuit"
      ]
    },
    {
      "cell_type": "code",
      "execution_count": 7,
      "metadata": {
        "id": "c6mtHx82Rq66",
        "outputId": "34690705-965c-4c88-d213-ad5cf459ecca",
        "colab": {
          "base_uri": "https://localhost:8080/"
        }
      },
      "outputs": [
        {
          "output_type": "stream",
          "name": "stdout",
          "text": [
            "1 : phi is 0.5\n",
            "2 : phi is 0.5\n",
            "3 : phi is 0.625\n",
            "4 : phi is 0.6875\n",
            "5 : phi is 0.6875\n",
            "6 : phi is 0.6875\n",
            "7 : phi is 0.7890625\n",
            "8 : phi is 0.68359375\n",
            "9 : phi is 0.685546875\n",
            "10 : phi is 0.6845703125\n"
          ]
        }
      ],
      "source": [
        "import cirq\n",
        "from cirq import X, measure\n",
        "\n",
        "for t in range(1,11):\n",
        "\n",
        "    # Create circuit\n",
        "    circuit = cirq.Circuit()\n",
        "\n",
        "    #t = t # Number of qubits in the control register\n",
        "    n = 1 # Number of qubits in the register storing eigenvector\n",
        "\n",
        "    # Create t control qubits\n",
        "    control = [cirq.LineQubit(i) for i in range(t) ]\n",
        "\n",
        "    # Create n target qubits\n",
        "    target = [cirq.LineQubit(i) for i in range(t,t+n) ]\n",
        "\n",
        "    # Apply Hadamard gates to the qubits on the first register (control)\n",
        "    circuit.append(cirq.H.on_each(control))\n",
        "\n",
        "    # Set the second register (target) to state |1>\n",
        "    circuit.append(X.on_each(target))\n",
        "\n",
        "    # apply CU^(2^j) operators\n",
        "    for j in range(t):\n",
        "        circuit += CU(j, control[t-j-1], target)\n",
        "\n",
        "    # the algorithm has been described for the qubit order q0⊗q1⊗q2⊗q3\n",
        "    circuit += myInvQFT(control)\n",
        "\n",
        "    # Measure\n",
        "    circuit.append(measure(*control, key='result'))\n",
        "\n",
        "    # Execute the circuit\n",
        "    sim = cirq.Simulator()\n",
        "    samples = sim.run(circuit, repetitions=1000)\n",
        "\n",
        "    #Most frequent observation\n",
        "    freq = list(samples.histogram(key='result').keys())[0]\n",
        "    print(t,\": phi is\", freq/2**t)\n"
      ]
    },
    {
      "cell_type": "markdown",
      "metadata": {
        "id": "Vb0ZtEHtRq66"
      },
      "source": [
        "<a name=\"task6\"></a>\n",
        "### Task 6\n",
        "\n",
        "Repeat Task 5 for $ CU2 $ and $ \\ket{11} $.\n",
        "\n",
        "_The unknown $ \\phi = 0.31415926535 $._"
      ]
    },
    {
      "cell_type": "markdown",
      "metadata": {
        "id": "h0WWuX7xRq66"
      },
      "source": [
        "<h3>Solution </h3>"
      ]
    },
    {
      "cell_type": "code",
      "execution_count": 8,
      "metadata": {
        "id": "j73_z5BvRq66"
      },
      "outputs": [],
      "source": [
        "import cirq\n",
        "from cirq import H, SWAP, CZPowGate\n",
        "from cirq.circuits import InsertStrategy\n",
        "\n",
        "def CU2(power, qcontrol, target):\n",
        "    circuit = cirq.Circuit()\n",
        "\n",
        "    circuit.append(CZPowGate(exponent = (2*0.31415926535)*(2**power)).controlled().on(qcontrol, *target))\n",
        "    return circuit\n",
        "\n",
        "def myInvQFT(qubits):\n",
        "\n",
        "    circuit = cirq.Circuit() # create a circuit\n",
        "\n",
        "    n = len(qubits)\n",
        "\n",
        "    # swap the qubits\n",
        "    for j in range(n//2): # integer division\n",
        "        circuit.append(SWAP.on(qubits[j],qubits[n-j-1]), strategy = InsertStrategy.NEW)\n",
        "\n",
        "\n",
        "    # inverted phase gates are applied in reverse order and before the hadamard gate\n",
        "\n",
        "    for i in range(n-1,-1,-1):\n",
        "\n",
        "        phase_divisor = 2**(n-i)\n",
        "        for j in range(n-1,i,-1):\n",
        "            circuit.append(CZPowGate(exponent = -2/phase_divisor).on(qubits[j],qubits[i]),\n",
        "                           strategy = InsertStrategy.NEW)\n",
        "            phase_divisor = phase_divisor / 2\n",
        "\n",
        "        circuit.append(H(qubits[i]), strategy = InsertStrategy.NEW) # strategy is for the circuit to look neat\n",
        "\n",
        "    return circuit"
      ]
    },
    {
      "cell_type": "code",
      "execution_count": 9,
      "metadata": {
        "id": "Lx-FVClERq66",
        "outputId": "8bf5f96e-dad2-4ddd-b9d7-4f33ed1b1d1f",
        "colab": {
          "base_uri": "https://localhost:8080/"
        }
      },
      "outputs": [
        {
          "output_type": "stream",
          "name": "stdout",
          "text": [
            "1 : phi is 0.0\n",
            "2 : phi is 0.5\n",
            "3 : phi is 0.25\n",
            "4 : phi is 0.3125\n",
            "5 : phi is 0.3125\n",
            "6 : phi is 0.3125\n",
            "7 : phi is 0.3125\n",
            "8 : phi is 0.328125\n",
            "9 : phi is 0.314453125\n",
            "10 : phi is 0.314453125\n"
          ]
        }
      ],
      "source": [
        "import cirq\n",
        "from cirq import X, measure\n",
        "\n",
        "for t in range(1,11):\n",
        "\n",
        "    # Create circuit\n",
        "    circuit = cirq.Circuit()\n",
        "\n",
        "    #t = t # Number of qubits in the control register\n",
        "    n = 2 # Number of qubits in the register storing eigenvector\n",
        "\n",
        "    # Create t control qubits\n",
        "    control = [cirq.LineQubit(i) for i in range(t) ]\n",
        "\n",
        "    # Create n target qubits\n",
        "    target = [cirq.LineQubit(i) for i in range(t,t+n) ]\n",
        "\n",
        "    # Apply Hadamard gates to the qubits on the first register (control)\n",
        "    circuit.append(cirq.H.on_each(control))\n",
        "\n",
        "    # Set the second register (target) to state |11>\n",
        "    circuit.append(X.on_each(target))\n",
        "\n",
        "    # apply CU^(2^j) operators\n",
        "    for j in range(t):\n",
        "        circuit += CU2(j, control[t-j-1], target)\n",
        "\n",
        "    # the algorithm has been described for the qubit order q0⊗q1⊗q2⊗q3\n",
        "    circuit += myInvQFT(control)\n",
        "\n",
        "    # Measure\n",
        "    circuit.append(measure(*control, key='result'))\n",
        "\n",
        "    # Execute the circuit\n",
        "    sim = cirq.Simulator()\n",
        "    samples = sim.run(circuit, repetitions=1000)\n",
        "\n",
        "    #Most frequent observation\n",
        "    freq = list(samples.histogram(key='result').keys())[0]\n",
        "    print(t,\": phi is\", freq/2**t)\n"
      ]
    },
    {
      "cell_type": "markdown",
      "metadata": {
        "id": "0RlDTMXWRq66"
      },
      "source": [
        "_The unknown $ \\phi = 0.31415926535 $._"
      ]
    }
  ],
  "metadata": {
    "kernelspec": {
      "display_name": "Python 3 (ipykernel)",
      "language": "python",
      "name": "python3"
    },
    "language_info": {
      "codemirror_mode": {
        "name": "ipython",
        "version": 3
      },
      "file_extension": ".py",
      "mimetype": "text/x-python",
      "name": "python",
      "nbconvert_exporter": "python",
      "pygments_lexer": "ipython3",
      "version": "3.11.4"
    },
    "colab": {
      "provenance": [],
      "collapsed_sections": [
        "HvRhJulsRq63"
      ],
      "include_colab_link": true
    }
  },
  "nbformat": 4,
  "nbformat_minor": 0
}