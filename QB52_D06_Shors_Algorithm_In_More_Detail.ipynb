{
  "cells": [
    {
      "cell_type": "markdown",
      "metadata": {
        "id": "view-in-github",
        "colab_type": "text"
      },
      "source": [
        "<a href=\"https://colab.research.google.com/github/james-lucius/qworld/blob/main/QB52_D06_Shors_Algorithm_In_More_Detail.ipynb\" target=\"_parent\"><img src=\"https://colab.research.google.com/assets/colab-badge.svg\" alt=\"Open In Colab\"/></a>"
      ]
    },
    {
      "cell_type": "markdown",
      "metadata": {
        "id": "NMx7C1Cwo1Sd"
      },
      "source": [
        "<a href=\"https://qworld.net\" target=\"_blank\" align=\"left\"><img src=\"https://gitlab.com/qworld/qeducation/qbook101/raw/main/qworld/images/header.jpg\" align=\"left\"></a>\n",
        "$ \\newcommand{\\bra}[1]{\\langle #1|} $\n",
        "$ \\newcommand{\\ket}[1]{|#1\\rangle} $\n",
        "$ \\newcommand{\\braket}[2]{\\langle #1|#2\\rangle} $\n",
        "$ \\newcommand{\\dot}[2]{ #1 \\cdot #2} $\n",
        "$ \\newcommand{\\biginner}[2]{\\left\\langle #1,#2\\right\\rangle} $\n",
        "$ \\newcommand{\\mymatrix}[2]{\\left( \\begin{array}{#1} #2\\end{array} \\right)} $\n",
        "$ \\newcommand{\\myvector}[1]{\\mymatrix{c}{#1}} $\n",
        "$ \\newcommand{\\myrvector}[1]{\\mymatrix{r}{#1}} $\n",
        "$ \\newcommand{\\mypar}[1]{\\left( #1 \\right)} $\n",
        "$ \\newcommand{\\mybigpar}[1]{ \\Big( #1 \\Big)} $\n",
        "$ \\newcommand{\\sqrttwo}{\\frac{1}{\\sqrt{2}}} $\n",
        "$ \\newcommand{\\dsqrttwo}{\\dfrac{1}{\\sqrt{2}}} $\n",
        "$ \\newcommand{\\onehalf}{\\frac{1}{2}} $\n",
        "$ \\newcommand{\\donehalf}{\\dfrac{1}{2}} $\n",
        "$ \\newcommand{\\hadamard}{ \\mymatrix{rr}{ \\sqrttwo & \\sqrttwo \\\\ \\sqrttwo & -\\sqrttwo }} $\n",
        "$ \\newcommand{\\vzero}{\\myvector{1\\\\0}} $\n",
        "$ \\newcommand{\\vone}{\\myvector{0\\\\1}} $\n",
        "$ \\newcommand{\\stateplus}{\\myvector{ \\sqrttwo \\\\  \\sqrttwo } } $\n",
        "$ \\newcommand{\\stateminus}{ \\myrvector{ \\sqrttwo \\\\ -\\sqrttwo } } $\n",
        "$ \\newcommand{\\myarray}[2]{ \\begin{array}{#1}#2\\end{array}} $\n",
        "$ \\newcommand{\\X}{ \\mymatrix{cc}{0 & 1 \\\\ 1 & 0}  } $\n",
        "$ \\newcommand{\\Z}{ \\mymatrix{rr}{1 & 0 \\\\ 0 & -1}  } $\n",
        "$ \\newcommand{\\Htwo}{ \\mymatrix{rrrr}{ \\frac{1}{2} & \\frac{1}{2} & \\frac{1}{2} & \\frac{1}{2} \\\\ \\frac{1}{2} & -\\frac{1}{2} & \\frac{1}{2} & -\\frac{1}{2} \\\\ \\frac{1}{2} & \\frac{1}{2} & -\\frac{1}{2} & -\\frac{1}{2} \\\\ \\frac{1}{2} & -\\frac{1}{2} & -\\frac{1}{2} & \\frac{1}{2} } } $\n",
        "$ \\newcommand{\\CNOT}{ \\mymatrix{cccc}{1 & 0 & 0 & 0 \\\\ 0 & 1 & 0 & 0 \\\\ 0 & 0 & 0 & 1 \\\\ 0 & 0 & 1 & 0} } $\n",
        "$ \\newcommand{\\norm}[1]{ \\left\\lVert #1 \\right\\rVert } $\n",
        "$ \\newcommand{\\pstate}[1]{ \\lceil \\mspace{-1mu} #1 \\mspace{-1.5mu} \\rfloor } $\n",
        "$ \\newcommand{\\Y}{ \\mymatrix{rr}{0 & -i \\\\ i & 0} } $\n",
        "$ \\newcommand{\\S}{ \\mymatrix{rr}{1 & 0 \\\\ 0 & i} } $\n",
        "$ \\newcommand{\\T}{ \\mymatrix{rr}{1 & 0 \\\\ 0 & e^{i \\frac{\\pi}{4}}} } $\n",
        "$ \\newcommand{\\Sdg}{ \\mymatrix{rr}{1 & 0 \\\\ 0 & -i} } $\n",
        "$ \\newcommand{\\Tdg}{ \\mymatrix{rr}{1 & 0 \\\\ 0 & e^{-i \\frac{\\pi}{4}}} } $\n",
        "$ \\newcommand{\\qgate}[1]{ \\mathop{\\textit{#1} } }$\n",
        "$\\newcommand{\\Mod}[1]{\\ (\\mathrm{mod}\\ #1)}$"
      ]
    },
    {
      "cell_type": "markdown",
      "metadata": {
        "id": "kwm2jS_qo1Se"
      },
      "source": [
        "_prepared by Özlem Salehi_"
      ]
    },
    {
      "cell_type": "markdown",
      "metadata": {
        "id": "DwhzL-Sco1Se"
      },
      "source": [
        "<font size=\"28px\" style=\"font-size:28px;\" align=\"left\"><b> Shor's Algorithm in More Detail </b></font>\n",
        "<br>\n",
        "<br><br>"
      ]
    },
    {
      "cell_type": "markdown",
      "metadata": {
        "jp-MarkdownHeadingCollapsed": true,
        "id": "XgfOuK90o1Se"
      },
      "source": [
        "##### <font color=\"#08b806\">Please execute the following cell, it is necessary to distinguish between your local environment and Google Colab's"
      ]
    },
    {
      "cell_type": "code",
      "execution_count": 1,
      "metadata": {
        "id": "IHODDaYFo1Se"
      },
      "outputs": [],
      "source": [
        "import IPython\n",
        "\n",
        "def in_colab():\n",
        "    try:\n",
        "        import google.colab\n",
        "        return True\n",
        "    except:\n",
        "        return False\n",
        "\n",
        "SolutionToTask1 = lambda: IPython.display.display(IPython.display.Javascript('window.open(\"{url}\");'.format(url='https://colab.research.google.com/drive/1wBpzuoA4TuWD4br5sDkC1wDspBMRoon7?usp=sharing#scrollTo=mPyxM1tqn5fQ' if in_colab() else 'QB52_D06_Shors_Algorithm_In_More_Detail_Solutions.ipynb#task1')))"
      ]
    },
    {
      "cell_type": "markdown",
      "metadata": {
        "id": "lDb_5MlYo1Sf"
      },
      "source": [
        "##### In this notebook we will analyze Shor's algorithm step by step to gain more intuition. Let's start by examining the phase estimation and order finding stages in more detail, in the context of factoring problem."
      ]
    },
    {
      "cell_type": "markdown",
      "metadata": {
        "id": "5VhnpCh9o1Sf"
      },
      "source": [
        "<h2>More about phase estimation circuit</h2>\n",
        "\n",
        "Recall the controlled operations in the phase estimation circuit. We will examine the effect of applying a series of controlled $ U $ operators. Let $ U $ be an operator with eigenvector $ \\ket{\\psi} $ and the corresponding eigenvalue $ e^{2\\pi i \\phi } $."
      ]
    },
    {
      "cell_type": "markdown",
      "metadata": {
        "id": "9BQYXlwRo1Sf"
      },
      "source": [
        " <img src=\"https://gitlab.com/qworld/qeducation/qbook101/raw/main/qbook101/images/ch5/phase.png\" width=\"50%\" align=\"center\">\n",
        "         "
      ]
    },
    {
      "cell_type": "markdown",
      "metadata": {
        "id": "Hcpx4XW1o1Sf"
      },
      "source": [
        "We start with the initial state $ \\ket{0}^{\\otimes t}\\ket{\\psi}$."
      ]
    },
    {
      "cell_type": "markdown",
      "metadata": {
        "id": "MqqblKyeo1Sf"
      },
      "source": [
        "After applying Hadamard to first register we get $ \\displaystyle \\frac{1}{2^{t/2}} \\sum_{k=0}^{2^t-1} \\ket{k}\\ket{\\psi}  $."
      ]
    },
    {
      "cell_type": "markdown",
      "metadata": {
        "id": "Ojr3UPJuo1Sf"
      },
      "source": [
        "Let $ k=k_1 \\cdots k_t $ be the state of the first register. Let's apply the first controlled gate, $ CU^{2^0} $ where qubit $t$ is the control.\n",
        "\n",
        "If $ k_t=0 $, new state is  $\\ket{k} \\ket{\\psi} $. If $ k_t=1 $, new state is $ e^{2\\pi i \\phi 2^0} \\ket{k} \\ket{\\psi} $.\n",
        "\n",
        "Hence, we can write it as, $\\ket{k} U^{k_t 2 ^0} \\ket{\\psi}.$\n"
      ]
    },
    {
      "cell_type": "markdown",
      "metadata": {
        "id": "u5RPuHAHo1Sf"
      },
      "source": [
        "<h3>Task 1 (on paper)</h3>\n",
        "\n",
        "Show that after applying the controlled $U^{2^j}$ gates for $j=0,\\dots,t-1$, the state obtained can be expressed as $\\displaystyle \\frac{1}{2^{t/2}} \\sum_{k=0}^{2^t-1} \\ket{k}U^k\\ket{\\psi}$."
      ]
    },
    {
      "cell_type": "markdown",
      "metadata": {
        "id": "-HOp5AjMo1Sf"
      },
      "source": [
        "To check out our solution, run the next cell:"
      ]
    },
    {
      "cell_type": "code",
      "execution_count": 2,
      "metadata": {
        "id": "CalN5E4Vo1Sf",
        "outputId": "286622e8-ecc7-43df-a311-401b2b264ace",
        "colab": {
          "base_uri": "https://localhost:8080/",
          "height": 37
        }
      },
      "outputs": [
        {
          "output_type": "display_data",
          "data": {
            "text/plain": [
              "<IPython.core.display.Javascript object>"
            ],
            "application/javascript": [
              "window.open(\"https://colab.research.google.com/drive/1wBpzuoA4TuWD4br5sDkC1wDspBMRoon7?usp=sharing#scrollTo=mPyxM1tqn5fQ\");"
            ]
          },
          "metadata": {}
        }
      ],
      "source": [
        "SolutionToTask1()  # show solution for task 1"
      ]
    },
    {
      "cell_type": "markdown",
      "metadata": {
        "id": "calNDM_7o1Sf"
      },
      "source": [
        "As you can see, we have transformed the quantum state $\\displaystyle \\frac{1}{2^{t/2}} \\sum_{k=0}^{2^t-1} \\ket{k}\\ket{\\psi}$ into the state $\\displaystyle \\frac{1}{2^{t/2}} \\sum_{k=0}^{2^t-1} \\ket{k}U^k\\ket{\\psi}$ after applying the controlled $U$ gates."
      ]
    },
    {
      "cell_type": "markdown",
      "metadata": {
        "id": "8dXapMpZo1Sf"
      },
      "source": [
        "<h2>Order finding revisited</h2>\n",
        "\n",
        "Now let's see what happens in the case of order finding algorithm. Recall the definition of $ U $.\n",
        "\n",
        "$\n",
        "U \\ket{y} \\rightarrow \\ket{xy \\Mod{N}}\n",
        "$"
      ]
    },
    {
      "cell_type": "markdown",
      "metadata": {
        "id": "Xl4Xh9Yco1Sf"
      },
      "source": [
        "Combining with what we have deduced above, in Shor's algorithm after the controlled operations our quantum states look like\n",
        "\n",
        "$ \\displaystyle\n",
        "\\frac{1}{{2^{t/2}}}\\sum_{k=0}^{{2^t}-1}\\ket{k}\\ket{1} \\rightarrow \t \\frac{1}{2^{t/2}} \\sum_{k=0}^{2^t-1} \\ket{k}\\ket{x^k \\Mod{N}}.\n",
        "$\n",
        "\n",
        "Note that since $x^r \\Mod{N}=1$, the second register will be in a superposition of integers which are periodic. In the rest of the discussion, we will omit the multiplers.\n",
        "\n",
        "$\\ket{x^0 \\Mod{N}}+\\ket{x^1 \\Mod{N}}+ \\ket{x^2 \\Mod{N}}+\\cdots +\\ket{x^r \\Mod{N}}+\\ket{x^{r+1} \\Mod{N}}+\\ket{x^{r+2} \\Mod{N}}+ \\cdots+ \\ket{x^{2^t -1} \\Mod{N}}$\n",
        "\n",
        "$$=\\ket{1}+\\ket{x}+\\ket{x^2 \\Mod{N}}+\\cdots +\\ket{1}+\\ket{x}+\\ket{x^2 \\Mod{N}} + \\cdots$$\n",
        "\n",
        "Let's express the state of both registers.\n",
        "\n",
        "$$\\ket{0}\\ket{1}+\\ket{1}\\ket{x}+\\ket{2}\\ket{x^2 \\Mod{N}}+\\cdots +\\ket{r}\\ket{1}+\\ket{r+1}\\ket{x}+\\ket{r+2}\\ket{x^2 \\Mod{N}} + \\cdots$$\n",
        "\n",
        "At this stage let's measure the second register and say that $\\ket{j}$ is observed. Then the first register will be holding integers $\\ket{k}$ such that $x^k \\Mod{N} = j$. Hence, the first register will be in the following superposition:\n",
        "\n",
        "$$\\ket{x_0}+ \\ket{x_0+r}+ \\ket{x_0+2r}+ \\ket{x_0+3r} + \\cdots  $$"
      ]
    },
    {
      "cell_type": "markdown",
      "metadata": {
        "id": "yxmOPrAGo1Sf"
      },
      "source": [
        "Recall that in the Discrete Fourier Transform notebook, we had observed that when $DFT$ was applied on a periodic list of size $N$ with period $r$, then the transformed list had peaks around integer multiples of $N/r$.\n",
        "\n",
        "The same happens here. We apply inverse $QFT$ to the first register and end up with states of the following form in the first register.\n",
        "\n",
        "$$\n",
        "\\ket{0} + \\ket{2^t/r} + \\ket{2 \\cdot 2^t/r} + \\ket{3 \\cdot 2^t/r} + \\cdots\n",
        "$$"
      ]
    },
    {
      "cell_type": "markdown",
      "metadata": {
        "id": "c2BUfBiXo1Sf"
      },
      "source": [
        "When we measure the first register, we observe $s\\cdot 2^t /r$ for some $s$. Hence by dividing with $2^t$, we obtain an estimate for $\\frac{s}{r}$, from which we extract $r$ by continued fractions algorithm."
      ]
    },
    {
      "cell_type": "markdown",
      "metadata": {
        "id": "Og9Ruhu2o1Sf"
      },
      "source": [
        "<h2>Summary</h2>\n",
        "\n",
        "- Start with the state\n",
        "$ \\ket{0}\\ket{1} .$\n",
        "\n",
        "- Apply Hadamard to first register.\n",
        "\n",
        "$\\displaystyle \\frac{1}{\\sqrt{2^t}} \\sum_{k=0}^{2^t-1} \\ket{k}\\ket{1}$\n",
        "\n",
        "- Apply controlled operations.\n",
        "\n",
        "$\n",
        "  \\displaystyle \\frac{1}{\\sqrt{2^t}} \\sum_{k=0}^{2^t-1} \\ket{k}\\ket{x^k \\Mod{N}}\n",
        "$\n",
        "\n",
        "- Measure the second register and continue with the first register.\n",
        "\n",
        "$\n",
        "\\displaystyle \\sqrt{\\frac{r}{2^t}} \\sum_{x=0}^{2^t/r -1} \\ket{x_0+xr}\n",
        "$\n",
        "\n",
        "- Apply inverse $QFT$ to the first register.\n",
        "\n",
        "$\n",
        "\\displaystyle \\sqrt{\\frac{r}{2^t}} \\sum_{k=0}^{2^t-1} \\frac{1}{\\sqrt{2^{t} } }\n",
        "\\sum_{x=0}^{2^t/r-1}  e^{-\\frac{2\\pi i(rx+x_0)k}{2^t}} \\ket{k}\n",
        "$\n",
        "\n",
        "- Measure the first register. Divide the state you observe by $2^t$ and apply continued fractions algorithm."
      ]
    },
    {
      "cell_type": "markdown",
      "metadata": {
        "id": "5xEDIyZao1Sf"
      },
      "source": [
        "Let's analyze the last step in more detail. Probability of observing a particular state $ \\ket{k} $ is given by $\n",
        "\\displaystyle  \\frac{1}{r} \\left | \\frac{r}{2^t}  \\sum_{x=0}^{2^t/r-1}   e^{-\\frac{2\\pi irxk}{ {2^t}}  }  \\right |^2.\n",
        "$"
      ]
    },
    {
      "cell_type": "markdown",
      "metadata": {
        "id": "EKAjzheXo1Sg"
      },
      "source": [
        "\n",
        "Let's run a python code to plot these probabilities in particular case of $r=6$ and $t=11$."
      ]
    },
    {
      "cell_type": "code",
      "execution_count": 3,
      "metadata": {
        "id": "9Fd-65pLo1Sg"
      },
      "outputs": [],
      "source": [
        "import math\n",
        "from math import pi\n",
        "from cmath import exp\n",
        "\n",
        "r=6\n",
        "t=11\n",
        "probabilities=[]\n",
        "s=0\n",
        "for k in range(2**t):\n",
        "    for x in range(math.ceil((2**t)/r)):\n",
        "        s+=exp(-(2*pi*1j*r*x*k)/(2**t))\n",
        "    s*=r/(2**t)\n",
        "    s=((abs(s))**2)/r\n",
        "    probabilities.append(s)"
      ]
    },
    {
      "cell_type": "code",
      "execution_count": 4,
      "metadata": {
        "id": "lQBRvc4Yo1Sg",
        "outputId": "f683fece-31cf-40f2-e0cb-030fa824f4cc",
        "colab": {
          "base_uri": "https://localhost:8080/",
          "height": 474
        }
      },
      "outputs": [
        {
          "output_type": "display_data",
          "data": {
            "text/plain": [
              "<Figure size 640x480 with 1 Axes>"
            ],
            "image/png": "[encoded data removed]"
          },
          "metadata": {}
        }
      ],
      "source": [
        "import matplotlib.pyplot as plt\n",
        "plt.plot(probabilities)\n",
        "plt.ylabel('Probability of oberving state k')\n",
        "plt.xlabel('k')\n",
        "plt.show()"
      ]
    },
    {
      "cell_type": "markdown",
      "metadata": {
        "id": "TEP-NWAwo1Sg"
      },
      "source": [
        "\n",
        "Probability peaks around the integer multiples of $2^t/r $ so that with probability (approximately) $ \\frac{1}{r} $, one of the states $ \\ket{s \\cdot  2^t/r} $ is observed for $ s=0,\\dots,r-1 $."
      ]
    },
    {
      "cell_type": "code",
      "execution_count": 5,
      "metadata": {
        "id": "A0JBPsl9o1Sg",
        "outputId": "a7e297d5-8e48-4b49-9ae8-5e572bd77288",
        "colab": {
          "base_uri": "https://localhost:8080/"
        }
      },
      "outputs": [
        {
          "output_type": "stream",
          "name": "stdout",
          "text": [
            "Observed states:\n",
            "0\n",
            "341\n",
            "683\n",
            "1024\n",
            "1365\n",
            "1707\n"
          ]
        }
      ],
      "source": [
        "print(\"Observed states:\")\n",
        "for s in range (6):\n",
        "    print(round(s*2**t/r))"
      ]
    },
    {
      "cell_type": "markdown",
      "metadata": {
        "id": "I2VnzrgGo1Sg"
      },
      "source": [
        "$ \\dfrac{s \\cdot 2^t/r}{2^t} $ is an estimate for $ \\dfrac{s}{r} $ and we apply continued fractions algorithm to extract $ r $.\n",
        "\n"
      ]
    },
    {
      "cell_type": "markdown",
      "metadata": {
        "id": "dmDKoOJCo1Sg"
      },
      "source": [
        "# Shor's Algorithm Revisited"
      ]
    },
    {
      "cell_type": "markdown",
      "metadata": {
        "id": "aFtr2ETEo1Sg"
      },
      "source": [
        "Now combining what we have seen so far, we will go over Shor's Algorithm step by step to understand what is happening behind. Let's recall the algorithm."
      ]
    },
    {
      "cell_type": "markdown",
      "metadata": {
        "id": "J3aag-ypo1Sg"
      },
      "source": [
        "<h2>Algorithm</h2>\n",
        "\n",
        "- Pick $x$ randomly in the range $1$ to $N-1$, such that $gcd(x,N)=1$.\n",
        "- Use order finding algorithm to find order of $x\\Mod{N}$, which will be denoted by $r$.\n",
        "- If $r$ is even, and $x^{r/2} \\neq -1 \\Mod{N}$, then compute $gcd(x^{r/2} -1, N)$ and  $gcd(x^{r/2}+1, N)$.\n",
        "- Test to see if one of these is a non-trivial factor. If so return, otherwise the algorithm fails. If that is the case, repeat."
      ]
    },
    {
      "cell_type": "markdown",
      "metadata": {
        "id": "f5TpAxo1o1Sg"
      },
      "source": [
        "As we have discussed previously, Shor's algorithm uses order finding algorithm which is a special case of quantum phase estimation where the operator whose phase is estimated is $ U_x \\ket{y} \\rightarrow \\ket{xy {\\Mod{N}}}$."
      ]
    },
    {
      "cell_type": "markdown",
      "metadata": {
        "id": "sGYBIrhDo1Sg"
      },
      "source": [
        "<h3>Factoring 15</h3>"
      ]
    },
    {
      "cell_type": "markdown",
      "metadata": {
        "id": "aRKjLRueo1Sg"
      },
      "source": [
        "- We choose a random $x<N$ which is co-prime with $15$. For this example, let us pick $x=7$. However it is important to mention that it can be the case that this randomly chosen $x$ may not work. For the ease of demonstration we have chosen a value which will work."
      ]
    },
    {
      "cell_type": "markdown",
      "metadata": {
        "id": "kTvJXQloo1Sg"
      },
      "source": [
        "- We will compute the order of $7 \\Mod{15}$, using the order finding algorithm. $ L=4 $, $\\varepsilon = 0.1$ and $t=2L+1+\\left \\lceil \\log \\left (2 + \\frac{1}{2\\varepsilon} \\right) \\right \\rceil =12$."
      ]
    },
    {
      "cell_type": "markdown",
      "metadata": {
        "id": "Nvg9VO7_o1Sg"
      },
      "source": [
        "- Let's begin with $\\ket{0} \\ket{1}$. Instead of binary representation of the states, we will use integer representations.  Applying Hadamard to first register we get:\n",
        "\n",
        "\\begin{align*}\n",
        "\\frac{1}{\\sqrt{2^{12}}} \\sum_{k=0}^{2^{12}-1} \\ket{k}\\ket{1} =\\frac{1}{\\sqrt{2^{12}}} \\bigl (\\ket{0} \\ket{1}+\\ket{1}\\ket{1}+\\ket{2}\\ket{1}+\\cdots+\\ket{2^{12}-1} \\ket{1} \\bigr )\n",
        "\\end{align*}\n",
        "\n",
        "- Noting that $y$ is equal to $1$, after applying the controlled operations we get:\n",
        "\n",
        "\\begin{align*}\n",
        "&\\frac{1}{\\sqrt{2^{12}}} \\sum_{k=0}^{2^{12}-1} \\ket{k}\\ket{x^k \\Mod{N}}\\\\\n",
        "=&\\frac{1}{\\sqrt{2^{12}}}\\bigl (\\ket{0}\\ket{1}+\\ket{1}\\ket{7}+\\ket{2}\\ket{4}+\\ket{3}\\ket{13}+\\ket{4}\\ket{1}+\\ket{5}\\ket{7}+\\ket{6}\\ket{4}+\\cdots+\\ket{2^{12}-1}\\ket{\\cdots} \\bigr )\n",
        "\\end{align*}"
      ]
    },
    {
      "cell_type": "markdown",
      "metadata": {
        "id": "_p3DNO01o1Sg"
      },
      "source": [
        "At this stage we should apply $QFT^{\\dagger}$ to the first register and measure it. After this procedure, second register will be in one of the states  $\\ket{1},\\ket{7},\\ket{4},\\ket{13}$.\n",
        "\n",
        "To be able to analyze the effect of $QFT^{\\dagger}$ better, let's measure the second register before applying $QFT^{\\dagger}$ to the first register. Let's suppose that the second register is in state $\\ket{4}$ after the measurement."
      ]
    },
    {
      "cell_type": "markdown",
      "metadata": {
        "id": "hELoUjr9o1Sg"
      },
      "source": [
        "The first register looks like the following:\n",
        "\n",
        "\\begin{align}\n",
        "\\sqrt{\\frac{4}{2^{12}}}\\bigl(\\ket{2}+\\ket{6}+\\ket{10}+\\ket{14}+\\cdots + \\ket{4094}\\bigr).\n",
        "\\end{align}"
      ]
    },
    {
      "cell_type": "markdown",
      "metadata": {
        "id": "BXupnqXlo1Sg"
      },
      "source": [
        "Note that in our case, $ r $ is a power of 2 and we have exactly $\\frac{2^{12}}{2^2}  $ states in the above sum. We can also express the above state as follows. This is also the quantum state to which $QFT^{\\dagger}$ is applied.\n",
        "\n",
        "$$\n",
        "\\frac{1}{\\sqrt{2^{10}}} \\sum_{x=0}^{2^{10}-1} \\ket{4x +2}\n",
        "$$\n",
        "\n"
      ]
    },
    {
      "cell_type": "markdown",
      "metadata": {
        "id": "ZAKSGEQfo1Sg"
      },
      "source": [
        "Now let's try to understand the effects of ${QFT}^{\\dagger}$ on the first register. But first let's remember the definition.\n",
        "\n",
        "$$\n",
        "{QFT}^{\\dagger} \\ket{j} = \\frac{1}{\\sqrt{2^t}} \\sum_{k=0}^{2^{t}-1} e^{-\\frac{2\\pi ijk}{2^t}} \\ket{k}\\\\\n",
        "$$\n"
      ]
    },
    {
      "cell_type": "markdown",
      "metadata": {
        "id": "dxRnUhTvo1Sh"
      },
      "source": [
        "After applying ${QFT}^{\\dagger}$, amplitude of a specific state $ \\ket{k} $ will be the summation of the amplitudes obtained after applying $\\displaystyle {QFT}^{\\dagger}$ to each state in the superposition $\\frac{1}{\\sqrt{2^{10}}} \\sum_{x=0}^{2^{10}-1} \\ket{4x +2}$. For instance, let's apply ${QFT}^{\\dagger}$ to $ \\ket{2} $."
      ]
    },
    {
      "cell_type": "markdown",
      "metadata": {
        "id": "Cbo3Zoqpo1Sh"
      },
      "source": [
        "\\begin{align*}\n",
        "{QFT}^{\\dagger} \\ket{2} = &\\ket{0} + e^{-\\frac{2\\pi i\\cdot2}{4096}} \\ket{1} +e^{-\\frac{2\\pi i\\cdot2\\cdot2}{4096}} \\ket{2} + \\cdots+ e^{-\\frac{2\\pi i\\cdot2\\cdot1024}{4096}} \\ket{1024}+\\\\\n",
        "&\\cdots +e^{-\\frac{2\\pi i\\cdot2\\cdot2048}{4096}} \\ket{2048}+\\cdots +e^{-\\frac{2\\pi i\\cdot2\\cdot3072}{4096}} \\ket{3072}+ \\cdots +e^{-\\frac{2\\pi i\\cdot2\\cdot4095}{4096}} \\ket{4095}\n",
        "\\end{align*}\n"
      ]
    },
    {
      "cell_type": "markdown",
      "metadata": {
        "id": "QdLtVAAro1Sh"
      },
      "source": [
        "Note that for states $ \\ket{0} $, $ \\ket{1024} $, $ \\ket{2048} $ and $ \\ket{3072} $, the coefficients are equal to 1.\n",
        "\n",
        "Similarly, we apply $QFT^{\\dagger}$ to states $\\ket{6}$, $ \\ket{10} $, $ \\dots $, $ \\ket{4094} $. Overall, the state obtained after applying $QFT^{\\dagger}$ can be expressed as"
      ]
    },
    {
      "cell_type": "markdown",
      "metadata": {
        "id": "JgCpogi8o1Sh"
      },
      "source": [
        "$$\n",
        "\\frac{1}{\\sqrt{2^{10}}} \\sum_{x=0}^{2^{10}-1} \\frac{1}{\\sqrt{2^{12} } } \\sum_{k=0}^{2^{12}-1}  e^{-\\frac{2\\pi i(4x+2)k}{4096} } \\ket{k}.\n",
        "$$"
      ]
    },
    {
      "cell_type": "markdown",
      "metadata": {
        "id": "pBHvbsdpo1Sh"
      },
      "source": [
        "The probability of observing state $ \\ket{k} $ is given by\n",
        "\n",
        "$$\n",
        "\\left | \\frac{1}{\\sqrt{2^{10}\\cdot2^{12} } } \\sum_{x=0}^{2^{10}-1}  e^{-\\frac{2\\pi i(4x+2)k}{4096} }   \\right |^2.\n",
        "$$"
      ]
    },
    {
      "cell_type": "markdown",
      "metadata": {
        "id": "AgFLN9uMo1Sh"
      },
      "source": [
        "We can drop the coefficient $ e^{\\frac{2\\pi i(2k)}{4096} }  $ as it is constant for all $ k $ and after getting absolute value and getting squared it is equal to 1. Now let's rewrite the state.\n",
        "\n",
        "$$\n",
        "\\frac{1}{4} \\left | \\frac{1}{2^{10}} \\sum_{x=0}^{2^{10}-1}  e^{-\\frac{2\\pi i(4xk)}{4096} }  \\right |^2\n",
        "$$"
      ]
    },
    {
      "cell_type": "markdown",
      "metadata": {
        "id": "T5pHNrQ-o1Sh"
      },
      "source": [
        "Note that when $ 4k $ is a multiple of $ 4096 $, then the coefficients are equal to 1 for all $ 2^{10} $ values of $ x $. Therefore, for each $ k=0,1024,2048  $ and $ 3072 $,  the probability of observing state $ \\ket{k} $ is equal to $ \\frac{1}{4} $. Note that in this example $ r $ is a power of $ 2 $ and the probabilities peak exactly around the multiples of $ \\frac{2^t}{r} $."
      ]
    },
    {
      "cell_type": "markdown",
      "metadata": {
        "id": "NkckmE-co1Sh"
      },
      "source": [
        "To sum up, after applying $QFT^{\\dagger}$ we measure the states $\\ket{0},\\ket{1024},\\ket{2048},\\ket{3072}$ each with probability $\\frac{1}{4}$."
      ]
    },
    {
      "cell_type": "markdown",
      "metadata": {
        "id": "wFk0o2alo1Sh"
      },
      "source": [
        "At this stage, we should run the continued fractions algorithm to find out $r$ and compute $gcd(x^{r/2} -1, N)$ and $gcd(x^{r/2}+1, N)$ to find out the factors of 15."
      ]
    }
  ],
  "metadata": {
    "kernelspec": {
      "display_name": "Python 3 (ipykernel)",
      "language": "python",
      "name": "python3"
    },
    "language_info": {
      "codemirror_mode": {
        "name": "ipython",
        "version": 3
      },
      "file_extension": ".py",
      "mimetype": "text/x-python",
      "name": "python",
      "nbconvert_exporter": "python",
      "pygments_lexer": "ipython3",
      "version": "3.11.4"
    },
    "colab": {
      "provenance": [],
      "collapsed_sections": [
        "XgfOuK90o1Se"
      ],
      "include_colab_link": true
    }
  },
  "nbformat": 4,
  "nbformat_minor": 0
}