{
  "cells": [
    {
      "cell_type": "markdown",
      "metadata": {
        "id": "view-in-github",
        "colab_type": "text"
      },
      "source": [
        "<a href=\"https://colab.research.google.com/github/james-lucius/qworld/blob/main/QB21_CS08_Coin_Flip_Solutions.ipynb\" target=\"_parent\"><img src=\"https://colab.research.google.com/assets/colab-badge.svg\" alt=\"Open In Colab\"/></a>"
      ]
    },
    {
      "cell_type": "markdown",
      "metadata": {
        "id": "N1Fvt7pdOEah"
      },
      "source": [
        "<a href=\"https://qworld.net\" target=\"_blank\" align=\"left\"><img src=\"https://gitlab.com/qworld/qeducation/qbook101/raw/main/qworld/images/header.jpg\" align=\"left\"></a>\n",
        "$ \\newcommand{\\bra}[1]{\\langle #1|} $\n",
        "$ \\newcommand{\\ket}[1]{|#1\\rangle} $\n",
        "$ \\newcommand{\\braket}[2]{\\langle #1|#2\\rangle} $\n",
        "$ \\newcommand{\\dot}[2]{ #1 \\cdot #2} $\n",
        "$ \\newcommand{\\biginner}[2]{\\left\\langle #1,#2\\right\\rangle} $\n",
        "$ \\newcommand{\\mymatrix}[2]{\\left( \\begin{array}{#1} #2\\end{array} \\right)} $\n",
        "$ \\newcommand{\\myvector}[1]{\\mymatrix{c}{#1}} $\n",
        "$ \\newcommand{\\myrvector}[1]{\\mymatrix{r}{#1}} $\n",
        "$ \\newcommand{\\mypar}[1]{\\left( #1 \\right)} $\n",
        "$ \\newcommand{\\mybigpar}[1]{ \\Big( #1 \\Big)} $\n",
        "$ \\newcommand{\\sqrttwo}{\\frac{1}{\\sqrt{2}}} $\n",
        "$ \\newcommand{\\dsqrttwo}{\\dfrac{1}{\\sqrt{2}}} $\n",
        "$ \\newcommand{\\onehalf}{\\frac{1}{2}} $\n",
        "$ \\newcommand{\\donehalf}{\\dfrac{1}{2}} $\n",
        "$ \\newcommand{\\hadamard}{ \\mymatrix{rr}{ \\sqrttwo & \\sqrttwo \\\\ \\sqrttwo & -\\sqrttwo }} $\n",
        "$ \\newcommand{\\vzero}{\\myvector{1\\\\0}} $\n",
        "$ \\newcommand{\\vone}{\\myvector{0\\\\1}} $\n",
        "$ \\newcommand{\\stateplus}{\\myvector{ \\sqrttwo \\\\  \\sqrttwo } } $\n",
        "$ \\newcommand{\\stateminus}{ \\myrvector{ \\sqrttwo \\\\ -\\sqrttwo } } $\n",
        "$ \\newcommand{\\myarray}[2]{ \\begin{array}{#1}#2\\end{array}} $\n",
        "$ \\newcommand{\\X}{ \\mymatrix{cc}{0 & 1 \\\\ 1 & 0}  } $\n",
        "$ \\newcommand{\\I}{ \\mymatrix{rr}{1 & 0 \\\\ 0 & 1}  } $\n",
        "$ \\newcommand{\\Z}{ \\mymatrix{rr}{1 & 0 \\\\ 0 & -1}  } $\n",
        "$ \\newcommand{\\Htwo}{ \\mymatrix{rrrr}{ \\frac{1}{2} & \\frac{1}{2} & \\frac{1}{2} & \\frac{1}{2} \\\\ \\frac{1}{2} & -\\frac{1}{2} & \\frac{1}{2} & -\\frac{1}{2} \\\\ \\frac{1}{2} & \\frac{1}{2} & -\\frac{1}{2} & -\\frac{1}{2} \\\\ \\frac{1}{2} & -\\frac{1}{2} & -\\frac{1}{2} & \\frac{1}{2} } } $\n",
        "$ \\newcommand{\\CNOT}{ \\mymatrix{cccc}{1 & 0 & 0 & 0 \\\\ 0 & 1 & 0 & 0 \\\\ 0 & 0 & 0 & 1 \\\\ 0 & 0 & 1 & 0} } $\n",
        "$ \\newcommand{\\norm}[1]{ \\left\\lVert #1 \\right\\rVert } $\n",
        "$ \\newcommand{\\pstate}[1]{ \\lceil \\mspace{-1mu} #1 \\mspace{-1.5mu} \\rfloor } $\n",
        "$ \\newcommand{\\greenbit}[1] {\\mathbf{{\\color{green}#1}}} $\n",
        "$ \\newcommand{\\bluebit}[1] {\\mathbf{{\\color{blue}#1}}} $\n",
        "$ \\newcommand{\\redbit}[1] {\\mathbf{{\\color{red}#1}}} $\n",
        "$ \\newcommand{\\brownbit}[1] {\\mathbf{{\\color{brown}#1}}} $\n",
        "$ \\newcommand{\\blackbit}[1] {\\mathbf{{\\color{black}#1}}} $"
      ]
    },
    {
      "cell_type": "markdown",
      "metadata": {
        "id": "P9PPpX2UOEak"
      },
      "source": [
        "_prepared by Abuzer Yakaryilmaz_"
      ]
    },
    {
      "cell_type": "markdown",
      "metadata": {
        "id": "MUrkArJzOEak"
      },
      "source": [
        "<font size=\"28px\" style=\"font-size:28px;\" align=\"left\"><b><font color=\"blue\"> Solutions for </font>Coin Flip: A Probabilistic Bit</b></font>\n",
        "<br>\n",
        "<br><br>"
      ]
    },
    {
      "cell_type": "markdown",
      "metadata": {
        "id": "xvaIxSaCOEak"
      },
      "source": [
        "<a name=\"task1\"></a>\n",
        "<h3> Task 1: Simulating FairCoin in Python</h3>\n",
        "\n",
        "Flip a fair coin 100 times. Calculate the total number of heads and tails, and then check the ratio of the number of heads and the number of tails.\n",
        "\n",
        "Do the same experiment 1000 times.\n",
        "\n",
        "Do the same experiment 10,000 times.\n",
        "\n",
        "Do the same experiment 100,000 times.\n",
        "\n",
        "Do your results get close to the ideal case (the numbers of heads and tails are equal)?"
      ]
    },
    {
      "cell_type": "markdown",
      "metadata": {
        "id": "6Qin2URTOEal"
      },
      "source": [
        "<h3>Solution</h3>"
      ]
    },
    {
      "cell_type": "code",
      "execution_count": 1,
      "metadata": {
        "id": "2dlJSanuOEal",
        "outputId": "683fd948-ea46-44e5-b67c-91bca380df6a",
        "colab": {
          "base_uri": "https://localhost:8080/"
        }
      },
      "outputs": [
        {
          "output_type": "stream",
          "name": "stdout",
          "text": [
            "experiment: 100\n",
            "heads = 53   tails =  47\n",
            "the ratio of #heads/#tails is 1.1277\n",
            "\n",
            "experiment: 1000\n",
            "heads = 495   tails =  505\n",
            "the ratio of #heads/#tails is 0.9802\n",
            "\n",
            "experiment: 10000\n",
            "heads = 5061   tails =  4939\n",
            "the ratio of #heads/#tails is 1.0247\n",
            "\n",
            "experiment: 100000\n",
            "heads = 50155   tails =  49845\n",
            "the ratio of #heads/#tails is 1.0062\n",
            "\n"
          ]
        }
      ],
      "source": [
        "from random import randrange\n",
        "\n",
        "for experiment in [100,1000,10000,100000]:\n",
        "    heads = tails = 0\n",
        "    for i in range(experiment):\n",
        "        if randrange(2) == 0: heads = heads + 1\n",
        "        else: tails = tails + 1\n",
        "    print(\"experiment:\",experiment)\n",
        "    print(\"heads =\",heads,\"  tails = \",tails)\n",
        "    print(\"the ratio of #heads/#tails is\",(round(heads/tails,4)))\n",
        "    print() # empty line"
      ]
    },
    {
      "cell_type": "markdown",
      "metadata": {
        "id": "cSgcrVgDOEam"
      },
      "source": [
        "<a name=\"task2\"></a>\n",
        "<h3> Task 2: Simulating BiasedCoin in Python</h3>\n",
        "\n",
        "Flip the following biased coin 100 times. Calcuate the total numbers of heads and tails, and then check the ratio of the number of heads and the number of tails.\n",
        "\n",
        "$\n",
        "BiasedCoin = \\begin{array}{c|cc} \\hookleftarrow & \\mathbf{Head} & \\mathbf{Tail} \\\\ \\hline \\mathbf{Head} & 0.6 & 0.6 \\\\  \\mathbf{Tail} & 0.4 & 0.4  \\end{array}\n",
        "$\n",
        "\n",
        "\n",
        "Do the same experiment 1000 times.\n",
        "\n",
        "Do the same experiment 10,000 times.\n",
        "\n",
        "Do the same experiment 100,000 times.\n",
        "\n",
        "Do your results get close to the ideal case $ \\mypar{ \\dfrac{ \\mbox{\\# of heads} }{ \\mbox{\\# of tails} } = \\dfrac{0.6}{0.4} = 1.50000000 } $?"
      ]
    },
    {
      "cell_type": "markdown",
      "metadata": {
        "id": "jBgUd-6GOEam"
      },
      "source": [
        "<h3>Solution</h3>"
      ]
    },
    {
      "cell_type": "code",
      "execution_count": 2,
      "metadata": {
        "id": "qOsMYd0mOEam",
        "outputId": "834354ff-6604-4eb4-96a5-43570f5c96ae",
        "colab": {
          "base_uri": "https://localhost:8080/"
        }
      },
      "outputs": [
        {
          "output_type": "stream",
          "name": "stdout",
          "text": [
            "experiment: 100\n",
            "heads = 66   tails =  34\n",
            "the ratio of #heads/#tails is 1.9412\n",
            "\n",
            "experiment: 1000\n",
            "heads = 599   tails =  401\n",
            "the ratio of #heads/#tails is 1.4938\n",
            "\n",
            "experiment: 10000\n",
            "heads = 6035   tails =  3965\n",
            "the ratio of #heads/#tails is 1.5221\n",
            "\n",
            "experiment: 100000\n",
            "heads = 59781   tails =  40219\n",
            "the ratio of #heads/#tails is 1.4864\n",
            "\n"
          ]
        }
      ],
      "source": [
        "from random import randrange\n",
        "\n",
        "# let's pick a random number between {0,1,...,99}\n",
        "# it is expected to be less than 60 with probability 0.6\n",
        "#     and greater than or equal to 60 with probability 0.4\n",
        "\n",
        "for experiment in [100,1000,10000,100000]:\n",
        "    heads = tails = 0\n",
        "    for i in range(experiment):\n",
        "        if randrange(100) <60: heads = heads + 1 # with probability 0.6\n",
        "        else: tails = tails + 1 # with probability 0.4\n",
        "    print(\"experiment:\",experiment)\n",
        "    print(\"heads =\",heads,\"  tails = \",tails)\n",
        "    print(\"the ratio of #heads/#tails is\",(round(heads/tails,4)))\n",
        "    print() # empty line"
      ]
    },
    {
      "cell_type": "markdown",
      "metadata": {
        "id": "QybWUMGROEan"
      },
      "source": [
        "<a name=\"task3\"></a>\n",
        "<h3> Task 3 </h3>\n",
        "\n",
        "Write a function to implement the described biased coin,\n",
        "\n",
        "The inputs are integers $N>0$ and $ B \\in \\{0,\\ldots,N\\} $.\n",
        "\n",
        "The output is either \"Heads\" or \"Tails\"."
      ]
    },
    {
      "cell_type": "markdown",
      "metadata": {
        "id": "B_PPg6xROEan"
      },
      "source": [
        "<h3>Solution</h3>"
      ]
    },
    {
      "cell_type": "code",
      "execution_count": 3,
      "metadata": {
        "id": "hvkxc_PYOEan"
      },
      "outputs": [],
      "source": [
        "def biased_coin(N,B):\n",
        "    from random import randrange\n",
        "    random_number = randrange(N)\n",
        "    if random_number < B:\n",
        "        return \"Heads\"\n",
        "    else:\n",
        "        return \"Tails\""
      ]
    },
    {
      "cell_type": "markdown",
      "metadata": {
        "id": "clxQVSv6OEan"
      },
      "source": [
        "<a name=\"task4\"></a>\n",
        "<h3> Task 4</h3>\n",
        "\n",
        "We use the biased coin described in Task 3.\n",
        "\n",
        "(You may use the function given in the solution.)\n",
        "\n",
        "We pick $ N $ as 101.\n",
        "\n",
        "Our task is to determine the value of $ B $ experimentially without checking its value directly.\n",
        "\n",
        "Flip the (same) biased coin 500 times, collect the statistics, and then guess the bias.\n",
        "\n",
        "Compare your guess with the actual bias by calculating the relative error in percentage (the absolute value of the difference divided by the real bias)."
      ]
    },
    {
      "cell_type": "markdown",
      "metadata": {
        "id": "2xPOCdjsOEan"
      },
      "source": [
        "<h3>Solution</h3>"
      ]
    },
    {
      "cell_type": "code",
      "execution_count": 4,
      "metadata": {
        "id": "tfLTQpTfOEan"
      },
      "outputs": [],
      "source": [
        "def biased_coin(N,B):\n",
        "    from random import randrange\n",
        "    random_number = randrange(N)\n",
        "    if random_number < B:\n",
        "        return \"Heads\"\n",
        "    else:\n",
        "        return \"Tails\""
      ]
    },
    {
      "cell_type": "code",
      "execution_count": 5,
      "metadata": {
        "id": "Wf0svkjqOEan"
      },
      "outputs": [],
      "source": [
        "from random import randrange\n",
        "N = 101\n",
        "B = randrange(N+1)"
      ]
    },
    {
      "cell_type": "code",
      "execution_count": 6,
      "metadata": {
        "id": "wcdMI_W8OEan",
        "outputId": "f442487e-bfbd-480c-b17d-ead29496e87d",
        "colab": {
          "base_uri": "https://localhost:8080/"
        }
      },
      "outputs": [
        {
          "output_type": "stream",
          "name": "stdout",
          "text": [
            "my guess is 0.358\n",
            "real bias is 0.3564356435643564\n",
            "error (%) is 0.4388888888888893\n"
          ]
        }
      ],
      "source": [
        "total_tosses = 500\n",
        "the_number_of_heads = 0\n",
        "for i in range(total_tosses):\n",
        "    if biased_coin(N,B) == \"Heads\":\n",
        "        the_number_of_heads = the_number_of_heads + 1\n",
        "\n",
        "my_guess =  the_number_of_heads/total_tosses\n",
        "real_bias = B/N\n",
        "error = abs(my_guess-real_bias)/real_bias*100\n",
        "\n",
        "print(\"my guess is\",my_guess)\n",
        "print(\"real bias is\",real_bias)\n",
        "print(\"error (%) is\",error)"
      ]
    }
  ],
  "metadata": {
    "kernelspec": {
      "display_name": "Python 3 (ipykernel)",
      "language": "python",
      "name": "python3"
    },
    "language_info": {
      "codemirror_mode": {
        "name": "ipython",
        "version": 3
      },
      "file_extension": ".py",
      "mimetype": "text/x-python",
      "name": "python",
      "nbconvert_exporter": "python",
      "pygments_lexer": "ipython3",
      "version": "3.11.4"
    },
    "colab": {
      "provenance": [],
      "include_colab_link": true
    }
  },
  "nbformat": 4,
  "nbformat_minor": 0
}