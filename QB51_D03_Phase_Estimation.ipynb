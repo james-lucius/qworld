{
  "cells": [
    {
      "cell_type": "markdown",
      "metadata": {
        "id": "view-in-github",
        "colab_type": "text"
      },
      "source": [
        "<a href=\"https://colab.research.google.com/github/james-lucius/qworld/blob/main/QB51_D03_Phase_Estimation.ipynb\" target=\"_parent\"><img src=\"https://colab.research.google.com/assets/colab-badge.svg\" alt=\"Open In Colab\"/></a>"
      ]
    },
    {
      "cell_type": "markdown",
      "metadata": {
        "id": "74YBt9L0TvDA"
      },
      "source": [
        "<a href=\"https://qworld.net\" target=\"_blank\" align=\"left\"><img src=\"https://gitlab.com/qworld/qeducation/qbook101/raw/main/qworld/images/header.jpg\" align=\"left\"></a>\n",
        "$ \\newcommand{\\bra}[1]{\\langle #1|} $\n",
        "$ \\newcommand{\\ket}[1]{|#1\\rangle} $\n",
        "$ \\newcommand{\\braket}[2]{\\langle #1|#2\\rangle} $\n",
        "$ \\newcommand{\\dot}[2]{ #1 \\cdot #2} $\n",
        "$ \\newcommand{\\biginner}[2]{\\left\\langle #1,#2\\right\\rangle} $\n",
        "$ \\newcommand{\\mymatrix}[2]{\\left( \\begin{array}{#1} #2\\end{array} \\right)} $\n",
        "$ \\newcommand{\\myvector}[1]{\\mymatrix{c}{#1}} $\n",
        "$ \\newcommand{\\myrvector}[1]{\\mymatrix{r}{#1}} $\n",
        "$ \\newcommand{\\mypar}[1]{\\left( #1 \\right)} $\n",
        "$ \\newcommand{\\mybigpar}[1]{ \\Big( #1 \\Big)} $\n",
        "$ \\newcommand{\\sqrttwo}{\\frac{1}{\\sqrt{2}}} $\n",
        "$ \\newcommand{\\dsqrttwo}{\\dfrac{1}{\\sqrt{2}}} $\n",
        "$ \\newcommand{\\onehalf}{\\frac{1}{2}} $\n",
        "$ \\newcommand{\\donehalf}{\\dfrac{1}{2}} $\n",
        "$ \\newcommand{\\hadamard}{ \\mymatrix{rr}{ \\sqrttwo & \\sqrttwo \\\\ \\sqrttwo & -\\sqrttwo }} $\n",
        "$ \\newcommand{\\vzero}{\\myvector{1\\\\0}} $\n",
        "$ \\newcommand{\\vone}{\\myvector{0\\\\1}} $\n",
        "$ \\newcommand{\\stateplus}{\\myvector{ \\sqrttwo \\\\  \\sqrttwo } } $\n",
        "$ \\newcommand{\\stateminus}{ \\myrvector{ \\sqrttwo \\\\ -\\sqrttwo } } $\n",
        "$ \\newcommand{\\myarray}[2]{ \\begin{array}{#1}#2\\end{array}} $\n",
        "$ \\newcommand{\\X}{ \\mymatrix{cc}{0 & 1 \\\\ 1 & 0}  } $\n",
        "$ \\newcommand{\\Z}{ \\mymatrix{rr}{1 & 0 \\\\ 0 & -1}  } $\n",
        "$ \\newcommand{\\Htwo}{ \\mymatrix{rrrr}{ \\frac{1}{2} & \\frac{1}{2} & \\frac{1}{2} & \\frac{1}{2} \\\\ \\frac{1}{2} & -\\frac{1}{2} & \\frac{1}{2} & -\\frac{1}{2} \\\\ \\frac{1}{2} & \\frac{1}{2} & -\\frac{1}{2} & -\\frac{1}{2} \\\\ \\frac{1}{2} & -\\frac{1}{2} & -\\frac{1}{2} & \\frac{1}{2} } } $\n",
        "$ \\newcommand{\\CNOT}{ \\mymatrix{cccc}{1 & 0 & 0 & 0 \\\\ 0 & 1 & 0 & 0 \\\\ 0 & 0 & 0 & 1 \\\\ 0 & 0 & 1 & 0} } $\n",
        "$ \\newcommand{\\norm}[1]{ \\left\\lVert #1 \\right\\rVert } $\n",
        "$ \\newcommand{\\pstate}[1]{ \\lceil \\mspace{-1mu} #1 \\mspace{-1.5mu} \\rfloor } $\n",
        "$ \\newcommand{\\Y}{ \\mymatrix{rr}{0 & -i \\\\ i & 0} } $\n",
        "$ \\newcommand{\\S}{ \\mymatrix{rr}{1 & 0 \\\\ 0 & i} } $\n",
        "$ \\newcommand{\\T}{ \\mymatrix{rr}{1 & 0 \\\\ 0 & e^{i \\frac{\\pi}{4}}} } $\n",
        "$ \\newcommand{\\Sdg}{ \\mymatrix{rr}{1 & 0 \\\\ 0 & -i} } $\n",
        "$ \\newcommand{\\Tdg}{ \\mymatrix{rr}{1 & 0 \\\\ 0 & e^{-i \\frac{\\pi}{4}}} } $\n",
        "$ \\newcommand{\\qgate}[1]{ \\mathop{\\\\textit{#1} } }$"
      ]
    },
    {
      "cell_type": "markdown",
      "metadata": {
        "id": "4P645EZgTvDC"
      },
      "source": [
        "_prepared by Özlem Salehi and Abuzer Yakaryilmaz_\n",
        "<br><br>\n",
        "_Cirq adaptation by Claudia Zendejas-Morales_"
      ]
    },
    {
      "cell_type": "markdown",
      "metadata": {
        "id": "bIqC2mnJTvDC"
      },
      "source": [
        "<font size=\"28px\" style=\"font-size:28px;\" align=\"left\"><b> Phase Estimation </b></font>\n",
        "<br>\n",
        "<br><br>"
      ]
    },
    {
      "cell_type": "markdown",
      "metadata": {
        "jp-MarkdownHeadingCollapsed": true,
        "id": "6Xf6b1vjTvDD"
      },
      "source": [
        "##### <font color=\"#08b806\">Please execute the following cell, it is necessary to distinguish between your local environment and Google Colab's"
      ]
    },
    {
      "cell_type": "code",
      "execution_count": 1,
      "metadata": {
        "id": "5ZfXxOfNTvDD",
        "outputId": "763b3ab9-9d88-4cf4-c9cf-11f5cb12365f",
        "colab": {
          "base_uri": "https://localhost:8080/"
        }
      },
      "outputs": [
        {
          "output_type": "stream",
          "name": "stdout",
          "text": [
            "Collecting cirq\n",
            "  Downloading cirq-1.5.0-py3-none-any.whl.metadata (15 kB)\n",
            "Collecting cirq-aqt==1.5.0 (from cirq)\n",
            "  Downloading cirq_aqt-1.5.0-py3-none-any.whl.metadata (4.8 kB)\n",
            "Collecting cirq-core==1.5.0 (from cirq)\n",
            "  Downloading cirq_core-1.5.0-py3-none-any.whl.metadata (4.9 kB)\n",
            "Collecting cirq-google==1.5.0 (from cirq)\n",
            "  Downloading cirq_google-1.5.0-py3-none-any.whl.metadata (4.9 kB)\n",
            "Collecting cirq-ionq==1.5.0 (from cirq)\n",
            "  Downloading cirq_ionq-1.5.0-py3-none-any.whl.metadata (4.7 kB)\n",
            "Collecting cirq-pasqal==1.5.0 (from cirq)\n",
            "  Downloading cirq_pasqal-1.5.0-py3-none-any.whl.metadata (4.8 kB)\n",
            "Collecting cirq-web==1.5.0 (from cirq)\n",
            "  Downloading cirq_web-1.5.0-py3-none-any.whl.metadata (5.5 kB)\n",
            "Requirement already satisfied: requests~=2.32 in /usr/local/lib/python3.11/dist-packages (from cirq-aqt==1.5.0->cirq) (2.32.3)\n",
            "Requirement already satisfied: attrs>=21.3.0 in /usr/local/lib/python3.11/dist-packages (from cirq-core==1.5.0->cirq) (25.3.0)\n",
            "Collecting duet>=0.2.8 (from cirq-core==1.5.0->cirq)\n",
            "  Downloading duet-0.2.9-py3-none-any.whl.metadata (2.3 kB)\n",
            "Requirement already satisfied: matplotlib~=3.7 in /usr/local/lib/python3.11/dist-packages (from cirq-core==1.5.0->cirq) (3.10.0)\n",
            "Requirement already satisfied: networkx~=3.1 in /usr/local/lib/python3.11/dist-packages (from cirq-core==1.5.0->cirq) (3.5)\n",
            "Requirement already satisfied: numpy>=1.25 in /usr/local/lib/python3.11/dist-packages (from cirq-core==1.5.0->cirq) (2.0.2)\n",
            "Requirement already satisfied: pandas~=2.0 in /usr/local/lib/python3.11/dist-packages (from cirq-core==1.5.0->cirq) (2.2.2)\n",
            "Requirement already satisfied: sortedcontainers~=2.0 in /usr/local/lib/python3.11/dist-packages (from cirq-core==1.5.0->cirq) (2.4.0)\n",
            "Requirement already satisfied: scipy~=1.11 in /usr/local/lib/python3.11/dist-packages (from cirq-core==1.5.0->cirq) (1.15.3)\n",
            "Requirement already satisfied: sympy in /usr/local/lib/python3.11/dist-packages (from cirq-core==1.5.0->cirq) (1.13.1)\n",
            "Requirement already satisfied: typing_extensions>=4.2 in /usr/local/lib/python3.11/dist-packages (from cirq-core==1.5.0->cirq) (4.14.1)\n",
            "Requirement already satisfied: tqdm>=4.12 in /usr/local/lib/python3.11/dist-packages (from cirq-core==1.5.0->cirq) (4.67.1)\n",
            "Requirement already satisfied: google-api-core>=1.14.0 in /usr/local/lib/python3.11/dist-packages (from google-api-core[grpc]>=1.14.0->cirq-google==1.5.0->cirq) (2.25.1)\n",
            "Requirement already satisfied: proto-plus>=1.20.0 in /usr/local/lib/python3.11/dist-packages (from cirq-google==1.5.0->cirq) (1.26.1)\n",
            "Requirement already satisfied: protobuf<6.0,>=4.25 in /usr/local/lib/python3.11/dist-packages (from cirq-google==1.5.0->cirq) (5.29.5)\n",
            "Collecting typedunits (from cirq-google==1.5.0->cirq)\n",
            "  Downloading typedunits-0.0.1.dev20250509200845-cp311-cp311-manylinux_2_17_x86_64.manylinux2014_x86_64.whl.metadata (4.8 kB)\n",
            "Requirement already satisfied: googleapis-common-protos<2.0.0,>=1.56.2 in /usr/local/lib/python3.11/dist-packages (from google-api-core>=1.14.0->google-api-core[grpc]>=1.14.0->cirq-google==1.5.0->cirq) (1.70.0)\n",
            "Requirement already satisfied: google-auth<3.0.0,>=2.14.1 in /usr/local/lib/python3.11/dist-packages (from google-api-core>=1.14.0->google-api-core[grpc]>=1.14.0->cirq-google==1.5.0->cirq) (2.38.0)\n",
            "Requirement already satisfied: grpcio<2.0.0,>=1.33.2 in /usr/local/lib/python3.11/dist-packages (from google-api-core[grpc]>=1.14.0->cirq-google==1.5.0->cirq) (1.73.1)\n",
            "Requirement already satisfied: grpcio-status<2.0.0,>=1.33.2 in /usr/local/lib/python3.11/dist-packages (from google-api-core[grpc]>=1.14.0->cirq-google==1.5.0->cirq) (1.71.2)\n",
            "Requirement already satisfied: contourpy>=1.0.1 in /usr/local/lib/python3.11/dist-packages (from matplotlib~=3.7->cirq-core==1.5.0->cirq) (1.3.2)\n",
            "Requirement already satisfied: cycler>=0.10 in /usr/local/lib/python3.11/dist-packages (from matplotlib~=3.7->cirq-core==1.5.0->cirq) (0.12.1)\n",
            "Requirement already satisfied: fonttools>=4.22.0 in /usr/local/lib/python3.11/dist-packages (from matplotlib~=3.7->cirq-core==1.5.0->cirq) (4.58.5)\n",
            "Requirement already satisfied: kiwisolver>=1.3.1 in /usr/local/lib/python3.11/dist-packages (from matplotlib~=3.7->cirq-core==1.5.0->cirq) (1.4.8)\n",
            "Requirement already satisfied: packaging>=20.0 in /usr/local/lib/python3.11/dist-packages (from matplotlib~=3.7->cirq-core==1.5.0->cirq) (24.2)\n",
            "Requirement already satisfied: pillow>=8 in /usr/local/lib/python3.11/dist-packages (from matplotlib~=3.7->cirq-core==1.5.0->cirq) (11.2.1)\n",
            "Requirement already satisfied: pyparsing>=2.3.1 in /usr/local/lib/python3.11/dist-packages (from matplotlib~=3.7->cirq-core==1.5.0->cirq) (3.2.3)\n",
            "Requirement already satisfied: python-dateutil>=2.7 in /usr/local/lib/python3.11/dist-packages (from matplotlib~=3.7->cirq-core==1.5.0->cirq) (2.9.0.post0)\n",
            "Requirement already satisfied: pytz>=2020.1 in /usr/local/lib/python3.11/dist-packages (from pandas~=2.0->cirq-core==1.5.0->cirq) (2025.2)\n",
            "Requirement already satisfied: tzdata>=2022.7 in /usr/local/lib/python3.11/dist-packages (from pandas~=2.0->cirq-core==1.5.0->cirq) (2025.2)\n",
            "Requirement already satisfied: charset-normalizer<4,>=2 in /usr/local/lib/python3.11/dist-packages (from requests~=2.32->cirq-aqt==1.5.0->cirq) (3.4.2)\n",
            "Requirement already satisfied: idna<4,>=2.5 in /usr/local/lib/python3.11/dist-packages (from requests~=2.32->cirq-aqt==1.5.0->cirq) (3.10)\n",
            "Requirement already satisfied: urllib3<3,>=1.21.1 in /usr/local/lib/python3.11/dist-packages (from requests~=2.32->cirq-aqt==1.5.0->cirq) (2.4.0)\n",
            "Requirement already satisfied: certifi>=2017.4.17 in /usr/local/lib/python3.11/dist-packages (from requests~=2.32->cirq-aqt==1.5.0->cirq) (2025.7.9)\n",
            "Requirement already satisfied: mpmath<1.4,>=1.1.0 in /usr/local/lib/python3.11/dist-packages (from sympy->cirq-core==1.5.0->cirq) (1.3.0)\n",
            "Requirement already satisfied: cython>=3.0.0 in /usr/local/lib/python3.11/dist-packages (from typedunits->cirq-google==1.5.0->cirq) (3.0.12)\n",
            "Requirement already satisfied: cachetools<6.0,>=2.0.0 in /usr/local/lib/python3.11/dist-packages (from google-auth<3.0.0,>=2.14.1->google-api-core>=1.14.0->google-api-core[grpc]>=1.14.0->cirq-google==1.5.0->cirq) (5.5.2)\n",
            "Requirement already satisfied: pyasn1-modules>=0.2.1 in /usr/local/lib/python3.11/dist-packages (from google-auth<3.0.0,>=2.14.1->google-api-core>=1.14.0->google-api-core[grpc]>=1.14.0->cirq-google==1.5.0->cirq) (0.4.2)\n",
            "Requirement already satisfied: rsa<5,>=3.1.4 in /usr/local/lib/python3.11/dist-packages (from google-auth<3.0.0,>=2.14.1->google-api-core>=1.14.0->google-api-core[grpc]>=1.14.0->cirq-google==1.5.0->cirq) (4.9.1)\n",
            "Requirement already satisfied: six>=1.5 in /usr/local/lib/python3.11/dist-packages (from python-dateutil>=2.7->matplotlib~=3.7->cirq-core==1.5.0->cirq) (1.17.0)\n",
            "Requirement already satisfied: pyasn1<0.7.0,>=0.6.1 in /usr/local/lib/python3.11/dist-packages (from pyasn1-modules>=0.2.1->google-auth<3.0.0,>=2.14.1->google-api-core>=1.14.0->google-api-core[grpc]>=1.14.0->cirq-google==1.5.0->cirq) (0.6.1)\n",
            "Downloading cirq-1.5.0-py3-none-any.whl (10 kB)\n",
            "Downloading cirq_aqt-1.5.0-py3-none-any.whl (31 kB)\n",
            "Downloading cirq_core-1.5.0-py3-none-any.whl (2.0 MB)\n",
            "\u001b[2K   \u001b[90m━━━━━━━━━━━━━━━━━━━━━━━━━━━━━━━━━━━━━━━━\u001b[0m \u001b[32m2.0/2.0 MB\u001b[0m \u001b[31m35.1 MB/s\u001b[0m eta \u001b[36m0:00:00\u001b[0m\n",
            "\u001b[?25hDownloading cirq_google-1.5.0-py3-none-any.whl (597 kB)\n",
            "\u001b[2K   \u001b[90m━━━━━━━━━━━━━━━━━━━━━━━━━━━━━━━━━━━━━━━━\u001b[0m \u001b[32m597.5/597.5 kB\u001b[0m \u001b[31m22.9 MB/s\u001b[0m eta \u001b[36m0:00:00\u001b[0m\n",
            "\u001b[?25hDownloading cirq_ionq-1.5.0-py3-none-any.whl (72 kB)\n",
            "\u001b[2K   \u001b[90m━━━━━━━━━━━━━━━━━━━━━━━━━━━━━━━━━━━━━━━━\u001b[0m \u001b[32m72.0/72.0 kB\u001b[0m \u001b[31m4.3 MB/s\u001b[0m eta \u001b[36m0:00:00\u001b[0m\n",
            "\u001b[?25hDownloading cirq_pasqal-1.5.0-py3-none-any.whl (33 kB)\n",
            "Downloading cirq_web-1.5.0-py3-none-any.whl (425 kB)\n",
            "\u001b[2K   \u001b[90m━━━━━━━━━━━━━━━━━━━━━━━━━━━━━━━━━━━━━━━━\u001b[0m \u001b[32m425.1/425.1 kB\u001b[0m \u001b[31m19.6 MB/s\u001b[0m eta \u001b[36m0:00:00\u001b[0m\n",
            "\u001b[?25hDownloading duet-0.2.9-py3-none-any.whl (29 kB)\n",
            "Downloading typedunits-0.0.1.dev20250509200845-cp311-cp311-manylinux_2_17_x86_64.manylinux2014_x86_64.whl (2.8 MB)\n",
            "\u001b[2K   \u001b[90m━━━━━━━━━━━━━━━━━━━━━━━━━━━━━━━━━━━━━━━━\u001b[0m \u001b[32m2.8/2.8 MB\u001b[0m \u001b[31m52.9 MB/s\u001b[0m eta \u001b[36m0:00:00\u001b[0m\n",
            "\u001b[?25hInstalling collected packages: typedunits, duet, cirq-core, cirq-web, cirq-pasqal, cirq-ionq, cirq-aqt, cirq-google, cirq\n",
            "Successfully installed cirq-1.5.0 cirq-aqt-1.5.0 cirq-core-1.5.0 cirq-google-1.5.0 cirq-ionq-1.5.0 cirq-pasqal-1.5.0 cirq-web-1.5.0 duet-0.2.9 typedunits-0.0.1.dev20250509200845\n"
          ]
        }
      ],
      "source": [
        "import IPython\n",
        "\n",
        "def in_colab():\n",
        "    try:\n",
        "        import google.colab\n",
        "        return True\n",
        "    except:\n",
        "        return False\n",
        "\n",
        "SolutionToTask1 = lambda: IPython.display.display(IPython.display.Javascript('window.open(\"{url}\");'.format(url='https://colab.research.google.com/drive/1aNp8lg_xZHChORPJ3eE489n0Qb7IvOWk?usp=sharing#scrollTo=Ft_63GcZRq63' if in_colab() else 'QB51_D03_Phase_Estimation_Solutions.ipynb#task1')))\n",
        "SolutionToTask2 = lambda: IPython.display.display(IPython.display.Javascript('window.open(\"{url}\");'.format(url='https://colab.research.google.com/drive/1aNp8lg_xZHChORPJ3eE489n0Qb7IvOWk?usp=sharing#scrollTo=BJE3dO1TRq64' if in_colab() else 'QB51_D03_Phase_Estimation_Solutions.ipynb#task2')))\n",
        "SolutionToTask3 = lambda: IPython.display.display(IPython.display.Javascript('window.open(\"{url}\");'.format(url='https://colab.research.google.com/drive/1aNp8lg_xZHChORPJ3eE489n0Qb7IvOWk?usp=sharing#scrollTo=nvLVe9RVRq64' if in_colab() else 'QB51_D03_Phase_Estimation_Solutions.ipynb#task3')))\n",
        "SolutionToTask4 = lambda: IPython.display.display(IPython.display.Javascript('window.open(\"{url}\");'.format(url='https://colab.research.google.com/drive/1aNp8lg_xZHChORPJ3eE489n0Qb7IvOWk?usp=sharing#scrollTo=cVVnekP1Rq65' if in_colab() else 'QB51_D03_Phase_Estimation_Solutions.ipynb#task4')))\n",
        "SolutionToTask5 = lambda: IPython.display.display(IPython.display.Javascript('window.open(\"{url}\");'.format(url='https://colab.research.google.com/drive/1aNp8lg_xZHChORPJ3eE489n0Qb7IvOWk?usp=sharing#scrollTo=4gv-pQLURq65' if in_colab() else 'QB51_D03_Phase_Estimation_Solutions.ipynb#task5')))\n",
        "SolutionToTask6 = lambda: IPython.display.display(IPython.display.Javascript('window.open(\"{url}\");'.format(url='https://colab.research.google.com/drive/1aNp8lg_xZHChORPJ3eE489n0Qb7IvOWk?usp=sharing#scrollTo=Vb0ZtEHtRq66' if in_colab() else 'QB51_D03_Phase_Estimation_Solutions.ipynb#task6')))\n",
        "\n",
        "if in_colab():\n",
        "    !pip install cirq"
      ]
    },
    {
      "cell_type": "markdown",
      "metadata": {
        "id": "HFRZkIiBTvDE"
      },
      "source": [
        "##### In this section we will talk about an application of Quantum Fourier Transform, which will lead us in the way to Shor's Algorithm."
      ]
    },
    {
      "cell_type": "markdown",
      "metadata": {
        "id": "B5uesIq9TvDE"
      },
      "source": [
        "For a given matrix $ A $, a nonzero $ v $ vector is called its eigenvector if there is a scalar value $ \\lambda $ called eigenvalue satisfying\n",
        "\n",
        "$ A \\cdot v = \\lambda \\cdot v $.\n",
        "\n",
        "\n",
        "Unitary matrices are length preserving. Therefore, their eigenvalues must have length 1, and so they are in the form of $ e^{2 \\pi i \\phi} $ for some $ \\phi \\in [0,1) $.\n",
        "\n",
        "Our goal is, for a given unitary matrix $ U $ and its eigenvector $ \\ket{u} $, to estimate the phase $ \\phi $ of the corresponding eigenvalue $ e^{2 \\pi i \\phi} $.\n",
        "\n",
        "The matrix $ U^k $ is the $ k $-th power of $ U $. As $ U \\ket{u} = e^{2 \\pi i \\phi} \\ket{u} $, we can observe that\n",
        "\n",
        "$ U^k \\ket{u} =  \\mypar{ e^{2 \\pi i \\phi} }^k \\ket{u}  = e^{2 \\pi i \\phi k} \\ket{u} $."
      ]
    },
    {
      "cell_type": "markdown",
      "metadata": {
        "id": "BzpgS_ENTvDE"
      },
      "source": [
        "<h3>Task 1 (on paper)</h3>\n",
        "\n",
        "Show that $\\ket{-}$ and $\\ket{+}$ are eigenvectors for the $X$ operator with eigenvalues -1 and 1 respectively."
      ]
    },
    {
      "cell_type": "markdown",
      "metadata": {
        "id": "DVgmw6grTvDE"
      },
      "source": [
        "To check out our solution, run the next cell:"
      ]
    },
    {
      "cell_type": "code",
      "execution_count": 2,
      "metadata": {
        "id": "jAKW3qmGTvDE",
        "outputId": "2c91969d-ddb0-4c50-f83b-5518727eb2fb",
        "colab": {
          "base_uri": "https://localhost:8080/",
          "height": 37
        }
      },
      "outputs": [
        {
          "output_type": "display_data",
          "data": {
            "text/plain": [
              "<IPython.core.display.Javascript object>"
            ],
            "application/javascript": [
              "window.open(\"https://colab.research.google.com/drive/1aNp8lg_xZHChORPJ3eE489n0Qb7IvOWk?usp=sharing#scrollTo=Ft_63GcZRq63\");"
            ]
          },
          "metadata": {}
        }
      ],
      "source": [
        "SolutionToTask1()  # show solution for task 1"
      ]
    },
    {
      "cell_type": "markdown",
      "metadata": {
        "id": "h19Xsu4kTvDE"
      },
      "source": [
        "## Controlled-$U$ operator"
      ]
    },
    {
      "cell_type": "markdown",
      "metadata": {
        "id": "QdwtSYHnTvDE"
      },
      "source": [
        "Let $ U $ be a unitary operator with eigenstate $ \\ket{\\psi} $ and eigenvalue $ e^{2\\pi i \\phi} $ such that $ U\\ket{\\psi} =  e^{2{\\pi}i{\\phi}} \\ket{\\psi}$.\n",
        "\n",
        "We check the effect of controlled-$ U $ ($CU$) operator on the control qubit.\n",
        "\n",
        "Below are the cases in which the control qubit is in state $ \\ket{0} $ or $ \\ket{1} $."
      ]
    },
    {
      "cell_type": "markdown",
      "metadata": {
        "id": "karyVbSYTvDE"
      },
      "source": [
        "<img src=\"https://gitlab.com/qworld/qeducation/qbook101/raw/main/qbook101/images/ch5/cu.png\" width=\"40%\" align=\"left\">"
      ]
    },
    {
      "cell_type": "markdown",
      "metadata": {
        "id": "FPKuPgRkTvDE"
      },
      "source": [
        "In the first case, the operator $ U $ is not applied as the control qubit is in $ \\ket{0} $. Thus, we have:\n",
        "\n",
        "$ CU(\\ket{0}\\ket{\\psi}) \\rightarrow \\ket{0}\\ket{\\psi} $.\n",
        "\n",
        "In the second case, the operator $ U $ is applied to the state $ \\ket{\\psi} $ as the control qubit is in $ \\ket{1} $. Thus, we have:\n",
        "\n",
        "$ CU(\\ket{1}\\ket{\\psi}) \\rightarrow  e^{2{\\pi}i{\\phi}}\\ket{1}\\ket{\\psi} $."
      ]
    },
    {
      "cell_type": "markdown",
      "metadata": {
        "id": "mMbklfAITvDE"
      },
      "source": [
        "$ CU $ operator puts a phase of $ e^{2\\pi i \\phi} $ in front of state $ \\ket{1} $ when the control qubit is in superposition of the states $ \\ket{0} $ and $ \\ket{1} $."
      ]
    },
    {
      "cell_type": "markdown",
      "metadata": {
        "id": "zCbzugFOTvDE"
      },
      "source": [
        "$ \\begin{array}{rcl}\n",
        "CU \\mypar{ \\mypar{ \\dfrac{ \\ket{0} + \\ket{1} }{ \\sqrt{2} } }  \\ket{\\psi} } & = &  \\dfrac{1}{\\sqrt{2}} \\mypar{ CU \\mypar{ \\ket{0}\\ket{\\psi} + \\ket{1}\\ket{\\psi} } } \\\\\n",
        "& = & \\dfrac{1}{\\sqrt{2}} \\mypar{ CU\\ket{0}\\ket{\\psi} + CU \\ket{1}\\ket{\\psi} } \\\\\n",
        "& = & \\dfrac{1}{\\sqrt{2}} \\mypar{ \\ket{0} \\ket{\\psi} + e^{2{\\pi}i{\\phi}}\\ket{1}\\ket{\\psi} } \\\\\n",
        "& = & \\dfrac{1}{\\sqrt{2}} \\mypar{ \\mypar{ \\ket{0} + e^{2{\\pi}i{\\phi}}\\ket{1} } \\ket{\\psi} } \\\\\n",
        "& = & \\mypar{ \\dfrac{ \\ket{0} + e^{2{\\pi}i{\\phi}} \\ket{1} }{\\sqrt{2}} } \\ket{\\psi}\n",
        "\\end{array}$"
      ]
    },
    {
      "cell_type": "markdown",
      "metadata": {
        "id": "5CfGRs5oTvDE"
      },
      "source": [
        "Hence, for an arbitrary state, $\\alpha \\ket{0}\\ket{\\psi} + \\beta \\ket{1}\\ket{\\psi} \\xrightarrow{CU} \\alpha \\ket{0}\\ket{\\psi} ~+~ e^{2{\\pi}i{\\phi}}  \\beta \\ket{1}\\ket{\\psi} = (\\alpha \\ket{0} ~+~ e^{2{\\pi}i{\\phi}} \\beta \\ket{1})\\ket{\\psi}$."
      ]
    },
    {
      "cell_type": "markdown",
      "metadata": {
        "id": "C2GlmgeRTvDE"
      },
      "source": [
        "<img src=\"https://gitlab.com/qworld/qeducation/qbook101/raw/main/qbook101/images/ch5/phase_kickback_cu.png\" width=\"35%\" align=\"center\">"
      ]
    },
    {
      "cell_type": "markdown",
      "metadata": {
        "id": "bxKYQxPYTvDE"
      },
      "source": [
        "<h3>Task 2</h3>\n",
        "\n",
        "Consider the following quantum state where $ x=0 $ or $ 1 $. How can you find out the value of $x$ by applying a single operator?\n",
        "\n",
        "$$\n",
        "\\frac {\\ket{0} + (-1)^x \\ket{1}} {\\sqrt{2}}\n",
        "$$\n"
      ]
    },
    {
      "cell_type": "markdown",
      "metadata": {
        "id": "aTERMTyMTvDF"
      },
      "source": [
        "To check out our solution, run the next cell:"
      ]
    },
    {
      "cell_type": "code",
      "execution_count": null,
      "metadata": {
        "id": "cvkNVsnaTvDF"
      },
      "outputs": [],
      "source": [
        "SolutionToTask2()  # show solution for task 2"
      ]
    },
    {
      "cell_type": "markdown",
      "metadata": {
        "id": "RztgxKvBTvDF"
      },
      "source": [
        "<h2> Estimating eigenvalues of the $X$ operator </h2>"
      ]
    },
    {
      "cell_type": "markdown",
      "metadata": {
        "id": "uax6mHG7TvDF"
      },
      "source": [
        "Recall that $ \\ket{+} $ and $ \\ket{-} $ are the eigenstates of the operator $X$. If we apply $ CX $ operator to the following quantum state where $ \\ket{\\psi} $ is either $ \\ket{+} $ or $ \\ket{-} $, then by Task 2 we know how to find out the value of $x$.\n",
        "\n",
        "\\begin{align*}\n",
        "CX \\left(\\frac {\\ket{0} + \\ket{1}} {\\sqrt{2}} \\ket{\\psi} \\right) \\rightarrow \\frac {\\ket{0} + (-1)^x \\ket{1}} {\\sqrt{2}}\\ket{\\psi}\n",
        "\\end{align*}\n",
        "\n"
      ]
    },
    {
      "cell_type": "markdown",
      "metadata": {
        "id": "ziz8z2gETvDF"
      },
      "source": [
        "Note that this is a special case of the phase estimation problem where we are trying to estimate eigenvalues of the operator $ X $. In this case, $ \\phi $ is either $ 0 $ or $ \\frac{1}{2} $ which can be determined by an Hadamard operator. Next we will see how to accomplish this in general."
      ]
    },
    {
      "cell_type": "markdown",
      "metadata": {
        "id": "J6ksLlNeTvDF"
      },
      "source": [
        "<h2>Algorithm</h2>\n",
        "\n",
        "Our unitary matrix $ U $ and $\\ket{\\psi} $ is the given eigenvector.\n",
        "\n",
        "We use two registers.\n",
        "\n",
        "The first register contains $ t $ qubits which are in state $ \\ket{0} $.\n",
        "- $ t $ depends on the number of digits of accuracy and the probability of success while estimating $ \\phi $. We will come to details of $ t $ later on.\n",
        "- We name these qubits as $q_1,q_2,\\ldots,q_t$.\n",
        "\n",
        "The second register stores $ \\ket{\\psi} $.\n",
        "\n",
        "We apply a series of controlled-$ U^{2^j} $ operators for $ j \\in \\{0,\\ldots,t-1 \\} $."
      ]
    },
    {
      "cell_type": "markdown",
      "metadata": {
        "id": "Y7BcuQNOTvDF"
      },
      "source": [
        "### Initial state\n",
        "\n",
        "We start in state $\\underbrace{\\mypar{\\ket{0}\\otimes\\cdots\\otimes\\ket{0}}}_{1st~register}\\underbrace{\\ket{\\psi}}_{2nd~register}$."
      ]
    },
    {
      "cell_type": "markdown",
      "metadata": {
        "id": "A2a5KcSpTvDF"
      },
      "source": [
        "### Hadamard operators\n",
        "\n",
        "First we apply a Hadamard operator to each qubit on the first register.\n",
        "\n",
        "The new quantum state is\n",
        "\n",
        "$ \\underbrace{\\dfrac {1}{2^{t/2}} \\big( \\mypar{\\ket{0}+\\ket{1}} \\otimes \\cdots \\otimes  \\mypar{\\ket{0}+\\ket{1}} \\big) }_{1st~register} \\; \\underbrace{ \\ket{\\psi} }_{2nd~register} $."
      ]
    },
    {
      "cell_type": "markdown",
      "metadata": {
        "id": "WoAljtUgTvDF"
      },
      "source": [
        "### Controlled-$U^{2^j}$ operators\n",
        "\n",
        "We apply $ U^{2^j} $ operator to the second register, controlled by $ q_{t-j} $ on the first register, where $j \\in \\{ 0,\\ldots, t-1 \\}$.\n",
        "\n",
        "As explained above, after applying each $ CU^{2^j} $, the relative phase of the control qubit will be updated accordingly.\n",
        "\n",
        "**$j=0$:** Apply $CU^{2^0}$ to the second register, where $q_t$ is the control qubit. Then, the state is\n",
        "\n",
        "$ \\underbrace{\\dfrac {1}{2^{t/2}} \\big( \\mypar{\\ket{0}+\\ket{1}} \\otimes \\cdots \\otimes  \\mypar{\\ket{0}+\\mathbf{e^{2{\\pi}i\\phi 2^0}}\\ket{1}} \\big) }_{1st~register} \\; \\underbrace{ \\ket{\\psi} }_{2nd~register} $.\n",
        "\n",
        "**$j=1$:** Apply $CU^{2^1}$ to the second register, where $ q_{t-1} $ is the control qubit. Then, the state is\n",
        "\n",
        "$ \\underbrace{\\dfrac {1}{2^{t/2}} \\big( \\mypar{\\ket{0}+\\ket{1}} \\otimes \\cdots \\otimes  \\mypar{\\ket{0}+\\mathbf{e^{2{\\pi}i\\phi 2^1}}\\ket{1}} \\otimes \\mypar{\\ket{0}+\\mathbf{e^{2{\\pi}i\\phi 2^0}}\\ket{1}} \\big) }_{1st~register} \\; \\underbrace{ \\ket{\\psi} }_{2nd~register} $.\n",
        "\n",
        "$ ~~~~  \\vdots $\n",
        "\n",
        "**$j=t-1$:** Apply $CU^{2^{t-1}}$ to the second register, where $q_1$ is the control qubit. Then, the state is\n",
        "\n",
        "$ \\underbrace{\\dfrac {1}{2^{t/2}} \\big( \\mypar{\\ket{0}+\\mathbf{e^{2{\\pi}i\\phi 2^{t-1}}}\\ket{1}} \\otimes \\cdots \\otimes  \\mypar{\\ket{0}+\\mathbf{e^{2{\\pi}i\\phi 2^1}}\\ket{1}} \\otimes \\mypar{\\ket{0}+\\mathbf{e^{2{\\pi}i\\phi 2^0}}\\ket{1}} \\big) }_{1st~register} \\; \\underbrace{ \\ket{\\psi} }_{2nd~register} $."
      ]
    },
    {
      "cell_type": "markdown",
      "metadata": {
        "id": "KJ1eTdP4TvDF"
      },
      "source": [
        "### Inverse QFT\n",
        "\n",
        "We are done with the second register, and we may remove or discard it.\n",
        "\n",
        "The state of the first register is\n",
        "\n",
        "$\\ket{u} = \\dfrac {1}{2^{t/2}} \\underbrace{\\mypar{\\ket{0}+\\mathbf{e^{2{\\pi}i\\phi 2^{t-1}}}\\ket{1}}}_{q_1} \\otimes \\cdots \\otimes \\underbrace{\\mypar{\\ket{0}+\\mathbf{e^{2{\\pi}i\\phi 2^1}}\\ket{1}}}_{q_{t-1}} \\otimes \\underbrace{\\mypar{\\ket{0}+\\mathbf{e^{2{\\pi}i\\phi 2^0}}\\ket{1}}}_{q_t}$."
      ]
    },
    {
      "cell_type": "markdown",
      "metadata": {
        "id": "WbKlxynnTvDF"
      },
      "source": [
        "This state is indeed the same as the state obtained by $ QFT\\ket{j} $:\n",
        "\n",
        "$ QFT\\ket{j} = \\dfrac{1}{\\sqrt{N}}  \n",
        "    \\underbrace{ \\mypar{\\ket{0}+e^{2\\pi i \\mathbf{[ 0.j_n ]} } \\ket{1} } }_{q_1} \\otimes  \n",
        "    \\underbrace{ \\mypar{\\ket{0}+e^{2\\pi i \\mathbf{[ 0.j_{n-1}j_n ]} } \\ket{1} } }_{q_{n-1}}  \\otimes\n",
        "    \\cdots  \\otimes\n",
        "    \\underbrace{ \\mypar{\\ket{0}+e^{2\\pi i \\mathbf{[ 0.j_1\\cdots j_n]} } \\ket{1} } }_{q_n} ,\n",
        "$\n",
        "\n",
        "where $ N = 2^n $ and $ \\ket{j} \\in \\{ \\ket{0},\\ldots,\\ket{N-1} \\} $.\n",
        "\n",
        "The only difference is that $ j $ is an integer and so the binary fraction component of a relative phase is stored on $ n $ bits. On the other hand, $ \\phi $ may use arbitrary number of bits or have infinitely many digits."
      ]
    },
    {
      "cell_type": "markdown",
      "metadata": {
        "id": "DHcVVI7gTvDF"
      },
      "source": [
        "To show that $ \\ket{u} $ and $ QFT\\ket{j} $ are (almost) the same, we re-formed the relative phases in $ \\ket{u} $.\n",
        "\n",
        "Both $ t $ and $ n $ are the number of qubits. We can use them interchangeably.\n",
        "\n",
        "The value $ \\phi \\in [0,1) $ is represented in binary as $ [ 0.\\phi_1 \\phi_2 \\cdots \\phi_n \\phi_{n+1} \\cdots ] $.\n",
        "\n",
        "Multiplying $\\phi$ with the powers of 2 shifts the decimal point to the right:\n",
        "- $ \\phi 2^0 = [ 0 \\mathbf{.}\\phi_1 \\phi_2 \\cdots \\phi_n \\phi_{n+1} \\cdots ]  $\n",
        "- $ \\phi 2^1 = [\\phi_1 \\mathbf{.} \\phi_2 \\cdots \\phi_n \\phi_{n+1} \\cdots ]  $\n",
        "<br> $ ~~~ \\vdots $\n",
        "- $ \\phi 2^{n-1} = [ \\phi_1 \\phi_2 \\cdots \\phi_{n-1} \\mathbf{.} \\phi_n \\phi_{n+1} \\cdots ]  $\n",
        "\n",
        "These values are in the exponent of $ e $ and in multiplication with $ 2\\pi $. Thus, we can remove the integer parts.\n",
        "\n",
        "$ \\ket{u} = \\dfrac {1}{\\sqrt{N}} \\underbrace{\\mypar{\\ket{0}+e^{2{\\pi}i  \\mathbf{[0.\\phi_n\\cdots]} }}\\ket{1} }_{q_1} \\otimes \\underbrace{\\mypar{\\ket{0}+e^{2{\\pi}i \\mathbf{[0.\\phi_{n-1}\\phi_n\\cdots]} }}\\ket{1} }_{q_2} \\otimes \\cdots \\otimes \\underbrace{\\mypar{\\ket{0}+e^{2{\\pi}i \\mathbf{[0.\\phi_1 \\cdots \\phi_n\\cdots]} }}\\ket{1} }_{q_{n-1}} $."
      ]
    },
    {
      "cell_type": "markdown",
      "metadata": {
        "id": "-Dx8H3WDTvDF"
      },
      "source": [
        "It is clear that $ QFT^\\dagger QFT \\ket{j} = \\ket{j} $.\n",
        "\n",
        "So, to estimate $ \\phi $, we can simply apply $ QFT^\\dagger $ to $ \\ket{u} $ and then measure all qubits (on the first register)."
      ]
    },
    {
      "cell_type": "markdown",
      "metadata": {
        "id": "rfVKZptjTvDG"
      },
      "source": [
        "### Circuit\n",
        "\n",
        "Here is the whole circuit for quantum phase estimation algorithm."
      ]
    },
    {
      "cell_type": "markdown",
      "metadata": {
        "id": "xkTtoorzTvDG"
      },
      "source": [
        "<img src=\"https://gitlab.com/qworld/qeducation/qbook101/raw/main/qbook101/images/ch5/phase.png\" width=\"60%\" align=\"center\">"
      ]
    },
    {
      "cell_type": "markdown",
      "metadata": {
        "id": "CAMZVFdVTvDG"
      },
      "source": [
        "The circuit uses $ O(t^2) $ gates with $ t $ calls of $ CU^{2^j} $s."
      ]
    },
    {
      "cell_type": "markdown",
      "metadata": {
        "id": "ccD0Mn21TvDG"
      },
      "source": [
        "### Outcomes"
      ]
    },
    {
      "cell_type": "markdown",
      "metadata": {
        "id": "qDku-ZGQTvDG"
      },
      "source": [
        "If there is $ \\ket{j} \\in \\{ \\ket{0},\\ldots,\\ket{N-1} \\} $ satisfying that $ j = N \\cdot \\phi $, then the outcome is $ \\ket{j} $ with probability 1 and so $ \\phi = \\dfrac{j}{N} $.\n",
        "\n",
        "Otherwise, $   N \\cdot \\phi $ is between integers $ j $ and $ j+1 $ ($ 0 \\leq j < j+1 \\leq N-1 $), then the outcome will be $ \\ket{j} $ or $ \\ket{j+1} $ with high probability. In either case, we will have an estimation of $ \\phi $: $ \\dfrac{j}{N} < \\phi < \\dfrac{j+1}{N} $.\n",
        "\n",
        "To have better estimation, more qubits can be used on the first register, i.e., choosing $ t = m + \\left \\lceil \\log \\left (2 + \\frac{1}{2\\varepsilon} \\right) \\right \\rceil $, we can approximate $\\phi$ accurate to $ m $ bits with probability of success at least $1 - \\epsilon$."
      ]
    },
    {
      "cell_type": "markdown",
      "metadata": {
        "id": "Ns-czWCmTvDG"
      },
      "source": [
        "If we take any arbitrary state instead of $\\ket{\\psi}$, then we obtain an approximation to one of the eigenvalues with some probability. The reason behind is that we can express any quantum state as a linear combination of the eigenvectors.\n",
        "\n",
        "As we know how to implement $QFT^{\\dagger}$ efficiently, we have obtained an efficient algorithm for phase estimation as well. Many interesting problems reduce to phase estimation problem."
      ]
    },
    {
      "cell_type": "markdown",
      "metadata": {
        "id": "C2OnSGQ1TvDG"
      },
      "source": [
        "## Examples"
      ]
    },
    {
      "cell_type": "markdown",
      "metadata": {
        "id": "vxvX5_GoTvDL"
      },
      "source": [
        "### Single qubit unitary operator"
      ]
    },
    {
      "cell_type": "markdown",
      "metadata": {
        "id": "zq2-1kEXTvDL"
      },
      "source": [
        "We consider a single qubit unitary operator $ U $ that has eigenvector $ \\ket{1} $ and eigenvalue $e^{2\\pi i \\phi}$ where $\\phi = \\frac{5}{16}$.\n",
        "\n",
        "The gate `CZPowGate(2*5/16)` in Cirq is a good candidate of $ U $ as we take its exponents easily."
      ]
    },
    {
      "cell_type": "code",
      "execution_count": 3,
      "metadata": {
        "id": "oERra80VTvDM"
      },
      "outputs": [],
      "source": [
        "import cirq\n",
        "from cirq import CZPowGate\n",
        "\n",
        "def CU(power, qcontrol, target):\n",
        "    circuit = cirq.Circuit()\n",
        "\n",
        "    circuit.append(CZPowGate(exponent = (2*5/16)*(2**power)).on(qcontrol, *target))\n",
        "    return circuit"
      ]
    },
    {
      "cell_type": "code",
      "source": [
        "from cirq.circuits import InsertStrategy\n",
        "\n",
        "def myInvQFT(qubits):\n",
        "  N = len(qubits)\n",
        "  circuit = cirq.Circuit()\n",
        "  for i in range(N // 2):\n",
        "    circuit.append(cirq.SWAP(qubits[i], qubits[N - 1 - i]), strategy = InsertStrategy.NEW)\n",
        "  for i in range(N - 1, -1, -1):\n",
        "    phase_divisor = 2 ** (N - i)\n",
        "    for j in range(N - 1, i, -1):\n",
        "      circuit.append(cirq.CZPowGate(exponent = -2 / phase_divisor).on(qubits[j], qubits[i]), strategy = InsertStrategy.NEW)\n",
        "      phase_divisor = phase_divisor / 2\n",
        "    circuit.append(cirq.H(qubits[i]), strategy = InsertStrategy.NEW)\n",
        "  return circuit"
      ],
      "metadata": {
        "id": "qPDK0EFYABdG"
      },
      "execution_count": 9,
      "outputs": []
    },
    {
      "cell_type": "markdown",
      "metadata": {
        "id": "-GoocPwvTvDM"
      },
      "source": [
        "<h3>Task 3</h3>\n",
        "\n",
        "Pick $t=4$ and implement the phase estimation circuit to estimate $\\phi$.\n",
        "\n",
        "Use your `myInvQFT` method ([see previous notebook](D02_Quantum_Fourier_Transform.ipynb#task9)) for $ QFT^\\dagger $.\n",
        "\n",
        "\n",
        "Note that you should get an exact result since $t=4$ is precise enough."
      ]
    },
    {
      "cell_type": "code",
      "execution_count": 24,
      "metadata": {
        "id": "yGWDfz5YTvDM",
        "outputId": "f047e3cf-6037-44fb-b280-57681deabd45",
        "colab": {
          "base_uri": "https://localhost:8080/"
        }
      },
      "outputs": [
        {
          "output_type": "stream",
          "name": "stdout",
          "text": [
            "0: ───H───────────────────────────────@───×───────────────────────────────────────────────@──────────@─────────@────────H───M('result')───\n",
            "                                      │   │                                               │          │         │            │\n",
            "1: ───H───────────────────────@───────┼───┼───×────────────────────@─────────@────────H───┼──────────┼─────────@^-0.5───────M─────────────\n",
            "                              │       │   │   │                    │         │            │          │                      │\n",
            "2: ───H─────────────@─────────┼───────┼───┼───×───────@────────H───┼─────────@^-0.5───────┼──────────@^-0.25────────────────M─────────────\n",
            "                    │         │       │   │           │            │                      │                                 │\n",
            "3: ───H───@─────────┼─────────┼───────┼───×───────H───@^-0.5───────@^-0.25────────────────@^(-1/8)──────────────────────────M─────────────\n",
            "          │         │         │       │\n",
            "4: ───X───@^(5/8)───@^-0.75───@^0.5───@───────────────────────────────────────────────────────────────────────────────────────────────────\n",
            "Counter({5: 1000})\n"
          ]
        }
      ],
      "source": [
        "import cirq\n",
        "from cirq import X, H, SWAP, CZPowGate, measure\n",
        "\n",
        "#\n",
        "# your code here\n",
        "#\n",
        "circuit = cirq.Circuit()\n",
        "qubits = cirq.LineQubit.range(5)\n",
        "\n",
        "circuit.append(H.on_each(*qubits[0:4]))\n",
        "circuit.append(X(qubits[4]))\n",
        "\n",
        "t = 4\n",
        "for i in range(t):\n",
        "  circuit.append(CU(i, qubits[t - 1 - i], [qubits[4]]))\n",
        "\n",
        "circuit = circuit + myInvQFT(qubits[0:4])\n",
        "circuit.append(measure(*qubits[0:4], key = 'result'))\n",
        "print(circuit)\n",
        "\n",
        "s = cirq.Simulator()\n",
        "sample = s.run(circuit, repetitions = 1000)\n",
        "print(sample.histogram(key = 'result'))"
      ]
    },
    {
      "cell_type": "markdown",
      "metadata": {
        "id": "wvB7XB81TvDM"
      },
      "source": [
        "To check out our solution, run the next cell:"
      ]
    },
    {
      "cell_type": "code",
      "execution_count": null,
      "metadata": {
        "id": "oE7BLKiyTvDM"
      },
      "outputs": [],
      "source": [
        "SolutionToTask3()  # show solution for task 3"
      ]
    },
    {
      "cell_type": "markdown",
      "metadata": {
        "id": "KJmlkSDBTvDM"
      },
      "source": [
        "<h3>Task 4</h3>\n",
        "\n",
        "Repeat Task 3 by using only three qubits on the first register ($t=3$).\n",
        "\n",
        "What do you expect to see?"
      ]
    },
    {
      "cell_type": "code",
      "execution_count": 25,
      "metadata": {
        "scrolled": true,
        "id": "DGkyfx30TvDM",
        "outputId": "e6868fc6-0781-4fa1-c132-341cf9071dbc",
        "colab": {
          "base_uri": "https://localhost:8080/"
        }
      },
      "outputs": [
        {
          "output_type": "stream",
          "name": "stdout",
          "text": [
            "0: ───H───────────────────────@───────×────────────────────@─────────@────────H───M('result')───\n",
            "                              │       │                    │         │            │\n",
            "1: ───H─────────────@─────────┼───────┼───────@────────H───┼─────────@^-0.5───────M─────────────\n",
            "                    │         │       │       │            │                      │\n",
            "2: ───H───@─────────┼─────────┼───────×───H───@^-0.5───────@^-0.25────────────────M─────────────\n",
            "          │         │         │\n",
            "3: ───X───@^(5/8)───@^-0.75───@^0.5─────────────────────────────────────────────────────────────\n",
            "Counter({3: 417, 2: 380, 1: 58, 4: 50, 5: 31, 0: 27, 6: 21, 7: 16})\n"
          ]
        }
      ],
      "source": [
        "import cirq\n",
        "from cirq import X, H, SWAP, CZPowGate, measure\n",
        "\n",
        "#\n",
        "# your code here\n",
        "#\n",
        "circuit = cirq.Circuit()\n",
        "qubits = cirq.LineQubit.range(4)\n",
        "\n",
        "circuit.append(H.on_each(*qubits[0:3]))\n",
        "circuit.append(X(qubits[3]))\n",
        "\n",
        "t = 3\n",
        "for i in range(t):\n",
        "  circuit.append(CU(i, qubits[t - 1 - i], [qubits[3]]))\n",
        "\n",
        "circuit = circuit + myInvQFT(qubits[0:3])\n",
        "circuit.append(measure(*qubits[0:3], key = 'result'))\n",
        "print(circuit)\n",
        "\n",
        "s = cirq.Simulator()\n",
        "sample = s.run(circuit, repetitions = 1000)\n",
        "print(sample.histogram(key = 'result'))"
      ]
    },
    {
      "cell_type": "markdown",
      "metadata": {
        "id": "iZliJIeFTvDM"
      },
      "source": [
        "To check out our solution, run the next cell:"
      ]
    },
    {
      "cell_type": "code",
      "execution_count": null,
      "metadata": {
        "id": "iNMlxzH3TvDM"
      },
      "outputs": [],
      "source": [
        "SolutionToTask4()  # show solution for task 4"
      ]
    },
    {
      "cell_type": "markdown",
      "metadata": {
        "id": "izuoSneCTvDM"
      },
      "source": [
        "<h3>Task 5</h3>\n",
        "\n",
        "Update $ CU $ with $\\phi=0.685$.\n",
        "\n",
        "Repeat Task 3 for different $t$ values between 1 and 10.\n",
        "- Execute your circuits 1000 times.\n",
        "- Pick the outcome with highest frequency."
      ]
    },
    {
      "cell_type": "code",
      "execution_count": 26,
      "metadata": {
        "id": "aEgD2vOjTvDM",
        "outputId": "271c1fde-cecf-48e8-cf98-0cab65b9ba7e",
        "colab": {
          "base_uri": "https://localhost:8080/"
        }
      },
      "outputs": [
        {
          "output_type": "stream",
          "name": "stdout",
          "text": [
            "t = 1\n",
            "0: ───H───@─────────H───M('result')───\n",
            "          │\n",
            "1: ───X───@^-0.63─────────────────────\n",
            "Counter({1: 697, 0: 303})\n",
            "1 : phi is 0.0\n",
            "\n",
            "t = 2\n",
            "0: ───H─────────────@────────×───────@────────H───M('result')───\n",
            "                    │        │       │            │\n",
            "1: ───H───@─────────┼────────×───H───@^-0.5───────M─────────────\n",
            "          │         │\n",
            "2: ───X───@^-0.63───@^0.74──────────────────────────────────────\n",
            "Counter({3: 806, 2: 106, 0: 53, 1: 35})\n",
            "2 : phi is 0.5\n",
            "\n",
            "t = 3\n",
            "0: ───H──────────────────────@─────────×────────────────────@─────────@────────H───M('result')───\n",
            "                             │         │                    │         │            │\n",
            "1: ───H─────────────@────────┼─────────┼───────@────────H───┼─────────@^-0.5───────M─────────────\n",
            "                    │        │         │       │            │                      │\n",
            "2: ───H───@─────────┼────────┼─────────×───H───@^-0.5───────@^-0.25────────────────M─────────────\n",
            "          │         │        │\n",
            "3: ───X───@^-0.63───@^0.74───@^-0.52─────────────────────────────────────────────────────────────\n",
            "Counter({5: 448, 6: 389, 7: 50, 4: 47, 1: 20, 2: 16, 3: 16, 0: 14})\n",
            "3 : phi is 0.625\n",
            "\n",
            "t = 4\n",
            "0: ───H────────────────────────────────@────────×───────────────────────────────────────────────@──────────@─────────@────────H───M('result')───\n",
            "                                       │        │                                               │          │         │            │\n",
            "1: ───H──────────────────────@─────────┼────────┼───×────────────────────@─────────@────────H───┼──────────┼─────────@^-0.5───────M─────────────\n",
            "                             │         │        │   │                    │         │            │          │                      │\n",
            "2: ───H─────────────@────────┼─────────┼────────┼───×───────@────────H───┼─────────@^-0.5───────┼──────────@^-0.25────────────────M─────────────\n",
            "                    │        │         │        │           │            │                      │                                 │\n",
            "3: ───H───@─────────┼────────┼─────────┼────────×───────H───@^-0.5───────@^-0.25────────────────@^(-1/8)──────────────────────────M─────────────\n",
            "          │         │        │         │\n",
            "4: ───X───@^-0.63───@^0.74───@^-0.52───@^0.96───────────────────────────────────────────────────────────────────────────────────────────────────\n",
            "Counter({11: 994, 10: 4, 12: 2})\n",
            "4 : phi is 0.6875\n",
            "\n",
            "t = 5\n",
            "0: ───H─────────────────────────────────────────@─────────×─────────────────────────────────────────────────────────────────────────────────@───────────@──────────@─────────@────────H───M('result')───\n",
            "                                                │         │                                                                                 │           │          │         │            │\n",
            "1: ───H────────────────────────────────@────────┼─────────┼───×───────────────────────────────────────────@──────────@─────────@────────H───┼───────────┼──────────┼─────────@^-0.5───────M─────────────\n",
            "                                       │        │         │   │                                           │          │         │            │           │          │                      │\n",
            "2: ───H──────────────────────@─────────┼────────┼─────────┼───┼────────────────────@─────────@────────H───┼──────────┼─────────@^-0.5───────┼───────────┼──────────@^-0.25────────────────M─────────────\n",
            "                             │         │        │         │   │                    │         │            │          │                      │           │                                 │\n",
            "3: ───H─────────────@────────┼─────────┼────────┼─────────┼───×───────@────────H───┼─────────@^-0.5───────┼──────────@^-0.25────────────────┼───────────@^(-1/8)──────────────────────────M─────────────\n",
            "                    │        │         │        │         │           │            │                      │                                 │                                             │\n",
            "4: ───H───@─────────┼────────┼─────────┼────────┼─────────×───────H───@^-0.5───────@^-0.25────────────────@^(-1/8)──────────────────────────@^(-1/16)─────────────────────────────────────M─────────────\n",
            "          │         │        │         │        │\n",
            "5: ───X───@^-0.63───@^0.74───@^-0.52───@^0.96───@^-0.08─────────────────────────────────────────────────────────────────────────────────────────────────────────────────────────────────────────────────\n",
            "Counter({22: 976, 21: 8, 23: 6, 20: 2, 24: 2, 12: 1, 30: 1, 2: 1, 19: 1, 26: 1, 4: 1})\n",
            "5 : phi is 0.6875\n",
            "\n",
            "t = 6\n",
            "0: ───H───────────────────────────────────────────────────@─────────×───────────────────────────────────────────────────────────────────────────────────────────────────────────────────────────────────@──────────@───────────@──────────@─────────@────────H───M('result')───\n",
            "                                                          │         │                                                                                                                                   │          │           │          │         │            │\n",
            "1: ───H─────────────────────────────────────────@─────────┼─────────┼───×─────────────────────────────────────────────────────────────────────────────────@───────────@──────────@─────────@────────H───┼──────────┼───────────┼──────────┼─────────@^-0.5───────M─────────────\n",
            "                                                │         │         │   │                                                                                 │           │          │         │            │          │           │          │                      │\n",
            "2: ───H────────────────────────────────@────────┼─────────┼─────────┼───┼───×───────────────────────────────────────────@──────────@─────────@────────H───┼───────────┼──────────┼─────────@^-0.5───────┼──────────┼───────────┼──────────@^-0.25────────────────M─────────────\n",
            "                                       │        │         │         │   │   │                                           │          │         │            │           │          │                      │          │           │                                 │\n",
            "3: ───H──────────────────────@─────────┼────────┼─────────┼─────────┼───┼───×────────────────────@─────────@────────H───┼──────────┼─────────@^-0.5───────┼───────────┼──────────@^-0.25────────────────┼──────────┼───────────@^(-1/8)──────────────────────────M─────────────\n",
            "                             │         │        │         │         │   │                        │         │            │          │                      │           │                                 │          │                                             │\n",
            "4: ───H─────────────@────────┼─────────┼────────┼─────────┼─────────┼───×───────────@────────H───┼─────────@^-0.5───────┼──────────@^-0.25────────────────┼───────────@^(-1/8)──────────────────────────┼──────────@^(-1/16)─────────────────────────────────────M─────────────\n",
            "                    │        │         │        │         │         │               │            │                      │                                 │                                             │                                                        │\n",
            "5: ───H───@─────────┼────────┼─────────┼────────┼─────────┼─────────×───────────H───@^-0.5───────@^-0.25────────────────@^(-1/8)──────────────────────────@^(-1/16)─────────────────────────────────────@^-0.031─────────────────────────────────────────────────M─────────────\n",
            "          │         │        │         │        │         │\n",
            "6: ───X───@^-0.63───@^0.74───@^-0.52───@^0.96───@^-0.08───@^-0.16──────────────────────────────────────────────────────────────────────────────────────────────────────────────────────────────────────────────────────────────────────────────────────────────────────────────\n",
            "Counter({44: 917, 43: 32, 45: 15, 42: 8, 46: 7, 41: 4, 40: 3, 47: 2, 59: 1, 37: 1, 52: 1, 10: 1, 54: 1, 25: 1, 49: 1, 9: 1, 53: 1, 29: 1, 3: 1, 39: 1})\n",
            "6 : phi is 0.6875\n",
            "\n",
            "t = 7\n",
            "0: ───H─────────────────────────────────────────────────────────────@─────────×────────────────────────────────────────────────────────────────────────────────────────────────────────────────────────────────────────────────────────────────────────────────────────────@──────────@──────────@───────────@──────────@─────────@────────H───M('result')───\n",
            "                                                                    │         │                                                                                                                                                                                            │          │          │           │          │         │            │\n",
            "1: ───H───────────────────────────────────────────────────@─────────┼─────────┼───×───────────────────────────────────────────────────────────────────────────────────────────────────────────────────────────────@──────────@───────────@──────────@─────────@────────H───┼──────────┼──────────┼───────────┼──────────┼─────────@^-0.5───────M─────────────\n",
            "                                                          │         │         │   │                                                                                                                               │          │           │          │         │            │          │          │           │          │                      │\n",
            "2: ───H─────────────────────────────────────────@─────────┼─────────┼─────────┼───┼───×─────────────────────────────────────────────────────────────────────────────@───────────@──────────@─────────@────────H───┼──────────┼───────────┼──────────┼─────────@^-0.5───────┼──────────┼──────────┼───────────┼──────────@^-0.25────────────────M─────────────\n",
            "                                                │         │         │         │   │   │                                                                             │           │          │         │            │          │           │          │                      │          │          │           │                                 │\n",
            "3: ───H────────────────────────────────@────────┼─────────┼─────────┼─────────┼───┼───┼───────────────────────────────────────────@──────────@─────────@────────H───┼───────────┼──────────┼─────────@^-0.5───────┼──────────┼───────────┼──────────@^-0.25────────────────┼──────────┼──────────┼───────────@^(-1/8)──────────────────────────M─────────────\n",
            "                                       │        │         │         │         │   │   │                                           │          │         │            │           │          │                      │          │           │                                 │          │          │                                             │\n",
            "4: ───H──────────────────────@─────────┼────────┼─────────┼─────────┼─────────┼───┼───×────────────────────@─────────@────────H───┼──────────┼─────────@^-0.5───────┼───────────┼──────────@^-0.25────────────────┼──────────┼───────────@^(-1/8)──────────────────────────┼──────────┼──────────@^(-1/16)─────────────────────────────────────M─────────────\n",
            "                             │         │        │         │         │         │   │                        │         │            │          │                      │           │                                 │          │                                             │          │                                                        │\n",
            "5: ───H─────────────@────────┼─────────┼────────┼─────────┼─────────┼─────────┼───×───────────@────────H───┼─────────@^-0.5───────┼──────────@^-0.25────────────────┼───────────@^(-1/8)──────────────────────────┼──────────@^(-1/16)─────────────────────────────────────┼──────────@^-0.031─────────────────────────────────────────────────M─────────────\n",
            "                    │        │         │        │         │         │         │               │            │                      │                                 │                                             │                                                        │                                                                   │\n",
            "6: ───H───@─────────┼────────┼─────────┼────────┼─────────┼─────────┼─────────×───────────H───@^-0.5───────@^-0.25────────────────@^(-1/8)──────────────────────────@^(-1/16)─────────────────────────────────────@^-0.031─────────────────────────────────────────────────@^-0.016────────────────────────────────────────────────────────────M─────────────\n",
            "          │         │        │         │        │         │         │\n",
            "7: ───X───@^-0.63───@^0.74───@^-0.52───@^0.96───@^-0.08───@^-0.16───@^-0.32──────────────────────────────────────────────────────────────────────────────────────────────────────────────────────────────────────────────────────────────────────────────────────────────────────────────────────────────────────────────────────────────────────────────────\n",
            "Counter({88: 711, 87: 156, 89: 43, 86: 23, 85: 16, 90: 14, 91: 7, 83: 5, 92: 3, 97: 2, 70: 2, 82: 2, 94: 2, 84: 2, 77: 1, 81: 1, 108: 1, 68: 1, 96: 1, 23: 1, 80: 1, 93: 1, 73: 1, 101: 1, 125: 1, 99: 1})\n",
            "7 : phi is 0.703125\n",
            "\n",
            "t = 8\n",
            "0: ───H───────────────────────────────────────────────────────────────────────@─────────×────────────────────────────────────────────────────────────────────────────────────────────────────────────────────────────────────────────────────────────────────────────────────────────────────────────────────────────────────────────────────────────────────@──────────@──────────@──────────@───────────@──────────@─────────@────────H───M('result')───\n",
            "                                                                              │         │                                                                                                                                                                                                                                                                    │          │          │          │           │          │         │            │\n",
            "1: ───H─────────────────────────────────────────────────────────────@─────────┼─────────┼───×────────────────────────────────────────────────────────────────────────────────────────────────────────────────────────────────────────────────────────────────────────────────────────────@──────────@──────────@───────────@──────────@─────────@────────H───┼──────────┼──────────┼──────────┼───────────┼──────────┼─────────@^-0.5───────M─────────────\n",
            "                                                                    │         │         │   │                                                                                                                                                                                            │          │          │           │          │         │            │          │          │          │           │          │                      │\n",
            "2: ───H───────────────────────────────────────────────────@─────────┼─────────┼─────────┼───┼───×───────────────────────────────────────────────────────────────────────────────────────────────────────────────────────────────@──────────@───────────@──────────@─────────@────────H───┼──────────┼──────────┼───────────┼──────────┼─────────@^-0.5───────┼──────────┼──────────┼──────────┼───────────┼──────────@^-0.25────────────────M─────────────\n",
            "                                                          │         │         │         │   │   │                                                                                                                               │          │           │          │         │            │          │          │           │          │                      │          │          │          │           │                                 │\n",
            "3: ───H─────────────────────────────────────────@─────────┼─────────┼─────────┼─────────┼───┼───┼───×─────────────────────────────────────────────────────────────────────────────@───────────@──────────@─────────@────────H───┼──────────┼───────────┼──────────┼─────────@^-0.5───────┼──────────┼──────────┼───────────┼──────────@^-0.25────────────────┼──────────┼──────────┼──────────┼───────────@^(-1/8)──────────────────────────M─────────────\n",
            "                                                │         │         │         │         │   │   │   │                                                                             │           │          │         │            │          │           │          │                      │          │          │           │                                 │          │          │          │                                             │\n",
            "4: ───H────────────────────────────────@────────┼─────────┼─────────┼─────────┼─────────┼───┼───┼───×───────────────────────────────────────────@──────────@─────────@────────H───┼───────────┼──────────┼─────────@^-0.5───────┼──────────┼───────────┼──────────@^-0.25────────────────┼──────────┼──────────┼───────────@^(-1/8)──────────────────────────┼──────────┼──────────┼──────────@^(-1/16)─────────────────────────────────────M─────────────\n",
            "                                       │        │         │         │         │         │   │   │                                               │          │         │            │           │          │                      │          │           │                                 │          │          │                                             │          │          │                                                        │\n",
            "5: ───H──────────────────────@─────────┼────────┼─────────┼─────────┼─────────┼─────────┼───┼───×────────────────────────@─────────@────────H───┼──────────┼─────────@^-0.5───────┼───────────┼──────────@^-0.25────────────────┼──────────┼───────────@^(-1/8)──────────────────────────┼──────────┼──────────@^(-1/16)─────────────────────────────────────┼──────────┼──────────@^-0.031─────────────────────────────────────────────────M─────────────\n",
            "                             │         │        │         │         │         │         │   │                            │         │            │          │                      │           │                                 │          │                                             │          │                                                        │          │                                                                   │\n",
            "6: ───H─────────────@────────┼─────────┼────────┼─────────┼─────────┼─────────┼─────────┼───×───────────────@────────H───┼─────────@^-0.5───────┼──────────@^-0.25────────────────┼───────────@^(-1/8)──────────────────────────┼──────────@^(-1/16)─────────────────────────────────────┼──────────@^-0.031─────────────────────────────────────────────────┼──────────@^-0.016────────────────────────────────────────────────────────────M─────────────\n",
            "                    │        │         │        │         │         │         │         │                   │            │                      │                                 │                                             │                                                        │                                                                   │                                                                              │\n",
            "7: ───H───@─────────┼────────┼─────────┼────────┼─────────┼─────────┼─────────┼─────────×───────────────H───@^-0.5───────@^-0.25────────────────@^(-1/8)──────────────────────────@^(-1/16)─────────────────────────────────────@^-0.031─────────────────────────────────────────────────@^-0.016────────────────────────────────────────────────────────────@^-0.008───────────────────────────────────────────────────────────────────────M─────────────\n",
            "          │         │        │         │        │         │         │         │\n",
            "8: ───X───@^-0.63───@^0.74───@^-0.52───@^0.96───@^-0.08───@^-0.16───@^-0.32───@^-0.64─────────────────────────────────────────────────────────────────────────────────────────────────────────────────────────────────────────────────────────────────────────────────────────────────────────────────────────────────────────────────────────────────────────────────────────────────────────────────────────────────────────────────────────────────────\n",
            "Counter({175: 622, 176: 213, 174: 44, 177: 39, 178: 17, 173: 14, 172: 8, 179: 6, 171: 3, 170: 3, 181: 2, 194: 2, 184: 2, 182: 2, 180: 2, 159: 1, 215: 1, 166: 1, 183: 1, 188: 1, 160: 1, 155: 1, 161: 1, 205: 1, 187: 1, 167: 1, 124: 1, 121: 1, 146: 1, 168: 1, 71: 1, 114: 1, 148: 1, 189: 1, 169: 1, 164: 1})\n",
            "8 : phi is 0.68359375\n",
            "\n",
            "t = 9\n",
            "0: ───H─────────────────────────────────────────────────────────────────────────────────@────────×───────────────────────────────────────────────────────────────────────────────────────────────────────────────────────────────────────────────────────────────────────────────────────────────────────────────────────────────────────────────────────────────────────────────────────────────────────────────────────────────────────────────────@──────────@──────────@──────────@──────────@───────────@──────────@─────────@────────H───M('result')───\n",
            "                                                                                        │        │                                                                                                                                                                                                                                                                                                                                                   │          │          │          │          │           │          │         │            │\n",
            "1: ───H───────────────────────────────────────────────────────────────────────@─────────┼────────┼───×────────────────────────────────────────────────────────────────────────────────────────────────────────────────────────────────────────────────────────────────────────────────────────────────────────────────────────────────────────────────────────────────@──────────@──────────@──────────@───────────@──────────@─────────@────────H───┼──────────┼──────────┼──────────┼──────────┼───────────┼──────────┼─────────@^-0.5───────M─────────────\n",
            "                                                                              │         │        │   │                                                                                                                                                                                                                                                                │          │          │          │           │          │         │            │          │          │          │          │           │          │                      │\n",
            "2: ───H─────────────────────────────────────────────────────────────@─────────┼─────────┼────────┼───┼───×────────────────────────────────────────────────────────────────────────────────────────────────────────────────────────────────────────────────────────────────────────────────────────@──────────@──────────@───────────@──────────@─────────@────────H───┼──────────┼──────────┼──────────┼───────────┼──────────┼─────────@^-0.5───────┼──────────┼──────────┼──────────┼──────────┼───────────┼──────────@^-0.25────────────────M─────────────\n",
            "                                                                    │         │         │        │   │   │                                                                                                                                                                                        │          │          │           │          │         │            │          │          │          │           │          │                      │          │          │          │          │           │                                 │\n",
            "3: ───H───────────────────────────────────────────────────@─────────┼─────────┼─────────┼────────┼───┼───┼───×───────────────────────────────────────────────────────────────────────────────────────────────────────────────────────────@──────────@───────────@──────────@─────────@────────H───┼──────────┼──────────┼───────────┼──────────┼─────────@^-0.5───────┼──────────┼──────────┼──────────┼───────────┼──────────@^-0.25────────────────┼──────────┼──────────┼──────────┼──────────┼───────────@^(-1/8)──────────────────────────M─────────────\n",
            "                                                          │         │         │         │        │   │   │   │                                                                                                                           │          │           │          │         │            │          │          │           │          │                      │          │          │          │           │                                 │          │          │          │          │                                             │\n",
            "4: ───H─────────────────────────────────────────@─────────┼─────────┼─────────┼─────────┼────────┼───┼───┼───┼─────────────────────────────────────────────────────────────────────────────@───────────@──────────@─────────@────────H───┼──────────┼───────────┼──────────┼─────────@^-0.5───────┼──────────┼──────────┼───────────┼──────────@^-0.25────────────────┼──────────┼──────────┼──────────┼───────────@^(-1/8)──────────────────────────┼──────────┼──────────┼──────────┼──────────@^(-1/16)─────────────────────────────────────M─────────────\n",
            "                                                │         │         │         │         │        │   │   │   │                                                                             │           │          │         │            │          │           │          │                      │          │          │           │                                 │          │          │          │                                             │          │          │          │                                                        │\n",
            "5: ───H────────────────────────────────@────────┼─────────┼─────────┼─────────┼─────────┼────────┼───┼───┼───×───────────────────────────────────────────@──────────@─────────@────────H───┼───────────┼──────────┼─────────@^-0.5───────┼──────────┼───────────┼──────────@^-0.25────────────────┼──────────┼──────────┼───────────@^(-1/8)──────────────────────────┼──────────┼──────────┼──────────@^(-1/16)─────────────────────────────────────┼──────────┼──────────┼──────────@^-0.031─────────────────────────────────────────────────M─────────────\n",
            "                                       │        │         │         │         │         │        │   │   │                                               │          │         │            │           │          │                      │          │           │                                 │          │          │                                             │          │          │                                                        │          │          │                                                                   │\n",
            "6: ───H──────────────────────@─────────┼────────┼─────────┼─────────┼─────────┼─────────┼────────┼───┼───×────────────────────────@─────────@────────H───┼──────────┼─────────@^-0.5───────┼───────────┼──────────@^-0.25────────────────┼──────────┼───────────@^(-1/8)──────────────────────────┼──────────┼──────────@^(-1/16)─────────────────────────────────────┼──────────┼──────────@^-0.031─────────────────────────────────────────────────┼──────────┼──────────@^-0.016────────────────────────────────────────────────────────────M─────────────\n",
            "                             │         │        │         │         │         │         │        │   │                            │         │            │          │                      │           │                                 │          │                                             │          │                                                        │          │                                                                   │          │                                                                              │\n",
            "7: ───H─────────────@────────┼─────────┼────────┼─────────┼─────────┼─────────┼─────────┼────────┼───×───────────────@────────H───┼─────────@^-0.5───────┼──────────@^-0.25────────────────┼───────────@^(-1/8)──────────────────────────┼──────────@^(-1/16)─────────────────────────────────────┼──────────@^-0.031─────────────────────────────────────────────────┼──────────@^-0.016────────────────────────────────────────────────────────────┼──────────@^-0.008───────────────────────────────────────────────────────────────────────M─────────────\n",
            "                    │        │         │        │         │         │         │         │        │                   │            │                      │                                 │                                             │                                                        │                                                                   │                                                                              │                                                                                         │\n",
            "8: ───H───@─────────┼────────┼─────────┼────────┼─────────┼─────────┼─────────┼─────────┼────────×───────────────H───@^-0.5───────@^-0.25────────────────@^(-1/8)──────────────────────────@^(-1/16)─────────────────────────────────────@^-0.031─────────────────────────────────────────────────@^-0.016────────────────────────────────────────────────────────────@^-0.008───────────────────────────────────────────────────────────────────────@^-0.004──────────────────────────────────────────────────────────────────────────────────M─────────────\n",
            "          │         │        │         │        │         │         │         │         │\n",
            "9: ───X───@^-0.63───@^0.74───@^-0.52───@^0.96───@^-0.08───@^-0.16───@^-0.32───@^-0.64───@^0.72───────────────────────────────────────────────────────────────────────────────────────────────────────────────────────────────────────────────────────────────────────────────────────────────────────────────────────────────────────────────────────────────────────────────────────────────────────────────────────────────────────────────────────────────────────────────────────────────────────────────────────────────────────────────────────────────\n",
            "Counter({351: 752, 350: 122, 352: 32, 349: 22, 353: 18, 354: 10, 348: 8, 355: 6, 346: 3, 358: 3, 362: 3, 357: 3, 345: 2, 341: 2, 473: 1, 337: 1, 344: 1, 293: 1, 363: 1, 324: 1, 328: 1, 356: 1, 347: 1, 330: 1, 365: 1, 322: 1, 192: 1, 199: 1})\n",
            "9 : phi is 0.685546875\n",
            "\n",
            "t = 10\n",
            "0: ────H──────────────────────────────────────────────────────────────────────────────────────────@─────────×─────────────────────────────────────────────────────────────────────────────────────────────────────────────────────────────────────────────────────────────────────────────────────────────────────────────────────────────────────────────────────────────────────────────────────────────────────────────────────────────────────────────────────────────────────────────────────────────────────────────────────────────────────────────────@──────────@──────────@──────────@──────────@──────────@───────────@──────────@─────────@────────H───M('result')───\n",
            "                                                                                                  │         │                                                                                                                                                                                                                                                                                                                                                                                                                                                 │          │          │          │          │          │           │          │         │            │\n",
            "1: ────H─────────────────────────────────────────────────────────────────────────────────@────────┼─────────┼───×───────────────────────────────────────────────────────────────────────────────────────────────────────────────────────────────────────────────────────────────────────────────────────────────────────────────────────────────────────────────────────────────────────────────────────────────────────────────────────────────────────────────────@──────────@──────────@──────────@──────────@───────────@──────────@─────────@────────H───┼──────────┼──────────┼──────────┼──────────┼──────────┼───────────┼──────────┼─────────@^-0.5───────M─────────────\n",
            "                                                                                         │        │         │   │                                                                                                                                                                                                                                                                                                                                                   │          │          │          │          │           │          │         │            │          │          │          │          │          │           │          │                      │\n",
            "2: ────H───────────────────────────────────────────────────────────────────────@─────────┼────────┼─────────┼───┼───×────────────────────────────────────────────────────────────────────────────────────────────────────────────────────────────────────────────────────────────────────────────────────────────────────────────────────────────────────────────────────────────────@──────────@──────────@──────────@───────────@──────────@─────────@────────H───┼──────────┼──────────┼──────────┼──────────┼───────────┼──────────┼─────────@^-0.5───────┼──────────┼──────────┼──────────┼──────────┼──────────┼───────────┼──────────@^-0.25────────────────M─────────────\n",
            "                                                                               │         │        │         │   │   │                                                                                                                                                                                                                                                                │          │          │          │           │          │         │            │          │          │          │          │           │          │                      │          │          │          │          │          │           │                                 │\n",
            "3: ────H─────────────────────────────────────────────────────────────@─────────┼─────────┼────────┼─────────┼───┼───┼───×────────────────────────────────────────────────────────────────────────────────────────────────────────────────────────────────────────────────────────────────────────────────────────@──────────@──────────@───────────@──────────@─────────@────────H───┼──────────┼──────────┼──────────┼───────────┼──────────┼─────────@^-0.5───────┼──────────┼──────────┼──────────┼──────────┼───────────┼──────────@^-0.25────────────────┼──────────┼──────────┼──────────┼──────────┼──────────┼───────────@^(-1/8)──────────────────────────M─────────────\n",
            "                                                                     │         │         │        │         │   │   │   │                                                                                                                                                                                        │          │          │           │          │         │            │          │          │          │           │          │                      │          │          │          │          │           │                                 │          │          │          │          │          │                                             │\n",
            "4: ────H───────────────────────────────────────────────────@─────────┼─────────┼─────────┼────────┼─────────┼───┼───┼───┼───×───────────────────────────────────────────────────────────────────────────────────────────────────────────────────────────@──────────@───────────@──────────@─────────@────────H───┼──────────┼──────────┼───────────┼──────────┼─────────@^-0.5───────┼──────────┼──────────┼──────────┼───────────┼──────────@^-0.25────────────────┼──────────┼──────────┼──────────┼──────────┼───────────@^(-1/8)──────────────────────────┼──────────┼──────────┼──────────┼──────────┼──────────@^(-1/16)─────────────────────────────────────M─────────────\n",
            "                                                           │         │         │         │        │         │   │   │   │   │                                                                                                                           │          │           │          │         │            │          │          │           │          │                      │          │          │          │           │                                 │          │          │          │          │                                             │          │          │          │          │                                                        │\n",
            "5: ────H─────────────────────────────────────────@─────────┼─────────┼─────────┼─────────┼────────┼─────────┼───┼───┼───┼───×─────────────────────────────────────────────────────────────────────────────@───────────@──────────@─────────@────────H───┼──────────┼───────────┼──────────┼─────────@^-0.5───────┼──────────┼──────────┼───────────┼──────────@^-0.25────────────────┼──────────┼──────────┼──────────┼───────────@^(-1/8)──────────────────────────┼──────────┼──────────┼──────────┼──────────@^(-1/16)─────────────────────────────────────┼──────────┼──────────┼──────────┼──────────@^-0.031─────────────────────────────────────────────────M─────────────\n",
            "                                                 │         │         │         │         │        │         │   │   │   │                                                                                 │           │          │         │            │          │           │          │                      │          │          │           │                                 │          │          │          │                                             │          │          │          │                                                        │          │          │          │                                                                   │\n",
            "6: ────H────────────────────────────────@────────┼─────────┼─────────┼─────────┼─────────┼────────┼─────────┼───┼───┼───×───────────────────────────────────────────────@──────────@─────────@────────H───┼───────────┼──────────┼─────────@^-0.5───────┼──────────┼───────────┼──────────@^-0.25────────────────┼──────────┼──────────┼───────────@^(-1/8)──────────────────────────┼──────────┼──────────┼──────────@^(-1/16)─────────────────────────────────────┼──────────┼──────────┼──────────@^-0.031─────────────────────────────────────────────────┼──────────┼──────────┼──────────@^-0.016────────────────────────────────────────────────────────────M─────────────\n",
            "                                        │        │         │         │         │         │        │         │   │   │                                                   │          │         │            │           │          │                      │          │           │                                 │          │          │                                             │          │          │                                                        │          │          │                                                                   │          │          │                                                                              │\n",
            "7: ────H──────────────────────@─────────┼────────┼─────────┼─────────┼─────────┼─────────┼────────┼─────────┼───┼───×────────────────────────────@─────────@────────H───┼──────────┼─────────@^-0.5───────┼───────────┼──────────@^-0.25────────────────┼──────────┼───────────@^(-1/8)──────────────────────────┼──────────┼──────────@^(-1/16)─────────────────────────────────────┼──────────┼──────────@^-0.031─────────────────────────────────────────────────┼──────────┼──────────@^-0.016────────────────────────────────────────────────────────────┼──────────┼──────────@^-0.008───────────────────────────────────────────────────────────────────────M─────────────\n",
            "                              │         │        │         │         │         │         │        │         │   │                                │         │            │          │                      │           │                                 │          │                                             │          │                                                        │          │                                                                   │          │                                                                              │          │                                                                                         │\n",
            "8: ────H─────────────@────────┼─────────┼────────┼─────────┼─────────┼─────────┼─────────┼────────┼─────────┼───×───────────────────@────────H───┼─────────@^-0.5───────┼──────────@^-0.25────────────────┼───────────@^(-1/8)──────────────────────────┼──────────@^(-1/16)─────────────────────────────────────┼──────────@^-0.031─────────────────────────────────────────────────┼──────────@^-0.016────────────────────────────────────────────────────────────┼──────────@^-0.008───────────────────────────────────────────────────────────────────────┼──────────@^-0.004──────────────────────────────────────────────────────────────────────────────────M─────────────\n",
            "                     │        │         │        │         │         │         │         │        │         │                       │            │                      │                                 │                                             │                                                        │                                                                   │                                                                              │                                                                                         │                                                                                                    │\n",
            "9: ────H───@─────────┼────────┼─────────┼────────┼─────────┼─────────┼─────────┼─────────┼────────┼─────────×───────────────────H───@^-0.5───────@^-0.25────────────────@^(-1/8)──────────────────────────@^(-1/16)─────────────────────────────────────@^-0.031─────────────────────────────────────────────────@^-0.016────────────────────────────────────────────────────────────@^-0.008───────────────────────────────────────────────────────────────────────@^-0.004──────────────────────────────────────────────────────────────────────────────────@^-0.002─────────────────────────────────────────────────────────────────────────────────────────────M─────────────\n",
            "           │         │        │         │        │         │         │         │         │        │\n",
            "10: ───X───@^-0.63───@^0.74───@^-0.52───@^0.96───@^-0.08───@^-0.16───@^-0.32───@^-0.64───@^0.72───@^-0.56────────────────────────────────────────────────────────────────────────────────────────────────────────────────────────────────────────────────────────────────────────────────────────────────────────────────────────────────────────────────────────────────────────────────────────────────────────────────────────────────────────────────────────────────────────────────────────────────────────────────────────────────────────────────────────────────────────────────────────────────────────────────────────────────────────────────────────────────────────\n",
            "Counter({701: 501, 702: 315, 703: 46, 700: 42, 699: 18, 698: 11, 704: 10, 706: 5, 697: 4, 712: 4, 705: 4, 707: 4, 693: 4, 708: 4, 694: 3, 696: 3, 686: 3, 690: 2, 710: 1, 722: 1, 617: 1, 689: 1, 763: 1, 649: 1, 695: 1, 717: 1, 735: 1, 728: 1, 682: 1, 691: 1, 772: 1, 656: 1, 716: 1, 721: 1, 718: 1})\n",
            "10 : phi is 0.68359375\n",
            "\n"
          ]
        }
      ],
      "source": [
        "import cirq\n",
        "from cirq import X, H, SWAP, CZPowGate, measure\n",
        "\n",
        "#\n",
        "# your code here\n",
        "#\n",
        "def CU2(power, qcontrol, target):\n",
        "    circuit = cirq.Circuit()\n",
        "\n",
        "    circuit.append(CZPowGate(exponent = (2*0.685)*(2**power)).on(qcontrol, *target))\n",
        "    return circuit\n",
        "\n",
        "for t in range(1, 11):\n",
        "  print(f\"t = {t}\")\n",
        "  circuit = cirq.Circuit()\n",
        "  qubits = cirq.LineQubit.range(t + 1)\n",
        "\n",
        "  circuit.append(H.on_each(*qubits[0:t]))\n",
        "  circuit.append(X(qubits[t]))\n",
        "\n",
        "  for i in range(t):\n",
        "    circuit.append(CU2(i, qubits[t - 1 - i], [qubits[t]]))\n",
        "\n",
        "  circuit = circuit + myInvQFT(qubits[0:t])\n",
        "  circuit.append(measure(*qubits[0:t], key = 'result'))\n",
        "  print(circuit)\n",
        "\n",
        "  s = cirq.Simulator()\n",
        "  sample = s.run(circuit, repetitions = 1000)\n",
        "  print(sample.histogram(key = 'result'))\n",
        "\n",
        "  freq = list(sample.histogram(key='result').keys())[0]\n",
        "  print(t,\": phi is\", freq/2**t)\n",
        "  print()"
      ]
    },
    {
      "cell_type": "markdown",
      "metadata": {
        "id": "rSFoiHb4TvDM"
      },
      "source": [
        "To check out our solution, run the next cell:"
      ]
    },
    {
      "cell_type": "code",
      "execution_count": null,
      "metadata": {
        "id": "jn9EcDTMTvDM"
      },
      "outputs": [],
      "source": [
        "SolutionToTask5()  # show solution for task 5"
      ]
    },
    {
      "cell_type": "markdown",
      "metadata": {
        "id": "JKHWDudHTvDM"
      },
      "source": [
        "### Two-qubit unitary operator"
      ]
    },
    {
      "cell_type": "markdown",
      "metadata": {
        "id": "2gunC0wGTvDM"
      },
      "source": [
        "By using controlled `CZPowGate`, we can obtian a simple two-qubit operator.\n",
        "\n",
        "We set $ \\phi = 0.31415926535 $. Thus,  $ \\ket{11} $ is an eigenvector with eigenvalue $ \\phi $."
      ]
    },
    {
      "cell_type": "code",
      "execution_count": 22,
      "metadata": {
        "id": "VT29OZCQTvDM"
      },
      "outputs": [],
      "source": [
        "import cirq\n",
        "from cirq import CZPowGate\n",
        "\n",
        "def CU3(power, qcontrol, target):\n",
        "    circuit = cirq.Circuit()\n",
        "\n",
        "    circuit.append(CZPowGate(exponent = (2*0.31415926535)*(2**power)).controlled().on(qcontrol, *target))\n",
        "    return circuit"
      ]
    },
    {
      "cell_type": "markdown",
      "metadata": {
        "id": "tpEstlPhTvDM"
      },
      "source": [
        "<h3>Task 6</h3>\n",
        "\n",
        "Repeat Task 5 for $ CU2 $ and $ \\ket{11} $.  \n",
        "\n",
        "_The unknown $ \\phi = 0.31415926535 $._"
      ]
    },
    {
      "cell_type": "code",
      "execution_count": 27,
      "metadata": {
        "id": "x7aL_LrITvDM",
        "outputId": "92b7bc9c-02de-4cf3-c4a5-f8427075d20a",
        "colab": {
          "base_uri": "https://localhost:8080/"
        }
      },
      "outputs": [
        {
          "output_type": "stream",
          "name": "stdout",
          "text": [
            "t = 1\n",
            "1 : phi is 0.0\n",
            "\n",
            "t = 2\n",
            "2 : phi is 0.5\n",
            "\n",
            "t = 3\n",
            "3 : phi is 0.375\n",
            "\n",
            "t = 4\n",
            "4 : phi is 0.3125\n",
            "\n",
            "t = 5\n",
            "5 : phi is 0.3125\n",
            "\n",
            "t = 6\n",
            "6 : phi is 0.3125\n",
            "\n",
            "t = 7\n",
            "7 : phi is 0.3125\n",
            "\n",
            "t = 8\n",
            "8 : phi is 0.3125\n",
            "\n",
            "t = 9\n",
            "9 : phi is 0.314453125\n",
            "\n",
            "t = 10\n",
            "10 : phi is 0.314453125\n",
            "\n"
          ]
        }
      ],
      "source": [
        "import cirq\n",
        "from cirq import X, H, SWAP, CZPowGate, measure\n",
        "\n",
        "#\n",
        "# your code here\n",
        "#\n",
        "\n",
        "for t in range(1, 11):\n",
        "  print(f\"t = {t}\")\n",
        "  circuit = cirq.Circuit()\n",
        "  qubits = cirq.LineQubit.range(t + 2)\n",
        "\n",
        "  circuit.append(H.on_each(*qubits[0:t]))\n",
        "  circuit.append(X(qubits[t]))\n",
        "  circuit.append(X(qubits[t + 1]))\n",
        "\n",
        "  for i in range(t):\n",
        "    circuit.append(CU3(i, qubits[t - 1 - i], [qubits[t], qubits[t + 1]]))\n",
        "\n",
        "  circuit = circuit + myInvQFT(qubits[0:t])\n",
        "  circuit.append(measure(*qubits[0:t], key = 'result'))\n",
        "\n",
        "  s = cirq.Simulator()\n",
        "  sample = s.run(circuit, repetitions = 1000)\n",
        "\n",
        "  freq = list(sample.histogram(key='result').keys())[0]\n",
        "  print(t,\": phi is\", freq/2**t)\n",
        "  print()"
      ]
    },
    {
      "cell_type": "markdown",
      "metadata": {
        "id": "FrrmQrLkTvDN"
      },
      "source": [
        "To check out our solution, run the next cell:"
      ]
    },
    {
      "cell_type": "code",
      "execution_count": null,
      "metadata": {
        "id": "nhoXtlYrTvDN"
      },
      "outputs": [],
      "source": [
        "SolutionToTask6()  # show solution for task 6"
      ]
    }
  ],
  "metadata": {
    "kernelspec": {
      "display_name": "Python 3 (ipykernel)",
      "language": "python",
      "name": "python3"
    },
    "language_info": {
      "codemirror_mode": {
        "name": "ipython",
        "version": 3
      },
      "file_extension": ".py",
      "mimetype": "text/x-python",
      "name": "python",
      "nbconvert_exporter": "python",
      "pygments_lexer": "ipython3",
      "version": "3.11.4"
    },
    "colab": {
      "provenance": [],
      "collapsed_sections": [
        "6Xf6b1vjTvDD"
      ],
      "include_colab_link": true
    }
  },
  "nbformat": 4,
  "nbformat_minor": 0
}