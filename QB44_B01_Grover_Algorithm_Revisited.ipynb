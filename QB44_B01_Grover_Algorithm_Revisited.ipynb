{
  "cells": [
    {
      "cell_type": "markdown",
      "metadata": {
        "id": "view-in-github",
        "colab_type": "text"
      },
      "source": [
        "<a href=\"https://colab.research.google.com/github/james-lucius/qworld/blob/main/QB44_B01_Grover_Algorithm_Revisited.ipynb\" target=\"_parent\"><img src=\"https://colab.research.google.com/assets/colab-badge.svg\" alt=\"Open In Colab\"/></a>"
      ]
    },
    {
      "cell_type": "markdown",
      "metadata": {
        "id": "DD6OMzmip0pD"
      },
      "source": [
        "<a href=\"https://qworld.net\" target=\"_blank\" align=\"left\"><img src=\"https://gitlab.com/qworld/qeducation/qbook101/raw/main/qworld/images/header.jpg\" align=\"left\"></a>\n",
        "$ \\newcommand{\\bra}[1]{\\langle #1|} $\n",
        "$ \\newcommand{\\ket}[1]{|#1\\rangle} $\n",
        "$ \\newcommand{\\braket}[2]{\\langle #1|#2\\rangle} $\n",
        "$ \\newcommand{\\dot}[2]{ #1 \\cdot #2} $\n",
        "$ \\newcommand{\\biginner}[2]{\\left\\langle #1,#2\\right\\rangle} $\n",
        "$ \\newcommand{\\mymatrix}[2]{\\left( \\begin{array}{#1} #2\\end{array} \\right)} $\n",
        "$ \\newcommand{\\myvector}[1]{\\mymatrix{c}{#1}} $\n",
        "$ \\newcommand{\\myrvector}[1]{\\mymatrix{r}{#1}} $\n",
        "$ \\newcommand{\\mypar}[1]{\\left( #1 \\right)} $\n",
        "$ \\newcommand{\\mybigpar}[1]{ \\Big( #1 \\Big)} $\n",
        "$ \\newcommand{\\sqrttwo}{\\frac{1}{\\sqrt{2}}} $\n",
        "$ \\newcommand{\\dsqrttwo}{\\dfrac{1}{\\sqrt{2}}} $\n",
        "$ \\newcommand{\\onehalf}{\\frac{1}{2}} $\n",
        "$ \\newcommand{\\donehalf}{\\dfrac{1}{2}} $\n",
        "$ \\newcommand{\\hadamard}{ \\mymatrix{rr}{ \\sqrttwo & \\sqrttwo \\\\ \\sqrttwo & -\\sqrttwo }} $\n",
        "$ \\newcommand{\\vzero}{\\myvector{1\\\\0}} $\n",
        "$ \\newcommand{\\vone}{\\myvector{0\\\\1}} $\n",
        "$ \\newcommand{\\stateplus}{\\myvector{ \\sqrttwo \\\\  \\sqrttwo } } $\n",
        "$ \\newcommand{\\stateminus}{ \\myrvector{ \\sqrttwo \\\\ -\\sqrttwo } } $\n",
        "$ \\newcommand{\\myarray}[2]{ \\begin{array}{#1}#2\\end{array}} $\n",
        "$ \\newcommand{\\X}{ \\mymatrix{cc}{0 & 1 \\\\ 1 & 0}  } $\n",
        "$ \\newcommand{\\I}{ \\mymatrix{rr}{1 & 0 \\\\ 0 & 1}  } $\n",
        "$ \\newcommand{\\Z}{ \\mymatrix{rr}{1 & 0 \\\\ 0 & -1}  } $\n",
        "$ \\newcommand{\\Htwo}{ \\mymatrix{rrrr}{ \\frac{1}{2} & \\frac{1}{2} & \\frac{1}{2} & \\frac{1}{2} \\\\ \\frac{1}{2} & -\\frac{1}{2} & \\frac{1}{2} & -\\frac{1}{2} \\\\ \\frac{1}{2} & \\frac{1}{2} & -\\frac{1}{2} & -\\frac{1}{2} \\\\ \\frac{1}{2} & -\\frac{1}{2} & -\\frac{1}{2} & \\frac{1}{2} } } $\n",
        "$ \\newcommand{\\CNOT}{ \\mymatrix{cccc}{1 & 0 & 0 & 0 \\\\ 0 & 1 & 0 & 0 \\\\ 0 & 0 & 0 & 1 \\\\ 0 & 0 & 1 & 0} } $\n",
        "$ \\newcommand{\\norm}[1]{ \\left\\lVert #1 \\right\\rVert } $\n",
        "$ \\newcommand{\\pstate}[1]{ \\lceil \\mspace{-1mu} #1 \\mspace{-1.5mu} \\rfloor } $\n",
        "$ \\newcommand{\\greenbit}[1] {\\mathbf{{\\color{green}#1}}} $\n",
        "$ \\newcommand{\\bluebit}[1] {\\mathbf{{\\color{blue}#1}}} $\n",
        "$ \\newcommand{\\redbit}[1] {\\mathbf{{\\color{red}#1}}} $\n",
        "$ \\newcommand{\\brownbit}[1] {\\mathbf{{\\color{brown}#1}}} $\n",
        "$ \\newcommand{\\blackbit}[1] {\\mathbf{{\\color{black}#1}}} $"
      ]
    },
    {
      "cell_type": "markdown",
      "metadata": {
        "id": "HoTL1c1np0pF"
      },
      "source": [
        "_prepared by Adam Glos_"
      ]
    },
    {
      "cell_type": "markdown",
      "metadata": {
        "id": "cBY9EL2qp0pF"
      },
      "source": [
        "<font size=\"28px\" style=\"font-size:28px;\" align=\"left\"><b> Grover's Algorithm revisited </b></font>\n",
        "<br>\n",
        "<br><br>"
      ]
    },
    {
      "cell_type": "markdown",
      "metadata": {
        "jp-MarkdownHeadingCollapsed": true,
        "id": "IMxNvGrMp0pG"
      },
      "source": [
        "##### <font color=\"#08b806\">Please execute the following cell, it is necessary to distinguish between your local environment and Google Colab's"
      ]
    },
    {
      "cell_type": "code",
      "execution_count": 1,
      "metadata": {
        "id": "WYyRZbppp0pG",
        "outputId": "9a993210-c51f-4aa6-82d8-6ea1760c3eb0",
        "colab": {
          "base_uri": "https://localhost:8080/"
        }
      },
      "outputs": [
        {
          "output_type": "stream",
          "name": "stdout",
          "text": [
            "Collecting cirq\n",
            "  Downloading cirq-1.5.0-py3-none-any.whl.metadata (15 kB)\n",
            "Collecting cirq-aqt==1.5.0 (from cirq)\n",
            "  Downloading cirq_aqt-1.5.0-py3-none-any.whl.metadata (4.8 kB)\n",
            "Collecting cirq-core==1.5.0 (from cirq)\n",
            "  Downloading cirq_core-1.5.0-py3-none-any.whl.metadata (4.9 kB)\n",
            "Collecting cirq-google==1.5.0 (from cirq)\n",
            "  Downloading cirq_google-1.5.0-py3-none-any.whl.metadata (4.9 kB)\n",
            "Collecting cirq-ionq==1.5.0 (from cirq)\n",
            "  Downloading cirq_ionq-1.5.0-py3-none-any.whl.metadata (4.7 kB)\n",
            "Collecting cirq-pasqal==1.5.0 (from cirq)\n",
            "  Downloading cirq_pasqal-1.5.0-py3-none-any.whl.metadata (4.8 kB)\n",
            "Collecting cirq-web==1.5.0 (from cirq)\n",
            "  Downloading cirq_web-1.5.0-py3-none-any.whl.metadata (5.5 kB)\n",
            "Requirement already satisfied: requests~=2.32 in /usr/local/lib/python3.11/dist-packages (from cirq-aqt==1.5.0->cirq) (2.32.3)\n",
            "Requirement already satisfied: attrs>=21.3.0 in /usr/local/lib/python3.11/dist-packages (from cirq-core==1.5.0->cirq) (25.3.0)\n",
            "Collecting duet>=0.2.8 (from cirq-core==1.5.0->cirq)\n",
            "  Downloading duet-0.2.9-py3-none-any.whl.metadata (2.3 kB)\n",
            "Requirement already satisfied: matplotlib~=3.7 in /usr/local/lib/python3.11/dist-packages (from cirq-core==1.5.0->cirq) (3.10.0)\n",
            "Requirement already satisfied: networkx~=3.1 in /usr/local/lib/python3.11/dist-packages (from cirq-core==1.5.0->cirq) (3.5)\n",
            "Requirement already satisfied: numpy>=1.25 in /usr/local/lib/python3.11/dist-packages (from cirq-core==1.5.0->cirq) (2.0.2)\n",
            "Requirement already satisfied: pandas~=2.0 in /usr/local/lib/python3.11/dist-packages (from cirq-core==1.5.0->cirq) (2.2.2)\n",
            "Requirement already satisfied: sortedcontainers~=2.0 in /usr/local/lib/python3.11/dist-packages (from cirq-core==1.5.0->cirq) (2.4.0)\n",
            "Requirement already satisfied: scipy~=1.11 in /usr/local/lib/python3.11/dist-packages (from cirq-core==1.5.0->cirq) (1.15.3)\n",
            "Requirement already satisfied: sympy in /usr/local/lib/python3.11/dist-packages (from cirq-core==1.5.0->cirq) (1.13.1)\n",
            "Requirement already satisfied: typing_extensions>=4.2 in /usr/local/lib/python3.11/dist-packages (from cirq-core==1.5.0->cirq) (4.14.0)\n",
            "Requirement already satisfied: tqdm>=4.12 in /usr/local/lib/python3.11/dist-packages (from cirq-core==1.5.0->cirq) (4.67.1)\n",
            "Requirement already satisfied: google-api-core>=1.14.0 in /usr/local/lib/python3.11/dist-packages (from google-api-core[grpc]>=1.14.0->cirq-google==1.5.0->cirq) (2.25.1)\n",
            "Requirement already satisfied: proto-plus>=1.20.0 in /usr/local/lib/python3.11/dist-packages (from cirq-google==1.5.0->cirq) (1.26.1)\n",
            "Requirement already satisfied: protobuf<6.0,>=4.25 in /usr/local/lib/python3.11/dist-packages (from cirq-google==1.5.0->cirq) (5.29.5)\n",
            "Collecting typedunits (from cirq-google==1.5.0->cirq)\n",
            "  Downloading typedunits-0.0.1.dev20250509200845-cp311-cp311-manylinux_2_17_x86_64.manylinux2014_x86_64.whl.metadata (4.8 kB)\n",
            "Requirement already satisfied: googleapis-common-protos<2.0.0,>=1.56.2 in /usr/local/lib/python3.11/dist-packages (from google-api-core>=1.14.0->google-api-core[grpc]>=1.14.0->cirq-google==1.5.0->cirq) (1.70.0)\n",
            "Requirement already satisfied: google-auth<3.0.0,>=2.14.1 in /usr/local/lib/python3.11/dist-packages (from google-api-core>=1.14.0->google-api-core[grpc]>=1.14.0->cirq-google==1.5.0->cirq) (2.38.0)\n",
            "Requirement already satisfied: grpcio<2.0.0,>=1.33.2 in /usr/local/lib/python3.11/dist-packages (from google-api-core[grpc]>=1.14.0->cirq-google==1.5.0->cirq) (1.73.1)\n",
            "Requirement already satisfied: grpcio-status<2.0.0,>=1.33.2 in /usr/local/lib/python3.11/dist-packages (from google-api-core[grpc]>=1.14.0->cirq-google==1.5.0->cirq) (1.71.2)\n",
            "Requirement already satisfied: contourpy>=1.0.1 in /usr/local/lib/python3.11/dist-packages (from matplotlib~=3.7->cirq-core==1.5.0->cirq) (1.3.2)\n",
            "Requirement already satisfied: cycler>=0.10 in /usr/local/lib/python3.11/dist-packages (from matplotlib~=3.7->cirq-core==1.5.0->cirq) (0.12.1)\n",
            "Requirement already satisfied: fonttools>=4.22.0 in /usr/local/lib/python3.11/dist-packages (from matplotlib~=3.7->cirq-core==1.5.0->cirq) (4.58.4)\n",
            "Requirement already satisfied: kiwisolver>=1.3.1 in /usr/local/lib/python3.11/dist-packages (from matplotlib~=3.7->cirq-core==1.5.0->cirq) (1.4.8)\n",
            "Requirement already satisfied: packaging>=20.0 in /usr/local/lib/python3.11/dist-packages (from matplotlib~=3.7->cirq-core==1.5.0->cirq) (24.2)\n",
            "Requirement already satisfied: pillow>=8 in /usr/local/lib/python3.11/dist-packages (from matplotlib~=3.7->cirq-core==1.5.0->cirq) (11.2.1)\n",
            "Requirement already satisfied: pyparsing>=2.3.1 in /usr/local/lib/python3.11/dist-packages (from matplotlib~=3.7->cirq-core==1.5.0->cirq) (3.2.3)\n",
            "Requirement already satisfied: python-dateutil>=2.7 in /usr/local/lib/python3.11/dist-packages (from matplotlib~=3.7->cirq-core==1.5.0->cirq) (2.9.0.post0)\n",
            "Requirement already satisfied: pytz>=2020.1 in /usr/local/lib/python3.11/dist-packages (from pandas~=2.0->cirq-core==1.5.0->cirq) (2025.2)\n",
            "Requirement already satisfied: tzdata>=2022.7 in /usr/local/lib/python3.11/dist-packages (from pandas~=2.0->cirq-core==1.5.0->cirq) (2025.2)\n",
            "Requirement already satisfied: charset-normalizer<4,>=2 in /usr/local/lib/python3.11/dist-packages (from requests~=2.32->cirq-aqt==1.5.0->cirq) (3.4.2)\n",
            "Requirement already satisfied: idna<4,>=2.5 in /usr/local/lib/python3.11/dist-packages (from requests~=2.32->cirq-aqt==1.5.0->cirq) (3.10)\n",
            "Requirement already satisfied: urllib3<3,>=1.21.1 in /usr/local/lib/python3.11/dist-packages (from requests~=2.32->cirq-aqt==1.5.0->cirq) (2.4.0)\n",
            "Requirement already satisfied: certifi>=2017.4.17 in /usr/local/lib/python3.11/dist-packages (from requests~=2.32->cirq-aqt==1.5.0->cirq) (2025.6.15)\n",
            "Requirement already satisfied: mpmath<1.4,>=1.1.0 in /usr/local/lib/python3.11/dist-packages (from sympy->cirq-core==1.5.0->cirq) (1.3.0)\n",
            "Requirement already satisfied: cython>=3.0.0 in /usr/local/lib/python3.11/dist-packages (from typedunits->cirq-google==1.5.0->cirq) (3.0.12)\n",
            "Requirement already satisfied: cachetools<6.0,>=2.0.0 in /usr/local/lib/python3.11/dist-packages (from google-auth<3.0.0,>=2.14.1->google-api-core>=1.14.0->google-api-core[grpc]>=1.14.0->cirq-google==1.5.0->cirq) (5.5.2)\n",
            "Requirement already satisfied: pyasn1-modules>=0.2.1 in /usr/local/lib/python3.11/dist-packages (from google-auth<3.0.0,>=2.14.1->google-api-core>=1.14.0->google-api-core[grpc]>=1.14.0->cirq-google==1.5.0->cirq) (0.4.2)\n",
            "Requirement already satisfied: rsa<5,>=3.1.4 in /usr/local/lib/python3.11/dist-packages (from google-auth<3.0.0,>=2.14.1->google-api-core>=1.14.0->google-api-core[grpc]>=1.14.0->cirq-google==1.5.0->cirq) (4.9.1)\n",
            "Requirement already satisfied: six>=1.5 in /usr/local/lib/python3.11/dist-packages (from python-dateutil>=2.7->matplotlib~=3.7->cirq-core==1.5.0->cirq) (1.17.0)\n",
            "Requirement already satisfied: pyasn1<0.7.0,>=0.6.1 in /usr/local/lib/python3.11/dist-packages (from pyasn1-modules>=0.2.1->google-auth<3.0.0,>=2.14.1->google-api-core>=1.14.0->google-api-core[grpc]>=1.14.0->cirq-google==1.5.0->cirq) (0.6.1)\n",
            "Downloading cirq-1.5.0-py3-none-any.whl (10 kB)\n",
            "Downloading cirq_aqt-1.5.0-py3-none-any.whl (31 kB)\n",
            "Downloading cirq_core-1.5.0-py3-none-any.whl (2.0 MB)\n",
            "\u001b[2K   \u001b[90m━━━━━━━━━━━━━━━━━━━━━━━━━━━━━━━━━━━━━━━━\u001b[0m \u001b[32m2.0/2.0 MB\u001b[0m \u001b[31m69.5 MB/s\u001b[0m eta \u001b[36m0:00:00\u001b[0m\n",
            "\u001b[?25hDownloading cirq_google-1.5.0-py3-none-any.whl (597 kB)\n",
            "\u001b[2K   \u001b[90m━━━━━━━━━━━━━━━━━━━━━━━━━━━━━━━━━━━━━━━━\u001b[0m \u001b[32m597.5/597.5 kB\u001b[0m \u001b[31m39.0 MB/s\u001b[0m eta \u001b[36m0:00:00\u001b[0m\n",
            "\u001b[?25hDownloading cirq_ionq-1.5.0-py3-none-any.whl (72 kB)\n",
            "\u001b[2K   \u001b[90m━━━━━━━━━━━━━━━━━━━━━━━━━━━━━━━━━━━━━━━━\u001b[0m \u001b[32m72.0/72.0 kB\u001b[0m \u001b[31m6.9 MB/s\u001b[0m eta \u001b[36m0:00:00\u001b[0m\n",
            "\u001b[?25hDownloading cirq_pasqal-1.5.0-py3-none-any.whl (33 kB)\n",
            "Downloading cirq_web-1.5.0-py3-none-any.whl (425 kB)\n",
            "\u001b[2K   \u001b[90m━━━━━━━━━━━━━━━━━━━━━━━━━━━━━━━━━━━━━━━━\u001b[0m \u001b[32m425.1/425.1 kB\u001b[0m \u001b[31m31.1 MB/s\u001b[0m eta \u001b[36m0:00:00\u001b[0m\n",
            "\u001b[?25hDownloading duet-0.2.9-py3-none-any.whl (29 kB)\n",
            "Downloading typedunits-0.0.1.dev20250509200845-cp311-cp311-manylinux_2_17_x86_64.manylinux2014_x86_64.whl (2.8 MB)\n",
            "\u001b[2K   \u001b[90m━━━━━━━━━━━━━━━━━━━━━━━━━━━━━━━━━━━━━━━━\u001b[0m \u001b[32m2.8/2.8 MB\u001b[0m \u001b[31m83.6 MB/s\u001b[0m eta \u001b[36m0:00:00\u001b[0m\n",
            "\u001b[?25hInstalling collected packages: typedunits, duet, cirq-core, cirq-web, cirq-pasqal, cirq-ionq, cirq-aqt, cirq-google, cirq\n",
            "Successfully installed cirq-1.5.0 cirq-aqt-1.5.0 cirq-core-1.5.0 cirq-google-1.5.0 cirq-ionq-1.5.0 cirq-pasqal-1.5.0 cirq-web-1.5.0 duet-0.2.9 typedunits-0.0.1.dev20250509200845\n"
          ]
        }
      ],
      "source": [
        "import IPython\n",
        "\n",
        "def in_colab():\n",
        "    try:\n",
        "        import google.colab\n",
        "        return True\n",
        "    except:\n",
        "        return False\n",
        "\n",
        "SolutionToTask1 = lambda: IPython.display.display(IPython.display.Javascript('window.open(\"{url}\");'.format(url='https://colab.research.google.com/drive/15_AZkLu7otVYQ-eNKulbfh5FbZCw0ITX?usp=sharing#scrollTo=aAO09sUwjljd' if in_colab() else 'QB44_B01_Grover_Algorithm_Revisited_Solutions.ipynb#task1')))\n",
        "SolutionToTask2 = lambda: IPython.display.display(IPython.display.Javascript('window.open(\"{url}\");'.format(url='https://colab.research.google.com/drive/15_AZkLu7otVYQ-eNKulbfh5FbZCw0ITX?usp=sharing#scrollTo=z3fTTgzGjlje' if in_colab() else 'QB44_B01_Grover_Algorithm_Revisited_Solutions.ipynb#task2')))\n",
        "SolutionToTask3 = lambda: IPython.display.display(IPython.display.Javascript('window.open(\"{url}\");'.format(url='https://colab.research.google.com/drive/15_AZkLu7otVYQ-eNKulbfh5FbZCw0ITX?usp=sharing#scrollTo=rV42TlcMjlje' if in_colab() else 'QB44_B01_Grover_Algorithm_Revisited_Solutions.ipynb#task3')))\n",
        "\n",
        "if in_colab():\n",
        "    !pip install cirq"
      ]
    },
    {
      "cell_type": "markdown",
      "metadata": {
        "id": "Y3AGw0N5p0pG"
      },
      "source": [
        "##### Grover's Search is one of the well-known quantum algorithms. Given an oracle which marks some of the elements in the search space, Grover's Algrorithm outputs the marked elements with high probability. We refer to Bronze for a detailed explanation of the algorithm.\n",
        "\n",
        "The quantum circuit for the algorithm takes the form:\n",
        "\n",
        "<img src=\"https://gitlab.com/qworld/qeducation/qbook101/raw/main/qbook101/images/ch4/grover.png\" width=\"60%\" align=\"center\">\n",
        "\n",
        "Oracle is responsible for marking the elements, while Grover diffusion operator amplifies the probability of measuring the marked elements. They are applied interchangeably for $\\sqrt{N/k}$ times, where $N$ is the size of the searh space, and $k$ is the number of marked elements."
      ]
    },
    {
      "cell_type": "markdown",
      "metadata": {
        "id": "XLiU3eY_p0pH"
      },
      "source": [
        "## Initialization\n",
        "\n",
        "The Grover's search starts with creating an equal superposition on all qubits. We start with implementing this step of the algorithm."
      ]
    },
    {
      "cell_type": "markdown",
      "metadata": {
        "id": "F_bn4DVhp0pH"
      },
      "source": [
        "### Task 1\n",
        "Create a 4-qubit circuit named `circuit` and apply a Hadamard gate on each qubit. Convince yourself about the correctness of the circuit by displaying it. Print the quantum state with `Simulator` without measurement."
      ]
    },
    {
      "cell_type": "code",
      "execution_count": 4,
      "metadata": {
        "id": "KGEISNwrp0pH",
        "outputId": "d9be8a59-690c-4c33-a661-6b514653cfb3",
        "colab": {
          "base_uri": "https://localhost:8080/"
        }
      },
      "outputs": [
        {
          "output_type": "stream",
          "name": "stdout",
          "text": [
            "0: ───H───\n",
            "\n",
            "1: ───H───\n",
            "\n",
            "2: ───H───\n",
            "\n",
            "3: ───H───\n",
            "measurements: (no measurements)\n",
            "\n",
            "qubits: (cirq.LineQubit(0),)\n",
            "output vector: 0.707|0⟩ + 0.707|1⟩\n",
            "\n",
            "qubits: (cirq.LineQubit(1),)\n",
            "output vector: 0.707|0⟩ + 0.707|1⟩\n",
            "\n",
            "qubits: (cirq.LineQubit(2),)\n",
            "output vector: 0.707|0⟩ + 0.707|1⟩\n",
            "\n",
            "qubits: (cirq.LineQubit(3),)\n",
            "output vector: 0.707|0⟩ + 0.707|1⟩\n",
            "\n",
            "phase:\n",
            "output vector: |⟩\n",
            "0.25|0000⟩ + 0.25|0001⟩ + 0.25|0010⟩ + 0.25|0011⟩ + 0.25|0100⟩ + 0.25|0101⟩ + 0.25|0110⟩ + 0.25|0111⟩ + 0.25|1000⟩ + 0.25|1001⟩ + 0.25|1010⟩ + 0.25|1011⟩ + 0.25|1100⟩ + 0.25|1101⟩ + 0.25|1110⟩ + 0.25|1111⟩\n"
          ]
        }
      ],
      "source": [
        "import cirq\n",
        "\n",
        "#\n",
        "# your solution\n",
        "#\n",
        "circuit = cirq.Circuit()\n",
        "qreg = cirq.LineQubit.range(4)\n",
        "circuit.append(cirq.H.on_each(*qreg))\n",
        "\n",
        "print(circuit)\n",
        "\n",
        "# to print the state\n",
        "s = cirq.Simulator()\n",
        "print(s.simulate(circuit))\n",
        "print(s.simulate(circuit).dirac_notation())"
      ]
    },
    {
      "cell_type": "markdown",
      "metadata": {
        "id": "z_ns5nZvp0pH"
      },
      "source": [
        "To check out our solution, run the next cell:"
      ]
    },
    {
      "cell_type": "code",
      "execution_count": 3,
      "metadata": {
        "id": "aGmbTcRwp0pH",
        "outputId": "ae11e7ac-0474-4576-c6ea-1fc95efe57ff",
        "colab": {
          "base_uri": "https://localhost:8080/",
          "height": 37
        }
      },
      "outputs": [
        {
          "output_type": "display_data",
          "data": {
            "text/plain": [
              "<IPython.core.display.Javascript object>"
            ],
            "application/javascript": [
              "window.open(\"https://colab.research.google.com/drive/15_AZkLu7otVYQ-eNKulbfh5FbZCw0ITX?usp=sharing#scrollTo=aAO09sUwjljd\");"
            ]
          },
          "metadata": {}
        }
      ],
      "source": [
        "SolutionToTask1()  # show solution for task 1"
      ]
    },
    {
      "cell_type": "markdown",
      "metadata": {
        "id": "HqL_ENw0p0pH"
      },
      "source": [
        "## A simple oracle\n",
        "\n",
        "Here we will design a simple oracle, which marks the state $\\ket{1111}$. Here marking means to change the sign of state $\\ket{1111}$ to $-\\ket{1111}$, while leaving the other states unchanged. We know that the operator\n",
        "\n",
        "$$ Z = \\begin{bmatrix} 1 & 0 \\\\ 0 & -1 \\end{bmatrix}$$\n",
        "\n",
        "changes the state $\\ket{1}$ into $-\\ket{1}$. Even though stand-alone $Z$ gate applied to the third qubit changes the state $\\ket{1111}$ into -$\\ket{1111}$, it also changes, for example, the state $\\ket{0011}$ into -$\\ket{0011}$. On the other hand, we can design a multi-controlled $Z$ gate for our purpose: $Z$ gate is activated on the third qubit when the other qubits are in states $\\ket{1}$, i.e., $b_0=b_1=b_2 = 1$.\n"
      ]
    },
    {
      "cell_type": "markdown",
      "metadata": {
        "id": "u6NDduOZp0pH"
      },
      "source": [
        "Now we show how to implement this multiple-controlled gate. In order to apply $Z$ gate on the third qubit, we use `cirq.Z(qq[3])` and we control this gate with control on the remaining qubits with `cirq.Z(qq[3]).controlled_by(qq[0], qq[1], qq[2])`.  "
      ]
    },
    {
      "cell_type": "code",
      "execution_count": 5,
      "metadata": {
        "id": "by6VPG6Mp0pH",
        "outputId": "48d7d10a-2b55-4c69-eb51-5a4b8477c781",
        "colab": {
          "base_uri": "https://localhost:8080/"
        }
      },
      "outputs": [
        {
          "output_type": "stream",
          "name": "stdout",
          "text": [
            "0: ───@───\n",
            "      │\n",
            "1: ───@───\n",
            "      │\n",
            "2: ───@───\n",
            "      │\n",
            "3: ───Z───\n"
          ]
        }
      ],
      "source": [
        "import cirq\n",
        "\n",
        "qq = cirq.LineQubit.range(4)\n",
        "circuit = cirq.Circuit()\n",
        "\n",
        "CCCZ = cirq.Z(qq[3]).controlled_by(qq[0], qq[1], qq[2])\n",
        "# alternative version:\n",
        "# CCCZ = cirq.Z(qq[3]).controlled_by(*(qq[0:3]))\n",
        "circuit.append(CCCZ)\n",
        "\n",
        "print(circuit)"
      ]
    },
    {
      "cell_type": "markdown",
      "metadata": {
        "id": "7YraUEtap0pH"
      },
      "source": [
        "#### Multi-controlled gates in general"
      ]
    },
    {
      "cell_type": "markdown",
      "metadata": {
        "id": "BjILlsbxp0pH"
      },
      "source": [
        "Alternatively, we can define a multi-controlled gate, and specify the target and control qubits later. This will be particularly useful, when the same gate will be used many times on a various collection of qubits."
      ]
    },
    {
      "cell_type": "code",
      "execution_count": 6,
      "metadata": {
        "id": "kgsKfLfOp0pH",
        "outputId": "275e9719-7a19-4781-d784-f4ba92d2881c",
        "colab": {
          "base_uri": "https://localhost:8080/"
        }
      },
      "outputs": [
        {
          "output_type": "stream",
          "name": "stdout",
          "text": [
            "0: ───@───@───@───\n",
            "      │   │   │\n",
            "1: ───@───@───@───\n",
            "      │   │   │\n",
            "2: ───@───@───X───\n",
            "      │   │   │\n",
            "3: ───Z───X───@───\n"
          ]
        }
      ],
      "source": [
        "import cirq\n",
        "\n",
        "qq = cirq.LineQubit.range(4)\n",
        "circuit = cirq.Circuit()\n",
        "\n",
        "CCCZ = cirq.Z.controlled(3)\n",
        "CCCX = cirq.X.controlled(3)\n",
        "\n",
        "circuit.append(CCCZ(*qq))\n",
        "circuit.append(CCCX(*qq))\n",
        "circuit.append(CCCX(qq[0], qq[1], qq[3], qq[2]))\n",
        "\n",
        "print(circuit)"
      ]
    },
    {
      "cell_type": "markdown",
      "metadata": {
        "id": "ncTnxaInp0pI"
      },
      "source": [
        "Note that for `CCCZ`, the target qubit is not distinguished when displayed. This is because controlled $Z$ operator acts exactly the same independent of the chosen target qubit. This can be easily shown as `CCCZ` acts nontrivially (in case of basis states) only on $\\ket{1111}$ -- as you can see there is no way to distinguish which qubit is a target one from this form."
      ]
    },
    {
      "cell_type": "markdown",
      "metadata": {
        "id": "AeNG3Kdsp0pI"
      },
      "source": [
        "Note that a multi-controlled operator is not the same as several single-qubits controls. To see this, let us simulate the operators for both cases. To do so, we will compare the unitary matrices. To make matrices smaller and easier to compare, we will only compare 3-qubits operations."
      ]
    },
    {
      "cell_type": "code",
      "execution_count": 7,
      "metadata": {
        "id": "eDfKi0EDp0pI",
        "outputId": "f1eeff63-62c4-4d64-c313-41661ba769c5",
        "colab": {
          "base_uri": "https://localhost:8080/"
        }
      },
      "outputs": [
        {
          "output_type": "stream",
          "name": "stdout",
          "text": [
            "[[ 1.+0.0000000e+00j  0.+0.0000000e+00j  0.+0.0000000e+00j\n",
            "   0.+0.0000000e+00j  0.+0.0000000e+00j  0.+0.0000000e+00j\n",
            "   0.+0.0000000e+00j  0.+0.0000000e+00j]\n",
            " [ 0.+0.0000000e+00j  1.+0.0000000e+00j  0.+0.0000000e+00j\n",
            "   0.+0.0000000e+00j  0.+0.0000000e+00j  0.+0.0000000e+00j\n",
            "   0.+0.0000000e+00j  0.+0.0000000e+00j]\n",
            " [ 0.+0.0000000e+00j  0.+0.0000000e+00j  1.+0.0000000e+00j\n",
            "   0.+0.0000000e+00j  0.+0.0000000e+00j  0.+0.0000000e+00j\n",
            "   0.+0.0000000e+00j  0.+0.0000000e+00j]\n",
            " [ 0.+0.0000000e+00j  0.+0.0000000e+00j  0.+0.0000000e+00j\n",
            "   1.+0.0000000e+00j  0.+0.0000000e+00j  0.+0.0000000e+00j\n",
            "   0.+0.0000000e+00j  0.+0.0000000e+00j]\n",
            " [ 0.+0.0000000e+00j  0.+0.0000000e+00j  0.+0.0000000e+00j\n",
            "   0.+0.0000000e+00j  1.+0.0000000e+00j  0.+0.0000000e+00j\n",
            "   0.+0.0000000e+00j  0.+0.0000000e+00j]\n",
            " [ 0.+0.0000000e+00j  0.+0.0000000e+00j  0.+0.0000000e+00j\n",
            "   0.+0.0000000e+00j  0.+0.0000000e+00j  1.+0.0000000e+00j\n",
            "   0.+0.0000000e+00j  0.+0.0000000e+00j]\n",
            " [ 0.+0.0000000e+00j  0.+0.0000000e+00j  0.+0.0000000e+00j\n",
            "   0.+0.0000000e+00j  0.+0.0000000e+00j  0.+0.0000000e+00j\n",
            "   1.+0.0000000e+00j  0.+0.0000000e+00j]\n",
            " [-0.+0.0000000e+00j -0.+0.0000000e+00j -0.+0.0000000e+00j\n",
            "  -0.+0.0000000e+00j -0.+0.0000000e+00j -0.+0.0000000e+00j\n",
            "  -0.+0.0000000e+00j -1.+1.2246468e-16j]]\n",
            "\n",
            "[[ 1.+0.j  0.+0.j  0.+0.j  0.+0.j  0.+0.j  0.+0.j  0.+0.j  0.+0.j]\n",
            " [ 0.+0.j  1.+0.j  0.+0.j  0.+0.j  0.+0.j  0.+0.j  0.+0.j  0.+0.j]\n",
            " [ 0.+0.j  0.+0.j  1.+0.j  0.+0.j  0.+0.j  0.+0.j  0.+0.j  0.+0.j]\n",
            " [-0.+0.j -0.+0.j -0.+0.j -1.+0.j -0.+0.j -0.+0.j -0.+0.j -0.+0.j]\n",
            " [ 0.+0.j  0.+0.j  0.+0.j  0.+0.j  1.+0.j  0.+0.j  0.+0.j  0.+0.j]\n",
            " [-0.+0.j -0.+0.j -0.+0.j -0.+0.j -0.+0.j -1.+0.j -0.+0.j -0.+0.j]\n",
            " [ 0.+0.j  0.+0.j  0.+0.j  0.+0.j  0.+0.j  0.+0.j  1.+0.j  0.+0.j]\n",
            " [ 0.-0.j  0.-0.j  0.-0.j  0.-0.j  0.-0.j  0.-0.j  0.-0.j  1.-0.j]]\n"
          ]
        }
      ],
      "source": [
        "import cirq\n",
        "from cirq import Z\n",
        "\n",
        "# z gate controlled by qubits 0 and 1\n",
        "qq = cirq.LineQubit.range(3)\n",
        "circ_multi = cirq.Circuit()\n",
        "circ_multi.append(Z(qq[2]).controlled_by(qq[0], qq[1]))\n",
        "\n",
        "qq = cirq.LineQubit.range(3)\n",
        "circ_single = cirq.Circuit()\n",
        "# z gate controlled by qubit 0\n",
        "circ_single.append(Z(qq[2]).controlled_by(qq[0]))\n",
        "# z gate controlled by qubit 1\n",
        "circ_single.append(Z(qq[2]).controlled_by(qq[1]))\n",
        "\n",
        "print(cirq.unitary(circ_multi))\n",
        "print()\n",
        "print(cirq.unitary(circ_single))"
      ]
    },
    {
      "cell_type": "markdown",
      "metadata": {
        "id": "CuVnlIlzp0pI"
      },
      "source": [
        "Note that only the former has single $-1$ on the bottom-right corner (`j` stands for the imaginary unit)."
      ]
    },
    {
      "cell_type": "markdown",
      "metadata": {
        "id": "RxsRv2jNp0pI"
      },
      "source": [
        "## The Grover's diffusion operator\n",
        "\n",
        "The Grover's diffusion (inversion) operator plays a vital role in the algorithm, as it amplifies the amplitude(s) of the marked element(s). It can be presented by the following unitary matrix:\n",
        "\n",
        "$$ I-2 \\mymatrix{ccc}{\n",
        "    \\frac{1}{N}  & \\cdots & \\frac{1}{N} \\\\\n",
        "    \\vdots & \\ddots & \\vdots \\\\\n",
        "    \\frac{1}{N}  & \\cdots & \\frac{1}{N} \\\\\n",
        "    }  , $$\n",
        "\n",
        "where $N$ is the dimension of the matrix. The implementation of this operator is known. Here is an example circuit given for four qubits $(N = 16)$.\n",
        "\n",
        "<img src=\"https://gitlab.com/qworld/qeducation/qbook101/raw/main/qbook101/images/ch4/grover_diffusion_operator.png\" width=\"40%\" align=\"center\">\n",
        "\n",
        "In general, one can apply Hadamard and $NOT$ gates to each qubit, and then use a multi-controlled $Z$ gate followed by the same $NOT$ and Hadamard gates.\n",
        "\n",
        "Please check the end of the notebook to read about why those gates are used to implement the diffusion operator."
      ]
    },
    {
      "cell_type": "markdown",
      "metadata": {
        "id": "Buc8Hvzap0pI"
      },
      "source": [
        "### Task 2\n",
        "    \n",
        "Create a 3-qubit register and design the Grover diffusion operator based on the circuit above. Print the circuit and its matrix form by using `cirq.unitary`. Verify that the circuit by checking the entries of the matrix."
      ]
    },
    {
      "cell_type": "code",
      "execution_count": 10,
      "metadata": {
        "id": "fQEbvzCdp0pI",
        "outputId": "93944929-170a-4a2b-cbf6-3f31cdf7de6c",
        "colab": {
          "base_uri": "https://localhost:8080/"
        }
      },
      "outputs": [
        {
          "output_type": "stream",
          "name": "stdout",
          "text": [
            "0: ───H───X───@───X───H───\n",
            "              │\n",
            "1: ───H───X───@───X───H───\n",
            "              │\n",
            "2: ───H───X───@───X───H───\n",
            "[[ 0.75+1.5308085e-17j -0.25+1.5308085e-17j -0.25+1.5308085e-17j\n",
            "  -0.25+1.5308085e-17j -0.25+1.5308085e-17j -0.25+1.5308085e-17j\n",
            "  -0.25+1.5308085e-17j -0.25+1.5308085e-17j]\n",
            " [-0.25+1.5308085e-17j  0.75+1.5308085e-17j -0.25+1.5308085e-17j\n",
            "  -0.25+1.5308085e-17j -0.25+1.5308085e-17j -0.25+1.5308085e-17j\n",
            "  -0.25+1.5308085e-17j -0.25+1.5308085e-17j]\n",
            " [-0.25+1.5308085e-17j -0.25+1.5308085e-17j  0.75+1.5308085e-17j\n",
            "  -0.25+1.5308085e-17j -0.25+1.5308085e-17j -0.25+1.5308085e-17j\n",
            "  -0.25+1.5308085e-17j -0.25+1.5308085e-17j]\n",
            " [-0.25+1.5308085e-17j -0.25+1.5308085e-17j -0.25+1.5308085e-17j\n",
            "   0.75+1.5308085e-17j -0.25+1.5308085e-17j -0.25+1.5308085e-17j\n",
            "  -0.25+1.5308085e-17j -0.25+1.5308085e-17j]\n",
            " [-0.25+1.5308085e-17j -0.25+1.5308085e-17j -0.25+1.5308085e-17j\n",
            "  -0.25+1.5308085e-17j  0.75+1.5308085e-17j -0.25+1.5308085e-17j\n",
            "  -0.25+1.5308085e-17j -0.25+1.5308085e-17j]\n",
            " [-0.25+1.5308085e-17j -0.25+1.5308085e-17j -0.25+1.5308085e-17j\n",
            "  -0.25+1.5308085e-17j -0.25+1.5308085e-17j  0.75+1.5308085e-17j\n",
            "  -0.25+1.5308085e-17j -0.25+1.5308085e-17j]\n",
            " [-0.25+1.5308085e-17j -0.25+1.5308085e-17j -0.25+1.5308085e-17j\n",
            "  -0.25+1.5308085e-17j -0.25+1.5308085e-17j -0.25+1.5308085e-17j\n",
            "   0.75+1.5308085e-17j -0.25+1.5308085e-17j]\n",
            " [-0.25+1.5308085e-17j -0.25+1.5308085e-17j -0.25+1.5308085e-17j\n",
            "  -0.25+1.5308085e-17j -0.25+1.5308085e-17j -0.25+1.5308085e-17j\n",
            "  -0.25+1.5308085e-17j  0.75+1.5308085e-17j]]\n"
          ]
        }
      ],
      "source": [
        "import cirq\n",
        "from cirq import H, X, Z\n",
        "\n",
        "#\n",
        "# your solution\n",
        "#\n",
        "q = cirq.LineQubit.range(3)\n",
        "circuit = cirq.Circuit()\n",
        "\n",
        "circuit.append(H.on_each(*q))\n",
        "circuit.append(X.on_each(*q))\n",
        "circuit.append(Z(q[2]).controlled_by(q[0], q[1]))\n",
        "circuit.append(X.on_each(*q))\n",
        "circuit.append(H.on_each(*q))\n",
        "\n",
        "print(circuit)\n",
        "print(cirq.unitary(circuit))"
      ]
    },
    {
      "cell_type": "markdown",
      "metadata": {
        "id": "P2H86fohp0pI"
      },
      "source": [
        "To check out our solution, run the next cell:"
      ]
    },
    {
      "cell_type": "code",
      "execution_count": 9,
      "metadata": {
        "id": "3EPRtfiAp0pI",
        "outputId": "63926055-7063-4dcc-c861-c2494e02e2bb",
        "colab": {
          "base_uri": "https://localhost:8080/",
          "height": 37
        }
      },
      "outputs": [
        {
          "output_type": "display_data",
          "data": {
            "text/plain": [
              "<IPython.core.display.Javascript object>"
            ],
            "application/javascript": [
              "window.open(\"https://colab.research.google.com/drive/15_AZkLu7otVYQ-eNKulbfh5FbZCw0ITX?usp=sharing#scrollTo=z3fTTgzGjlje\");"
            ]
          },
          "metadata": {}
        }
      ],
      "source": [
        "SolutionToTask2()  # show solution for task 2"
      ]
    },
    {
      "cell_type": "markdown",
      "metadata": {
        "id": "5kWM5LD9p0pI"
      },
      "source": [
        "## Grover's Algorithm\n",
        "\n",
        "Finally, we are ready to implement the Grover's Algorithm. Let us consider the Grover's Search for four qubits with proposed simplified oracle. We make an initialization, then for $\\pi\\sqrt{2^4}/4\\approx 3$ times implement  the oracle (the one we prepared before) and the diffusion operator alternately. Eventually, the state 1111 should be measured more often than the other basis states."
      ]
    },
    {
      "cell_type": "markdown",
      "metadata": {
        "id": "itWnxtntp0pI"
      },
      "source": [
        "### Task 3\n",
        "\n",
        "Fill the `oracle` and `grover_diffusion` so that they will form a 4-qubit Grover's algorithm. You can use the code from previous tasks. Verify the results by analyzing the statistics of the measurements. Note you can use `yield` for sending consecutive gates."
      ]
    },
    {
      "cell_type": "code",
      "execution_count": 11,
      "metadata": {
        "id": "KgesZ1sNp0pI",
        "outputId": "02de57a4-e151-46c6-e158-c33095fd9e12",
        "colab": {
          "base_uri": "https://localhost:8080/"
        }
      },
      "outputs": [
        {
          "output_type": "stream",
          "name": "stdout",
          "text": [
            "Measurement output:  Counter({'1111': 963, '0111': 5, '0010': 4, '1000': 3, '0100': 3, '0001': 3, '1010': 3, '0011': 3, '1001': 3, '1011': 2, '0101': 2, '0000': 2, '1110': 1, '1100': 1, '0110': 1, '1101': 1})\n",
            "Probability of measuring 1111:  0.963\n",
            "Probability of not measuring 1111:  0.03700000000000003\n"
          ]
        }
      ],
      "source": [
        "import cirq\n",
        "from cirq import H, Z, X\n",
        "\n",
        "qq = cirq.LineQubit.range(4)\n",
        "circuit = cirq.Circuit()\n",
        "circuit.append(H.on_each(*qq))\n",
        "\n",
        "def oracle():\n",
        "    #\n",
        "    # your solution\n",
        "    #\n",
        "    yield Z(qq[3]).controlled_by(qq[0], qq[1], qq[2])\n",
        "\n",
        "def grover_diffusion():\n",
        "    yield H.on_each(*qq)\n",
        "    yield X.on_each(*qq)\n",
        "    #\n",
        "    # your solution\n",
        "    #\n",
        "    yield Z(qq[3]).controlled_by(qq[0], qq[1], qq[2])\n",
        "    yield X.on_each(*qq)\n",
        "    yield H.on_each(*qq)\n",
        "\n",
        "for i in range(3):\n",
        "    circuit.append(oracle())\n",
        "    circuit.append(grover_diffusion())\n",
        "circuit.append(cirq.measure(*qq, key='result'))\n",
        "\n",
        "# determine the statistics of the measurements\n",
        "s = cirq.Simulator()\n",
        "trials_number = 1000\n",
        "samples = s.run(circuit, repetitions=trials_number)\n",
        "\n",
        "def bitstring(bits):\n",
        "    return \"\".join(str(int(b)) for b in bits)\n",
        "\n",
        "counts = samples.histogram(key=\"result\",fold_func=bitstring)\n",
        "\n",
        "print(\"Measurement output: \", counts)\n",
        "print(\"Probability of measuring 1111: \", counts.get('1111')/trials_number)\n",
        "print(\"Probability of not measuring 1111: \", 1- counts.get('1111')/trials_number)"
      ]
    },
    {
      "cell_type": "markdown",
      "metadata": {
        "id": "R1ePL-9qp0pJ"
      },
      "source": [
        "To check out our solution, run the next cell:"
      ]
    },
    {
      "cell_type": "code",
      "execution_count": null,
      "metadata": {
        "id": "_Kkli90Op0pJ"
      },
      "outputs": [],
      "source": [
        "SolutionToTask3()  # show solution for task 3"
      ]
    },
    {
      "cell_type": "markdown",
      "metadata": {
        "id": "gsJzwB-Cp0pJ"
      },
      "source": [
        "## Are we done?\n",
        "\n",
        "We have just implemented the Grover's search algorithm finding 1111 label in $\\approx \\pi\\sqrt{N}/4$ time. In this example, we have implemented a very simple oracle which required using the knowledge about the element we were searching for.\n",
        "\n",
        "In the next notebooks, we will implement less trivial oracles and use Grover's Algorithm to help us in finding out the solution of a harder problem."
      ]
    },
    {
      "cell_type": "markdown",
      "metadata": {
        "id": "-63D3D6Zp0pJ"
      },
      "source": [
        "----\n",
        "\n",
        "<h2>Why these gates are chosen? (Optional) </h2>\n",
        "\n",
        "Now let's try to understand why these gates are chosen. Let's recall the diffusion operator:\n",
        "\n",
        "$$ 2 \\mymatrix{ccc}{\n",
        "    \\frac{1}{N}  & \\cdots & \\frac{1}{N} \\\\\n",
        "    \\vdots & \\ddots & \\vdots \\\\\n",
        "    \\frac{1}{N}  & \\cdots & \\frac{1}{N} \\\\\n",
        "    }\n",
        "- I . $$\n",
        "\n",
        "Recall that the diffusion operator can be expressed as $D=2\\ket{u}\\bra{u}-I$ where $\\ket{u}=H^{\\otimes n}\\ket{0^n}$ is the equal superposition vector. We will simply denote $\\ket{0^n}$ by $\\ket{\\mathbf{0}}$."
      ]
    },
    {
      "cell_type": "markdown",
      "metadata": {
        "id": "k2_z4YRLp0pJ"
      },
      "source": [
        "\n",
        "Instead of $D$, we will implement $-D$. Since the two operators differ by a negative sign, they yield the same observation probabilities.\n",
        "\n",
        "For instance, if $D \\ket{\\psi} = \\ket{\\phi}$, then $-D \\ket{\\psi} = -\\ket{\\phi}$ and the states $\\ket{\\phi}$ and $-\\ket{\\phi}$ have identical observation probabilities."
      ]
    },
    {
      "cell_type": "markdown",
      "metadata": {
        "id": "cgEh_HUOp0pJ"
      },
      "source": [
        "- To start with let's express $-D$ as follows:\n",
        "\n",
        "\\begin{align*}\n",
        "-D=-(2\\ket{u}\\bra{u}-I) = I - 2\\ket{u}\\bra{u} &= I - 2(H^{\\otimes n}\\ket{\\mathbf{0}}\\bra{\\mathbf{0}}H^{\\otimes n}) \\\\\n",
        "&= H^{\\otimes n}H^{\\otimes n} - 2(H^{\\otimes n}\\ket{\\mathbf{0}}\\bra{\\mathbf{0}}H^{\\otimes n})\\\\\n",
        "&=H^{\\otimes n} (H^{\\otimes n} - 2\\ket{\\mathbf{0}}\\bra{\\mathbf{0}}H^{\\otimes n}) \\\\\n",
        "&=H^{\\otimes n} (I - 2\\ket{\\mathbf{0}}\\bra{\\mathbf{0}})H^{\\otimes n}\n",
        "\\end{align*}\n",
        "\n",
        "<i>Looking at this expression, we understand why we have $H$ gates at the beginning and at the end</i>"
      ]
    },
    {
      "cell_type": "markdown",
      "metadata": {
        "id": "CokED1T4p0pJ"
      },
      "source": [
        "- Now let us look at the effect of applying $I - 2\\ket{\\mathbf{0}}\\bra{\\mathbf{0}}$ to any arbitrary state.\n",
        "\n",
        "$(I - 2\\ket{\\mathbf{0}}\\bra{\\mathbf{0}}) \\ket{x} = \\ket{x} - 2\\ket{\\mathbf{0}}\\braket{\\mathbf{0}}{x}.$\n",
        "\n",
        "If $\\ket{x}=\\ket{\\mathbf{0}}$, since $\\braket{\\mathbf{0}}{\\mathbf{0}}=1$, then $ \\ket{x} - 2\\ket{\\mathbf{0}}\\braket{\\mathbf{0}}{x} = \\ket{\\mathbf{0}} - 2\\ket{\\mathbf{0}}\\braket{\\mathbf{0}}{\\mathbf{0}} =\\ket{\\mathbf{0}} -2\\ket{\\mathbf{0}} = - \\ket{\\mathbf{0}}$.\n",
        "\n",
        "If $\\ket{x}\\neq \\ket{\\mathbf{0}}$, since $\\braket{\\mathbf{0}}{x}=0$, then $ \\ket{x} - 2\\ket{\\mathbf{0}}\\braket{\\mathbf{0}}{x} =  \\ket{x} - 2\\ket{\\mathbf{0}}\\cdot 0  = \\ket{x}$.\n",
        "\n",
        "Hence, the effect of $I - 2\\ket{\\mathbf{0}}\\bra{\\mathbf{0}}$ is flipping the amplitude of the state $\\ket{\\mathbf{0}}$."
      ]
    },
    {
      "cell_type": "markdown",
      "metadata": {
        "id": "oO29g1s3p0pJ"
      },
      "source": [
        "- How to check if the quantum state is equal to $\\ket{\\bf{0}}$ and flip its amplitude?\n",
        "\n",
        "If all qubits were in state $\\ket{1}$, then we could use a multi-controlled $Z$ gate to flip the amplitude. Instead, we need to apply a multi-controlled $Z$ gate when all qubits are in state state $\\ket{0}$.\n",
        "\n",
        " <i> That's why we first apply $X$ gates and then apply multi-controlled $Z$ gate. Afterwards, we set the qubits back by applying $X$ gates again (Recall the multiple controlled constructions notebook.). </i>"
      ]
    }
  ],
  "metadata": {
    "kernelspec": {
      "display_name": "Python 3 (ipykernel)",
      "language": "python",
      "name": "python3"
    },
    "language_info": {
      "codemirror_mode": {
        "name": "ipython",
        "version": 3
      },
      "file_extension": ".py",
      "mimetype": "text/x-python",
      "name": "python",
      "nbconvert_exporter": "python",
      "pygments_lexer": "ipython3",
      "version": "3.11.4"
    },
    "colab": {
      "provenance": [],
      "collapsed_sections": [
        "IMxNvGrMp0pG"
      ],
      "include_colab_link": true
    }
  },
  "nbformat": 4,
  "nbformat_minor": 0
}