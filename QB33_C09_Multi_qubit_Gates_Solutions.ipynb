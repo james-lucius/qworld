{
  "cells": [
    {
      "cell_type": "markdown",
      "metadata": {
        "id": "view-in-github",
        "colab_type": "text"
      },
      "source": [
        "<a href=\"https://colab.research.google.com/github/james-lucius/qworld/blob/main/QB33_C09_Multi_qubit_Gates_Solutions.ipynb\" target=\"_parent\"><img src=\"https://colab.research.google.com/assets/colab-badge.svg\" alt=\"Open In Colab\"/></a>"
      ]
    },
    {
      "cell_type": "markdown",
      "metadata": {
        "id": "SRZ50AWCL2Cl"
      },
      "source": [
        "<a href=\"https://qworld.net\" target=\"_blank\" align=\"left\"><img src=\"https://gitlab.com/qworld/qeducation/qbook101/raw/main/qworld/images/header.jpg\" align=\"left\"></a>\n",
        "$ \\newcommand{\\bra}[1]{\\langle #1|} $\n",
        "$ \\newcommand{\\ket}[1]{|#1\\rangle} $\n",
        "$ \\newcommand{\\braket}[2]{\\langle #1|#2\\rangle} $\n",
        "$ \\newcommand{\\dot}[2]{ #1 \\cdot #2} $\n",
        "$ \\newcommand{\\biginner}[2]{\\left\\langle #1,#2\\right\\rangle} $\n",
        "$ \\newcommand{\\mymatrix}[2]{\\left( \\begin{array}{#1} #2\\end{array} \\right)} $\n",
        "$ \\newcommand{\\myvector}[1]{\\mymatrix{c}{#1}} $\n",
        "$ \\newcommand{\\myrvector}[1]{\\mymatrix{r}{#1}} $\n",
        "$ \\newcommand{\\mypar}[1]{\\left( #1 \\right)} $\n",
        "$ \\newcommand{\\mybigpar}[1]{ \\Big( #1 \\Big)} $\n",
        "$ \\newcommand{\\sqrttwo}{\\frac{1}{\\sqrt{2}}} $\n",
        "$ \\newcommand{\\dsqrttwo}{\\dfrac{1}{\\sqrt{2}}} $\n",
        "$ \\newcommand{\\onehalf}{\\frac{1}{2}} $\n",
        "$ \\newcommand{\\donehalf}{\\dfrac{1}{2}} $\n",
        "$ \\newcommand{\\hadamard}{ \\mymatrix{rr}{ \\sqrttwo & \\sqrttwo \\\\ \\sqrttwo & -\\sqrttwo }} $\n",
        "$ \\newcommand{\\vzero}{\\myvector{1\\\\0}} $\n",
        "$ \\newcommand{\\vone}{\\myvector{0\\\\1}} $\n",
        "$ \\newcommand{\\stateplus}{\\myvector{ \\sqrttwo \\\\  \\sqrttwo } } $\n",
        "$ \\newcommand{\\stateminus}{ \\myrvector{ \\sqrttwo \\\\ -\\sqrttwo } } $\n",
        "$ \\newcommand{\\myarray}[2]{ \\begin{array}{#1}#2\\end{array}} $\n",
        "$ \\newcommand{\\X}{ \\mymatrix{cc}{0 & 1 \\\\ 1 & 0}  } $\n",
        "$ \\newcommand{\\Z}{ \\mymatrix{rr}{1 & 0 \\\\ 0 & -1}  } $\n",
        "$ \\newcommand{\\Htwo}{ \\mymatrix{rrrr}{ \\frac{1}{2} & \\frac{1}{2} & \\frac{1}{2} & \\frac{1}{2} \\\\ \\frac{1}{2} & -\\frac{1}{2} & \\frac{1}{2} & -\\frac{1}{2} \\\\ \\frac{1}{2} & \\frac{1}{2} & -\\frac{1}{2} & -\\frac{1}{2} \\\\ \\frac{1}{2} & -\\frac{1}{2} & -\\frac{1}{2} & \\frac{1}{2} } } $\n",
        "$ \\newcommand{\\CNOT}{ \\mymatrix{cccc}{1 & 0 & 0 & 0 \\\\ 0 & 1 & 0 & 0 \\\\ 0 & 0 & 0 & 1 \\\\ 0 & 0 & 1 & 0} } $\n",
        "$ \\newcommand{\\norm}[1]{ \\left\\lVert #1 \\right\\rVert } $\n",
        "$ \\newcommand{\\pstate}[1]{ \\lceil \\mspace{-1mu} #1 \\mspace{-1.5mu} \\rfloor } $\n",
        "$ \\newcommand{\\Y}{ \\mymatrix{rr}{0 & -i \\\\ i & 0} } $\n",
        "$ \\newcommand{\\S}{ \\mymatrix{rr}{1 & 0 \\\\ 0 & i} } $\n",
        "$ \\newcommand{\\T}{ \\mymatrix{rr}{1 & 0 \\\\ 0 & e^{i \\frac{\\pi}{4}}} } $\n",
        "$ \\newcommand{\\Sdg}{ \\mymatrix{rr}{1 & 0 \\\\ 0 & -i} } $\n",
        "$ \\newcommand{\\Tdg}{ \\mymatrix{rr}{1 & 0 \\\\ 0 & e^{-i \\frac{\\pi}{4}}} } $\n",
        "$ \\newcommand{\\qgate}[1]{ \\mathop{\\\\textit{#1} } }$"
      ]
    },
    {
      "cell_type": "markdown",
      "metadata": {
        "id": "yKA2GhX6L2Co"
      },
      "source": [
        "_prepared by Maksim Dimitrijev and Abuzer Yakaryilmaz_\n",
        "<br><br>\n",
        "_Cirq adaptation by Claudia Zendejas-Morales_"
      ]
    },
    {
      "cell_type": "markdown",
      "metadata": {
        "id": "hMI0WENpL2Cp"
      },
      "source": [
        "<font size=\"28px\" style=\"font-size:28px;\" align=\"left\"><b> <font color=\"blue\"> Solutions for </font>Multi-qubit gates</b></font>\n",
        "<br>\n",
        "<br><br>"
      ]
    },
    {
      "cell_type": "markdown",
      "metadata": {
        "jp-MarkdownHeadingCollapsed": true,
        "id": "YT9zmcjwL2Cp"
      },
      "source": [
        "##### <font color=\"#08b806\">Please execute the following cell, it is necessary to distinguish between your local environment and Google Colab's"
      ]
    },
    {
      "cell_type": "code",
      "execution_count": 1,
      "metadata": {
        "id": "S2qOWJWpL2Cp",
        "outputId": "23c671b8-acb8-44a8-e30b-6ff248745d48",
        "colab": {
          "base_uri": "https://localhost:8080/"
        }
      },
      "outputs": [
        {
          "output_type": "stream",
          "name": "stdout",
          "text": [
            "Collecting cirq\n",
            "  Downloading cirq-1.5.0-py3-none-any.whl.metadata (15 kB)\n",
            "Collecting cirq-aqt==1.5.0 (from cirq)\n",
            "  Downloading cirq_aqt-1.5.0-py3-none-any.whl.metadata (4.8 kB)\n",
            "Collecting cirq-core==1.5.0 (from cirq)\n",
            "  Downloading cirq_core-1.5.0-py3-none-any.whl.metadata (4.9 kB)\n",
            "Collecting cirq-google==1.5.0 (from cirq)\n",
            "  Downloading cirq_google-1.5.0-py3-none-any.whl.metadata (4.9 kB)\n",
            "Collecting cirq-ionq==1.5.0 (from cirq)\n",
            "  Downloading cirq_ionq-1.5.0-py3-none-any.whl.metadata (4.7 kB)\n",
            "Collecting cirq-pasqal==1.5.0 (from cirq)\n",
            "  Downloading cirq_pasqal-1.5.0-py3-none-any.whl.metadata (4.8 kB)\n",
            "Collecting cirq-web==1.5.0 (from cirq)\n",
            "  Downloading cirq_web-1.5.0-py3-none-any.whl.metadata (5.5 kB)\n",
            "Requirement already satisfied: requests~=2.32 in /usr/local/lib/python3.11/dist-packages (from cirq-aqt==1.5.0->cirq) (2.32.3)\n",
            "Requirement already satisfied: attrs>=21.3.0 in /usr/local/lib/python3.11/dist-packages (from cirq-core==1.5.0->cirq) (25.3.0)\n",
            "Collecting duet>=0.2.8 (from cirq-core==1.5.0->cirq)\n",
            "  Downloading duet-0.2.9-py3-none-any.whl.metadata (2.3 kB)\n",
            "Requirement already satisfied: matplotlib~=3.7 in /usr/local/lib/python3.11/dist-packages (from cirq-core==1.5.0->cirq) (3.10.0)\n",
            "Requirement already satisfied: networkx~=3.1 in /usr/local/lib/python3.11/dist-packages (from cirq-core==1.5.0->cirq) (3.5)\n",
            "Requirement already satisfied: numpy>=1.25 in /usr/local/lib/python3.11/dist-packages (from cirq-core==1.5.0->cirq) (2.0.2)\n",
            "Requirement already satisfied: pandas~=2.0 in /usr/local/lib/python3.11/dist-packages (from cirq-core==1.5.0->cirq) (2.2.2)\n",
            "Requirement already satisfied: sortedcontainers~=2.0 in /usr/local/lib/python3.11/dist-packages (from cirq-core==1.5.0->cirq) (2.4.0)\n",
            "Requirement already satisfied: scipy~=1.11 in /usr/local/lib/python3.11/dist-packages (from cirq-core==1.5.0->cirq) (1.15.3)\n",
            "Requirement already satisfied: sympy in /usr/local/lib/python3.11/dist-packages (from cirq-core==1.5.0->cirq) (1.13.1)\n",
            "Requirement already satisfied: typing_extensions>=4.2 in /usr/local/lib/python3.11/dist-packages (from cirq-core==1.5.0->cirq) (4.14.0)\n",
            "Requirement already satisfied: tqdm>=4.12 in /usr/local/lib/python3.11/dist-packages (from cirq-core==1.5.0->cirq) (4.67.1)\n",
            "Requirement already satisfied: google-api-core>=1.14.0 in /usr/local/lib/python3.11/dist-packages (from google-api-core[grpc]>=1.14.0->cirq-google==1.5.0->cirq) (2.25.1)\n",
            "Requirement already satisfied: proto-plus>=1.20.0 in /usr/local/lib/python3.11/dist-packages (from cirq-google==1.5.0->cirq) (1.26.1)\n",
            "Requirement already satisfied: protobuf<6.0,>=4.25 in /usr/local/lib/python3.11/dist-packages (from cirq-google==1.5.0->cirq) (5.29.5)\n",
            "Collecting typedunits (from cirq-google==1.5.0->cirq)\n",
            "  Downloading typedunits-0.0.1.dev20250509200845-cp311-cp311-manylinux_2_17_x86_64.manylinux2014_x86_64.whl.metadata (4.8 kB)\n",
            "Requirement already satisfied: googleapis-common-protos<2.0.0,>=1.56.2 in /usr/local/lib/python3.11/dist-packages (from google-api-core>=1.14.0->google-api-core[grpc]>=1.14.0->cirq-google==1.5.0->cirq) (1.70.0)\n",
            "Requirement already satisfied: google-auth<3.0.0,>=2.14.1 in /usr/local/lib/python3.11/dist-packages (from google-api-core>=1.14.0->google-api-core[grpc]>=1.14.0->cirq-google==1.5.0->cirq) (2.38.0)\n",
            "Requirement already satisfied: grpcio<2.0.0,>=1.33.2 in /usr/local/lib/python3.11/dist-packages (from google-api-core[grpc]>=1.14.0->cirq-google==1.5.0->cirq) (1.73.1)\n",
            "Requirement already satisfied: grpcio-status<2.0.0,>=1.33.2 in /usr/local/lib/python3.11/dist-packages (from google-api-core[grpc]>=1.14.0->cirq-google==1.5.0->cirq) (1.71.2)\n",
            "Requirement already satisfied: contourpy>=1.0.1 in /usr/local/lib/python3.11/dist-packages (from matplotlib~=3.7->cirq-core==1.5.0->cirq) (1.3.2)\n",
            "Requirement already satisfied: cycler>=0.10 in /usr/local/lib/python3.11/dist-packages (from matplotlib~=3.7->cirq-core==1.5.0->cirq) (0.12.1)\n",
            "Requirement already satisfied: fonttools>=4.22.0 in /usr/local/lib/python3.11/dist-packages (from matplotlib~=3.7->cirq-core==1.5.0->cirq) (4.58.4)\n",
            "Requirement already satisfied: kiwisolver>=1.3.1 in /usr/local/lib/python3.11/dist-packages (from matplotlib~=3.7->cirq-core==1.5.0->cirq) (1.4.8)\n",
            "Requirement already satisfied: packaging>=20.0 in /usr/local/lib/python3.11/dist-packages (from matplotlib~=3.7->cirq-core==1.5.0->cirq) (24.2)\n",
            "Requirement already satisfied: pillow>=8 in /usr/local/lib/python3.11/dist-packages (from matplotlib~=3.7->cirq-core==1.5.0->cirq) (11.2.1)\n",
            "Requirement already satisfied: pyparsing>=2.3.1 in /usr/local/lib/python3.11/dist-packages (from matplotlib~=3.7->cirq-core==1.5.0->cirq) (3.2.3)\n",
            "Requirement already satisfied: python-dateutil>=2.7 in /usr/local/lib/python3.11/dist-packages (from matplotlib~=3.7->cirq-core==1.5.0->cirq) (2.9.0.post0)\n",
            "Requirement already satisfied: pytz>=2020.1 in /usr/local/lib/python3.11/dist-packages (from pandas~=2.0->cirq-core==1.5.0->cirq) (2025.2)\n",
            "Requirement already satisfied: tzdata>=2022.7 in /usr/local/lib/python3.11/dist-packages (from pandas~=2.0->cirq-core==1.5.0->cirq) (2025.2)\n",
            "Requirement already satisfied: charset-normalizer<4,>=2 in /usr/local/lib/python3.11/dist-packages (from requests~=2.32->cirq-aqt==1.5.0->cirq) (3.4.2)\n",
            "Requirement already satisfied: idna<4,>=2.5 in /usr/local/lib/python3.11/dist-packages (from requests~=2.32->cirq-aqt==1.5.0->cirq) (3.10)\n",
            "Requirement already satisfied: urllib3<3,>=1.21.1 in /usr/local/lib/python3.11/dist-packages (from requests~=2.32->cirq-aqt==1.5.0->cirq) (2.4.0)\n",
            "Requirement already satisfied: certifi>=2017.4.17 in /usr/local/lib/python3.11/dist-packages (from requests~=2.32->cirq-aqt==1.5.0->cirq) (2025.6.15)\n",
            "Requirement already satisfied: mpmath<1.4,>=1.1.0 in /usr/local/lib/python3.11/dist-packages (from sympy->cirq-core==1.5.0->cirq) (1.3.0)\n",
            "Requirement already satisfied: cython>=3.0.0 in /usr/local/lib/python3.11/dist-packages (from typedunits->cirq-google==1.5.0->cirq) (3.0.12)\n",
            "Requirement already satisfied: cachetools<6.0,>=2.0.0 in /usr/local/lib/python3.11/dist-packages (from google-auth<3.0.0,>=2.14.1->google-api-core>=1.14.0->google-api-core[grpc]>=1.14.0->cirq-google==1.5.0->cirq) (5.5.2)\n",
            "Requirement already satisfied: pyasn1-modules>=0.2.1 in /usr/local/lib/python3.11/dist-packages (from google-auth<3.0.0,>=2.14.1->google-api-core>=1.14.0->google-api-core[grpc]>=1.14.0->cirq-google==1.5.0->cirq) (0.4.2)\n",
            "Requirement already satisfied: rsa<5,>=3.1.4 in /usr/local/lib/python3.11/dist-packages (from google-auth<3.0.0,>=2.14.1->google-api-core>=1.14.0->google-api-core[grpc]>=1.14.0->cirq-google==1.5.0->cirq) (4.9.1)\n",
            "Requirement already satisfied: six>=1.5 in /usr/local/lib/python3.11/dist-packages (from python-dateutil>=2.7->matplotlib~=3.7->cirq-core==1.5.0->cirq) (1.17.0)\n",
            "Requirement already satisfied: pyasn1<0.7.0,>=0.6.1 in /usr/local/lib/python3.11/dist-packages (from pyasn1-modules>=0.2.1->google-auth<3.0.0,>=2.14.1->google-api-core>=1.14.0->google-api-core[grpc]>=1.14.0->cirq-google==1.5.0->cirq) (0.6.1)\n",
            "Downloading cirq-1.5.0-py3-none-any.whl (10 kB)\n",
            "Downloading cirq_aqt-1.5.0-py3-none-any.whl (31 kB)\n",
            "Downloading cirq_core-1.5.0-py3-none-any.whl (2.0 MB)\n",
            "\u001b[2K   \u001b[90m━━━━━━━━━━━━━━━━━━━━━━━━━━━━━━━━━━━━━━━━\u001b[0m \u001b[32m2.0/2.0 MB\u001b[0m \u001b[31m35.3 MB/s\u001b[0m eta \u001b[36m0:00:00\u001b[0m\n",
            "\u001b[?25hDownloading cirq_google-1.5.0-py3-none-any.whl (597 kB)\n",
            "\u001b[2K   \u001b[90m━━━━━━━━━━━━━━━━━━━━━━━━━━━━━━━━━━━━━━━━\u001b[0m \u001b[32m597.5/597.5 kB\u001b[0m \u001b[31m28.7 MB/s\u001b[0m eta \u001b[36m0:00:00\u001b[0m\n",
            "\u001b[?25hDownloading cirq_ionq-1.5.0-py3-none-any.whl (72 kB)\n",
            "\u001b[2K   \u001b[90m━━━━━━━━━━━━━━━━━━━━━━━━━━━━━━━━━━━━━━━━\u001b[0m \u001b[32m72.0/72.0 kB\u001b[0m \u001b[31m4.3 MB/s\u001b[0m eta \u001b[36m0:00:00\u001b[0m\n",
            "\u001b[?25hDownloading cirq_pasqal-1.5.0-py3-none-any.whl (33 kB)\n",
            "Downloading cirq_web-1.5.0-py3-none-any.whl (425 kB)\n",
            "\u001b[2K   \u001b[90m━━━━━━━━━━━━━━━━━━━━━━━━━━━━━━━━━━━━━━━━\u001b[0m \u001b[32m425.1/425.1 kB\u001b[0m \u001b[31m22.3 MB/s\u001b[0m eta \u001b[36m0:00:00\u001b[0m\n",
            "\u001b[?25hDownloading duet-0.2.9-py3-none-any.whl (29 kB)\n",
            "Downloading typedunits-0.0.1.dev20250509200845-cp311-cp311-manylinux_2_17_x86_64.manylinux2014_x86_64.whl (2.8 MB)\n",
            "\u001b[2K   \u001b[90m━━━━━━━━━━━━━━━━━━━━━━━━━━━━━━━━━━━━━━━━\u001b[0m \u001b[32m2.8/2.8 MB\u001b[0m \u001b[31m53.4 MB/s\u001b[0m eta \u001b[36m0:00:00\u001b[0m\n",
            "\u001b[?25hInstalling collected packages: typedunits, duet, cirq-core, cirq-web, cirq-pasqal, cirq-ionq, cirq-aqt, cirq-google, cirq\n",
            "Successfully installed cirq-1.5.0 cirq-aqt-1.5.0 cirq-core-1.5.0 cirq-google-1.5.0 cirq-ionq-1.5.0 cirq-pasqal-1.5.0 cirq-web-1.5.0 duet-0.2.9 typedunits-0.0.1.dev20250509200845\n"
          ]
        }
      ],
      "source": [
        "import IPython\n",
        "\n",
        "def in_colab():\n",
        "    try:\n",
        "        import google.colab\n",
        "        return True\n",
        "    except:\n",
        "        return False\n",
        "\n",
        "if in_colab():\n",
        "    !pip install cirq"
      ]
    },
    {
      "cell_type": "markdown",
      "metadata": {
        "id": "A62APel5L2Cq"
      },
      "source": [
        "<a name=\"task1\"></a>\n",
        "### Task 1\n",
        "\n",
        "We have three qubits as q0⊗q1⊗q2.\n",
        "\n",
        "Below is the transitions of `SWAP` operator on q0 and q2. Complete the missing parts.\n",
        "\n",
        "- $ \\ket{000} \\rightarrow \\ket{?} $\n",
        "- $ \\ket{001} \\rightarrow \\ket{?} $\n",
        "- $ \\ket{010} \\rightarrow \\ket{?} $\n",
        "- $ \\ket{011} \\rightarrow \\ket{?} $\n",
        "- $ \\ket{100} \\rightarrow \\ket{?} $\n",
        "- $ \\ket{101} \\rightarrow \\ket{?} $\n",
        "- $ \\ket{110} \\rightarrow \\ket{?} $\n",
        "- $ \\ket{111} \\rightarrow \\ket{?} $\n",
        "\n",
        "Write the matrix of this operator."
      ]
    },
    {
      "cell_type": "markdown",
      "metadata": {
        "id": "cNVeN6hrL2Cr"
      },
      "source": [
        "<h3> Solution </h3>"
      ]
    },
    {
      "cell_type": "markdown",
      "metadata": {
        "id": "sjLsN7lLL2Cr"
      },
      "source": [
        "The values of q2 and q0 are swapped.\n",
        "\n",
        "- $ \\ket{000} \\rightarrow \\ket{000} $\n",
        "- $ \\ket{001} \\rightarrow \\ket{100} $\n",
        "- $ \\ket{010} \\rightarrow \\ket{010} $\n",
        "- $ \\ket{011} \\rightarrow \\ket{110} $\n",
        "- $ \\ket{100} \\rightarrow \\ket{001} $\n",
        "- $ \\ket{101} \\rightarrow \\ket{101} $\n",
        "- $ \\ket{110} \\rightarrow \\ket{011} $\n",
        "- $ \\ket{111} \\rightarrow \\ket{111} $\n",
        "\n",
        "Based on these transtions, we can easily build the matrix:\n",
        "\n",
        "$ \\mymatrix{cccc|cccc}{\n",
        "1 & 0 & 0 & 0 & 0 & 0 & 0 & 0 \\\\\n",
        "0 & 0 & 0 & 0 & 1 & 0 & 0 & 0 \\\\\n",
        "0 & 0 & 1 & 0 & 0 & 0 & 0 & 0 \\\\\n",
        "0 & 0 & 0 & 0 & 0 & 0 & 1 & 0 \\\\ \\hline\n",
        "0 & 1 & 0 & 0 & 0 & 0 & 0 & 0 \\\\\n",
        "0 & 0 & 0 & 0 & 0 & 1 & 0 & 0 \\\\\n",
        "0 & 0 & 0 & 1 & 0 & 0 & 0 & 0 \\\\\n",
        "0 & 0 & 0 & 0 & 0 & 0 & 0 & 1 \\\\\n",
        "} $"
      ]
    },
    {
      "cell_type": "markdown",
      "metadata": {
        "id": "6bq4GNy5L2Cs"
      },
      "source": [
        "<a name=\"task2\"></a>\n",
        "<h3> Task 2 </h3>\n",
        "\n",
        "Suppose that in Task 1 three qubits are placed on a line as q0---q1---q2, and `SWAP` operator is allowed only for neighbors, i.e., between 0 and 1 and between 1 and 2.\n",
        "\n",
        "Design a circuit swapping q0 and q2 but following neighborhood constraints for `SWAP` gates.\n",
        "\n",
        "Print the matrix of circuit and compare it with the solution of Task 1."
      ]
    },
    {
      "cell_type": "markdown",
      "metadata": {
        "id": "hN5AktOcL2Cs"
      },
      "source": [
        "<h3> Solution </h3>"
      ]
    },
    {
      "cell_type": "code",
      "execution_count": 2,
      "metadata": {
        "id": "_EckiN1XL2Cs",
        "outputId": "6b037889-673e-45d7-8e1d-73e33c70441e",
        "colab": {
          "base_uri": "https://localhost:8080/"
        }
      },
      "outputs": [
        {
          "output_type": "stream",
          "name": "stdout",
          "text": [
            "1.0   0.0   0.0   0.0   0.0   0.0   0.0   0.0   \n",
            "0.0   0.0   0.0   0.0   1.0   0.0   0.0   0.0   \n",
            "0.0   0.0   1.0   0.0   0.0   0.0   0.0   0.0   \n",
            "0.0   0.0   0.0   0.0   0.0   0.0   1.0   0.0   \n",
            "0.0   1.0   0.0   0.0   0.0   0.0   0.0   0.0   \n",
            "0.0   0.0   0.0   0.0   0.0   1.0   0.0   0.0   \n",
            "0.0   0.0   0.0   1.0   0.0   0.0   0.0   0.0   \n",
            "0.0   0.0   0.0   0.0   0.0   0.0   0.0   1.0   \n"
          ]
        }
      ],
      "source": [
        "import cirq\n",
        "from cirq import SWAP\n",
        "\n",
        "circuit = cirq.Circuit()\n",
        "\n",
        "q0, q1, q2 = cirq.LineQubit.range(3) #create 3 qubits\n",
        "\n",
        "# we apply a series of SWAP operator\n",
        "\n",
        "# q0---q1---q2 => # q1---q0---q2\n",
        "circuit.append(SWAP.on(q0, q1))\n",
        "\n",
        "# q1---q0---q2 => q1---q2---q0\n",
        "circuit.append(SWAP.on(q1, q2))\n",
        "\n",
        "# q1---q2---q0 => q2---q1---q0\n",
        "circuit.append(SWAP.on(q0, q1))\n",
        "\n",
        "\n",
        "U = cirq.unitary(circuit) # read the matrix of circuit\n",
        "\n",
        "\n",
        "for row in U:\n",
        "    row_str = \"\"\n",
        "    for col in row:\n",
        "        # we have only 0-1s\n",
        "        row_str += str(round(col.real,0)) + \"   \"\n",
        "    print(row_str)"
      ]
    },
    {
      "cell_type": "markdown",
      "metadata": {
        "id": "u83vEIKqL2Cs"
      },
      "source": [
        "<a name=\"task3\"></a>\n",
        "### Task 3\n",
        "\n",
        "For the gate `cirq.CX(q1, q0)`, list down the transitons and write down its matrix.\n",
        "\n",
        "Verify your matrix in Cirq, i.e., print the matrix of circuit implementing this gate."
      ]
    },
    {
      "cell_type": "markdown",
      "metadata": {
        "id": "h9ZQyuQnL2Cs"
      },
      "source": [
        "<h3> Solution </h3>"
      ]
    },
    {
      "cell_type": "code",
      "execution_count": 3,
      "metadata": {
        "id": "7QXyErwNL2Cs",
        "outputId": "b59961cc-6dbe-4376-eff5-648359f008bd",
        "colab": {
          "base_uri": "https://localhost:8080/"
        }
      },
      "outputs": [
        {
          "output_type": "stream",
          "name": "stdout",
          "text": [
            "1.0   0.0   0.0   0.0   \n",
            "0.0   0.0   0.0   1.0   \n",
            "0.0   0.0   1.0   0.0   \n",
            "0.0   1.0   0.0   0.0   \n"
          ]
        }
      ],
      "source": [
        "import cirq\n",
        "from cirq import CNOT\n",
        "\n",
        "circuit = cirq.Circuit()\n",
        "\n",
        "q0, q1 = cirq.LineQubit.range(2) #create 2 qubits\n",
        "\n",
        "circuit.append(CNOT.on(q1, q0))\n",
        "\n",
        "U = cirq.unitary(circuit) # read the matrix of circuit\n",
        "\n",
        "\n",
        "for row in U:\n",
        "    row_str = \"\"\n",
        "    for col in row:\n",
        "        # we have only 0-1s\n",
        "        row_str += str(round(col.real,0)) + \"   \"\n",
        "    print(row_str)"
      ]
    },
    {
      "cell_type": "markdown",
      "metadata": {
        "id": "ROD9bduiL2Cs"
      },
      "source": [
        "The transitions are as follows:\n",
        "\n",
        "- $ \\ket{00} \\rightarrow \\ket{00} $\n",
        "- $ \\ket{01} \\rightarrow \\ket{11} $\n",
        "- $ \\ket{10} \\rightarrow \\ket{10} $\n",
        "- $ \\ket{11} \\rightarrow \\ket{01} $"
      ]
    },
    {
      "cell_type": "markdown",
      "metadata": {
        "id": "ytAFNwgFL2Ct"
      },
      "source": [
        "<a name=\"task4\"></a>\n",
        "### Task 4\n",
        "\n",
        "Remember Pauli gate $ Y = \\Y $.\n",
        "\n",
        "For the gate `Y.on(q1).controlled_by(q0)`, list down the transitons and then write down its matrix.\n",
        "\n",
        "Verify your matrix in Cirq, i.e., print the matrix of circuit implementing this gate."
      ]
    },
    {
      "cell_type": "markdown",
      "metadata": {
        "id": "Pr1IRs3ML2Ct"
      },
      "source": [
        "<h3> Solution </h3>"
      ]
    },
    {
      "cell_type": "code",
      "execution_count": 4,
      "metadata": {
        "id": "MnGI9enAL2Ct",
        "outputId": "ea38b0f7-a5a5-4c7e-cff2-81f962567115",
        "colab": {
          "base_uri": "https://localhost:8080/"
        }
      },
      "outputs": [
        {
          "output_type": "stream",
          "name": "stdout",
          "text": [
            " 1  0  0  0 \n",
            " 0  1  0  0 \n",
            " 0  0  0 -i \n",
            " 0  0  i  0 \n"
          ]
        }
      ],
      "source": [
        "import cirq\n",
        "from cirq import Y\n",
        "\n",
        "circuit = cirq.Circuit()\n",
        "\n",
        "q0, q1 = cirq.LineQubit.range(2) #create 2 qubits\n",
        "\n",
        "circuit.append(Y.on(q1).controlled_by(q0))\n",
        "\n",
        "U = cirq.unitary(circuit) # read the matrix of circuit\n",
        "\n",
        "\n",
        "for row in U:\n",
        "    row_str = \"\"\n",
        "    for col in row:\n",
        "        # we have 0,1,i,-i\n",
        "        real = round(col.real,0)\n",
        "        imag = round(col.imag,0)\n",
        "        if real == 1:\n",
        "            row_str += \" 1 \"\n",
        "        elif imag == 1:\n",
        "            row_str += \" i \"\n",
        "        elif imag == -1:\n",
        "            row_str += \"-i \"\n",
        "        else:\n",
        "            row_str += \" 0 \"\n",
        "    print(row_str)"
      ]
    },
    {
      "cell_type": "markdown",
      "metadata": {
        "id": "pgT8XN2fL2Ct"
      },
      "source": [
        "The transitions are as follows:\n",
        "\n",
        "- $ \\ket{00} \\rightarrow ~~1\\ket{00} $\n",
        "- $ \\ket{01} \\rightarrow ~~1\\ket{01} $\n",
        "- $ \\ket{10} \\rightarrow ~~i\\ket{11} $\n",
        "- $ \\ket{11} \\rightarrow -i\\ket{10} $"
      ]
    },
    {
      "cell_type": "markdown",
      "metadata": {
        "id": "k3L2k9iAL2Ct"
      },
      "source": [
        "<a name=\"task5\"></a>\n",
        "### Task 5\n",
        "\n",
        "For the gate `H.on(q1).controlled_by(q0)`, list down the transitons and then write down its matrix.\n",
        "\n",
        "Verify your matrix in Cirq, i.e., print the matrix of circuit implementing this gate."
      ]
    },
    {
      "cell_type": "markdown",
      "metadata": {
        "id": "76ic_b_SL2Ct"
      },
      "source": [
        "<h3> Solution </h3>"
      ]
    },
    {
      "cell_type": "code",
      "execution_count": 5,
      "metadata": {
        "id": "i70-LSvJL2Ct",
        "outputId": "f9d7b1be-340d-4fd3-aaed-e2b8a8dea8f0",
        "colab": {
          "base_uri": "https://localhost:8080/"
        }
      },
      "outputs": [
        {
          "output_type": "stream",
          "name": "stdout",
          "text": [
            "    1     0     0     0 \n",
            "    0     1     0     0 \n",
            "    0     0  0.707  0.707 \n",
            "    0     0  0.707 -0.707 \n"
          ]
        }
      ],
      "source": [
        "import cirq\n",
        "from cirq import H\n",
        "\n",
        "circuit = cirq.Circuit()\n",
        "\n",
        "q0, q1 = cirq.LineQubit.range(2) #create 2 qubits\n",
        "\n",
        "circuit.append(H.on(q1).controlled_by(q0))\n",
        "\n",
        "U = cirq.unitary(circuit) # read the matrix of circuit\n",
        "\n",
        "\n",
        "for row in U:\n",
        "    row_str = \"\"\n",
        "    for col in row:\n",
        "        # we have 0,1,0.707,-0.707\n",
        "        real = round(col.real,3)\n",
        "        if real == 1:\n",
        "            row_str += \"    1 \"\n",
        "        elif real == 0.707:\n",
        "            row_str += \" 0.707 \"\n",
        "        elif real == -0.707:\n",
        "            row_str += \"-0.707 \"\n",
        "        else:\n",
        "            row_str += \"    0 \"\n",
        "    print(row_str)"
      ]
    },
    {
      "cell_type": "markdown",
      "metadata": {
        "id": "TKmFFtRML2Ct"
      },
      "source": [
        "The transitions are as follows:\n",
        "\n",
        "- $ \\ket{00} \\rightarrow \\ket{00} $\n",
        "- $ \\ket{01} \\rightarrow \\ket{01} $\n",
        "- $ \\ket{10} \\rightarrow \\frac{1}{\\sqrt{2}} \\ket{10} + \\frac{1}{\\sqrt{2}} \\ket{11} $\n",
        "- $ \\ket{11} \\rightarrow \\frac{1}{\\sqrt{2}} \\ket{10} - \\frac{1}{\\sqrt{2}} \\ket{11} $"
      ]
    },
    {
      "cell_type": "markdown",
      "metadata": {
        "id": "n_rrPBlYL2Ct"
      },
      "source": [
        "<a name=\"task6\"></a>\n",
        "### Task 6\n",
        "\n",
        "For the gate `H.on(q0).controlled_by(q1)`, list down the transitons and then write down its matrix.\n",
        "\n",
        "Verify your matrix in Cirq, i.e., print the matrix of circuit implementing this gate."
      ]
    },
    {
      "cell_type": "markdown",
      "metadata": {
        "id": "W_V5EjtqL2Ct"
      },
      "source": [
        "<h3> Solution </h3>"
      ]
    },
    {
      "cell_type": "code",
      "execution_count": 6,
      "metadata": {
        "id": "Pn8gFjEeL2Ct",
        "outputId": "9667a6b0-0c38-4fb5-f394-1e78befd1bda",
        "colab": {
          "base_uri": "https://localhost:8080/"
        }
      },
      "outputs": [
        {
          "output_type": "stream",
          "name": "stdout",
          "text": [
            "   1      0      0      0   \n",
            "   0    0.707    0    0.707 \n",
            "   0      0      1      0   \n",
            "   0    0.707    0   -0.707 \n"
          ]
        }
      ],
      "source": [
        "import cirq\n",
        "from cirq import H\n",
        "\n",
        "circuit = cirq.Circuit()\n",
        "\n",
        "q0, q1 = cirq.LineQubit.range(2) #create 2 qubits\n",
        "\n",
        "circuit.append(H.on(q0).controlled_by(q1))\n",
        "\n",
        "U = cirq.unitary(circuit) # read the matrix of circuit\n",
        "\n",
        "\n",
        "for row in U:\n",
        "    row_str = \"\"\n",
        "    for col in row:\n",
        "        # we have 0,1,0.707,-0.707\n",
        "        real = round(col.real,3)\n",
        "        if real == 1:\n",
        "            row_str += \"   1   \"\n",
        "        elif real == 0.707:\n",
        "            row_str += \" 0.707 \"\n",
        "        elif real == -0.707:\n",
        "            row_str += \"-0.707 \"\n",
        "        else:\n",
        "            row_str += \"   0   \"\n",
        "    print(row_str)"
      ]
    },
    {
      "cell_type": "markdown",
      "metadata": {
        "id": "VOSkRDGhL2Ct"
      },
      "source": [
        "The transitions are as follows:\n",
        "\n",
        "- $ \\ket{00} \\rightarrow \\ket{00} $\n",
        "- $ \\ket{01} \\rightarrow \\frac{1}{\\sqrt{2}} \\ket{01} + \\frac{1}{\\sqrt{2}} \\ket{11} $\n",
        "- $ \\ket{10} \\rightarrow \\ket{10} $\n",
        "- $ \\ket{11} \\rightarrow \\frac{1}{\\sqrt{2}} \\ket{01} - \\frac{1}{\\sqrt{2}} \\ket{11} $"
      ]
    },
    {
      "cell_type": "markdown",
      "metadata": {
        "id": "dAablgQqL2Ct"
      },
      "source": [
        "<a name=\"task7\"></a>\n",
        "### Task 7\n",
        "\n",
        "We define a gate as the multiplication of three `CSWAP` gates as follows:\n",
        "\n",
        "    SWAP.on(q0, q1).controlled_by(q2)\n",
        "    SWAP.on(q0, q2).controlled_by(q1)\n",
        "    SWAP.on(q1, q2).controlled_by(q0)\n",
        "\n",
        "For this gate, list down the transitons and then write down its matrix.\n",
        "\n",
        "Verify your matrix in Cirq, i.e., print the matrix of circuit implementing this gate."
      ]
    },
    {
      "cell_type": "markdown",
      "metadata": {
        "id": "B-DVRlKEL2Ct"
      },
      "source": [
        "<h3> Solution </h3>"
      ]
    },
    {
      "cell_type": "code",
      "execution_count": 7,
      "metadata": {
        "id": "qI-r6_wdL2Ct",
        "outputId": "5f7eff03-c76b-4bc9-a3c2-aa2f2646b7ee",
        "colab": {
          "base_uri": "https://localhost:8080/"
        }
      },
      "outputs": [
        {
          "output_type": "stream",
          "name": "stdout",
          "text": [
            "1.0   0.0   0.0   0.0   0.0   0.0   0.0   0.0   \n",
            "0.0   1.0   0.0   0.0   0.0   0.0   0.0   0.0   \n",
            "0.0   0.0   1.0   0.0   0.0   0.0   0.0   0.0   \n",
            "0.0   0.0   0.0   0.0   0.0   0.0   1.0   0.0   \n",
            "0.0   0.0   0.0   0.0   1.0   0.0   0.0   0.0   \n",
            "0.0   0.0   0.0   0.0   0.0   1.0   0.0   0.0   \n",
            "0.0   0.0   0.0   1.0   0.0   0.0   0.0   0.0   \n",
            "0.0   0.0   0.0   0.0   0.0   0.0   0.0   1.0   \n"
          ]
        }
      ],
      "source": [
        "import cirq\n",
        "from cirq import SWAP\n",
        "\n",
        "circuit = cirq.Circuit()\n",
        "\n",
        "q0, q1, q2 = cirq.LineQubit.range(3) #create 3 qubits\n",
        "\n",
        "circuit.append(SWAP.on(q0, q1).controlled_by(q2))\n",
        "circuit.append(SWAP.on(q0, q2).controlled_by(q1))\n",
        "circuit.append(SWAP.on(q1, q2).controlled_by(q0))\n",
        "\n",
        "U = cirq.unitary(circuit) # read the matrix of circuit\n",
        "\n",
        "for row in U:\n",
        "    row_str = \"\"\n",
        "    for col in row:\n",
        "        # we have only 0-1s\n",
        "        row_str += str(round(col.real,0)) + \"   \"\n",
        "    print(row_str)"
      ]
    },
    {
      "cell_type": "markdown",
      "metadata": {
        "id": "J3VT9KV6L2Cu"
      },
      "source": [
        "The transitions are as follows:\n",
        "\n",
        "- $ \\ket{000} \\rightarrow \\ket{000} $\n",
        "- $ \\ket{001} \\rightarrow \\ket{001} $\n",
        "- $ \\ket{010} \\rightarrow \\ket{010} $\n",
        "- $ \\ket{011} \\rightarrow \\ket{110} $\n",
        "- $ \\ket{100} \\rightarrow \\ket{100} $\n",
        "- $ \\ket{101} \\rightarrow \\ket{101} $\n",
        "- $ \\ket{110} \\rightarrow \\ket{011} $\n",
        "- $ \\ket{111} \\rightarrow \\ket{111} $"
      ]
    }
  ],
  "metadata": {
    "kernelspec": {
      "display_name": "Python 3 (ipykernel)",
      "language": "python",
      "name": "python3"
    },
    "language_info": {
      "codemirror_mode": {
        "name": "ipython",
        "version": 3
      },
      "file_extension": ".py",
      "mimetype": "text/x-python",
      "name": "python",
      "nbconvert_exporter": "python",
      "pygments_lexer": "ipython3",
      "version": "3.11.4"
    },
    "colab": {
      "provenance": [],
      "collapsed_sections": [
        "YT9zmcjwL2Cp"
      ],
      "include_colab_link": true
    }
  },
  "nbformat": 4,
  "nbformat_minor": 0
}