{
  "cells": [
    {
      "cell_type": "markdown",
      "metadata": {
        "id": "view-in-github",
        "colab_type": "text"
      },
      "source": [
        "<a href=\"https://colab.research.google.com/github/james-lucius/qworld/blob/main/QB51_D02_Quantum_Fourier_Transform_Solutions.ipynb\" target=\"_parent\"><img src=\"https://colab.research.google.com/assets/colab-badge.svg\" alt=\"Open In Colab\"/></a>"
      ]
    },
    {
      "cell_type": "markdown",
      "metadata": {
        "id": "veb6B8hMA7mW"
      },
      "source": [
        "<a href=\"https://qworld.net\" target=\"_blank\" align=\"left\"><img src=\"https://gitlab.com/qworld/qeducation/qbook101/raw/main/qworld/images/header.jpg\" align=\"left\"></a>\n",
        "$ \\newcommand{\\bra}[1]{\\langle #1|} $\n",
        "$ \\newcommand{\\ket}[1]{|#1\\rangle} $\n",
        "$ \\newcommand{\\braket}[2]{\\langle #1|#2\\rangle} $\n",
        "$ \\newcommand{\\dot}[2]{ #1 \\cdot #2} $\n",
        "$ \\newcommand{\\biginner}[2]{\\left\\langle #1,#2\\right\\rangle} $\n",
        "$ \\newcommand{\\mymatrix}[2]{\\left( \\begin{array}{#1} #2\\end{array} \\right)} $\n",
        "$ \\newcommand{\\myvector}[1]{\\mymatrix{c}{#1}} $\n",
        "$ \\newcommand{\\myrvector}[1]{\\mymatrix{r}{#1}} $\n",
        "$ \\newcommand{\\mypar}[1]{\\left( #1 \\right)} $\n",
        "$ \\newcommand{\\mybigpar}[1]{ \\Big( #1 \\Big)} $\n",
        "$ \\newcommand{\\sqrttwo}{\\frac{1}{\\sqrt{2}}} $\n",
        "$ \\newcommand{\\dsqrttwo}{\\dfrac{1}{\\sqrt{2}}} $\n",
        "$ \\newcommand{\\onehalf}{\\frac{1}{2}} $\n",
        "$ \\newcommand{\\donehalf}{\\dfrac{1}{2}} $\n",
        "$ \\newcommand{\\hadamard}{ \\mymatrix{rr}{ \\sqrttwo & \\sqrttwo \\\\ \\sqrttwo & -\\sqrttwo }} $\n",
        "$ \\newcommand{\\vzero}{\\myvector{1\\\\0}} $\n",
        "$ \\newcommand{\\vone}{\\myvector{0\\\\1}} $\n",
        "$ \\newcommand{\\stateplus}{\\myvector{ \\sqrttwo \\\\  \\sqrttwo } } $\n",
        "$ \\newcommand{\\stateminus}{ \\myrvector{ \\sqrttwo \\\\ -\\sqrttwo } } $\n",
        "$ \\newcommand{\\myarray}[2]{ \\begin{array}{#1}#2\\end{array}} $\n",
        "$ \\newcommand{\\X}{ \\mymatrix{cc}{0 & 1 \\\\ 1 & 0}  } $\n",
        "$ \\newcommand{\\Z}{ \\mymatrix{rr}{1 & 0 \\\\ 0 & -1}  } $\n",
        "$ \\newcommand{\\Htwo}{ \\mymatrix{rrrr}{ \\frac{1}{2} & \\frac{1}{2} & \\frac{1}{2} & \\frac{1}{2} \\\\ \\frac{1}{2} & -\\frac{1}{2} & \\frac{1}{2} & -\\frac{1}{2} \\\\ \\frac{1}{2} & \\frac{1}{2} & -\\frac{1}{2} & -\\frac{1}{2} \\\\ \\frac{1}{2} & -\\frac{1}{2} & -\\frac{1}{2} & \\frac{1}{2} } } $\n",
        "$ \\newcommand{\\CNOT}{ \\mymatrix{cccc}{1 & 0 & 0 & 0 \\\\ 0 & 1 & 0 & 0 \\\\ 0 & 0 & 0 & 1 \\\\ 0 & 0 & 1 & 0} } $\n",
        "$ \\newcommand{\\norm}[1]{ \\left\\lVert #1 \\right\\rVert } $\n",
        "$ \\newcommand{\\pstate}[1]{ \\lceil \\mspace{-1mu} #1 \\mspace{-1.5mu} \\rfloor } $\n",
        "$ \\newcommand{\\Y}{ \\mymatrix{rr}{0 & -i \\\\ i & 0} } $\n",
        "$ \\newcommand{\\S}{ \\mymatrix{rr}{1 & 0 \\\\ 0 & i} } $\n",
        "$ \\newcommand{\\T}{ \\mymatrix{rr}{1 & 0 \\\\ 0 & e^{i \\frac{\\pi}{4}}} } $\n",
        "$ \\newcommand{\\Sdg}{ \\mymatrix{rr}{1 & 0 \\\\ 0 & -i} } $\n",
        "$ \\newcommand{\\Tdg}{ \\mymatrix{rr}{1 & 0 \\\\ 0 & e^{-i \\frac{\\pi}{4}}} } $\n",
        "$ \\newcommand{\\qgate}[1]{ \\mathop{\\\\textit{#1} } }$"
      ]
    },
    {
      "cell_type": "markdown",
      "metadata": {
        "id": "QFOjxPUPA7mX"
      },
      "source": [
        "_prepared by Özlem Salehi and Abuzer Yakaryilmaz_\n",
        "<br><br>\n",
        "_Cirq adaptation by Claudia Zendejas-Morales_"
      ]
    },
    {
      "cell_type": "markdown",
      "metadata": {
        "id": "m70s-IWxA7mY"
      },
      "source": [
        "<font size=\"28px\" style=\"font-size:28px;\" align=\"left\"><b><font color=\"blue\"> Solutions for </font>Quantum Fourier Transform</b></font>\n",
        "<br>\n",
        "<br><br>"
      ]
    },
    {
      "cell_type": "markdown",
      "metadata": {
        "jp-MarkdownHeadingCollapsed": true,
        "id": "cQYY25AhA7mY"
      },
      "source": [
        "##### <font color=\"#08b806\">Please execute the following cell, it is necessary to distinguish between your local environment and Google Colab's"
      ]
    },
    {
      "cell_type": "code",
      "execution_count": 1,
      "metadata": {
        "id": "mwn6ZUDxA7mY",
        "outputId": "41ee5086-2979-4068-8d38-234c814c8542",
        "colab": {
          "base_uri": "https://localhost:8080/"
        }
      },
      "outputs": [
        {
          "output_type": "stream",
          "name": "stdout",
          "text": [
            "Collecting cirq\n",
            "  Downloading cirq-1.5.0-py3-none-any.whl.metadata (15 kB)\n",
            "Collecting cirq-aqt==1.5.0 (from cirq)\n",
            "  Downloading cirq_aqt-1.5.0-py3-none-any.whl.metadata (4.8 kB)\n",
            "Collecting cirq-core==1.5.0 (from cirq)\n",
            "  Downloading cirq_core-1.5.0-py3-none-any.whl.metadata (4.9 kB)\n",
            "Collecting cirq-google==1.5.0 (from cirq)\n",
            "  Downloading cirq_google-1.5.0-py3-none-any.whl.metadata (4.9 kB)\n",
            "Collecting cirq-ionq==1.5.0 (from cirq)\n",
            "  Downloading cirq_ionq-1.5.0-py3-none-any.whl.metadata (4.7 kB)\n",
            "Collecting cirq-pasqal==1.5.0 (from cirq)\n",
            "  Downloading cirq_pasqal-1.5.0-py3-none-any.whl.metadata (4.8 kB)\n",
            "Collecting cirq-web==1.5.0 (from cirq)\n",
            "  Downloading cirq_web-1.5.0-py3-none-any.whl.metadata (5.5 kB)\n",
            "Requirement already satisfied: requests~=2.32 in /usr/local/lib/python3.11/dist-packages (from cirq-aqt==1.5.0->cirq) (2.32.3)\n",
            "Requirement already satisfied: attrs>=21.3.0 in /usr/local/lib/python3.11/dist-packages (from cirq-core==1.5.0->cirq) (25.3.0)\n",
            "Collecting duet>=0.2.8 (from cirq-core==1.5.0->cirq)\n",
            "  Downloading duet-0.2.9-py3-none-any.whl.metadata (2.3 kB)\n",
            "Requirement already satisfied: matplotlib~=3.7 in /usr/local/lib/python3.11/dist-packages (from cirq-core==1.5.0->cirq) (3.10.0)\n",
            "Requirement already satisfied: networkx~=3.1 in /usr/local/lib/python3.11/dist-packages (from cirq-core==1.5.0->cirq) (3.5)\n",
            "Requirement already satisfied: numpy>=1.25 in /usr/local/lib/python3.11/dist-packages (from cirq-core==1.5.0->cirq) (2.0.2)\n",
            "Requirement already satisfied: pandas~=2.0 in /usr/local/lib/python3.11/dist-packages (from cirq-core==1.5.0->cirq) (2.2.2)\n",
            "Requirement already satisfied: sortedcontainers~=2.0 in /usr/local/lib/python3.11/dist-packages (from cirq-core==1.5.0->cirq) (2.4.0)\n",
            "Requirement already satisfied: scipy~=1.11 in /usr/local/lib/python3.11/dist-packages (from cirq-core==1.5.0->cirq) (1.15.3)\n",
            "Requirement already satisfied: sympy in /usr/local/lib/python3.11/dist-packages (from cirq-core==1.5.0->cirq) (1.13.1)\n",
            "Requirement already satisfied: typing_extensions>=4.2 in /usr/local/lib/python3.11/dist-packages (from cirq-core==1.5.0->cirq) (4.14.1)\n",
            "Requirement already satisfied: tqdm>=4.12 in /usr/local/lib/python3.11/dist-packages (from cirq-core==1.5.0->cirq) (4.67.1)\n",
            "Requirement already satisfied: google-api-core>=1.14.0 in /usr/local/lib/python3.11/dist-packages (from google-api-core[grpc]>=1.14.0->cirq-google==1.5.0->cirq) (2.25.1)\n",
            "Requirement already satisfied: proto-plus>=1.20.0 in /usr/local/lib/python3.11/dist-packages (from cirq-google==1.5.0->cirq) (1.26.1)\n",
            "Requirement already satisfied: protobuf<6.0,>=4.25 in /usr/local/lib/python3.11/dist-packages (from cirq-google==1.5.0->cirq) (5.29.5)\n",
            "Collecting typedunits (from cirq-google==1.5.0->cirq)\n",
            "  Downloading typedunits-0.0.1.dev20250509200845-cp311-cp311-manylinux_2_17_x86_64.manylinux2014_x86_64.whl.metadata (4.8 kB)\n",
            "Requirement already satisfied: googleapis-common-protos<2.0.0,>=1.56.2 in /usr/local/lib/python3.11/dist-packages (from google-api-core>=1.14.0->google-api-core[grpc]>=1.14.0->cirq-google==1.5.0->cirq) (1.70.0)\n",
            "Requirement already satisfied: google-auth<3.0.0,>=2.14.1 in /usr/local/lib/python3.11/dist-packages (from google-api-core>=1.14.0->google-api-core[grpc]>=1.14.0->cirq-google==1.5.0->cirq) (2.38.0)\n",
            "Requirement already satisfied: grpcio<2.0.0,>=1.33.2 in /usr/local/lib/python3.11/dist-packages (from google-api-core[grpc]>=1.14.0->cirq-google==1.5.0->cirq) (1.73.1)\n",
            "Requirement already satisfied: grpcio-status<2.0.0,>=1.33.2 in /usr/local/lib/python3.11/dist-packages (from google-api-core[grpc]>=1.14.0->cirq-google==1.5.0->cirq) (1.71.2)\n",
            "Requirement already satisfied: contourpy>=1.0.1 in /usr/local/lib/python3.11/dist-packages (from matplotlib~=3.7->cirq-core==1.5.0->cirq) (1.3.2)\n",
            "Requirement already satisfied: cycler>=0.10 in /usr/local/lib/python3.11/dist-packages (from matplotlib~=3.7->cirq-core==1.5.0->cirq) (0.12.1)\n",
            "Requirement already satisfied: fonttools>=4.22.0 in /usr/local/lib/python3.11/dist-packages (from matplotlib~=3.7->cirq-core==1.5.0->cirq) (4.58.5)\n",
            "Requirement already satisfied: kiwisolver>=1.3.1 in /usr/local/lib/python3.11/dist-packages (from matplotlib~=3.7->cirq-core==1.5.0->cirq) (1.4.8)\n",
            "Requirement already satisfied: packaging>=20.0 in /usr/local/lib/python3.11/dist-packages (from matplotlib~=3.7->cirq-core==1.5.0->cirq) (24.2)\n",
            "Requirement already satisfied: pillow>=8 in /usr/local/lib/python3.11/dist-packages (from matplotlib~=3.7->cirq-core==1.5.0->cirq) (11.2.1)\n",
            "Requirement already satisfied: pyparsing>=2.3.1 in /usr/local/lib/python3.11/dist-packages (from matplotlib~=3.7->cirq-core==1.5.0->cirq) (3.2.3)\n",
            "Requirement already satisfied: python-dateutil>=2.7 in /usr/local/lib/python3.11/dist-packages (from matplotlib~=3.7->cirq-core==1.5.0->cirq) (2.9.0.post0)\n",
            "Requirement already satisfied: pytz>=2020.1 in /usr/local/lib/python3.11/dist-packages (from pandas~=2.0->cirq-core==1.5.0->cirq) (2025.2)\n",
            "Requirement already satisfied: tzdata>=2022.7 in /usr/local/lib/python3.11/dist-packages (from pandas~=2.0->cirq-core==1.5.0->cirq) (2025.2)\n",
            "Requirement already satisfied: charset-normalizer<4,>=2 in /usr/local/lib/python3.11/dist-packages (from requests~=2.32->cirq-aqt==1.5.0->cirq) (3.4.2)\n",
            "Requirement already satisfied: idna<4,>=2.5 in /usr/local/lib/python3.11/dist-packages (from requests~=2.32->cirq-aqt==1.5.0->cirq) (3.10)\n",
            "Requirement already satisfied: urllib3<3,>=1.21.1 in /usr/local/lib/python3.11/dist-packages (from requests~=2.32->cirq-aqt==1.5.0->cirq) (2.4.0)\n",
            "Requirement already satisfied: certifi>=2017.4.17 in /usr/local/lib/python3.11/dist-packages (from requests~=2.32->cirq-aqt==1.5.0->cirq) (2025.7.9)\n",
            "Requirement already satisfied: mpmath<1.4,>=1.1.0 in /usr/local/lib/python3.11/dist-packages (from sympy->cirq-core==1.5.0->cirq) (1.3.0)\n",
            "Requirement already satisfied: cython>=3.0.0 in /usr/local/lib/python3.11/dist-packages (from typedunits->cirq-google==1.5.0->cirq) (3.0.12)\n",
            "Requirement already satisfied: cachetools<6.0,>=2.0.0 in /usr/local/lib/python3.11/dist-packages (from google-auth<3.0.0,>=2.14.1->google-api-core>=1.14.0->google-api-core[grpc]>=1.14.0->cirq-google==1.5.0->cirq) (5.5.2)\n",
            "Requirement already satisfied: pyasn1-modules>=0.2.1 in /usr/local/lib/python3.11/dist-packages (from google-auth<3.0.0,>=2.14.1->google-api-core>=1.14.0->google-api-core[grpc]>=1.14.0->cirq-google==1.5.0->cirq) (0.4.2)\n",
            "Requirement already satisfied: rsa<5,>=3.1.4 in /usr/local/lib/python3.11/dist-packages (from google-auth<3.0.0,>=2.14.1->google-api-core>=1.14.0->google-api-core[grpc]>=1.14.0->cirq-google==1.5.0->cirq) (4.9.1)\n",
            "Requirement already satisfied: six>=1.5 in /usr/local/lib/python3.11/dist-packages (from python-dateutil>=2.7->matplotlib~=3.7->cirq-core==1.5.0->cirq) (1.17.0)\n",
            "Requirement already satisfied: pyasn1<0.7.0,>=0.6.1 in /usr/local/lib/python3.11/dist-packages (from pyasn1-modules>=0.2.1->google-auth<3.0.0,>=2.14.1->google-api-core>=1.14.0->google-api-core[grpc]>=1.14.0->cirq-google==1.5.0->cirq) (0.6.1)\n",
            "Downloading cirq-1.5.0-py3-none-any.whl (10 kB)\n",
            "Downloading cirq_aqt-1.5.0-py3-none-any.whl (31 kB)\n",
            "Downloading cirq_core-1.5.0-py3-none-any.whl (2.0 MB)\n",
            "\u001b[2K   \u001b[90m━━━━━━━━━━━━━━━━━━━━━━━━━━━━━━━━━━━━━━━━\u001b[0m \u001b[32m2.0/2.0 MB\u001b[0m \u001b[31m34.8 MB/s\u001b[0m eta \u001b[36m0:00:00\u001b[0m\n",
            "\u001b[?25hDownloading cirq_google-1.5.0-py3-none-any.whl (597 kB)\n",
            "\u001b[2K   \u001b[90m━━━━━━━━━━━━━━━━━━━━━━━━━━━━━━━━━━━━━━━━\u001b[0m \u001b[32m597.5/597.5 kB\u001b[0m \u001b[31m41.2 MB/s\u001b[0m eta \u001b[36m0:00:00\u001b[0m\n",
            "\u001b[?25hDownloading cirq_ionq-1.5.0-py3-none-any.whl (72 kB)\n",
            "\u001b[2K   \u001b[90m━━━━━━━━━━━━━━━━━━━━━━━━━━━━━━━━━━━━━━━━\u001b[0m \u001b[32m72.0/72.0 kB\u001b[0m \u001b[31m5.2 MB/s\u001b[0m eta \u001b[36m0:00:00\u001b[0m\n",
            "\u001b[?25hDownloading cirq_pasqal-1.5.0-py3-none-any.whl (33 kB)\n",
            "Downloading cirq_web-1.5.0-py3-none-any.whl (425 kB)\n",
            "\u001b[2K   \u001b[90m━━━━━━━━━━━━━━━━━━━━━━━━━━━━━━━━━━━━━━━━\u001b[0m \u001b[32m425.1/425.1 kB\u001b[0m \u001b[31m29.6 MB/s\u001b[0m eta \u001b[36m0:00:00\u001b[0m\n",
            "\u001b[?25hDownloading duet-0.2.9-py3-none-any.whl (29 kB)\n",
            "Downloading typedunits-0.0.1.dev20250509200845-cp311-cp311-manylinux_2_17_x86_64.manylinux2014_x86_64.whl (2.8 MB)\n",
            "\u001b[2K   \u001b[90m━━━━━━━━━━━━━━━━━━━━━━━━━━━━━━━━━━━━━━━━\u001b[0m \u001b[32m2.8/2.8 MB\u001b[0m \u001b[31m70.9 MB/s\u001b[0m eta \u001b[36m0:00:00\u001b[0m\n",
            "\u001b[?25hInstalling collected packages: typedunits, duet, cirq-core, cirq-web, cirq-pasqal, cirq-ionq, cirq-aqt, cirq-google, cirq\n",
            "Successfully installed cirq-1.5.0 cirq-aqt-1.5.0 cirq-core-1.5.0 cirq-google-1.5.0 cirq-ionq-1.5.0 cirq-pasqal-1.5.0 cirq-web-1.5.0 duet-0.2.9 typedunits-0.0.1.dev20250509200845\n"
          ]
        }
      ],
      "source": [
        "import IPython\n",
        "\n",
        "def in_colab():\n",
        "    try:\n",
        "        import google.colab\n",
        "        return True\n",
        "    except:\n",
        "        return False\n",
        "\n",
        "if in_colab():\n",
        "    !pip install cirq"
      ]
    },
    {
      "cell_type": "markdown",
      "metadata": {
        "id": "_EP0yy5vA7mY"
      },
      "source": [
        "<a name=\"task1\"></a>\n",
        "### Task 1 (on paper)\n",
        "\n",
        "\n",
        "Apply $QFT$ to the basis state $\\ket{10}$ and find the new quantum state."
      ]
    },
    {
      "cell_type": "markdown",
      "metadata": {
        "id": "Aw7Kd6saA7mY"
      },
      "source": [
        "<h3>Solution </h3>"
      ]
    },
    {
      "cell_type": "markdown",
      "metadata": {
        "id": "d7te9-uMA7mY"
      },
      "source": [
        "We have $n=2$ qubits and $N=4$. $\\omega = e^{\\frac{2 \\pi i} { 4}} =i$. Note that $\\ket{10}$ is the binary representation for 2. Letting $j=2$,"
      ]
    },
    {
      "cell_type": "markdown",
      "metadata": {
        "id": "q3F9PfiVA7mZ"
      },
      "source": [
        "\\begin{align*}\n",
        " \\frac{1}{\\sqrt{N}} \\sum_{k=0}^{N-1}\\omega^{jk} \\ket{k} &= \\frac{1}{\\sqrt{4}} \\biggl ( \\omega^{2\\cdot0 } \\ket{00}+ \\omega^{2\\cdot1} \\ket{01} + \\omega^{2\\cdot2} \\ket{10} + \\omega^{2\\cdot3} \\ket{11} \\biggr ) \\\\\n",
        "&= \\frac{1}{2} \\bigl ( \\ket{00}- \\ket{01} + \\ket{10} - \\ket{11} \\bigr )\n",
        "\\end{align*}"
      ]
    },
    {
      "cell_type": "markdown",
      "metadata": {
        "id": "fLVFRbenA7mZ"
      },
      "source": [
        "We can also directly calculate the coefficients $y_k$. The vector representation for the state $\\ket{10} = \\myvector{0~0~1~0}^T$. Since $x_2=1$ and the remaining coefficients are 0, the formula reduces to\n",
        "\n",
        "$$y_k=\\frac{1}{\\sqrt{N}} \\sum_{j=0}^{N-1} \\omega^{jk} x_j= \\frac{1}{2} \\omega^{2k} x_2 = \\frac{1}{2} (-1)^k.$$"
      ]
    },
    {
      "cell_type": "markdown",
      "metadata": {
        "id": "347ZFIuVA7mZ"
      },
      "source": [
        "Hence we get $y_0= \\frac{1}{2}$, $y_1=\\frac{-1}{2}$, $y_2=\\frac{1}{2}, y_3=\\frac{-1}{2}$ and\n",
        "$$\n",
        "y= \\myvector{\\frac{1}{2}\\\\-\\frac{1}{2}\\\\\\frac{1}{2}\\\\-\\frac{1}{2}}\n",
        "$$"
      ]
    },
    {
      "cell_type": "markdown",
      "metadata": {
        "id": "dbFt5U2RA7mZ"
      },
      "source": [
        "<a name=\"task2\"></a>\n",
        "### Task 2 (on paper)\n",
        "\n",
        "Apply $QFT$ to the quantum state $ \\ket \\psi=\\frac{1}{\\sqrt{2}} \\ket {01}+\\frac{1}{\\sqrt{2}} \\ket {10} $."
      ]
    },
    {
      "cell_type": "markdown",
      "metadata": {
        "id": "X_Jp8A9ZA7mZ"
      },
      "source": [
        "<h3>Solution </h3>"
      ]
    },
    {
      "cell_type": "markdown",
      "metadata": {
        "id": "6zUG_Z-_A7mZ"
      },
      "source": [
        "We have $n=2$ qubits and $N=4$. Note that $ x_0=0, x_1=\\frac{1}{\\sqrt{2}}, x_2= \\frac{1}{\\sqrt{2}}, x_3=0 $.\n",
        "\n",
        "\\begin{align*}\n",
        "\t\\ket{\\phi}&=\\sum_{k=0}^{3} \\frac{1}{\\sqrt{4}} \\sum_{j=0}^{3} e^{\\frac{2 \\pi i j k}{4}} x_{j} \\ket{k} \\\\\n",
        "\t&=\\sum_{k=0}^{3} \\frac{1}{2\\sqrt{2}}  \\left(e^{\\frac{\\pi i k}{ 2}}|k\\rangle+e^{\\pi i k}|k\\rangle\\right)\\\\\n",
        "\t&= \\frac{1}{2\\sqrt{2}}\\left(2\\ket{00}+e^{\\frac{\\pi i}{2}} \\ket {01}+e^{ \\pi i}\\ket {01}+e^{ \\pi i}\\ket {10}+e^{\\pi i 2}\\ket {10} +e^{\\frac{3 \\pi i}{2}}\\ket {11}+e^{3 \\pi i}\\ket {11} \\right) \\\\\n",
        "\t&= \\frac{1}{2\\sqrt{2}}\\left(2\\ket{00}+i \\ket {01}-\\ket {01}-\\ket {10} + \\ket{10} -i\\ket {11}-\\ket {11} \\right) \\\\\n",
        "\t&= \\frac{1}{\\sqrt{2}} \\ket {00}+\\frac{i-1}{2\\sqrt{2}}\\ket {01}+\\frac{-i-1}{2\\sqrt{2}} \\ket {11}\n",
        "\t\t\\end{align*}\n"
      ]
    },
    {
      "cell_type": "markdown",
      "metadata": {
        "id": "v11ij-YRA7mZ"
      },
      "source": [
        "Note that since we have already found $QFT$ of the state $\\ket{10}$, we can find $QFT\\ket{01}$ and take the linear combination."
      ]
    },
    {
      "cell_type": "markdown",
      "metadata": {
        "id": "REQnur6WA7mZ"
      },
      "source": [
        "<a name=\"task3\"></a>\n",
        "### Task 3 (on paper)\n",
        "\n",
        "Apply $QFT$ to the quantum state $\\ket{\\psi}=\\alpha \\ket{0} + \\beta \\ket{1}$ and find the new quantum state.\n",
        "\n",
        "Conclude that applying 1 qubit $QFT$ is equivalent to applying Hadamard gate."
      ]
    },
    {
      "cell_type": "markdown",
      "metadata": {
        "id": "7kX9ldE0A7mZ"
      },
      "source": [
        "<h3>Solution </h3>"
      ]
    },
    {
      "cell_type": "markdown",
      "metadata": {
        "id": "Smpb_S0IA7mZ"
      },
      "source": [
        "The quantum state $\\ket{\\psi}$ is represented by $\\myvector{\\alpha\\\\\\beta}$ where $x_0=\\alpha$ and $x_1=\\beta$."
      ]
    },
    {
      "cell_type": "markdown",
      "metadata": {
        "id": "w2x2Fi6iA7mZ"
      },
      "source": [
        "$$y_0=\\frac{1}{\\sqrt{2}} \\sum_{j=0}^{1}e^{\\frac{2\\pi i j \\cdot 0}{2}}x_j = \\frac{ \\alpha + \\beta }{\\sqrt{2}}  .$$"
      ]
    },
    {
      "cell_type": "markdown",
      "metadata": {
        "id": "dPdhFhnTA7mZ"
      },
      "source": [
        "$$y_1=\\frac{1}{\\sqrt{2}} \\sum_{j=0}^{1}e^{\\frac{2\\pi i \\cdot j \\cdot 1}{2}}x_j = \\frac{1}{\\sqrt{2}} \\biggl (e^{\\frac{2\\pi i \\cdot 1 \\cdot 0}{2}}  x_0 + e^{\\frac{2\\pi i\\cdot 1\\cdot 1}{2}}x_1 \\biggr )=\\frac{ \\alpha - \\beta }{\\sqrt{2}}  .$$"
      ]
    },
    {
      "cell_type": "markdown",
      "metadata": {
        "id": "3MLunIynA7mZ"
      },
      "source": [
        "Hence the new state is $  \\frac{\\alpha+\\beta}{\\sqrt{2}} \\ket{0} + \\frac{\\alpha-\\beta}{\\sqrt{2}} \\ket{1}.$"
      ]
    },
    {
      "cell_type": "markdown",
      "metadata": {
        "id": "9c3dm32UA7mZ"
      },
      "source": [
        "<a name=\"task4\"></a>\n",
        "### Task 4 (on paper)\n",
        "\n",
        "Apply $QFT$ to the basis state $\\ket{10}$ using the matrix representaiton and find the new quantum state."
      ]
    },
    {
      "cell_type": "markdown",
      "metadata": {
        "id": "nVngBih4A7mZ"
      },
      "source": [
        "<h3>Solution </h3>"
      ]
    },
    {
      "cell_type": "markdown",
      "metadata": {
        "id": "Sq33LFM-A7mZ"
      },
      "source": [
        "Let's first find the $QFT$ matrix for 2 qubits.\n",
        "\n",
        "$$\\frac{1}{2} \\mymatrix{rrrr}{1 & 1 & 1 &1 \\\\ 1 & \\omega & \\omega^2 & \\omega^3 \\\\ 1 & \\omega^2 &\\omega^4 & \\omega^6 \\\\ 1 & \\omega^3 & \\omega^6 & \\omega^9 }$$\n",
        "\n",
        "Since $\\omega = i$ for $N=4$, the matrix becomes\n",
        "\n",
        "$$\\frac{1}{2} \\mymatrix{rrrr}{1 & 1 & 1 &1 \\\\ 1 & i & -1 & -i \\\\ 1 & -1 &1 & -1 \\\\ 1 & -i & -1 & i }$$\n"
      ]
    },
    {
      "cell_type": "markdown",
      "metadata": {
        "id": "KtbdRkFtA7ma"
      },
      "source": [
        "The vector representation for the state $\\ket{10}$ is given by $\\myvector{0\\\\0\\\\1\\\\0}$. Let's multiply it with the above matrix to find its $QFT$."
      ]
    },
    {
      "cell_type": "markdown",
      "metadata": {
        "id": "w8Cr-KmaA7ma"
      },
      "source": [
        "$$ \\frac{1}{2} \\mymatrix{rrrr}{1 & 1 & 1 & 1 \\\\ 1 & i & -1 & -i \\\\ 1 & -1 &1 & -1 \\\\ 1 & -i & -1 & i } \\myvector{0\\\\0\\\\1\\\\0} = \\frac{1}{2} \\myvector{1 \\\\ -1 \\\\ 1 \\\\ -1}$$"
      ]
    },
    {
      "cell_type": "markdown",
      "metadata": {
        "id": "gbvpLMkrA7ma"
      },
      "source": [
        "Hence, we obtain the state $ \\frac{1}{2} \\bigl ( \\ket{00}- \\ket{01} + \\ket{10} - \\ket{11} \\bigr )$."
      ]
    },
    {
      "cell_type": "markdown",
      "metadata": {
        "id": "WvGsyKzpA7ma"
      },
      "source": [
        "<a name=\"task5\"></a>\n",
        "### Task 5 (on paper)\n",
        "\n",
        "What is the quantum state obtained after applying $QFT$ to the state $\\ket{11}$? Find using Task 4 and the linear shift property."
      ]
    },
    {
      "cell_type": "markdown",
      "metadata": {
        "id": "Ce_YoHwRA7ma"
      },
      "source": [
        "<h3>Solution </h3>"
      ]
    },
    {
      "cell_type": "markdown",
      "metadata": {
        "id": "1HAXy6BCA7ma"
      },
      "source": [
        "Note that the vector representation for the state $\\ket{11}$ is $\\myvector{0\\\\0\\\\0\\\\1}$. Since $QFT$ $ \\myvector{0 \\\\ 0 \\\\ 1 \\\\ 0} = \\frac{1}{2} \\myvector{1 \\\\ -1 \\\\ 1 \\\\ -1}$, using the linear shift property\n",
        "\n",
        "$$\n",
        "QFT \\myvector{0\\\\0\\\\0\\\\1} = \\frac{1}{2} \\myvector{1 \\\\ -\\omega \\\\ \\omega^2 \\\\ -\\omega^3} = \\frac{1}{2} \\myvector{1 \\\\ -i \\\\ -1 \\\\ i}.\n",
        "$$"
      ]
    },
    {
      "cell_type": "markdown",
      "metadata": {
        "id": "YUgR-6JFA7ma"
      },
      "source": [
        "<a name=\"task6\"></a>\n",
        "### Task 6\n",
        "\n",
        "Write a method named `myQFT` that takes a list of qubits and then returns the circuit implementing QFT on those qubits.\n",
        "\n",
        "Test your method with three and four qubits.\n",
        "\n",
        "Print your circuits and compare them with our solutions."
      ]
    },
    {
      "cell_type": "markdown",
      "metadata": {
        "id": "S5hVICjzA7ma"
      },
      "source": [
        "<h3>Solution </h3>"
      ]
    },
    {
      "cell_type": "code",
      "execution_count": 2,
      "metadata": {
        "id": "hIaEOk8zA7ma"
      },
      "outputs": [],
      "source": [
        "import cirq\n",
        "from cirq import H, SWAP\n",
        "from cirq.circuits import InsertStrategy\n",
        "from math import pi\n",
        "\n",
        "def myQFT(qubits):\n",
        "\n",
        "    circuit = cirq.Circuit() # create a circuit\n",
        "\n",
        "    n = len(qubits)\n",
        "    for i in range(n):\n",
        "        #Apply Hadamard\n",
        "        circuit.append(H(qubits[i]), strategy = InsertStrategy.NEW) # strategy is for the circuit to look neat\n",
        "\n",
        "        # apply Controlled-PhaseShift\n",
        "        phase_divisor = 4 # 4,8,16,...\n",
        "        for j in range(i+1,n):\n",
        "            circuit.append(cirq.CZPowGate(exponent = 2/phase_divisor).on(qubits[j],qubits[i]))\n",
        "            phase_divisor = 2 * phase_divisor\n",
        "\n",
        "    # swap the qubits\n",
        "    for j in range(n//2): # integer division\n",
        "        circuit.append(SWAP.on(qubits[j],qubits[n-j-1]), strategy = InsertStrategy.NEW)\n",
        "\n",
        "    return circuit"
      ]
    },
    {
      "cell_type": "code",
      "execution_count": 3,
      "metadata": {
        "id": "CcT-V201A7ma",
        "outputId": "db4e6ce5-cd66-4d70-b62d-424e62483382",
        "colab": {
          "base_uri": "https://localhost:8080/"
        }
      },
      "outputs": [
        {
          "output_type": "stream",
          "name": "stdout",
          "text": [
            "=========== Three qubits ===========\n",
            "\n",
            "0: ───H───@───────@────────────────────────×───\n",
            "          │       │                        │\n",
            "1: ───────@^0.5───┼────────H───@───────────┼───\n",
            "                  │            │           │\n",
            "2: ───────────────@^0.25───────@^0.5───H───×───\n",
            "\n",
            "\n",
            "\n",
            "=========== Four qubits ===========\n",
            "\n",
            "0: ───H───@───────@────────@──────────────────────────────────────────────×───────\n",
            "          │       │        │                                              │\n",
            "1: ───────@^0.5───┼────────┼─────────H───@───────@────────────────────────┼───×───\n",
            "                  │        │             │       │                        │   │\n",
            "2: ───────────────@^0.25───┼─────────────@^0.5───┼────────H───@───────────┼───×───\n",
            "                           │                     │            │           │\n",
            "3: ────────────────────────@^(1/8)───────────────@^0.25───────@^0.5───H───×───────\n",
            "\n"
          ]
        }
      ],
      "source": [
        "qubits = cirq.LineQubit.range(3) #create 3 qubits\n",
        "\n",
        "my_circuit = myQFT(qubits)\n",
        "\n",
        "print(\"=========== Three qubits ===========\")\n",
        "print()\n",
        "print(my_circuit)\n",
        "print()\n",
        "\n",
        "qubits = cirq.LineQubit.range(4) #create 4 qubits\n",
        "my_circuit = myQFT(qubits)\n",
        "\n",
        "print()\n",
        "print()\n",
        "print(\"=========== Four qubits ===========\")\n",
        "print()\n",
        "print(my_circuit)\n",
        "print()"
      ]
    },
    {
      "cell_type": "markdown",
      "metadata": {
        "id": "M6o51_q5A7ma"
      },
      "source": [
        "<a name=\"task7\"></a>\n",
        "### Task 7\n",
        "\n",
        "Write down the matrix of QFT for $ n =3 $ by using Python.\n",
        "\n",
        "Write down the matrix of circuit $ n =3 $ by using `myQFT`.\n",
        "\n",
        "Compare both results."
      ]
    },
    {
      "cell_type": "markdown",
      "metadata": {
        "id": "jo9KYiLYA7ma"
      },
      "source": [
        "<h3>Solution </h3>"
      ]
    },
    {
      "cell_type": "code",
      "execution_count": 4,
      "metadata": {
        "id": "dRIco_MYA7ma",
        "outputId": "d6feb2bc-15f5-4bae-d4b7-836f209bb7ae",
        "colab": {
          "base_uri": "https://localhost:8080/"
        }
      },
      "outputs": [
        {
          "output_type": "stream",
          "name": "stdout",
          "text": [
            "QFT matrix directly calculated by Python:\n",
            "0.35+i(0.0)  0.35+i(0.0)  0.35+i(0.0)  0.35+i(0.0)  0.35+i(0.0)  0.35+i(0.0)  0.35+i(0.0)  0.35+i(0.0)  \n",
            "0.35+i(0.0)  0.25+i(0.25)  0.0+i(0.35)  -0.25+i(0.25)  -0.35+i(0.0)  -0.25+i(-0.25)  -0.0+i(-0.35)  0.25+i(-0.25)  \n",
            "0.35+i(0.0)  0.0+i(0.35)  -0.35+i(0.0)  -0.0+i(-0.35)  0.35+i(-0.0)  0.0+i(0.35)  -0.35+i(0.0)  -0.0+i(-0.35)  \n",
            "0.35+i(0.0)  -0.25+i(0.25)  -0.0+i(-0.35)  0.25+i(0.25)  -0.35+i(0.0)  0.25+i(-0.25)  0.0+i(0.35)  -0.25+i(-0.25)  \n",
            "0.35+i(0.0)  -0.35+i(0.0)  0.35+i(-0.0)  -0.35+i(0.0)  0.35+i(-0.0)  -0.35+i(0.0)  0.35+i(-0.0)  -0.35+i(0.0)  \n",
            "0.35+i(0.0)  -0.25+i(-0.25)  0.0+i(0.35)  0.25+i(-0.25)  -0.35+i(0.0)  0.25+i(0.25)  -0.0+i(-0.35)  -0.25+i(0.25)  \n",
            "0.35+i(0.0)  -0.0+i(-0.35)  -0.35+i(0.0)  0.0+i(0.35)  0.35+i(-0.0)  -0.0+i(-0.35)  -0.35+i(0.0)  0.0+i(0.35)  \n",
            "0.35+i(0.0)  0.25+i(-0.25)  -0.0+i(-0.35)  -0.25+i(-0.25)  -0.35+i(0.0)  -0.25+i(0.25)  0.0+i(0.35)  0.25+i(0.25)  \n",
            "\n",
            "\n",
            "QFT matrix by myQFT:\n",
            "0.35+i(0.0)  0.35+i(0.0)  0.35+i(0.0)  0.35+i(0.0)  0.35+i(0.0)  0.35+i(0.0)  0.35+i(0.0)  0.35+i(0.0)  \n",
            "0.35+i(0.0)  0.25+i(0.25)  0.0+i(0.35)  -0.25+i(0.25)  -0.35+i(0.0)  -0.25+i(-0.25)  0.0+i(-0.35)  0.25+i(-0.25)  \n",
            "0.35+i(0.0)  0.0+i(0.35)  -0.35+i(0.0)  0.0+i(-0.35)  0.35+i(0.0)  0.0+i(0.35)  -0.35+i(0.0)  0.0+i(-0.35)  \n",
            "0.35+i(0.0)  -0.25+i(0.25)  0.0+i(-0.35)  0.25+i(0.25)  -0.35+i(0.0)  0.25+i(-0.25)  0.0+i(0.35)  -0.25+i(-0.25)  \n",
            "0.35+i(0.0)  -0.35+i(0.0)  0.35+i(0.0)  -0.35+i(0.0)  0.35+i(0.0)  -0.35+i(0.0)  0.35+i(0.0)  -0.35+i(0.0)  \n",
            "0.35+i(0.0)  -0.25+i(-0.25)  0.0+i(0.35)  0.25+i(-0.25)  -0.35+i(0.0)  0.25+i(0.25)  0.0+i(-0.35)  -0.25+i(0.25)  \n",
            "0.35+i(0.0)  0.0+i(-0.35)  -0.35+i(0.0)  0.0+i(0.35)  0.35+i(0.0)  0.0+i(-0.35)  -0.35+i(0.0)  0.0+i(0.35)  \n",
            "0.35+i(0.0)  0.25+i(-0.25)  0.0+i(-0.35)  -0.25+i(-0.25)  -0.35+i(0.0)  -0.25+i(0.25)  0.0+i(0.35)  0.25+i(0.25)  \n"
          ]
        }
      ],
      "source": [
        "from math import pi, sin, cos\n",
        "\n",
        "n = 3\n",
        "N = 2**n\n",
        "\n",
        "phi = 2 * pi / N\n",
        "\n",
        "coefficient = 1/(N**0.5)\n",
        "omega = complex(cos(phi),sin(phi))\n",
        "\n",
        "print(\"QFT matrix directly calculated by Python:\")\n",
        "for i in range(N):\n",
        "    row_str = \"\"\n",
        "    for j in range(N):\n",
        "        val = coefficient*omega**(i*j)\n",
        "        R = round(val.real,2)\n",
        "        I = round(val.imag,2)\n",
        "        row_str += str(R)+\"+i(\"+str(I)+\")  \"\n",
        "    print(row_str)\n",
        "\n",
        "print()\n",
        "print()\n",
        "\n",
        "print(\"QFT matrix by myQFT:\")\n",
        "qubits = cirq.LineQubit.range(n)\n",
        "QFT = myQFT(qubits)\n",
        "matrix = cirq.unitary(QFT)\n",
        "\n",
        "for row in matrix:\n",
        "    row_str = \"\"\n",
        "    for val in row:\n",
        "        R = round(val.real,2)\n",
        "        I = round(val.imag,2)\n",
        "        row_str += str(R)+\"+i(\"+str(I)+\")  \"\n",
        "    print(row_str)"
      ]
    },
    {
      "cell_type": "markdown",
      "metadata": {
        "id": "OlMzjNIPA7ma"
      },
      "source": [
        "<a name=\"task8\"></a>\n",
        "### Task 8\n",
        "\n",
        "Let $ n = 3 $.\n",
        "\n",
        "On all possible input states\n",
        "- Run your QFT circuit\n",
        "- Run the built-in QFT circuit of Cirq\n",
        "\n",
        "Write down final quantum states for each input, and compare them."
      ]
    },
    {
      "cell_type": "markdown",
      "metadata": {
        "id": "4P-DnP_NA7ma"
      },
      "source": [
        "<h3>Solution </h3>"
      ]
    },
    {
      "cell_type": "code",
      "execution_count": 5,
      "metadata": {
        "id": "fFwuOV9QA7mb"
      },
      "outputs": [],
      "source": [
        "import cirq\n",
        "from cirq import H, SWAP, X\n",
        "from cirq.circuits import InsertStrategy\n",
        "from math import pi\n",
        "\n",
        "def myQFT(qubits):\n",
        "\n",
        "    circuit = cirq.Circuit() # create a circuit\n",
        "\n",
        "    n = len(qubits)\n",
        "    for i in range(n):\n",
        "        #Apply Hadamard\n",
        "        circuit.append(H(qubits[i]), strategy = InsertStrategy.NEW) # strategy is for the circuit to look neat\n",
        "\n",
        "        # apply Controlled-PhaseShift\n",
        "        phase_divisor = 4 # 4,8,16,...\n",
        "        for j in range(i+1,n):\n",
        "            circuit.append(cirq.CZPowGate(exponent = 2/phase_divisor).on(qubits[j],qubits[i]))\n",
        "            phase_divisor = 2 * phase_divisor\n",
        "\n",
        "    # swap the qubits\n",
        "    for j in range(n//2): # integer division\n",
        "        circuit.append(SWAP.on(qubits[j],qubits[n-j-1]), strategy = InsertStrategy.NEW)\n",
        "\n",
        "    return circuit"
      ]
    },
    {
      "cell_type": "code",
      "execution_count": 6,
      "metadata": {
        "id": "C5SKDBIKA7mb",
        "outputId": "23f362b5-1121-4379-dd5c-3f519b994b90",
        "colab": {
          "base_uri": "https://localhost:8080/"
        }
      },
      "outputs": [
        {
          "output_type": "stream",
          "name": "stdout",
          "text": [
            "========= input is 000  ==========\n",
            "the final state by our circuit:\n",
            "0.35|000⟩ + 0.35|001⟩ + 0.35|010⟩ + 0.35|011⟩ + 0.35|100⟩ + 0.35|101⟩ + 0.35|110⟩ + 0.35|111⟩\n",
            "\n",
            "the final state by built-in circuit\n",
            "0.35|000⟩ + 0.35|001⟩ + 0.35|010⟩ + 0.35|011⟩ + 0.35|100⟩ + 0.35|101⟩ + 0.35|110⟩ + 0.35|111⟩\n",
            "\n",
            "\n",
            "========= input is 001  ==========\n",
            "the final state by our circuit:\n",
            "0.35|000⟩ + (0.25+0.25j)|001⟩ + 0.35j|010⟩ + (-0.25+0.25j)|011⟩ - 0.35|100⟩ + (-0.25-0.25j)|101⟩ - 0.35j|110⟩ + (0.25-0.25j)|111⟩\n",
            "\n",
            "the final state by built-in circuit\n",
            "0.35|000⟩ + (0.25+0.25j)|001⟩ + 0.35j|010⟩ + (-0.25+0.25j)|011⟩ - 0.35|100⟩ + (-0.25-0.25j)|101⟩ - 0.35j|110⟩ + (0.25-0.25j)|111⟩\n",
            "\n",
            "\n",
            "========= input is 010  ==========\n",
            "the final state by our circuit:\n",
            "0.35|000⟩ + 0.35j|001⟩ - 0.35|010⟩ - 0.35j|011⟩ + 0.35|100⟩ + 0.35j|101⟩ - 0.35|110⟩ - 0.35j|111⟩\n",
            "\n",
            "the final state by built-in circuit\n",
            "0.35|000⟩ + 0.35j|001⟩ - 0.35|010⟩ - 0.35j|011⟩ + 0.35|100⟩ + 0.35j|101⟩ - 0.35|110⟩ - 0.35j|111⟩\n",
            "\n",
            "\n",
            "========= input is 011  ==========\n",
            "the final state by our circuit:\n",
            "0.35|000⟩ + (-0.25+0.25j)|001⟩ - 0.35j|010⟩ + (0.25+0.25j)|011⟩ - 0.35|100⟩ + (0.25-0.25j)|101⟩ + 0.35j|110⟩ + (-0.25-0.25j)|111⟩\n",
            "\n",
            "the final state by built-in circuit\n",
            "0.35|000⟩ + (-0.25+0.25j)|001⟩ - 0.35j|010⟩ + (0.25+0.25j)|011⟩ - 0.35|100⟩ + (0.25-0.25j)|101⟩ + 0.35j|110⟩ + (-0.25-0.25j)|111⟩\n",
            "\n",
            "\n",
            "========= input is 100  ==========\n",
            "the final state by our circuit:\n",
            "0.35|000⟩ - 0.35|001⟩ + 0.35|010⟩ - 0.35|011⟩ + 0.35|100⟩ - 0.35|101⟩ + 0.35|110⟩ - 0.35|111⟩\n",
            "\n",
            "the final state by built-in circuit\n",
            "0.35|000⟩ - 0.35|001⟩ + 0.35|010⟩ - 0.35|011⟩ + 0.35|100⟩ - 0.35|101⟩ + 0.35|110⟩ - 0.35|111⟩\n",
            "\n",
            "\n",
            "========= input is 101  ==========\n",
            "the final state by our circuit:\n",
            "0.35|000⟩ + (-0.25-0.25j)|001⟩ + 0.35j|010⟩ + (0.25-0.25j)|011⟩ - 0.35|100⟩ + (0.25+0.25j)|101⟩ - 0.35j|110⟩ + (-0.25+0.25j)|111⟩\n",
            "\n",
            "the final state by built-in circuit\n",
            "0.35|000⟩ + (-0.25-0.25j)|001⟩ + 0.35j|010⟩ + (0.25-0.25j)|011⟩ - 0.35|100⟩ + (0.25+0.25j)|101⟩ - 0.35j|110⟩ + (-0.25+0.25j)|111⟩\n",
            "\n",
            "\n",
            "========= input is 110  ==========\n",
            "the final state by our circuit:\n",
            "0.35|000⟩ - 0.35j|001⟩ - 0.35|010⟩ + 0.35j|011⟩ + 0.35|100⟩ - 0.35j|101⟩ - 0.35|110⟩ + 0.35j|111⟩\n",
            "\n",
            "the final state by built-in circuit\n",
            "0.35|000⟩ - 0.35j|001⟩ - 0.35|010⟩ + 0.35j|011⟩ + 0.35|100⟩ - 0.35j|101⟩ - 0.35|110⟩ + 0.35j|111⟩\n",
            "\n",
            "\n",
            "========= input is 111  ==========\n",
            "the final state by our circuit:\n",
            "0.35|000⟩ + (0.25-0.25j)|001⟩ - 0.35j|010⟩ + (-0.25-0.25j)|011⟩ - 0.35|100⟩ + (-0.25+0.25j)|101⟩ + 0.35j|110⟩ + (0.25+0.25j)|111⟩\n",
            "\n",
            "the final state by built-in circuit\n",
            "0.35|000⟩ + (0.25-0.25j)|001⟩ - 0.35j|010⟩ + (-0.25-0.25j)|011⟩ - 0.35|100⟩ + (-0.25+0.25j)|101⟩ + 0.35j|110⟩ + (0.25+0.25j)|111⟩\n",
            "\n",
            "\n"
          ]
        }
      ],
      "source": [
        "n = 3\n",
        "\n",
        "inputs = ['000','001','010','011','100','101','110','111']\n",
        "\n",
        "for input in inputs:\n",
        "    print(\"========= input is\",input,\" ==========\")\n",
        "\n",
        "    qubits = cirq.LineQubit.range(n) #create n=3 qubits\n",
        "\n",
        "    circuit = cirq.Circuit()\n",
        "\n",
        "    if input[0] == '1': circuit.append(X.on(qubits[0]))\n",
        "    if input[1] == '1': circuit.append(X.on(qubits[1]))\n",
        "    if input[2] == '1': circuit.append(X.on(qubits[2]))\n",
        "\n",
        "    my_circuit = circuit + myQFT(qubits)\n",
        "    builtin_circuit = circuit + cirq.qft(*qubits,without_reverse=False)\n",
        "\n",
        "    # simulate the circuits\n",
        "    results = cirq.Simulator().simulate(my_circuit)\n",
        "    my_circuit_state = results.dirac_notation()\n",
        "    results = cirq.Simulator().simulate(builtin_circuit)\n",
        "    builtin_circuit_state = results.dirac_notation()\n",
        "\n",
        "    # Print the final statevectors\n",
        "    print(\"the final state by our circuit:\")\n",
        "    print(my_circuit_state)\n",
        "    print()\n",
        "    print(\"the final state by built-in circuit\")\n",
        "    print(builtin_circuit_state)\n",
        "    print()\n",
        "    print()"
      ]
    },
    {
      "cell_type": "markdown",
      "metadata": {
        "id": "leUvkPgoA7mb"
      },
      "source": [
        "<a name=\"task9\"></a>\n",
        "### Task 9\n",
        "\n",
        "Write an explicit method named `myInvQFT` for desgining the circuit of inverse QFT on the given list of qubits.\n",
        "\n",
        "Test it for $ n=4 $ by comparing your circuit matrix with the circuit matrix generated with built-in inverse QFT."
      ]
    },
    {
      "cell_type": "markdown",
      "metadata": {
        "id": "hzFsadlQA7mb"
      },
      "source": [
        "<h3>Solution </h3>"
      ]
    },
    {
      "cell_type": "code",
      "execution_count": 7,
      "metadata": {
        "id": "XvHYot8bA7mb"
      },
      "outputs": [],
      "source": [
        "import cirq\n",
        "from cirq import H, SWAP\n",
        "from cirq.circuits import InsertStrategy\n",
        "from math import pi\n",
        "\n",
        "def myInvQFT(qubits):\n",
        "\n",
        "    circuit = cirq.Circuit() # create a circuit\n",
        "\n",
        "    n = len(qubits)\n",
        "\n",
        "    # swap the qubits\n",
        "    for j in range(n//2): # integer division\n",
        "        circuit.append(SWAP.on(qubits[j],qubits[n-j-1]), strategy = InsertStrategy.NEW)\n",
        "\n",
        "\n",
        "    # inverted phase gates are applied in reverse order and before the hadamard gate\n",
        "\n",
        "    for i in range(n-1,-1,-1):\n",
        "\n",
        "        phase_divisor = 2**(n-i)\n",
        "        for j in range(n-1,i,-1):\n",
        "            circuit.append(cirq.CZPowGate(exponent = -2/phase_divisor).on(qubits[j],qubits[i]),\n",
        "                           strategy = InsertStrategy.NEW)\n",
        "            phase_divisor = phase_divisor / 2\n",
        "\n",
        "        circuit.append(H(qubits[i]), strategy = InsertStrategy.NEW) # strategy is for the circuit to look neat\n",
        "\n",
        "    return circuit"
      ]
    },
    {
      "cell_type": "code",
      "execution_count": 8,
      "metadata": {
        "id": "QYNQn3heA7mb",
        "outputId": "25e7a108-5cf7-43c7-d607-414e04355f44",
        "colab": {
          "base_uri": "https://localhost:8080/"
        }
      },
      "outputs": [
        {
          "output_type": "stream",
          "name": "stdout",
          "text": [
            "n = 4 \n",
            "\n",
            "my circuit for IQFT:\n",
            "0: ───×───────────────────────────────────────────────@──────────@─────────@────────H───\n",
            "      │                                               │          │         │\n",
            "1: ───┼───×────────────────────@─────────@────────H───┼──────────┼─────────@^-0.5───────\n",
            "      │   │                    │         │            │          │\n",
            "2: ───┼───×───────@────────H───┼─────────@^-0.5───────┼──────────@^-0.25────────────────\n",
            "      │           │            │                      │\n",
            "3: ───×───────H───@^-0.5───────@^-0.25────────────────@^(-1/8)──────────────────────────\n",
            "\n",
            "\n",
            "Are the two matrices of the inverse of QFT equal?\n",
            "True\n"
          ]
        }
      ],
      "source": [
        "import numpy as np\n",
        "\n",
        "qubits = cirq.LineQubit.range(4) #create 4 qubits\n",
        "\n",
        "myInvQFT_circuit = myInvQFT(qubits)\n",
        "\n",
        "InvQFT_circuit = cirq.Circuit(cirq.qft(*qubits, without_reverse=False, inverse=True))\n",
        "\n",
        "print(\"n = 4 \")\n",
        "print()\n",
        "print(\"my circuit for IQFT:\")\n",
        "print(myInvQFT_circuit)\n",
        "print()\n",
        "\n",
        "\n",
        "# Check equality of the 'manual' and 'built-in' QFTs.\n",
        "myInvQFT_matrix = cirq.unitary(myInvQFT_circuit)\n",
        "InvQFT_matrix = cirq.unitary(InvQFT_circuit)\n",
        "print()\n",
        "print(\"Are the two matrices of the inverse of QFT equal?\")\n",
        "print(np.allclose(myInvQFT_matrix, InvQFT_matrix))  # element-wise equal within a tolerance"
      ]
    }
  ],
  "metadata": {
    "kernelspec": {
      "display_name": "Python 3 (ipykernel)",
      "language": "python",
      "name": "python3"
    },
    "language_info": {
      "codemirror_mode": {
        "name": "ipython",
        "version": 3
      },
      "file_extension": ".py",
      "mimetype": "text/x-python",
      "name": "python",
      "nbconvert_exporter": "python",
      "pygments_lexer": "ipython3",
      "version": "3.11.4"
    },
    "colab": {
      "provenance": [],
      "collapsed_sections": [
        "cQYY25AhA7mY"
      ],
      "include_colab_link": true
    }
  },
  "nbformat": 4,
  "nbformat_minor": 0
}