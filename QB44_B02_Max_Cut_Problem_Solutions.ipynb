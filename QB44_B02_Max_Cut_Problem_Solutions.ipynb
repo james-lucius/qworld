{
  "cells": [
    {
      "cell_type": "markdown",
      "metadata": {
        "id": "view-in-github",
        "colab_type": "text"
      },
      "source": [
        "<a href=\"https://colab.research.google.com/github/james-lucius/qworld/blob/main/QB44_B02_Max_Cut_Problem_Solutions.ipynb\" target=\"_parent\"><img src=\"https://colab.research.google.com/assets/colab-badge.svg\" alt=\"Open In Colab\"/></a>"
      ]
    },
    {
      "cell_type": "markdown",
      "metadata": {
        "id": "5bNMIKQit4jA"
      },
      "source": [
        "<a href=\"https://qworld.net\" target=\"_blank\" align=\"left\"><img src=\"https://gitlab.com/qworld/qeducation/qbook101/raw/main/qworld/images/header.jpg\" align=\"left\"></a>\n",
        "$ \\newcommand{\\bra}[1]{\\langle #1|} $\n",
        "$ \\newcommand{\\ket}[1]{|#1\\rangle} $\n",
        "$ \\newcommand{\\braket}[2]{\\langle #1|#2\\rangle} $\n",
        "$ \\newcommand{\\dot}[2]{ #1 \\cdot #2} $\n",
        "$ \\newcommand{\\biginner}[2]{\\left\\langle #1,#2\\right\\rangle} $\n",
        "$ \\newcommand{\\mymatrix}[2]{\\left( \\begin{array}{#1} #2\\end{array} \\right)} $\n",
        "$ \\newcommand{\\myvector}[1]{\\mymatrix{c}{#1}} $\n",
        "$ \\newcommand{\\myrvector}[1]{\\mymatrix{r}{#1}} $\n",
        "$ \\newcommand{\\mypar}[1]{\\left( #1 \\right)} $\n",
        "$ \\newcommand{\\mybigpar}[1]{ \\Big( #1 \\Big)} $\n",
        "$ \\newcommand{\\sqrttwo}{\\frac{1}{\\sqrt{2}}} $\n",
        "$ \\newcommand{\\dsqrttwo}{\\dfrac{1}{\\sqrt{2}}} $\n",
        "$ \\newcommand{\\onehalf}{\\frac{1}{2}} $\n",
        "$ \\newcommand{\\donehalf}{\\dfrac{1}{2}} $\n",
        "$ \\newcommand{\\hadamard}{ \\mymatrix{rr}{ \\sqrttwo & \\sqrttwo \\\\ \\sqrttwo & -\\sqrttwo }} $\n",
        "$ \\newcommand{\\vzero}{\\myvector{1\\\\0}} $\n",
        "$ \\newcommand{\\vone}{\\myvector{0\\\\1}} $\n",
        "$ \\newcommand{\\stateplus}{\\myvector{ \\sqrttwo \\\\  \\sqrttwo } } $\n",
        "$ \\newcommand{\\stateminus}{ \\myrvector{ \\sqrttwo \\\\ -\\sqrttwo } } $\n",
        "$ \\newcommand{\\myarray}[2]{ \\begin{array}{#1}#2\\end{array}} $\n",
        "$ \\newcommand{\\X}{ \\mymatrix{cc}{0 & 1 \\\\ 1 & 0}  } $\n",
        "$ \\newcommand{\\I}{ \\mymatrix{rr}{1 & 0 \\\\ 0 & 1}  } $\n",
        "$ \\newcommand{\\Z}{ \\mymatrix{rr}{1 & 0 \\\\ 0 & -1}  } $\n",
        "$ \\newcommand{\\Htwo}{ \\mymatrix{rrrr}{ \\frac{1}{2} & \\frac{1}{2} & \\frac{1}{2} & \\frac{1}{2} \\\\ \\frac{1}{2} & -\\frac{1}{2} & \\frac{1}{2} & -\\frac{1}{2} \\\\ \\frac{1}{2} & \\frac{1}{2} & -\\frac{1}{2} & -\\frac{1}{2} \\\\ \\frac{1}{2} & -\\frac{1}{2} & -\\frac{1}{2} & \\frac{1}{2} } } $\n",
        "$ \\newcommand{\\CNOT}{ \\mymatrix{cccc}{1 & 0 & 0 & 0 \\\\ 0 & 1 & 0 & 0 \\\\ 0 & 0 & 0 & 1 \\\\ 0 & 0 & 1 & 0} } $\n",
        "$ \\newcommand{\\norm}[1]{ \\left\\lVert #1 \\right\\rVert } $\n",
        "$ \\newcommand{\\pstate}[1]{ \\lceil \\mspace{-1mu} #1 \\mspace{-1.5mu} \\rfloor } $\n",
        "$ \\newcommand{\\greenbit}[1] {\\mathbf{{\\color{green}#1}}} $\n",
        "$ \\newcommand{\\bluebit}[1] {\\mathbf{{\\color{blue}#1}}} $\n",
        "$ \\newcommand{\\redbit}[1] {\\mathbf{{\\color{red}#1}}} $\n",
        "$ \\newcommand{\\brownbit}[1] {\\mathbf{{\\color{brown}#1}}} $\n",
        "$ \\newcommand{\\blackbit}[1] {\\mathbf{{\\color{black}#1}}} $"
      ]
    },
    {
      "cell_type": "markdown",
      "metadata": {
        "id": "tnfy8K6gt4jB"
      },
      "source": [
        "_prepared by Adam Glos_"
      ]
    },
    {
      "cell_type": "markdown",
      "metadata": {
        "id": "_RXciO_ht4jB"
      },
      "source": [
        "<font size=\"28px\" style=\"font-size:28px;\" align=\"left\"><b><font color=\"blue\"> Solutions for </font>Max-Cut Problem</b></font>\n",
        "<br>\n",
        "<br><br>"
      ]
    },
    {
      "cell_type": "markdown",
      "metadata": {
        "jp-MarkdownHeadingCollapsed": true,
        "id": "jsqSCSy0t4jC"
      },
      "source": [
        "##### <font color=\"#08b806\">Please execute the following cell, it is necessary to distinguish between your local environment and Google Colab's"
      ]
    },
    {
      "cell_type": "code",
      "execution_count": 2,
      "metadata": {
        "id": "VXjmI0Cft4jC",
        "outputId": "3a12acd6-6a56-474e-87c6-6ae1ddee2443",
        "colab": {
          "base_uri": "https://localhost:8080/"
        }
      },
      "outputs": [
        {
          "output_type": "stream",
          "name": "stdout",
          "text": [
            "Requirement already satisfied: cirq in /usr/local/lib/python3.11/dist-packages (1.5.0)\n",
            "Requirement already satisfied: cirq-aqt==1.5.0 in /usr/local/lib/python3.11/dist-packages (from cirq) (1.5.0)\n",
            "Requirement already satisfied: cirq-core==1.5.0 in /usr/local/lib/python3.11/dist-packages (from cirq) (1.5.0)\n",
            "Requirement already satisfied: cirq-google==1.5.0 in /usr/local/lib/python3.11/dist-packages (from cirq) (1.5.0)\n",
            "Requirement already satisfied: cirq-ionq==1.5.0 in /usr/local/lib/python3.11/dist-packages (from cirq) (1.5.0)\n",
            "Requirement already satisfied: cirq-pasqal==1.5.0 in /usr/local/lib/python3.11/dist-packages (from cirq) (1.5.0)\n",
            "Requirement already satisfied: cirq-web==1.5.0 in /usr/local/lib/python3.11/dist-packages (from cirq) (1.5.0)\n",
            "Requirement already satisfied: requests~=2.32 in /usr/local/lib/python3.11/dist-packages (from cirq-aqt==1.5.0->cirq) (2.32.3)\n",
            "Requirement already satisfied: attrs>=21.3.0 in /usr/local/lib/python3.11/dist-packages (from cirq-core==1.5.0->cirq) (25.3.0)\n",
            "Requirement already satisfied: duet>=0.2.8 in /usr/local/lib/python3.11/dist-packages (from cirq-core==1.5.0->cirq) (0.2.9)\n",
            "Requirement already satisfied: matplotlib~=3.7 in /usr/local/lib/python3.11/dist-packages (from cirq-core==1.5.0->cirq) (3.10.0)\n",
            "Requirement already satisfied: networkx~=3.1 in /usr/local/lib/python3.11/dist-packages (from cirq-core==1.5.0->cirq) (3.5)\n",
            "Requirement already satisfied: numpy>=1.25 in /usr/local/lib/python3.11/dist-packages (from cirq-core==1.5.0->cirq) (2.0.2)\n",
            "Requirement already satisfied: pandas~=2.0 in /usr/local/lib/python3.11/dist-packages (from cirq-core==1.5.0->cirq) (2.2.2)\n",
            "Requirement already satisfied: sortedcontainers~=2.0 in /usr/local/lib/python3.11/dist-packages (from cirq-core==1.5.0->cirq) (2.4.0)\n",
            "Requirement already satisfied: scipy~=1.11 in /usr/local/lib/python3.11/dist-packages (from cirq-core==1.5.0->cirq) (1.15.3)\n",
            "Requirement already satisfied: sympy in /usr/local/lib/python3.11/dist-packages (from cirq-core==1.5.0->cirq) (1.13.1)\n",
            "Requirement already satisfied: typing_extensions>=4.2 in /usr/local/lib/python3.11/dist-packages (from cirq-core==1.5.0->cirq) (4.14.1)\n",
            "Requirement already satisfied: tqdm>=4.12 in /usr/local/lib/python3.11/dist-packages (from cirq-core==1.5.0->cirq) (4.67.1)\n",
            "Requirement already satisfied: google-api-core>=1.14.0 in /usr/local/lib/python3.11/dist-packages (from google-api-core[grpc]>=1.14.0->cirq-google==1.5.0->cirq) (2.25.1)\n",
            "Requirement already satisfied: proto-plus>=1.20.0 in /usr/local/lib/python3.11/dist-packages (from cirq-google==1.5.0->cirq) (1.26.1)\n",
            "Requirement already satisfied: protobuf<6.0,>=4.25 in /usr/local/lib/python3.11/dist-packages (from cirq-google==1.5.0->cirq) (5.29.5)\n",
            "Requirement already satisfied: typedunits in /usr/local/lib/python3.11/dist-packages (from cirq-google==1.5.0->cirq) (0.0.1.dev20250509200845)\n",
            "Requirement already satisfied: googleapis-common-protos<2.0.0,>=1.56.2 in /usr/local/lib/python3.11/dist-packages (from google-api-core>=1.14.0->google-api-core[grpc]>=1.14.0->cirq-google==1.5.0->cirq) (1.70.0)\n",
            "Requirement already satisfied: google-auth<3.0.0,>=2.14.1 in /usr/local/lib/python3.11/dist-packages (from google-api-core>=1.14.0->google-api-core[grpc]>=1.14.0->cirq-google==1.5.0->cirq) (2.38.0)\n",
            "Requirement already satisfied: grpcio<2.0.0,>=1.33.2 in /usr/local/lib/python3.11/dist-packages (from google-api-core[grpc]>=1.14.0->cirq-google==1.5.0->cirq) (1.73.1)\n",
            "Requirement already satisfied: grpcio-status<2.0.0,>=1.33.2 in /usr/local/lib/python3.11/dist-packages (from google-api-core[grpc]>=1.14.0->cirq-google==1.5.0->cirq) (1.71.2)\n",
            "Requirement already satisfied: contourpy>=1.0.1 in /usr/local/lib/python3.11/dist-packages (from matplotlib~=3.7->cirq-core==1.5.0->cirq) (1.3.2)\n",
            "Requirement already satisfied: cycler>=0.10 in /usr/local/lib/python3.11/dist-packages (from matplotlib~=3.7->cirq-core==1.5.0->cirq) (0.12.1)\n",
            "Requirement already satisfied: fonttools>=4.22.0 in /usr/local/lib/python3.11/dist-packages (from matplotlib~=3.7->cirq-core==1.5.0->cirq) (4.58.5)\n",
            "Requirement already satisfied: kiwisolver>=1.3.1 in /usr/local/lib/python3.11/dist-packages (from matplotlib~=3.7->cirq-core==1.5.0->cirq) (1.4.8)\n",
            "Requirement already satisfied: packaging>=20.0 in /usr/local/lib/python3.11/dist-packages (from matplotlib~=3.7->cirq-core==1.5.0->cirq) (24.2)\n",
            "Requirement already satisfied: pillow>=8 in /usr/local/lib/python3.11/dist-packages (from matplotlib~=3.7->cirq-core==1.5.0->cirq) (11.2.1)\n",
            "Requirement already satisfied: pyparsing>=2.3.1 in /usr/local/lib/python3.11/dist-packages (from matplotlib~=3.7->cirq-core==1.5.0->cirq) (3.2.3)\n",
            "Requirement already satisfied: python-dateutil>=2.7 in /usr/local/lib/python3.11/dist-packages (from matplotlib~=3.7->cirq-core==1.5.0->cirq) (2.9.0.post0)\n",
            "Requirement already satisfied: pytz>=2020.1 in /usr/local/lib/python3.11/dist-packages (from pandas~=2.0->cirq-core==1.5.0->cirq) (2025.2)\n",
            "Requirement already satisfied: tzdata>=2022.7 in /usr/local/lib/python3.11/dist-packages (from pandas~=2.0->cirq-core==1.5.0->cirq) (2025.2)\n",
            "Requirement already satisfied: charset-normalizer<4,>=2 in /usr/local/lib/python3.11/dist-packages (from requests~=2.32->cirq-aqt==1.5.0->cirq) (3.4.2)\n",
            "Requirement already satisfied: idna<4,>=2.5 in /usr/local/lib/python3.11/dist-packages (from requests~=2.32->cirq-aqt==1.5.0->cirq) (3.10)\n",
            "Requirement already satisfied: urllib3<3,>=1.21.1 in /usr/local/lib/python3.11/dist-packages (from requests~=2.32->cirq-aqt==1.5.0->cirq) (2.4.0)\n",
            "Requirement already satisfied: certifi>=2017.4.17 in /usr/local/lib/python3.11/dist-packages (from requests~=2.32->cirq-aqt==1.5.0->cirq) (2025.6.15)\n",
            "Requirement already satisfied: mpmath<1.4,>=1.1.0 in /usr/local/lib/python3.11/dist-packages (from sympy->cirq-core==1.5.0->cirq) (1.3.0)\n",
            "Requirement already satisfied: cython>=3.0.0 in /usr/local/lib/python3.11/dist-packages (from typedunits->cirq-google==1.5.0->cirq) (3.0.12)\n",
            "Requirement already satisfied: cachetools<6.0,>=2.0.0 in /usr/local/lib/python3.11/dist-packages (from google-auth<3.0.0,>=2.14.1->google-api-core>=1.14.0->google-api-core[grpc]>=1.14.0->cirq-google==1.5.0->cirq) (5.5.2)\n",
            "Requirement already satisfied: pyasn1-modules>=0.2.1 in /usr/local/lib/python3.11/dist-packages (from google-auth<3.0.0,>=2.14.1->google-api-core>=1.14.0->google-api-core[grpc]>=1.14.0->cirq-google==1.5.0->cirq) (0.4.2)\n",
            "Requirement already satisfied: rsa<5,>=3.1.4 in /usr/local/lib/python3.11/dist-packages (from google-auth<3.0.0,>=2.14.1->google-api-core>=1.14.0->google-api-core[grpc]>=1.14.0->cirq-google==1.5.0->cirq) (4.9.1)\n",
            "Requirement already satisfied: six>=1.5 in /usr/local/lib/python3.11/dist-packages (from python-dateutil>=2.7->matplotlib~=3.7->cirq-core==1.5.0->cirq) (1.17.0)\n",
            "Requirement already satisfied: pyasn1<0.7.0,>=0.6.1 in /usr/local/lib/python3.11/dist-packages (from pyasn1-modules>=0.2.1->google-auth<3.0.0,>=2.14.1->google-api-core>=1.14.0->google-api-core[grpc]>=1.14.0->cirq-google==1.5.0->cirq) (0.6.1)\n"
          ]
        }
      ],
      "source": [
        "import IPython\n",
        "\n",
        "def in_colab():\n",
        "    try:\n",
        "        import google.colab\n",
        "        return True\n",
        "    except:\n",
        "        return False\n",
        "\n",
        "if in_colab():\n",
        "    !pip install cirq"
      ]
    },
    {
      "cell_type": "markdown",
      "metadata": {
        "id": "slnGeXzEt4jC"
      },
      "source": [
        "<a name=\"task1\"></a>\n",
        "### Task 1\n",
        "    \n",
        "Let's implement the idea given above. We have a graph with 4 vertices, and so we have a circuit with 4 qubits.\n",
        "\n",
        "Represent the following coloring of the given graph in the quantum circuit.\n",
        "\n",
        "<img src=\"https://gitlab.com/qworld/qeducation/qbook101/raw/main/qbook101/images/ch4/graphcolor1.png\" width=\"25%\" align=\"center\">"
      ]
    },
    {
      "cell_type": "markdown",
      "metadata": {
        "id": "-KkSE6mYt4jC"
      },
      "source": [
        "<h3> Solution </h3>"
      ]
    },
    {
      "cell_type": "code",
      "execution_count": 3,
      "metadata": {
        "id": "ukBnGLU-t4jC",
        "outputId": "455e6218-6d79-4f69-cc42-62313a021c0c",
        "colab": {
          "base_uri": "https://localhost:8080/"
        }
      },
      "outputs": [
        {
          "output_type": "stream",
          "name": "stdout",
          "text": [
            "0: ───────M('result')───\n",
            "          │\n",
            "1: ───X───M─────────────\n",
            "          │\n",
            "2: ───X───M─────────────\n",
            "          │\n",
            "3: ───────M─────────────\n",
            "Qubit 0 is red\n",
            "Qubit 1 is blue\n",
            "Qubit 2 is blue\n",
            "Qubit 3 is red\n"
          ]
        }
      ],
      "source": [
        "import cirq\n",
        "from cirq import X, I\n",
        "\n",
        "qq = cirq.LineQubit.range(4)\n",
        "circuit = cirq.Circuit()\n",
        "\n",
        "circuit.append(X(qq[1]))\n",
        "circuit.append(X(qq[2]))\n",
        "\n",
        "circuit.append(cirq.measure(*qq, key='result'))\n",
        "print(circuit)\n",
        "\n",
        "s = cirq.Simulator()\n",
        "samples = s.run(circuit, repetitions=1)\n",
        "result = samples.measurements[\"result\"]\n",
        "\n",
        "# decode the solution\n",
        "for qubit in range(4):\n",
        "    if result[0][qubit] == 0:\n",
        "        print(\"Qubit\",qubit, \"is red\")\n",
        "    else:\n",
        "        print(\"Qubit\",qubit, \"is blue\")"
      ]
    },
    {
      "cell_type": "markdown",
      "metadata": {
        "id": "kRDoGRkGt4jC"
      },
      "source": [
        "<a name=\"task2\"></a>\n",
        "### Task 2\n",
        "\n",
        "For the given graph below, implement the first two steps of the oracle described above.\n",
        "\n",
        "The first four qubits are used for vertices.\n",
        "\n",
        "The next three qubits are used for edges.\n",
        "\n",
        "The last qubit is used for the output.\n",
        "\n",
        "Remark that the last qubit should be in state $ \\ket{1} $ (resp., $\\ket{0}$) if the coloring of the vertices is correct (resp., incorrect).\n",
        "\n",
        "Test your implementation with different colorings.\n",
        "\n",
        "<img src=\"https://gitlab.com/qworld/qeducation/qbook101/raw/main/qbook101/images/ch4/bipartite.png\" width=\"25%\" align=\"center\">"
      ]
    },
    {
      "cell_type": "markdown",
      "metadata": {
        "id": "vcBfBpNtt4jC"
      },
      "source": [
        "<h3> Solution </h3>"
      ]
    },
    {
      "cell_type": "code",
      "execution_count": 4,
      "metadata": {
        "id": "MFCMx2WKt4jD",
        "outputId": "d5ad41a4-2dce-4805-b620-5d0aa07dd406",
        "colab": {
          "base_uri": "https://localhost:8080/"
        }
      },
      "outputs": [
        {
          "output_type": "stream",
          "name": "stdout",
          "text": [
            "Measurement output:  1\n",
            "correct coloring (graph is bipartite)\n",
            "          ┌──┐   ┌──┐\n",
            "0: ───X────@───────@────────────────M('result')───\n",
            "           │       │                │\n",
            "1: ───X────┼@──────┼────────────────M─────────────\n",
            "           ││      │                │\n",
            "2: ────────┼┼─────@┼────────────────M─────────────\n",
            "           ││     ││                │\n",
            "3: ────────┼┼─────┼┼────@───@───────M─────────────\n",
            "           ││     ││    │   │       │\n",
            "4: ────────X┼─────X┼────┼───┼───@───M─────────────\n",
            "            │      │    │   │   │   │\n",
            "5: ─────────┼──────X────X───┼───@───M─────────────\n",
            "            │               │   │   │\n",
            "6: ─────────X───────────────X───@───M─────────────\n",
            "                                │   │\n",
            "7: ─────────────────────────────X───M─────────────\n",
            "          └──┘   └──┘\n"
          ]
        }
      ],
      "source": [
        "import cirq\n",
        "from cirq import X, CX\n",
        "s = cirq.Simulator()\n",
        "\n",
        "qq = cirq.LineQubit.range(8)\n",
        "circuit = cirq.Circuit()\n",
        "# correct coloring\n",
        "circuit.append(X(qq[0]))\n",
        "circuit.append(X(qq[1]))\n",
        "\n",
        "# incorrect coloring\n",
        "# circuit.append(X(qq[0]))\n",
        "\n",
        "# check 0-2 edge and store at 4th qubit\n",
        "circuit.append(CX(qq[0], qq[4]))\n",
        "circuit.append(CX(qq[2], qq[4]))\n",
        "# check 0-3 edge and store at 5th qubit\n",
        "circuit.append(CX(qq[0], qq[5]))\n",
        "circuit.append(CX(qq[3], qq[5]))\n",
        "# check 1-3 edge and store at 6th qubit\n",
        "circuit.append(CX(qq[1], qq[6]))\n",
        "circuit.append(CX(qq[3], qq[6]))\n",
        "\n",
        "# check all edge qubits\n",
        "circuit.append(X(qq[7]).controlled_by(*(qq[4:7])))\n",
        "\n",
        "circuit.append(cirq.measure(*qq, key='result'))\n",
        "samples = s.run(circuit, repetitions=1)\n",
        "result = samples.measurements[\"result\"]\n",
        "# 0 - first (and only measurement)\n",
        "# 7 - last qubit\n",
        "output = result[0][7]\n",
        "print(\"Measurement output: \", output)\n",
        "if output == 1:\n",
        "    print(\"correct coloring (graph is bipartite)\")\n",
        "else:\n",
        "    print(\"incorrect coloring\")\n",
        "print(circuit)"
      ]
    },
    {
      "cell_type": "markdown",
      "metadata": {
        "id": "CQxzRn9Xt4jD"
      },
      "source": [
        "<a name=\"task3\"></a>\n",
        "### Task 3\n",
        "\n",
        "For the given graphs below, iterate Grover’s search algorithm 2 steps to find the correct colorings. (There are indeed $k=2$ possible colorings, and so the oracle should be applied $\\frac{\\pi}{4}\\sqrt{\\frac{2^4}{k}}\\approx 2$ times.)\n",
        "\n",
        "You will use nine qubits: 4 for vertices, 4 for edges, and 1 for the output qubit.\n",
        "\n",
        "The diffusion operator is provided below.\n",
        "\n",
        "Observe which outcomes have the higher frequencies.\n",
        "\n",
        "\n",
        "<img src=\"https://gitlab.com/qworld/qeducation/qbook101/raw/main/qbook101/images/ch4/completebipartite.png\" width=\"25%\" align=\"center\">"
      ]
    },
    {
      "cell_type": "markdown",
      "metadata": {
        "id": "qfDg95TEt4jD"
      },
      "source": [
        "<h3> Solution </h3>"
      ]
    },
    {
      "cell_type": "code",
      "execution_count": 5,
      "metadata": {
        "id": "wUDMkjBCt4jD",
        "outputId": "271cae38-fb68-4cf7-ca18-7ab3c66a77a1",
        "colab": {
          "base_uri": "https://localhost:8080/"
        }
      },
      "outputs": [
        {
          "output_type": "stream",
          "name": "stdout",
          "text": [
            "Counter({'0011': 485, '1100': 467, '0101': 7, '1000': 6, '1001': 5, '1101': 4, '0010': 4, '1110': 4, '0001': 4, '1010': 3, '0111': 2, '1111': 2, '0110': 2, '0100': 2, '0000': 2, '1011': 1})\n"
          ]
        }
      ],
      "source": [
        "import cirq\n",
        "from cirq import X, H, Z, inverse, CX\n",
        "s = cirq.Simulator()\n",
        "\n",
        "qq = cirq.LineQubit.range(9)\n",
        "\n",
        "def edge_check(a, b, c):\n",
        "    yield CX(qq[a], qq[c])\n",
        "    yield CX(qq[b], qq[c])\n",
        "\n",
        "def oracle():\n",
        "    # check 0-2 edge and store at 4th qubit\n",
        "    yield edge_check(0, 2, 4)\n",
        "    # check 0-3 edge and store at 5th qubit\n",
        "    yield edge_check(0, 3, 5)\n",
        "    # check 1-2 edge and store at 6th qubit\n",
        "    yield edge_check(1, 2, 6)\n",
        "    # check 1-3 edge and store at 7th qubit\n",
        "    yield edge_check(1, 3, 7)\n",
        "\n",
        "    # check all edge qubits\n",
        "    yield X(qq[8]).controlled_by(*(qq[4:8]))\n",
        "\n",
        "def oracle_computation():\n",
        "    yield oracle()\n",
        "    yield Z(qq[8])\n",
        "    yield inverse(oracle())\n",
        "\n",
        "def grover_diffusion():\n",
        "    yield H.on_each(*qq)\n",
        "    yield X.on_each(*qq)\n",
        "    yield Z(qq[3]).controlled_by(*(qq[0:3]))\n",
        "    yield X.on_each(*qq)\n",
        "    yield H.on_each(*qq)\n",
        "\n",
        "circuit = cirq.Circuit()\n",
        "circuit.append(H.on_each(*(qq[0:4])))\n",
        "for i in range(2):\n",
        "    circuit.append(oracle_computation())\n",
        "    circuit.append(grover_diffusion())\n",
        "\n",
        "# we are only intertested in outputs of first 4 qubits\n",
        "circuit.append(cirq.measure(*(qq[0:4]), key='result'))\n",
        "\n",
        "# determine the statistics of the measurements\n",
        "trials_number = 1000\n",
        "samples = s.run(circuit, repetitions=trials_number)\n",
        "result = samples.measurements[\"result\"]\n",
        "\n",
        "def bitstring(bits):\n",
        "    return \"\".join(str(int(b)) for b in bits)\n",
        "\n",
        "counts = samples.histogram(key=\"result\",fold_func=bitstring)\n",
        "print(counts)"
      ]
    },
    {
      "cell_type": "markdown",
      "metadata": {
        "id": "QNC46tzOt4jE"
      },
      "source": [
        "Note that the states '0011' and '1100' are the most commonly observed states."
      ]
    },
    {
      "cell_type": "code",
      "execution_count": 6,
      "metadata": {
        "id": "qXwbDEqFt4jE",
        "outputId": "64749899-2244-4971-e903-b7237256a237",
        "colab": {
          "base_uri": "https://localhost:8080/"
        }
      },
      "outputs": [
        {
          "output_type": "stream",
          "name": "stdout",
          "text": [
            "Probability of measuring 0011:  0.485\n",
            "Probability of measuring 1100:  0.467\n"
          ]
        }
      ],
      "source": [
        "print(\"Probability of measuring 0011: \", counts.get('0011')/trials_number)\n",
        "print(\"Probability of measuring 1100: \", counts.get('1100')/trials_number)"
      ]
    },
    {
      "cell_type": "markdown",
      "metadata": {
        "id": "cN9iWLdct4jE"
      },
      "source": [
        "<a name=\"task4\"></a>\n",
        "### Task 4\n",
        "\n",
        "Repeat Task 3 for the following graph.\n",
        "\n",
        "Does the following graph has any correct colorings or not? If not, what would you say in advance about the frequencies of the outcomes?\n",
        "\n",
        "\n",
        "<img src=\"https://gitlab.com/qworld/qeducation/qbook101/raw/main/qbook101/images/ch4/nonbipartite.png\" width=\"25%\" align=\"center\">"
      ]
    },
    {
      "cell_type": "markdown",
      "metadata": {
        "id": "-aC2V8BSt4jE"
      },
      "source": [
        "<h3> Solution </h3>"
      ]
    },
    {
      "cell_type": "code",
      "execution_count": 7,
      "metadata": {
        "id": "ckP4lAkht4jE",
        "outputId": "e91010de-4e57-4105-e06f-7a807c350ce4",
        "colab": {
          "base_uri": "https://localhost:8080/"
        }
      },
      "outputs": [
        {
          "output_type": "stream",
          "name": "stdout",
          "text": [
            "Counter({'1010': 661, '0110': 659, '0111': 650, '0011': 645, '1111': 645, '0010': 633, '1000': 633, '1110': 624, '0100': 621, '0101': 614, '0000': 613, '1101': 610, '0001': 605, '1001': 600, '1100': 596, '1011': 591})\n"
          ]
        }
      ],
      "source": [
        "import cirq\n",
        "from cirq import X, H, Z, inverse, CX\n",
        "s = cirq.Simulator()\n",
        "\n",
        "qq = cirq.LineQubit.range(9)\n",
        "\n",
        "def oracle_computation():\n",
        "    # check 0-1 edge and store at 4th qubit\n",
        "    yield edge_check(0, 1, 4)\n",
        "    # check 0-2 edge and store at 5th qubit\n",
        "    yield edge_check(0, 2, 5)\n",
        "    # check 0-3 edge and store at 6th qubit\n",
        "    yield edge_check(0, 3, 6)\n",
        "    # check 1-3 edge and store at 7th qubit\n",
        "    yield edge_check(1, 3, 7)\n",
        "\n",
        "    # check all edge qubits\n",
        "    yield X(qq[8]).controlled_by(*(qq[4:8]))\n",
        "\n",
        "def oracle():\n",
        "    yield oracle_computation()\n",
        "    yield Z(qq[8])\n",
        "    yield inverse(oracle_computation())\n",
        "\n",
        "def grover_diffusion():\n",
        "    yield H.on_each(*qq)\n",
        "    yield X.on_each(*qq)\n",
        "    yield Z(qq[3]).controlled_by(*(qq[0:3]))\n",
        "    yield X.on_each(*qq)\n",
        "    yield H.on_each(*qq)\n",
        "\n",
        "circuit = cirq.Circuit()\n",
        "circuit.append(H.on_each(*(qq[0:4])))\n",
        "\n",
        "for i in range(2):\n",
        "    circuit.append(oracle())\n",
        "    circuit.append(grover_diffusion())\n",
        "\n",
        "# we are only intertested in outputs of first 4 qubits\n",
        "circuit.append(cirq.measure(*(qq[0:4]), key='result'))\n",
        "\n",
        "# determine the statistics of the measurements\n",
        "trials_number = 10000\n",
        "samples = s.run(circuit, repetitions=trials_number)\n",
        "result = samples.measurements[\"result\"]\n",
        "\n",
        "# create an histogram of the result\n",
        "def bitstring(bits):\n",
        "    return \"\".join(str(int(b)) for b in bits)\n",
        "\n",
        "counts = samples.histogram(key=\"result\",fold_func=bitstring)\n",
        "print(counts)"
      ]
    },
    {
      "cell_type": "markdown",
      "metadata": {
        "id": "otDKocF9t4jE"
      },
      "source": [
        "We observe that all strings have almost the same occurence. The reason is that there is no correct coloring."
      ]
    }
  ],
  "metadata": {
    "kernelspec": {
      "display_name": "Python 3 (ipykernel)",
      "language": "python",
      "name": "python3"
    },
    "language_info": {
      "codemirror_mode": {
        "name": "ipython",
        "version": 3
      },
      "file_extension": ".py",
      "mimetype": "text/x-python",
      "name": "python",
      "nbconvert_exporter": "python",
      "pygments_lexer": "ipython3",
      "version": "3.11.4"
    },
    "colab": {
      "provenance": [],
      "collapsed_sections": [
        "jsqSCSy0t4jC"
      ],
      "include_colab_link": true
    }
  },
  "nbformat": 4,
  "nbformat_minor": 0
}