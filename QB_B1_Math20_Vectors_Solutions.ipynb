{
  "cells": [
    {
      "cell_type": "markdown",
      "metadata": {
        "id": "view-in-github",
        "colab_type": "text"
      },
      "source": [
        "<a href=\"https://colab.research.google.com/github/james-lucius/qworld/blob/main/QB_B1_Math20_Vectors_Solutions.ipynb\" target=\"_parent\"><img src=\"https://colab.research.google.com/assets/colab-badge.svg\" alt=\"Open In Colab\"/></a>"
      ]
    },
    {
      "cell_type": "markdown",
      "metadata": {
        "id": "beq7vKsuZbEC"
      },
      "source": [
        "<a href=\"https://qworld.net\" target=\"_blank\" align=\"left\"><img src=\"https://gitlab.com/qworld/qeducation/qbook101/raw/main/qworld/images/header.jpg\"  align=\"left\"></a>\n",
        "$ \\newcommand{\\bra}[1]{\\langle #1|} $\n",
        "$ \\newcommand{\\ket}[1]{|#1\\rangle} $\n",
        "$ \\newcommand{\\braket}[2]{\\langle #1|#2\\rangle} $\n",
        "$ \\newcommand{\\dot}[2]{ #1 \\cdot #2} $\n",
        "$ \\newcommand{\\biginner}[2]{\\left\\langle #1,#2\\right\\rangle} $\n",
        "$ \\newcommand{\\mymatrix}[2]{\\left( \\begin{array}{#1} #2\\end{array} \\right)} $\n",
        "$ \\newcommand{\\myvector}[1]{\\mymatrix{c}{#1}} $\n",
        "$ \\newcommand{\\myrvector}[1]{\\mymatrix{r}{#1}} $\n",
        "$ \\newcommand{\\mypar}[1]{\\left( #1 \\right)} $\n",
        "$ \\newcommand{\\mybigpar}[1]{ \\Big( #1 \\Big)} $\n",
        "$ \\newcommand{\\sqrttwo}{\\frac{1}{\\sqrt{2}}} $\n",
        "$ \\newcommand{\\dsqrttwo}{\\dfrac{1}{\\sqrt{2}}} $\n",
        "$ \\newcommand{\\onehalf}{\\frac{1}{2}} $\n",
        "$ \\newcommand{\\donehalf}{\\dfrac{1}{2}} $\n",
        "$ \\newcommand{\\hadamard}{ \\mymatrix{rr}{ \\sqrttwo & \\sqrttwo \\\\ \\sqrttwo & -\\sqrttwo }} $\n",
        "$ \\newcommand{\\vzero}{\\myvector{1\\\\0}} $\n",
        "$ \\newcommand{\\vone}{\\myvector{0\\\\1}} $\n",
        "$ \\newcommand{\\stateplus}{\\myvector{ \\sqrttwo \\\\  \\sqrttwo } } $\n",
        "$ \\newcommand{\\stateminus}{ \\myrvector{ \\sqrttwo \\\\ -\\sqrttwo } } $\n",
        "$ \\newcommand{\\myarray}[2]{ \\begin{array}{#1}#2\\end{array}} $\n",
        "$ \\newcommand{\\X}{ \\mymatrix{cc}{0 & 1 \\\\ 1 & 0}  } $\n",
        "$ \\newcommand{\\I}{ \\mymatrix{rr}{1 & 0 \\\\ 0 & 1}  } $\n",
        "$ \\newcommand{\\Z}{ \\mymatrix{rr}{1 & 0 \\\\ 0 & -1}  } $\n",
        "$ \\newcommand{\\Htwo}{ \\mymatrix{rrrr}{ \\frac{1}{2} & \\frac{1}{2} & \\frac{1}{2} & \\frac{1}{2} \\\\ \\frac{1}{2} & -\\frac{1}{2} & \\frac{1}{2} & -\\frac{1}{2} \\\\ \\frac{1}{2} & \\frac{1}{2} & -\\frac{1}{2} & -\\frac{1}{2} \\\\ \\frac{1}{2} & -\\frac{1}{2} & -\\frac{1}{2} & \\frac{1}{2} } } $\n",
        "$ \\newcommand{\\CNOT}{ \\mymatrix{cccc}{1 & 0 & 0 & 0 \\\\ 0 & 1 & 0 & 0 \\\\ 0 & 0 & 0 & 1 \\\\ 0 & 0 & 1 & 0} } $\n",
        "$ \\newcommand{\\norm}[1]{ \\left\\lVert #1 \\right\\rVert } $\n",
        "$ \\newcommand{\\pstate}[1]{ \\lceil \\mspace{-1mu} #1 \\mspace{-1.5mu} \\rfloor } $\n",
        "$ \\newcommand{\\greenbit}[1] {\\mathbf{{\\color{green}#1}}} $\n",
        "$ \\newcommand{\\bluebit}[1] {\\mathbf{{\\color{blue}#1}}} $\n",
        "$ \\newcommand{\\redbit}[1] {\\mathbf{{\\color{red}#1}}} $\n",
        "$ \\newcommand{\\brownbit}[1] {\\mathbf{{\\color{brown}#1}}} $\n",
        "$ \\newcommand{\\blackbit}[1] {\\mathbf{{\\color{black}#1}}} $"
      ]
    },
    {
      "cell_type": "markdown",
      "metadata": {
        "id": "_9vHtO7bZbED"
      },
      "source": [
        "_prepared by Abuzer Yakaryilmaz_"
      ]
    },
    {
      "cell_type": "markdown",
      "metadata": {
        "id": "2NmD7W64ZbEE"
      },
      "source": [
        "<font size=\"28px\" style=\"font-size:28px;\" align=\"left\"><b><font color=\"blue\"> Solutions for </font> Vectors: One Dimensional List</b></font>\n",
        "<br>\n",
        "<br><br>"
      ]
    },
    {
      "cell_type": "markdown",
      "metadata": {
        "id": "AGM4rnuFZbEE"
      },
      "source": [
        "<a id=\"task1\"></a>\n",
        "<h3> Task 1 </h3>\n",
        "\n",
        "Create two 7-dimensional vectors $u$ and $ v $ as two different lists in Python having entries randomly picked between $-10$ and $10$.\n",
        "\n",
        "Print their entries."
      ]
    },
    {
      "cell_type": "markdown",
      "metadata": {
        "id": "MwLJBMa0ZbEE"
      },
      "source": [
        "<h3>Solution</h3>"
      ]
    },
    {
      "cell_type": "code",
      "execution_count": 1,
      "metadata": {
        "id": "mjEjXZtuZbEE",
        "outputId": "1d491b2b-7577-4ecd-ec27-4385b51c00f0",
        "colab": {
          "base_uri": "https://localhost:8080/"
        }
      },
      "outputs": [
        {
          "output_type": "stream",
          "name": "stdout",
          "text": [
            "u is [-5, -9, 7, -5, 6, -3, -3]\n",
            "v is [2, -3, -2, 10, 0, -8, -6]\n"
          ]
        }
      ],
      "source": [
        "from random import randrange\n",
        "\n",
        "dimension = 7\n",
        "\n",
        "# create u and v as empty lists\n",
        "u = []\n",
        "v = []\n",
        "\n",
        "for i in range(dimension):\n",
        "    u.append(randrange(-10,11)) # add a randomly picked number to the list u\n",
        "    v.append(randrange(-10,11)) # add a randomly picked number to the list v\n",
        "\n",
        "# print both lists\n",
        "print(\"u is\",u)\n",
        "print(\"v is\",v)"
      ]
    },
    {
      "cell_type": "markdown",
      "metadata": {
        "id": "9e-cmGNCZbEF"
      },
      "source": [
        "<a id=\"task2\"></a>\n",
        "<h3> Task 2 </h3>\n",
        "\n",
        "By using the same vectors, find the vector $  (3  u-2  v) $ and print its entries. Here $ 3u $ and $ 2v $ means $u$ and $v$ are multiplied by $3$ and $2$, respectively."
      ]
    },
    {
      "cell_type": "markdown",
      "metadata": {
        "id": "WvIf13B9ZbEF"
      },
      "source": [
        "<h3>Solution</h3>"
      ]
    },
    {
      "cell_type": "code",
      "execution_count": 2,
      "metadata": {
        "id": "UdAivGPJZbEF",
        "outputId": "b1babba6-3a5f-4006-f08e-c40910a8f6b6",
        "colab": {
          "base_uri": "https://localhost:8080/"
        }
      },
      "outputs": [
        {
          "output_type": "stream",
          "name": "stdout",
          "text": [
            "by using the first method, the result vector is initialized to [0, 0, 0, 0, 0, 0, 0]\n",
            "by using the second method, the result vector is initialized to [0, 0, 0, 0, 0, 0, 0]\n",
            "u is [-5, -9, 7, -5, 6, -3, -3]\n",
            "v is [2, -3, -2, 10, 0, -8, -6]\n",
            "3u-2v is [-19, -21, 25, -35, 18, 7, 3]\n"
          ]
        }
      ],
      "source": [
        "# please execute the cell for Task 1 to define u and v\n",
        "# create a result list\n",
        "\n",
        "# the first method\n",
        "result=[]\n",
        "\n",
        "# fill it with zeros\n",
        "for i in range(dimension):\n",
        "    result.append(0)\n",
        "\n",
        "print(\"by using the first method, the result vector is initialized to\",result)\n",
        "\n",
        "# the second method\n",
        "# alternative and shorter solution for creating a list with zeros\n",
        "result = [0] * 7\n",
        "\n",
        "print(\"by using the second method, the result vector is initialized to\",result)\n",
        "\n",
        "# calculate 3u-2v\n",
        "for i in range(dimension):\n",
        "    result[i] = 3 * u[i] - 2 * v[i]\n",
        "\n",
        "# print all lists\n",
        "print(\"u is\",u)\n",
        "print(\"v is\",v)\n",
        "print(\"3u-2v is\",result)"
      ]
    },
    {
      "cell_type": "markdown",
      "metadata": {
        "id": "R9iaQrCiZbEF"
      },
      "source": [
        "<a id=\"task3\"></a>\n",
        "<h3> Task 3 </h3>\n",
        "\n",
        "Let $ u = \\myrvector{1 \\\\ -2 \\\\ -4 \\\\ 2} $ be a four dimensional vector.\n",
        "\n",
        "Verify that $ \\norm{4 u} = 4 \\cdot \\norm{u} $ in Python.\n",
        "\n",
        "Remark that $ 4u $ is another vector obtained from $ u $ by multiplying it with 4."
      ]
    },
    {
      "cell_type": "markdown",
      "metadata": {
        "id": "qo1NDp77ZbEF"
      },
      "source": [
        "<h3>Solution</h3>"
      ]
    },
    {
      "cell_type": "code",
      "execution_count": 3,
      "metadata": {
        "id": "bSIXhEOaZbEF",
        "outputId": "2088e519-92fa-4ef2-e0d4-2c145431ede1",
        "colab": {
          "base_uri": "https://localhost:8080/"
        }
      },
      "outputs": [
        {
          "output_type": "stream",
          "name": "stdout",
          "text": [
            "length of u is 5.0\n",
            "4 * length of u is 20.0\n",
            "length of 4u is 20.0\n"
          ]
        }
      ],
      "source": [
        "u = [1,-2,-4,2]\n",
        "\n",
        "fouru=[4,-8,-16,8]\n",
        "\n",
        "len_u = 0\n",
        "len_fouru = 0\n",
        "for i in range(len(u)):\n",
        "    len_u = len_u + u[i]**2 # adding square of each value\n",
        "    len_fouru = len_fouru + fouru[i]**2 # adding square of each value\n",
        "\n",
        "len_u = len_u ** 0.5 # taking square root of the summation\n",
        "len_fouru = len_fouru ** 0.5 # taking square root of the summation\n",
        "\n",
        "# print the lengths\n",
        "print(\"length of u is\",len_u)\n",
        "print(\"4 * length of u is\",4 * len_u)\n",
        "print(\"length of 4u is\",len_fouru)"
      ]
    },
    {
      "cell_type": "markdown",
      "metadata": {
        "id": "aWyrTI5KZbEF"
      },
      "source": [
        "<a id=\"task4\"></a>\n",
        "<h3> Task 4 </h3>\n",
        "\n",
        "Let $ u = \\myrvector{1 \\\\ -2 \\\\ -4 \\\\ 2} $ be a four dimensional vector.\n",
        "\n",
        "Randomly pick a number $r$ from $ \\left\\{ \\dfrac{1}{10}, \\dfrac{2}{10}, \\cdots, \\dfrac{9}{10} \\right\\} $.\n",
        "\n",
        "Find the vector $(-r)\\cdot u$ and then its length."
      ]
    },
    {
      "cell_type": "markdown",
      "metadata": {
        "id": "MMIcM6ROZbEF"
      },
      "source": [
        "<h3>Solution</h3>"
      ]
    },
    {
      "cell_type": "code",
      "execution_count": 4,
      "metadata": {
        "id": "Edi0lGzRZbEF",
        "outputId": "540c6a87-29f1-417f-a9d3-c03e70f8c0d4",
        "colab": {
          "base_uri": "https://localhost:8080/"
        }
      },
      "outputs": [
        {
          "output_type": "stream",
          "name": "stdout",
          "text": [
            "u is [1, -2, -4, 2]\n",
            "\n",
            "r is 0.1\n",
            "\n",
            "-ru is [-0.1, 0.2, 0.4, -0.2]\n",
            "\n",
            "-0.1 ->[square]-> 0.010000000000000002\n",
            "0.2 ->[square]-> 0.04000000000000001\n",
            "0.4 ->[square]-> 0.16000000000000003\n",
            "-0.2 ->[square]-> 0.04000000000000001\n",
            "\n",
            "the summation of squares is 0.25000000000000006\n",
            "the length of [-0.1, 0.2, 0.4, -0.2] is 0.5000000000000001\n"
          ]
        }
      ],
      "source": [
        "from random import randrange\n",
        "\n",
        "u = [1,-2,-4,2]\n",
        "\n",
        "print(\"u is\",u)\n",
        "\n",
        "r = randrange(9) # r is a number in {0,...,8}\n",
        "r = r + 1 # r is a number in {1,...,9}\n",
        "r = r/10 # r is a number in {1/10,...,9/10}\n",
        "\n",
        "print()\n",
        "print(\"r is\",r)\n",
        "\n",
        "newu=[]\n",
        "\n",
        "for i in range(len(u)):\n",
        "    newu.append(-1*r*u[i])\n",
        "\n",
        "print()\n",
        "print(\"-ru is\",newu)\n",
        "print()\n",
        "\n",
        "length = 0\n",
        "\n",
        "for i in range(len(newu)):\n",
        "    length = length + newu[i]**2 # adding square of each number\n",
        "    print(newu[i],\"->[square]->\",newu[i]**2)\n",
        "\n",
        "print()\n",
        "print(\"the summation of squares is\",length)\n",
        "length = length**0.5 # taking square root\n",
        "print(\"the length of\",newu,\"is\",length)"
      ]
    },
    {
      "cell_type": "markdown",
      "metadata": {
        "id": "H04Cn-5GZbEF"
      },
      "source": [
        "Remark that:\n",
        "\n",
        "The length of $ u $ is 5.\n",
        "\n",
        "The length of $ (-r)u $ will be $ 5r $.  "
      ]
    }
  ],
  "metadata": {
    "kernelspec": {
      "display_name": "Python 3 (ipykernel)",
      "language": "python",
      "name": "python3"
    },
    "language_info": {
      "codemirror_mode": {
        "name": "ipython",
        "version": 3
      },
      "file_extension": ".py",
      "mimetype": "text/x-python",
      "name": "python",
      "nbconvert_exporter": "python",
      "pygments_lexer": "ipython3",
      "version": "3.11.4"
    },
    "colab": {
      "provenance": [],
      "include_colab_link": true
    }
  },
  "nbformat": 4,
  "nbformat_minor": 0
}