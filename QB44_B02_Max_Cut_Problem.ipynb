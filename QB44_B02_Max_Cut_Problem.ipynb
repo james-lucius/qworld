{
  "cells": [
    {
      "cell_type": "markdown",
      "metadata": {
        "id": "view-in-github",
        "colab_type": "text"
      },
      "source": [
        "<a href=\"https://colab.research.google.com/github/james-lucius/qworld/blob/main/QB44_B02_Max_Cut_Problem.ipynb\" target=\"_parent\"><img src=\"https://colab.research.google.com/assets/colab-badge.svg\" alt=\"Open In Colab\"/></a>"
      ]
    },
    {
      "cell_type": "markdown",
      "metadata": {
        "id": "OLwIkM0nueWT"
      },
      "source": [
        "<a href=\"https://qworld.net\" target=\"_blank\" align=\"left\"><img src=\"https://gitlab.com/qworld/qeducation/qbook101/raw/main/qworld/images/header.jpg\" align=\"left\"></a>\n",
        "$ \\newcommand{\\bra}[1]{\\langle #1|} $\n",
        "$ \\newcommand{\\ket}[1]{|#1\\rangle} $\n",
        "$ \\newcommand{\\braket}[2]{\\langle #1|#2\\rangle} $\n",
        "$ \\newcommand{\\dot}[2]{ #1 \\cdot #2} $\n",
        "$ \\newcommand{\\biginner}[2]{\\left\\langle #1,#2\\right\\rangle} $\n",
        "$ \\newcommand{\\mymatrix}[2]{\\left( \\begin{array}{#1} #2\\end{array} \\right)} $\n",
        "$ \\newcommand{\\myvector}[1]{\\mymatrix{c}{#1}} $\n",
        "$ \\newcommand{\\myrvector}[1]{\\mymatrix{r}{#1}} $\n",
        "$ \\newcommand{\\mypar}[1]{\\left( #1 \\right)} $\n",
        "$ \\newcommand{\\mybigpar}[1]{ \\Big( #1 \\Big)} $\n",
        "$ \\newcommand{\\sqrttwo}{\\frac{1}{\\sqrt{2}}} $\n",
        "$ \\newcommand{\\dsqrttwo}{\\dfrac{1}{\\sqrt{2}}} $\n",
        "$ \\newcommand{\\onehalf}{\\frac{1}{2}} $\n",
        "$ \\newcommand{\\donehalf}{\\dfrac{1}{2}} $\n",
        "$ \\newcommand{\\hadamard}{ \\mymatrix{rr}{ \\sqrttwo & \\sqrttwo \\\\ \\sqrttwo & -\\sqrttwo }} $\n",
        "$ \\newcommand{\\vzero}{\\myvector{1\\\\0}} $\n",
        "$ \\newcommand{\\vone}{\\myvector{0\\\\1}} $\n",
        "$ \\newcommand{\\stateplus}{\\myvector{ \\sqrttwo \\\\  \\sqrttwo } } $\n",
        "$ \\newcommand{\\stateminus}{ \\myrvector{ \\sqrttwo \\\\ -\\sqrttwo } } $\n",
        "$ \\newcommand{\\myarray}[2]{ \\begin{array}{#1}#2\\end{array}} $\n",
        "$ \\newcommand{\\X}{ \\mymatrix{cc}{0 & 1 \\\\ 1 & 0}  } $\n",
        "$ \\newcommand{\\I}{ \\mymatrix{rr}{1 & 0 \\\\ 0 & 1}  } $\n",
        "$ \\newcommand{\\Z}{ \\mymatrix{rr}{1 & 0 \\\\ 0 & -1}  } $\n",
        "$ \\newcommand{\\Htwo}{ \\mymatrix{rrrr}{ \\frac{1}{2} & \\frac{1}{2} & \\frac{1}{2} & \\frac{1}{2} \\\\ \\frac{1}{2} & -\\frac{1}{2} & \\frac{1}{2} & -\\frac{1}{2} \\\\ \\frac{1}{2} & \\frac{1}{2} & -\\frac{1}{2} & -\\frac{1}{2} \\\\ \\frac{1}{2} & -\\frac{1}{2} & -\\frac{1}{2} & \\frac{1}{2} } } $\n",
        "$ \\newcommand{\\CNOT}{ \\mymatrix{cccc}{1 & 0 & 0 & 0 \\\\ 0 & 1 & 0 & 0 \\\\ 0 & 0 & 0 & 1 \\\\ 0 & 0 & 1 & 0} } $\n",
        "$ \\newcommand{\\norm}[1]{ \\left\\lVert #1 \\right\\rVert } $\n",
        "$ \\newcommand{\\pstate}[1]{ \\lceil \\mspace{-1mu} #1 \\mspace{-1.5mu} \\rfloor } $\n",
        "$ \\newcommand{\\greenbit}[1] {\\mathbf{{\\color{green}#1}}} $\n",
        "$ \\newcommand{\\bluebit}[1] {\\mathbf{{\\color{blue}#1}}} $\n",
        "$ \\newcommand{\\redbit}[1] {\\mathbf{{\\color{red}#1}}} $\n",
        "$ \\newcommand{\\brownbit}[1] {\\mathbf{{\\color{brown}#1}}} $\n",
        "$ \\newcommand{\\blackbit}[1] {\\mathbf{{\\color{black}#1}}} $"
      ]
    },
    {
      "cell_type": "markdown",
      "metadata": {
        "id": "rqCQLCVEueWV"
      },
      "source": [
        "_prepared by Adam Glos_"
      ]
    },
    {
      "cell_type": "markdown",
      "metadata": {
        "id": "lEtljcpXueWV"
      },
      "source": [
        "<font size=\"28px\" style=\"font-size:28px;\" align=\"left\"><b> Max-Cut Problem </b></font>\n",
        "<br>\n",
        "<br><br>"
      ]
    },
    {
      "cell_type": "markdown",
      "metadata": {
        "jp-MarkdownHeadingCollapsed": true,
        "id": "bOliEdPhueWV"
      },
      "source": [
        "##### <font color=\"#08b806\">Please execute the following cell, it is necessary to distinguish between your local environment and Google Colab's"
      ]
    },
    {
      "cell_type": "code",
      "execution_count": 1,
      "metadata": {
        "id": "1BOISrgaueWV",
        "colab": {
          "base_uri": "https://localhost:8080/"
        },
        "outputId": "16891103-a32c-40c3-dad1-e5d2cf052ee6"
      },
      "outputs": [
        {
          "output_type": "stream",
          "name": "stdout",
          "text": [
            "Collecting cirq\n",
            "  Downloading cirq-1.5.0-py3-none-any.whl.metadata (15 kB)\n",
            "Collecting cirq-aqt==1.5.0 (from cirq)\n",
            "  Downloading cirq_aqt-1.5.0-py3-none-any.whl.metadata (4.8 kB)\n",
            "Collecting cirq-core==1.5.0 (from cirq)\n",
            "  Downloading cirq_core-1.5.0-py3-none-any.whl.metadata (4.9 kB)\n",
            "Collecting cirq-google==1.5.0 (from cirq)\n",
            "  Downloading cirq_google-1.5.0-py3-none-any.whl.metadata (4.9 kB)\n",
            "Collecting cirq-ionq==1.5.0 (from cirq)\n",
            "  Downloading cirq_ionq-1.5.0-py3-none-any.whl.metadata (4.7 kB)\n",
            "Collecting cirq-pasqal==1.5.0 (from cirq)\n",
            "  Downloading cirq_pasqal-1.5.0-py3-none-any.whl.metadata (4.8 kB)\n",
            "Collecting cirq-web==1.5.0 (from cirq)\n",
            "  Downloading cirq_web-1.5.0-py3-none-any.whl.metadata (5.5 kB)\n",
            "Requirement already satisfied: requests~=2.32 in /usr/local/lib/python3.11/dist-packages (from cirq-aqt==1.5.0->cirq) (2.32.3)\n",
            "Requirement already satisfied: attrs>=21.3.0 in /usr/local/lib/python3.11/dist-packages (from cirq-core==1.5.0->cirq) (25.3.0)\n",
            "Collecting duet>=0.2.8 (from cirq-core==1.5.0->cirq)\n",
            "  Downloading duet-0.2.9-py3-none-any.whl.metadata (2.3 kB)\n",
            "Requirement already satisfied: matplotlib~=3.7 in /usr/local/lib/python3.11/dist-packages (from cirq-core==1.5.0->cirq) (3.10.0)\n",
            "Requirement already satisfied: networkx~=3.1 in /usr/local/lib/python3.11/dist-packages (from cirq-core==1.5.0->cirq) (3.5)\n",
            "Requirement already satisfied: numpy>=1.25 in /usr/local/lib/python3.11/dist-packages (from cirq-core==1.5.0->cirq) (2.0.2)\n",
            "Requirement already satisfied: pandas~=2.0 in /usr/local/lib/python3.11/dist-packages (from cirq-core==1.5.0->cirq) (2.2.2)\n",
            "Requirement already satisfied: sortedcontainers~=2.0 in /usr/local/lib/python3.11/dist-packages (from cirq-core==1.5.0->cirq) (2.4.0)\n",
            "Requirement already satisfied: scipy~=1.11 in /usr/local/lib/python3.11/dist-packages (from cirq-core==1.5.0->cirq) (1.15.3)\n",
            "Requirement already satisfied: sympy in /usr/local/lib/python3.11/dist-packages (from cirq-core==1.5.0->cirq) (1.13.1)\n",
            "Requirement already satisfied: typing_extensions>=4.2 in /usr/local/lib/python3.11/dist-packages (from cirq-core==1.5.0->cirq) (4.14.1)\n",
            "Requirement already satisfied: tqdm>=4.12 in /usr/local/lib/python3.11/dist-packages (from cirq-core==1.5.0->cirq) (4.67.1)\n",
            "Requirement already satisfied: google-api-core>=1.14.0 in /usr/local/lib/python3.11/dist-packages (from google-api-core[grpc]>=1.14.0->cirq-google==1.5.0->cirq) (2.25.1)\n",
            "Requirement already satisfied: proto-plus>=1.20.0 in /usr/local/lib/python3.11/dist-packages (from cirq-google==1.5.0->cirq) (1.26.1)\n",
            "Requirement already satisfied: protobuf<6.0,>=4.25 in /usr/local/lib/python3.11/dist-packages (from cirq-google==1.5.0->cirq) (5.29.5)\n",
            "Collecting typedunits (from cirq-google==1.5.0->cirq)\n",
            "  Downloading typedunits-0.0.1.dev20250509200845-cp311-cp311-manylinux_2_17_x86_64.manylinux2014_x86_64.whl.metadata (4.8 kB)\n",
            "Requirement already satisfied: googleapis-common-protos<2.0.0,>=1.56.2 in /usr/local/lib/python3.11/dist-packages (from google-api-core>=1.14.0->google-api-core[grpc]>=1.14.0->cirq-google==1.5.0->cirq) (1.70.0)\n",
            "Requirement already satisfied: google-auth<3.0.0,>=2.14.1 in /usr/local/lib/python3.11/dist-packages (from google-api-core>=1.14.0->google-api-core[grpc]>=1.14.0->cirq-google==1.5.0->cirq) (2.38.0)\n",
            "Requirement already satisfied: grpcio<2.0.0,>=1.33.2 in /usr/local/lib/python3.11/dist-packages (from google-api-core[grpc]>=1.14.0->cirq-google==1.5.0->cirq) (1.73.1)\n",
            "Requirement already satisfied: grpcio-status<2.0.0,>=1.33.2 in /usr/local/lib/python3.11/dist-packages (from google-api-core[grpc]>=1.14.0->cirq-google==1.5.0->cirq) (1.71.2)\n",
            "Requirement already satisfied: contourpy>=1.0.1 in /usr/local/lib/python3.11/dist-packages (from matplotlib~=3.7->cirq-core==1.5.0->cirq) (1.3.2)\n",
            "Requirement already satisfied: cycler>=0.10 in /usr/local/lib/python3.11/dist-packages (from matplotlib~=3.7->cirq-core==1.5.0->cirq) (0.12.1)\n",
            "Requirement already satisfied: fonttools>=4.22.0 in /usr/local/lib/python3.11/dist-packages (from matplotlib~=3.7->cirq-core==1.5.0->cirq) (4.58.5)\n",
            "Requirement already satisfied: kiwisolver>=1.3.1 in /usr/local/lib/python3.11/dist-packages (from matplotlib~=3.7->cirq-core==1.5.0->cirq) (1.4.8)\n",
            "Requirement already satisfied: packaging>=20.0 in /usr/local/lib/python3.11/dist-packages (from matplotlib~=3.7->cirq-core==1.5.0->cirq) (24.2)\n",
            "Requirement already satisfied: pillow>=8 in /usr/local/lib/python3.11/dist-packages (from matplotlib~=3.7->cirq-core==1.5.0->cirq) (11.2.1)\n",
            "Requirement already satisfied: pyparsing>=2.3.1 in /usr/local/lib/python3.11/dist-packages (from matplotlib~=3.7->cirq-core==1.5.0->cirq) (3.2.3)\n",
            "Requirement already satisfied: python-dateutil>=2.7 in /usr/local/lib/python3.11/dist-packages (from matplotlib~=3.7->cirq-core==1.5.0->cirq) (2.9.0.post0)\n",
            "Requirement already satisfied: pytz>=2020.1 in /usr/local/lib/python3.11/dist-packages (from pandas~=2.0->cirq-core==1.5.0->cirq) (2025.2)\n",
            "Requirement already satisfied: tzdata>=2022.7 in /usr/local/lib/python3.11/dist-packages (from pandas~=2.0->cirq-core==1.5.0->cirq) (2025.2)\n",
            "Requirement already satisfied: charset-normalizer<4,>=2 in /usr/local/lib/python3.11/dist-packages (from requests~=2.32->cirq-aqt==1.5.0->cirq) (3.4.2)\n",
            "Requirement already satisfied: idna<4,>=2.5 in /usr/local/lib/python3.11/dist-packages (from requests~=2.32->cirq-aqt==1.5.0->cirq) (3.10)\n",
            "Requirement already satisfied: urllib3<3,>=1.21.1 in /usr/local/lib/python3.11/dist-packages (from requests~=2.32->cirq-aqt==1.5.0->cirq) (2.4.0)\n",
            "Requirement already satisfied: certifi>=2017.4.17 in /usr/local/lib/python3.11/dist-packages (from requests~=2.32->cirq-aqt==1.5.0->cirq) (2025.6.15)\n",
            "Requirement already satisfied: mpmath<1.4,>=1.1.0 in /usr/local/lib/python3.11/dist-packages (from sympy->cirq-core==1.5.0->cirq) (1.3.0)\n",
            "Requirement already satisfied: cython>=3.0.0 in /usr/local/lib/python3.11/dist-packages (from typedunits->cirq-google==1.5.0->cirq) (3.0.12)\n",
            "Requirement already satisfied: cachetools<6.0,>=2.0.0 in /usr/local/lib/python3.11/dist-packages (from google-auth<3.0.0,>=2.14.1->google-api-core>=1.14.0->google-api-core[grpc]>=1.14.0->cirq-google==1.5.0->cirq) (5.5.2)\n",
            "Requirement already satisfied: pyasn1-modules>=0.2.1 in /usr/local/lib/python3.11/dist-packages (from google-auth<3.0.0,>=2.14.1->google-api-core>=1.14.0->google-api-core[grpc]>=1.14.0->cirq-google==1.5.0->cirq) (0.4.2)\n",
            "Requirement already satisfied: rsa<5,>=3.1.4 in /usr/local/lib/python3.11/dist-packages (from google-auth<3.0.0,>=2.14.1->google-api-core>=1.14.0->google-api-core[grpc]>=1.14.0->cirq-google==1.5.0->cirq) (4.9.1)\n",
            "Requirement already satisfied: six>=1.5 in /usr/local/lib/python3.11/dist-packages (from python-dateutil>=2.7->matplotlib~=3.7->cirq-core==1.5.0->cirq) (1.17.0)\n",
            "Requirement already satisfied: pyasn1<0.7.0,>=0.6.1 in /usr/local/lib/python3.11/dist-packages (from pyasn1-modules>=0.2.1->google-auth<3.0.0,>=2.14.1->google-api-core>=1.14.0->google-api-core[grpc]>=1.14.0->cirq-google==1.5.0->cirq) (0.6.1)\n",
            "Downloading cirq-1.5.0-py3-none-any.whl (10 kB)\n",
            "Downloading cirq_aqt-1.5.0-py3-none-any.whl (31 kB)\n",
            "Downloading cirq_core-1.5.0-py3-none-any.whl (2.0 MB)\n",
            "\u001b[2K   \u001b[90m━━━━━━━━━━━━━━━━━━━━━━━━━━━━━━━━━━━━━━━━\u001b[0m \u001b[32m2.0/2.0 MB\u001b[0m \u001b[31m30.5 MB/s\u001b[0m eta \u001b[36m0:00:00\u001b[0m\n",
            "\u001b[?25hDownloading cirq_google-1.5.0-py3-none-any.whl (597 kB)\n",
            "\u001b[2K   \u001b[90m━━━━━━━━━━━━━━━━━━━━━━━━━━━━━━━━━━━━━━━━\u001b[0m \u001b[32m597.5/597.5 kB\u001b[0m \u001b[31m38.6 MB/s\u001b[0m eta \u001b[36m0:00:00\u001b[0m\n",
            "\u001b[?25hDownloading cirq_ionq-1.5.0-py3-none-any.whl (72 kB)\n",
            "\u001b[2K   \u001b[90m━━━━━━━━━━━━━━━━━━━━━━━━━━━━━━━━━━━━━━━━\u001b[0m \u001b[32m72.0/72.0 kB\u001b[0m \u001b[31m6.2 MB/s\u001b[0m eta \u001b[36m0:00:00\u001b[0m\n",
            "\u001b[?25hDownloading cirq_pasqal-1.5.0-py3-none-any.whl (33 kB)\n",
            "Downloading cirq_web-1.5.0-py3-none-any.whl (425 kB)\n",
            "\u001b[2K   \u001b[90m━━━━━━━━━━━━━━━━━━━━━━━━━━━━━━━━━━━━━━━━\u001b[0m \u001b[32m425.1/425.1 kB\u001b[0m \u001b[31m30.1 MB/s\u001b[0m eta \u001b[36m0:00:00\u001b[0m\n",
            "\u001b[?25hDownloading duet-0.2.9-py3-none-any.whl (29 kB)\n",
            "Downloading typedunits-0.0.1.dev20250509200845-cp311-cp311-manylinux_2_17_x86_64.manylinux2014_x86_64.whl (2.8 MB)\n",
            "\u001b[2K   \u001b[90m━━━━━━━━━━━━━━━━━━━━━━━━━━━━━━━━━━━━━━━━\u001b[0m \u001b[32m2.8/2.8 MB\u001b[0m \u001b[31m70.1 MB/s\u001b[0m eta \u001b[36m0:00:00\u001b[0m\n",
            "\u001b[?25hInstalling collected packages: typedunits, duet, cirq-core, cirq-web, cirq-pasqal, cirq-ionq, cirq-aqt, cirq-google, cirq\n",
            "Successfully installed cirq-1.5.0 cirq-aqt-1.5.0 cirq-core-1.5.0 cirq-google-1.5.0 cirq-ionq-1.5.0 cirq-pasqal-1.5.0 cirq-web-1.5.0 duet-0.2.9 typedunits-0.0.1.dev20250509200845\n"
          ]
        }
      ],
      "source": [
        "import IPython\n",
        "\n",
        "def in_colab():\n",
        "    try:\n",
        "        import google.colab\n",
        "        return True\n",
        "    except:\n",
        "        return False\n",
        "\n",
        "SolutionToTask1 = lambda: IPython.display.display(IPython.display.Javascript('window.open(\"{url}\");'.format(url='https://colab.research.google.com/drive/1y3MSolMHh0jwVgc7C1YOYWCMK27iabHJ?usp=sharing#scrollTo=slnGeXzEt4jC' if in_colab() else 'QB44_B02_Max_Cut_Problem_Solutions.ipynb#task1')))\n",
        "SolutionToTask2 = lambda: IPython.display.display(IPython.display.Javascript('window.open(\"{url}\");'.format(url='https://colab.research.google.com/drive/1y3MSolMHh0jwVgc7C1YOYWCMK27iabHJ?usp=sharing#scrollTo=kRDoGRkGt4jC' if in_colab() else 'QB44_B02_Max_Cut_Problem_Solutions.ipynb#task2')))\n",
        "SolutionToTask3 = lambda: IPython.display.display(IPython.display.Javascript('window.open(\"{url}\");'.format(url='https://colab.research.google.com/drive/1y3MSolMHh0jwVgc7C1YOYWCMK27iabHJ?usp=sharing#scrollTo=CQxzRn9Xt4jD' if in_colab() else 'QB44_B02_Max_Cut_Problem_Solutions.ipynb#task3')))\n",
        "SolutionToTask4 = lambda: IPython.display.display(IPython.display.Javascript('window.open(\"{url}\");'.format(url='https://colab.research.google.com/drive/1y3MSolMHh0jwVgc7C1YOYWCMK27iabHJ?usp=sharing#scrollTo=cN9iWLdct4jE' if in_colab() else 'QB44_B02_Max_Cut_Problem_Solutions.ipynb#task4')))\n",
        "\n",
        "if in_colab():\n",
        "    !pip install cirq"
      ]
    },
    {
      "cell_type": "markdown",
      "metadata": {
        "id": "wXYWMcnqueWV"
      },
      "source": [
        "##### Let us consider the following graph.\n",
        "\n",
        "<img src=\"https://gitlab.com/qworld/qeducation/qbook101/raw/main/qbook101/images/ch4/graphnocolor.png\" width=\"25%\" align=\"center\">\n",
        "\n",
        "The graph has five edges in total. We will color each vertex with either blue or red, and count the number of edges that connect vertices with different colors. In the following example, there are two edges connecting vertices that are colored using different colors (blue and red).\n",
        "\n",
        "<img src=\"https://gitlab.com/qworld/qeducation/qbook101/raw/main/qbook101/images/ch4/graphcolor2.png\" width=\"25%\" align=\"center\">\n",
        "\n",
        "On the other hand, in the following example, there are four edges connecting the vertices colored using different colors, which is indeed the maximum for a graph with four vertices.\n",
        "\n",
        "<img src=\"https://gitlab.com/qworld/qeducation/qbook101/raw/main/qbook101/images/ch4/graphcolor1.png\" width=\"25%\" align=\"center\">"
      ]
    },
    {
      "cell_type": "markdown",
      "metadata": {
        "id": "YTNE2TknueWW"
      },
      "source": [
        "## Definition ##\n",
        "\n",
        "The problem of finding the maximum number of edges so that their endpoints are colored using different colors is known as the **Max-Cut problem**. Alternatively, the aim is to partition the vertices of the graph into two disjoint sets (which is called a cut) such that the number of edges between the two sets is maximal. The size of the cut is defined as the number of edges between two sets.\n",
        "\n",
        "We will focus on the decision version of this problem which is defined as follows:\n",
        "\n",
        "For a given graph $G$, the problem is to determine whether there exists a cut of size at least $k$.\n",
        "\n",
        "It turns out that this problem is challenging (in fact it is **NP**-complete). There are $2^n$ possible coloring, and so a trivial (brute force) search checks each of these cases in the worst case. Here we show that we can solve this problem faster by using Grover's Search algorithm, approximately by making $\\pi\\sqrt{2^n}/4 \\approx 0.8 \\times 1.414^n$ oracle queries."
      ]
    },
    {
      "cell_type": "markdown",
      "metadata": {
        "id": "KCrHtnDBueWW"
      },
      "source": [
        "## A simple case: Bipartite graphs\n",
        "\n",
        "A graph is bipartite if the set of vertices can be divided into two disjoint sets such that each edge connects a vertex from the first set with a vertex from the second set. An example is presented below:\n",
        "\n",
        "<img src=\"https://gitlab.com/qworld/qeducation/qbook101/raw/main/qbook101/images/ch4/bipartite.png\" width=\"25%\" align=\"center\">\n",
        "\n",
        "We see that vertex 0 and 1 (or 2 and 3) could form such a set. An example of a graph which is not bipartite is given below.\n",
        "\n",
        "<img src=\"https://gitlab.com/qworld/qeducation/qbook101/raw/main/qbook101/images/ch4/nonbipartite.png\" width=\"25%\" align=\"center\">\n",
        "\n",
        "We first focus on bipartite graphs before moving on to the general case.\n",
        "\n",
        "Bipartite graphs have unique properties such that they admit a 2-coloring, a coloring using two colors in which the endpoints of all the edges are colored with different colors. Hence, for bipartite graphs solution to the Max-Cut problem is simply the total number of edges."
      ]
    },
    {
      "cell_type": "markdown",
      "metadata": {
        "id": "AK1fdfWGueWW"
      },
      "source": [
        "## Checking bipartiteness\n",
        "\n",
        "We will check whether a graph is bipartite or not by finding a 2-coloring in which the endpoints of all the edges are colored with different colors.\n",
        "\n",
        "We will use the following idea to represent coloring of a graph in a quantum circuit. For a graph with $n$ vertices, we will use $n$ qubits. The $i$'th qubit will encode the color of $i$'th vertex as follows: state $\\ket{0}$ means the vertex has red color, and state $\\ket{1}$ means it has blue color."
      ]
    },
    {
      "cell_type": "markdown",
      "metadata": {
        "id": "uFqBtkhwueWW"
      },
      "source": [
        "### Task 1\n",
        "    \n",
        "Let's implement the idea given above. We have a graph with 4 vertices, and so we have a circuit with 4 qubits.\n",
        "\n",
        "Represent the following coloring of the given graph in the quantum circuit.\n",
        "\n",
        "<img src=\"https://gitlab.com/qworld/qeducation/qbook101/raw/main/qbook101/images/ch4/graphcolor1.png\" width=\"25%\" align=\"center\">"
      ]
    },
    {
      "cell_type": "code",
      "execution_count": 2,
      "metadata": {
        "id": "-gK-74rfueWW",
        "colab": {
          "base_uri": "https://localhost:8080/"
        },
        "outputId": "a978750c-3e48-4ac4-e756-f75d80510d01"
      },
      "outputs": [
        {
          "output_type": "stream",
          "name": "stdout",
          "text": [
            "0: ───────M('result')───\n",
            "          │\n",
            "1: ───X───M─────────────\n",
            "          │\n",
            "2: ───X───M─────────────\n",
            "          │\n",
            "3: ───────M─────────────\n",
            "[[0 1 1 0]]\n",
            "Qubit 0 is red\n",
            "Qubit 1 is blue\n",
            "Qubit 2 is blue\n",
            "Qubit 3 is red\n"
          ]
        }
      ],
      "source": [
        "import cirq\n",
        "from cirq import X, I\n",
        "\n",
        "qq = cirq.LineQubit.range(4)\n",
        "circuit = cirq.Circuit()\n",
        "\n",
        "#\n",
        "# your solution\n",
        "#\n",
        "circuit.append(X(qq[1]))\n",
        "circuit.append(X(qq[2]))\n",
        "\n",
        "circuit.append(cirq.measure(*qq, key='result'))\n",
        "print(circuit)\n",
        "\n",
        "s = cirq.Simulator()\n",
        "samples = s.run(circuit, repetitions=1)\n",
        "result = samples.measurements[\"result\"]\n",
        "print(result)\n",
        "\n",
        "# decode the solution\n",
        "for qubit in range(4):\n",
        "    if result[0][qubit] == 0:\n",
        "        print(\"Qubit\",qubit, \"is red\")\n",
        "    else:\n",
        "        print(\"Qubit\",qubit, \"is blue\")"
      ]
    },
    {
      "cell_type": "markdown",
      "metadata": {
        "id": "Tv_183NQueWW"
      },
      "source": [
        "To check out our solution, run the next cell:"
      ]
    },
    {
      "cell_type": "code",
      "execution_count": 5,
      "metadata": {
        "id": "0pBez2QPueWW",
        "colab": {
          "base_uri": "https://localhost:8080/",
          "height": 37
        },
        "outputId": "78d586c9-fcfb-43cd-e900-72ad791ff4f9"
      },
      "outputs": [
        {
          "output_type": "display_data",
          "data": {
            "text/plain": [
              "<IPython.core.display.Javascript object>"
            ],
            "application/javascript": [
              "window.open(\"https://colab.research.google.com/drive/1y3MSolMHh0jwVgc7C1YOYWCMK27iabHJ?usp=sharing#scrollTo=slnGeXzEt4jC\");"
            ]
          },
          "metadata": {}
        }
      ],
      "source": [
        "SolutionToTask1()  # show solution for task 1"
      ]
    },
    {
      "cell_type": "markdown",
      "metadata": {
        "id": "hBLQzl51ueWW"
      },
      "source": [
        "## Edge checking\n",
        "\n",
        "Next, we will implement a protocol which checks whether an edge has endpoints with different colors. For each edge, we will use a separate qubit, on which we will store a Boolean value: $\\ket{1}$ if edge connects vertices with different colors, and $\\ket{0}$, otherwise.\n",
        "\n",
        "We use the XOR function $\\oplus$:\n",
        "$$\n",
        "x \\oplus y = \\begin{cases}\n",
        "1, & x \\neq y \\\\\n",
        "0, & x = y \\\\\n",
        "\\end{cases}\n",
        "$$\n",
        "where $x$ and $y$ are the colors of vertices and the result is the Boolean value of the edge connecting them.\n",
        "\n",
        "We can easily implement $x \\oplus y=z$ by using two $CNOT$ gates as given below.\n"
      ]
    },
    {
      "cell_type": "code",
      "execution_count": 3,
      "metadata": {
        "id": "5xZH1p9jueWW",
        "colab": {
          "base_uri": "https://localhost:8080/"
        },
        "outputId": "ad1ae1f1-70f1-42b4-a454-c45ab5ed22f8"
      },
      "outputs": [
        {
          "output_type": "stream",
          "name": "stdout",
          "text": [
            "0: ───@───────\n",
            "      │\n",
            "1: ───┼───@───\n",
            "      │   │\n",
            "2: ───X───X───\n"
          ]
        }
      ],
      "source": [
        "import cirq\n",
        "from cirq import X, CX\n",
        "\n",
        "qq = cirq.LineQubit.range(3)\n",
        "circuit = cirq.Circuit()\n",
        "\n",
        "circuit.append(CX(qq[0], qq[2]))\n",
        "circuit.append(CX(qq[1], qq[2]))\n",
        "\n",
        "print(circuit)"
      ]
    },
    {
      "cell_type": "markdown",
      "metadata": {
        "id": "Crcx5upQueWW"
      },
      "source": [
        "Here the first two qubits are $x$ and $y$, and $z$ is the third qubit.\n",
        "\n",
        "Let’s verify the correctness of the above circuit by checking all possible coloring (inputs).\n"
      ]
    },
    {
      "cell_type": "code",
      "execution_count": 4,
      "metadata": {
        "id": "tMA3Rv05ueWW",
        "colab": {
          "base_uri": "https://localhost:8080/"
        },
        "outputId": "070f3362-138b-498f-c38a-1010d8e3e880"
      },
      "outputs": [
        {
          "output_type": "stream",
          "name": "stdout",
          "text": [
            "\n",
            "First vertex is set to  0\n",
            "Second vertex is set to  0\n",
            "0: ───@───────M('result')───\n",
            "      │       │\n",
            "1: ───┼───@───M─────────────\n",
            "      │   │   │\n",
            "2: ───X───X───M─────────────\n",
            "Edge connects the same colors. Output: 0\n",
            "\n",
            "First vertex is set to  0\n",
            "Second vertex is set to  1\n",
            "      ┌──┐\n",
            "0: ─────@────────M('result')───\n",
            "        │        │\n",
            "1: ────X┼────@───M─────────────\n",
            "        │    │   │\n",
            "2: ─────X────X───M─────────────\n",
            "      └──┘\n",
            "Edge connects different colors. Output: 1\n",
            "\n",
            "First vertex is set to  1\n",
            "Second vertex is set to  0\n",
            "0: ───X───@───────M('result')───\n",
            "          │       │\n",
            "1: ───────┼───@───M─────────────\n",
            "          │   │   │\n",
            "2: ───────X───X───M─────────────\n",
            "Edge connects different colors. Output: 1\n",
            "\n",
            "First vertex is set to  1\n",
            "Second vertex is set to  1\n",
            "0: ───X───@───────M('result')───\n",
            "          │       │\n",
            "1: ───X───┼───@───M─────────────\n",
            "          │   │   │\n",
            "2: ───────X───X───M─────────────\n",
            "Edge connects the same colors. Output: 0\n"
          ]
        }
      ],
      "source": [
        "import cirq\n",
        "from cirq import X, CX\n",
        "s = cirq.Simulator()\n",
        "\n",
        "for a in range(2):\n",
        "    for b in range(2):\n",
        "        print()\n",
        "        print(\"First vertex is set to \", a)\n",
        "        print(\"Second vertex is set to \", b)\n",
        "\n",
        "        # encoding coloring\n",
        "        qq = cirq.LineQubit.range(3)\n",
        "        circuit = cirq.Circuit()\n",
        "\n",
        "        if a == 1:\n",
        "            circuit.append(X(qq[0]))\n",
        "        if b == 1:\n",
        "            circuit.append(X(qq[1]))\n",
        "\n",
        "        # edge checking\n",
        "        circuit.append(CX(qq[0], qq[2]))\n",
        "        circuit.append(CX(qq[1], qq[2]))\n",
        "        circuit.append(cirq.measure(*qq, key='result'))\n",
        "\n",
        "        samples = s.run(circuit, repetitions=1)\n",
        "        result = samples.measurements[\"result\"]\n",
        "        # 0 - first (and only measurement)\n",
        "        # 2 - last qubit\n",
        "        output = result[0][2]\n",
        "\n",
        "\n",
        "        print(circuit)\n",
        "        if output == 1:\n",
        "            print(\"Edge connects different colors. Output:\", output)\n",
        "        else:\n",
        "            print(\"Edge connects the same colors. Output:\", output)"
      ]
    },
    {
      "cell_type": "markdown",
      "metadata": {
        "id": "Ulb8LC7pueWX"
      },
      "source": [
        "## Designing an oracle for checking bipartiteness\n",
        "\n",
        "In Grover's Algorithm, our aim is to find an element marked by the oracle. If we have an oracle detecting any edge connecting two differently colored vertices, then we can use Grover's search to find such colorings (if exists)\n",
        "which \"marks\" colorings in which the endpoints of all the edges are colored using a different color, then we can use Grover's search to find such colorings (if such a coloring exists). Therefore, we need to define an oracle which will check and \"mark\" colorings which satisfy this property.\n",
        "\n",
        "As we described above, we use seperate qubits for each vertex and for each edge. The states of the qubits corresponding to vertices represent the colorings. The input to the oracle are the qubits representing the vertices, and the rest of the qubits are used by the oracle. Before the oracle starts its computation, all qubits representing the edges and the output qubit are in $ \\ket{0}$ state, and they should also be in $\\ket{0} $ state at the end to be used again for the next oracle call.\n",
        "\n",
        "\n",
        "We can summarize the computation by the oracle in four steps:\n",
        "\n",
        "1. By using the XOR operator, we assign the appropriate Boolean value for each edge.\n",
        "2. Then, we use an additional output qubit, which is set to 1 if each edge has the value of 1, i.e., each edge connects two vertices with different colors. This part can be implemented by a multi-controlled $NOT$ operator (flip the value of target qubit only if all controlled qubits are in states $\\ket{1}$)."
      ]
    },
    {
      "cell_type": "markdown",
      "metadata": {
        "id": "1NJOu-ptueWX"
      },
      "source": [
        "### Task 2\n",
        "\n",
        "For the given graph below, implement the first two steps of the oracle described above.\n",
        "\n",
        "The first four qubits are used for vertices.\n",
        "\n",
        "The next three qubits are used for edges.\n",
        "\n",
        "The last qubit is used for the output.\n",
        "\n",
        "Remark that the last qubit should be in state $ \\ket{1} $ (resp., $\\ket{0}$) if the coloring of the vertices is correct (resp., incorrect).\n",
        "\n",
        "Test your implementation with different colorings.\n",
        "\n",
        "<img src=\"https://gitlab.com/qworld/qeducation/qbook101/raw/main/qbook101/images/ch4/bipartite.png\" width=\"25%\" align=\"center\">"
      ]
    },
    {
      "cell_type": "code",
      "execution_count": 5,
      "metadata": {
        "id": "A7KVSNWoueWX",
        "colab": {
          "base_uri": "https://localhost:8080/"
        },
        "outputId": "33eb8e15-fd5e-4cfc-be4c-82569b1e7f5e"
      },
      "outputs": [
        {
          "output_type": "stream",
          "name": "stdout",
          "text": [
            "Measurement output:  1\n",
            "correct coloring (graph is bipartite)\n",
            "          ┌──┐   ┌──┐\n",
            "0: ───X────@───────@────────────────M('result')───\n",
            "           │       │                │\n",
            "1: ───X────┼@──────┼────────────────M─────────────\n",
            "           ││      │                │\n",
            "2: ────────┼┼─────@┼────────────────M─────────────\n",
            "           ││     ││                │\n",
            "3: ────────┼┼─────┼┼────@───@───────M─────────────\n",
            "           ││     ││    │   │       │\n",
            "4: ────────X┼─────X┼────┼───┼───@───M─────────────\n",
            "            │      │    │   │   │   │\n",
            "5: ─────────┼──────X────X───┼───@───M─────────────\n",
            "            │               │   │   │\n",
            "6: ─────────X───────────────X───@───M─────────────\n",
            "                                │   │\n",
            "7: ─────────────────────────────X───M─────────────\n",
            "          └──┘   └──┘\n"
          ]
        }
      ],
      "source": [
        "import cirq\n",
        "from cirq import X, CX\n",
        "s = cirq.Simulator()\n",
        "\n",
        "qq = cirq.LineQubit.range(8)\n",
        "circuit = cirq.Circuit()\n",
        "# correct coloring\n",
        "circuit.append(X(qq[0]))\n",
        "circuit.append(X(qq[1]))\n",
        "\n",
        "# incorrect coloring\n",
        "# circuit.append(X(qq[0]))\n",
        "\n",
        "\n",
        "#\n",
        "# your solution\n",
        "#\n",
        "circuit.append(CX(qq[0], qq[4]))\n",
        "circuit.append(CX(qq[2], qq[4]))\n",
        "\n",
        "circuit.append(CX(qq[0], qq[5]))\n",
        "circuit.append(CX(qq[3], qq[5]))\n",
        "\n",
        "circuit.append(CX(qq[1], qq[6]))\n",
        "circuit.append(CX(qq[3], qq[6]))\n",
        "\n",
        "circuit.append(X(qq[7]).controlled_by(*qq[4:7]))\n",
        "\n",
        "circuit.append(cirq.measure(*qq, key='result'))\n",
        "samples = s.run(circuit, repetitions=1)\n",
        "result = samples.measurements[\"result\"]\n",
        "# 0 - first (and only measurement)\n",
        "# 7 - last qubit\n",
        "output = result[0][7]\n",
        "print(\"Measurement output: \", output)\n",
        "if output == 1:\n",
        "    print(\"correct coloring (graph is bipartite)\")\n",
        "else:\n",
        "    print(\"incorrect coloring\")\n",
        "print(circuit)"
      ]
    },
    {
      "cell_type": "markdown",
      "metadata": {
        "id": "cQKdOATjueWX"
      },
      "source": [
        "To check out our solution, run the next cell:"
      ]
    },
    {
      "cell_type": "code",
      "execution_count": null,
      "metadata": {
        "id": "9b38T-NyueWX"
      },
      "outputs": [],
      "source": [
        "SolutionToTask2()  # show solution for task 2"
      ]
    },
    {
      "cell_type": "markdown",
      "metadata": {
        "id": "pEZjpfCpueWX"
      },
      "source": [
        "Let's continue with the remaining steps of the oracle.\n",
        "\n",
        "3. The oracle flips the sign of the amplitude of the states which lead to $ \\ket{1} $ as the output. This can be easily done by applying a $Z$ gate: when in state $\\ket{1}$, the sign is flipped, and it does not change, otherwise.\n",
        "4. We reverse the whole computation done in the first 2 steps so that the oracle leaves all the qubits used in the computation in state $\\ket{0}$. This can be done by reversing every quantum operator before the $Z$ gate. (In Cirq, the method “inverse” can be used.) In this way, the only effect of the oracle is flipping the amplitude of the sign of the qubits representing the correct coloring.\n",
        "\n",
        "Now, our oracle is ready to be used as a part of Grover’s search algorithm.\n",
        "\n",
        "In the following code, we apply the oracle once and observe its effect. We start with an equal superposition of all possible coloring for the vertices (the first qubits)."
      ]
    },
    {
      "cell_type": "code",
      "execution_count": 6,
      "metadata": {
        "id": "WDPPo3hYueWX",
        "colab": {
          "base_uri": "https://localhost:8080/"
        },
        "outputId": "ab93382c-5036-4f52-a8f9-72d2f988d334"
      },
      "outputs": [
        {
          "output_type": "stream",
          "name": "stdout",
          "text": [
            "00000000 (0.25+0j)\n",
            "00010000 (0.25+0j)\n",
            "00100000 (0.25+0j)\n",
            "00110000 (-0.25+0j)\n",
            "01000000 (0.25+0j)\n",
            "01010000 (0.25+0j)\n",
            "01100000 (0.25+0j)\n",
            "01110000 (0.25+0j)\n",
            "10000000 (0.25+0j)\n",
            "10010000 (0.25+0j)\n",
            "10100000 (0.25+0j)\n",
            "10110000 (0.25+0j)\n",
            "11000000 (-0.25+0j)\n",
            "11010000 (0.25+0j)\n",
            "11100000 (0.25+0j)\n",
            "11110000 (0.25+0j)\n"
          ]
        }
      ],
      "source": [
        "import cirq\n",
        "from cirq import X, H, Z, inverse, CX\n",
        "s = cirq.Simulator()\n",
        "\n",
        "qq = cirq.LineQubit.range(8)\n",
        "\n",
        "def oracle():\n",
        "    # check 0-2 edge and store at 4th qubit\n",
        "    yield CX(qq[0], qq[4])\n",
        "    yield CX(qq[2], qq[4])\n",
        "    # check 0-3 edge and store at 5th qubit\n",
        "    yield CX(qq[0], qq[5])\n",
        "    yield CX(qq[3], qq[5])\n",
        "    # check 1-3 edge and store at 6th qubit\n",
        "    yield CX(qq[1], qq[6])\n",
        "    yield CX(qq[3], qq[6])\n",
        "\n",
        "    # check all edge qubits\n",
        "    yield X(qq[7]).controlled_by(*(qq[4:7]))\n",
        "\n",
        "def oracle_computation():\n",
        "    yield oracle()\n",
        "    yield Z(qq[7])\n",
        "    yield inverse(oracle())\n",
        "\n",
        "circuit = cirq.Circuit()\n",
        "circuit.append(H.on_each(*(qq[0:4])))\n",
        "circuit.append(oracle_computation())\n",
        "\n",
        "quantum_state = s.simulate(circuit).final_state_vector\n",
        "for i in range(len(quantum_state)):\n",
        "    if quantum_state[i] != 0.:\n",
        "        # format(i, 'b').zfill(8) takes care of nice printing\n",
        "        print(format(i, 'b').zfill(8), quantum_state[i])"
      ]
    },
    {
      "cell_type": "markdown",
      "metadata": {
        "id": "fPXIUFgKueWX"
      },
      "source": [
        "Note several important things here. The last four qubits are set to zero: these are edge checking and output qubit, and since they are set to zero, we can reuse them in further computation.\n",
        "\n",
        "As observed from the outcome, only the sign of the following states are flipped:\n",
        "$$\n",
        "\t\\ket{0011}\\ket{0000} \\mbox{ and } \\ket{1100}\\ket{0000}.\n",
        "$$\n",
        "\n",
        "In the first case, the vertices 0 and 1 are colored blue and the vertices 2 and 3 are colored red. In the second case, the first pair is colored red and the second one colored blue.\n"
      ]
    },
    {
      "cell_type": "markdown",
      "metadata": {
        "id": "g4FlzYvEueWX"
      },
      "source": [
        "### Task 3\n",
        "\n",
        "For the given graphs below, iterate Grover’s search algorithm 2 steps to find the correct colorings. (There are indeed $k=2$ possible colorings, and so the oracle should be applied $\\frac{\\pi}{4}\\sqrt{\\frac{2^4}{k}}\\approx 2$ times.)\n",
        "\n",
        "You will use nine qubits: 4 for vertices, 4 for edges, and 1 for the output qubit.\n",
        "\n",
        "The diffusion operator is provided below.\n",
        "\n",
        "Observe which outcomes have the higher frequencies.\n",
        "\n",
        "\n",
        "<img src=\"https://gitlab.com/qworld/qeducation/qbook101/raw/main/qbook101/images/ch4/completebipartite.png\" width=\"25%\" align=\"center\">"
      ]
    },
    {
      "cell_type": "code",
      "execution_count": 7,
      "metadata": {
        "id": "JZ2WrThqueWX",
        "colab": {
          "base_uri": "https://localhost:8080/"
        },
        "outputId": "da304397-cce6-45c0-b2cd-23b832974ed1"
      },
      "outputs": [
        {
          "output_type": "stream",
          "name": "stdout",
          "text": [
            "Counter({'1100': 497, '0011': 455, '0101': 8, '1101': 6, '1111': 5, '1010': 5, '0000': 5, '0100': 4, '0111': 4, '0010': 3, '1001': 2, '1011': 2, '0110': 2, '1110': 1, '1000': 1})\n"
          ]
        }
      ],
      "source": [
        "import cirq\n",
        "from cirq import X, H, Z, inverse, CX\n",
        "s = cirq.Simulator()\n",
        "\n",
        "qq = cirq.LineQubit.range(9)\n",
        "\n",
        "def oracle():\n",
        "    #\n",
        "    # your solution\n",
        "    #\n",
        "    yield CX(qq[0], qq[4])\n",
        "    yield CX(qq[2], qq[4])\n",
        "\n",
        "    yield CX(qq[0], qq[5])\n",
        "    yield CX(qq[3], qq[5])\n",
        "\n",
        "    yield CX(qq[1], qq[6])\n",
        "    yield CX(qq[2], qq[6])\n",
        "\n",
        "    yield CX(qq[1], qq[7])\n",
        "    yield CX(qq[3], qq[7])\n",
        "\n",
        "    yield X(qq[8]).controlled_by(*qq[4:8])\n",
        "\n",
        "def oracle_computation():\n",
        "    #\n",
        "    # your solution\n",
        "    #\n",
        "    yield oracle()\n",
        "    yield Z(qq[8])\n",
        "    yield inverse(oracle())\n",
        "\n",
        "def grover_diffusion():\n",
        "    yield H.on_each(*qq)\n",
        "    yield X.on_each(*qq)\n",
        "    yield Z(qq[3]).controlled_by(*(qq[0:3]))\n",
        "    yield X.on_each(*qq)\n",
        "    yield H.on_each(*qq)\n",
        "\n",
        "circuit = cirq.Circuit()\n",
        "circuit.append(H.on_each(*(qq[0:4])))\n",
        "\n",
        "for i in range(2):\n",
        "    circuit.append(oracle_computation())\n",
        "    circuit.append(grover_diffusion())\n",
        "\n",
        "# we are only intertested in outputs of first 4 qubits\n",
        "circuit.append(cirq.measure(*(qq[0:4]), key='result'))\n",
        "\n",
        "# determine the statistics of the measurements\n",
        "trials_number = 1000\n",
        "samples = s.run(circuit, repetitions=trials_number)\n",
        "result = samples.measurements[\"result\"]\n",
        "\n",
        "# create an histogram of the result\n",
        "def bitstring(bits):\n",
        "    return \"\".join(str(int(b)) for b in bits)\n",
        "\n",
        "counts = samples.histogram(key=\"result\",fold_func=bitstring)\n",
        "print(counts)"
      ]
    },
    {
      "cell_type": "markdown",
      "metadata": {
        "id": "IELM_QhlueWY"
      },
      "source": [
        "To check out our solution, run the next cell:"
      ]
    },
    {
      "cell_type": "code",
      "execution_count": null,
      "metadata": {
        "id": "NK820ilBueWY"
      },
      "outputs": [],
      "source": [
        "SolutionToTask3()  # show solution for task 3"
      ]
    },
    {
      "cell_type": "markdown",
      "metadata": {
        "id": "jIMnPMeeueWY"
      },
      "source": [
        "### Task 4\n",
        "\n",
        "Repeat Task 3 for the following graph.\n",
        "\n",
        "Does the following graph has any correct colorings or not? If not, what would you say in advance about the frequencies of the outcomes?\n",
        "\n",
        "\n",
        "<img src=\"https://gitlab.com/qworld/qeducation/qbook101/raw/main/qbook101/images/ch4/nonbipartite.png\" width=\"25%\" align=\"center\">"
      ]
    },
    {
      "cell_type": "code",
      "execution_count": 8,
      "metadata": {
        "id": "HQ5QfKZlueWY",
        "colab": {
          "base_uri": "https://localhost:8080/"
        },
        "outputId": "e65c30ef-3d8b-42ad-d1ae-9c70efe6f20a"
      },
      "outputs": [
        {
          "output_type": "stream",
          "name": "stdout",
          "text": [
            "Counter({'1011': 75, '0100': 71, '0110': 69, '0001': 64, '1101': 64, '0101': 63, '0010': 61, '1111': 61, '0011': 60, '0000': 60, '1000': 60, '1010': 59, '1110': 59, '1100': 59, '1001': 58, '0111': 57})\n"
          ]
        }
      ],
      "source": [
        "import cirq\n",
        "from cirq import X, H, Z, inverse, CX\n",
        "s = cirq.Simulator()\n",
        "\n",
        "qq = cirq.LineQubit.range(9)\n",
        "\n",
        "def oracle():\n",
        "    #\n",
        "    # your solution\n",
        "    #\n",
        "    yield CX(qq[0], qq[4])\n",
        "    yield CX(qq[2], qq[4])\n",
        "\n",
        "    yield CX(qq[0], qq[5])\n",
        "    yield CX(qq[3], qq[5])\n",
        "\n",
        "    yield CX(qq[0], qq[6])\n",
        "    yield CX(qq[1], qq[6])\n",
        "\n",
        "    yield CX(qq[1], qq[7])\n",
        "    yield CX(qq[3], qq[7])\n",
        "\n",
        "    yield X(qq[8]).controlled_by(*qq[4:8])\n",
        "\n",
        "def oracle_computation():\n",
        "    #\n",
        "    # your solution\n",
        "    #\n",
        "    yield oracle()\n",
        "    yield Z(qq[8])\n",
        "    yield inverse(oracle())\n",
        "\n",
        "def grover_diffusion():\n",
        "    yield H.on_each(*qq)\n",
        "    yield X.on_each(*qq)\n",
        "    yield Z(qq[3]).controlled_by(*(qq[0:3]))\n",
        "    yield X.on_each(*qq)\n",
        "    yield H.on_each(*qq)\n",
        "\n",
        "circuit = cirq.Circuit()\n",
        "circuit.append(H.on_each(*(qq[0:4])))\n",
        "\n",
        "for i in range(2):\n",
        "    circuit.append(oracle())\n",
        "    circuit.append(grover_diffusion())\n",
        "\n",
        "# we are only intertested in outputs of first 4 qubits\n",
        "circuit.append(cirq.measure(*(qq[0:4]), key='result'))\n",
        "\n",
        "# determine the statistics of the measurements\n",
        "trials_number = 1000\n",
        "samples = s.run(circuit, repetitions=trials_number)\n",
        "result = samples.measurements[\"result\"]\n",
        "\n",
        "# create an histogram of the result\n",
        "def bitstring(bits):\n",
        "    return \"\".join(str(int(b)) for b in bits)\n",
        "\n",
        "counts = samples.histogram(key=\"result\",fold_func=bitstring)\n",
        "print(counts)"
      ]
    },
    {
      "cell_type": "markdown",
      "metadata": {
        "id": "jKE1xp1XueWY"
      },
      "source": [
        "To check out our solution, run the next cell:"
      ]
    },
    {
      "cell_type": "code",
      "execution_count": null,
      "metadata": {
        "id": "6sCtRHw9ueWY"
      },
      "outputs": [],
      "source": [
        "SolutionToTask4()  # show solution for task 4"
      ]
    },
    {
      "cell_type": "markdown",
      "metadata": {
        "id": "erwlU0N5ueWY"
      },
      "source": [
        "## Conclusion\n",
        "\n",
        "\n",
        "Here we implement Grover's search algorithm to find 2-coloring of a graph which helps us to determine whether a graph is bipartite or not. When the given graph is bipartite, then solving Max-Cut problem for the given graph becomes trivial.\n",
        "\n",
        "We should note that our algorithm takes $O(\\sqrt{2^n})$ steps, but this problem can be solved classically in $O(n^2)$ steps. On the other hand, we see this application as a pedagogical example of how to design an oracle and then apply Grover’s search algorithm for a well-known problem on graphs.\n",
        "\n",
        "In the following notebooks, we will construct an oracle which solves Max-Cut problem for any arbitrary graph."
      ]
    }
  ],
  "metadata": {
    "kernelspec": {
      "display_name": "Python 3 (ipykernel)",
      "language": "python",
      "name": "python3"
    },
    "language_info": {
      "codemirror_mode": {
        "name": "ipython",
        "version": 3
      },
      "file_extension": ".py",
      "mimetype": "text/x-python",
      "name": "python",
      "nbconvert_exporter": "python",
      "pygments_lexer": "ipython3",
      "version": "3.11.4"
    },
    "colab": {
      "provenance": [],
      "collapsed_sections": [
        "bOliEdPhueWV"
      ],
      "include_colab_link": true
    }
  },
  "nbformat": 4,
  "nbformat_minor": 0
}